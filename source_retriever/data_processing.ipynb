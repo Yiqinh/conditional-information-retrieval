{
 "cells": [
  {
   "cell_type": "code",
   "execution_count": 30,
   "metadata": {},
   "outputs": [],
   "source": [
    "import os\n",
    "import json\n",
    "import logging\n",
    "import argparse\n",
    "import torch\n"
   ]
  },
  {
   "cell_type": "code",
   "execution_count": 31,
   "metadata": {},
   "outputs": [],
   "source": [
    "here = \"/Users/yiqinhuang/NLP/conditional-information-retrieval/source_retriever\""
   ]
  },
  {
   "cell_type": "code",
   "execution_count": 32,
   "metadata": {},
   "outputs": [],
   "source": [
    "info_dir = os.path.join(os.path.dirname(here), \"source_summaries\", \"v2_info_parsed\")\n",
    "\n",
    "f = open(os.path.join(info_dir, \"v2_test_set.json\"))\n",
    "test_data = json.load(f)\n",
    "\n",
    "f = open(os.path.join(info_dir, \"v2_train_set.json\"))\n",
    "train_data = json.load(f)\n",
    "\n",
    "new_urls = set()\n",
    "\n",
    "for article in test_data:\n",
    "    new_urls.add(article['url'])\n",
    "\n",
    "for article in train_data:\n",
    "    new_urls.add(article['url'])"
   ]
  },
  {
   "cell_type": "code",
   "execution_count": 33,
   "metadata": {},
   "outputs": [],
   "source": [
    "narr_dir = os.path.join(os.path.dirname(here), \"source_summaries\", \"v2_narr_parsed\")\n",
    "\n",
    "f = open(os.path.join(narr_dir, \"v2_test_set_narr.json\"))\n",
    "test_narr_data = json.load(f)\n",
    "\n",
    "f = open(os.path.join(narr_dir, \"v2_train_set_narr.json\"))\n",
    "train_narr_data = json.load(f)\n",
    "\n",
    "narr_urls = set()\n",
    "\n",
    "for article in test_narr_data:\n",
    "    narr_urls.add(article['url'])\n",
    "\n",
    "for article in train_narr_data:\n",
    "    narr_urls.add(article['url'])"
   ]
  },
  {
   "cell_type": "code",
   "execution_count": 34,
   "metadata": {},
   "outputs": [
    {
     "name": "stdout",
     "output_type": "stream",
     "text": [
      "Processing file: article_sum__270000_300000.json\n",
      "Processing file: article_sum__150000_180000.json\n",
      "Processing file: article_sum__30000_60000.json\n",
      "Processing file: article_sum__90000_120000.json\n",
      "Processing file: article_sum__120000_150000.json\n",
      "Processing file: article_sum__0_30000.json\n",
      "Processing file: article_sum__180000_210000.json\n",
      "Processing file: article_sum__60000_90000.json\n",
      "Processing file: article_sum__240000_270000.json\n",
      "Processing file: article_sum__210000_240000.json\n"
     ]
    }
   ],
   "source": [
    "query_urls = set()\n",
    "url_to_query = {}\n",
    "\n",
    "directory = os.path.join(os.path.dirname(here), 'baseline_queries', 'llm_output')\n",
    "\n",
    "for filename in os.listdir(directory):\n",
    "    file_path = os.path.join(directory, filename)\n",
    "    if os.path.isfile(file_path) and \".DS_Store\" not in file_path:\n",
    "        # Process the file\n",
    "        print(f\"Processing file: {filename}\")\n",
    "        f = open(file_path)\n",
    "        data = json.load(f)\n",
    "        for article in data:\n",
    "            query_urls.add(article['url'])\n",
    "            url_to_query[article['url']] = article['query'].split('/n/n')[-1]"
   ]
  },
  {
   "cell_type": "code",
   "execution_count": 35,
   "metadata": {},
   "outputs": [
    {
     "name": "stdout",
     "output_type": "stream",
     "text": [
      "300000\n"
     ]
    }
   ],
   "source": [
    "print(len(query_urls))"
   ]
  },
  {
   "cell_type": "code",
   "execution_count": 36,
   "metadata": {},
   "outputs": [
    {
     "name": "stdout",
     "output_type": "stream",
     "text": [
      "58098\n"
     ]
    }
   ],
   "source": [
    "print(len(new_urls))"
   ]
  },
  {
   "cell_type": "code",
   "execution_count": 37,
   "metadata": {},
   "outputs": [
    {
     "name": "stdout",
     "output_type": "stream",
     "text": [
      "57187\n"
     ]
    }
   ],
   "source": [
    "print(len(narr_urls))"
   ]
  },
  {
   "cell_type": "code",
   "execution_count": 38,
   "metadata": {},
   "outputs": [],
   "source": [
    "overlap = query_urls & new_urls & narr_urls"
   ]
  },
  {
   "cell_type": "code",
   "execution_count": 39,
   "metadata": {},
   "outputs": [
    {
     "name": "stdout",
     "output_type": "stream",
     "text": [
      "55403\n"
     ]
    }
   ],
   "source": [
    "print(len(overlap))"
   ]
  },
  {
   "cell_type": "code",
   "execution_count": 40,
   "metadata": {},
   "outputs": [
    {
     "name": "stdout",
     "output_type": "stream",
     "text": [
      "56289\n"
     ]
    }
   ],
   "source": [
    "query_new = query_urls & new_urls\n",
    "print(len(query_new))"
   ]
  },
  {
   "cell_type": "code",
   "execution_count": 41,
   "metadata": {},
   "outputs": [
    {
     "name": "stdout",
     "output_type": "stream",
     "text": [
      "300000\n"
     ]
    }
   ],
   "source": [
    "print(len(url_to_query))\n"
   ]
  },
  {
   "cell_type": "code",
   "execution_count": 52,
   "metadata": {},
   "outputs": [],
   "source": [
    "from collections import defaultdict\n",
    "test_res = defaultdict(dict)\n",
    "\n",
    "for article in test_data:\n",
    "    if article['url'] in query_urls:\n",
    "        test_res[article['url']]['url'] = article['url']\n",
    "        test_res[article['url']]['sources'] = article['sources']\n",
    "        test_res[article['url']]['query'] = url_to_query[article['url']]\n",
    "\n",
    "train_res = defaultdict(dict)\n",
    "\n",
    "for article in train_data:\n",
    "    if article['url'] in query_urls:\n",
    "        train_res[article['url']]['url'] = article['url']\n",
    "        train_res[article['url']]['sources'] = article['sources']\n",
    "        train_res[article['url']]['query'] = url_to_query[article['url']]\n",
    "\n",
    "\n"
   ]
  },
  {
   "cell_type": "code",
   "execution_count": 53,
   "metadata": {},
   "outputs": [
    {
     "name": "stdout",
     "output_type": "stream",
     "text": [
      "11274\n",
      "45025\n",
      "56299\n"
     ]
    }
   ],
   "source": [
    "print(len(test_res))\n",
    "print(len(train_res))\n",
    "print(len(test_res) + len(train_res))\n"
   ]
  },
  {
   "cell_type": "code",
   "execution_count": 60,
   "metadata": {},
   "outputs": [],
   "source": [
    "combined_test_v2 = [dict for url, dict in test_res.items()]\n",
    "combined_train_v2 = [dict for url, dict in train_res.items()]"
   ]
  },
  {
   "cell_type": "code",
   "execution_count": 61,
   "metadata": {},
   "outputs": [
    {
     "name": "stdout",
     "output_type": "stream",
     "text": [
      "11274\n",
      "45025\n"
     ]
    }
   ],
   "source": [
    "print(len(combined_test_v2))\n",
    "print(len(combined_train_v2))"
   ]
  },
  {
   "cell_type": "code",
   "execution_count": 62,
   "metadata": {},
   "outputs": [],
   "source": [
    "with open('../source_summaries/v2_info_parsed/combined_test_v2.json', 'w') as file:\n",
    "    json.dump(combined_test_v2, file, indent=4)\n",
    "\n",
    "with open('../source_summaries/v2_info_parsed/combined_train_v2.json', 'w') as file:\n",
    "    json.dump(combined_train_v2, file, indent=4)\n"
   ]
  },
  {
   "cell_type": "code",
   "execution_count": 5,
   "metadata": {},
   "outputs": [],
   "source": [
    "import json\n",
    "f = open(\"v2_search_res/v2_search_test_1000.json\")\n",
    "search = json.load(f)"
   ]
  },
  {
   "cell_type": "code",
   "execution_count": 14,
   "metadata": {},
   "outputs": [
    {
     "ename": "IndexError",
     "evalue": "list index out of range",
     "output_type": "error",
     "traceback": [
      "\u001b[0;31m---------------------------------------------------------------------------\u001b[0m",
      "\u001b[0;31mIndexError\u001b[0m                                Traceback (most recent call last)",
      "Cell \u001b[0;32mIn[14], line 1\u001b[0m\n\u001b[0;32m----> 1\u001b[0m \u001b[38;5;28mprint\u001b[39m(\u001b[38;5;124m\"\u001b[39m\u001b[38;5;124mGOAL\u001b[39m\u001b[38;5;124m\"\u001b[39m, \u001b[43msearch\u001b[49m\u001b[43m[\u001b[49m\u001b[38;5;241;43m2\u001b[39;49m\u001b[43m]\u001b[49m[\u001b[38;5;124m'\u001b[39m\u001b[38;5;124murl\u001b[39m\u001b[38;5;124m'\u001b[39m])\n\u001b[1;32m      3\u001b[0m \u001b[38;5;28;01mfor\u001b[39;00m s \u001b[38;5;129;01min\u001b[39;00m search[\u001b[38;5;241m1\u001b[39m][\u001b[38;5;124m'\u001b[39m\u001b[38;5;124mdr_sources\u001b[39m\u001b[38;5;124m'\u001b[39m]:\n\u001b[1;32m      4\u001b[0m     \u001b[38;5;28mprint\u001b[39m(s[\u001b[38;5;124m'\u001b[39m\u001b[38;5;124mid\u001b[39m\u001b[38;5;124m'\u001b[39m])\n",
      "\u001b[0;31mIndexError\u001b[0m: list index out of range"
     ]
    }
   ],
   "source": [
    "print(\"GOAL\", search[1]['url'])\n",
    "\n",
    "for s in search[1]['dr_sources']:\n",
    "    print(s['id'])"
   ]
  },
  {
   "cell_type": "code",
   "execution_count": null,
   "metadata": {},
   "outputs": [],
   "source": []
  }
 ],
 "metadata": {
  "kernelspec": {
   "display_name": "nlp_env",
   "language": "python",
   "name": "python3"
  },
  "language_info": {
   "codemirror_mode": {
    "name": "ipython",
    "version": 3
   },
   "file_extension": ".py",
   "mimetype": "text/x-python",
   "name": "python",
   "nbconvert_exporter": "python",
   "pygments_lexer": "ipython3",
   "version": "3.11.9"
  }
 },
 "nbformat": 4,
 "nbformat_minor": 2
}

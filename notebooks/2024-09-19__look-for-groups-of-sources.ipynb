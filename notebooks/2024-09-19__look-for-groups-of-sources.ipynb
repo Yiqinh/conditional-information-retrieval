{
 "cells": [
  {
   "cell_type": "code",
   "execution_count": 13,
   "id": "40fc837f-80b8-4f21-a5e3-ab187d3fa295",
   "metadata": {},
   "outputs": [],
   "source": [
    "import pandas as pd \n",
    "import json"
   ]
  },
  {
   "cell_type": "code",
   "execution_count": 120,
   "id": "c3e71c9e-6acb-4c6c-a5fa-b9d849e5e65b",
   "metadata": {},
   "outputs": [],
   "source": [
    "train_queries = json.load(open('../data/v2_queries/query_train_prompt1_v2.json'))\n",
    "test_queries = json.load(open('../data/v2_queries/query_test_prompt1_v2.json'))\n",
    "train_query_df = pd.DataFrame(train_queries)\n",
    "train_query_df['split'] = 'train'\n",
    "test_query_df = pd.DataFrame(test_queries)\n",
    "test_query_df['split'] = 'test'\n",
    "full_query_df = pd.concat([train_query_df, test_query_df])"
   ]
  },
  {
   "cell_type": "code",
   "execution_count": 121,
   "id": "ef42afbb-274d-4a33-8944-b42c8e703762",
   "metadata": {},
   "outputs": [],
   "source": [
    "test_narr = json.load(open('../data/v2_narr_parsed/v2_test_set_narr.json'))\n",
    "train_narr = json.load(open('../data/v2_narr_parsed/v2_train_set_narr.json'))"
   ]
  },
  {
   "cell_type": "code",
   "execution_count": 122,
   "id": "1896e8cd-1d1f-45d1-8815-fe5c72021ba7",
   "metadata": {},
   "outputs": [],
   "source": [
    "narr_df = pd.concat([\n",
    "    pd.DataFrame(train_narr),\n",
    "    pd.DataFrame(test_narr)\n",
    "])\n",
    "source_narr_df = narr_df.explode('sources').dropna().reset_index(drop=True)\n",
    "source_narr_df = pd.concat([\n",
    "    source_narr_df[['url']],\n",
    "    source_narr_df['sources'].pipe(lambda s: pd.DataFrame(s.tolist()))\n",
    "], axis=1)"
   ]
  },
  {
   "cell_type": "code",
   "execution_count": 123,
   "id": "eb369877-7ba9-4df2-8ead-308055e69fe4",
   "metadata": {},
   "outputs": [
    {
     "data": {
      "text/html": [
       "<div>\n",
       "<style scoped>\n",
       "    .dataframe tbody tr th:only-of-type {\n",
       "        vertical-align: middle;\n",
       "    }\n",
       "\n",
       "    .dataframe tbody tr th {\n",
       "        vertical-align: top;\n",
       "    }\n",
       "\n",
       "    .dataframe thead th {\n",
       "        text-align: right;\n",
       "    }\n",
       "</style>\n",
       "<table border=\"1\" class=\"dataframe\">\n",
       "  <thead>\n",
       "    <tr style=\"text-align: right;\">\n",
       "      <th></th>\n",
       "      <th>url</th>\n",
       "      <th>Name</th>\n",
       "      <th>Original Name</th>\n",
       "      <th>Narrative Function</th>\n",
       "      <th>cluster_descript_leaf_1</th>\n",
       "      <th>cluster_descript_leaf_2</th>\n",
       "      <th>cluster_descript_leaf_3</th>\n",
       "      <th>cluster_descript_leaf_4</th>\n",
       "      <th>cluster_descript_leaf_5</th>\n",
       "    </tr>\n",
       "  </thead>\n",
       "  <tbody>\n",
       "    <tr>\n",
       "      <th>0</th>\n",
       "      <td>www.theatlantic.com/sponsored/qualcomm-2016/th...</td>\n",
       "      <td>Qualcomm</td>\n",
       "      <td>Qualcomm</td>\n",
       "      <td>\"Sponsor\": This source is the sponsor of the c...</td>\n",
       "      <td>\"Commercial Content\": This source is used for ...</td>\n",
       "      <td>\"Promotional Materials\": These sources are use...</td>\n",
       "      <td>\"Informative Source\": These sources provide co...</td>\n",
       "      <td>\"Insightful Narratives\": These sources offer d...</td>\n",
       "      <td>\"Credible Narratives\": These sources offer com...</td>\n",
       "    </tr>\n",
       "    <tr>\n",
       "      <th>1</th>\n",
       "      <td>www.theatlantic.com/sponsored/qualcomm-2016/th...</td>\n",
       "      <td>Researchers</td>\n",
       "      <td>researchers</td>\n",
       "      <td>\"Authority\": This source is used to provide in...</td>\n",
       "      <td>\"Expert Endorsement\": These sources are used t...</td>\n",
       "      <td>\"Expert Authority\": These sources provide auth...</td>\n",
       "      <td>\"Credible Authority\": These sources provide re...</td>\n",
       "      <td>\"Expert Validation\": These sources provide rel...</td>\n",
       "      <td>\"Credible Narratives\": These sources offer com...</td>\n",
       "    </tr>\n",
       "  </tbody>\n",
       "</table>\n",
       "</div>"
      ],
      "text/plain": [
       "                                                 url         Name  \\\n",
       "0  www.theatlantic.com/sponsored/qualcomm-2016/th...     Qualcomm   \n",
       "1  www.theatlantic.com/sponsored/qualcomm-2016/th...  Researchers   \n",
       "\n",
       "  Original Name                                 Narrative Function  \\\n",
       "0      Qualcomm  \"Sponsor\": This source is the sponsor of the c...   \n",
       "1   researchers  \"Authority\": This source is used to provide in...   \n",
       "\n",
       "                             cluster_descript_leaf_1  \\\n",
       "0  \"Commercial Content\": This source is used for ...   \n",
       "1  \"Expert Endorsement\": These sources are used t...   \n",
       "\n",
       "                             cluster_descript_leaf_2  \\\n",
       "0  \"Promotional Materials\": These sources are use...   \n",
       "1  \"Expert Authority\": These sources provide auth...   \n",
       "\n",
       "                             cluster_descript_leaf_3  \\\n",
       "0  \"Informative Source\": These sources provide co...   \n",
       "1  \"Credible Authority\": These sources provide re...   \n",
       "\n",
       "                             cluster_descript_leaf_4  \\\n",
       "0  \"Insightful Narratives\": These sources offer d...   \n",
       "1  \"Expert Validation\": These sources provide rel...   \n",
       "\n",
       "                             cluster_descript_leaf_5  \n",
       "0  \"Credible Narratives\": These sources offer com...  \n",
       "1  \"Credible Narratives\": These sources offer com...  "
      ]
     },
     "execution_count": 123,
     "metadata": {},
     "output_type": "execute_result"
    }
   ],
   "source": [
    "source_df_with_clusters.head(2)"
   ]
  },
  {
   "cell_type": "code",
   "execution_count": 124,
   "id": "f5bf0a6e-e218-4be4-80db-dc4f4b5fc8e7",
   "metadata": {},
   "outputs": [],
   "source": [
    "# source_narr_df[['url', 'Name', 'Perspective', 'Centrality']].merge(source_df_with_clusters, on=['url', 'Name'])"
   ]
  },
  {
   "cell_type": "code",
   "execution_count": 125,
   "id": "1616f618-e54a-4788-af82-ae874c660322",
   "metadata": {},
   "outputs": [],
   "source": [
    "source_df_with_clusters = pd.read_csv('cache/2024-09-19__source-df-with-all-clusters.csv', index_col=0)"
   ]
  },
  {
   "cell_type": "code",
   "execution_count": 126,
   "id": "4baed85a-425d-4a8a-b3e9-8747fb6b98e5",
   "metadata": {},
   "outputs": [],
   "source": [
    "source_df_with_clusters_and_queries = source_df_with_clusters.merge(full_query_df)"
   ]
  },
  {
   "cell_type": "code",
   "execution_count": 129,
   "id": "59d52b0a-f58b-481b-a40d-7d20ff442d88",
   "metadata": {},
   "outputs": [],
   "source": [
    "to_process = ['Narrative Function', 'cluster_descript_leaf_1', 'cluster_descript_leaf_2', 'cluster_descript_leaf_3', 'cluster_descript_leaf_4', 'cluster_descript_leaf_5']\n",
    "source_df_with_clusters_and_queries[to_process] = (\n",
    "    source_df_with_clusters_and_queries\n",
    "     [to_process]\n",
    "     .apply(lambda s: s.str.split(':').str.get(0).str.split('\\n\\n').str.get(0).str.strip().str.replace('\"', ''))\n",
    ")"
   ]
  },
  {
   "cell_type": "code",
   "execution_count": 130,
   "id": "4c8c90e2-e3ee-4e20-a3b2-d367cd505d81",
   "metadata": {},
   "outputs": [],
   "source": [
    "broad_clusters_categories = (\n",
    "    source_df_with_clusters_and_queries\n",
    "         .groupby('url')['cluster_descript_leaf_5']\n",
    "         .value_counts()\n",
    "         .unstack()\n",
    ")"
   ]
  },
  {
   "cell_type": "code",
   "execution_count": 175,
   "id": "a30565c8-5784-4ea2-b263-2eb9c71f541c",
   "metadata": {},
   "outputs": [],
   "source": [
    "training_data = (\n",
    "    broad_clusters_categories\n",
    "        .fillna(0)\n",
    "        .pipe(lambda df: (df > 0).astype(float))\n",
    "        .merge(full_query_df, right_on='url', left_index=True, how='left')\n",
    ")\n",
    "#.pipe(lambda df: df.divide(df.sum(axis=1), axis=0))#.sort_values('Contextual Narratives', ascending=False))"
   ]
  },
  {
   "cell_type": "markdown",
   "id": "1f17b38c-6359-4999-b1fc-6a5e7ed98d70",
   "metadata": {},
   "source": [
    "# Train BERT Classifier"
   ]
  },
  {
   "cell_type": "code",
   "execution_count": 182,
   "id": "bf59c7fb-963a-4e1c-99c6-abb569d9e87b",
   "metadata": {},
   "outputs": [],
   "source": [
    "training_data.to_csv('../narrative_function/bert_training_data.csv')"
   ]
  },
  {
   "cell_type": "code",
   "execution_count": null,
   "id": "a2fad51c-6441-4034-b315-cee61acfcee6",
   "metadata": {},
   "outputs": [],
   "source": []
  },
  {
   "cell_type": "code",
   "execution_count": null,
   "id": "86b0e506-e93e-47c1-b736-0c815198c092",
   "metadata": {},
   "outputs": [],
   "source": []
  },
  {
   "cell_type": "code",
   "execution_count": null,
   "id": "928ac541-6b32-489c-8f85-198d75c53d92",
   "metadata": {},
   "outputs": [],
   "source": []
  },
  {
   "cell_type": "code",
   "execution_count": null,
   "id": "a0b4c606-e067-4416-b79d-a1ca6264d926",
   "metadata": {},
   "outputs": [],
   "source": []
  },
  {
   "cell_type": "code",
   "execution_count": null,
   "id": "0d1a6c18-7c93-458e-bf6c-1c478e8bd95c",
   "metadata": {},
   "outputs": [],
   "source": []
  }
 ],
 "metadata": {
  "kernelspec": {
   "display_name": "Python 3 (ipykernel)",
   "language": "python",
   "name": "python3"
  },
  "language_info": {
   "codemirror_mode": {
    "name": "ipython",
    "version": 3
   },
   "file_extension": ".py",
   "mimetype": "text/x-python",
   "name": "python",
   "nbconvert_exporter": "python",
   "pygments_lexer": "ipython3",
   "version": "3.12.2"
  }
 },
 "nbformat": 4,
 "nbformat_minor": 5
}

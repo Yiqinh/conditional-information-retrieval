{
 "cells": [
  {
   "cell_type": "code",
   "execution_count": 1,
   "metadata": {},
   "outputs": [
    {
     "name": "stderr",
     "output_type": "stream",
     "text": [
      "/Users/yiqinhuang/anaconda3/envs/nlp_env/lib/python3.11/site-packages/tqdm/auto.py:21: TqdmWarning: IProgress not found. Please update jupyter and ipywidgets. See https://ipywidgets.readthedocs.io/en/stable/user_install.html\n",
      "  from .autonotebook import tqdm as notebook_tqdm\n"
     ]
    }
   ],
   "source": [
    "import json\n",
    "import sys\n",
    "import os\n",
    "import logging\n",
    "import argparse\n",
    "from tqdm.auto import tqdm\n"
   ]
  },
  {
   "cell_type": "code",
   "execution_count": 5,
   "metadata": {},
   "outputs": [
    {
     "name": "stdout",
     "output_type": "stream",
     "text": [
      "A TOTAL OF 487422 INCLUDED IN THE SEARCH\n"
     ]
    }
   ],
   "source": [
    "included_docs = set() \n",
    "\n",
    "file_path = os.path.join(\"v2_info_parsed\", \"combined_train_prompt1_v2.json\")\n",
    "with open(file_path, 'r') as file:\n",
    "    articles = json.load(file)\n",
    "    for article in articles:\n",
    "        url = article['url']\n",
    "        for doc in article['sources']:\n",
    "            id = url + \"#\" + doc[\"Name\"]\n",
    "            included_docs.add(id)\n",
    "\n",
    "file_path = os.path.join(\"v2_info_parsed\", \"combined_test_prompt1_v2.json\")\n",
    "with open(file_path, 'r') as file:\n",
    "    articles = json.load(file)\n",
    "    for article in articles:\n",
    "        url = article['url']\n",
    "        for doc in article['sources']:\n",
    "            id = url + \"#\" + doc[\"Name\"]\n",
    "            included_docs.add(id)\n",
    "\n",
    "print(f\"A TOTAL OF {len(included_docs)} INCLUDED IN THE SEARCH\")\n"
   ]
  },
  {
   "cell_type": "code",
   "execution_count": null,
   "metadata": {},
   "outputs": [],
   "source": []
  }
 ],
 "metadata": {
  "kernelspec": {
   "display_name": "nlp_env",
   "language": "python",
   "name": "python3"
  },
  "language_info": {
   "codemirror_mode": {
    "name": "ipython",
    "version": 3
   },
   "file_extension": ".py",
   "mimetype": "text/x-python",
   "name": "python",
   "nbconvert_exporter": "python",
   "pygments_lexer": "ipython3",
   "version": "3.11.9"
  }
 },
 "nbformat": 4,
 "nbformat_minor": 2
}

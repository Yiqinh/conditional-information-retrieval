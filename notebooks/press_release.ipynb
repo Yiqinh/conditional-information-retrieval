{
 "cells": [
  {
   "cell_type": "code",
   "execution_count": 1,
   "metadata": {},
   "outputs": [],
   "source": [
    "import pandas as pd\n",
    "from datasets import load_from_disk"
   ]
  },
  {
   "cell_type": "code",
   "execution_count": 5,
   "metadata": {},
   "outputs": [],
   "source": [
    "import pandas as pd\n",
    "import numpy as np\n",
    "from tqdm.auto import tqdm\n",
    "# data_dir = '../data'\n",
    "data_dir = '../../../bloomberg-research/press-releases/data/s_p_500_backlinks'\n",
    "# source_df = pd.read_json(f'{data_dir}/full-source-scored-data.jsonl.gz', lines=True, compression='gzip')"
   ]
  },
  {
   "cell_type": "code",
   "execution_count": 7,
   "metadata": {},
   "outputs": [
    {
     "data": {
      "application/vnd.jupyter.widget-view+json": {
       "model_id": "4cf47d269b69476fb711cb306719d3f3",
       "version_major": 2,
       "version_minor": 0
      },
      "text/plain": [
       "Loading dataset from disk:   0%|          | 0/41 [00:00<?, ?it/s]"
      ]
     },
     "metadata": {},
     "output_type": "display_data"
    }
   ],
   "source": [
    "article_d = load_from_disk(f'{data_dir}/all-coref-resolved')"
   ]
  },
  {
   "cell_type": "code",
   "execution_count": 9,
   "metadata": {},
   "outputs": [],
   "source": [
    "candidate_df = pd.read_csv('../press_release_summaries/news_articles_covering_the_same_press_releases.csv')\n",
    "pr_url_set = set(candidate_df['Target URL'].drop_duplicates().values)\n",
    "filtered_pr_d = article_d.filter(lambda x: x['article_url'] in pr_url_set, num_proc=10)\n",
    "filtered_pr_df = filtered_pr_d.to_pandas()"
   ]
  },
  {
   "cell_type": "code",
   "execution_count": 12,
   "metadata": {},
   "outputs": [
    {
     "name": "stdout",
     "output_type": "stream",
     "text": [
      "['The agreement in principle will resolve actual and potential civil claims by the U.S. Department of Justice, the New York and Illinois Attorneys General, the National Credit Union Administration (as conservator for several failed credit unions) and the Federal Home Loan Banks of Chicago and Seattle, relating to the firmas securitization, underwriting and sale of residential mortgage-backed securities from 2005 to 2007.'\n",
      " 'The agreement in principle will reduce earnings for the fourth quarter of 2015 by approximately $1.5 billion on an after-tax basis.'\n",
      " 'Under the terms of the agreement in principle, the firm will pay a $2.385 billion civil monetary penalty, make $875 million in cash payments and provide $1.8 billion in consumer relief.'\n",
      " 'The consumer relief will be in the form of principal forgiveness for underwater homeowners and distressed borrowers; financing for construction, rehabilitation and preservation of affordable housing; and support for debt restructuring, foreclosure prevention and housing quality improvement programs, as well as land banks.'\n",
      " 'Lloyd C. Blankfein, Chairman and Chief Executive Officer of The Goldman Sachs Group, Inc., stated, aWe are pleased to have reached an agreement in principle to resolve these matters.a The agreement in principle is subject to the negotiation of definitive documentation, and there can be no assurance that the firm, the U.S. Department of Justice and the other applicable governmental authorities will agree on the definitive documentation.'\n",
      " 'The Goldman Sachs Group, Inc. is a leading global investment banking, securities and investment management firm that provides a wide range of financial services to a substantial and diversified client base that includes corporations, financial institutions, governments and high-net-worth individuals.'\n",
      " 'Founded in 1869, the firm is headquartered in New York and maintains offices in all major financial centers around the world.'\n",
      " 'Forward-looking statements are not historical facts, but instead represent only the firmas beliefs regarding future events, certain of which, by their nature, are inherently uncertain and outside the firmas control.'\n",
      " 'The firm has included in this press release, and directors, officers and employees of the firm may provide, information about the agreement in principle to resolve the RMBS Working Group investigation and its impact on the firmas results of operations, financial condition and cash flows.'\n",
      " 'The statements with respect to the agreement in principle, including the reduction in earnings for the fourth quarter of 2015, are forward-looking statements, based on the firmas current expectations regarding the ultimate terms of the definitive settlement documentation.'\n",
      " 'Accordingly, the effects of the definitive settlement, as well as the firmas ability to negotiate definitive documentation for the settlement, may change, possibly materially, from what is currently expected.'\n",
      " 'For a discussion of some of the other risks and important factors that could affect the firmas results of operations, financial condition and cash flows, see aRisk Factorsa in Part I, Item 1A of the firmas Annual Report on Form 10-K for the year ended December 31, 2014. # # #']\n"
     ]
    }
   ],
   "source": [
    "print(filtered_pr_df.iloc[0]['sent_lists'])"
   ]
  },
  {
   "cell_type": "code",
   "execution_count": 13,
   "metadata": {},
   "outputs": [
    {
     "data": {
      "text/plain": [
       "\"MINNEAPOLIS, MN — General Mills today announced a voluntary national recall of two-, five- and 10-pound bags of its Gold Medal Unbleached and Bleached All Purpose Flour with a “better if used by” date of March 27, 2024, and March 28, 2024. The recall is being issued for the potential presence of Salmonella Infantis, which was discovered during sampling of the five-pound bag product. This recall affects two date codes of Gold Medal Unbleached All Purpose Flour in the five- and ten-pound bags and two date codes of Gold Medal Bleached All Purpose Flour in the two- and five-pound bags. All other types of Gold Medal Flour are not affected by this recall. Consumers are asked to check their pantries and dispose of the product affected by this recall. \\n Guidance from the Food and Drug Administration \\n(FDA) and the\\n Centers for Disease Control \\n(CDC) warn that consumers should refrain from consuming any raw products made with flour. Salmonella Infantis is killed by heat through baking, frying, sautéing or boiling products made with flour. All surfaces, hands and utensils should be properly cleaned after contact with flour or dough. \\n The CDC estimates \\nthere are 1.2 million cases annually in the U.S. Typically, symptoms start within six hours to six days after infection and last four to seven days. Any consumers concerned about an illness should contact a physician. About General Mills General Mills makes food the world loves. The company is guided by its Accelerate strategy to drive shareholder value by boldly building its brands, relentlessly innovating, unleashing its scale and standing for good. Its portfolio of beloved brands includes household names such as Cheerios, Nature Valley, Blue Buffalo, Haagen-Dazs, Old El Paso, Pillsbury, Betty Crocker, Yoplait, Annie's, Wanchai Ferry, Yoki and more. Headquartered in Minneapolis, Minnesota, USA, General Mills generated fiscal 2022 net sales of U.S. $19.0 billion. In addition, the company's share of non-consolidated joint venture net sales totaled U.S. $1.1 billion Share Category:\\n Food \\nTags:\\n Food \\nStay in the knowA Taste of General MillsSign up for our monthly newsletter to get the latest news &amp; stories from General Mills directly in your inbox!\""
      ]
     },
     "execution_count": 13,
     "metadata": {},
     "output_type": "execute_result"
    }
   ],
   "source": [
    "\" \".join(filtered_pr_df.iloc[1]['sent_lists'])"
   ]
  },
  {
   "cell_type": "code",
   "execution_count": 23,
   "metadata": {},
   "outputs": [],
   "source": [
    "(filtered_pr_df\n",
    "     .assign(full_text=lambda df: df['sent_lists'].str.join(' '))\n",
    "     [['article_url', 'full_text']]\n",
    "     .to_csv('../press_release_summaries/pr_full_text.csv')\n",
    ")"
   ]
  },
  {
   "cell_type": "code",
   "execution_count": 3,
   "metadata": {},
   "outputs": [],
   "source": [
    "a = pd.read_csv('pr_summary.csv')"
   ]
  },
  {
   "cell_type": "code",
   "execution_count": 7,
   "metadata": {},
   "outputs": [
    {
     "name": "stdout",
     "output_type": "stream",
     "text": [
      "                                         article_url  \\\n",
      "0  www.goldmansachs.com/media-relations/press-rel...   \n",
      "1  www.generalmills.com/news/press-releases/gener...   \n",
      "2  www.pfizer.com/news/press-release/press-releas...   \n",
      "3  www.pfizer.com/news/press-release/press-releas...   \n",
      "4  about.netflix.com/en/news/free-educational-doc...   \n",
      "5  www.airproducts.com/campaigns/alberta-net-zero...   \n",
      "6  www.cvshealth.com/sites/default/files/TobaccoP...   \n",
      "7        www.elevancehealth.com/who-we-are/companies   \n",
      "8  blog.google/threat-analysis-group/how-were-tac...   \n",
      "9  blog.google/products/search/introducing-accele...   \n",
      "\n",
      "                                          pr_summary  \n",
      "0  Goldman Sachs has reached an agreement in prin...  \n",
      "1  General Mills has issued a voluntary national ...  \n",
      "2  Pfizer has announced the introduction of INFLE...  \n",
      "3  Pfizer and BioNTech have announced that they w...  \n",
      "4  Netflix has made a selection of its documentar...  \n",
      "5  Air Products has announced a $1.6 billion inve...  \n",
      "6  If you meant to share a different press releas...  \n",
      "7  Elevance Health, a healthcare company, announc...  \n",
      "8  Google's Threat Analysis Group (TAG) has relea...  \n",
      "9  Google has announced the launch of Accelerated...  \n"
     ]
    }
   ],
   "source": [
    "print(a)"
   ]
  },
  {
   "cell_type": "code",
   "execution_count": 26,
   "metadata": {},
   "outputs": [
    {
     "data": {
      "text/html": [
       "<div>\n",
       "<style scoped>\n",
       "    .dataframe tbody tr th:only-of-type {\n",
       "        vertical-align: middle;\n",
       "    }\n",
       "\n",
       "    .dataframe tbody tr th {\n",
       "        vertical-align: top;\n",
       "    }\n",
       "\n",
       "    .dataframe thead th {\n",
       "        text-align: right;\n",
       "    }\n",
       "</style>\n",
       "<table border=\"1\" class=\"dataframe\">\n",
       "  <thead>\n",
       "    <tr style=\"text-align: right;\">\n",
       "      <th></th>\n",
       "      <th>Unnamed: 0</th>\n",
       "      <th>URL</th>\n",
       "      <th>Title</th>\n",
       "      <th>Target URL</th>\n",
       "      <th>Date First Seen</th>\n",
       "      <th>company_name</th>\n",
       "      <th>news_url_domain</th>\n",
       "    </tr>\n",
       "  </thead>\n",
       "  <tbody>\n",
       "    <tr>\n",
       "      <th>0</th>\n",
       "      <td>16</td>\n",
       "      <td>www.cnn.com/2020/03/20/health/pets-dogs-cats-c...</td>\n",
       "      <td>Your pet won't get coronavirus, so hug away, e...</td>\n",
       "      <td>www.idexx.com/en/about-idexx/news/no-covid-19-...</td>\n",
       "      <td>2020-03-20</td>\n",
       "      <td>idexx</td>\n",
       "      <td>cnn</td>\n",
       "    </tr>\n",
       "    <tr>\n",
       "      <th>1</th>\n",
       "      <td>49</td>\n",
       "      <td>www.latimes.com/science/story/2020-04-01/can-p...</td>\n",
       "      <td>Can pets get coronavirus? - Los Angeles Times</td>\n",
       "      <td>www.idexx.com/en/about-idexx/news/no-covid-19-...</td>\n",
       "      <td>2020-04-04</td>\n",
       "      <td>idexx</td>\n",
       "      <td>latimes</td>\n",
       "    </tr>\n",
       "  </tbody>\n",
       "</table>\n",
       "</div>"
      ],
      "text/plain": [
       "   Unnamed: 0                                                URL  \\\n",
       "0          16  www.cnn.com/2020/03/20/health/pets-dogs-cats-c...   \n",
       "1          49  www.latimes.com/science/story/2020-04-01/can-p...   \n",
       "\n",
       "                                               Title  \\\n",
       "0  Your pet won't get coronavirus, so hug away, e...   \n",
       "1      Can pets get coronavirus? - Los Angeles Times   \n",
       "\n",
       "                                          Target URL Date First Seen  \\\n",
       "0  www.idexx.com/en/about-idexx/news/no-covid-19-...      2020-03-20   \n",
       "1  www.idexx.com/en/about-idexx/news/no-covid-19-...      2020-04-04   \n",
       "\n",
       "  company_name news_url_domain  \n",
       "0        idexx             cnn  \n",
       "1        idexx         latimes  "
      ]
     },
     "execution_count": 26,
     "metadata": {},
     "output_type": "execute_result"
    }
   ],
   "source": [
    "candidate_df.head(2)"
   ]
  },
  {
   "cell_type": "code",
   "execution_count": 27,
   "metadata": {},
   "outputs": [
    {
     "data": {
      "application/vnd.jupyter.widget-view+json": {
       "model_id": "83ff995b8f524c818f5a122129743d39",
       "version_major": 2,
       "version_minor": 0
      },
      "text/plain": [
       "Filter (num_proc=10):   0%|          | 0/496380 [00:00<?, ? examples/s]"
      ]
     },
     "metadata": {},
     "output_type": "display_data"
    }
   ],
   "source": [
    "article_url_set = set(candidate_df['URL'].drop_duplicates().values)\n",
    "filtered_article_d = article_d.filter(lambda x: x['article_url'] in article_url_set, num_proc=10)\n",
    "filtered_article_df = filtered_article_d.to_pandas()"
   ]
  },
  {
   "cell_type": "code",
   "execution_count": 33,
   "metadata": {},
   "outputs": [],
   "source": [
    "filtered_article_df\n",
    "\n",
    "(filtered_article_df\n",
    "     # .assign(full_text=lambda df: df['sent_lists'].str.join(' '))\n",
    "     [['article_url', 'article_text']]\n",
    "     .to_csv('../press_release_summaries/articles_full_text.csv')\n",
    ")"
   ]
  },
  {
   "cell_type": "code",
   "execution_count": 32,
   "metadata": {},
   "outputs": [
    {
     "data": {
      "text/plain": [
       "{'article_text': ' Coronavirus pandemic \\nHealth\\n Pfizer and BioNTech seek emergency-use authorization of the first coronavir... \\nNational\\n Live updates:Covid-19 live updates: Vaccine for young children nears; boosters shown eff... \\nHigher Education\\n Virginia\\'s public universities drop coronavirus vaccine mandates after atto... \\nHealth\\n Lack of Medicare coverage for at-home coronavirus tests sparks outcry \\nHealth\\n How fast the omicron variant is spreading around the world \\nHealth\\n Experimental HIV vaccine, based on Moderna\\'s mRNA technology, now in clinic... \\nOpinions\\n Yes, more variants may emerge in the future. That\\'s why we should lift rest... \\nAsia\\n The latest in covid dining etiquette? South Korea\\'s new nose-only mask. \\nRelationships\\n I live in Tokyo. He lives in D.C. Omicron forced us to marry if we ever wan... \\nStyle\\n The anguish of finally returning to the dentist \\nFact Checker * Analysis\\n How the falsehood of athletes dying from coronavirus vaccines spread \\nHealth\\n Pfizer-BioNTech coronavirus vaccine for children under 5 could be available... \\nBy The Way\\n CDC warns against travel to Mexico, 11 other countries \\nBy The Way\\n 6 questions about travel after recovering from covid, answered \\nOpinions\\n Your questions about covid-19, answered by Dr. Leana Wen \\nNational\\n Live updates:Moderna\\'s vaccine receives full FDA approval \\nPolitics\\n White House frustrations grow over health chief Becerra\\'s handling of pande... \\nMorning Mix\\n He\\'s declining a coronavirus vaccine at the expense of a lifesaving transpl... \\nMorning Mix\\n Joe Rogan says he\\'ll do better research on covid, give listeners opposing v... \\nEurope\\n In Germany\\'s east, far-right extremists find footholds in escalating anti-v... \\nDemocracy Dies in Darkness\\n Health \\nPfizer and BioNTech seek emergency-use authorization of the first coronavirus vaccine for children under 5By\\n Carolyn Y. Johnson \\nToday at 4:40 p.m. ESTBy\\n Carolyn Y. Johnson \\nToday at 4:40 p.m. ESTPfizer and BioNTech said Tuesday they were seeking emergency-use authorization for the\\n first coronavirus vaccine for children younger than 5 \\nand have begun submitting data on the safety and efficacy of the first two doses of a planned three-dose regimen.\\n FAQ: What to know about the omicron variant of the coronavirus \\nThe data has not yet been published or peer-reviewed, but the Food and Drug Administration requested the company to move forward with an application due to the \"urgent public health need in this population,\" the companies said in a statement, noting that 1.6 million children under the age of 4 have tested positive for the coronavirus.\"Ultimately, we believe that three doses of the vaccine will be needed for children 6 months through 4 years of age to achieve high levels of protection against current and potential future variants,\" Pfizer chief executive Albert Bourla said in a statement. \"If two doses are authorized, parents will have the opportunity to begin a COVID-19 vaccination series for their children while awaiting potential authorization of a third dose.\"AdvertisementStory continues below advertisementA committee of outside advisers is expected to meet to review the data in the coming weeks, which will influence but not determine the decision the agency makes. A similar advisory committee to the Centers for Disease Control and Prevention will also scrutinize the data. The vaccine could become available by the end of February.The application for a two-shot regimen, months earlier than the company had previously predicted, is being celebrated by parents anxious to protect their children from the virus. There are about 19 million children under the age of 5 in the United States. The vaccine is being tested in children as young as 6 months.A\\n poll by the Kaiser Family Foundation \\nfound that only 3 in 10 parents of children in the age range said they would get their children vaccinated right away if a vaccine were authorized, and a quarter of parents said they would \"definitely not\" vaccinate their young children. The poll of 1,536 adults was conducted between Jan. 11 and 23.AdvertisementStory continues below advertisementUptake of the vaccine has been slow among 5- to 11-year-olds who became eligible for the vaccine in early November, with 70 percent remaining unvaccinated, according to a Kaiser analysis.In mid-December, Pfizer and BioNTech announced the\\n children\\'s vaccine would be delayed \\nbecause it did not muster an immune response in 2- to 4-year-olds equivalent to the protective response in teens and young adults. The news was a major blow to parents and pediatricians. Adding a third shot to increase the level of protection meant results would be delayed until the end of March.Although covid-19 is typically less severe in children, the enormous toll of the omicron surge has not spared the youngest. So far this year, there have been 12 deaths of children under the age of 5 in the United States, according to the CDC -- and 280 deaths since the beginning of the pandemic, representing a small fraction of the more than 884,000 deaths overall in the nation. There have been 1.7 million known cases of covid-19 in the age group since early 2020.AdvertisementStory continues below advertisement\"Pediatricians have seen firsthand the fear, stress and hardship that so many families of young children have endured as they await a vaccine. We urge a transparent and data-driven process to evaluate this vaccine for this age group and look forward to offering its protection to our youngest children,\" Moira A. Szilagyi, president of the American Academy of Pediatrics, said in a statement.The third shot is expected to increase the immune response, but federal officials have decided to take the unusual step of moving forward on two doses while data is still being collected on the third dose to begin building immunity in young children, The Washington Post reported Monday.If the vaccine were authorized within weeks, children would probably begin to get their first shots as the omicron surge is expected to be lifting. They would begin to build immunity that might offer protection against future variants.AdvertisementStory continues below advertisementThe dilemma is a textbook study of the difficulty of regulatory decision-making in a crisis. The children\\'s trial had been designed to test whether a lower dose vaccine created an immune response equivalent to or greater than the one that protected young adults -- something measured in a laboratory. But because of the omicron surge, enough cases of covid-19 occurred among study participants to provide evidence that the vaccine was protecting children against illness.Tuesday\\'s announcement from Pfizer-BioNTech did not include the release of new data.Dan Keating and Emily Guskin contributed to this report.Coronavirus: What you need to readThe latest:\\n Vaccine for children under 5 could be available within weeks \\n. For the latest news,\\n follow our coronavirus live updates \\nor\\n sign up for our free newsletter \\n.Tracking the pandemic: There is a\\n new version of omicron called BA. 2 \\nspreading in parts of Europe and Asia. So far it appears less dangerous. See the latest\\n coronavirus numbers \\n.At-home tests: Americans can now order free rapid tests from\\n covidtests.gov \\n. Here\\'s\\n how to use at-home covid tests, where to find them and how they differ from PCR tests \\n.Mask guidance: The\\n CDC has recommended better masks \\nto protect against the\\n omicron variant \\n. Here\\'s\\n why N95s are so effective \\nand\\n how to safety reuse your N95 and KN95 masks \\n.Endemic vs. pandemic: We asked experts about\\n what \"endemic\" means \\nand when\\n coronavirus \\nmight be declared endemic. The bottom line: It\\'s too early to really know.Today\\'s HeadlinesThe most important news stories of the day, curated by Post editors and delivered every morning.Email addressBy signing up you agree to our\\n Terms of Use \\nand\\n Privacy Policy \\nCompany\\n About The Post \\n Newsroom Policies &amp; Standards \\n Diversity and Inclusion \\n Careers \\n Media &amp; Community Relations \\n WP Creative Group \\n Accessibility Statement \\nGet The Post\\n Gift Subscriptions \\n Mobile &amp; Apps \\n Newsletters &amp; Alerts \\n Washington Post Live \\n Reprints &amp; Permissions \\n Post Store \\n Books &amp; E-Books \\n Newspaper in Education \\n Print Archives (Subscribers Only) \\n e-Replica \\n Today\\'s Paper \\nContact Us\\n Contact the Newsroom \\n Contact Customer Care \\n Contact the Opinions team \\n Advertise \\n Licensing &amp; Syndication \\n Request a Correction \\n Send a News Tip \\n Report a Vulnerability \\nTerms of Use\\n Digital Products Terms of Sale \\n Print Products Terms of Sale \\n Terms of Service \\n Privacy Policy \\n Cookie Settings \\n Submissions &amp; Discussion Policy \\n RSS Terms of Service \\n Ad Choices \\n washingtonpost.com \\n(c) 1996-2022 The Washington Post\\n washingtonpost.com \\n(c) 1996-2022 The Washington Post\\n About The Post \\n Contact the Newsroom \\n Contact Customer Care \\n Request a Correction \\n Send a News Tip \\n Report a Vulnerability \\n Download the Washington Post App \\n Policies &amp; Standards \\n Terms of Service \\n Privacy Policy \\n Cookie Settings \\n Print Products Terms of Sale \\n Digital Products Terms of Sale \\n Submissions &amp; Discussion Policy \\n RSS Terms of Service \\n Ad Choices ',\n",
       " 'sent_lists': array([\"That's why we should lift rest... \\nAsia\\n The latest in covid dining etiquette?\",\n",
       "        \"South Korea's new nose-only mask.\",\n",
       "        '\\n FAQ: What to know about the omicron variant of the coronavirus \\nThe data has not yet been published or peer-reviewed, but the Food and Drug Administration requested the company to move forward with an application due to the \"urgent public health need in this population,\" the companies said in a statement, noting that 1.6 million children under the age of 4 have tested positive for the coronavirus.',\n",
       "        '\"Ultimately, we believe that three doses of the vaccine will be needed for children 6 months through 4 years of age to achieve high levels of protection against current and potential future variants,\" Pfizer chief executive Albert Bourla said in a statement. \"',\n",
       "        'If two doses are authorized, parents will have the opportunity to begin a COVID-19 vaccination series for their children while awaiting potential authorization of a third dose.',\n",
       "        '\"AdvertisementStory continues below advertisementA committee of outside advisers is expected to meet to review the data in the coming weeks, which will influence but not determine the decision the agency makes.',\n",
       "        'A similar advisory committee to the Centers for Disease Control and Prevention will also scrutinize the data.',\n",
       "        'The vaccine could become available by the end of February.',\n",
       "        'The application for a two-shot regimen, months earlier than the company had previously predicted, is being celebrated by parents anxious to protect their children from the virus.',\n",
       "        'There are about 19 million children under the age of 5 in the United States.',\n",
       "        'The vaccine is being tested in children as young as 6 months.',\n",
       "        'A\\n poll by the Kaiser Family Foundation \\nfound that only 3 in 10 parents of children in the age range said they would get their children vaccinated right away if a vaccine were authorized, and a quarter of parents said they would \"definitely not\" vaccinate their young children.',\n",
       "        'The poll of 1,536 adults was conducted between Jan. 11 and 23.AdvertisementStory continues below advertisementUptake of the vaccine has been slow among 5- to 11-year-olds who became eligible for the vaccine in early November, with 70 percent remaining unvaccinated, according to a Kaiser analysis.',\n",
       "        \"In mid-December, Pfizer and BioNTech announced the\\n children's vaccine would be delayed \\nbecause it did not muster an immune response in 2- to 4-year-olds equivalent to the protective response in teens and young adults.\",\n",
       "        'The news was a major blow to parents and pediatricians.',\n",
       "        'Adding a third shot to increase the level of protection meant results would be delayed until the end of March.',\n",
       "        'Although covid-19 is typically less severe in children, the enormous toll of the omicron surge has not spared the youngest.',\n",
       "        'So far this year, there have been 12 deaths of children under the age of 5 in the United States, according to the CDC -- and 280 deaths since the beginning of the pandemic, representing a small fraction of the more than 884,000 deaths overall in the nation.',\n",
       "        'There have been 1.7 million known cases of covid-19 in the age group since early 2020.AdvertisementStory continues below advertisement\"Pediatricians have seen firsthand the fear, stress and hardship that so many families of young children have endured as they await a vaccine.',\n",
       "        'We urge a transparent and data-driven process to evaluate this vaccine for this age group and look forward to offering its protection to our youngest children,\" Moira A. Szilagyi, president of the American Academy of Pediatrics, said in a statement.',\n",
       "        'The third shot is expected to increase the immune response, but federal officials have decided to take the unusual step of moving forward on two doses while data is still being collected on the third dose to begin building immunity in young children, The Washington Post reported Monday.',\n",
       "        'If the vaccine were authorized within weeks, children would probably begin to get their first shots as the omicron surge is expected to be lifting.',\n",
       "        'They would begin to build immunity that might offer protection against future variants.',\n",
       "        \"The children's trial had been designed to test whether a lower dose vaccine created an immune response equivalent to or greater than the one that protected young adults -- something measured in a laboratory.\",\n",
       "        'But because of the omicron surge, enough cases of covid-19 occurred among study participants to provide evidence that the vaccine was protecting children against illness.',\n",
       "        \"Tuesday's announcement from Pfizer-BioNTech did not include the release of new data.\",\n",
       "        'Dan Keating and Emily Guskin contributed to this report.',\n",
       "        '2 \\nspreading in parts of Europe and Asia.',\n",
       "        'See the latest\\n coronavirus numbers \\n.At-home tests: Americans can now order free rapid tests from\\n covidtests.gov \\n.',\n",
       "        'Here\\'s\\n why N95s are so effective \\nand\\n how to safety reuse your N95 and KN95 masks \\n.Endemic vs. pandemic: We asked experts about\\n what \"endemic\" means \\nand when\\n coronavirus \\nmight be declared endemic.',\n",
       "        \"The bottom line: It's too early to really know.\",\n",
       "        \"Today's HeadlinesThe most important news stories of the day, curated by Post editors and delivered every morning.\"],\n",
       "       dtype=object)}"
      ]
     },
     "execution_count": 32,
     "metadata": {},
     "output_type": "execute_result"
    }
   ],
   "source": [
    "filtered_article_df[['article_text', 'sent_lists']].iloc[0].to_dict()"
   ]
  },
  {
   "cell_type": "code",
   "execution_count": null,
   "metadata": {},
   "outputs": [],
   "source": []
  },
  {
   "cell_type": "code",
   "execution_count": null,
   "metadata": {},
   "outputs": [],
   "source": []
  }
 ],
 "metadata": {
  "kernelspec": {
   "display_name": "Python 3 (ipykernel)",
   "language": "python",
   "name": "python3"
  },
  "language_info": {
   "codemirror_mode": {
    "name": "ipython",
    "version": 3
   },
   "file_extension": ".py",
   "mimetype": "text/x-python",
   "name": "python",
   "nbconvert_exporter": "python",
   "pygments_lexer": "ipython3",
   "version": "3.12.2"
  }
 },
 "nbformat": 4,
 "nbformat_minor": 4
}

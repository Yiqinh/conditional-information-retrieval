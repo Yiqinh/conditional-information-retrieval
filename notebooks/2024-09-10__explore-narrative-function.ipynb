{
 "cells": [
  {
   "cell_type": "code",
   "execution_count": 1,
   "id": "f8f8e017-fa2a-429b-8368-683e2f0a03c8",
   "metadata": {},
   "outputs": [],
   "source": [
    "import pandas as pd\n",
    "import json"
   ]
  },
  {
   "cell_type": "code",
   "execution_count": 2,
   "id": "bd6cae68-0cf0-4309-bb80-262d81975a6f",
   "metadata": {},
   "outputs": [],
   "source": [
    "# goals: \n",
    "# 1. evaluate centrality\n",
    "# 2. cluster narrative function\n",
    "# 3. "
   ]
  },
  {
   "cell_type": "code",
   "execution_count": 3,
   "id": "0b84d241-993a-4a3c-804e-fd75e97721db",
   "metadata": {},
   "outputs": [
    {
     "name": "stdout",
     "output_type": "stream",
     "text": [
      "v2_test_set_narr.json   v2_train_set_narr.json\n"
     ]
    }
   ],
   "source": [
    "ls ../data/v2_narr_parsed/"
   ]
  },
  {
   "cell_type": "code",
   "execution_count": 4,
   "id": "bf22d93c-2508-4030-a165-402f8435ffab",
   "metadata": {},
   "outputs": [],
   "source": [
    "narr_train = json.load(open('../data/v2_narr_parsed/v2_train_set_narr.json'))\n",
    "narr_test = json.load(open('../data/v2_narr_parsed/v2_test_set_narr.json'))\n",
    "narr_df = pd.concat([\n",
    "    pd.DataFrame(narr_train), pd.DataFrame(narr_test)\n",
    "])\n",
    "source_narr_df = narr_df.explode('sources').dropna().reset_index(drop=True)\n",
    "source_narr_df = pd.concat([\n",
    "    source_narr_df[['url']],\n",
    "    source_narr_df['sources'].pipe(lambda s: pd.DataFrame(s.tolist()))\n",
    "], axis=1)\n",
    "\n",
    "\n",
    "## processing\n",
    "\n",
    "persp_to_keep = set(['Informative', 'Authoritative', 'Neutral', 'Supportive', 'Against'])\n",
    "source_narr_df['Perspective'] = (\n",
    "    source_narr_df['Perspective']\n",
    "         .apply(lambda x: {'Skeptical': 'Against', 'Defensive': 'Supportive'}.get(x, x))\n",
    "         .apply(lambda x: x if x in persp_to_keep else 'Other')\n",
    ")\n",
    "\n",
    "cent_to_keep = set(['High', 'Medium', 'Low'])\n",
    "source_narr_df['Centrality'] = source_narr_df['Centrality'].apply(lambda x: x if x in cent_to_keep else 'Low')"
   ]
  },
  {
   "cell_type": "markdown",
   "id": "66882566-fc33-46d4-b47b-1009e0cb705e",
   "metadata": {},
   "source": [
    "# Centrality Position in Document"
   ]
  },
  {
   "cell_type": "code",
   "execution_count": 147,
   "id": "ba5c68d4-0e1a-4b89-8b8f-613d9635ee11",
   "metadata": {},
   "outputs": [],
   "source": [
    "import pandas as pd\n",
    "import numpy as np\n",
    "from tqdm.auto import tqdm\n",
    "data_dir = '../data'\n",
    "data_dir = '../../../bloomberg-research/press-releases/data/s_p_500_backlinks'\n",
    "batches = pd.read_json(f'{data_dir}/full-source-scored-data.jsonl', lines=True, chunksize=10_000)"
   ]
  },
  {
   "cell_type": "code",
   "execution_count": 148,
   "id": "49c7bfbe-911c-43c5-965c-8b89d95188fe",
   "metadata": {
    "scrolled": true
   },
   "outputs": [
    {
     "data": {
      "application/vnd.jupyter.widget-view+json": {
       "model_id": "7ac707f46dd7436b8914fad0623ddc1b",
       "version_major": 2,
       "version_minor": 0
      },
      "text/plain": [
       "0it [00:00, ?it/s]"
      ]
     },
     "metadata": {},
     "output_type": "display_data"
    }
   ],
   "source": [
    "orig_source_df_batches = []\n",
    "for batch in tqdm(batches):\n",
    "    batch_to_keep = batch.loc[lambda df: df['article_url'].isin(source_narr_df['url'])]\n",
    "    orig_source_df_batches.append(batch_to_keep)\n",
    "orig_source_df = pd.concat(orig_source_df_batches)"
   ]
  },
  {
   "cell_type": "code",
   "execution_count": 179,
   "id": "f8d1129f-a618-47f4-8b32-4e4d681e5921",
   "metadata": {},
   "outputs": [],
   "source": [
    "orig_source_df_exp = (\n",
    "    orig_source_df[['article_url', 'attributions', 'quote_type']]\n",
    "        .explode(['attributions', 'quote_type'])\n",
    "        .reset_index(drop=True)\n",
    ")"
   ]
  },
  {
   "cell_type": "code",
   "execution_count": 186,
   "id": "0046ba58-c1a4-4db7-97c1-b84b1516e998",
   "metadata": {},
   "outputs": [],
   "source": [
    "source_proportions = (\n",
    "    orig_source_df_exp\n",
    "         .value_counts(['article_url', 'attributions'])\n",
    "         .reset_index()\n",
    "         .pipe(lambda df: df.merge(df.groupby('article_url')['count'].sum().to_frame('overall_counts'), right_index=True, left_on='article_url'))\n",
    "         .assign(prop=lambda df: df['count'] / df['overall_counts'])\n",
    "         .drop(columns=['count', 'overall_counts'])\n",
    ")"
   ]
  },
  {
   "cell_type": "code",
   "execution_count": 209,
   "id": "db23bb20-74b5-4a3c-aec9-d4ed17e1f41d",
   "metadata": {},
   "outputs": [],
   "source": [
    "orig_source_df_exp['article_sent_idx'] = orig_source_df_exp.groupby('article_url').cumcount()\n",
    "\n",
    "source_min_sent_props = (orig_source_df_exp\n",
    " .pipe(lambda df: \n",
    "    df.groupby(['article_url', 'attributions'])['article_sent_idx'].min().to_frame('min_sent_idx').reset_index()\n",
    "            .merge(df.value_counts('article_url').to_frame('total_sents').reset_index()))\n",
    " .assign(min_sent_prop = lambda df: df['min_sent_idx'] / df['total_sents'])\n",
    " .drop(columns=['min_sent_idx', 'total_sents'])\n",
    ")"
   ]
  },
  {
   "cell_type": "code",
   "execution_count": 215,
   "id": "4199b655-349d-455f-b923-238eaa722515",
   "metadata": {},
   "outputs": [
    {
     "data": {
      "text/html": [
       "<div>\n",
       "<style scoped>\n",
       "    .dataframe tbody tr th:only-of-type {\n",
       "        vertical-align: middle;\n",
       "    }\n",
       "\n",
       "    .dataframe tbody tr th {\n",
       "        vertical-align: top;\n",
       "    }\n",
       "\n",
       "    .dataframe thead th {\n",
       "        text-align: right;\n",
       "    }\n",
       "</style>\n",
       "<table border=\"1\" class=\"dataframe\">\n",
       "  <thead>\n",
       "    <tr style=\"text-align: right;\">\n",
       "      <th></th>\n",
       "      <th>article_url</th>\n",
       "      <th>attributions</th>\n",
       "      <th>min_sent_prop</th>\n",
       "      <th>prop</th>\n",
       "    </tr>\n",
       "  </thead>\n",
       "  <tbody>\n",
       "    <tr>\n",
       "      <th>0</th>\n",
       "      <td>1059sunnyfm.cbslocal.com/tag/taylor-swift/feed/</td>\n",
       "      <td>CBS</td>\n",
       "      <td>0.053097</td>\n",
       "      <td>0.008850</td>\n",
       "    </tr>\n",
       "    <tr>\n",
       "      <th>1</th>\n",
       "      <td>1059sunnyfm.cbslocal.com/tag/taylor-swift/feed/</td>\n",
       "      <td>Carly Simon</td>\n",
       "      <td>0.141593</td>\n",
       "      <td>0.008850</td>\n",
       "    </tr>\n",
       "    <tr>\n",
       "      <th>2</th>\n",
       "      <td>1059sunnyfm.cbslocal.com/tag/taylor-swift/feed/</td>\n",
       "      <td>Dave Grohl vs. Win Butler vs. Gwen Stefani</td>\n",
       "      <td>0.238938</td>\n",
       "      <td>0.008850</td>\n",
       "    </tr>\n",
       "    <tr>\n",
       "      <th>3</th>\n",
       "      <td>1059sunnyfm.cbslocal.com/tag/taylor-swift/feed/</td>\n",
       "      <td>Ed Sheeran</td>\n",
       "      <td>0.796460</td>\n",
       "      <td>0.008850</td>\n",
       "    </tr>\n",
       "    <tr>\n",
       "      <th>4</th>\n",
       "      <td>1059sunnyfm.cbslocal.com/tag/taylor-swift/feed/</td>\n",
       "      <td>Foo Fighters</td>\n",
       "      <td>0.256637</td>\n",
       "      <td>0.008850</td>\n",
       "    </tr>\n",
       "    <tr>\n",
       "      <th>...</th>\n",
       "      <td>...</td>\n",
       "      <td>...</td>\n",
       "      <td>...</td>\n",
       "      <td>...</td>\n",
       "    </tr>\n",
       "    <tr>\n",
       "      <th>649918</th>\n",
       "      <td>yourvoicematters.news.blog/2019/06/07/the-cost...</td>\n",
       "      <td>director of the Rosenberg Railroad Museum</td>\n",
       "      <td>0.409091</td>\n",
       "      <td>0.090909</td>\n",
       "    </tr>\n",
       "    <tr>\n",
       "      <th>649919</th>\n",
       "      <td>yourvoicematters.news.blog/2019/06/07/the-cost...</td>\n",
       "      <td>journalist</td>\n",
       "      <td>0.000000</td>\n",
       "      <td>0.500000</td>\n",
       "    </tr>\n",
       "    <tr>\n",
       "      <th>649920</th>\n",
       "      <td>yourvoicematters.news.blog/2019/06/07/the-cost...</td>\n",
       "      <td>journalist passive-voice The noise was so over...</td>\n",
       "      <td>0.272727</td>\n",
       "      <td>0.090909</td>\n",
       "    </tr>\n",
       "    <tr>\n",
       "      <th>649921</th>\n",
       "      <td>yourvoicematters.news.blog/2019/06/07/the-cost...</td>\n",
       "      <td>journalist passive-voice The noise was so over...</td>\n",
       "      <td>0.727273</td>\n",
       "      <td>0.045455</td>\n",
       "    </tr>\n",
       "    <tr>\n",
       "      <th>649922</th>\n",
       "      <td>yourvoicematters.news.blog/2019/06/07/the-cost...</td>\n",
       "      <td>many</td>\n",
       "      <td>0.090909</td>\n",
       "      <td>0.136364</td>\n",
       "    </tr>\n",
       "  </tbody>\n",
       "</table>\n",
       "<p>649923 rows × 4 columns</p>\n",
       "</div>"
      ],
      "text/plain": [
       "                                              article_url  \\\n",
       "0         1059sunnyfm.cbslocal.com/tag/taylor-swift/feed/   \n",
       "1         1059sunnyfm.cbslocal.com/tag/taylor-swift/feed/   \n",
       "2         1059sunnyfm.cbslocal.com/tag/taylor-swift/feed/   \n",
       "3         1059sunnyfm.cbslocal.com/tag/taylor-swift/feed/   \n",
       "4         1059sunnyfm.cbslocal.com/tag/taylor-swift/feed/   \n",
       "...                                                   ...   \n",
       "649918  yourvoicematters.news.blog/2019/06/07/the-cost...   \n",
       "649919  yourvoicematters.news.blog/2019/06/07/the-cost...   \n",
       "649920  yourvoicematters.news.blog/2019/06/07/the-cost...   \n",
       "649921  yourvoicematters.news.blog/2019/06/07/the-cost...   \n",
       "649922  yourvoicematters.news.blog/2019/06/07/the-cost...   \n",
       "\n",
       "                                             attributions  min_sent_prop  \\\n",
       "0                                                     CBS       0.053097   \n",
       "1                                             Carly Simon       0.141593   \n",
       "2              Dave Grohl vs. Win Butler vs. Gwen Stefani       0.238938   \n",
       "3                                              Ed Sheeran       0.796460   \n",
       "4                                            Foo Fighters       0.256637   \n",
       "...                                                   ...            ...   \n",
       "649918          director of the Rosenberg Railroad Museum       0.409091   \n",
       "649919                                         journalist       0.000000   \n",
       "649920  journalist passive-voice The noise was so over...       0.272727   \n",
       "649921  journalist passive-voice The noise was so over...       0.727273   \n",
       "649922                                               many       0.090909   \n",
       "\n",
       "            prop  \n",
       "0       0.008850  \n",
       "1       0.008850  \n",
       "2       0.008850  \n",
       "3       0.008850  \n",
       "4       0.008850  \n",
       "...          ...  \n",
       "649918  0.090909  \n",
       "649919  0.500000  \n",
       "649920  0.090909  \n",
       "649921  0.045455  \n",
       "649922  0.136364  \n",
       "\n",
       "[649923 rows x 4 columns]"
      ]
     },
     "execution_count": 215,
     "metadata": {},
     "output_type": "execute_result"
    }
   ],
   "source": [
    "source_min_sent_props.merge(source_proportions)"
   ]
  },
  {
   "cell_type": "code",
   "execution_count": 219,
   "id": "8b80565f-518d-48aa-9a25-2467782dc647",
   "metadata": {},
   "outputs": [],
   "source": [
    "source_narr_df_with_metrics = (\n",
    "    source_narr_df\n",
    "         [['url', 'Original name', 'Perspective', 'Centrality']]\n",
    "         .explode('Original name')\n",
    "         .merge(\n",
    "             source_min_sent_props.merge(source_proportions),\n",
    "             left_on=['url', 'Original name'],\n",
    "             right_on=['article_url', 'attributions']\n",
    "         )\n",
    "         .drop(columns=['url', 'Original name'])\n",
    ")"
   ]
  },
  {
   "cell_type": "code",
   "execution_count": 223,
   "id": "78e6d566-939a-4954-892b-94d675d687f3",
   "metadata": {},
   "outputs": [],
   "source": [
    "import seaborn as sns\n",
    "import matplotlib.pyplot as plt"
   ]
  },
  {
   "cell_type": "code",
   "execution_count": 255,
   "id": "e2d2f9d3-979a-44a2-8485-9eb6a89bd350",
   "metadata": {},
   "outputs": [
    {
     "data": {
      "image/png": "[encoded data removed]",
      "text/plain": [
       "<Figure size 300x400 with 1 Axes>"
      ]
     },
     "metadata": {},
     "output_type": "display_data"
    },
    {
     "data": {
      "image/png": "[encoded data removed]",
      "text/plain": [
       "<Figure size 300x400 with 1 Axes>"
      ]
     },
     "metadata": {},
     "output_type": "display_data"
    },
    {
     "data": {
      "image/png": "[encoded data removed]",
      "text/plain": [
       "<Figure size 300x400 with 1 Axes>"
      ]
     },
     "metadata": {},
     "output_type": "display_data"
    }
   ],
   "source": [
    "f, ax = plt.subplots( 1, 1, figsize=(3, 4))\n",
    "sns.barplot(\n",
    "    source_narr_df_with_metrics['Centrality'].value_counts(), \n",
    "    order=col_order,\n",
    "    ax=ax\n",
    ")\n",
    "ax.set_xlabel('% of sents including source')\n",
    "ax.spines['top'].set_visible(False)\n",
    "ax.spines['right'].set_visible(False)\n",
    "\n",
    "#[col_order].plot(kind='bar', figsize=(3,4))\n",
    "\n",
    "col_order = ['High', 'Medium', 'Low']\n",
    "f, ax = plt.subplots( 1, 1, figsize=(3, 4))\n",
    "ax = sns.boxplot(\n",
    "    source_narr_df_with_metrics, \n",
    "    x='prop',\n",
    "    y='Centrality', hue='Centrality', order=col_order,\n",
    "    showfliers=False,\n",
    "    ax=ax\n",
    ")\n",
    "ax.set_xlabel('% of sents including source')\n",
    "ax.spines['top'].set_visible(False)\n",
    "ax.spines['right'].set_visible(False)\n",
    "\n",
    "f, ax = plt.subplots( 1, 1, figsize=(3, 4))\n",
    "ax = sns.boxplot(\n",
    "    source_narr_df_with_metrics, \n",
    "    x='min_sent_prop',\n",
    "    y='Centrality', hue='Centrality', order=col_order,\n",
    "    showfliers=False,\n",
    "    ax=ax\n",
    ")\n",
    "ax.set_xlabel('first appearance of source in story')\n",
    "ax.spines['top'].set_visible(False)\n",
    "ax.spines['right'].set_visible(False)"
   ]
  },
  {
   "cell_type": "code",
   "execution_count": null,
   "id": "7de5601f-e89d-4801-8b70-4ff066afda3b",
   "metadata": {},
   "outputs": [],
   "source": []
  },
  {
   "cell_type": "code",
   "execution_count": null,
   "id": "cb14421b-e6aa-4459-85be-c5f9d928fdf8",
   "metadata": {},
   "outputs": [],
   "source": []
  },
  {
   "cell_type": "code",
   "execution_count": null,
   "id": "bbf6c03f-fffa-44a9-bfb1-45ac4d1b7cc9",
   "metadata": {},
   "outputs": [],
   "source": []
  },
  {
   "cell_type": "code",
   "execution_count": null,
   "id": "e3b2ced7-64ab-4ef9-83e6-d3a8ddda0e50",
   "metadata": {},
   "outputs": [],
   "source": []
  },
  {
   "cell_type": "code",
   "execution_count": null,
   "id": "63ec3a87-1339-44fa-a9e3-2bb70ac4f3a9",
   "metadata": {},
   "outputs": [],
   "source": []
  },
  {
   "cell_type": "code",
   "execution_count": 233,
   "id": "f08af48a-658a-47a0-90dc-0030099ecfb0",
   "metadata": {},
   "outputs": [
    {
     "data": {
      "text/html": [
       "<div>\n",
       "<style scoped>\n",
       "    .dataframe tbody tr th:only-of-type {\n",
       "        vertical-align: middle;\n",
       "    }\n",
       "\n",
       "    .dataframe tbody tr th {\n",
       "        vertical-align: top;\n",
       "    }\n",
       "\n",
       "    .dataframe thead th {\n",
       "        text-align: right;\n",
       "    }\n",
       "</style>\n",
       "<table border=\"1\" class=\"dataframe\">\n",
       "  <thead>\n",
       "    <tr style=\"text-align: right;\">\n",
       "      <th></th>\n",
       "      <th>Perspective</th>\n",
       "      <th>Centrality</th>\n",
       "      <th>article_url</th>\n",
       "      <th>attributions</th>\n",
       "      <th>min_sent_prop</th>\n",
       "      <th>prop</th>\n",
       "    </tr>\n",
       "  </thead>\n",
       "  <tbody>\n",
       "    <tr>\n",
       "      <th>0</th>\n",
       "      <td>Against</td>\n",
       "      <td>Medium</td>\n",
       "      <td>www.fox61.com/article/news/nation-world/steps-...</td>\n",
       "      <td>Jonathan S. Weissman</td>\n",
       "      <td>0.393939</td>\n",
       "      <td>0.121212</td>\n",
       "    </tr>\n",
       "    <tr>\n",
       "      <th>1</th>\n",
       "      <td>Informative</td>\n",
       "      <td>Low</td>\n",
       "      <td>www.fox61.com/article/news/nation-world/steps-...</td>\n",
       "      <td>The New York Times</td>\n",
       "      <td>0.636364</td>\n",
       "      <td>0.030303</td>\n",
       "    </tr>\n",
       "  </tbody>\n",
       "</table>\n",
       "</div>"
      ],
      "text/plain": [
       "   Perspective Centrality                                        article_url  \\\n",
       "0      Against     Medium  www.fox61.com/article/news/nation-world/steps-...   \n",
       "1  Informative        Low  www.fox61.com/article/news/nation-world/steps-...   \n",
       "\n",
       "           attributions  min_sent_prop      prop  \n",
       "0  Jonathan S. Weissman       0.393939  0.121212  \n",
       "1    The New York Times       0.636364  0.030303  "
      ]
     },
     "execution_count": 233,
     "metadata": {},
     "output_type": "execute_result"
    }
   ],
   "source": [
    "source_narr_df_with_metrics.head(2)"
   ]
  },
  {
   "cell_type": "code",
   "execution_count": 259,
   "id": "940593ed-700c-4cb3-a4bf-d087237d7810",
   "metadata": {},
   "outputs": [
    {
     "data": {
      "image/png": "[encoded data removed]",
      "text/plain": [
       "<Figure size 300x400 with 1 Axes>"
      ]
     },
     "metadata": {},
     "output_type": "display_data"
    },
    {
     "data": {
      "image/png": "[encoded data removed]",
      "text/plain": [
       "<Figure size 300x400 with 1 Axes>"
      ]
     },
     "metadata": {},
     "output_type": "display_data"
    },
    {
     "data": {
      "image/png": "[encoded data removed]",
      "text/plain": [
       "<Figure size 300x400 with 1 Axes>"
      ]
     },
     "metadata": {},
     "output_type": "display_data"
    }
   ],
   "source": [
    "col_order = ['Authoritative', 'Supportive', 'Against', 'Neutral', 'Informative']\n",
    "\n",
    "f, ax = plt.subplots( 1, 1, figsize=(3, 4))\n",
    "sns.barplot(\n",
    "    source_narr_df_with_metrics['Perspective'].value_counts(), \n",
    "    order=col_order,\n",
    "    ax=ax\n",
    ")\n",
    "ax.set_xlabel('% of sents including source')\n",
    "ax.spines['top'].set_visible(False)\n",
    "ax.spines['right'].set_visible(False)\n",
    "plt.xticks(rotation=35, horizontalalignment='right')\n",
    "\n",
    "f, ax = plt.subplots( 1, 1, figsize=(3,4))\n",
    "ax = sns.boxplot(\n",
    "    source_narr_df_with_metrics, \n",
    "    x='prop',\n",
    "    y='Perspective', hue='Perspective', order=col_order,\n",
    "    showfliers=False,\n",
    "    ax=ax\n",
    ")\n",
    "ax.set_xlabel('% of sents including source')\n",
    "ax.spines['top'].set_visible(False)\n",
    "ax.spines['right'].set_visible(False)\n",
    "\n",
    "f, ax = plt.subplots( 1, 1, figsize=(3,4))\n",
    "ax = sns.boxplot(\n",
    "    source_narr_df_with_metrics, \n",
    "    x='min_sent_prop',\n",
    "    y='Perspective', hue='Perspective', order=col_order,\n",
    "    showfliers=False,\n",
    "    ax=ax\n",
    ")\n",
    "ax.set_xlabel('first appearance of source in story')\n",
    "ax.spines['top'].set_visible(False)\n",
    "ax.spines['right'].set_visible(False)"
   ]
  },
  {
   "cell_type": "code",
   "execution_count": null,
   "id": "dc95c7a5-4adb-470c-83d4-333b5251e213",
   "metadata": {},
   "outputs": [],
   "source": []
  },
  {
   "cell_type": "code",
   "execution_count": 169,
   "id": "760b5dd6-bd8e-445a-b49f-09754d52fc71",
   "metadata": {},
   "outputs": [
    {
     "data": {
      "text/plain": [
       "Centrality\n",
       "Low       144027\n",
       "Medium    127307\n",
       "High       72594\n",
       "Name: count, dtype: int64"
      ]
     },
     "execution_count": 169,
     "metadata": {},
     "output_type": "execute_result"
    }
   ],
   "source": [
    "source_narr_df['Centrality'].value_counts()#['Perspective'].value_counts()"
   ]
  },
  {
   "cell_type": "code",
   "execution_count": 170,
   "id": "fc87bd3f-2b39-4d46-bfdf-ac3ed3a14567",
   "metadata": {},
   "outputs": [
    {
     "data": {
      "text/plain": [
       "Perspective\n",
       "Informative      129649\n",
       "Authoritative     85882\n",
       "Neutral           54767\n",
       "Supportive        49379\n",
       "Against           23592\n",
       "Other               659\n",
       "Name: count, dtype: int64"
      ]
     },
     "execution_count": 170,
     "metadata": {},
     "output_type": "execute_result"
    }
   ],
   "source": [
    "source_narr_df['Perspective'].value_counts()"
   ]
  },
  {
   "cell_type": "code",
   "execution_count": null,
   "id": "2424ae11-f442-44e4-9e66-d4c6e2488304",
   "metadata": {},
   "outputs": [],
   "source": []
  },
  {
   "cell_type": "code",
   "execution_count": null,
   "id": "6030a58b-fdf6-40a4-be32-258b2f09b93b",
   "metadata": {},
   "outputs": [],
   "source": []
  }
 ],
 "metadata": {
  "kernelspec": {
   "display_name": "Python 3 (ipykernel)",
   "language": "python",
   "name": "python3"
  },
  "language_info": {
   "codemirror_mode": {
    "name": "ipython",
    "version": 3
   },
   "file_extension": ".py",
   "mimetype": "text/x-python",
   "name": "python",
   "nbconvert_exporter": "python",
   "pygments_lexer": "ipython3",
   "version": "3.12.2"
  }
 },
 "nbformat": 4,
 "nbformat_minor": 5
}

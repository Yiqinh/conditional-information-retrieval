{
 "cells": [
  {
   "cell_type": "code",
   "execution_count": 30,
   "id": "a426f716-44de-433d-9ddc-fcfd236936cc",
   "metadata": {},
   "outputs": [],
   "source": [
    "import re\n",
    "import ast\n",
    "import pyperclip\n",
    "import pprint\n",
    "import os\n",
    "from together import Together\n",
    "from openai import OpenAI\n",
    "import pandas as pd \n",
    "import glob\n",
    "\n",
    "together_client = Together(api_key=open('/Users/spangher/.togetherai-usc-key.txt').read().strip())\n",
    "os.environ['OPENAI_API_KEY']=open('/Users/spangher/.openai-isi-project-key.txt').read().strip()\n",
    "openai_client = OpenAI()\n",
    "\n",
    "def query_together(prompt, client=together_client):\n",
    "    response = client.chat.completions.create(\n",
    "        model=\"meta-llama/Meta-Llama-3.1-70B-Instruct-Turbo\",\n",
    "        messages=[{\n",
    "                    \"role\": \"system\",\n",
    "                    \"content\": \"You are an experienced journalist.\"\n",
    "                },\n",
    "                {\n",
    "                    \"role\": \"user\",\n",
    "                    \"content\": prompt\n",
    "                }],\n",
    "        max_tokens=1048,\n",
    "        temperature=0.1,\n",
    "        top_p=0.7,\n",
    "        top_k=50,\n",
    "        repetition_penalty=1,\n",
    "        stop=[\"<|eot_id|>\",\"<|eom_id|>\"],\n",
    "    )\n",
    "    return response.choices[0].message.content\n",
    "\n",
    "def query_openai(prompt, client=openai_client):\n",
    "    completion = client.chat.completions.create(\n",
    "        model=\"gpt-4o-mini\",\n",
    "        messages=[\n",
    "            {\"role\": \"system\", \"content\": \"You are a helpful journalist assistant.\"},\n",
    "            {\n",
    "                \"role\": \"user\",\n",
    "                \"content\": prompt\n",
    "            }\n",
    "        ]\n",
    "    )\n",
    "    return completion.choices[0].message\n",
    "\n",
    "def parse_sources(input_string):\n",
    "    import re\n",
    "    # Remove any starting text before the first 'Name:'\n",
    "    match = re.search(r'\\bName:', input_string)\n",
    "    if match:\n",
    "        input_string = input_string[match.start():]\n",
    "    else:\n",
    "        # No 'Name:' found, return empty list\n",
    "        return []\n",
    "        \n",
    "    # Split the input string into blocks separated by two or more newlines\n",
    "    blocks = re.split(r'\\n\\s*\\n', input_string)\n",
    "    source_list = []\n",
    "    for block in blocks:\n",
    "        block = block.strip()\n",
    "        if not block:\n",
    "            continue\n",
    "            \n",
    "        # Initialize a dictionary to store fields\n",
    "        source_dict = {}\n",
    "        current_field = None\n",
    "        # Split the block into lines\n",
    "        lines = block.split('\\n')\n",
    "        for line in lines:\n",
    "            line = line.strip()\n",
    "            if not line:\n",
    "                continue\n",
    "                \n",
    "            # Match any line that looks like 'Field Name: Value'\n",
    "            m = re.match(r'^([^:]+):\\s*(.*)', line)\n",
    "            if m:\n",
    "                field_name = m.group(1).strip()\n",
    "                field_name = re.sub(r'\\s*(\\(?\\d+\\)?[:.\\s]*)', '', field_name).strip()\n",
    "                field_name = re.sub(r'-|\\**|Grouped', '', field_name).strip()\n",
    "                field_value = m.group(2).strip()\n",
    "                field_value = re.sub(r'\\(.*\\)', '', field_value).strip()\n",
    "                source_dict[field_name] = field_value\n",
    "                current_field = field_name\n",
    "            else:\n",
    "                # If the line doesn't start with a field name, it's part of the previous field\n",
    "                if current_field:\n",
    "                    source_dict[current_field] += ' ' + line\n",
    "        # Only add the source if it contains at least one field\n",
    "        if source_dict:\n",
    "            source_list.append(source_dict)\n",
    "    return source_list\n",
    "\n",
    "os.environ['TOKENIZERS_PARALLELISM'] = 'false'\n",
    "\n",
    "from tqdm.auto import tqdm\n",
    "def batchify(iterable, n=1):\n",
    "    l = len(iterable)\n",
    "    for ndx in range(0, l, n):\n",
    "        yield iterable[ndx:min(ndx + n, l)]\n",
    "\n",
    "import numpy as np \n",
    "from sklearn.metrics.pairwise import cosine_similarity\n",
    "from sentence_transformers import SentenceTransformer\n",
    "\n",
    "import jsonlines\n",
    "from io import StringIO\n",
    "import glob\n",
    "import json\n",
    "import re \n",
    "\n",
    "def format_batch_prompt(prompts):\n",
    "    output_ps = []\n",
    "    for i, p in enumerate(prompts):\n",
    "        message_body = {\n",
    "            \"custom_id\": f\"request-{i}\", \n",
    "            \"method\": \"POST\", \n",
    "            \"url\": \"/v1/chat/completions\", \n",
    "            \"body\": {\n",
    "                \"model\": \"gpt-4o-mini\", \n",
    "                \"messages\": [{\n",
    "                    \"role\": \"system\", \n",
    "                    \"content\": \"You are a helpful journalist's assistant.\"\n",
    "                },{\n",
    "                    \"role\": \"user\", \n",
    "                    \"content\": p\n",
    "                }],\"max_tokens\": 1000\n",
    "            }\n",
    "        }\n",
    "        output_ps.append(message_body)\n",
    "    return output_ps\n",
    "\n",
    "import random\n",
    "def create_triplets(full_data_exp_df, max_negatives_per_positive=10, max_positives=10):\n",
    "    \"\"\"\n",
    "    Creates triplets of the form {'anchor': source_1, 'positive': source_2_positive, 'negative': source_2_negative}\n",
    "    where each source_1 is paired with a source_2 with \"Yes\" (positive) and \"No\" (negative).\n",
    "    \n",
    "    Parameters:\n",
    "        full_data_exp_df (pd.DataFrame): DataFrame containing 'source_1', 'source_2', and 'output' columns.\n",
    "    \n",
    "    Returns:\n",
    "        triplets (list): List of dictionaries containing 'anchor', 'positive', and 'negative' keys.\n",
    "    \"\"\"\n",
    "    # Initialize an empty list to collect triplets\n",
    "    triplets = []\n",
    "\n",
    "    # Ensure the 'output' column is in a consistent format\n",
    "    full_data_exp_df['output'] = full_data_exp_df['output'].str.strip().str.lower()\n",
    "\n",
    "    # Group the DataFrame by 'source_1'\n",
    "    grouped = full_data_exp_df.groupby('source_1')\n",
    "\n",
    "    # For each group (each 'source_1')\n",
    "    for source_1_value, group in grouped:\n",
    "        # Get the positive and negative examples\n",
    "        positive_examples = group.loc[group['output'] == 'yes', 'source_2'].tolist()\n",
    "        negative_examples = group.loc[group['output'] == 'no', 'source_2'].tolist()\n",
    "\n",
    "        # If we have at least one positive and one negative example\n",
    "        if positive_examples and negative_examples:\n",
    "            # For each positive example\n",
    "            # Optionally limit the number of negatives per positive\n",
    "            if max_positives:\n",
    "                positives_to_use = random.sample(positive_examples, min(max_positives, len(positive_examples)))\n",
    "            else:\n",
    "                positives_to_use = positive_examples\n",
    "\n",
    "            if max_negatives_per_positive:\n",
    "                negatives_to_use = random.sample(negative_examples, min(max_negatives_per_positive, len(negative_examples)))\n",
    "            else:\n",
    "                negatives_to_use = negative_examples\n",
    "                \n",
    "            for pos in positives_to_use:\n",
    "                for neg in negatives_to_use:\n",
    "                    # Create triplet\n",
    "                    triplet = {\n",
    "                        'anchor': source_1_value,\n",
    "                        'positive': pos,\n",
    "                        'negative': neg\n",
    "                    }\n",
    "                    # Append to list\n",
    "                    triplets.append(triplet)\n",
    "                    \n",
    "    return triplets"
   ]
  },
  {
   "cell_type": "markdown",
   "id": "4b3c35ef-c278-4245-80c9-ff01b3c3a4b4",
   "metadata": {},
   "source": [
    "# Read in Keyword Files"
   ]
  },
  {
   "cell_type": "code",
   "execution_count": 2,
   "id": "c1f5260a-8f76-4ec1-beeb-20950f0b98ad",
   "metadata": {},
   "outputs": [],
   "source": [
    "files = glob.glob('../data/v2_narr_keywords/*')\n",
    "dfs = []\n",
    "for f in files:\n",
    "    dfs.append(pd.read_json(f, lines=True))\n",
    "df = pd.concat(dfs)"
   ]
  },
  {
   "cell_type": "code",
   "execution_count": 3,
   "id": "cc324046-1487-43b9-a8ba-12ad72a043e2",
   "metadata": {},
   "outputs": [],
   "source": [
    "source_df = (\n",
    "    df\n",
    "    .assign(parsed_sources=lambda df: df['response'].apply(parse_sources))\n",
    "    .explode('parsed_sources')\n",
    "    .dropna()\n",
    ")\n",
    "\n",
    "source_df = (source_df[['url', 'parsed_sources']]\n",
    " .pipe(lambda df: pd.concat([\n",
    "     df['url'].reset_index(drop=True),\n",
    "     pd.DataFrame(df['parsed_sources'].tolist())\n",
    " ], axis=1)\n",
    "    )\n",
    ")"
   ]
  },
  {
   "cell_type": "code",
   "execution_count": 5,
   "id": "8da45386-3c05-46e3-814a-3e4926c0936b",
   "metadata": {},
   "outputs": [],
   "source": [
    "cols_to_keep = ['url', 'Name', 'Original Name', 'Narrative Function', 'Is_Error']\n",
    "source_df = source_df[cols_to_keep]#.dropna()"
   ]
  },
  {
   "cell_type": "code",
   "execution_count": 5,
   "id": "6b2351bf-2700-41dc-8dbe-0e1fef93c461",
   "metadata": {},
   "outputs": [],
   "source": [
    "# source_df.to_csv('../make_source_label_hierarchy/similarity_training_data/source-df-to-label.csv')\n",
    "source_df = pd.read_csv('../make_source_label_hierarchy/similarity_training_data/source-df-to-label.csv')"
   ]
  },
  {
   "cell_type": "code",
   "execution_count": 244,
   "id": "a54e4299-497f-4843-9177-7f9b3fcab153",
   "metadata": {},
   "outputs": [],
   "source": [
    "pairwise_samples_to_evaluate = (\n",
    "    source_df\n",
    "     .loc[lambda df: df['Is_Error'] == 'No']['Narrative Function']\n",
    "     .pipe(lambda s:\n",
    "          pd.concat([\n",
    "                s.sample(frac=10, replace=True).reset_index(drop=True).rename('source_1'),\n",
    "                s.sample(frac=10, replace=True).reset_index(drop=True).rename('source_2')\n",
    "            ], axis=1).dropna()\n",
    "          )\n",
    ")"
   ]
  },
  {
   "cell_type": "code",
   "execution_count": null,
   "id": "8db2dffb-7478-4f82-b079-70f5ea6b0601",
   "metadata": {},
   "outputs": [],
   "source": [
    "model = SentenceTransformer(\"all-MiniLM-L6-v2\")\n",
    "embs = (\n",
    "    source_df\n",
    "        .loc[lambda df: df['Is_Error'] == 'No']['Narrative Function']\n",
    "        .dropna()\n",
    "        .pipe(lambda s: model.encode(s.str.split(':').str.get(0).tolist(), show_progress_bar=True))\n",
    ")"
   ]
  },
  {
   "cell_type": "code",
   "execution_count": 735,
   "id": "04ee3384-5205-4899-9d30-474551b93c3c",
   "metadata": {},
   "outputs": [],
   "source": [
    "idx_of_df = source_df.loc[lambda df: df['Is_Error'] == 'No']['Narrative Function'].dropna().index"
   ]
  },
  {
   "cell_type": "code",
   "execution_count": 369,
   "id": "613357b1-8443-4081-b1ef-491cf0ef21b9",
   "metadata": {},
   "outputs": [],
   "source": [
    "high_sim_pairs = (\n",
    "    pd.DataFrame(np.tril(cosine_similarity(embs, embs)), index=idx_of_df, columns=idx_of_df)\n",
    "     .unstack()\n",
    "     .loc[lambda s: s > .3]\n",
    "     .loc[lambda s: s < .99999]\n",
    "     .reset_index()\n",
    "     .loc[lambda df: df['level_0'] != df['level_1']]\n",
    ")"
   ]
  },
  {
   "cell_type": "code",
   "execution_count": 433,
   "id": "a18ec569-1e7a-4233-863c-4f6c55311364",
   "metadata": {},
   "outputs": [],
   "source": [
    "high_sim_sample = high_sim_pairs.sample(2_000_000)"
   ]
  },
  {
   "cell_type": "code",
   "execution_count": 434,
   "id": "7421b97d-ac6b-4db7-8e02-c455a6aa31e4",
   "metadata": {},
   "outputs": [],
   "source": [
    "high_sim_pairwise_samples_to_evaluate = (\n",
    "    source_df['Narrative Function']\n",
    "     .pipe(lambda s:\n",
    "          pd.concat([\n",
    "                s.loc[high_sim_sample['level_0']].rename('source_1').reset_index(drop=True),\n",
    "                s.loc[high_sim_sample['level_1']].rename('source_2').reset_index(drop=True),\n",
    "            ], axis=1).dropna()\n",
    "          )\n",
    "    .drop_duplicates()\n",
    ")"
   ]
  },
  {
   "cell_type": "code",
   "execution_count": 456,
   "id": "5b85e44b-8ab4-4601-9af6-d3dcd36488aa",
   "metadata": {},
   "outputs": [],
   "source": [
    "k = 5\n",
    "prompt = (\"\"\"I will show you {k} pairs of sources, all from different news articles.\n",
    "\n",
    "Are the two sources in each pair playing similar narrative roles in their respective articles?\n",
    "Think broadly about the role the source is playing, given the description. Don't pay attention to the specific events of each story.\n",
    "Answer with \"Yes\" or \"No\".\n",
    "\n",
    "\"\"\" + \n",
    "'\\n'.join(list(map(lambda x: f'{x}. Source 1: {{source_1_{x}}}, Source 2: {{source_2_{x}}}', range(1, k+1))))\n",
    "\n",
    "+\"\"\"\n",
    "\n",
    "Answer each sequentially and number them with 1., 2., 3., etc.\"\"\")\n",
    "# Explain your decision and then answer with \"Yes\" or \"No\"."
   ]
  },
  {
   "cell_type": "code",
   "execution_count": null,
   "id": "10100095-eb3e-4e06-bbb9-cfaf10150cd2",
   "metadata": {},
   "outputs": [],
   "source": [
    "all_prompts = []\n",
    "for t in tqdm(batchify(high_sim_pairwise_samples_to_evaluate, k), total=int(len(high_sim_pairwise_samples_to_evaluate) / 5)):\n",
    "    input_dict = {}\n",
    "    for i, (_, row) in enumerate(t.iterrows()):\n",
    "        r = row.rename(lambda x: f\"{x}_{i+1}\")\n",
    "        input_dict.update(r)\n",
    "    p = prompt.format(k=k, **input_dict)\n",
    "    all_prompts.append(p)"
   ]
  },
  {
   "cell_type": "code",
   "execution_count": 658,
   "id": "81cbc43d-d9d2-4ca1-b650-fcc04e18ff5e",
   "metadata": {},
   "outputs": [],
   "source": [
    "# p_idx = 1\n",
    "# resp = query_together(all_prompts[p_idx])\n",
    "# # print(resp)\n",
    "# resp = query_openai(all_prompts[p_idx])\n",
    "# # print(resp)\n",
    "# print(all_prompts[p_idx])"
   ]
  },
  {
   "cell_type": "code",
   "execution_count": 496,
   "id": "7c34066c-81b8-4d01-a450-32daf861360a",
   "metadata": {},
   "outputs": [],
   "source": [
    "prompt_batches = []\n",
    "for prompt_batch in batchify(all_prompts, 40_000):\n",
    "    batch_to_write = format_batch_prompt(prompt_batch)\n",
    "    prompt_batches.append(batch_to_write)"
   ]
  },
  {
   "cell_type": "code",
   "execution_count": 498,
   "id": "2d314dd5-a9ea-4445-b169-662526cc7948",
   "metadata": {},
   "outputs": [],
   "source": [
    "# ! mkdir -p ../data/openai-batches/narr-role-similarity/"
   ]
  },
  {
   "cell_type": "code",
   "execution_count": 499,
   "id": "8587c137-0eef-4776-9fd0-e19cecd85591",
   "metadata": {},
   "outputs": [],
   "source": [
    "for i, b in enumerate(prompt_batches):\n",
    "    with jsonlines.open(f'../data/openai-batches/narr-role-similarity/narr-role-similarity-batch-{i}.jsonl', 'w') as f:\n",
    "        f.write_all(b)"
   ]
  },
  {
   "cell_type": "code",
   "execution_count": 1,
   "id": "137df02b-77a2-42ff-a20c-67795fc25341",
   "metadata": {},
   "outputs": [],
   "source": [
    "import pandas as pd "
   ]
  },
  {
   "cell_type": "code",
   "execution_count": 7,
   "id": "248d4e78-7d5d-4ae0-a9fa-7c0a80c34dd4",
   "metadata": {},
   "outputs": [],
   "source": [
    "t = pd.read_json(\"../data/openai-batches/narr-role-similarity/narr-role-similarity-batch-0.jsonl\", lines=True)"
   ]
  },
  {
   "cell_type": "code",
   "execution_count": 18,
   "id": "b85fc1cb-b904-4669-812c-4864ae05c491",
   "metadata": {},
   "outputs": [
    {
     "name": "stdout",
     "output_type": "stream",
     "text": [
      "I will show you 5 pairs of sources, all from different news articles.\n",
      "\n",
      "Are the two sources in each pair playing similar narrative roles in their respective articles?\n",
      "Think broadly about the role the source is playing, given the description. Don't pay attention to the specific events of each story.\n",
      "Answer with \"Yes\" or \"No\".\n",
      "\n",
      "1. Source 1: \"Supporting Organization\": This source is an organization that is supporting the efforts of the main actor and providing additional context., Source 2: \"Government Response\": This source is a government official, providing a response to the breach and calling for regulatory action.\n",
      "2. Source 1: \"Example\": This source is used to provide an example or anecdote to illustrate a point., Source 2: \"Explainer\": This source is used to explain how the software works and its benefits.\n",
      "3. Source 1: \"Example\": This source is used as an example to illustrate the mobile payment solution., Source 2: \"Evidence\": This source is used to provide evidence for the effectiveness of DRG stimulation in treating complex regional pain syndrome and causalgia.\n",
      "4. Source 1: \"Expert Opinion\": This source is used to provide expert opinion on the importance of natively unified cybersecurity., Source 2: \"Authority\": This source is used to provide expert opinion and emphasize the importance of employee engagement in security.\n",
      "5. Source 1: \"Expert\": This source is an expert in occupational health and provides context and information on the risks faced by food processing workers., Source 2: \"Context\": This source is used to provide information on the decision-making process for refinancing student loans.\n",
      "\n",
      "Answer each sequentially and number them with 1., 2., 3., etc.\n"
     ]
    }
   ],
   "source": [
    "print(t['body'][1]['messages'][1]['content'])"
   ]
  },
  {
   "cell_type": "code",
   "execution_count": null,
   "id": "ff6aa905-f49b-49da-8577-0320cf2cf261",
   "metadata": {},
   "outputs": [],
   "source": []
  },
  {
   "cell_type": "code",
   "execution_count": null,
   "id": "42486d4d-8ff5-4f4c-ac36-032a1021d9fb",
   "metadata": {},
   "outputs": [],
   "source": []
  },
  {
   "cell_type": "code",
   "execution_count": 500,
   "id": "8c208dfc-1a0d-4534-99cb-af81dfa7c3ed",
   "metadata": {},
   "outputs": [],
   "source": [
    "# rm ../data/openai-batches/narr-role-similarity/b*"
   ]
  },
  {
   "cell_type": "code",
   "execution_count": 501,
   "id": "72c9ffa5-c93f-47f4-9c66-7c5d9dd4e29d",
   "metadata": {},
   "outputs": [
    {
     "data": {
      "application/vnd.jupyter.widget-view+json": {
       "model_id": "f6fa08433b684e2bacda84b168f6828f",
       "version_major": 2,
       "version_minor": 0
      },
      "text/plain": [
       "  0%|          | 0/10 [00:00<?, ?it/s]"
      ]
     },
     "metadata": {},
     "output_type": "display_data"
    }
   ],
   "source": [
    "all_batch_files = []\n",
    "for f in tqdm(glob.glob('../data/openai-batches/narr-role-similarity/narr-role-similarity-batch-*')):\n",
    "    batch_input_file = openai_client.files.create(file=open(f, \"rb\"), purpose=\"batch\")\n",
    "    all_batch_files.append(batch_input_file)"
   ]
  },
  {
   "cell_type": "code",
   "execution_count": 541,
   "id": "079a4086-de01-4a51-8b56-2de99bbfb9d6",
   "metadata": {},
   "outputs": [],
   "source": [
    "all_batch_file_df = pd.DataFrame(list(map(lambda x: x.to_dict(), all_batch_files)))"
   ]
  },
  {
   "cell_type": "code",
   "execution_count": 493,
   "id": "5a438874-cc79-48ad-9a5f-b41a4b478cb5",
   "metadata": {},
   "outputs": [],
   "source": [
    "# for b in all_batch_files:\n",
    "    # openai_client.files.delete(b.id)"
   ]
  },
  {
   "cell_type": "code",
   "execution_count": 509,
   "id": "cb170b1a-2d47-4109-937a-d43b9d5d8ae0",
   "metadata": {},
   "outputs": [],
   "source": [
    "all_batch_ids = []\n",
    "for b in all_batch_files[1:]:\n",
    "    batch_input_file_id = b.id\n",
    "    b_record = openai_client.batches.create(\n",
    "        input_file_id=batch_input_file_id,\n",
    "        endpoint=\"/v1/chat/completions\",\n",
    "        completion_window=\"24h\",\n",
    "        metadata={\n",
    "          \"description\": \"nightly eval job\"\n",
    "        }\n",
    "    )\n",
    "    all_batch_ids.append(b_record.id)"
   ]
  },
  {
   "cell_type": "code",
   "execution_count": null,
   "id": "8bd5124d-c24c-43bf-92a9-8f935be85f6a",
   "metadata": {},
   "outputs": [],
   "source": [
    "## download data from OpenAI\n",
    "\n",
    "all_batch_info = list(map(openai_client.batches.retrieve, all_batch_ids))\n",
    "all_batch_info_df = pd.DataFrame(list(map(lambda x: x.to_dict(), all_batch_info)))\n",
    "\n",
    "df = (\n",
    "    all_batch_info_df\n",
    "         [['input_file_id', 'output_file_id']]\n",
    "         .merge(all_batch_file_df[['id', 'filename']], left_on='input_file_id', right_on='id')\n",
    "         [['output_file_id', 'filename']]\n",
    ")\n",
    "for _, (openai_completed_file_id, orig_filename) in df.iterrows():\n",
    "    fname, fext = os.path.splitext(orig_filename)\n",
    "    fout = f'../data/openai-batches/narr-role-similarity/{fname}__output{fext}'\n",
    "    file_response = openai_client.files.content(openai_completed_file_id)\n",
    "    with open(fout, 'w') as f:\n",
    "        f.write(file_response.text)"
   ]
  },
  {
   "cell_type": "code",
   "execution_count": null,
   "id": "851b8b45-4ce0-442a-9121-b581942bae95",
   "metadata": {},
   "outputs": [],
   "source": [
    "import glob, os, re\n",
    "import jsonlines\n",
    "## read input/output files\n",
    "\n",
    "output_files = glob.glob('../data/openai-batches/narr-role-similarity/*__output.jsonl')\n",
    "input_files = glob.glob('../data/openai-batches/narr-role-similarity/*.jsonl')\n",
    "input_files = list(filter(lambda x: '__output' not in x, input_files))\n",
    "\n",
    "all_data = []\n",
    "for f in output_files:\n",
    "    data = list(jsonlines.open(f))\n",
    "    data_df = pd.DataFrame(data)\n",
    "    data_df['filename'] = os.path.basename(f)\n",
    "    all_data.append(data_df)\n",
    "\n",
    "all_input_data = []\n",
    "for f in input_files:\n",
    "    data = list(jsonlines.open(f))\n",
    "    data_df = pd.DataFrame(data)\n",
    "    data_df['filename'] = os.path.basename(f)\n",
    "    all_input_data.append(data_df)\n",
    "\n",
    "all_output_data_df = pd.concat(all_data)\n",
    "all_input_data_df = pd.concat(all_input_data)\n",
    "\n",
    "##\n",
    "all_input_data_df['input'] = all_input_data_df['body'].str.get('messages').str.get(1).str.get('content')\n",
    "all_input_data_df['f_key'] =  all_input_data_df['filename'].str.replace('.jsonl', '')\n",
    "##\n",
    "all_output_data_df['output'] = all_output_data_df['response'].str.get('body').str.get('choices').str.get(0).str.get('message').str.get('content')\n",
    "all_output_data_df['f_key'] = all_output_data_df['filename'].str.split('__').str.get(0)\n",
    "\n",
    "full_data_df = all_input_data_df[['custom_id', 'f_key', 'input']].merge(all_output_data_df[['custom_id', 'f_key', 'output']])\n",
    "full_data_df['input'] = full_data_df['input'].str.split('\\n').apply(lambda x: list(filter(lambda y: re.search(r'^\\d\\.', y), x)))\n",
    "full_data_df['output'] = full_data_df['output'].str.split('\\n')\n",
    "full_data_df=  full_data_df.loc[lambda df: df['output'].str.len() == 5]\n",
    "full_data_exp_df = full_data_df.explode(['input', 'output'])\n",
    "full_data_exp_df['input_chunks'] = full_data_exp_df['input'].str.split(r'Source \\d\\:', regex=True)\n",
    "\n",
    "full_data_exp_df = (\n",
    "    full_data_exp_df\n",
    "         .assign(source_1=lambda df: df['input_chunks'].str.get(1).str.strip())\n",
    "         .assign(source_2=lambda df: df['input_chunks'].str.get(2).str.strip())\n",
    "         .drop(columns=['input', 'input_chunks'])\n",
    ")\n",
    "\n",
    "full_data_exp_df['output'] = full_data_exp_df['output'].str.replace(r'\\d\\.', '', regex=True).str.strip()\n",
    "full_data_exp_df = full_data_exp_df.reset_index(drop=True)\n",
    "full_data_exp_df['source_1'] = full_data_exp_df['source_1'].str.rstrip(',')"
   ]
  },
  {
   "cell_type": "code",
   "execution_count": 95,
   "id": "ca22cfac-0a26-4079-b38b-fb8a4b76f6df",
   "metadata": {},
   "outputs": [],
   "source": [
    "# full_data_exp_df.to_csv('../make_source_label_hierarchy/similarity_training_data/batch-processed-openai-labeled-data.csv.gz', compression='gzip')"
   ]
  },
  {
   "cell_type": "code",
   "execution_count": 719,
   "id": "6ac5e359-fc9b-4812-b53e-9f91734ba9ef",
   "metadata": {},
   "outputs": [],
   "source": [
    "triplets = create_triplets(full_data_exp_df, max_positives=8, max_negatives_per_positive=8)"
   ]
  },
  {
   "cell_type": "code",
   "execution_count": 724,
   "id": "01a60a73-658e-440a-95f8-501257f51f8b",
   "metadata": {},
   "outputs": [],
   "source": [
    "with jsonlines.open('../data/similarity_training_data/source-triplets.jsonl', 'w') as f:\n",
    "    f.write_all(triplets)"
   ]
  },
  {
   "cell_type": "code",
   "execution_count": 725,
   "id": "3dbcf526-e11e-4738-b079-20e83eb3d2f5",
   "metadata": {},
   "outputs": [
    {
     "data": {
      "text/plain": [
       "[{'anchor': '\"ADDITIONAL_INFO\": This source is used to provide additional information and tips about credit scores.,',\n",
       "  'positive': '\"Additional Information\": The source is used to provide additional information about the investigation.',\n",
       "  'negative': '\"Policy Announcement\": This source is used to announce and explain the new policy.'},\n",
       " {'anchor': '\"ADDITIONAL_INFO\": This source is used to provide additional information and tips about credit scores.,',\n",
       "  'positive': '\"Additional Information\": The source is used to provide additional information about the investigation.',\n",
       "  'negative': '\"Data Point\": This source is used to provide data and statistics to support the article\\'s claims about small business owners\\' plans and concerns regarding cybersecurity and IoT investments.'}]"
      ]
     },
     "execution_count": 725,
     "metadata": {},
     "output_type": "execute_result"
    }
   ],
   "source": [
    "triplets[:2]"
   ]
  },
  {
   "cell_type": "markdown",
   "id": "7db77c11-5988-4f90-ac7d-b37e7e824f7a",
   "metadata": {},
   "source": [
    "# Evaluate"
   ]
  },
  {
   "cell_type": "code",
   "execution_count": 15,
   "id": "467ba011-7d8f-4e0f-a372-7d172dbdcd80",
   "metadata": {},
   "outputs": [],
   "source": [
    "from sklearn.metrics import f1_score\n",
    "from tqdm.auto import tqdm\n",
    "from sentence_transformers import SentenceTransformer\n",
    "import pandas as pd \n",
    "import numpy as np \n",
    "from sklearn.metrics.pairwise import cosine_similarity\n",
    "\n",
    "scratch_proj_dir = '/scratch1/spangher/conditional-information-retrieval'\n",
    "full_data_exp_df = pd.read_csv(\n",
    "    f'{scratch_proj_dir}/make_source_label_hierarchy/similarity_training_data/batch-processed-openai-labeled-data.csv.gz', \n",
    "    index_col=0\n",
    ")"
   ]
  },
  {
   "cell_type": "code",
   "execution_count": 3,
   "id": "05e988ae-ea1a-4114-9189-2b62ecfe38ef",
   "metadata": {},
   "outputs": [],
   "source": [
    "# model = SentenceTransformer(\"all-MiniLM-L6-v2\")\n",
    "model = SentenceTransformer(\"../make_source_label_hierarchy/trained-models/mpnet-trained-model\")"
   ]
  },
  {
   "cell_type": "code",
   "execution_count": 7,
   "id": "52bb7966-17c5-42cf-b1ce-53a5423084d1",
   "metadata": {},
   "outputs": [],
   "source": [
    "source_df = pd.read_csv(f'{scratch_proj_dir}/make_source_label_hierarchy/similarity_training_data/source-df-to-label.csv', index_col=0)\n",
    "source_df = source_df.loc[lambda df: df['Is_Error'] == 'No']\n",
    "source_df = source_df.loc[lambda df: df['Narrative Function'].notnull()]"
   ]
  },
  {
   "cell_type": "code",
   "execution_count": 61,
   "id": "5aec0a8a-ff5a-4508-8efb-45763bc0459d",
   "metadata": {},
   "outputs": [],
   "source": [
    "embs = np.loadtxt('../make_source_label_hierarchy/similarity_training_data/custom-embs.txt')\n",
    "# embs = np.load('/scratch1/spangher/conditional-information-retrieval/make_source_label_hierarchy/similarity_training_data/source_label_hierarchy_train_embeddings.txt.npy')"
   ]
  },
  {
   "cell_type": "code",
   "execution_count": 62,
   "id": "08e95ac0-b444-4754-9728-f59eaf6c0aa3",
   "metadata": {},
   "outputs": [
    {
     "data": {
      "text/plain": [
       "(35903, 768)"
      ]
     },
     "execution_count": 62,
     "metadata": {},
     "output_type": "execute_result"
    }
   ],
   "source": [
    "embs.shape"
   ]
  },
  {
   "cell_type": "code",
   "execution_count": 63,
   "id": "bddf833c-86a1-4cbc-8fc7-808487ed0597",
   "metadata": {},
   "outputs": [],
   "source": [
    "high_sim_pairs = (\n",
    "    pd.DataFrame(np.tril(cosine_similarity(embs, embs)), index=source_df.index, columns=source_df.index)\n",
    "     .unstack()\n",
    "     .loc[lambda s: s > .1]\n",
    ")"
   ]
  },
  {
   "cell_type": "code",
   "execution_count": 64,
   "id": "9d8a3a5f-3f08-4fbf-bd17-24e58df71d11",
   "metadata": {},
   "outputs": [],
   "source": [
    "input_sent_df = pd.concat([\n",
    "    source_df.loc[high_sim_pairs.reset_index()['level_0']]['Narrative Function'].to_frame('sent_1').reset_index(drop=True),\n",
    "    source_df.loc[high_sim_pairs.reset_index()['level_1']]['Narrative Function'].to_frame('sent_2').reset_index(drop=True),\n",
    "    high_sim_pairs.to_frame('distance').reset_index(drop=True)\n",
    "], axis=1)\n",
    "# high_sim_pairs.reset_index()"
   ]
  },
  {
   "cell_type": "code",
   "execution_count": 82,
   "id": "f6e2a729-59aa-4e4c-9019-54d2f1e12414",
   "metadata": {},
   "outputs": [],
   "source": [
    "sbert_eval_data = (\n",
    "    full_data_exp_df\n",
    "        .merge(input_sent_df, left_on=['source_1', 'source_2'], right_on=['sent_1', 'sent_2'], how='left')\n",
    "        # [['output', 'distance']]\n",
    ")"
   ]
  },
  {
   "cell_type": "code",
   "execution_count": 66,
   "id": "dd9b30fa-4c88-491a-ae55-b7cdd63380ba",
   "metadata": {},
   "outputs": [
    {
     "data": {
      "text/plain": [
       "output\n",
       "No     0.348549\n",
       "Yes    0.517865\n",
       "Name: distance, dtype: float64"
      ]
     },
     "execution_count": 66,
     "metadata": {},
     "output_type": "execute_result"
    }
   ],
   "source": [
    "sbert_eval_data.fillna(0).groupby('output')['distance'].mean()"
   ]
  },
  {
   "cell_type": "code",
   "execution_count": 816,
   "id": "cd9126e8-2a2e-4e2f-bb05-ae1a657f2251",
   "metadata": {},
   "outputs": [
    {
     "data": {
      "text/plain": [
       "output\n",
       "no     0.280045\n",
       "yes    0.365856\n",
       "Name: distance, dtype: float32"
      ]
     },
     "execution_count": 816,
     "metadata": {},
     "output_type": "execute_result"
    }
   ],
   "source": [
    "sbert_eval_data.fillna(0).groupby('output')['distance'].mean()"
   ]
  },
  {
   "cell_type": "code",
   "execution_count": 67,
   "id": "54a1570a-780d-4f5e-b3b4-659e16b3b509",
   "metadata": {},
   "outputs": [
    {
     "data": {
      "application/vnd.jupyter.widget-view+json": {
       "model_id": "aa9981754aaa404397ef6e8bd7559eae",
       "version_major": 2,
       "version_minor": 0
      },
      "text/plain": [
       "  0%|          | 0/20 [00:00<?, ?it/s]"
      ]
     },
     "metadata": {},
     "output_type": "display_data"
    }
   ],
   "source": [
    "from sklearn.metrics import precision_score, recall_score, f1_score\n",
    "f1s = []\n",
    "for i in tqdm(np.arange(0, 1, .05)):\n",
    "    binarized_data = (\n",
    "        sbert_eval_data\n",
    "             .fillna(0)\n",
    "             .assign(y_true=lambda df: df['output'].map({'yes': 1, 'no': 0, 'Yes': 1, 'No': 0}))\n",
    "             .assign(y_pred=lambda df: df['distance'].fillna(0).pipe(lambda s: pd.Series(np.where(s < i, 0, 1))))\n",
    "    )\n",
    "\n",
    "    f1s.append({\n",
    "        'threshold': i,\n",
    "        'f1_score': f1_score(binarized_data['y_true'], binarized_data['y_pred']),\n",
    "        'prec_score': precision_score(binarized_data['y_true'], binarized_data['y_pred']),\n",
    "        'recall_score': recall_score(binarized_data['y_true'], binarized_data['y_pred']),\n",
    "    })"
   ]
  },
  {
   "cell_type": "code",
   "execution_count": 84,
   "id": "a7cf1a1e-ed10-4e52-8d98-ffb6b429e642",
   "metadata": {},
   "outputs": [],
   "source": [
    "prec_errors = sbert_eval_data.loc[lambda df: df['distance'] > .7].loc[lambda df: df['output'] == 'No']"
   ]
  },
  {
   "cell_type": "code",
   "execution_count": 93,
   "id": "4c797bf8-2461-4fbe-8c59-c552880ad84c",
   "metadata": {},
   "outputs": [
    {
     "data": {
      "text/plain": [
       "{'custom_id': 'request-36',\n",
       " 'f_key': 'narr-role-similarity-batch-9',\n",
       " 'output': 'Yes',\n",
       " 'source_1': '\"Alternative Perspective\": This source is used to provide an alternative perspective on the labor dispute, and to offer a different analysis of the implications of the agreement.',\n",
       " 'source_2': '\"Counterpoint\": This source provides a contrasting view to the main actor\\'s plans and actions.',\n",
       " 'sent_1': '\"Alternative Perspective\": This source is used to provide an alternative perspective on the labor dispute, and to offer a different analysis of the implications of the agreement.',\n",
       " 'sent_2': '\"Counterpoint\": This source provides a contrasting view to the main actor\\'s plans and actions.',\n",
       " 'distance': 0.2797901793754877}"
      ]
     },
     "execution_count": 93,
     "metadata": {},
     "output_type": "execute_result"
    }
   ],
   "source": [
    "sbert_eval_data.loc[lambda df: df['distance'] < .3].loc[lambda df: df['output'] == 'Yes'].iloc[2].to_dict()"
   ]
  },
  {
   "cell_type": "code",
   "execution_count": 80,
   "id": "27387b5e-b374-47fe-aaff-3c898c86177f",
   "metadata": {},
   "outputs": [
    {
     "data": {
      "text/plain": [
       "distance\n",
       "0.1    0.027467\n",
       "0.2    0.134139\n",
       "0.3    0.246986\n",
       "0.4    0.249522\n",
       "0.5    0.188544\n",
       "0.6    0.101467\n",
       "0.7    0.037279\n",
       "0.8    0.012369\n",
       "0.9    0.002132\n",
       "1.0    0.000095\n",
       "Name: proportion, dtype: float64"
      ]
     },
     "execution_count": 80,
     "metadata": {},
     "output_type": "execute_result"
    }
   ],
   "source": [
    "sbert_eval_data['distance'].round(1).value_counts(normalize=True).sort_index()"
   ]
  },
  {
   "cell_type": "code",
   "execution_count": 68,
   "id": "a1fc4b62-34d1-4e25-96c8-7aaf5139c936",
   "metadata": {
    "scrolled": true
   },
   "outputs": [
    {
     "data": {
      "text/html": [
       "<div>\n",
       "<style scoped>\n",
       "    .dataframe tbody tr th:only-of-type {\n",
       "        vertical-align: middle;\n",
       "    }\n",
       "\n",
       "    .dataframe tbody tr th {\n",
       "        vertical-align: top;\n",
       "    }\n",
       "\n",
       "    .dataframe thead th {\n",
       "        text-align: right;\n",
       "    }\n",
       "</style>\n",
       "<table border=\"1\" class=\"dataframe\">\n",
       "  <thead>\n",
       "    <tr style=\"text-align: right;\">\n",
       "      <th></th>\n",
       "      <th>threshold</th>\n",
       "      <th>f1_score</th>\n",
       "      <th>prec_score</th>\n",
       "      <th>recall_score</th>\n",
       "    </tr>\n",
       "  </thead>\n",
       "  <tbody>\n",
       "    <tr>\n",
       "      <th>0</th>\n",
       "      <td>0.00</td>\n",
       "      <td>0.433902</td>\n",
       "      <td>0.277059</td>\n",
       "      <td>1.000000</td>\n",
       "    </tr>\n",
       "    <tr>\n",
       "      <th>1</th>\n",
       "      <td>0.05</td>\n",
       "      <td>0.435040</td>\n",
       "      <td>0.277989</td>\n",
       "      <td>0.999988</td>\n",
       "    </tr>\n",
       "    <tr>\n",
       "      <th>2</th>\n",
       "      <td>0.10</td>\n",
       "      <td>0.435040</td>\n",
       "      <td>0.277989</td>\n",
       "      <td>0.999988</td>\n",
       "    </tr>\n",
       "    <tr>\n",
       "      <th>3</th>\n",
       "      <td>0.15</td>\n",
       "      <td>0.444454</td>\n",
       "      <td>0.285749</td>\n",
       "      <td>0.999668</td>\n",
       "    </tr>\n",
       "    <tr>\n",
       "      <th>4</th>\n",
       "      <td>0.20</td>\n",
       "      <td>0.461914</td>\n",
       "      <td>0.300562</td>\n",
       "      <td>0.997294</td>\n",
       "    </tr>\n",
       "    <tr>\n",
       "      <th>5</th>\n",
       "      <td>0.25</td>\n",
       "      <td>0.491410</td>\n",
       "      <td>0.327175</td>\n",
       "      <td>0.986723</td>\n",
       "    </tr>\n",
       "    <tr>\n",
       "      <th>6</th>\n",
       "      <td>0.30</td>\n",
       "      <td>0.532405</td>\n",
       "      <td>0.368773</td>\n",
       "      <td>0.957085</td>\n",
       "    </tr>\n",
       "    <tr>\n",
       "      <th>7</th>\n",
       "      <td>0.35</td>\n",
       "      <td>0.578351</td>\n",
       "      <td>0.425103</td>\n",
       "      <td>0.904374</td>\n",
       "    </tr>\n",
       "    <tr>\n",
       "      <th>8</th>\n",
       "      <td>0.40</td>\n",
       "      <td>0.623124</td>\n",
       "      <td>0.498137</td>\n",
       "      <td>0.831842</td>\n",
       "    </tr>\n",
       "    <tr>\n",
       "      <th>9</th>\n",
       "      <td>0.45</td>\n",
       "      <td>0.632826</td>\n",
       "      <td>0.573694</td>\n",
       "      <td>0.705550</td>\n",
       "    </tr>\n",
       "    <tr>\n",
       "      <th>10</th>\n",
       "      <td>0.50</td>\n",
       "      <td>0.589697</td>\n",
       "      <td>0.643669</td>\n",
       "      <td>0.544076</td>\n",
       "    </tr>\n",
       "    <tr>\n",
       "      <th>11</th>\n",
       "      <td>0.55</td>\n",
       "      <td>0.496949</td>\n",
       "      <td>0.698932</td>\n",
       "      <td>0.385534</td>\n",
       "    </tr>\n",
       "    <tr>\n",
       "      <th>12</th>\n",
       "      <td>0.60</td>\n",
       "      <td>0.354324</td>\n",
       "      <td>0.729809</td>\n",
       "      <td>0.233955</td>\n",
       "    </tr>\n",
       "    <tr>\n",
       "      <th>13</th>\n",
       "      <td>0.65</td>\n",
       "      <td>0.244430</td>\n",
       "      <td>0.777149</td>\n",
       "      <td>0.145021</td>\n",
       "    </tr>\n",
       "    <tr>\n",
       "      <th>14</th>\n",
       "      <td>0.70</td>\n",
       "      <td>0.148557</td>\n",
       "      <td>0.817320</td>\n",
       "      <td>0.081704</td>\n",
       "    </tr>\n",
       "    <tr>\n",
       "      <th>15</th>\n",
       "      <td>0.75</td>\n",
       "      <td>0.088959</td>\n",
       "      <td>0.891624</td>\n",
       "      <td>0.046815</td>\n",
       "    </tr>\n",
       "    <tr>\n",
       "      <th>16</th>\n",
       "      <td>0.80</td>\n",
       "      <td>0.042117</td>\n",
       "      <td>0.942392</td>\n",
       "      <td>0.021540</td>\n",
       "    </tr>\n",
       "    <tr>\n",
       "      <th>17</th>\n",
       "      <td>0.85</td>\n",
       "      <td>0.015496</td>\n",
       "      <td>0.974809</td>\n",
       "      <td>0.007810</td>\n",
       "    </tr>\n",
       "    <tr>\n",
       "      <th>18</th>\n",
       "      <td>0.90</td>\n",
       "      <td>0.003893</td>\n",
       "      <td>0.997595</td>\n",
       "      <td>0.001950</td>\n",
       "    </tr>\n",
       "    <tr>\n",
       "      <th>19</th>\n",
       "      <td>0.95</td>\n",
       "      <td>0.000684</td>\n",
       "      <td>1.000000</td>\n",
       "      <td>0.000342</td>\n",
       "    </tr>\n",
       "  </tbody>\n",
       "</table>\n",
       "</div>"
      ],
      "text/plain": [
       "    threshold  f1_score  prec_score  recall_score\n",
       "0        0.00  0.433902    0.277059      1.000000\n",
       "1        0.05  0.435040    0.277989      0.999988\n",
       "2        0.10  0.435040    0.277989      0.999988\n",
       "3        0.15  0.444454    0.285749      0.999668\n",
       "4        0.20  0.461914    0.300562      0.997294\n",
       "5        0.25  0.491410    0.327175      0.986723\n",
       "6        0.30  0.532405    0.368773      0.957085\n",
       "7        0.35  0.578351    0.425103      0.904374\n",
       "8        0.40  0.623124    0.498137      0.831842\n",
       "9        0.45  0.632826    0.573694      0.705550\n",
       "10       0.50  0.589697    0.643669      0.544076\n",
       "11       0.55  0.496949    0.698932      0.385534\n",
       "12       0.60  0.354324    0.729809      0.233955\n",
       "13       0.65  0.244430    0.777149      0.145021\n",
       "14       0.70  0.148557    0.817320      0.081704\n",
       "15       0.75  0.088959    0.891624      0.046815\n",
       "16       0.80  0.042117    0.942392      0.021540\n",
       "17       0.85  0.015496    0.974809      0.007810\n",
       "18       0.90  0.003893    0.997595      0.001950\n",
       "19       0.95  0.000684    1.000000      0.000342"
      ]
     },
     "execution_count": 68,
     "metadata": {},
     "output_type": "execute_result"
    }
   ],
   "source": [
    "pd.DataFrame(f1s)"
   ]
  },
  {
   "cell_type": "code",
   "execution_count": 819,
   "id": "e6714cc0-295e-45e9-b373-28e9e1bcfe4a",
   "metadata": {
    "scrolled": true
   },
   "outputs": [
    {
     "data": {
      "text/html": [
       "<div>\n",
       "<style scoped>\n",
       "    .dataframe tbody tr th:only-of-type {\n",
       "        vertical-align: middle;\n",
       "    }\n",
       "\n",
       "    .dataframe tbody tr th {\n",
       "        vertical-align: top;\n",
       "    }\n",
       "\n",
       "    .dataframe thead th {\n",
       "        text-align: right;\n",
       "    }\n",
       "</style>\n",
       "<table border=\"1\" class=\"dataframe\">\n",
       "  <thead>\n",
       "    <tr style=\"text-align: right;\">\n",
       "      <th></th>\n",
       "      <th>threshold</th>\n",
       "      <th>f1_score</th>\n",
       "    </tr>\n",
       "  </thead>\n",
       "  <tbody>\n",
       "    <tr>\n",
       "      <th>0</th>\n",
       "      <td>0.00</td>\n",
       "      <td>0.449812</td>\n",
       "    </tr>\n",
       "    <tr>\n",
       "      <th>1</th>\n",
       "      <td>0.05</td>\n",
       "      <td>0.394453</td>\n",
       "    </tr>\n",
       "    <tr>\n",
       "      <th>2</th>\n",
       "      <td>0.10</td>\n",
       "      <td>0.394453</td>\n",
       "    </tr>\n",
       "    <tr>\n",
       "      <th>3</th>\n",
       "      <td>0.15</td>\n",
       "      <td>0.394453</td>\n",
       "    </tr>\n",
       "    <tr>\n",
       "      <th>4</th>\n",
       "      <td>0.20</td>\n",
       "      <td>0.394453</td>\n",
       "    </tr>\n",
       "    <tr>\n",
       "      <th>5</th>\n",
       "      <td>0.25</td>\n",
       "      <td>0.394453</td>\n",
       "    </tr>\n",
       "    <tr>\n",
       "      <th>6</th>\n",
       "      <td>0.30</td>\n",
       "      <td>0.394453</td>\n",
       "    </tr>\n",
       "    <tr>\n",
       "      <th>7</th>\n",
       "      <td>0.35</td>\n",
       "      <td>0.460963</td>\n",
       "    </tr>\n",
       "    <tr>\n",
       "      <th>8</th>\n",
       "      <td>0.40</td>\n",
       "      <td>0.471455</td>\n",
       "    </tr>\n",
       "    <tr>\n",
       "      <th>9</th>\n",
       "      <td>0.45</td>\n",
       "      <td>0.476128</td>\n",
       "    </tr>\n",
       "    <tr>\n",
       "      <th>10</th>\n",
       "      <td>0.50</td>\n",
       "      <td>0.456747</td>\n",
       "    </tr>\n",
       "    <tr>\n",
       "      <th>11</th>\n",
       "      <td>0.55</td>\n",
       "      <td>0.381064</td>\n",
       "    </tr>\n",
       "    <tr>\n",
       "      <th>12</th>\n",
       "      <td>0.60</td>\n",
       "      <td>0.340102</td>\n",
       "    </tr>\n",
       "    <tr>\n",
       "      <th>13</th>\n",
       "      <td>0.65</td>\n",
       "      <td>0.321647</td>\n",
       "    </tr>\n",
       "    <tr>\n",
       "      <th>14</th>\n",
       "      <td>0.70</td>\n",
       "      <td>0.298745</td>\n",
       "    </tr>\n",
       "    <tr>\n",
       "      <th>15</th>\n",
       "      <td>0.75</td>\n",
       "      <td>0.258089</td>\n",
       "    </tr>\n",
       "    <tr>\n",
       "      <th>16</th>\n",
       "      <td>0.80</td>\n",
       "      <td>0.219565</td>\n",
       "    </tr>\n",
       "    <tr>\n",
       "      <th>17</th>\n",
       "      <td>0.85</td>\n",
       "      <td>0.002858</td>\n",
       "    </tr>\n",
       "    <tr>\n",
       "      <th>18</th>\n",
       "      <td>0.90</td>\n",
       "      <td>0.000729</td>\n",
       "    </tr>\n",
       "    <tr>\n",
       "      <th>19</th>\n",
       "      <td>0.95</td>\n",
       "      <td>0.000239</td>\n",
       "    </tr>\n",
       "  </tbody>\n",
       "</table>\n",
       "</div>"
      ],
      "text/plain": [
       "    threshold  f1_score\n",
       "0        0.00  0.449812\n",
       "1        0.05  0.394453\n",
       "2        0.10  0.394453\n",
       "3        0.15  0.394453\n",
       "4        0.20  0.394453\n",
       "5        0.25  0.394453\n",
       "6        0.30  0.394453\n",
       "7        0.35  0.460963\n",
       "8        0.40  0.471455\n",
       "9        0.45  0.476128\n",
       "10       0.50  0.456747\n",
       "11       0.55  0.381064\n",
       "12       0.60  0.340102\n",
       "13       0.65  0.321647\n",
       "14       0.70  0.298745\n",
       "15       0.75  0.258089\n",
       "16       0.80  0.219565\n",
       "17       0.85  0.002858\n",
       "18       0.90  0.000729\n",
       "19       0.95  0.000239"
      ]
     },
     "execution_count": 819,
     "metadata": {},
     "output_type": "execute_result"
    }
   ],
   "source": [
    "pd.DataFrame(f1s)"
   ]
  },
  {
   "cell_type": "code",
   "execution_count": 54,
   "id": "bba2ff17-ef84-4045-bd28-855a62b3a51f",
   "metadata": {},
   "outputs": [
    {
     "data": {
      "text/plain": [
       "0.8306007014120191"
      ]
     },
     "execution_count": 54,
     "metadata": {},
     "output_type": "execute_result"
    }
   ],
   "source": [
    "from sklearn.metrics import roc_auc_score\n",
    "(sbert_eval_data\n",
    " .fillna(0)\n",
    " .assign(output=lambda df: df['output'].map({'yes': 1, 'no': 0, 'Yes': 1, 'No': 0}))\n",
    " .pipe(lambda df: roc_auc_score(y_true=df['output'], y_score=df['distance']))\n",
    ")"
   ]
  },
  {
   "cell_type": "code",
   "execution_count": null,
   "id": "2eeff871-7556-43a8-8144-0345a61cb981",
   "metadata": {},
   "outputs": [],
   "source": []
  },
  {
   "cell_type": "code",
   "execution_count": null,
   "id": "3e312414-d2d8-4c27-8428-9fe178ba841e",
   "metadata": {},
   "outputs": [],
   "source": []
  },
  {
   "cell_type": "code",
   "execution_count": null,
   "id": "28b28b06-5070-4a04-a03f-f17562f94918",
   "metadata": {},
   "outputs": [],
   "source": []
  },
  {
   "cell_type": "code",
   "execution_count": null,
   "id": "b497befa-ed22-432d-bf6c-756534415ac5",
   "metadata": {},
   "outputs": [],
   "source": []
  },
  {
   "cell_type": "code",
   "execution_count": null,
   "id": "c78650fe-06ee-4c4a-8383-0ba71a763d87",
   "metadata": {},
   "outputs": [],
   "source": []
  },
  {
   "cell_type": "code",
   "execution_count": null,
   "id": "7da01410-73de-49ad-b502-b2affb8d3004",
   "metadata": {},
   "outputs": [],
   "source": []
  },
  {
   "cell_type": "code",
   "execution_count": null,
   "id": "9deae040-e779-4db0-99aa-2e6b3ff117b7",
   "metadata": {},
   "outputs": [],
   "source": []
  },
  {
   "cell_type": "code",
   "execution_count": null,
   "id": "a784a24d-52f8-43fa-8ef5-db192bd562c2",
   "metadata": {},
   "outputs": [],
   "source": []
  },
  {
   "cell_type": "code",
   "execution_count": null,
   "id": "31d46fdf-3eda-49c3-b242-ceb24db2cb11",
   "metadata": {},
   "outputs": [],
   "source": []
  },
  {
   "cell_type": "code",
   "execution_count": null,
   "id": "5a0109ed-9117-472e-b073-373a661b99cf",
   "metadata": {},
   "outputs": [],
   "source": []
  },
  {
   "cell_type": "code",
   "execution_count": null,
   "id": "9f6c7a29-b88f-48c3-a231-b83152a11ca8",
   "metadata": {},
   "outputs": [],
   "source": []
  },
  {
   "cell_type": "code",
   "execution_count": 439,
   "id": "5a8bd47f-a965-4737-925f-f4e21e7e7459",
   "metadata": {},
   "outputs": [],
   "source": [
    "import tiktoken\n",
    "enc = tiktoken.get_encoding(\"o200k_base\")"
   ]
  },
  {
   "cell_type": "code",
   "execution_count": 440,
   "id": "806325ce-7f22-404b-a64a-6c078b762d40",
   "metadata": {},
   "outputs": [],
   "source": [
    "tokenized_prompts = enc.encode_batch(all_prompts)"
   ]
  },
  {
   "cell_type": "code",
   "execution_count": 444,
   "id": "b116d717-3b0e-42d4-a4ab-ce5a82c4baa4",
   "metadata": {},
   "outputs": [],
   "source": [
    "t = sum(list(map(len, tokenized_prompts)))"
   ]
  },
  {
   "cell_type": "code",
   "execution_count": 446,
   "id": "1ee9a827-3729-45e2-b3f4-5478d8d60d50",
   "metadata": {},
   "outputs": [
    {
     "data": {
      "text/plain": [
       "9.963498750000001"
      ]
     },
     "execution_count": 446,
     "metadata": {},
     "output_type": "execute_result"
    }
   ],
   "source": [
    "t / 1_000_000 * 0.075"
   ]
  },
  {
   "cell_type": "markdown",
   "id": "2f2eb7ba-8934-4545-ae57-d77b8c538cd8",
   "metadata": {},
   "source": [
    "# Try Original Narrative DF"
   ]
  },
  {
   "cell_type": "code",
   "execution_count": 106,
   "id": "66ec712c-af2c-450f-a95f-bf1f752d0d50",
   "metadata": {},
   "outputs": [],
   "source": [
    "import json\n",
    "parsed_narr = (\n",
    "    json.load(open('../data/v2_narr_parsed/v2_train_set_narr.json')) +\n",
    "    json.load(open('../data/v2_narr_parsed/v2_test_set_narr.json'))\n",
    ")\n",
    "\n",
    "narr_df = pd.DataFrame(parsed_narr)"
   ]
  },
  {
   "cell_type": "code",
   "execution_count": 108,
   "id": "d1f88532-f173-453a-a8d6-78c4ff0bfb2d",
   "metadata": {},
   "outputs": [],
   "source": [
    "source_narr_df = narr_df.explode('sources').dropna().reset_index(drop=True)\n",
    "source_narr_df = pd.concat([\n",
    "    source_narr_df[['url']],\n",
    "    source_narr_df['sources'].pipe(lambda s: pd.DataFrame(s.tolist()))\n",
    "], axis=1)"
   ]
  },
  {
   "cell_type": "code",
   "execution_count": 110,
   "id": "364fad46-e9ff-4c1c-bdf9-c90aebd204d1",
   "metadata": {},
   "outputs": [
    {
     "data": {
      "text/plain": [
       "0         Provides expert opinion on the risks of Facebo...\n",
       "1         Provides information about the Cambridge Analy...\n",
       "2         Provides a notification about push notifications.\n",
       "3         Introduces the topic of Facebook's data collec...\n",
       "4         Provides the results of the 2012 Paychex Payro...\n",
       "                                ...                        \n",
       "343923    Provides information about its own business pr...\n",
       "343924    Moderates a discussion about Wall Street's val...\n",
       "343925    Provides information about market data and ind...\n",
       "343926    Provides information about the Dow Jones brand...\n",
       "343927                    Claims copyright over the article\n",
       "Name: Narrative function, Length: 343928, dtype: object"
      ]
     },
     "execution_count": 110,
     "metadata": {},
     "output_type": "execute_result"
    }
   ],
   "source": [
    "source_narr_df['Narrative function']"
   ]
  },
  {
   "cell_type": "code",
   "execution_count": 127,
   "id": "479fd625-7720-4418-b4df-7252919198fb",
   "metadata": {},
   "outputs": [
    {
     "data": {
      "text/plain": [
       "{'url': 'www.ctvnews.ca/sci-tech/instagram-is-rolling-out-new-supervision-tools-for-parents-in-the-u-s-1.5821572',\n",
       " 'Name': 'Instagram',\n",
       " 'Narrative Function': '\"Event Context\": This source provides context for the events that led to the release of the new tools, including the pause of the plan to release a version of Instagram for kids under 13.',\n",
       " 'Narrative function': 'Provides information about its own actions and features.'}"
      ]
     },
     "execution_count": 127,
     "metadata": {},
     "output_type": "execute_result"
    }
   ],
   "source": [
    "(source_df\n",
    "     .loc[lambda df: df['Is_Error'] == 'No']\n",
    "     [['url', 'Name', 'Narrative Function']]\n",
    "     .merge(source_narr_df[['url', 'Name', 'Narrative function']], on=['url', 'Name'])\n",
    "     .iloc[5]\n",
    "     .to_dict()\n",
    ")"
   ]
  },
  {
   "cell_type": "code",
   "execution_count": null,
   "id": "b7b364e5-1b74-414f-9efd-c74b1c1c192a",
   "metadata": {},
   "outputs": [],
   "source": []
  },
  {
   "cell_type": "code",
   "execution_count": null,
   "id": "609b26b1-0983-409b-909e-9e02a6d8afc3",
   "metadata": {},
   "outputs": [],
   "source": []
  },
  {
   "cell_type": "code",
   "execution_count": null,
   "id": "a7b050b5-0452-4af3-b649-44708ba5d2d5",
   "metadata": {},
   "outputs": [],
   "source": []
  },
  {
   "cell_type": "code",
   "execution_count": null,
   "id": "d37859c8-95ce-44a7-9855-6cc0de0ec1ea",
   "metadata": {},
   "outputs": [],
   "source": []
  },
  {
   "cell_type": "code",
   "execution_count": null,
   "id": "31def43c-7306-485e-a4ad-c79ee9654840",
   "metadata": {},
   "outputs": [],
   "source": []
  }
 ],
 "metadata": {
  "kernelspec": {
   "display_name": "Python 3 (ipykernel)",
   "language": "python",
   "name": "python3"
  },
  "language_info": {
   "codemirror_mode": {
    "name": "ipython",
    "version": 3
   },
   "file_extension": ".py",
   "mimetype": "text/x-python",
   "name": "python",
   "nbconvert_exporter": "python",
   "pygments_lexer": "ipython3",
   "version": "3.12.2"
  }
 },
 "nbformat": 4,
 "nbformat_minor": 5
}

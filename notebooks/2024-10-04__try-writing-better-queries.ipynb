{
 "cells": [
  {
   "cell_type": "code",
   "execution_count": 2,
   "id": "545a187b-37a8-4bcc-9e1b-1f1966ff2f88",
   "metadata": {},
   "outputs": [],
   "source": [
    "import json\n",
    "import pandas as pd"
   ]
  },
  {
   "cell_type": "code",
   "execution_count": 3,
   "id": "f295b516-c3df-4d9c-b48e-c68dde243a61",
   "metadata": {},
   "outputs": [],
   "source": [
    "import re\n",
    "import ast\n",
    "import pyperclip\n",
    "import pprint\n",
    "import os\n",
    "from together import Together\n",
    "from openai import OpenAI\n",
    "import pandas as pd \n",
    "import glob\n",
    "\n",
    "together_client = Together(api_key=open('/Users/spangher/.togetherai-usc-key.txt').read().strip())\n",
    "os.environ['OPENAI_API_KEY']=open('/Users/spangher/.openai-isi-project-key.txt').read().strip()\n",
    "openai_client = OpenAI()\n",
    "\n",
    "def query_together(prompt, client=together_client):\n",
    "    response = client.chat.completions.create(\n",
    "        model=\"meta-llama/Meta-Llama-3.1-70B-Instruct-Turbo\",\n",
    "        messages=[{\n",
    "                    \"role\": \"system\",\n",
    "                    \"content\": \"You are an experienced journalist.\"\n",
    "                },\n",
    "                {\n",
    "                    \"role\": \"user\",\n",
    "                    \"content\": prompt\n",
    "                }],\n",
    "        max_tokens=1048,\n",
    "        temperature=0.1,\n",
    "        top_p=0.7,\n",
    "        top_k=50,\n",
    "        repetition_penalty=1,\n",
    "        stop=[\"<|eot_id|>\",\"<|eom_id|>\"],\n",
    "    )\n",
    "    return response.choices[0].message.content"
   ]
  },
  {
   "cell_type": "code",
   "execution_count": 4,
   "id": "60cf9b40-1c00-4501-8b89-8b041a75aa28",
   "metadata": {},
   "outputs": [],
   "source": [
    "data = json.load(open('../data/v2_queries/combined_test_prompt1_v2__with_oracle.json'))"
   ]
  },
  {
   "cell_type": "code",
   "execution_count": 5,
   "id": "bfa7787a-2097-4873-83be-e8f35ee133c9",
   "metadata": {},
   "outputs": [
    {
     "data": {
      "text/plain": [
       "{'url': '947thewave.cbslocal.com/2015/05/04/celebrate-cinco-de-mayo-2015-with-these-freebies-deals/',\n",
       " 'query': 'What are some of the best deals and freebies available on Cinco de Mayo 2015?',\n",
       " 'sources': [{'Name': 'Puebla',\n",
       "   'Original Name': 'Puebla',\n",
       "   'Information': 'Puebla is a Mexican state where the day is celebrated.',\n",
       "   'oracle_label': 'Background Information'},\n",
       "  {'Name': 'Businesses',\n",
       "   'Original Name': 'businesses',\n",
       "   'Information': 'Various businesses offer great deals and freebies on this day of celebration.',\n",
       "   'oracle_label': 'Peripheral Context'},\n",
       "  {'Name': 'Starbucks',\n",
       "   'Original Name': 'Starbucks',\n",
       "   'Information': 'Starbucks, a popular coffee chain, has a Happy Hour promotion where customers can purchase a frappuccino for half off between 3-5pm on this day.',\n",
       "   'oracle_label': 'Anecdotes'},\n",
       "  {'Name': 'Del Taco',\n",
       "   'Original Name': 'Del Taco',\n",
       "   'Information': 'Del Taco, a fast-food chain, celebrates this day with their Taco Nights promotion, which takes place every Tuesday from 3-11pm, where customers can get three regular tacos for $1.09.',\n",
       "   'oracle_label': 'Anecdotes'}]}"
      ]
     },
     "execution_count": 5,
     "metadata": {},
     "output_type": "execute_result"
    }
   ],
   "source": [
    "data[0]"
   ]
  },
  {
   "cell_type": "code",
   "execution_count": 6,
   "id": "cc682371-afc2-4655-adf7-6ad5f7570ad5",
   "metadata": {
    "scrolled": true
   },
   "outputs": [
    {
     "data": {
      "text/plain": [
       "{'url': 'aap.thestreet.com/story/14570861/1/amazon-s-monster-beat.html',\n",
       " 'query': 'What investment strategy and resources can individual investors use to navigate complex financial markets and make informed investment decisions?',\n",
       " 'sources': [{'Name': 'Jim Cramer',\n",
       "   'Original Name': 'Jim Cramer',\n",
       "   'Information': \"Jim Cramer is a well-known investment pro and media personality. He has a members-only investing club called Action Alerts PLUS, which provides access to a $2.5MM+ charitable trust portfolio, real-time trade alerts, critical market insights, and direct access to him and his research team. He has a bullish market outlook and believes in being transparent and accountable to his members. He has a fundamentalist approach to investing and only recommends financially sound stocks. He has managed money for 38 of the wealthiest families in the world through his hedge fund, Cramer Berkowitz, and founded TheStreet, a leading financial media website. He writes daily market commentary for TheStreet's Real Money premium service and hosts CNBC's Mad Money and co-hosts CNBC's Squawk on the Street.\",\n",
       "   'oracle_label': 'Central Figure'},\n",
       "  {'Name': 'Action Alerts PLUS',\n",
       "   'Original Name': 'Action Alerts PLUS',\n",
       "   'Information': 'Action Alerts PLUS is a members-only investing club that provides access to a $2.5MM+ charitable trust portfolio, real-time trade alerts, critical market insights, and direct access to Jim Cramer and his research team. It holds monthly conference calls and has an interactive online forum for members.',\n",
       "   'oracle_label': 'Credibility and Engagement'},\n",
       "  {'Name': 'Critical Market',\n",
       "   'Original Name': 'Critical Market',\n",
       "   'Information': 'Critical Market provides critical market insights, including a weekly rundown of major market events, analysis of key opportunities and dangers, and guidance on how to position oneself for success.',\n",
       "   'oracle_label': 'Examples and Illustration'},\n",
       "  {'Name': 'Transparency',\n",
       "   'Original Name': 'Transparency',\n",
       "   'Information': 'Transparency is a principle of Action Alerts PLUS, which seeks to serve its members through transparency, education, and rigorous analysis. It has created dynamic indices to fit different investment styles, allowing members to customize their portfolios.',\n",
       "   'oracle_label': 'Expert Insights'},\n",
       "  {'Name': 'experts',\n",
       "   'Original Name': 'experts',\n",
       "   'Information': 'Some financial experts claim to guarantee above-average returns regardless of the market.',\n",
       "   'oracle_label': 'Alternative Viewpoints'},\n",
       "  {'Name': 'Portfolio Managers',\n",
       "   'Original Name': 'Portfolio Managers',\n",
       "   'Information': 'Portfolio Managers are criticized for not being transparent and accountable to their clients. Action Alerts PLUS takes a different approach, being an open book and always telling its members the truth.',\n",
       "   'oracle_label': 'Alternative Viewpoints'},\n",
       "  {'Name': 'TheStreet',\n",
       "   'Original Name': 'TheStreet',\n",
       "   'Information': 'TheStreet is a leading financial media website founded by Jim Cramer. Action Alerts PLUS is a registered trademark of TheStreet, Inc.',\n",
       "   'oracle_label': 'Author Perspective'},\n",
       "  {'Name': 'Unnamed',\n",
       "   'Original Name': None,\n",
       "   'Information': 'Action Alerts PLUS members have access to exclusive benefits, including direct access to Jim Cramer and his research team, monthly conference calls, and an interactive online forum. The service helps members become more knowledgeable and intelligent investors.',\n",
       "   'oracle_label': None}]}"
      ]
     },
     "execution_count": 6,
     "metadata": {},
     "output_type": "execute_result"
    }
   ],
   "source": [
    "data[1]"
   ]
  },
  {
   "cell_type": "code",
   "execution_count": null,
   "id": "c14bb439-a3c9-412f-9baa-ee126d72be64",
   "metadata": {},
   "outputs": [],
   "source": []
  },
  {
   "cell_type": "code",
   "execution_count": null,
   "id": "ce69f4e4-b70b-4ae3-8424-45df700cc8b3",
   "metadata": {},
   "outputs": [],
   "source": []
  },
  {
   "cell_type": "code",
   "execution_count": null,
   "id": "9c7cd832-e7e6-40ed-a736-e72843344e73",
   "metadata": {},
   "outputs": [],
   "source": []
  },
  {
   "cell_type": "code",
   "execution_count": null,
   "id": "2e692291-18c9-4ede-8f1e-a17e43eef76c",
   "metadata": {},
   "outputs": [],
   "source": []
  },
  {
   "cell_type": "code",
   "execution_count": null,
   "id": "92760fd1-b67d-469e-b212-8a2532ed5a6c",
   "metadata": {},
   "outputs": [],
   "source": []
  },
  {
   "cell_type": "code",
   "execution_count": null,
   "id": "d59d9c60-a4b4-47d6-9e07-308d3521e402",
   "metadata": {},
   "outputs": [],
   "source": []
  }
 ],
 "metadata": {
  "kernelspec": {
   "display_name": "Python 3 (ipykernel)",
   "language": "python",
   "name": "python3"
  },
  "language_info": {
   "codemirror_mode": {
    "name": "ipython",
    "version": 3
   },
   "file_extension": ".py",
   "mimetype": "text/x-python",
   "name": "python",
   "nbconvert_exporter": "python",
   "pygments_lexer": "ipython3",
   "version": "3.12.2"
  }
 },
 "nbformat": 4,
 "nbformat_minor": 5
}

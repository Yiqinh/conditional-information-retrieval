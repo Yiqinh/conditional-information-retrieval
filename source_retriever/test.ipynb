{
 "cells": [
  {
   "cell_type": "code",
   "execution_count": 46,
   "metadata": {},
   "outputs": [],
   "source": [
    "import os\n",
    "import json\n",
    "import logging\n",
    "import argparse\n",
    "import torch\n"
   ]
  },
  {
   "cell_type": "code",
   "execution_count": 47,
   "metadata": {},
   "outputs": [
    {
     "name": "stdout",
     "output_type": "stream",
     "text": [
      "/Users/yiqinhuang/NLP/conditional-information-retrieval/source_retriever\n"
     ]
    }
   ],
   "source": [
    "!pwd"
   ]
  },
  {
   "cell_type": "code",
   "execution_count": 48,
   "metadata": {},
   "outputs": [],
   "source": [
    "here = \"/Users/yiqinhuang/NLP/conditional-information-retrieval/source_retriever\""
   ]
  },
  {
   "cell_type": "code",
   "execution_count": 69,
   "metadata": {},
   "outputs": [],
   "source": [
    "info_dir = os.path.join(os.path.dirname(here), \"source_summaries\", \"v2_info_parsed\")\n",
    "\n",
    "f = open(os.path.join(info_dir, \"v2_test_set.json\"))\n",
    "test_data = json.load(f)\n",
    "\n",
    "test_sources = []\n",
    "\n",
    "for article in test_data:\n",
    "    for source in article['sources']:\n",
    "        formatted_source = {\"id\": article['url'] + \"#\" + source['Name'], \"text\": source['Information']}\n",
    "        test_sources.append(formatted_source)\n",
    "\n",
    "\n",
    "\n",
    "f = open(os.path.join(info_dir, \"v2_train_set.json\"))\n",
    "train_data = json.load(f)\n",
    "\n",
    "train_sources = []\n",
    "\n",
    "for article in train_data:\n",
    "    for source in article['sources']:\n",
    "        formatted_source = {\"id\": article['url'] + \"#\" + source['Name'], \"text\": source['Information']}\n",
    "        train_sources.append(formatted_source)\n",
    "\n"
   ]
  },
  {
   "cell_type": "code",
   "execution_count": 67,
   "metadata": {},
   "outputs": [],
   "source": [
    "for source in train_sources:\n",
    "    if type(source['text']) != str:\n",
    "        print(source)\n",
    "        print(type(source['text']))"
   ]
  },
  {
   "cell_type": "code",
   "execution_count": 68,
   "metadata": {},
   "outputs": [],
   "source": [
    "for source in test_sources:\n",
    "    if type(source['text']) != str:\n",
    "        print(type(source['id']))"
   ]
  },
  {
   "cell_type": "code",
   "execution_count": 52,
   "metadata": {},
   "outputs": [
    {
     "name": "stdout",
     "output_type": "stream",
     "text": [
      "98103\n"
     ]
    }
   ],
   "source": [
    "print(len(test_sources))"
   ]
  },
  {
   "cell_type": "code",
   "execution_count": 45,
   "metadata": {},
   "outputs": [
    {
     "name": "stdout",
     "output_type": "stream",
     "text": [
      "391120\n"
     ]
    }
   ],
   "source": [
    "print(len(train_sources))"
   ]
  },
  {
   "cell_type": "code",
   "execution_count": 75,
   "metadata": {},
   "outputs": [],
   "source": [
    "f = open(os.path.join(info_dir, \"v2_test_set.json\"))\n",
    "test_data = json.load(f)\n",
    "\n",
    "f = open(os.path.join(info_dir, \"v2_train_set.json\"))\n",
    "train_data = json.load(f)\n",
    "\n",
    "new_urls = set()\n",
    "\n",
    "for article in test_data:\n",
    "    new_urls.add(article['url'])\n",
    "\n",
    "for article in train_data:\n",
    "    new_urls.add(article['url'])"
   ]
  },
  {
   "cell_type": "code",
   "execution_count": 78,
   "metadata": {},
   "outputs": [],
   "source": [
    "f = open(os.path.join(here, \"test_articles.json\"))\n",
    "test_data = json.load(f)\n",
    "\n",
    "f = open(os.path.join(here, \"training_articles.json\"))\n",
    "train_data = json.load(f)"
   ]
  },
  {
   "cell_type": "code",
   "execution_count": 79,
   "metadata": {},
   "outputs": [],
   "source": [
    "query_urls = set()\n",
    "\n",
    "for url, article in test_data.items():\n",
    "    query_urls.add(url)\n",
    "\n",
    "for url, article in train_data.items():\n",
    "    query_urls.add(url)"
   ]
  },
  {
   "cell_type": "code",
   "execution_count": 80,
   "metadata": {},
   "outputs": [
    {
     "name": "stdout",
     "output_type": "stream",
     "text": [
      "79192\n"
     ]
    }
   ],
   "source": [
    "print(len(query_urls))"
   ]
  },
  {
   "cell_type": "code",
   "execution_count": 81,
   "metadata": {},
   "outputs": [],
   "source": [
    "overlap = query_urls & new_urls"
   ]
  },
  {
   "cell_type": "code",
   "execution_count": 82,
   "metadata": {},
   "outputs": [
    {
     "name": "stdout",
     "output_type": "stream",
     "text": [
      "15847\n"
     ]
    }
   ],
   "source": [
    "print(len(overlap))"
   ]
  },
  {
   "cell_type": "code",
   "execution_count": null,
   "metadata": {},
   "outputs": [],
   "source": []
  }
 ],
 "metadata": {
  "language_info": {
   "name": "python"
  }
 },
 "nbformat": 4,
 "nbformat_minor": 2
}

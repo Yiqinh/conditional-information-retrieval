{
 "cells": [
  {
   "cell_type": "code",
   "execution_count": 27,
   "id": "4ef924c7-72a1-4756-a06a-e001bbcd8d22",
   "metadata": {},
   "outputs": [],
   "source": [
    "import pandas as pd \n",
    "import json\n",
    "import glob, re"
   ]
  },
  {
   "cell_type": "code",
   "execution_count": 13,
   "id": "443cc140-9ec8-4995-8f58-f8caaf964302",
   "metadata": {},
   "outputs": [
    {
     "name": "stdout",
     "output_type": "stream",
     "text": [
      "iter_0_SFR_V3_10000_10280.json  iter_3_SFR_V3_10000_10280.json\n",
      "iter_1_SFR_V3_10000_10280.json  iter_4_SFR_V3_10000_10280.json\n",
      "iter_2_SFR_V3_10000_10280.json  iter_5_SFR_V3_10000_10280.json\n"
     ]
    }
   ],
   "source": [
    "ls ../data/interleaving_results/v3_interleaving_results/"
   ]
  },
  {
   "cell_type": "code",
   "execution_count": 31,
   "id": "9678236a-6a9e-462e-bf07-b86b51a57828",
   "metadata": {},
   "outputs": [],
   "source": [
    "results = glob.glob('../data/interleaving_results/v3_interleaving_results/*')\n",
    "results = sorted(results, key=lambda x: int(re.search(r'iter_(\\d)', x)[1]))"
   ]
  },
  {
   "cell_type": "code",
   "execution_count": 55,
   "id": "42d513ee-b473-48a6-969a-32f68233c984",
   "metadata": {},
   "outputs": [],
   "source": [
    "all_query_results = []\n",
    "for i, fname in enumerate(results):\n",
    "    query_result = pd.DataFrame(json.load(open(fname)))\n",
    "    query_result = query_result.rename(columns={\n",
    "        'query': f'query_{i+1}',\n",
    "        'dr_sources': f'retrievals_{i+1}'\n",
    "    })\n",
    "    if i >0:\n",
    "        query_result = query_result.drop(columns='url')\n",
    "    all_query_results.append(query_result)"
   ]
  },
  {
   "cell_type": "code",
   "execution_count": 81,
   "id": "f984dc19-74ae-47e1-ac65-9853549d1f65",
   "metadata": {},
   "outputs": [],
   "source": [
    "ground_truth = pd.DataFrame(json.load(open('../data/v3_sources/v3_combined_ALL_with_oracle.json')))"
   ]
  },
  {
   "cell_type": "code",
   "execution_count": 90,
   "id": "bc0fc0d1-4f2a-4e30-9728-57639c89bee8",
   "metadata": {},
   "outputs": [],
   "source": [
    "all_query_results_df = pd.concat(all_query_results, axis=1)\n",
    "all_query_results_df = (\n",
    "    all_query_results_df\n",
    "         .merge(ground_truth[['url', 'truth']])\n",
    ")"
   ]
  },
  {
   "cell_type": "code",
   "execution_count": 93,
   "id": "d12c0c52-66e4-494f-83c7-c7f02248f242",
   "metadata": {},
   "outputs": [],
   "source": [
    "# all_query_results_df.to_json('../data/interleaving_results/stitched_sample_with_ground_truth.jsonl.gz',lines=True, compression='gzip', orient='records')"
   ]
  },
  {
   "cell_type": "code",
   "execution_count": 91,
   "id": "cf5ad704-4940-4928-886b-e4a5582ed0a0",
   "metadata": {},
   "outputs": [],
   "source": [
    "query_cols = list(filter(lambda x: 'query' in x, all_query_results_df.columns))"
   ]
  },
  {
   "cell_type": "code",
   "execution_count": 104,
   "id": "2ae2a8e8-02dc-43fd-ab9e-dc94bac87803",
   "metadata": {},
   "outputs": [
    {
     "data": {
      "text/plain": [
       "{'query_1': 'What are the most effective strategies for individuals to prepare for and navigate a potential recession, from a financial expert who has built a successful business and wealth through her own entrepreneurial endeavors?',\n",
       " 'query_2': ' What strategies have been effective for small business owners or entrepreneurs in countries that have recently experienced a recession, such as Greece or Argentina, in terms of preparing for and navigating economic downturns?',\n",
       " 'query_3': ' What are the most valuable lessons learned and strategies employed by individuals who have successfully navigated a recession in the past, and how can their experiences inform our preparation for a potential future recession?',\n",
       " 'query_4': ' What specific strategies have individuals from low-income households or economically disadvantaged regions used to prepare for and navigate past recessions, and what lessons can be learned from their experiences?',\n",
       " 'query_5': ' What strategies have individuals with unique financial circumstances, such as those with disabilities or freelancers, used to prepare for and navigate past recessions, and what specialized advice can financial experts offer to these groups in the face of a potential future recession?',\n",
       " 'query_6': ' What specific strategies do wealth managers or financial advisors recommend for high net worth individuals or those with complex financial situations to prepare for and navigate a potential recession, and how do these strategies differ from those recommended for the general population?'}"
      ]
     },
     "execution_count": 104,
     "metadata": {},
     "output_type": "execute_result"
    }
   ],
   "source": [
    "idx = 2\n",
    "all_query_results_df[query_cols].iloc[idx].to_dict()"
   ]
  },
  {
   "cell_type": "code",
   "execution_count": 105,
   "id": "d4db8454-e0d9-4d94-86cf-1551ff5e0fa3",
   "metadata": {},
   "outputs": [
    {
     "data": {
      "text/html": [
       "<div>\n",
       "<style scoped>\n",
       "    .dataframe tbody tr th:only-of-type {\n",
       "        vertical-align: middle;\n",
       "    }\n",
       "\n",
       "    .dataframe tbody tr th {\n",
       "        vertical-align: top;\n",
       "    }\n",
       "\n",
       "    .dataframe thead th {\n",
       "        text-align: right;\n",
       "    }\n",
       "</style>\n",
       "<table border=\"1\" class=\"dataframe\">\n",
       "  <thead>\n",
       "    <tr style=\"text-align: right;\">\n",
       "      <th></th>\n",
       "      <th>Name</th>\n",
       "      <th>Biography</th>\n",
       "      <th>Information</th>\n",
       "      <th>Perspective</th>\n",
       "      <th>Centrality</th>\n",
       "      <th>llama_label</th>\n",
       "    </tr>\n",
       "  </thead>\n",
       "  <tbody>\n",
       "    <tr>\n",
       "      <th>0</th>\n",
       "      <td>Ann Kaplan</td>\n",
       "      <td>A business Ph.D. and fintech entrepreneur who ...</td>\n",
       "      <td>Ann Kaplan shares her top 18 recession money r...</td>\n",
       "      <td>Authoritative</td>\n",
       "      <td>High</td>\n",
       "      <td>Expert</td>\n",
       "    </tr>\n",
       "    <tr>\n",
       "      <th>1</th>\n",
       "      <td>Catherine Valega</td>\n",
       "      <td>A CFP and wealth consultant</td>\n",
       "      <td>Catherine Valega suggests that workers aim for...</td>\n",
       "      <td>Informative</td>\n",
       "      <td>Medium</td>\n",
       "      <td>Expert</td>\n",
       "    </tr>\n",
       "    <tr>\n",
       "      <th>2</th>\n",
       "      <td>Equifax</td>\n",
       "      <td>A credit reporting agency</td>\n",
       "      <td>Equifax states that credit scores from 580 to ...</td>\n",
       "      <td>Informative</td>\n",
       "      <td>Low</td>\n",
       "      <td>Data Resource</td>\n",
       "    </tr>\n",
       "    <tr>\n",
       "      <th>3</th>\n",
       "      <td>Jim Cramer</td>\n",
       "      <td>A CNBC personality</td>\n",
       "      <td>Jim Cramer advises buying tangible stocks duri...</td>\n",
       "      <td>Supportive</td>\n",
       "      <td>Medium</td>\n",
       "      <td>Expert</td>\n",
       "    </tr>\n",
       "  </tbody>\n",
       "</table>\n",
       "</div>"
      ],
      "text/plain": [
       "               Name                                          Biography  \\\n",
       "0        Ann Kaplan  A business Ph.D. and fintech entrepreneur who ...   \n",
       "1  Catherine Valega                        A CFP and wealth consultant   \n",
       "2           Equifax                          A credit reporting agency   \n",
       "3        Jim Cramer                                 A CNBC personality   \n",
       "\n",
       "                                         Information    Perspective  \\\n",
       "0  Ann Kaplan shares her top 18 recession money r...  Authoritative   \n",
       "1  Catherine Valega suggests that workers aim for...    Informative   \n",
       "2  Equifax states that credit scores from 580 to ...    Informative   \n",
       "3  Jim Cramer advises buying tangible stocks duri...     Supportive   \n",
       "\n",
       "  Centrality    llama_label  \n",
       "0       High         Expert  \n",
       "1     Medium         Expert  \n",
       "2        Low  Data Resource  \n",
       "3     Medium         Expert  "
      ]
     },
     "execution_count": 105,
     "metadata": {},
     "output_type": "execute_result"
    }
   ],
   "source": [
    "pd.DataFrame(all_query_results_df['truth'].iloc[idx])[['Name', 'Biography', 'Information', 'Perspective', 'Centrality', 'llama_label']]"
   ]
  },
  {
   "cell_type": "code",
   "execution_count": null,
   "id": "28b40c26-b847-48c5-951e-054ad72c3f94",
   "metadata": {},
   "outputs": [],
   "source": []
  },
  {
   "cell_type": "code",
   "execution_count": null,
   "id": "262b61de-16ec-49d6-bc4b-71b89c832d53",
   "metadata": {},
   "outputs": [],
   "source": []
  },
  {
   "cell_type": "code",
   "execution_count": null,
   "id": "df74d50c-8c88-46bf-bfa1-714f269ca436",
   "metadata": {},
   "outputs": [],
   "source": []
  }
 ],
 "metadata": {
  "kernelspec": {
   "display_name": "Python 3 (ipykernel)",
   "language": "python",
   "name": "python3"
  },
  "language_info": {
   "codemirror_mode": {
    "name": "ipython",
    "version": 3
   },
   "file_extension": ".py",
   "mimetype": "text/x-python",
   "name": "python",
   "nbconvert_exporter": "python",
   "pygments_lexer": "ipython3",
   "version": "3.12.2"
  }
 },
 "nbformat": 4,
 "nbformat_minor": 5
}

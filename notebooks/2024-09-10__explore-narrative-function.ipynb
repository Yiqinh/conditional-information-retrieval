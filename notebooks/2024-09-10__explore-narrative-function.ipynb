{
 "cells": [
  {
   "cell_type": "code",
   "execution_count": 7,
   "id": "f8f8e017-fa2a-429b-8368-683e2f0a03c8",
   "metadata": {},
   "outputs": [],
   "source": [
    "import pandas as pd\n",
    "import json"
   ]
  },
  {
   "cell_type": "code",
   "execution_count": 11,
   "id": "bd6cae68-0cf0-4309-bb80-262d81975a6f",
   "metadata": {},
   "outputs": [],
   "source": [
    "# goals: \n",
    "# 1. evaluate centrality\n",
    "# 2. cluster narrative function\n",
    "# 3. "
   ]
  },
  {
   "cell_type": "code",
   "execution_count": null,
   "id": "bc0d67eb-9ff2-4237-b49b-343f1536255a",
   "metadata": {},
   "outputs": [],
   "source": [
    "parsed_narr = json.load(open('../source_summaries/v2_narr_parsed/v2_train_set_narr.json'))\n",
    "narr_df = pd.DataFrame(parsed_narr)\n",
    "source_df = narr_df.explode('sources').dropna().reset_index(drop=True)\n",
    "source_df = pd.concat([\n",
    "    source_df[['url']],\n",
    "    source_df['sources'].pipe(lambda s: pd.DataFrame(s.tolist()))\n",
    "], axis=1)"
   ]
  },
  {
   "cell_type": "code",
   "execution_count": 50,
   "id": "760b5dd6-bd8e-445a-b49f-09754d52fc71",
   "metadata": {},
   "outputs": [
    {
     "data": {
      "text/plain": [
       "Centrality\n",
       "Low               115003\n",
       "Medium            101954\n",
       "High               58060\n",
       "N/A                   38\n",
       "None                  31\n",
       "Not applicable         1\n",
       "Name: count, dtype: int64"
      ]
     },
     "execution_count": 50,
     "metadata": {},
     "output_type": "execute_result"
    }
   ],
   "source": [
    "source_df['Centrality'].value_counts()#['Perspective'].value_counts()"
   ]
  },
  {
   "cell_type": "code",
   "execution_count": 51,
   "id": "1ff17970-28d9-4048-8124-d041cc577728",
   "metadata": {},
   "outputs": [
    {
     "data": {
      "text/plain": [
       "Perspective\n",
       "Informative                 103715\n",
       "Authoritative                68894\n",
       "Neutral                      43741\n",
       "Supportive                   38837\n",
       "Against                      10446\n",
       "Skeptical                     8459\n",
       "Defensive                      474\n",
       "Analytical                     114\n",
       "Critical                        70\n",
       "N/A                             64\n",
       "None                            41\n",
       "Personal                        38\n",
       "Reflective                      28\n",
       "Humorous                        24\n",
       "Unknown                         17\n",
       "Promotional                     16\n",
       "Inquisitive                     15\n",
       "Sensational                     13\n",
       "Varied                          11\n",
       "Speculative                     10\n",
       "Mixed                            7\n",
       "Victim                           6\n",
       "For                              4\n",
       "Not applicable                   3\n",
       "Grateful                         3\n",
       "Uncooperative                    2\n",
       "Reassuring                       2\n",
       "Contrite                         2\n",
       "Optimistic                       2\n",
       "Advocative                       2\n",
       "Cautionary                       1\n",
       "Unresponsive                     1\n",
       "Irrelevant                       1\n",
       "Supportive and Against           1\n",
       "Historical                       1\n",
       "Self-promotional                 1\n",
       "Pessimistic                      1\n",
       "Corrective                       1\n",
       "Varies                           1\n",
       "Satirical                        1\n",
       "Accused                          1\n",
       "Accusatory                       1\n",
       "Unrelated                        1\n",
       "Investigative                    1\n",
       "Curious                          1\n",
       "Emotional                        1\n",
       "Diverse                          1\n",
       "Self-critical                    1\n",
       "Aggressive                       1\n",
       "Negative                         1\n",
       "Skeptical/Neutral                1\n",
       "Central figure                   1\n",
       "Divided                          1\n",
       "Skeptical/Supportive             1\n",
       "Silent                           1\n",
       "Skeptical and Supportive         1\n",
       "Cautious                         1\n",
       "Name: count, dtype: int64"
      ]
     },
     "execution_count": 51,
     "metadata": {},
     "output_type": "execute_result"
    }
   ],
   "source": [
    "source_df['Perspective'].value_counts()"
   ]
  },
  {
   "cell_type": "code",
   "execution_count": null,
   "id": "6030a58b-fdf6-40a4-be32-258b2f09b93b",
   "metadata": {},
   "outputs": [],
   "source": []
  }
 ],
 "metadata": {
  "kernelspec": {
   "display_name": "Python 3 (ipykernel)",
   "language": "python",
   "name": "python3"
  },
  "language_info": {
   "codemirror_mode": {
    "name": "ipython",
    "version": 3
   },
   "file_extension": ".py",
   "mimetype": "text/x-python",
   "name": "python",
   "nbconvert_exporter": "python",
   "pygments_lexer": "ipython3",
   "version": "3.12.2"
  }
 },
 "nbformat": 4,
 "nbformat_minor": 5
}

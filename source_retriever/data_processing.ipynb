{
 "cells": [
  {
   "cell_type": "code",
   "execution_count": 20,
   "metadata": {},
   "outputs": [],
   "source": [
    "import os\n",
    "import json\n",
    "import logging\n",
    "import argparse\n",
    "import torch\n"
   ]
  },
  {
   "cell_type": "code",
   "execution_count": 21,
   "metadata": {},
   "outputs": [],
   "source": [
    "here = \"/Users/yiqinhuang/NLP/conditional-information-retrieval/source_retriever\""
   ]
  },
  {
   "cell_type": "code",
   "execution_count": 22,
   "metadata": {},
   "outputs": [],
   "source": [
    "info_dir = os.path.join(os.path.dirname(here), \"source_summaries\", \"v2_info_parsed\")\n",
    "\n",
    "f = open(os.path.join(info_dir, \"v2_test_set.json\"))\n",
    "test_data = json.load(f)\n",
    "\n",
    "f = open(os.path.join(info_dir, \"v2_train_set.json\"))\n",
    "train_data = json.load(f)\n",
    "\n",
    "new_urls = set()\n",
    "\n",
    "for article in test_data:\n",
    "    new_urls.add(article['url'])\n",
    "\n",
    "for article in train_data:\n",
    "    new_urls.add(article['url'])"
   ]
  },
  {
   "cell_type": "code",
   "execution_count": 23,
   "metadata": {},
   "outputs": [],
   "source": [
    "narr_dir = os.path.join(os.path.dirname(here), \"source_summaries\", \"v2_narr_parsed\")\n",
    "\n",
    "f = open(os.path.join(narr_dir, \"v2_test_set_narr.json\"))\n",
    "test_narr_data = json.load(f)\n",
    "\n",
    "f = open(os.path.join(narr_dir, \"v2_train_set_narr.json\"))\n",
    "train_narr_data = json.load(f)\n",
    "\n",
    "narr_urls = set()\n",
    "\n",
    "for article in test_narr_data:\n",
    "    narr_urls.add(article['url'])\n",
    "\n",
    "for article in train_narr_data:\n",
    "    narr_urls.add(article['url'])"
   ]
  },
  {
   "cell_type": "code",
   "execution_count": 24,
   "metadata": {},
   "outputs": [
    {
     "name": "stdout",
     "output_type": "stream",
     "text": [
      "Processing file: query_train_prompt1_v2.json\n"
     ]
    }
   ],
   "source": [
    "query_urls = set()\n",
    "url_to_query = {}\n",
    "\n",
    "directory = os.path.join(os.path.dirname(here), 'source_summaries', 'v2_queries')\n",
    "\n",
    "for filename in os.listdir(directory):\n",
    "    file_path = os.path.join(directory, filename)\n",
    "    if os.path.isfile(file_path) and \".DS_Store\" not in file_path:\n",
    "        # Process the file\n",
    "        print(f\"Processing file: {filename}\")\n",
    "        f = open(file_path)\n",
    "        data = json.load(f)\n",
    "        for article in data:\n",
    "            query_urls.add(article['url'])\n",
    "            url_to_query[article['url']] = article['query'].split('\\n\\n')[-1]"
   ]
  },
  {
   "cell_type": "code",
   "execution_count": 25,
   "metadata": {},
   "outputs": [
    {
     "name": "stdout",
     "output_type": "stream",
     "text": [
      "46480\n"
     ]
    }
   ],
   "source": [
    "print(len(query_urls))"
   ]
  },
  {
   "cell_type": "code",
   "execution_count": 26,
   "metadata": {},
   "outputs": [
    {
     "name": "stdout",
     "output_type": "stream",
     "text": [
      "58098\n"
     ]
    }
   ],
   "source": [
    "print(len(new_urls))"
   ]
  },
  {
   "cell_type": "code",
   "execution_count": 27,
   "metadata": {},
   "outputs": [
    {
     "name": "stdout",
     "output_type": "stream",
     "text": [
      "57187\n"
     ]
    }
   ],
   "source": [
    "print(len(narr_urls))"
   ]
  },
  {
   "cell_type": "code",
   "execution_count": 28,
   "metadata": {},
   "outputs": [],
   "source": [
    "overlap = query_urls & new_urls & narr_urls"
   ]
  },
  {
   "cell_type": "code",
   "execution_count": 29,
   "metadata": {},
   "outputs": [
    {
     "name": "stdout",
     "output_type": "stream",
     "text": [
      "45739\n"
     ]
    }
   ],
   "source": [
    "print(len(overlap))"
   ]
  },
  {
   "cell_type": "code",
   "execution_count": 30,
   "metadata": {},
   "outputs": [
    {
     "name": "stdout",
     "output_type": "stream",
     "text": [
      "46480\n"
     ]
    }
   ],
   "source": [
    "query_new = query_urls & new_urls\n",
    "print(len(query_new))"
   ]
  },
  {
   "cell_type": "code",
   "execution_count": 31,
   "metadata": {},
   "outputs": [
    {
     "name": "stdout",
     "output_type": "stream",
     "text": [
      "46480\n"
     ]
    }
   ],
   "source": [
    "print(len(url_to_query))\n"
   ]
  },
  {
   "cell_type": "code",
   "execution_count": 32,
   "metadata": {},
   "outputs": [],
   "source": [
    "from collections import defaultdict\n",
    "test_res = defaultdict(dict)\n",
    "\n",
    "for article in test_data:\n",
    "    if article['url'] in query_urls:\n",
    "        test_res[article['url']]['url'] = article['url']\n",
    "        test_res[article['url']]['sources'] = article['sources']\n",
    "        test_res[article['url']]['query'] = url_to_query[article['url']]\n",
    "\n",
    "train_res = defaultdict(dict)\n",
    "\n",
    "for article in train_data:\n",
    "    if article['url'] in query_urls:\n",
    "        train_res[article['url']]['url'] = article['url']\n",
    "        train_res[article['url']]['sources'] = article['sources']\n",
    "        train_res[article['url']]['query'] = url_to_query[article['url']]\n",
    "\n",
    "\n"
   ]
  },
  {
   "cell_type": "code",
   "execution_count": 33,
   "metadata": {},
   "outputs": [
    {
     "name": "stdout",
     "output_type": "stream",
     "text": [
      "10\n",
      "46480\n",
      "46490\n"
     ]
    }
   ],
   "source": [
    "print(len(test_res))\n",
    "print(len(train_res))\n",
    "print(len(test_res) + len(train_res))\n",
    "\n"
   ]
  },
  {
   "cell_type": "code",
   "execution_count": 34,
   "metadata": {},
   "outputs": [],
   "source": [
    "#combined_test_v2 = [dict for url, dict in test_res.items()]\n",
    "combined_train_v2 = [dict for url, dict in train_res.items()]"
   ]
  },
  {
   "cell_type": "code",
   "execution_count": 35,
   "metadata": {},
   "outputs": [
    {
     "name": "stdout",
     "output_type": "stream",
     "text": [
      "46480\n"
     ]
    }
   ],
   "source": [
    "#print(len(combined_test_v2))\n",
    "print(len(combined_train_v2))"
   ]
  },
  {
   "cell_type": "code",
   "execution_count": 36,
   "metadata": {},
   "outputs": [
    {
     "data": {
      "text/plain": [
       "\"\\nwith open('../source_summaries/v2_info_parsed/combined_train_prompt1_v2.json', 'w') as file:\\n    json.dump(combined_train_v2, file, indent=4)\\n\""
      ]
     },
     "execution_count": 36,
     "metadata": {},
     "output_type": "execute_result"
    }
   ],
   "source": [
    "\"\"\"\n",
    "with open('../source_summaries/v2_info_parsed/combined_test_prompt1_v2.json', 'w') as file:\n",
    "    json.dump(combined_test_v2, file, indent=4)\n",
    "\n",
    "\"\"\"\n",
    "\"\"\"\n",
    "with open('../source_summaries/v2_info_parsed/combined_train_prompt1_v2.json', 'w') as file:\n",
    "    json.dump(combined_train_v2, file, indent=4)\n",
    "\"\"\"\n",
    "    \n"
   ]
  },
  {
   "cell_type": "code",
   "execution_count": 53,
   "metadata": {},
   "outputs": [],
   "source": [
    "with open(os.path.join(here, 'queries', 'query2_v2_raw.json'), 'r') as file:\n",
    "    data = json.load(file)\n",
    "\n",
    "new_url_to_q = {}\n",
    "for url, dict in data.items():\n",
    "    q = dict['query2'].split('QUERY 2:')[-1]\n",
    "    new_url_to_q[url] = q\n",
    "\n",
    "with open(os.path.join(here, 'queries', 'query2_v2_parsed.json'), 'w') as file:\n",
    "    json.dump(new_url_to_q, file, indent=4)"
   ]
  },
  {
   "cell_type": "code",
   "execution_count": 50,
   "metadata": {},
   "outputs": [
    {
     "name": "stdout",
     "output_type": "stream",
     "text": [
      "11628\n"
     ]
    }
   ],
   "source": []
  },
  {
   "cell_type": "code",
   "execution_count": null,
   "metadata": {},
   "outputs": [],
   "source": []
  }
 ],
 "metadata": {
  "kernelspec": {
   "display_name": "nlp_env",
   "language": "python",
   "name": "python3"
  },
  "language_info": {
   "codemirror_mode": {
    "name": "ipython",
    "version": 3
   },
   "file_extension": ".py",
   "mimetype": "text/x-python",
   "name": "python",
   "nbconvert_exporter": "python",
   "pygments_lexer": "ipython3",
   "version": "3.11.9"
  }
 },
 "nbformat": 4,
 "nbformat_minor": 2
}

{
 "cells": [
  {
   "cell_type": "code",
   "execution_count": 1,
   "id": "40fc837f-80b8-4f21-a5e3-ab187d3fa295",
   "metadata": {},
   "outputs": [],
   "source": [
    "import pandas as pd \n",
    "import json"
   ]
  },
  {
   "cell_type": "code",
   "execution_count": 2,
   "id": "e7aa34be-9c6e-4ea9-9206-0e4e6a3f9662",
   "metadata": {},
   "outputs": [],
   "source": [
    "# ! mv /Users/spangher/Downloads/combined_test_prompt1_v2.json ../data/v2_queries/"
   ]
  },
  {
   "cell_type": "code",
   "execution_count": 3,
   "id": "47600b9e-87da-44d0-91b4-581afe6f15b2",
   "metadata": {},
   "outputs": [],
   "source": [
    "source_df_with_clusters = pd.read_csv('cache/2024-09-19__source-df-with-all-clusters.csv', index_col=0)"
   ]
  },
  {
   "cell_type": "code",
   "execution_count": 47,
   "id": "b61af297-a9af-40e2-b607-b4d08f628ec2",
   "metadata": {},
   "outputs": [],
   "source": [
    "train_set_sources = json.load(open('../data/v2_queries/combined_train_prompt1_v2.json'))\n",
    "test_set_sources = json.load(open('../data/v2_queries/combined_test_prompt1_v2.json'))"
   ]
  },
  {
   "cell_type": "code",
   "execution_count": 53,
   "id": "215cd070-3a31-402b-b46b-6f29a4465815",
   "metadata": {},
   "outputs": [],
   "source": [
    "comb_source_df = pd.concat([\n",
    "    pd.DataFrame(train_set_sources).assign(split='train'),\n",
    "    pd.DataFrame(test_set_sources).assign(split='test')\n",
    "])"
   ]
  },
  {
   "cell_type": "code",
   "execution_count": 55,
   "id": "8a2d5870-676d-4baf-9be0-f167bc3ead87",
   "metadata": {
    "scrolled": true
   },
   "outputs": [],
   "source": [
    "source_df = (\n",
    "    comb_source_df\n",
    "    .explode('sources')\n",
    "    .pipe(lambda df: pd.concat([\n",
    "        df[['url', 'query', 'split']].reset_index(drop=True),\n",
    "        pd.DataFrame(df['sources'].tolist())\n",
    "    ], axis=1)\n",
    " )\n",
    ")"
   ]
  },
  {
   "cell_type": "code",
   "execution_count": 57,
   "id": "d2e7e25c-20bf-474e-ac2d-f18682bf8a99",
   "metadata": {
    "scrolled": true
   },
   "outputs": [],
   "source": [
    "source_df_w_oracle_sources = (\n",
    "    source_df\n",
    "     # .explode('Original Name')\n",
    " .merge(\n",
    "     # source_df_with_clusters.drop(columns='Name'),#.explode('Original Name'), \n",
    "     # left_on=['url', 'Original Name'], \n",
    "     # right_on=['url', 'Original Name'],\n",
    "     source_df_with_clusters.drop(columns='Original Name'),#.explode('Original Name'), \n",
    "     left_on=['url', 'Name'], \n",
    "     right_on=['url', 'Name'],\n",
    "     how='left'\n",
    " )\n",
    " .assign(matched=lambda df: df['Narrative Function'].notnull())\n",
    ")"
   ]
  },
  {
   "cell_type": "code",
   "execution_count": 58,
   "id": "c3012348-6ec2-4304-bb9a-1841f7028454",
   "metadata": {
    "scrolled": true
   },
   "outputs": [],
   "source": [
    "labels_to_use = source_df_with_clusters['cluster_descript_leaf_3'].str.split(':').str.get(0).value_counts()\n",
    "inferred_to_human_label_mapper = {\n",
    "    '\"Insightful Resource\"': \"Expert Insights\",                  \n",
    "    '\"Analytical Depth\"': \"Analysis and Criticism\",    \n",
    "    '\"Credibility and Engagement\"': \"Credibility and Engagement\",                     \n",
    "    '\"Influential Source\"': \"Central Figure\",            \n",
    "    '\"Alternative Viewpoints\"': \"Alternative Viewpoints\",    \n",
    "    '\"Contextual Insight\"': \"Background Information\",    \n",
    "    '\"Contextual Information\"': \"Background Information\",    \n",
    "    '\"Contextual Insights\"': \"Peripheral Context\",        \n",
    "    '\"Key Source\"': \"Central Figure\",\n",
    "    '\"Extensive Expert Analysis\"': \"Expert Analysis\",\n",
    "    '\"Contextual Guidance\"': \"Author Perspective\",        \n",
    "    '\"Practical Case Studies\"': \"Anecdotes\",                 \n",
    "    '\"Background Insight Providers\"': \"Background Information\",    \n",
    "    '\"Background Enrichment Sources\"': \"Examples and Illustration\", \n",
    "    '\"Credibility Anchor\"': \"Authoritative Source\",     \n",
    "}"
   ]
  },
  {
   "cell_type": "code",
   "execution_count": 237,
   "id": "4d695a7b-c689-4ba8-968c-dbf7be05d88b",
   "metadata": {},
   "outputs": [
    {
     "name": "stderr",
     "output_type": "stream",
     "text": [
      "/var/folders/xh/qnyq7yzj0r328_7hnb7pgxth0000gp/T/ipykernel_59725/3069256920.py:13: DeprecationWarning: DataFrameGroupBy.apply operated on the grouping columns. This behavior is deprecated, and in a future version of pandas the grouping columns will be excluded from the operation. Either pass `include_groups=False` to exclude the groupings or explicitly select the grouping columns after groupby to silence this warning.\n",
      "  .apply(lambda df: pd.Series({\n"
     ]
    }
   ],
   "source": [
    "source_df_with_oracles_mapped = (\n",
    "    source_df_w_oracle_sources\n",
    "         .assign(oracle_label=lambda df: \n",
    "                 df['cluster_descript_leaf_3'].str.split(':').str.get(0).map(inferred_to_human_label_mapper)\n",
    "                )\n",
    "            [['url', 'query', 'split', 'Name', 'Original Name', 'Information', 'oracle_label', 'matched']]\n",
    ")\n",
    "\n",
    "output_test_df_w_oracles = (\n",
    "    source_df_with_oracles_mapped\n",
    "         .loc[lambda df: df['split'] == 'test']\n",
    "         .groupby(['url', 'query'])\n",
    "         .apply(lambda df: pd.Series({\n",
    "             'sources': df[['Name', 'Original Name', 'Information', 'oracle_label']].to_dict(orient='records'),\n",
    "             '% match': df['matched'].mean()\n",
    "         }))\n",
    ")"
   ]
  },
  {
   "cell_type": "markdown",
   "id": "16ed846e-cdda-48b2-98cf-f4df084d7e99",
   "metadata": {},
   "source": [
    "# Make new labels"
   ]
  },
  {
   "cell_type": "code",
   "execution_count": 123,
   "id": "217639f9-9f45-43f9-9186-87c3fae057b0",
   "metadata": {},
   "outputs": [],
   "source": [
    "# source_df_with_oracles_mapped.to_csv('cache/discourse_training_data_raw.csv')\n",
    "# ! scp cache/discourse_training_data_raw.csv end:~/"
   ]
  },
  {
   "cell_type": "markdown",
   "id": "700df981-b476-4572-9d17-f0027c3804fb",
   "metadata": {},
   "source": [
    "### Try training a smaller BERT classifier"
   ]
  },
  {
   "cell_type": "code",
   "execution_count": 146,
   "id": "f20207e4-6e07-4795-a018-06d44a526d39",
   "metadata": {},
   "outputs": [
    {
     "name": "stderr",
     "output_type": "stream",
     "text": [
      "/var/folders/xh/qnyq7yzj0r328_7hnb7pgxth0000gp/T/ipykernel_59725/2424085464.py:14: DeprecationWarning: DataFrameGroupBy.apply operated on the grouping columns. This behavior is deprecated, and in a future version of pandas the grouping columns will be excluded from the operation. Either pass `include_groups=False` to exclude the groupings or explicitly select the grouping columns after groupby to silence this warning.\n",
      "  .apply(lambda df: df[[\"text\", \"label\"]])\n"
     ]
    }
   ],
   "source": [
    "distinct_labels = source_df_with_oracles_mapped['oracle_label'].dropna().unique()\n",
    "label2int_mapper = {k:i for i, k in enumerate(distinct_labels)}\n",
    "int2label_mapper = {i:k for i, k in enumerate(distinct_labels)}\n",
    "train_df, test_df = (\n",
    "    source_df_with_oracles_mapped\n",
    "        .loc[lambda df: df['matched']]\n",
    "        .assign(text=lambda df: \n",
    "                'ARTICLE TOPIC: ' + df['query'] + \n",
    "                '\\nSOURCE NAME: ' + df['Name'] + \n",
    "                '\\nSOURCE INFO: ' + df['Information'])\n",
    "        .rename(columns={\"oracle_label\": \"label\"})\n",
    "        # .assign(label=lambda df: df['label'].map(discrete_label_mapper))\n",
    "        .groupby('split')\n",
    "        .apply(lambda df: df[[\"text\", \"label\"]])\n",
    "        .pipe(lambda df: (df.loc['train'], df.loc['test']))\n",
    ")"
   ]
  },
  {
   "cell_type": "code",
   "execution_count": 157,
   "id": "d6885cb6-71e3-40cd-938c-6e7382b2a9ee",
   "metadata": {},
   "outputs": [
    {
     "name": "stdout",
     "output_type": "stream",
     "text": [
      "ARTICLE TOPIC: Is Bumble's initial public offering worth the buzz, and can it compete with industry leader Match Group?\n",
      "SOURCE NAME: Ali Mogharabi\n",
      "SOURCE INFO: Ali Mogharabi is a Morningstar analyst who expects 2021 revenue above the guidance range due to pent-up demand and long-term changes in romance- or partner-seeking behavior.\n",
      "\n",
      "Expert Analysis\n"
     ]
    }
   ],
   "source": [
    "idx = 6\n",
    "print(train_df.iloc[idx]['text'])\n",
    "print()\n",
    "print(train_df.iloc[idx]['label'])"
   ]
  },
  {
   "cell_type": "code",
   "execution_count": null,
   "id": "4ff18410-0a37-418e-969e-437d3406ac54",
   "metadata": {},
   "outputs": [],
   "source": [
    "from datasets import Dataset, DatasetDict\n",
    "import evaluate\n",
    "from transformers import AutoModelForSequenceClassification\n",
    "from transformers import DataCollatorWithPadding\n",
    "from transformers import AutoTokenizer, TrainingArguments, Trainer\n",
    "import os\n",
    "\n",
    "os.environ['TOKENIZERS_PARALLELISM'] = 'false'\n",
    "accuracy = evaluate.load(\"accuracy\")\n",
    "f1 = evaluate.load(\"f1\")\n",
    "tokenizer = AutoTokenizer.from_pretrained(\"distilbert/distilbert-base-uncased\")\n",
    "data_collator = DataCollatorWithPadding(tokenizer=tokenizer)\n",
    "model = AutoModelForSequenceClassification.from_pretrained(\n",
    "    \"distilbert/distilbert-base-uncased\", num_labels=len(distinct_labels), id2label=int2label_mapper, label2id=label2int_mapper\n",
    ")\n",
    "\n",
    "def preprocess_function(examples):\n",
    "    output_dict = tokenizer(examples[\"text\"], truncation=True)\n",
    "    output_dict['label'] = list(map(label2int_mapper.get, examples['label']))\n",
    "    return output_dict\n",
    "    \n",
    "\n",
    "def compute_metrics(eval_pred):\n",
    "    predictions, labels = eval_pred\n",
    "    predictions = np.argmax(predictions, axis=1)\n",
    "    return f1.compute(predictions=predictions, references=labels, average='macro')\n",
    "\n",
    "ds = DatasetDict()\n",
    "ds['train'] = Dataset.from_pandas(train_df.dropna())\n",
    "ds['test'] =  Dataset.from_pandas(test_df.dropna())\n",
    "tokenized_ds = ds.map(preprocess_function, batched=True, num_proc=10)\n",
    "training_args = TrainingArguments(\n",
    "    output_dir=\"cache/discourse-model\",\n",
    "    learning_rate=2e-5,\n",
    "    per_device_train_batch_size=16,\n",
    "    per_device_eval_batch_size=16,\n",
    "    num_train_epochs=2,\n",
    "    weight_decay=0.01,\n",
    "    eval_strategy=\"epoch\",\n",
    "    save_strategy=\"epoch\",\n",
    "    load_best_model_at_end=True,\n",
    ")\n",
    "\n",
    "trainer = Trainer(\n",
    "    model=model,\n",
    "    args=training_args,\n",
    "    train_dataset=tokenized_ds[\"train\"],\n",
    "    eval_dataset=tokenized_ds[\"test\"],\n",
    "    tokenizer=tokenizer,\n",
    "    data_collator=data_collator,\n",
    "    compute_metrics=compute_metrics,\n",
    ")\n",
    "\n",
    "trainer.train()"
   ]
  },
  {
   "cell_type": "markdown",
   "id": "16004ece-d3c0-4088-b460-1e820acfc1f0",
   "metadata": {},
   "source": [
    "### use GPT to label all sources"
   ]
  },
  {
   "cell_type": "code",
   "execution_count": 159,
   "id": "62424473-6ce2-4100-8be0-fcc44c4acef0",
   "metadata": {},
   "outputs": [],
   "source": [
    "PROMPT = \"\"\"\n",
    "I am trying to determine the role a source plays in this news article, based on the information it provides. \n",
    "\n",
    "Choose from these categories:\n",
    "\n",
    "['Credibility and Engagement',\n",
    " 'Authoritative Source',\n",
    " 'Background Information',\n",
    " 'Analysis and Criticism',\n",
    " 'Central Figure',\n",
    " 'Examples and Illustration',\n",
    " 'Central Figure',\n",
    " 'Alternative Viewpoints',\n",
    " 'Expert Analysis',\n",
    " 'Expert Insights',\n",
    " 'Author Perspective',\n",
    " 'Background Information',\n",
    " 'Anecdotes',\n",
    " 'Peripheral Context',\n",
    " 'Background Information']\n",
    " \n",
    "Here are definitions for each category:\n",
    "\n",
    "* \"Credibility and Engagement\": These sources contribute to building trust, influence audience understanding, and enhancing the reliability of information by providing personal accounts, insights and warnings.\n",
    "* \"Authoritative Source\": These sources provide verified, expert-backed information that enhances the trustworthiness and reliability of the content they support.\n",
    "* \"Background Information\": These sources provide broader context to events, helping readers understand the main topic in the context of what is going on and grasp peripheral details.\n",
    "* \"Analysis and Criticism\": These sources are experts and insiders. They offer deep insights, critiques, and multifaceted interpretations of complex issues and decisions across diverse fields.\n",
    "* \"Central Figure\": These sources are the main individual, company, or entity featured in news articles, serving as the focal point by providing important information, insights, actions, decisions, and statements.\n",
    "* \"Examples and Illustration\": These sources provide background information in different ways, enhancing the main content for a more comprehensive grasp of topics discussed.\n",
    "* \"Alternative Viewpoints\": These sources offer diverse perspectives, critical analyses, and opposing opinions to provide a more balanced understanding and challenge dominant views across various topics.\n",
    "* \"Expert Analysis\": These sources offer a broad and detailed range of expert analyses and insights, enriching the article's depth and credibility.\n",
    "* \"Expert Insights\": These sources collectively provide essential data, context, analysis, and credibility across diverse topics, enhancing depth and understanding in journalistic articles and ensuring comprehensive and accurate reporting.\n",
    "* \"Author Perspective\": These sources that offer analysis and personal insights, usually from the author of the article.\n",
    "* \"Anecdotes\": These sources offer diverse and specific examples that highlight different responses, adaptations, successes, challenges, innovations, and impacts across sectors, providing insights into broader themes and concepts.\n",
    "* \"Peripheral Context\": These sources enrich the main content by offering deeper context than typical background sources.\n",
    "\n",
    "Here is the article topic and the source's information:\n",
    "\n",
    "ARTICLE TOPIC: {query}\n",
    "SOURCE NAME: {source_name}\n",
    "SOURCE INFO: {source_info}\n",
    "\n",
    "Only respond with one category from the list.\n",
    "\"\"\""
   ]
  },
  {
   "cell_type": "code",
   "execution_count": 299,
   "id": "eaf64ff1-a158-4053-be11-09bdcd6c62ef",
   "metadata": {},
   "outputs": [],
   "source": [
    "prompts = source_df_with_oracles_mapped.apply(lambda x: PROMPT.format(\n",
    "    query=x['query'],\n",
    "    source_name=x['Name'],\n",
    "    source_info=x['Information'])\n",
    ", axis=1 )"
   ]
  },
  {
   "cell_type": "code",
   "execution_count": 301,
   "id": "dd93769a-e302-4cee-a01d-38630ab40e75",
   "metadata": {},
   "outputs": [],
   "source": [
    "# mkdir ../data/label_discourse/"
   ]
  },
  {
   "cell_type": "code",
   "execution_count": 302,
   "id": "d9e31a87-4600-4250-91a1-45ba2412c992",
   "metadata": {},
   "outputs": [],
   "source": [
    "prompts_df = pd.concat([\n",
    "    source_df_with_oracles_mapped[['url', 'Name']],\n",
    "    prompts.str.strip().to_frame('Prompt'),\n",
    "], axis=1).drop_duplicates()"
   ]
  },
  {
   "cell_type": "code",
   "execution_count": 303,
   "id": "3bb167a9-85fa-443a-bffd-ce62d13a372b",
   "metadata": {},
   "outputs": [],
   "source": [
    "batch_prompts = (\n",
    "    prompts_df\n",
    "    .drop_duplicates(['url', 'Name'])\n",
    "    .apply(\n",
    "        lambda x: {\n",
    "            \"custom_id\": x['url'] + '___' + x['Name'], \n",
    "            \"method\": \"POST\", \n",
    "            \"url\": \"/v1/chat/completions\", \n",
    "            \"body\": {\n",
    "                \"model\": \"gpt-4o-mini\",\n",
    "                \"messages\": [{\n",
    "                    \"role\": \"system\", \n",
    "                    \"content\": \"You are a helpful journalist's assistant.\"\n",
    "                },{\n",
    "                    \"role\": \"user\", \"content\": x['Prompt']\n",
    "                }],\"max_tokens\": 20\n",
    "            }}\n",
    "    , axis=1)\n",
    ")"
   ]
  },
  {
   "cell_type": "code",
   "execution_count": 304,
   "id": "1fcd2cad-d838-40dc-a2c7-d4faa84b211c",
   "metadata": {},
   "outputs": [
    {
     "data": {
      "application/vnd.jupyter.widget-view+json": {
       "model_id": "797552c970ac4442a09593777d54f656",
       "version_major": 2,
       "version_minor": 0
      },
      "text/plain": [
       "  0%|          | 0/11 [00:00<?, ?it/s]"
      ]
     },
     "metadata": {},
     "output_type": "display_data"
    }
   ],
   "source": [
    "import jsonlines\n",
    "to_upload = []\n",
    "BATCH_SIZE = 45_000\n",
    "for i, s in enumerate(tqdm(range(0, len(batch_prompts), BATCH_SIZE))):\n",
    "    e = s + BATCH_SIZE\n",
    "    one_batch_df = batch_prompts.iloc[s:e]\n",
    "    too_long_ids = one_batch_df.str.get('custom_id').str.len().pipe(lambda s: s > 512)\n",
    "    fname = f'../data/label_discourse/input_data/discourse-batch-{i}.jsonl'\n",
    "    with jsonlines.open(fname, 'w') as f:\n",
    "        f.write_all(one_batch_df.loc[lambda s: ~too_long_ids].tolist())\n",
    "        assert one_batch_df.loc[lambda s: ~too_long_ids].str.get('custom_id').str.len().pipe(lambda s: s > 512).any() == False\n",
    "    to_upload.append(fname)"
   ]
  },
  {
   "cell_type": "code",
   "execution_count": 217,
   "id": "36098cbe-2569-4274-925e-3cf08c13e391",
   "metadata": {},
   "outputs": [],
   "source": [
    "import tiktoken\n",
    "from tqdm.auto import tqdm\n",
    "enc = tiktoken.encoding_for_model(\"gpt-4o-mini\")\n",
    "# tqdm.pandas()\n",
    "# prompts_df['Prompt'].progress_apply(enc.encode).str.len().sum()"
   ]
  },
  {
   "cell_type": "code",
   "execution_count": 218,
   "id": "8959360f-d883-451a-8c21-5b81260d2319",
   "metadata": {},
   "outputs": [
    {
     "data": {
      "text/plain": [
       "20.872784624999998"
      ]
     },
     "execution_count": 218,
     "metadata": {},
     "output_type": "execute_result"
    }
   ],
   "source": [
    "num_tokens = 278303795\n",
    "278303795 / 1_000_000 * .075\n",
    "# >>> 20.872784624999998"
   ]
  },
  {
   "cell_type": "code",
   "execution_count": 305,
   "id": "0e60d42d-7a82-4d38-a404-bdcc7f9d6e26",
   "metadata": {},
   "outputs": [],
   "source": [
    "import glob, re\n",
    "batch_files_on_disk = sorted(glob.glob('../data/label_discourse/input_data/*'), key=lambda x: int(re.search(r'\\d+', x)[0]))"
   ]
  },
  {
   "cell_type": "code",
   "execution_count": 307,
   "id": "2db7129b-2038-49c0-901b-fee18d7289cd",
   "metadata": {},
   "outputs": [],
   "source": [
    "from openai import OpenAI\n",
    "import os \n",
    "\n",
    "os.environ['OPENAI_API_KEY'] = open('/Users/spangher/.openai-isi-project-key.txt').read().strip()\n",
    "client = OpenAI()"
   ]
  },
  {
   "cell_type": "code",
   "execution_count": 308,
   "id": "3774b933-a030-4b0a-9cc2-a76649244227",
   "metadata": {},
   "outputs": [
    {
     "data": {
      "application/vnd.jupyter.widget-view+json": {
       "model_id": "f25f1ed5bbaa44d480e3f54f8a3308b6",
       "version_major": 2,
       "version_minor": 0
      },
      "text/plain": [
       "  0%|          | 0/11 [00:00<?, ?it/s]"
      ]
     },
     "metadata": {},
     "output_type": "display_data"
    }
   ],
   "source": [
    "batch_file_ids = []\n",
    "for f in tqdm(batch_files_on_disk):\n",
    "# for f in tqdm(to_upload):\n",
    "    batch_input_file = client.files.create(file=open(f, \"rb\"), purpose=\"batch\")\n",
    "    batch_file_ids.append(batch_input_file)"
   ]
  },
  {
   "cell_type": "code",
   "execution_count": 310,
   "id": "26ab8fdb-a613-4e96-aa7d-b3bc5e03ee61",
   "metadata": {},
   "outputs": [
    {
     "data": {
      "application/vnd.jupyter.widget-view+json": {
       "model_id": "1d04ef2187d94c19a2251c5b51e93883",
       "version_major": 2,
       "version_minor": 0
      },
      "text/plain": [
       "  0%|          | 0/11 [00:00<?, ?it/s]"
      ]
     },
     "metadata": {},
     "output_type": "display_data"
    }
   ],
   "source": [
    "batch_jobs= []\n",
    "for b_file in tqdm(batch_file_ids):\n",
    "    batch_input_file_id = b_file.id\n",
    "    batch_job = client.batches.create(\n",
    "        input_file_id=batch_input_file_id,\n",
    "        endpoint=\"/v1/chat/completions\",\n",
    "        completion_window=\"24h\",\n",
    "        metadata={\n",
    "          \"description\": \"nightly eval job\"\n",
    "        }\n",
    "    )\n",
    "    batch_jobs.append(batch_job)"
   ]
  },
  {
   "cell_type": "code",
   "execution_count": 239,
   "id": "c2560b02-2427-47a8-b567-6f2ad33bd339",
   "metadata": {},
   "outputs": [],
   "source": [
    "# get data"
   ]
  },
  {
   "cell_type": "code",
   "execution_count": 242,
   "id": "00511051-e36a-4f48-912a-e3bdc33422e6",
   "metadata": {},
   "outputs": [],
   "source": [
    "batch_job_ids = list(map(lambda x: x.id, batch_jobs))"
   ]
  },
  {
   "cell_type": "code",
   "execution_count": 245,
   "id": "fe977481-6683-4346-9de5-d6db6ee557ee",
   "metadata": {},
   "outputs": [],
   "source": [
    "batch_statuses = list(map(client.batches.retrieve, batch_job_ids))"
   ]
  },
  {
   "cell_type": "code",
   "execution_count": 262,
   "id": "e78bd4eb-a914-4c94-a4fb-2637244037c8",
   "metadata": {},
   "outputs": [],
   "source": [
    "completed_batches = (\n",
    "    pd.DataFrame(list(map(lambda x: x.to_dict(), batch_statuses)))\n",
    "         .loc[lambda df: df['status'] == 'completed']\n",
    "         # ['output_file_id'].tolist()\n",
    ")"
   ]
  },
  {
   "cell_type": "code",
   "execution_count": 263,
   "id": "5913d609-9fd4-4b51-ad02-aeccecf6243f",
   "metadata": {},
   "outputs": [],
   "source": [
    "completed_batches['input_file_name'] = completed_batches['input_file_id'].apply(client.files.retrieve).apply(lambda x: x.filename)"
   ]
  },
  {
   "cell_type": "code",
   "execution_count": 261,
   "id": "b06a00b9-797f-4d20-96e9-782ccf9c9faf",
   "metadata": {},
   "outputs": [
    {
     "data": {
      "text/plain": [
       "FileObject(id='file-JKuaR97iRpYnJsS5aYrh5RL4', bytes=155899687, created_at=1728192266, filename='discourse-batch-1.jsonl', object='file', purpose='batch', status='processed', status_details=None)"
      ]
     },
     "execution_count": 261,
     "metadata": {},
     "output_type": "execute_result"
    }
   ],
   "source": [
    "client.files.retrieve('file-JKuaR97iRpYnJsS5aYrh5RL4')"
   ]
  },
  {
   "cell_type": "code",
   "execution_count": 282,
   "id": "87b45aca-7903-4b92-8270-a4a2446a545c",
   "metadata": {},
   "outputs": [
    {
     "data": {
      "application/vnd.jupyter.widget-view+json": {
       "model_id": "63d7bf5820c0489f94fea01055b7e171",
       "version_major": 2,
       "version_minor": 0
      },
      "text/plain": [
       "  0%|          | 0/11 [00:00<?, ?it/s]"
      ]
     },
     "metadata": {},
     "output_type": "display_data"
    }
   ],
   "source": [
    "for _, (input_file_name, output_id) in tqdm(completed_batches[['input_file_name', 'output_file_id']].iterrows(), total=len(completed_batches)):\n",
    "    file_response = client.files.content(output_id)\n",
    "    name, ext = os.path.splitext(input_file_name)\n",
    "    with open(f'../data/label_discourse/output_data/{name}__output{ext}', 'w') as f:\n",
    "        f.write(file_response.text)"
   ]
  },
  {
   "cell_type": "markdown",
   "id": "a2a490f8-d377-4555-83e6-aeee83b64592",
   "metadata": {},
   "source": [
    "### Examine OpenAI Output"
   ]
  },
  {
   "cell_type": "code",
   "execution_count": 284,
   "id": "8bcfc4bf-8c04-4b07-b71a-985a0b20069b",
   "metadata": {},
   "outputs": [],
   "source": [
    "import jsonlines"
   ]
  },
  {
   "cell_type": "code",
   "execution_count": 289,
   "id": "eb7e1530-15fb-4aba-93bb-88096b6d0e2c",
   "metadata": {},
   "outputs": [],
   "source": [
    "all_output_items = []\n",
    "for f in glob.glob('../data/label_discourse/output_data/discourse-batch-*__output.jsonl'):\n",
    "    output_items = list(jsonlines.open(f))\n",
    "    all_output_items.extend(output_items)"
   ]
  },
  {
   "cell_type": "code",
   "execution_count": 292,
   "id": "685d49e3-d43d-40e8-b5b1-249242569d52",
   "metadata": {},
   "outputs": [
    {
     "data": {
      "text/plain": [
       "{'id': 'batch_req_6702399cd71481909a31805832ea75f1',\n",
       " 'custom_id': 'www.thestreet.com/investing/how-att-antitrust-ruling-helps-tech-telecom-giants-14621048___Jim Cramer',\n",
       " 'response': {'status_code': 200,\n",
       "  'request_id': '5316cf93d578bede36269b182e4c6c37',\n",
       "  'body': {'id': 'chatcmpl-AFEIO7q6TcNO2aqb21aZQ93PpPiPU',\n",
       "   'object': 'chat.completion',\n",
       "   'created': 1728193236,\n",
       "   'model': 'gpt-4o-mini-2024-07-18',\n",
       "   'choices': [{'index': 0,\n",
       "     'message': {'role': 'assistant',\n",
       "      'content': 'Could you please provide the specific information or context about the article topic and the source? The current placeholders',\n",
       "      'refusal': None},\n",
       "     'logprobs': None,\n",
       "     'finish_reason': 'length'}],\n",
       "   'usage': {'prompt_tokens': 586,\n",
       "    'completion_tokens': 20,\n",
       "    'total_tokens': 606,\n",
       "    'prompt_tokens_details': {'cached_tokens': 0},\n",
       "    'completion_tokens_details': {'reasoning_tokens': 0}},\n",
       "   'system_fingerprint': 'fp_f85bea6784'}},\n",
       " 'error': None}"
      ]
     },
     "execution_count": 292,
     "metadata": {},
     "output_type": "execute_result"
    }
   ],
   "source": [
    "output_items[10]"
   ]
  },
  {
   "cell_type": "code",
   "execution_count": 293,
   "id": "65495dac-349c-4dba-a1b7-285b7aafb331",
   "metadata": {},
   "outputs": [],
   "source": [
    "i = list(jsonlines.open('../data/label_discourse/input_data/discourse-batch-0.jsonl'))"
   ]
  },
  {
   "cell_type": "code",
   "execution_count": 297,
   "id": "01b3f848-c9ae-4177-b8e5-746438ec2592",
   "metadata": {},
   "outputs": [
    {
     "data": {
      "text/plain": [
       "{'custom_id': 'time.com/collection/best-inventions-2019/5733135/ge-haliade-x12-mw-offshore-wind-turbine/___GE',\n",
       " 'method': 'POST',\n",
       " 'url': '/v1/chat/completions',\n",
       " 'body': {'model': 'gpt-4o-mini',\n",
       "  'messages': [{'role': 'system',\n",
       "    'content': \"You are a helpful journalist's assistant.\"},\n",
       "   {'role': 'user',\n",
       "    'content': 'I am trying to determine the role a source plays in this news article, based on the information it provides. \\n\\nChoose from these categories:\\n\\n[\\'Credibility and Engagement\\',\\n \\'Authoritative Source\\',\\n \\'Background Information\\',\\n \\'Analysis and Criticism\\',\\n \\'Central Figure\\',\\n \\'Examples and Illustration\\',\\n \\'Central Figure\\',\\n \\'Alternative Viewpoints\\',\\n \\'Expert Analysis\\',\\n \\'Expert Insights\\',\\n \\'Author Perspective\\',\\n \\'Background Information\\',\\n \\'Anecdotes\\',\\n \\'Peripheral Context\\',\\n \\'Background Information\\']\\n \\nHere are definitions for each category:\\n\\n* \"Credibility and Engagement\": These sources contribute to building trust, influence audience understanding, and enhancing the reliability of information by providing personal accounts, insights and warnings.\\n* \"Authoritative Source\": These sources provide verified, expert-backed information that enhances the trustworthiness and reliability of the content they support.\\n* \"Background Information\": These sources provide broader context to events, helping readers understand the main topic in the context of what is going on and grasp peripheral details.\\n* \"Analysis and Criticism\": These sources are experts and insiders. They offer deep insights, critiques, and multifaceted interpretations of complex issues and decisions across diverse fields.\\n* \"Central Figure\": These sources are the main individual, company, or entity featured in news articles, serving as the focal point by providing important information, insights, actions, decisions, and statements.\\n* \"Examples and Illustration\": These sources provide background information in different ways, enhancing the main content for a more comprehensive grasp of topics discussed.\\n* \"Alternative Viewpoints\": These sources offer diverse perspectives, critical analyses, and opposing opinions to provide a more balanced understanding and challenge dominant views across various topics.\\n* \"Expert Analysis\": These sources offer a broad and detailed range of expert analyses and insights, enriching the article\\'s depth and credibility.\\n* \"Expert Insights\": These sources collectively provide essential data, context, analysis, and credibility across diverse topics, enhancing depth and understanding in journalistic articles and ensuring comprehensive and accurate reporting.\\n* \"Author Perspective\": These sources that offer analysis and personal insights, usually from the author of the article.\\n* \"Anecdotes\": These sources offer diverse and specific examples that highlight different responses, adaptations, successes, challenges, innovations, and impacts across sectors, providing insights into broader themes and concepts.\\n* \"Peripheral Context\": These sources enrich the main content by offering deeper context than typical background sources.\\n\\nHere is the article topic and the source\\'s information:\\n\\nARTICLE TOPIC: <function <lambda>.<locals>.<lambda> at 0x754beff60>\\nSOURCE NAME: <function <lambda>.<locals>.<lambda> at 0x8cf113e20>\\nSOURCE INFO: <function <lambda>.<locals>.<lambda> at 0x8cf110f40>\\n\\nOnly respond with one category from the list.'}],\n",
       "  'max_tokens': 20}}"
      ]
     },
     "execution_count": 297,
     "metadata": {},
     "output_type": "execute_result"
    }
   ],
   "source": [
    "i[16]"
   ]
  },
  {
   "cell_type": "code",
   "execution_count": null,
   "id": "3d0ac8e8-fac5-4421-bddb-14eea00ab667",
   "metadata": {},
   "outputs": [],
   "source": []
  },
  {
   "cell_type": "code",
   "execution_count": 290,
   "id": "6cb267cd-46e8-40e1-a40a-bea088c75412",
   "metadata": {},
   "outputs": [
    {
     "data": {
      "text/html": [
       "<div>\n",
       "<style scoped>\n",
       "    .dataframe tbody tr th:only-of-type {\n",
       "        vertical-align: middle;\n",
       "    }\n",
       "\n",
       "    .dataframe tbody tr th {\n",
       "        vertical-align: top;\n",
       "    }\n",
       "\n",
       "    .dataframe thead th {\n",
       "        text-align: right;\n",
       "    }\n",
       "</style>\n",
       "<table border=\"1\" class=\"dataframe\">\n",
       "  <thead>\n",
       "    <tr style=\"text-align: right;\">\n",
       "      <th></th>\n",
       "      <th>id</th>\n",
       "      <th>custom_id</th>\n",
       "      <th>response</th>\n",
       "      <th>error</th>\n",
       "    </tr>\n",
       "  </thead>\n",
       "  <tbody>\n",
       "    <tr>\n",
       "      <th>0</th>\n",
       "      <td>batch_req_6702399d6c6881908ba7b9250aa9aa68</td>\n",
       "      <td>nypost.com/2023/05/17/target-may-lose-500m-fro...</td>\n",
       "      <td>{'status_code': 200, 'request_id': 'bd6ac81c82...</td>\n",
       "      <td>None</td>\n",
       "    </tr>\n",
       "    <tr>\n",
       "      <th>1</th>\n",
       "      <td>batch_req_6702399d92148190bab00a77676f586f</td>\n",
       "      <td>nypost.com/2023/05/17/target-may-lose-500m-fro...</td>\n",
       "      <td>{'status_code': 200, 'request_id': 'e1a7ed51cc...</td>\n",
       "      <td>None</td>\n",
       "    </tr>\n",
       "    <tr>\n",
       "      <th>2</th>\n",
       "      <td>batch_req_6702399db80c8190be4a2187b8728fd4</td>\n",
       "      <td>nypost.com/2023/05/17/target-may-lose-500m-fro...</td>\n",
       "      <td>{'status_code': 200, 'request_id': '7fdeed00d1...</td>\n",
       "      <td>None</td>\n",
       "    </tr>\n",
       "    <tr>\n",
       "      <th>3</th>\n",
       "      <td>batch_req_6702399dd6448190a2866e35d55a19d1</td>\n",
       "      <td>nypost.com/2023/05/17/target-may-lose-500m-fro...</td>\n",
       "      <td>{'status_code': 200, 'request_id': '1770b9b389...</td>\n",
       "      <td>None</td>\n",
       "    </tr>\n",
       "    <tr>\n",
       "      <th>4</th>\n",
       "      <td>batch_req_6702399e02448190825dcc7ea1147907</td>\n",
       "      <td>nypost.com/2023/05/17/target-may-lose-500m-fro...</td>\n",
       "      <td>{'status_code': 200, 'request_id': '14a2de0f8b...</td>\n",
       "      <td>None</td>\n",
       "    </tr>\n",
       "    <tr>\n",
       "      <th>...</th>\n",
       "      <td>...</td>\n",
       "      <td>...</td>\n",
       "      <td>...</td>\n",
       "      <td>...</td>\n",
       "    </tr>\n",
       "    <tr>\n",
       "      <th>487410</th>\n",
       "      <td>batch_req_67024b1bb208819092e5c2645823727d</td>\n",
       "      <td>www.cbsnews.com/minnesota/news/lake-street-tar...</td>\n",
       "      <td>{'status_code': 200, 'request_id': '4db1cecee6...</td>\n",
       "      <td>None</td>\n",
       "    </tr>\n",
       "    <tr>\n",
       "      <th>487411</th>\n",
       "      <td>batch_req_67024b1bc5208190b58a25df332bb23e</td>\n",
       "      <td>nypost.com/2023/05/17/target-may-lose-500m-fro...</td>\n",
       "      <td>{'status_code': 200, 'request_id': '6eb6823eb0...</td>\n",
       "      <td>None</td>\n",
       "    </tr>\n",
       "    <tr>\n",
       "      <th>487412</th>\n",
       "      <td>batch_req_67024b1bddc48190acee9a8e926e513b</td>\n",
       "      <td>nypost.com/2023/05/17/target-may-lose-500m-fro...</td>\n",
       "      <td>{'status_code': 200, 'request_id': '792f14ba40...</td>\n",
       "      <td>None</td>\n",
       "    </tr>\n",
       "    <tr>\n",
       "      <th>487413</th>\n",
       "      <td>batch_req_67024b1c066c81909f47b1e10c113670</td>\n",
       "      <td>nypost.com/2023/05/17/target-may-lose-500m-fro...</td>\n",
       "      <td>{'status_code': 200, 'request_id': '7f41d139f3...</td>\n",
       "      <td>None</td>\n",
       "    </tr>\n",
       "    <tr>\n",
       "      <th>487414</th>\n",
       "      <td>batch_req_67024b1c1c3c819087c03b059702599a</td>\n",
       "      <td>nypost.com/2023/05/17/target-may-lose-500m-fro...</td>\n",
       "      <td>{'status_code': 200, 'request_id': '68aca3cec8...</td>\n",
       "      <td>None</td>\n",
       "    </tr>\n",
       "  </tbody>\n",
       "</table>\n",
       "<p>487415 rows × 4 columns</p>\n",
       "</div>"
      ],
      "text/plain": [
       "                                                id  \\\n",
       "0       batch_req_6702399d6c6881908ba7b9250aa9aa68   \n",
       "1       batch_req_6702399d92148190bab00a77676f586f   \n",
       "2       batch_req_6702399db80c8190be4a2187b8728fd4   \n",
       "3       batch_req_6702399dd6448190a2866e35d55a19d1   \n",
       "4       batch_req_6702399e02448190825dcc7ea1147907   \n",
       "...                                            ...   \n",
       "487410  batch_req_67024b1bb208819092e5c2645823727d   \n",
       "487411  batch_req_67024b1bc5208190b58a25df332bb23e   \n",
       "487412  batch_req_67024b1bddc48190acee9a8e926e513b   \n",
       "487413  batch_req_67024b1c066c81909f47b1e10c113670   \n",
       "487414  batch_req_67024b1c1c3c819087c03b059702599a   \n",
       "\n",
       "                                                custom_id  \\\n",
       "0       nypost.com/2023/05/17/target-may-lose-500m-fro...   \n",
       "1       nypost.com/2023/05/17/target-may-lose-500m-fro...   \n",
       "2       nypost.com/2023/05/17/target-may-lose-500m-fro...   \n",
       "3       nypost.com/2023/05/17/target-may-lose-500m-fro...   \n",
       "4       nypost.com/2023/05/17/target-may-lose-500m-fro...   \n",
       "...                                                   ...   \n",
       "487410  www.cbsnews.com/minnesota/news/lake-street-tar...   \n",
       "487411  nypost.com/2023/05/17/target-may-lose-500m-fro...   \n",
       "487412  nypost.com/2023/05/17/target-may-lose-500m-fro...   \n",
       "487413  nypost.com/2023/05/17/target-may-lose-500m-fro...   \n",
       "487414  nypost.com/2023/05/17/target-may-lose-500m-fro...   \n",
       "\n",
       "                                                 response error  \n",
       "0       {'status_code': 200, 'request_id': 'bd6ac81c82...  None  \n",
       "1       {'status_code': 200, 'request_id': 'e1a7ed51cc...  None  \n",
       "2       {'status_code': 200, 'request_id': '7fdeed00d1...  None  \n",
       "3       {'status_code': 200, 'request_id': '1770b9b389...  None  \n",
       "4       {'status_code': 200, 'request_id': '14a2de0f8b...  None  \n",
       "...                                                   ...   ...  \n",
       "487410  {'status_code': 200, 'request_id': '4db1cecee6...  None  \n",
       "487411  {'status_code': 200, 'request_id': '6eb6823eb0...  None  \n",
       "487412  {'status_code': 200, 'request_id': '792f14ba40...  None  \n",
       "487413  {'status_code': 200, 'request_id': '7f41d139f3...  None  \n",
       "487414  {'status_code': 200, 'request_id': '68aca3cec8...  None  \n",
       "\n",
       "[487415 rows x 4 columns]"
      ]
     },
     "execution_count": 290,
     "metadata": {},
     "output_type": "execute_result"
    }
   ],
   "source": [
    "pd.DataFrame(all_output_items).assign(content=lambda df: df)"
   ]
  },
  {
   "cell_type": "code",
   "execution_count": null,
   "id": "93dfa44e-b65d-43f5-a601-fcd4f36fa1b8",
   "metadata": {},
   "outputs": [],
   "source": []
  },
  {
   "cell_type": "code",
   "execution_count": null,
   "id": "8776b498-f83e-4318-ad01-82808db97a55",
   "metadata": {},
   "outputs": [],
   "source": []
  },
  {
   "cell_type": "markdown",
   "id": "5020f189-dc40-4b86-b364-05262839d075",
   "metadata": {},
   "source": [
    "# Format Examples"
   ]
  },
  {
   "cell_type": "code",
   "execution_count": 161,
   "id": "6c4d9f01-2427-43f5-82ea-a92e2ebc5a57",
   "metadata": {},
   "outputs": [],
   "source": [
    "output_matched_test_df_w_oracles = (\n",
    "    output_test_df_w_oracles\n",
    "         .loc[lambda df: df['% match'] > .85]\n",
    "         .reset_index()\n",
    ")"
   ]
  },
  {
   "cell_type": "code",
   "execution_count": 162,
   "id": "5ba3e8ad-9bb2-4726-ad7a-0bc32d16912f",
   "metadata": {},
   "outputs": [
    {
     "data": {
      "text/plain": [
       "sources\n",
       "Expert Insights               4149\n",
       "Background Information        3525\n",
       "Analysis and Criticism        3155\n",
       "Central Figure                2991\n",
       "Credibility and Engagement    2384\n",
       "Alternative Viewpoints        1930\n",
       "Peripheral Context            1114\n",
       "Expert Analysis               1075\n",
       "Author Perspective             939\n",
       "Anecdotes                      865\n",
       "Examples and Illustration      716\n",
       "Authoritative Source           477\n",
       "Name: count, dtype: int64"
      ]
     },
     "execution_count": 162,
     "metadata": {},
     "output_type": "execute_result"
    }
   ],
   "source": [
    "output_matched_test_df_w_oracles['sources'].explode().str.get('oracle_label').value_counts()"
   ]
  },
  {
   "cell_type": "code",
   "execution_count": 163,
   "id": "dbcc3950-d15e-4836-9944-4e6ba3b6c9d0",
   "metadata": {
    "scrolled": true
   },
   "outputs": [],
   "source": [
    "(output_matched_test_df_w_oracles\n",
    " .drop(columns='% match')\n",
    " .to_json('../data/v2_queries/combined_test_prompt1_v2__with_oracle.json', orient='records')\n",
    ")"
   ]
  },
  {
   "cell_type": "code",
   "execution_count": 142,
   "id": "1e8cee0c-1bb3-47ce-849e-522bf810dc78",
   "metadata": {},
   "outputs": [],
   "source": [
    "# ! open ../data/v2_queries"
   ]
  },
  {
   "cell_type": "code",
   "execution_count": 142,
   "id": "f47bb0e4-5b79-402a-9325-d1000351dd2c",
   "metadata": {},
   "outputs": [
    {
     "data": {
      "text/plain": [
       "['Credibility and Engagement',\n",
       " 'Authoritative Source',\n",
       " 'Background Information',\n",
       " 'Analysis and Criticism',\n",
       " 'Central Figure',\n",
       " 'Examples and Illustration',\n",
       " 'Central Figure',\n",
       " 'Alternative Viewpoints',\n",
       " 'Expert Analysis',\n",
       " 'Expert Insights',\n",
       " 'Author Perspective',\n",
       " 'Background Information',\n",
       " 'Anecdotes',\n",
       " 'Peripheral Context',\n",
       " 'Background Information']"
      ]
     },
     "execution_count": 142,
     "metadata": {},
     "output_type": "execute_result"
    }
   ],
   "source": [
    "(source_df_with_clusters[['cluster_descript_leaf_3']]\n",
    " .drop_duplicates()\n",
    " .assign(label=lambda df: df['cluster_descript_leaf_3'].str.split(':').str.get(0))\n",
    " .assign(human_label=lambda df: df['label'].map(inferred_to_human_label_mapper))\n",
    " .assign(cluster_descript_leaf_3=lambda df: df.apply(lambda x: x['cluster_descript_leaf_3'].replace(x['label'], '\"{}\"'.format(x['human_label'])), axis=1))\n",
    "['human_label'].tolist()\n",
    ")"
   ]
  },
  {
   "cell_type": "code",
   "execution_count": 158,
   "id": "de08b026-0e05-4490-bd47-f9e4df7690a7",
   "metadata": {},
   "outputs": [],
   "source": [
    "import pyperclip\n",
    "pyperclip.copy('\\n\\n'.join(source_df_with_clusters[['cluster_descript_leaf_3']]\n",
    " .drop_duplicates()\n",
    " .assign(label=lambda df: df['cluster_descript_leaf_3'].str.split(':').str.get(0))\n",
    " .assign(human_label=lambda df: df['label'].map(inferred_to_human_label_mapper))\n",
    " .assign(cluster_descript_leaf_3=lambda df: df.apply(lambda x: x['cluster_descript_leaf_3'].replace(x['label'], '\"{}\"'.format(x['human_label'])), axis=1))\n",
    " ['cluster_descript_leaf_3'].tolist()\n",
    "               ))"
   ]
  },
  {
   "cell_type": "markdown",
   "id": "fa1e0f29-7a45-4bce-b066-bc74a1320394",
   "metadata": {},
   "source": [
    "\"Credibility and Engagement\": These sources contribute to building trust, influence audience understanding, and enhancing the reliability of information by providing personal accounts, insights and warnings.\n",
    "\n",
    "\"Authoritative Source\": These sources provide verified, expert-backed information that enhances the trustworthiness and reliability of the content they support.\n",
    "\n",
    "\"Background Information\": These sources provide broader context to events, helping readers understand the main topic in the context of what is going on and grasp peripheral details.\n",
    "\n",
    "\"Analysis and Criticism\": These sources are experts and insiders. They offer deep insights, critiques, and multifaceted interpretations of complex issues and decisions across diverse fields.\n",
    "\n",
    "\"Central Figure\": These sources are the main individual, company, or entity featured in news articles, serving as the focal point by providing important information, insights, actions, decisions, and statements.\n",
    "\n",
    "\"Examples and Illustration\": These sources provide background information in different ways, enhancing the main content for a more comprehensive grasp of topics discussed.\n",
    "\n",
    "\"Alternative Viewpoints\": These sources offer diverse perspectives, critical analyses, and opposing opinions to provide a more balanced understanding and challenge dominant views across various topics.\n",
    "\n",
    "\"Expert Analysis\": These sources offer a broad and detailed range of expert analyses and insights, enriching the article's depth and credibility.\n",
    "\n",
    "\"Expert Insights\": These sources collectively provide essential data, context, analysis, and credibility across diverse topics, enhancing depth and understanding in journalistic articles and ensuring comprehensive and accurate reporting.\n",
    "\n",
    "\"Author Perspective\": These sources that offer analysis and personal insights, usually from the author of the article.\n",
    "\n",
    "\"Anecdotes\": These sources offer diverse and specific examples that highlight different responses, adaptations, successes, challenges, innovations, and impacts across sectors, providing insights into broader themes and concepts.\n",
    "\n",
    "\"Peripheral Context\": These sources enrich the main content by offering deeper context than typical background sources."
   ]
  },
  {
   "cell_type": "code",
   "execution_count": 170,
   "id": "99138a4c-97fa-49cd-aa58-e0c9621c0a8f",
   "metadata": {
    "scrolled": true
   },
   "outputs": [
    {
     "data": {
      "text/html": [
       "<div>\n",
       "<style scoped>\n",
       "    .dataframe tbody tr th:only-of-type {\n",
       "        vertical-align: middle;\n",
       "    }\n",
       "\n",
       "    .dataframe tbody tr th {\n",
       "        vertical-align: top;\n",
       "    }\n",
       "\n",
       "    .dataframe thead th {\n",
       "        text-align: right;\n",
       "    }\n",
       "</style>\n",
       "<table border=\"1\" class=\"dataframe\">\n",
       "  <thead>\n",
       "    <tr style=\"text-align: right;\">\n",
       "      <th></th>\n",
       "      <th>url</th>\n",
       "      <th>query</th>\n",
       "      <th>Name</th>\n",
       "      <th>Original Name</th>\n",
       "      <th>Information</th>\n",
       "      <th>oracle_label</th>\n",
       "      <th>matched</th>\n",
       "    </tr>\n",
       "  </thead>\n",
       "  <tbody>\n",
       "    <tr>\n",
       "      <th>0</th>\n",
       "      <td>www.thestar.com/news/world/2011/03/10/florida_...</td>\n",
       "      <td>What are the implications of law enforcement a...</td>\n",
       "      <td>Miami-Dade Police Department</td>\n",
       "      <td>Miami-Dade police department</td>\n",
       "      <td>The Miami-Dade police department is planning t...</td>\n",
       "      <td>NaN</td>\n",
       "      <td>False</td>\n",
       "    </tr>\n",
       "    <tr>\n",
       "      <th>1</th>\n",
       "      <td>www.thestar.com/news/world/2011/03/10/florida_...</td>\n",
       "      <td>What are the implications of law enforcement a...</td>\n",
       "      <td>Aida Fina-Milian</td>\n",
       "      <td>Aida Fina-Milian</td>\n",
       "      <td>Aida Fina-Milian, a detective, stated that the...</td>\n",
       "      <td>NaN</td>\n",
       "      <td>False</td>\n",
       "    </tr>\n",
       "    <tr>\n",
       "      <th>2</th>\n",
       "      <td>www.thestar.com/news/world/2011/03/10/florida_...</td>\n",
       "      <td>What are the implications of law enforcement a...</td>\n",
       "      <td>Federal Aviation Administration</td>\n",
       "      <td>Federal Aviation Administration</td>\n",
       "      <td>The use of the MAV on city streets has not yet...</td>\n",
       "      <td>NaN</td>\n",
       "      <td>False</td>\n",
       "    </tr>\n",
       "    <tr>\n",
       "      <th>3</th>\n",
       "      <td>www.thestar.com/news/world/2011/03/10/florida_...</td>\n",
       "      <td>What are the implications of law enforcement a...</td>\n",
       "      <td>Andrew Cohen</td>\n",
       "      <td>Andrew Cohen</td>\n",
       "      <td>Sergeant Andrew Cohen of the Miami-Dade police...</td>\n",
       "      <td>NaN</td>\n",
       "      <td>False</td>\n",
       "    </tr>\n",
       "    <tr>\n",
       "      <th>4</th>\n",
       "      <td>www.thestar.com/news/world/2011/03/10/florida_...</td>\n",
       "      <td>What are the implications of law enforcement a...</td>\n",
       "      <td>Honeywell Aerospace</td>\n",
       "      <td>Honeywell Aerospace</td>\n",
       "      <td>The MAV was manufactured by Honeywell Aerospac...</td>\n",
       "      <td>NaN</td>\n",
       "      <td>False</td>\n",
       "    </tr>\n",
       "    <tr>\n",
       "      <th>...</th>\n",
       "      <td>...</td>\n",
       "      <td>...</td>\n",
       "      <td>...</td>\n",
       "      <td>...</td>\n",
       "      <td>...</td>\n",
       "      <td>...</td>\n",
       "      <td>...</td>\n",
       "    </tr>\n",
       "    <tr>\n",
       "      <th>98352</th>\n",
       "      <td>www.expressnews.com/news/local/article/Tyson-v...</td>\n",
       "      <td>What is the impact of Tyson Foods' decision to...</td>\n",
       "      <td>meatpacking plants</td>\n",
       "      <td>meatpacking plants</td>\n",
       "      <td>Tyson's mandate is subject to negotiations wit...</td>\n",
       "      <td>NaN</td>\n",
       "      <td>False</td>\n",
       "    </tr>\n",
       "    <tr>\n",
       "      <th>98353</th>\n",
       "      <td>www.expressnews.com/news/local/article/Tyson-v...</td>\n",
       "      <td>What is the impact of Tyson Foods' decision to...</td>\n",
       "      <td>Seguin</td>\n",
       "      <td>Seguin</td>\n",
       "      <td>About 60 percent of the city of Seguin's workf...</td>\n",
       "      <td>Expert Insights</td>\n",
       "      <td>True</td>\n",
       "    </tr>\n",
       "    <tr>\n",
       "      <th>98354</th>\n",
       "      <td>www.expressnews.com/news/local/article/Tyson-v...</td>\n",
       "      <td>What is the impact of Tyson Foods' decision to...</td>\n",
       "      <td>Green Gate Garden Center</td>\n",
       "      <td>Green Gate Garden Center</td>\n",
       "      <td>Green Gate Garden Center in Seguin began manda...</td>\n",
       "      <td>Analysis and Criticism</td>\n",
       "      <td>True</td>\n",
       "    </tr>\n",
       "    <tr>\n",
       "      <th>98355</th>\n",
       "      <td>www.expressnews.com/news/local/article/Tyson-v...</td>\n",
       "      <td>What is the impact of Tyson Foods' decision to...</td>\n",
       "      <td>Robyn Wolters</td>\n",
       "      <td>Robyn Wolters</td>\n",
       "      <td>Office manager Robyn Wolters said that they re...</td>\n",
       "      <td>Analysis and Criticism</td>\n",
       "      <td>True</td>\n",
       "    </tr>\n",
       "    <tr>\n",
       "      <th>98356</th>\n",
       "      <td>www.expressnews.com/news/local/article/Tyson-v...</td>\n",
       "      <td>What is the impact of Tyson Foods' decision to...</td>\n",
       "      <td>passive-voice</td>\n",
       "      <td>passive-voice</td>\n",
       "      <td>The increase in COVID-19 hospitalizations at G...</td>\n",
       "      <td>NaN</td>\n",
       "      <td>False</td>\n",
       "    </tr>\n",
       "  </tbody>\n",
       "</table>\n",
       "<p>98357 rows × 7 columns</p>\n",
       "</div>"
      ],
      "text/plain": [
       "                                                     url  \\\n",
       "0      www.thestar.com/news/world/2011/03/10/florida_...   \n",
       "1      www.thestar.com/news/world/2011/03/10/florida_...   \n",
       "2      www.thestar.com/news/world/2011/03/10/florida_...   \n",
       "3      www.thestar.com/news/world/2011/03/10/florida_...   \n",
       "4      www.thestar.com/news/world/2011/03/10/florida_...   \n",
       "...                                                  ...   \n",
       "98352  www.expressnews.com/news/local/article/Tyson-v...   \n",
       "98353  www.expressnews.com/news/local/article/Tyson-v...   \n",
       "98354  www.expressnews.com/news/local/article/Tyson-v...   \n",
       "98355  www.expressnews.com/news/local/article/Tyson-v...   \n",
       "98356  www.expressnews.com/news/local/article/Tyson-v...   \n",
       "\n",
       "                                                   query  \\\n",
       "0      What are the implications of law enforcement a...   \n",
       "1      What are the implications of law enforcement a...   \n",
       "2      What are the implications of law enforcement a...   \n",
       "3      What are the implications of law enforcement a...   \n",
       "4      What are the implications of law enforcement a...   \n",
       "...                                                  ...   \n",
       "98352  What is the impact of Tyson Foods' decision to...   \n",
       "98353  What is the impact of Tyson Foods' decision to...   \n",
       "98354  What is the impact of Tyson Foods' decision to...   \n",
       "98355  What is the impact of Tyson Foods' decision to...   \n",
       "98356  What is the impact of Tyson Foods' decision to...   \n",
       "\n",
       "                                  Name                    Original Name  \\\n",
       "0         Miami-Dade Police Department     Miami-Dade police department   \n",
       "1                     Aida Fina-Milian                 Aida Fina-Milian   \n",
       "2      Federal Aviation Administration  Federal Aviation Administration   \n",
       "3                         Andrew Cohen                     Andrew Cohen   \n",
       "4                  Honeywell Aerospace              Honeywell Aerospace   \n",
       "...                                ...                              ...   \n",
       "98352               meatpacking plants               meatpacking plants   \n",
       "98353                           Seguin                           Seguin   \n",
       "98354         Green Gate Garden Center         Green Gate Garden Center   \n",
       "98355                    Robyn Wolters                    Robyn Wolters   \n",
       "98356                    passive-voice                    passive-voice   \n",
       "\n",
       "                                             Information  \\\n",
       "0      The Miami-Dade police department is planning t...   \n",
       "1      Aida Fina-Milian, a detective, stated that the...   \n",
       "2      The use of the MAV on city streets has not yet...   \n",
       "3      Sergeant Andrew Cohen of the Miami-Dade police...   \n",
       "4      The MAV was manufactured by Honeywell Aerospac...   \n",
       "...                                                  ...   \n",
       "98352  Tyson's mandate is subject to negotiations wit...   \n",
       "98353  About 60 percent of the city of Seguin's workf...   \n",
       "98354  Green Gate Garden Center in Seguin began manda...   \n",
       "98355  Office manager Robyn Wolters said that they re...   \n",
       "98356  The increase in COVID-19 hospitalizations at G...   \n",
       "\n",
       "                 oracle_label  matched  \n",
       "0                         NaN    False  \n",
       "1                         NaN    False  \n",
       "2                         NaN    False  \n",
       "3                         NaN    False  \n",
       "4                         NaN    False  \n",
       "...                       ...      ...  \n",
       "98352                     NaN    False  \n",
       "98353         Expert Insights     True  \n",
       "98354  Analysis and Criticism     True  \n",
       "98355  Analysis and Criticism     True  \n",
       "98356                     NaN    False  \n",
       "\n",
       "[98357 rows x 7 columns]"
      ]
     },
     "execution_count": 170,
     "metadata": {},
     "output_type": "execute_result"
    }
   ],
   "source": []
  },
  {
   "cell_type": "code",
   "execution_count": 206,
   "id": "56022c56-f520-4f68-8dcc-7d4edd48052e",
   "metadata": {},
   "outputs": [],
   "source": [
    "examples_mapped_df = (\n",
    "    test_set_df_with_oracles_mapped[['url', 'Name', 'Information']]\n",
    "     .merge(source_df_with_clusters\n",
    "             .assign(label=lambda df: df['cluster_descript_leaf_3'].str.split(':').str.get(0))\n",
    "             .assign(human_label=lambda df: df['label'].map(inferred_to_human_label_mapper))\n",
    "             [['url', 'Name', 'Narrative Function', 'human_label']]\n",
    "))"
   ]
  },
  {
   "cell_type": "code",
   "execution_count": 208,
   "id": "4cef486a-d523-44c4-890a-dea50008664c",
   "metadata": {},
   "outputs": [
    {
     "name": "stderr",
     "output_type": "stream",
     "text": [
      "/var/folders/xh/qnyq7yzj0r328_7hnb7pgxth0000gp/T/ipykernel_7229/2021855737.py:2: DeprecationWarning: DataFrameGroupBy.apply operated on the grouping columns. This behavior is deprecated, and in a future version of pandas the grouping columns will be excluded from the operation. Either pass `include_groups=False` to exclude the groupings or explicitly select the grouping columns after groupby to silence this warning.\n",
      "  .groupby('human_label').apply(lambda df: df.head().reset_index(drop=True))\n"
     ]
    }
   ],
   "source": [
    "t = (examples_mapped_df\n",
    " .groupby('human_label').apply(lambda df: df.head().reset_index(drop=True))\n",
    ")"
   ]
  },
  {
   "cell_type": "code",
   "execution_count": 209,
   "id": "2949bfc8-786f-4aeb-bcc7-27735c9093a2",
   "metadata": {},
   "outputs": [],
   "source": [
    "cats = list(set(map(lambda x: x[0], t.index)))"
   ]
  },
  {
   "cell_type": "code",
   "execution_count": 210,
   "id": "4f86b9bf-f362-4023-a9f6-85601cef9c68",
   "metadata": {},
   "outputs": [
    {
     "data": {
      "text/plain": [
       "['Background Information',\n",
       " 'Credibility and Engagement',\n",
       " 'Examples and Illustration',\n",
       " 'Author Perspective',\n",
       " 'Expert Analysis',\n",
       " 'Peripheral Context',\n",
       " 'Anecdotes',\n",
       " 'Alternative Viewpoints',\n",
       " 'Authoritative Source',\n",
       " 'Expert Insights',\n",
       " 'Analysis and Criticism',\n",
       " 'Central Figure']"
      ]
     },
     "execution_count": 210,
     "metadata": {},
     "output_type": "execute_result"
    }
   ],
   "source": [
    "cats"
   ]
  },
  {
   "cell_type": "code",
   "execution_count": 227,
   "id": "31fe5354-f99c-4138-b5d2-2106c5e59e02",
   "metadata": {},
   "outputs": [
    {
     "data": {
      "text/plain": [
       "12"
      ]
     },
     "execution_count": 227,
     "metadata": {},
     "output_type": "execute_result"
    }
   ],
   "source": [
    "len(cats)"
   ]
  },
  {
   "cell_type": "code",
   "execution_count": 246,
   "id": "c3f6eb76-c37a-45be-9047-ad1cb25b9378",
   "metadata": {},
   "outputs": [
    {
     "data": {
      "text/plain": [
       "'Central Figure'"
      ]
     },
     "execution_count": 246,
     "metadata": {},
     "output_type": "execute_result"
    }
   ],
   "source": [
    "idx = 11\n",
    "cats[idx]"
   ]
  },
  {
   "cell_type": "code",
   "execution_count": 249,
   "id": "feaade8c-dc8e-4b6b-aca8-b9b805de623c",
   "metadata": {},
   "outputs": [
    {
     "data": {
      "text/plain": [
       "[{'Source name': 'Sam Bankman-Fried',\n",
       "  'Info. provided': 'Sam Bankman-Fried is the founder of FTX and former chief executive of FTX. He was arrested in the Bahamas and appeared in court, where he was denied bail. He was taken away in handcuffs and was described as a modern-day John Pierpont Morgan, but is now likened to Bernie Madoff, the fraudster who orchestrated a notorious Ponzi scheme. He was a major donor to the Democratic Party and known for his commitment to effective altruism, a charitable movement that urges adherents to give away their wealth in efficient and logical ways.',\n",
       "  'Narrative function': '\"Main Actor\": This source is the main actor in the news article and the subject of the story.'},\n",
       " {'Source name': 'Boeing',\n",
       "  'Info. provided': 'Boeing admitted that it may never know what caused the battery malfunctions that resulted in all its 787 Dreamliner aircraft being grounded. Replacement battery systems are now being fitted to all 50 Dreamliners that had been in operation with airlines around the world. Boeing expects the planes to resume service in the coming weeks. Boeing is likely to release details of how much fixing the battery problem has cost the company when it releases its latest quarterly results on Wednesday.',\n",
       "  'Narrative function': '\"Primary Actor\": This source is the main actor in the news article and provides information about the company\\'s actions and decisions.'}]"
      ]
     },
     "execution_count": 249,
     "metadata": {},
     "output_type": "execute_result"
    }
   ],
   "source": [
    "t2 = (t.loc[cats[idx]][['Name', 'Information', 'Narrative Function']]\n",
    " .rename(columns={'Name': 'Source name', 'Information': 'Info. provided', 'Narrative Function': 'Narrative function'})\n",
    " .iloc[[0, 3]].to_dict(orient='records')\n",
    ")\n",
    "# for t_i in t2:\n",
    "    # for k,v in t_i.items():\n",
    "        # print(f'{k}: {v}')\n",
    "    # print()\n",
    "t2"
   ]
  },
  {
   "cell_type": "markdown",
   "id": "b51e440c-7420-4c43-be22-e559573708db",
   "metadata": {},
   "source": [
    "'\"Expert Insights\": \n",
    "    {'Source name': 'S&P Global',\n",
    "    'Info. provided': 'The value of deposites relative to a company's overall worth.',\n",
    "    'Narrative function': 'In a story about a company's value, this source provides data and statistics about the situation.'},\n",
    "    {'Source name': 'Irene Knapp',\n",
    "    'Info. provided': 'Insights about the lack of executive leadership at a company',\n",
    "    'Narrative function': 'In a story about a company's failings, this source is used to express concerns and criticisms about culture and leadership',}\n",
    "\n",
    "\"Central Figure\":\n",
    "    {'Source name': 'Joyann Ferguson-Pratt',\n",
    "      'Info. provided': \"A judge who makes a key ruling in a case being discussed in the article.\",\n",
    "      'Narrative function': 'In a story about a case, this source made decision that affects the main actor.'},\n",
    "     {'Source name': 'Larry Loftis',\n",
    "      'Info. provided': \"The general manager company provides his view on where the company is going based on his leadership\",\n",
    "      'Narrative function': \"In a story about a company, this source provides detailed information about the company\\'s actions, decisions, and technology.'}\n",
    "\n",
    "\"Examples and Illustration\":\n",
    "    {'Source name': 'NASA',\n",
    "     'Info. provided': \"Information about a flight they piloted.\",\n",
    "      'Narrative function': 'In a story about worldwide space programs, provides context and information about US government's priorities, goals, and timelines.'}\n",
    "    {'Source name': 'A local bank',\n",
    "     'Info. provided': 'States that all shareholders get the same information at the same time.',\n",
    "    'Narrative function': 'In a story about the effects of regulations, this source is used to provide context and background information on how a regulation is being followed.'}\n",
    "\n",
    "'Author Perspective':\n",
    "    {'Source name': 'Ross Marchand',\n",
    "     'Info. provided': 'The director of policy at an organization with a general opinion, writes an article.',\n",
    "      'Narrative function': 'This source is used to provide the author\\'s opinion and perspective on the issue.'},\n",
    "     {'Source name': 'David Ingram',\n",
    "      'Info. provided': 'David Ingram is a journalist who covers tech for NBC News.',\n",
    "      'Narrative function': 'The author of the article, providing context and background information.'}\n",
    "\n",
    "'Expert Analysis':\n",
    "    {'Source name': 'Martin Sankey',\n",
    "      'Info. provided': 'A senior research analyst who has been following a company closely.',\n",
    "      'Narrative function': In a story about a company, this source provides expert opinion from a senior research analyst.'},\n",
    "     {'Source name': 'Brian Fry',\n",
    "      'Info. provided': 'Provides advice on investment apps and offers insights on how to choose the best app for individual needs and goals.',\n",
    "      'Narrative function': 'In a story about investment apps, this source provides expert opinions on investment apps.'}\n",
    "\n",
    "\"Peripheral Context\":\n",
    "    {'Source name': 'HBO',\n",
    "     'Info. provided': 'Released a documentary about a company, which keeps it in the public eye and affect the job prospects of former employees.',\n",
    "      'Narrative function': 'In a story about how a company's misfortunes went public, this source provides context for the unfolding events.'},\n",
    "     {'Source name': 'Attorneys',\n",
    "      'Info. provided': 'Presented closing arguments in a trial.',\n",
    "      'Narrative function': 'In a story about a trial, this source is used to provide context about the trial and the actions of the lawyers involved.'}\n",
    "\n",
    "'Anecdotes':\n",
    "    {'Source name': 'Japan Airlines',\n",
    "      'Info. provided': \"Infomration about a battery overheating incident.\",\n",
    "      'Narrative function': \"In a story about accidents, this source is used as an example of an airline that experienced a battery malfunction incident.'},\n",
    "     {'Source name': 'Fidelity Go',\n",
    "      'Info. provided': 'Offers an easy-to-understand investment app.',\n",
    "      'Narrative function': 'In a story about investment apps, this source provides an example of one.'}\n",
    "\n",
    "'Alternative Viewpoints':\n",
    "    {'Source name': 'Airbus',\n",
    "      'Info. provided': 'Airbus was planning to use lithium-ion batteries in its new plane, the A350, but has decided against it after watching Boeing struggle to prove they are safe.',\n",
    "      'Narrative function': 'In a story about the decisions of a company, this source is used as a comparison.'},\n",
    "    {'Source name': 'TD Ameritrade',\n",
    "  'Info. provided': 'This company offers a range of investment products and services, including brokerage accounts, robo-advisors, and financial planning tools.',\n",
    "  'Narrative function': 'In a story about investment apps, this source is used to provide a counterpoint to other investment apps.'}\n",
    "\n",
    "  \n",
    "'Authoritative Source':\n",
    "    {'Source name': 'US aircraft regulators',\n",
    "      'Info. provided': 'US aircraft regulators approved a revamped battery design for the 787.',\n",
    "      'Narrative function': 'In a story about airplane batteries, this source is an authority about an issue and is involved in the events.'},\n",
    "     {'Source name': 'Commodity Futures Trading Commission',\n",
    "      'Info. provided': \"Alleges that an actor took money that customers wanted to use.\",\n",
    "      'Narrative function': 'In a story about corporate malfeasance, this source has an inside look involved in the events of the story.'}\n",
    "\n",
    "\"Expert Insights\":\n",
    "{'Source name': 'Sundar Pichai',\n",
    "'Info. provided': \"The source provided insights about a technology being a tremendously positive force.\",\n",
    "  'Narrative function': 'In a story about AI, this source is used to provide a statement from Google\\'s CEO.'},\n",
    " {'Source name': 'Google',\n",
    "  'Info. provided': \"Provides information about company structure.\",\n",
    "  'Narrative function': 'In a story about a company, this source is used to provide factual information about Google, its policies, and its actions.'}\n",
    "\n",
    "\n",
    "'Analysis and Criticism':\n",
    "{'Source name': 'Peter Schoomaker',\n",
    "  'Info. provided': 'This source provides an insider\\'s explanation for the cancellation of a program and its implications.',\n",
    "  'Narrative function': 'In a story about US Army decision making, this source explains and pushes back on some information.'},\n",
    " {'Source name': 'Google employees',\n",
    "  'Info. provided': \"Employees who asked questions about a memo had their comments and identities leaked elsewhere online.\",\n",
    "  'Narrative function': 'In a story about a corporate mishap, this source provides insight into what happened and criticizes the company.'}\n",
    "\n",
    "\"Central Figure\":\n",
    "{'Source name': 'Sam Bankman-Fried',\n",
    "  'Info. provided': 'The founder of a company.',\n",
    "  'Narrative function': 'In a story about the company, this source is the main actor in the news article and the subject of the story.'},\n",
    " {'Source name': 'Boeing',\n",
    "  'Info. provided': 'The company admitted that it may never know what caused the battery malfunctions.',\n",
    "  'Narrative function': 'In a story about a company's malfeasance, this source is the main actor in the news article and provides information about the company\\'s actions and decisions.'}\n"
   ]
  },
  {
   "cell_type": "code",
   "execution_count": null,
   "id": "65de8a41-b3a0-46d9-b585-1ec8b92391dc",
   "metadata": {},
   "outputs": [],
   "source": []
  },
  {
   "cell_type": "code",
   "execution_count": null,
   "id": "d74842e6-2b1e-4391-a9fb-836a6e5794e7",
   "metadata": {},
   "outputs": [],
   "source": []
  },
  {
   "cell_type": "code",
   "execution_count": null,
   "id": "6d8b5996-bc9a-48ac-8c83-13a02b7af118",
   "metadata": {},
   "outputs": [],
   "source": []
  },
  {
   "cell_type": "code",
   "execution_count": null,
   "id": "e856df84-3f9c-4072-890e-f6e36a7822d5",
   "metadata": {},
   "outputs": [],
   "source": []
  },
  {
   "cell_type": "code",
   "execution_count": null,
   "id": "ff68e9ee-f5c1-4b94-9a76-e3fc96a555a8",
   "metadata": {},
   "outputs": [],
   "source": []
  },
  {
   "cell_type": "markdown",
   "id": "8384aa21-513a-441b-b369-4ac48cfa8391",
   "metadata": {},
   "source": [
    "# Old Work"
   ]
  },
  {
   "cell_type": "code",
   "execution_count": null,
   "id": "325ccd8a-8205-44de-8254-e289cdc58074",
   "metadata": {},
   "outputs": [],
   "source": [
    "train_queries = json.load(open('../data/v2_queries/query_train_prompt1_v2.json'))\n",
    "test_queries = json.load(open('../data/v2_queries/query_test_prompt1_v2.json'))\n",
    "train_query_df = pd.DataFrame(train_queries)\n",
    "train_query_df['split'] = 'train'\n",
    "test_query_df = pd.DataFrame(test_queries)\n",
    "test_query_df['split'] = 'test'\n",
    "full_query_df = pd.concat([train_query_df, test_query_df])\n",
    "\n",
    "test_narr = json.load(open('../data/v2_narr_parsed/v2_test_set_narr.json'))\n",
    "train_narr = json.load(open('../data/v2_narr_parsed/v2_train_set_narr.json'))\n",
    "\n",
    "narr_df = pd.concat([\n",
    "    pd.DataFrame(train_narr),\n",
    "    pd.DataFrame(test_narr)\n",
    "])\n",
    "source_narr_df = narr_df.explode('sources').dropna().reset_index(drop=True)\n",
    "source_narr_df = pd.concat([\n",
    "    source_narr_df[['url']],\n",
    "    source_narr_df['sources'].pipe(lambda s: pd.DataFrame(s.tolist()))\n",
    "], axis=1)\n",
    "\n",
    "source_narr_df.iloc[0].to_dict()"
   ]
  },
  {
   "cell_type": "code",
   "execution_count": 9,
   "id": "67534867-4706-4d93-9821-728a7142d96a",
   "metadata": {},
   "outputs": [
    {
     "data": {
      "text/plain": [
       "{'url': 'www.theatlantic.com/sponsored/qualcomm-2016/the-space-within/768/',\n",
       " 'Name': 'Researchers',\n",
       " 'Original Name': 'researchers',\n",
       " 'Narrative Function': '\"Authority\": This source is used to provide information about the Framingham Heart Study and its findings.',\n",
       " 'cluster_descript_leaf_1': '\"Expert Endorsement\": These sources are used to provide authoritative and credible information, data, and guidance on various aspects of the COVID-19 pandemic, including vaccines, testing, public health guidelines, and pandemic control measures.',\n",
       " 'cluster_descript_leaf_2': '\"Authoritative Source\": These sources provide credible, expert-backed information and validations that lend legitimacy and reliability across various topics, enhancing the trust and accuracy of the articles they support.',\n",
       " 'cluster_descript_leaf_3': '\"Credibility Anchor\": These sources provide verified, expert-backed information that enhances the trustworthiness and reliability of the content they support.',\n",
       " 'cluster_descript_leaf_4': '\"Insightful Authority\": This label represents sources that provide comprehensive expertise, credible insights, and influential perspectives, enhancing the depth, reliability, and engagement of the content while guiding audience understanding across various topics.',\n",
       " 'cluster_descript_leaf_5': '\"Essential Source\": This label encapsulates individuals, companies, or entities that play a pivotal role in providing key information, expert insights, illustrative examples, and comprehensive analysis, crucial for enhancing reader understanding, ensuring accurate reporting, and guiding audience comprehension across various subjects.'}"
      ]
     },
     "execution_count": 9,
     "metadata": {},
     "output_type": "execute_result"
    }
   ],
   "source": [
    "(\n",
    "    source_df_with_clusters\n",
    "         .loc[lambda df: df['cluster_descript_leaf_1'] == df['cluster_descript_leaf_1'].unique()[1]]\n",
    "         .drop_duplicates('Narrative Function').iloc[0].to_dict()\n",
    ")"
   ]
  },
  {
   "cell_type": "code",
   "execution_count": 7,
   "id": "eb369877-7ba9-4df2-8ead-308055e69fe4",
   "metadata": {
    "scrolled": true
   },
   "outputs": [
    {
     "data": {
      "text/plain": [
       "cluster_descript_leaf_4\n",
       "\"Core Narrative Sources\": These sources provide key insights, credibility, context, and diverse perspectives crucial for developing, substantiating, and advancing the main narrative of the article.                                                                                           148915\n",
       "\"Extensive Context\"\\n\\n\"These sources provide in-depth background, integral details, and thorough narrative foundations that enhance the understanding of various topics and events, ensuring comprehensive insight.\"                                                                            70762\n",
       "\"Insightful Narratives\": These sources offer detailed, informative, and contextual explanations with comprehensive data and innovative solutions, enhancing reader understanding and decision-making across various subjects.                                                                    55396\n",
       "\"Nuanced Discourse\": These sources offer comparative analysis, opposing viewpoints, and critical perspectives to enhance understanding, challenge main narratives, and provide a nuanced discourse on the topics discussed.                                                                      31256\n",
       "\"Narrative Anchor\": This source is the key figure or entity in the news article whose actions, decisions, and statements are crucial in shaping and driving the story's focus and progression.                                                                                                   20324\n",
       "\"Authoritative Insights\": Authored by professionals across various fields, this source provides authoritative insights, analyses, and advice, enhancing articles with credibility, depth, and comprehensive understanding.                                                                       18821\n",
       "\"Illustrative Narratives\": These sources provide detailed instances and case studies to support points, clarify concepts, and demonstrate responses and impacts, enhancing understanding and inspiration.                                                                                        15846\n",
       "\"Narrative Enhancers\": These sources utilize vivid comparisons, comprehensive analyses, and illustrative examples to effectively explain, engage, and deepen understanding, making broader narratives more relatable and comprehensible.                                                         14458\n",
       "\"Background Context\": These sources provide narrative context, personal insights, opinions, analysis, essential background details, credibility, and affiliations, enhancing comprehensive understanding and transparency in articles.                                                           13348\n",
       "\"Detailed Narratives\": These sources include comprehensive insights, firsthand experiences, and personal accounts, providing a well-rounded perspective, credible illustrations, and context on involved parties and incidents to support arguments and highlight impacts.                        9901\n",
       "\"Expert Validation\": These sources provide reliable, expert, and official information, lending legitimacy, credibility, and validation to the narratives and arguments presented in the articles.                                                                                                 9071\n",
       "\"Leadership Perspectives\": This label captures detailed, firsthand accounts and quotes from high-ranking executives and key insiders, providing an in-depth understanding of organizational goals, strategies, and motivations.                                                                   6224\n",
       "\"Inclusive Call-to-Action\": This source encourages active involvement and participation from the audience, urging them to take proactive steps, contribute feedback, and engage with community-driven efforts, thereby fostering a sense of collective responsibility and deeper connection.      1133\n",
       "\"Illustrated Narratives\": This collection of sources uses visuals like photographs, images, and illustrations to enhance the storytelling, enriching and supporting the information presented through immersive depiction.                                                                         766\n",
       "Audience Engagement\\n\\n                                                                                                                                                                                                                                                                             82\n",
       "Name: count, dtype: int64"
      ]
     },
     "execution_count": 7,
     "metadata": {},
     "output_type": "execute_result"
    }
   ],
   "source": [
    "source_df_with_clusters['cluster_descript_leaf_4'].value_counts()#$.head(2)"
   ]
  },
  {
   "cell_type": "code",
   "execution_count": 124,
   "id": "f5bf0a6e-e218-4be4-80db-dc4f4b5fc8e7",
   "metadata": {},
   "outputs": [],
   "source": [
    "# source_narr_df[['url', 'Name', 'Perspective', 'Centrality']].merge(source_df_with_clusters, on=['url', 'Name'])"
   ]
  },
  {
   "cell_type": "code",
   "execution_count": 9,
   "id": "4baed85a-425d-4a8a-b3e9-8747fb6b98e5",
   "metadata": {},
   "outputs": [],
   "source": [
    "source_df_with_clusters_and_queries = source_df_with_clusters.merge(full_query_df)"
   ]
  },
  {
   "cell_type": "code",
   "execution_count": 15,
   "id": "41e86254-632c-44de-b709-17fa6db732b1",
   "metadata": {},
   "outputs": [
    {
     "data": {
      "text/plain": [
       "url                        blog.cleveland.com/metro/2011/01/light_snow_ca...\n",
       "Name                                                                  Police\n",
       "Original Name                                                 Police, police\n",
       "Narrative Function                                            Primary Source\n",
       "cluster_descript_leaf_1                                       Primary Source\n",
       "cluster_descript_leaf_2                                       Primary Source\n",
       "cluster_descript_leaf_3                             Primary Narrative Source\n",
       "cluster_descript_leaf_4                               Core Narrative Sources\n",
       "cluster_descript_leaf_5                                  Credible Narratives\n",
       "query                      What is the impact of a light snowfall on traf...\n",
       "split                                                                   test\n",
       "Name: 0, dtype: object"
      ]
     },
     "execution_count": 15,
     "metadata": {},
     "output_type": "execute_result"
    }
   ],
   "source": [
    "source_df_with_clusters_and_queries.iloc[0]"
   ]
  },
  {
   "cell_type": "code",
   "execution_count": 10,
   "id": "59d52b0a-f58b-481b-a40d-7d20ff442d88",
   "metadata": {},
   "outputs": [],
   "source": [
    "to_process = ['Narrative Function', 'cluster_descript_leaf_1', 'cluster_descript_leaf_2', 'cluster_descript_leaf_3', 'cluster_descript_leaf_4', 'cluster_descript_leaf_5']\n",
    "source_df_with_clusters_and_queries[to_process] = (\n",
    "    source_df_with_clusters_and_queries\n",
    "     [to_process]\n",
    "     .apply(lambda s: s.str.split(':').str.get(0).str.split('\\n\\n').str.get(0).str.strip().str.replace('\"', ''))\n",
    ")"
   ]
  },
  {
   "cell_type": "code",
   "execution_count": 11,
   "id": "4c8c90e2-e3ee-4e20-a3b2-d367cd505d81",
   "metadata": {},
   "outputs": [],
   "source": [
    "broad_clusters_categories = (\n",
    "    source_df_with_clusters_and_queries\n",
    "         .groupby('url')['cluster_descript_leaf_5']\n",
    "         .value_counts()\n",
    "         .unstack()\n",
    ")"
   ]
  },
  {
   "cell_type": "code",
   "execution_count": null,
   "id": "d8273898-1bab-436e-98d4-c26046e96294",
   "metadata": {},
   "outputs": [],
   "source": [
    "## classification problem:\n",
    "\n",
    "## input: initial query — initial summary of the story \n",
    "## predict: multilabel output of the different source-categories\n",
    "\n",
    "\n",
    "## process —\n",
    "##    start with your query\n",
    "##    planner tells you what KINDS of sources you need\n",
    "##    execute query 1\n",
    "##       you determine that you filled \"Central Figure\" category of source\n",
    "##       your planner tells you you still need an \"Enriched Narratives\" category of source\n",
    "##    this helps you formulate/execute a better followup/interleaving query\n",
    "## -> can we make an HMM or Graph neural network to predict this?\n",
    "\n",
    "## directly sample from the distribution of discourse labels?\n",
    "##    slightly more advanced - use kmeans clustering to cluster 5-6 clusters of different story types and then try to assign \n",
    "##    stories to each cluster"
   ]
  },
  {
   "cell_type": "code",
   "execution_count": null,
   "id": "f87d82ff-43d2-4a5c-b7c7-8fb4751534a7",
   "metadata": {},
   "outputs": [],
   "source": []
  },
  {
   "cell_type": "code",
   "execution_count": 192,
   "id": "3f8b7b26-b64c-490f-ac54-69cca37fe02c",
   "metadata": {},
   "outputs": [
    {
     "data": {
      "text/plain": [
       "{'url': 'www.vice.com/en/article/jg8743/facebook-spending-dollar50m-rese-to-not-ruin-metaverse-like-it-ruined-the-real-world',\n",
       " 'query': 'Can a company like Facebook, with a history of contributing to real-world problems, be trusted to responsibly develop a virtual world like the metaverse?',\n",
       " 'split': 'train'}"
      ]
     },
     "execution_count": 192,
     "metadata": {},
     "output_type": "execute_result"
    }
   ],
   "source": [
    "train_query_df.iloc[0].to_dict()"
   ]
  },
  {
   "cell_type": "code",
   "execution_count": 190,
   "id": "63765a86-ffcb-4f2e-a0cf-0dc6cdc7d4fe",
   "metadata": {},
   "outputs": [
    {
     "data": {
      "text/html": [
       "<div>\n",
       "<style scoped>\n",
       "    .dataframe tbody tr th:only-of-type {\n",
       "        vertical-align: middle;\n",
       "    }\n",
       "\n",
       "    .dataframe tbody tr th {\n",
       "        vertical-align: top;\n",
       "    }\n",
       "\n",
       "    .dataframe thead th {\n",
       "        text-align: right;\n",
       "    }\n",
       "</style>\n",
       "<table border=\"1\" class=\"dataframe\">\n",
       "  <thead>\n",
       "    <tr style=\"text-align: right;\">\n",
       "      <th>cluster_descript_leaf_5</th>\n",
       "      <th>Central Figure</th>\n",
       "      <th>Contextual Narratives</th>\n",
       "      <th>Credible Narratives</th>\n",
       "      <th>Critical Analysis</th>\n",
       "      <th>Enriched Narratives</th>\n",
       "      <th>User Interaction</th>\n",
       "    </tr>\n",
       "    <tr>\n",
       "      <th>url</th>\n",
       "      <th></th>\n",
       "      <th></th>\n",
       "      <th></th>\n",
       "      <th></th>\n",
       "      <th></th>\n",
       "      <th></th>\n",
       "    </tr>\n",
       "  </thead>\n",
       "  <tbody>\n",
       "    <tr>\n",
       "      <th>www.fox23.com/news/trending/teacher-appreciation-week-2021-deals-freebies-educators/SOQPCHBO3JAC3MXNVHGY3IFYHM/</th>\n",
       "      <td>NaN</td>\n",
       "      <td>NaN</td>\n",
       "      <td>2.0</td>\n",
       "      <td>NaN</td>\n",
       "      <td>24.0</td>\n",
       "      <td>NaN</td>\n",
       "    </tr>\n",
       "    <tr>\n",
       "      <th>www.chron.com/life/pets/article/New-website-guesses-what-dog-breed-you-are-6842859.php</th>\n",
       "      <td>NaN</td>\n",
       "      <td>NaN</td>\n",
       "      <td>NaN</td>\n",
       "      <td>NaN</td>\n",
       "      <td>24.0</td>\n",
       "      <td>NaN</td>\n",
       "    </tr>\n",
       "    <tr>\n",
       "      <th>www.usatoday.com/story/travel/flights/todayinthesky/2017/09/11/irma-snarling-flights-five-major-airline-hubs-all-once/653483001/</th>\n",
       "      <td>NaN</td>\n",
       "      <td>NaN</td>\n",
       "      <td>1.0</td>\n",
       "      <td>NaN</td>\n",
       "      <td>22.0</td>\n",
       "      <td>NaN</td>\n",
       "    </tr>\n",
       "    <tr>\n",
       "      <th>www.theguardian.com/technology/2014/feb/12/10-things-to-know-about-lifelogging</th>\n",
       "      <td>NaN</td>\n",
       "      <td>NaN</td>\n",
       "      <td>2.0</td>\n",
       "      <td>NaN</td>\n",
       "      <td>21.0</td>\n",
       "      <td>NaN</td>\n",
       "    </tr>\n",
       "    <tr>\n",
       "      <th>www.cbsnews.com/miami/news/a-guide-to-veterans-day-2020-deals-and-freebies/</th>\n",
       "      <td>NaN</td>\n",
       "      <td>NaN</td>\n",
       "      <td>1.0</td>\n",
       "      <td>NaN</td>\n",
       "      <td>21.0</td>\n",
       "      <td>NaN</td>\n",
       "    </tr>\n",
       "    <tr>\n",
       "      <th>...</th>\n",
       "      <td>...</td>\n",
       "      <td>...</td>\n",
       "      <td>...</td>\n",
       "      <td>...</td>\n",
       "      <td>...</td>\n",
       "      <td>...</td>\n",
       "    </tr>\n",
       "    <tr>\n",
       "      <th>wwwrm1.ansa.it/pressrelease/canale_salute_benessere/index.shtml</th>\n",
       "      <td>NaN</td>\n",
       "      <td>NaN</td>\n",
       "      <td>1.0</td>\n",
       "      <td>NaN</td>\n",
       "      <td>NaN</td>\n",
       "      <td>NaN</td>\n",
       "    </tr>\n",
       "    <tr>\n",
       "      <th>y108.cbslocal.com/2014/07/23/luke-bryan-to-honor-u-s-troops-with-free-tickets-to-chicago-concert/</th>\n",
       "      <td>1.0</td>\n",
       "      <td>NaN</td>\n",
       "      <td>1.0</td>\n",
       "      <td>NaN</td>\n",
       "      <td>NaN</td>\n",
       "      <td>NaN</td>\n",
       "    </tr>\n",
       "    <tr>\n",
       "      <th>youpix.virgula.uol.com.br/app/os-114-aplicativos-mais-uteis-pra-voce-baixar-agora/</th>\n",
       "      <td>1.0</td>\n",
       "      <td>1.0</td>\n",
       "      <td>11.0</td>\n",
       "      <td>1.0</td>\n",
       "      <td>NaN</td>\n",
       "      <td>NaN</td>\n",
       "    </tr>\n",
       "    <tr>\n",
       "      <th>yourvoicematters.news.blog/</th>\n",
       "      <td>NaN</td>\n",
       "      <td>NaN</td>\n",
       "      <td>10.0</td>\n",
       "      <td>NaN</td>\n",
       "      <td>NaN</td>\n",
       "      <td>NaN</td>\n",
       "    </tr>\n",
       "    <tr>\n",
       "      <th>yourvoicematters.news.blog/2019/06/07/the-cost-of-silence/</th>\n",
       "      <td>NaN</td>\n",
       "      <td>NaN</td>\n",
       "      <td>4.0</td>\n",
       "      <td>1.0</td>\n",
       "      <td>NaN</td>\n",
       "      <td>NaN</td>\n",
       "    </tr>\n",
       "  </tbody>\n",
       "</table>\n",
       "<p>46296 rows × 6 columns</p>\n",
       "</div>"
      ],
      "text/plain": [
       "cluster_descript_leaf_5                             Central Figure  \\\n",
       "url                                                                  \n",
       "www.fox23.com/news/trending/teacher-appreciatio...             NaN   \n",
       "www.chron.com/life/pets/article/New-website-gue...             NaN   \n",
       "www.usatoday.com/story/travel/flights/todayinth...             NaN   \n",
       "www.theguardian.com/technology/2014/feb/12/10-t...             NaN   \n",
       "www.cbsnews.com/miami/news/a-guide-to-veterans-...             NaN   \n",
       "...                                                            ...   \n",
       "wwwrm1.ansa.it/pressrelease/canale_salute_benes...             NaN   \n",
       "y108.cbslocal.com/2014/07/23/luke-bryan-to-hono...             1.0   \n",
       "youpix.virgula.uol.com.br/app/os-114-aplicativo...             1.0   \n",
       "yourvoicematters.news.blog/                                    NaN   \n",
       "yourvoicematters.news.blog/2019/06/07/the-cost-...             NaN   \n",
       "\n",
       "cluster_descript_leaf_5                             Contextual Narratives  \\\n",
       "url                                                                         \n",
       "www.fox23.com/news/trending/teacher-appreciatio...                    NaN   \n",
       "www.chron.com/life/pets/article/New-website-gue...                    NaN   \n",
       "www.usatoday.com/story/travel/flights/todayinth...                    NaN   \n",
       "www.theguardian.com/technology/2014/feb/12/10-t...                    NaN   \n",
       "www.cbsnews.com/miami/news/a-guide-to-veterans-...                    NaN   \n",
       "...                                                                   ...   \n",
       "wwwrm1.ansa.it/pressrelease/canale_salute_benes...                    NaN   \n",
       "y108.cbslocal.com/2014/07/23/luke-bryan-to-hono...                    NaN   \n",
       "youpix.virgula.uol.com.br/app/os-114-aplicativo...                    1.0   \n",
       "yourvoicematters.news.blog/                                           NaN   \n",
       "yourvoicematters.news.blog/2019/06/07/the-cost-...                    NaN   \n",
       "\n",
       "cluster_descript_leaf_5                             Credible Narratives  \\\n",
       "url                                                                       \n",
       "www.fox23.com/news/trending/teacher-appreciatio...                  2.0   \n",
       "www.chron.com/life/pets/article/New-website-gue...                  NaN   \n",
       "www.usatoday.com/story/travel/flights/todayinth...                  1.0   \n",
       "www.theguardian.com/technology/2014/feb/12/10-t...                  2.0   \n",
       "www.cbsnews.com/miami/news/a-guide-to-veterans-...                  1.0   \n",
       "...                                                                 ...   \n",
       "wwwrm1.ansa.it/pressrelease/canale_salute_benes...                  1.0   \n",
       "y108.cbslocal.com/2014/07/23/luke-bryan-to-hono...                  1.0   \n",
       "youpix.virgula.uol.com.br/app/os-114-aplicativo...                 11.0   \n",
       "yourvoicematters.news.blog/                                        10.0   \n",
       "yourvoicematters.news.blog/2019/06/07/the-cost-...                  4.0   \n",
       "\n",
       "cluster_descript_leaf_5                             Critical Analysis  \\\n",
       "url                                                                     \n",
       "www.fox23.com/news/trending/teacher-appreciatio...                NaN   \n",
       "www.chron.com/life/pets/article/New-website-gue...                NaN   \n",
       "www.usatoday.com/story/travel/flights/todayinth...                NaN   \n",
       "www.theguardian.com/technology/2014/feb/12/10-t...                NaN   \n",
       "www.cbsnews.com/miami/news/a-guide-to-veterans-...                NaN   \n",
       "...                                                               ...   \n",
       "wwwrm1.ansa.it/pressrelease/canale_salute_benes...                NaN   \n",
       "y108.cbslocal.com/2014/07/23/luke-bryan-to-hono...                NaN   \n",
       "youpix.virgula.uol.com.br/app/os-114-aplicativo...                1.0   \n",
       "yourvoicematters.news.blog/                                       NaN   \n",
       "yourvoicematters.news.blog/2019/06/07/the-cost-...                1.0   \n",
       "\n",
       "cluster_descript_leaf_5                             Enriched Narratives  \\\n",
       "url                                                                       \n",
       "www.fox23.com/news/trending/teacher-appreciatio...                 24.0   \n",
       "www.chron.com/life/pets/article/New-website-gue...                 24.0   \n",
       "www.usatoday.com/story/travel/flights/todayinth...                 22.0   \n",
       "www.theguardian.com/technology/2014/feb/12/10-t...                 21.0   \n",
       "www.cbsnews.com/miami/news/a-guide-to-veterans-...                 21.0   \n",
       "...                                                                 ...   \n",
       "wwwrm1.ansa.it/pressrelease/canale_salute_benes...                  NaN   \n",
       "y108.cbslocal.com/2014/07/23/luke-bryan-to-hono...                  NaN   \n",
       "youpix.virgula.uol.com.br/app/os-114-aplicativo...                  NaN   \n",
       "yourvoicematters.news.blog/                                         NaN   \n",
       "yourvoicematters.news.blog/2019/06/07/the-cost-...                  NaN   \n",
       "\n",
       "cluster_descript_leaf_5                             User Interaction  \n",
       "url                                                                   \n",
       "www.fox23.com/news/trending/teacher-appreciatio...               NaN  \n",
       "www.chron.com/life/pets/article/New-website-gue...               NaN  \n",
       "www.usatoday.com/story/travel/flights/todayinth...               NaN  \n",
       "www.theguardian.com/technology/2014/feb/12/10-t...               NaN  \n",
       "www.cbsnews.com/miami/news/a-guide-to-veterans-...               NaN  \n",
       "...                                                              ...  \n",
       "wwwrm1.ansa.it/pressrelease/canale_salute_benes...               NaN  \n",
       "y108.cbslocal.com/2014/07/23/luke-bryan-to-hono...               NaN  \n",
       "youpix.virgula.uol.com.br/app/os-114-aplicativo...               NaN  \n",
       "yourvoicematters.news.blog/                                      NaN  \n",
       "yourvoicematters.news.blog/2019/06/07/the-cost-...               NaN  \n",
       "\n",
       "[46296 rows x 6 columns]"
      ]
     },
     "execution_count": 190,
     "metadata": {},
     "output_type": "execute_result"
    }
   ],
   "source": [
    "broad_clusters_categories.sort_values('Enriched Narratives', ascending=False)"
   ]
  },
  {
   "cell_type": "code",
   "execution_count": 175,
   "id": "a30565c8-5784-4ea2-b263-2eb9c71f541c",
   "metadata": {},
   "outputs": [],
   "source": [
    "training_data = (\n",
    "    broad_clusters_categories\n",
    "        .fillna(0)\n",
    "        .pipe(lambda df: (df > 0).astype(float))\n",
    "        .merge(full_query_df, right_on='url', left_index=True, how='left')\n",
    ")\n",
    "#.pipe(lambda df: df.divide(df.sum(axis=1), axis=0))#.sort_values('Contextual Narratives', ascending=False))"
   ]
  },
  {
   "cell_type": "markdown",
   "id": "1f17b38c-6359-4999-b1fc-6a5e7ed98d70",
   "metadata": {},
   "source": [
    "# Train BERT Classifier"
   ]
  },
  {
   "cell_type": "code",
   "execution_count": 182,
   "id": "bf59c7fb-963a-4e1c-99c6-abb569d9e87b",
   "metadata": {},
   "outputs": [],
   "source": [
    "training_data.to_csv('../narrative_function/bert_training_data.csv')"
   ]
  },
  {
   "cell_type": "code",
   "execution_count": null,
   "id": "a2fad51c-6441-4034-b315-cee61acfcee6",
   "metadata": {},
   "outputs": [],
   "source": []
  },
  {
   "cell_type": "code",
   "execution_count": null,
   "id": "86b0e506-e93e-47c1-b736-0c815198c092",
   "metadata": {},
   "outputs": [],
   "source": []
  },
  {
   "cell_type": "code",
   "execution_count": null,
   "id": "928ac541-6b32-489c-8f85-198d75c53d92",
   "metadata": {},
   "outputs": [],
   "source": []
  },
  {
   "cell_type": "code",
   "execution_count": null,
   "id": "a0b4c606-e067-4416-b79d-a1ca6264d926",
   "metadata": {},
   "outputs": [],
   "source": []
  },
  {
   "cell_type": "code",
   "execution_count": null,
   "id": "0d1a6c18-7c93-458e-bf6c-1c478e8bd95c",
   "metadata": {},
   "outputs": [],
   "source": []
  }
 ],
 "metadata": {
  "kernelspec": {
   "display_name": "Python 3 (ipykernel)",
   "language": "python",
   "name": "python3"
  },
  "language_info": {
   "codemirror_mode": {
    "name": "ipython",
    "version": 3
   },
   "file_extension": ".py",
   "mimetype": "text/x-python",
   "name": "python",
   "nbconvert_exporter": "python",
   "pygments_lexer": "ipython3",
   "version": "3.12.2"
  }
 },
 "nbformat": 4,
 "nbformat_minor": 5
}

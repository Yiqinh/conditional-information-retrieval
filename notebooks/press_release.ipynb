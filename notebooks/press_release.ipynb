{
 "cells": [
  {
   "cell_type": "code",
   "execution_count": 1,
   "metadata": {},
   "outputs": [
    {
     "name": "stderr",
     "output_type": "stream",
     "text": [
      "/Users/yiqinhuang/anaconda3/envs/nlp_env/lib/python3.11/site-packages/tqdm/auto.py:21: TqdmWarning: IProgress not found. Please update jupyter and ipywidgets. See https://ipywidgets.readthedocs.io/en/stable/user_install.html\n",
      "  from .autonotebook import tqdm as notebook_tqdm\n"
     ]
    }
   ],
   "source": [
    "import pandas as pd\n",
    "from datasets import load_from_disk\n"
   ]
  },
  {
   "cell_type": "code",
   "execution_count": 2,
   "metadata": {},
   "outputs": [],
   "source": [
    "import pandas as pd\n",
    "import numpy as np\n",
    "from tqdm.auto import tqdm\n",
    "data_dir = './data'\n",
    "# data_dir = '../../../bloomberg-research/press-releases/data/s_p_500_backlinks'\n",
    "source_df = pd.read_json(f'{data_dir}/full-source-scored-data.jsonl.gz', lines=True, compression='gzip', nrows=100)"
   ]
  },
  {
   "cell_type": "code",
   "execution_count": 3,
   "metadata": {},
   "outputs": [],
   "source": [
    "article_d = load_from_disk('./all-coref-resolved')"
   ]
  },
  {
   "cell_type": "code",
   "execution_count": 4,
   "metadata": {},
   "outputs": [
    {
     "name": "stderr",
     "output_type": "stream",
     "text": [
      "Filter (num_proc=10): 100%|██████████| 496380/496380 [01:44<00:00, 4738.76 examples/s]\n"
     ]
    }
   ],
   "source": [
    "candidate_df = pd.read_csv('data/news_articles_covering_the_same_press_releases.csv')\n",
    "pr_url_set = set(candidate_df['Target URL'].drop_duplicates().values)\n",
    "filtered_pr_d = article_d.filter(lambda x: x['article_url'] in pr_url_set, num_proc=10)\n",
    "filtered_pr_df = filtered_pr_d.to_pandas()"
   ]
  },
  {
   "cell_type": "code",
   "execution_count": 21,
   "metadata": {},
   "outputs": [
    {
     "name": "stdout",
     "output_type": "stream",
     "text": [
      "['The agreement in principle will resolve actual and potential civil claims by the U.S. Department of Justice, the New York and Illinois Attorneys General, the National Credit Union Administration (as conservator for several failed credit unions) and the Federal Home Loan Banks of Chicago and Seattle, relating to the firmas securitization, underwriting and sale of residential mortgage-backed securities from 2005 to 2007.'\n",
      " 'The agreement in principle will reduce earnings for the fourth quarter of 2015 by approximately $1.5 billion on an after-tax basis.'\n",
      " 'Under the terms of the agreement in principle, the firm will pay a $2.385 billion civil monetary penalty, make $875 million in cash payments and provide $1.8 billion in consumer relief.'\n",
      " 'The consumer relief will be in the form of principal forgiveness for underwater homeowners and distressed borrowers; financing for construction, rehabilitation and preservation of affordable housing; and support for debt restructuring, foreclosure prevention and housing quality improvement programs, as well as land banks.'\n",
      " 'Lloyd C. Blankfein, Chairman and Chief Executive Officer of The Goldman Sachs Group, Inc., stated, aWe are pleased to have reached an agreement in principle to resolve these matters.a The agreement in principle is subject to the negotiation of definitive documentation, and there can be no assurance that the firm, the U.S. Department of Justice and the other applicable governmental authorities will agree on the definitive documentation.'\n",
      " 'The Goldman Sachs Group, Inc. is a leading global investment banking, securities and investment management firm that provides a wide range of financial services to a substantial and diversified client base that includes corporations, financial institutions, governments and high-net-worth individuals.'\n",
      " 'Founded in 1869, the firm is headquartered in New York and maintains offices in all major financial centers around the world.'\n",
      " 'Forward-looking statements are not historical facts, but instead represent only the firmas beliefs regarding future events, certain of which, by their nature, are inherently uncertain and outside the firmas control.'\n",
      " 'The firm has included in this press release, and directors, officers and employees of the firm may provide, information about the agreement in principle to resolve the RMBS Working Group investigation and its impact on the firmas results of operations, financial condition and cash flows.'\n",
      " 'The statements with respect to the agreement in principle, including the reduction in earnings for the fourth quarter of 2015, are forward-looking statements, based on the firmas current expectations regarding the ultimate terms of the definitive settlement documentation.'\n",
      " 'Accordingly, the effects of the definitive settlement, as well as the firmas ability to negotiate definitive documentation for the settlement, may change, possibly materially, from what is currently expected.'\n",
      " 'For a discussion of some of the other risks and important factors that could affect the firmas results of operations, financial condition and cash flows, see aRisk Factorsa in Part I, Item 1A of the firmas Annual Report on Form 10-K for the year ended December 31, 2014. # # #']\n"
     ]
    }
   ],
   "source": [
    "print(filtered_pr_df.iloc[0]['sent_lists'])"
   ]
  },
  {
   "cell_type": "code",
   "execution_count": 26,
   "metadata": {},
   "outputs": [
    {
     "data": {
      "text/plain": [
       "\"MINNEAPOLIS, MN — General Mills today announced a voluntary national recall of two-, five- and 10-pound bags of its Gold Medal Unbleached and Bleached All Purpose Flour with a “better if used by” date of March 27, 2024, and March 28, 2024.The recall is being issued for the potential presence of Salmonella Infantis, which was discovered during sampling of the five-pound bag product.This recall affects two date codes of Gold Medal Unbleached All Purpose Flour in the five- and ten-pound bags and two date codes of Gold Medal Bleached All Purpose Flour in the two- and five-pound bags.All other types of Gold Medal Flour are not affected by this recall.Consumers are asked to check their pantries and dispose of the product affected by this recall.\\n Guidance from the Food and Drug Administration \\n(FDA) and the\\n Centers for Disease Control \\n(CDC) warn that consumers should refrain from consuming any raw products made with flour.Salmonella Infantis is killed by heat through baking, frying, sautéing or boiling products made with flour.All surfaces, hands and utensils should be properly cleaned after contact with flour or dough.\\n The CDC estimates \\nthere are 1.2 million cases annually in the U.S. Typically, symptoms start within six hours to six days after infection and last four to seven days.Any consumers concerned about an illness should contact a physician.About General Mills General Mills makes food the world loves.The company is guided by its Accelerate strategy to drive shareholder value by boldly building its brands, relentlessly innovating, unleashing its scale and standing for good.Its portfolio of beloved brands includes household names such as Cheerios, Nature Valley, Blue Buffalo, Haagen-Dazs, Old El Paso, Pillsbury, Betty Crocker, Yoplait, Annie's, Wanchai Ferry, Yoki and more.Headquartered in Minneapolis, Minnesota, USA, General Mills generated fiscal 2022 net sales of U.S. $19.0 billion.In addition, the company's share of non-consolidated joint venture net sales totaled U.S. $1.1 billion Share Category:\\n Food \\nTags:\\n Food \\nStay in the knowA Taste of General MillsSign up for our monthly newsletter to get the latest news &amp; stories from General Mills directly in your inbox!\""
      ]
     },
     "execution_count": 26,
     "metadata": {},
     "output_type": "execute_result"
    }
   ],
   "source": [
    "\"\".join(filtered_pr_df.iloc[1]['sent_lists'])"
   ]
  },
  {
   "cell_type": "code",
   "execution_count": null,
   "metadata": {},
   "outputs": [],
   "source": []
  },
  {
   "cell_type": "code",
   "execution_count": null,
   "metadata": {},
   "outputs": [],
   "source": []
  }
 ],
 "metadata": {
  "kernelspec": {
   "display_name": "nlp_env",
   "language": "python",
   "name": "python3"
  },
  "language_info": {
   "codemirror_mode": {
    "name": "ipython",
    "version": 3
   },
   "file_extension": ".py",
   "mimetype": "text/x-python",
   "name": "python",
   "nbconvert_exporter": "python",
   "pygments_lexer": "ipython3",
   "version": "3.11.9"
  }
 },
 "nbformat": 4,
 "nbformat_minor": 2
}

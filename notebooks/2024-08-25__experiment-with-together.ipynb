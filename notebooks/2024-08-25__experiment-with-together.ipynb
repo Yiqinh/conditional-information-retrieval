{
 "cells": [
  {
   "cell_type": "code",
   "execution_count": 1,
   "id": "f8e39ee7-d51c-454b-a80b-af507249a138",
   "metadata": {},
   "outputs": [
    {
     "data": {
      "text/plain": [
       "'/Users/spangher/Projects/berkeley-research/conditional-information-retrieval/notebooks'"
      ]
     },
     "execution_count": 1,
     "metadata": {},
     "output_type": "execute_result"
    }
   ],
   "source": [
    "pwd"
   ]
  },
  {
   "cell_type": "code",
   "execution_count": 2,
   "id": "774749d0-e676-457e-9274-ae0ad5d71324",
   "metadata": {},
   "outputs": [
    {
     "name": "stdout",
     "output_type": "stream",
     "text": [
      "README.md                \u001b[35mg++\u001b[m\u001b[m@                     requirements.txt\n",
      "\u001b[34mbaseline_queries\u001b[m\u001b[m/        \u001b[34mhelper_functions\u001b[m\u001b[m/        \u001b[34msource_retriever\u001b[m\u001b[m/\n",
      "\u001b[34mdata\u001b[m\u001b[m/                    \u001b[34mnotebooks\u001b[m\u001b[m/               \u001b[34msource_summaries\u001b[m\u001b[m/\n",
      "env.yaml                 \u001b[34mpress_release_summaries\u001b[m\u001b[m/ \u001b[34mvenv\u001b[m\u001b[m/\n"
     ]
    }
   ],
   "source": [
    "ls ../"
   ]
  },
  {
   "cell_type": "code",
   "execution_count": 3,
   "id": "72080e76-1985-4e08-b646-553bc7483ae3",
   "metadata": {},
   "outputs": [],
   "source": [
    "import re\n",
    "import ast\n",
    "import pyperclip\n",
    "import pprint\n",
    "import os\n",
    "from together import Together\n",
    "\n",
    "client = Together(api_key=open('/Users/spangher/.togetherai-usc-key.txt').read().strip())\n",
    "def query_together(prompt, client=client):\n",
    "    response = client.chat.completions.create(\n",
    "        model=\"meta-llama/Meta-Llama-3.1-70B-Instruct-Turbo\",\n",
    "        messages=[{\n",
    "                    \"role\": \"system\",\n",
    "                    \"content\": \"You are an experienced journalist.\"\n",
    "                },\n",
    "                {\n",
    "                    \"role\": \"user\",\n",
    "                    \"content\": prompt\n",
    "                }],\n",
    "        max_tokens=1048,\n",
    "        temperature=0.1,\n",
    "        top_p=0.7,\n",
    "        top_k=50,\n",
    "        repetition_penalty=1,\n",
    "        stop=[\"<|eot_id|>\",\"<|eom_id|>\"],\n",
    "    )\n",
    "    return response.choices[0].message.content"
   ]
  },
  {
   "cell_type": "code",
   "execution_count": 4,
   "id": "1c2fec74-7e28-492e-a29b-bb83f934bed1",
   "metadata": {},
   "outputs": [],
   "source": [
    "import pandas as pd \n",
    "from unidecode import unidecode\n",
    "\n",
    "df_summaries = pd.read_csv('../press_release_summaries/pr_summary.csv')\n",
    "df_article_mapper = pd.read_csv('../press_release_summaries/news_articles_covering_the_same_press_releases.csv', index_col=0)\n",
    "df_pr_full_text = pd.read_csv('../press_release_summaries/pr_full_text.csv', index_col=0)\n",
    "df_article_full_text = pd.read_csv('../press_release_summaries/articles_full_text.csv', index_col=0)"
   ]
  },
  {
   "cell_type": "code",
   "execution_count": 106,
   "id": "8b26e96e-59d3-4e39-bfb8-99b99980b3ce",
   "metadata": {},
   "outputs": [],
   "source": [
    "data_dir = '../../../bloomberg-research/press-releases/data/s_p_500_backlinks'\n",
    "source_df = pd.read_json(f'{data_dir}/full-source-scored-data.jsonl.gz', lines=True, compression='gzip')"
   ]
  },
  {
   "cell_type": "code",
   "execution_count": 115,
   "id": "34e8abae-c45c-4d51-858a-f38b6e03d113",
   "metadata": {},
   "outputs": [],
   "source": [
    "slim_source_df = source_df.loc[lambda df: df['article_url'].isin(df_article_mapper['URL'])]"
   ]
  },
  {
   "cell_type": "code",
   "execution_count": 119,
   "id": "fc8956de-db3d-4db4-a274-505d9baf23c3",
   "metadata": {},
   "outputs": [],
   "source": [
    "# slim_source_df['attributions'].apply(set).apply(list).explode()"
   ]
  },
  {
   "cell_type": "code",
   "execution_count": 120,
   "id": "b68fc113-8216-44d1-900e-301056c84516",
   "metadata": {},
   "outputs": [],
   "source": [
    "slim_source_df.to_json('../press_release_summaries/sources_in_articles.jsonl', lines=True, orient='records')"
   ]
  },
  {
   "cell_type": "code",
   "execution_count": 126,
   "id": "c5f33b12-6c1b-4008-ac2c-945264d8caac",
   "metadata": {},
   "outputs": [
    {
     "data": {
      "text/plain": [
       "4.166666666666667"
      ]
     },
     "execution_count": 126,
     "metadata": {},
     "output_type": "execute_result"
    }
   ],
   "source": [
    "((60_000 / 50 * 5) / 60) / 24"
   ]
  },
  {
   "cell_type": "code",
   "execution_count": 48,
   "id": "f2d88f8f-5ab5-4bae-89ac-20056dfd3bd1",
   "metadata": {},
   "outputs": [],
   "source": [
    "PRESS_RELEASE_SUMMARY_PROMPT = \"\"\"Here is press release:\n",
    "\n",
    "```{press_release_text}```\n",
    "\n",
    "Summarize the facts in this press release in 3-4 sentences. Return only the summary.\n",
    "\"\"\"\n",
    "\n",
    "ANGLE_IDENTIFICATION = \"\"\"Here is the summary of a press-release:\n",
    "\n",
    "```{pr_summary}```\n",
    "\n",
    "Here is a news article written based off of this press release. \n",
    "The news article is messy and a lot of the text is simply on the page at the time of the scrape and has nothing to do with the press release.\n",
    "Ignore all this junk text.\n",
    "\n",
    "```{article_text}```\n",
    "\n",
    "Describe the unique angle this news article takes on this press release. Contrast it with the original story shared in the press release. \n",
    "\n",
    "An angle could be:\n",
    "* A bigger picture story.\n",
    "* A story that mixes in a particular topic that wasn't focused on in the original story lead.\n",
    "* An analysis that tries to go behind the scenes.\n",
    "* Something else.\n",
    "\n",
    "Return only the summary.\n",
    "\"\"\"\n",
    "\n",
    "QUESTION_IDENTIFICATION = \"\"\"Here is a news article:\n",
    "\n",
    "```{news_article}```\n",
    "\n",
    "Identify the initial reason why the journalist started investigating this topic (i.e. the story lead) and the angle they started with.\n",
    "Don't include any information the journalist learned after investigating further. \n",
    "State your entire response from the viewpoint of the journalist in 1-2 sentences. Be specific and concise. Ask a question.\n",
    "\"\"\"\n",
    "# , using place names, people names and concepts that were part of your initial lead. "
   ]
  },
  {
   "cell_type": "markdown",
   "id": "b1cbcd5d-de46-4201-b308-fc9776bc6fc4",
   "metadata": {},
   "source": [
    "# Test Question Generation"
   ]
  },
  {
   "cell_type": "code",
   "execution_count": 49,
   "id": "c0791fa5-fddd-4718-adc8-825b98461be6",
   "metadata": {},
   "outputs": [],
   "source": [
    "prompt = QUESTION_IDENTIFICATION.format(news_article=df_article_full_text['article_text'].iloc[4])\n",
    "r = query_together(prompt)"
   ]
  },
  {
   "cell_type": "code",
   "execution_count": 50,
   "id": "8989bca9-ee8e-4d2c-9d79-63e5fe719e30",
   "metadata": {},
   "outputs": [
    {
     "data": {
      "text/plain": [
       "\"I started investigating this story because I noticed that despite the ongoing pandemic and economic challenges, the US stock market was set to wrap up 2021 with a third straight year of growth, with major indexes posting double-digit gains. What's behind this puzzling strength in the markets, and how are investors looking past the uncertainty and risks posed by the pandemic?\""
      ]
     },
     "execution_count": 50,
     "metadata": {},
     "output_type": "execute_result"
    }
   ],
   "source": [
    "r"
   ]
  },
  {
   "cell_type": "code",
   "execution_count": 40,
   "id": "a04b4cd2-ac19-4b81-a9c7-ddfb75ffc82b",
   "metadata": {},
   "outputs": [
    {
     "data": {
      "text/plain": [
       "'I started investigating this story after learning that the California Department of Financial Protection and Innovation announced the official closure of First Republic Bank on Monday, making it the third commercial bank to fail in recent months. My initial angle was to explore the implications of this bank failure on the local community, particularly in Newport Beach where First Republic Bank had a branch. What does this closure mean for the customers and employees of the Newport Beach branch, and how will it affect the local economy?'"
      ]
     },
     "execution_count": 40,
     "metadata": {},
     "output_type": "execute_result"
    }
   ],
   "source": [
    "r"
   ]
  },
  {
   "cell_type": "code",
   "execution_count": 25,
   "id": "3b6a99a6-48a5-4f36-abb3-9dc050833a0d",
   "metadata": {},
   "outputs": [
    {
     "data": {
      "text/plain": [
       "\"What sparked my investigation was the sudden closure of First Republic Bank, a major commercial bank, and I wondered what this meant for its customers and the local community, particularly in Newport Beach where I cover news. I decided to take an angle of how this closure would impact the bank's existing customers and branches, and what the takeover by JPMorgan Chase Bank would entail. Would the bank's failure have a ripple effect on the local economy and how would customers be affected?\""
      ]
     },
     "execution_count": 25,
     "metadata": {},
     "output_type": "execute_result"
    }
   ],
   "source": [
    "r"
   ]
  },
  {
   "cell_type": "code",
   "execution_count": null,
   "id": "998d8cc3-a36f-46a4-86ee-5c624ddc7c11",
   "metadata": {},
   "outputs": [],
   "source": []
  },
  {
   "cell_type": "code",
   "execution_count": null,
   "id": "82c79e62-5de9-4db2-b977-e7f31540886c",
   "metadata": {},
   "outputs": [],
   "source": []
  },
  {
   "cell_type": "markdown",
   "id": "03bcb47a-3b6f-4616-b90e-bd86365a4a00",
   "metadata": {},
   "source": [
    "# Test Angle Identification"
   ]
  },
  {
   "cell_type": "code",
   "execution_count": 6,
   "id": "65a0c3c5-0f58-4d4e-9470-22b4d2804020",
   "metadata": {},
   "outputs": [],
   "source": [
    "from tqdm.auto import tqdm"
   ]
  },
  {
   "cell_type": "code",
   "execution_count": null,
   "id": "899b7402-dcd6-4ed5-ab15-457104cb57d0",
   "metadata": {
    "scrolled": true
   },
   "outputs": [],
   "source": [
    "num_prs = 10\n",
    "\n",
    "# all_news_angles = []\n",
    "for _, (pr_url, press_release_text) in tqdm(df_pr_full_text.sample(num_prs).iterrows(), total=num_prs):\n",
    "    prompt = PRESS_RELEASE_SUMMARY_PROMPT.format(press_release_text=press_release_text)\n",
    "    pr_summary = query_together(prompt)\n",
    "    article_urls_covering_pr = (\n",
    "        df_article_mapper\n",
    "             .loc[lambda df: df['Target URL'] == pr_url][['URL', 'Target URL']]\n",
    "            ['URL'].tolist()\n",
    "    )\n",
    "    articles_covering_pr = df_article_full_text.loc[lambda df: df['article_url'].isin(article_urls_covering_pr)]\n",
    "    for _, (article_url, article_text) in tqdm(articles_covering_pr.iterrows(), total=len(articles_covering_pr)):\n",
    "        prompt = ANGLE_IDENTIFICATION.format(pr_summary=pr_summary, article_text=article_text)\n",
    "        news_angle = query_together(prompt)\n",
    "        all_news_angles.append({\n",
    "            'pr_url': pr_url,\n",
    "            'pr_summary': pr_summary,\n",
    "            'news_url': article_url,\n",
    "            'news_angle': news_angle\n",
    "        })"
   ]
  },
  {
   "cell_type": "code",
   "execution_count": 174,
   "id": "664fec01-89d3-4376-a18d-8ee36e50e3ed",
   "metadata": {
    "scrolled": true
   },
   "outputs": [
    {
     "data": {
      "text/html": [
       "<div>\n",
       "<style scoped>\n",
       "    .dataframe tbody tr th:only-of-type {\n",
       "        vertical-align: middle;\n",
       "    }\n",
       "\n",
       "    .dataframe tbody tr th {\n",
       "        vertical-align: top;\n",
       "    }\n",
       "\n",
       "    .dataframe thead th {\n",
       "        text-align: right;\n",
       "    }\n",
       "</style>\n",
       "<table border=\"1\" class=\"dataframe\">\n",
       "  <thead>\n",
       "    <tr style=\"text-align: right;\">\n",
       "      <th></th>\n",
       "      <th>pr_url</th>\n",
       "      <th>pr_summary</th>\n",
       "      <th>news_url</th>\n",
       "      <th>news_angle</th>\n",
       "    </tr>\n",
       "  </thead>\n",
       "  <tbody>\n",
       "    <tr>\n",
       "      <th>0</th>\n",
       "      <td>www.sempra.com/socalgas-seeks-offer-renewable-...</td>\n",
       "      <td>SoCalGas has proposed a program to offer custo...</td>\n",
       "      <td>www.vox.com/energy-and-environment/2020/2/14/2...</td>\n",
       "      <td>The unique angle this news article takes on th...</td>\n",
       "    </tr>\n",
       "    <tr>\n",
       "      <th>1</th>\n",
       "      <td>www.sempra.com/socalgas-seeks-offer-renewable-...</td>\n",
       "      <td>SoCalGas has proposed a program to offer custo...</td>\n",
       "      <td>www.theguardian.com/us-news/2019/jul/26/us-nat...</td>\n",
       "      <td>The unique angle of this news article is an in...</td>\n",
       "    </tr>\n",
       "    <tr>\n",
       "      <th>2</th>\n",
       "      <td>www.sempra.com/socalgas-seeks-offer-renewable-...</td>\n",
       "      <td>SoCalGas has proposed a program to offer custo...</td>\n",
       "      <td>www.theguardian.com/us-news/2019/jul/26/us-nat...</td>\n",
       "      <td>The unique angle of this news article is an in...</td>\n",
       "    </tr>\n",
       "    <tr>\n",
       "      <th>3</th>\n",
       "      <td>www.micron.com/about/about-the-convey-computer...</td>\n",
       "      <td>Micron Technology, Inc. has acquired Convey Co...</td>\n",
       "      <td>www.prweb.com/releases/convey/memcached/prweb1...</td>\n",
       "      <td>This news article does not take a unique angle...</td>\n",
       "    </tr>\n",
       "    <tr>\n",
       "      <th>4</th>\n",
       "      <td>www.micron.com/about/about-the-convey-computer...</td>\n",
       "      <td>Micron Technology, Inc. has acquired Convey Co...</td>\n",
       "      <td>www.prweb.com/releases/convey_computer/first_c...</td>\n",
       "      <td>This news article takes a unique angle by focu...</td>\n",
       "    </tr>\n",
       "    <tr>\n",
       "      <th>...</th>\n",
       "      <td>...</td>\n",
       "      <td>...</td>\n",
       "      <td>...</td>\n",
       "      <td>...</td>\n",
       "    </tr>\n",
       "    <tr>\n",
       "      <th>151</th>\n",
       "      <td>blog.google/products/news/new-google-news-ai-m...</td>\n",
       "      <td>Google has launched an all-new Google News, a ...</td>\n",
       "      <td>www.bbc.co.uk/news/technology-44045424</td>\n",
       "      <td>The unique angle of this news article is that ...</td>\n",
       "    </tr>\n",
       "    <tr>\n",
       "      <th>152</th>\n",
       "      <td>news.bms.com/news/details/2023/Basketball-Lege...</td>\n",
       "      <td>Basketball legend Kareem Abdul-Jabbar has part...</td>\n",
       "      <td>www.blackenterprise.com/kareem-abdul-jabbar-pa...</td>\n",
       "      <td>The unique angle of this news article is a per...</td>\n",
       "    </tr>\n",
       "    <tr>\n",
       "      <th>153</th>\n",
       "      <td>news.bms.com/news/details/2023/Basketball-Lege...</td>\n",
       "      <td>Basketball legend Kareem Abdul-Jabbar has part...</td>\n",
       "      <td>dailycaller.com/2023/02/17/kareem-abdul-jabbar...</td>\n",
       "      <td>The unique angle of this news article is a per...</td>\n",
       "    </tr>\n",
       "    <tr>\n",
       "      <th>154</th>\n",
       "      <td>www.ge.com/research/newsroom/ge-research-and-c...</td>\n",
       "      <td>GE Research has been awarded a project by DARP...</td>\n",
       "      <td>fortune.com/2021/04/16/mrna-vaccines-covid-mod...</td>\n",
       "      <td>Unfortunately, there is no unique angle in thi...</td>\n",
       "    </tr>\n",
       "    <tr>\n",
       "      <th>155</th>\n",
       "      <td>www.ge.com/research/newsroom/ge-research-and-c...</td>\n",
       "      <td>GE Research has been awarded a project by DARP...</td>\n",
       "      <td>www.axios.com/2021/03/02/pentagon-mrna-vaccine...</td>\n",
       "      <td>The unique angle of this news article is that ...</td>\n",
       "    </tr>\n",
       "  </tbody>\n",
       "</table>\n",
       "<p>156 rows × 4 columns</p>\n",
       "</div>"
      ],
      "text/plain": [
       "                                                pr_url  \\\n",
       "0    www.sempra.com/socalgas-seeks-offer-renewable-...   \n",
       "1    www.sempra.com/socalgas-seeks-offer-renewable-...   \n",
       "2    www.sempra.com/socalgas-seeks-offer-renewable-...   \n",
       "3    www.micron.com/about/about-the-convey-computer...   \n",
       "4    www.micron.com/about/about-the-convey-computer...   \n",
       "..                                                 ...   \n",
       "151  blog.google/products/news/new-google-news-ai-m...   \n",
       "152  news.bms.com/news/details/2023/Basketball-Lege...   \n",
       "153  news.bms.com/news/details/2023/Basketball-Lege...   \n",
       "154  www.ge.com/research/newsroom/ge-research-and-c...   \n",
       "155  www.ge.com/research/newsroom/ge-research-and-c...   \n",
       "\n",
       "                                            pr_summary  \\\n",
       "0    SoCalGas has proposed a program to offer custo...   \n",
       "1    SoCalGas has proposed a program to offer custo...   \n",
       "2    SoCalGas has proposed a program to offer custo...   \n",
       "3    Micron Technology, Inc. has acquired Convey Co...   \n",
       "4    Micron Technology, Inc. has acquired Convey Co...   \n",
       "..                                                 ...   \n",
       "151  Google has launched an all-new Google News, a ...   \n",
       "152  Basketball legend Kareem Abdul-Jabbar has part...   \n",
       "153  Basketball legend Kareem Abdul-Jabbar has part...   \n",
       "154  GE Research has been awarded a project by DARP...   \n",
       "155  GE Research has been awarded a project by DARP...   \n",
       "\n",
       "                                              news_url  \\\n",
       "0    www.vox.com/energy-and-environment/2020/2/14/2...   \n",
       "1    www.theguardian.com/us-news/2019/jul/26/us-nat...   \n",
       "2    www.theguardian.com/us-news/2019/jul/26/us-nat...   \n",
       "3    www.prweb.com/releases/convey/memcached/prweb1...   \n",
       "4    www.prweb.com/releases/convey_computer/first_c...   \n",
       "..                                                 ...   \n",
       "151             www.bbc.co.uk/news/technology-44045424   \n",
       "152  www.blackenterprise.com/kareem-abdul-jabbar-pa...   \n",
       "153  dailycaller.com/2023/02/17/kareem-abdul-jabbar...   \n",
       "154  fortune.com/2021/04/16/mrna-vaccines-covid-mod...   \n",
       "155  www.axios.com/2021/03/02/pentagon-mrna-vaccine...   \n",
       "\n",
       "                                            news_angle  \n",
       "0    The unique angle this news article takes on th...  \n",
       "1    The unique angle of this news article is an in...  \n",
       "2    The unique angle of this news article is an in...  \n",
       "3    This news article does not take a unique angle...  \n",
       "4    This news article takes a unique angle by focu...  \n",
       "..                                                 ...  \n",
       "151  The unique angle of this news article is that ...  \n",
       "152  The unique angle of this news article is a per...  \n",
       "153  The unique angle of this news article is a per...  \n",
       "154  Unfortunately, there is no unique angle in thi...  \n",
       "155  The unique angle of this news article is that ...  \n",
       "\n",
       "[156 rows x 4 columns]"
      ]
     },
     "execution_count": 174,
     "metadata": {},
     "output_type": "execute_result"
    }
   ],
   "source": [
    "pd.DataFrame(all_news_angles)"
   ]
  },
  {
   "cell_type": "markdown",
   "id": "982a49a0-32f8-4320-a714-f826773eec3c",
   "metadata": {},
   "source": [
    "# Test Angle summarization in keywords"
   ]
  },
  {
   "cell_type": "code",
   "execution_count": 175,
   "id": "3781a1f8-e0bd-4218-a51d-32424d7e2ff1",
   "metadata": {},
   "outputs": [],
   "source": [
    "ANGLE_SUMMARY_PROMPT = \"\"\"\n",
    "You will receive a sentence summarizing the angle a news story took. Your task is to identify a generalizable label that can characterize the angle.\n",
    "The label must be as generalizable as possible and should not be topic-specific.\n",
    "\n",
    "{definitions}\n",
    "\n",
    "[Examples]\n",
    "Example 1:\n",
    "\n",
    "Angle: \"The unique angle of this news article is that it uses the Goldman Sachs settlement as a segue to discuss the upcoming earnings reports of three big banks (Goldman Sachs, Morgan Stanley, and Bank of New York Mellon) and how they will be affected by the current market turmoil, rather than focusing solely on the settlement itself. The article provides a bigger picture story, analyzing the potential impact of the settlement on Goldman Sachs' earnings and comparing it to the performance of other banks in the industry. This angle is distinct from the original press release, which simply announced the settlement and its terms.\"\n",
    "Your response: \n",
    "\"Big Picture\": This angle zooms out and looks at the news event in a broader context, by viewing several banks at the same time. It aims to describe a larger phenomenon.\n",
    "\n",
    "Example 2:\n",
    "Angle: \"This news article takes a unique angle by using the Goldman Sachs settlement as a springboard to explore the broader theme of the \"establishment\" and its perceived corruption, cronyism, and influence peddling in Washington and on Wall Street. The article weaves together various narratives, including the 2016 presidential election, the revolving door between government and finance, and the perceived disconnect between the powerful elite and ordinary Americans. This angle contrasts with the original press release, which simply reported on the settlement agreement between Goldman Sachs and the government. The article\\'s focus on the larger cultural and societal implications of the settlement adds depth and context to the story, making it a more nuanced and thought-provoking piece.\"\n",
    "Your response:\n",
    "\"Political Intersectionality\": This angle explores the news event in the context of political backdrop, what it symbolizes about a larger politcal culture.\n",
    "\n",
    "Example 3:\n",
    "Angle: \"The unique angle of this news article is that it provides a more in-depth analysis of the settlement and its implications, rather than just reporting the facts of the agreement. The article also provides context about the background of the case, mentioning the financial crisis and the collapse of the US housing market, and highlights the impact of the settlement on Goldman Sachs' earnings. Additionally, the article mentions the decline in Goldman Sachs' profit in the third quarter of 2015, which is not mentioned in the original press release. Overall, the article takes a more narrative approach, trying to tell a story around the settlement rather than just reporting the facts.\"\n",
    "Your response:\n",
    "\"Deeper Context\": This angle provides a deeper historical background.\n",
    "\n",
    "\n",
    "[Instructions]\n",
    "Again, determine a generalizable label for the angle.\n",
    "\n",
    "Each label must reflect a SINGLE feature instead of a combination of features.\n",
    "If you add a new label, add a SHORT GENERAL LABEL and a DESCRIPTION OF THAT LABEL.\n",
    "If the sentence is an error, return \"Error\". \n",
    "Return in the same format as the examples: \"LABEL\": DESCRIPTION. Please feel free to add a new label if it helps describe an angle.\n",
    "\n",
    "\n",
    "Now it's your turn. Here's an angle:\n",
    "\n",
    "[Angle]\n",
    "```{angle}```\n",
    "\n",
    "Your response:\n",
    "\"\"\""
   ]
  },
  {
   "cell_type": "code",
   "execution_count": 179,
   "id": "53ca2784-df11-422f-9c78-941219598afb",
   "metadata": {},
   "outputs": [],
   "source": [
    "all_angle_summaries = []"
   ]
  },
  {
   "cell_type": "code",
   "execution_count": 180,
   "id": "0d2aeddf-a85a-4e8f-9c3c-ca5b9ff94956",
   "metadata": {},
   "outputs": [
    {
     "data": {
      "application/vnd.jupyter.widget-view+json": {
       "model_id": "6ee276c33a884ae6b01fde0b1a1d69a9",
       "version_major": 2,
       "version_minor": 0
      },
      "text/plain": [
       "  0%|          | 0/156 [00:00<?, ?it/s]"
      ]
     },
     "metadata": {},
     "output_type": "display_data"
    }
   ],
   "source": [
    "for a in tqdm(all_news_angles):\n",
    "    prompt = ANGLE_SUMMARY_PROMPT.format(angle=a['news_angle'], definitions=\"\")\n",
    "    r = query_together(prompt)\n",
    "    all_angle_summaries.append(r)"
   ]
  },
  {
   "cell_type": "code",
   "execution_count": 182,
   "id": "e4162372-0aa0-4a28-82ad-6c85b1f3bdbf",
   "metadata": {},
   "outputs": [],
   "source": [
    "all_news_angles_df = pd.DataFrame(all_news_angles)"
   ]
  },
  {
   "cell_type": "code",
   "execution_count": 184,
   "id": "7c6f10cb-9b44-46fb-93dc-da322671cae9",
   "metadata": {},
   "outputs": [],
   "source": [
    "all_news_angles_df['angle_keyword_summaries'] = all_angle_summaries"
   ]
  },
  {
   "cell_type": "code",
   "execution_count": 187,
   "id": "1f8ea366-2a7e-4b7b-8a3f-158e2223d783",
   "metadata": {},
   "outputs": [],
   "source": [
    "all_news_angles_df.to_csv('cache/2024-08-27__angle-summaries.csv')"
   ]
  },
  {
   "cell_type": "code",
   "execution_count": 202,
   "id": "d79d38dc-4e06-4272-8141-43a383132d0d",
   "metadata": {},
   "outputs": [],
   "source": [
    "all_news_angles_df['angle_keywords'] = (all_news_angles_df['angle_keyword_summaries']\n",
    "     .str.split(':')\n",
    "     .str.get(0)\n",
    "     .str.strip()\n",
    "                                        \n",
    ")"
   ]
  },
  {
   "cell_type": "code",
   "execution_count": 210,
   "id": "9b218e70-4f29-4f72-a1c3-9b3c8f955dea",
   "metadata": {},
   "outputs": [],
   "source": [
    "keywords = all_news_angles_df['angle_keywords'].value_counts()"
   ]
  },
  {
   "cell_type": "code",
   "execution_count": 222,
   "id": "121e19da-ef12-4e27-b260-83084864b956",
   "metadata": {},
   "outputs": [
    {
     "data": {
      "text/plain": [
       "{'news_angle': 'The unique angle of this news article is that it frames the Netflix-Nickelodeon partnership as a competitive move against Disney Plus, which had just launched and announced 10 million subscribers on its first day. This angle adds a bigger picture story to the original press release, which simply announced the partnership and its goals to produce original animated content. The article uses the partnership as a way to discuss the broader streaming wars and the competition for subscribers, whereas the original press release focused solely on the partnership and its creative goals.',\n",
       " 'angle_keyword_summaries': '\"Competitive Framing\": This angle views the news event in the context of competition, positioning it as a strategic move in a larger rivalry.',\n",
       " 'angle_keywords': '\"Competitive Framing\"'}"
      ]
     },
     "execution_count": 222,
     "metadata": {},
     "output_type": "execute_result"
    }
   ],
   "source": [
    "(all_news_angles_df\n",
    "     .loc[lambda df: df['angle_keywords'] == keywords.index[1]]\n",
    "     [['news_angle', 'angle_keyword_summaries', 'angle_keywords']]\n",
    "     .iloc[3]\n",
    "     .to_dict()\n",
    ")"
   ]
  },
  {
   "cell_type": "code",
   "execution_count": 224,
   "id": "4cd36d52-32d1-42b2-8895-d9a56c10dd8d",
   "metadata": {},
   "outputs": [
    {
     "data": {
      "text/plain": [
       "0        \"Skeptical Scrutiny\"\n",
       "1         \"Behind the Facade\"\n",
       "2         \"Critical Scrutiny\"\n",
       "3              \"Non Sequitur\"\n",
       "4            \"Technical Dive\"\n",
       "                ...          \n",
       "140    \"Comparative Analysis\"\n",
       "143           \"Brief Mention\"\n",
       "146             \"Proxy Issue\"\n",
       "148             \"Local Focus\"\n",
       "154                    \"None\"\n",
       "Name: angle_keywords, Length: 69, dtype: object"
      ]
     },
     "execution_count": 224,
     "metadata": {},
     "output_type": "execute_result"
    }
   ],
   "source": [
    "all_news_angles_df['angle_keywords'].drop_duplicates()"
   ]
  },
  {
   "cell_type": "code",
   "execution_count": 228,
   "id": "c0bcab2e-5b4b-40f7-9696-f6990f0fdea5",
   "metadata": {},
   "outputs": [],
   "source": [
    "pd.options.display.max_colwidth = 200"
   ]
  },
  {
   "cell_type": "code",
   "execution_count": 236,
   "id": "d4a03994-5618-4cfd-9141-3c435ab31c0e",
   "metadata": {},
   "outputs": [
    {
     "data": {
      "text/plain": [
       "['\"Insider Perspective\": This angle adds depth to the story by incorporating quotes and insights from key individuals involved, providing a more personal and nuanced understanding of the event.',\n",
       " '\"Competitive Framing\": This angle views the news event as a strategic move within a competitive landscape, highlighting the relationships and rivalries between key players.',\n",
       " '\"Competitive Context\": This angle frames the news event in the context of competition, highlighting how it relates to and affects other players in the same field.',\n",
       " '\"Competitive Framing\": This angle views the news event in the context of competition, positioning it as a strategic move in a larger rivalry.',\n",
       " '\"Speculative Extension\": This angle takes a piece of information and uses it as a starting point to explore a hypothetical or potential development, rather than focusing on the facts of the original story.',\n",
       " '\"Competitive Context\": This angle frames the news event in the context of competition, highlighting how it relates to and affects other players in the same market or industry.',\n",
       " '\"Competitive Framing\": This angle views the news event in the context of a competitive landscape, highlighting how it relates to and impacts other players in the same field.',\n",
       " '\"Competitive Framing\": This angle views the news event in the context of a competitive landscape, highlighting how it relates to and impacts other players in the same market.',\n",
       " '\"Competitive Framing\": This angle views the news event as a move within a competitive landscape, highlighting the strategic implications and positioning of the event in relation to other players in the market.',\n",
       " '\"Competitive Framing\": This angle views the news event in the context of a competitive landscape, highlighting the relationships and rivalries between key players in the industry.',\n",
       " '\"Competitive Landscape\": This angle views the news event in the context of the competitive environment, highlighting how it affects the relationships and dynamics between key players in the industry.',\n",
       " '\"Competitive Framing\": This angle views the news event in the context of a competitive landscape, highlighting how it relates to and affects other players in the same market or industry.',\n",
       " '\"Competitive Context\": This angle frames the news event in the context of competition, highlighting how it relates to and responds to the actions of others in the same field.',\n",
       " '\"Competitive Framing\": This angle views the news event as a move within a competitive landscape, positioning it as a response to or challenge against other players in the same field.',\n",
       " '\"Competitive Framing\": This angle views the news event as a move in a larger competitive landscape, highlighting the strategic implications and rivalries involved.',\n",
       " '\"Competitive Framing\": This angle views the news event as a move within a competitive landscape, highlighting the strategic implications and the relationships between players in the industry.',\n",
       " '\"Competitive Framing\": This angle views the news event in the context of a competitive landscape, analyzing the strategic implications of the event on the players involved.',\n",
       " '\"Competitive Framing\": This angle views the news event as a strategic move in a larger competitive landscape, highlighting the relationships and rivalries between key players.',\n",
       " '\"Competitive Context\": This angle frames the news event in the context of competition and rivalry, highlighting how it relates to other players in the same field.',\n",
       " '\"Insider Perspective\": This angle adds depth to the story by incorporating quotes and insights from key individuals directly involved in the news event, providing a more personal and nuanced understanding of the situation.',\n",
       " '\"Deeper Context\": This angle provides a deeper understanding of the news event by adding additional information, quotes, and analysis to explain the implications and significance of the event.',\n",
       " '\"Competitive Framing\": This angle views the news event as a move within a competitive landscape, positioning it as a response or challenge to another entity.']"
      ]
     },
     "execution_count": 236,
     "metadata": {},
     "output_type": "execute_result"
    }
   ],
   "source": [
    "all_news_angles_df.groupby('pr_url')['angle_keyword_summaries'].aggregate(list).apply(lambda x: list(set(x))).iloc[0]"
   ]
  },
  {
   "cell_type": "code",
   "execution_count": 241,
   "id": "62b0a395-05fb-4934-8d18-028f9528bae6",
   "metadata": {},
   "outputs": [],
   "source": [
    "from transformers import AutoTokenizer"
   ]
  },
  {
   "cell_type": "code",
   "execution_count": 243,
   "id": "a2369c6c-dc34-4123-8a22-f301bd949121",
   "metadata": {},
   "outputs": [],
   "source": [
    "tok = AutoTokenizer.from_pretrained('gpt2')"
   ]
  },
  {
   "cell_type": "code",
   "execution_count": 249,
   "id": "1bc5f368-badb-40d2-aeb9-29f7020d7ac4",
   "metadata": {},
   "outputs": [],
   "source": [
    "categories = (\n",
    "    all_news_angles_df\n",
    "        [['angle_keyword_summaries', 'angle_keywords']]\n",
    "        .drop_duplicates('angle_keywords')\n",
    "        ['angle_keyword_summaries']\n",
    "        .pipe(lambda s: '\\n\\n'.join(s))\n",
    "         # .groupby('pr_url')['angle_keywords']\n",
    "         # .aggregate(list).apply(lambda x: list(set(x)))\n",
    ")"
   ]
  },
  {
   "cell_type": "code",
   "execution_count": 257,
   "id": "9cfae3b0-92f3-4722-83fd-6416f109981d",
   "metadata": {},
   "outputs": [],
   "source": [
    "prompt = f\"\"\"\n",
    "Group these keywords together into related clusters:\n",
    "\n",
    "```{categories}```\n",
    "\n",
    "Make sure each keyword is in one cluster.\n",
    "Return as a python dictionary with the following fields: \"cluster label\", \"keywords\", \"explanation\". \n",
    "Don't return everything else.\n",
    "\"\"\""
   ]
  },
  {
   "cell_type": "code",
   "execution_count": 258,
   "id": "d9da798d-d5c1-48a7-951b-fbe033bc9aea",
   "metadata": {},
   "outputs": [],
   "source": [
    "r = query_together(prompt)"
   ]
  },
  {
   "cell_type": "code",
   "execution_count": 260,
   "id": "f096432d-97ae-4dbd-98a4-0c02032286f1",
   "metadata": {},
   "outputs": [
    {
     "name": "stdout",
     "output_type": "stream",
     "text": [
      "\"Skeptical Scrutiny\": This angle subjects a concept or claim to critical examination, questioning its validity or effectiveness, and often presenting an opposing view.\n",
      "\n",
      "\"Behind the Facade\": This angle looks beyond the surface-level information presented in the original press release and digs deeper to reveal potential hidden motives, conflicts of interest, or contradictions, often with a critical perspective.\n",
      "\n",
      "\"Critical Scrutiny\": This angle subjects the news event to a critical examination, questioning the motivations and actions of the parties involved, and presenting a more skeptical perspective.\n",
      "\n",
      "\"Non Sequitur\": This angle is unrelated to the original news event, and instead focuses on a completely different topic.\n",
      "\n",
      "\"Technical Dive\": This angle focuses on the technical details and capabilities of a product or technology, exploring its applications and potential impact, rather than just reporting on the surface-level news event.\n",
      "\n",
      "\"Human Interest\": This angle focuses on a specific, relatable example or anecdote to illustrate the significance or potential of a news event, rather than just reporting the facts.\n",
      "\n",
      "\"Specific Application\": This angle focuses on a particular use case or example of a technology or event, rather than discussing it in general terms.\n",
      "\n",
      "\"Unrelated\": This angle is characterized by a complete lack of connection to the original news event, instead focusing on a separate and distinct topic.\n",
      "\n",
      "\"Beyond the Headline\": This angle looks past the immediate news event (in this case, the acquisition) and focuses on the underlying technology, product, or innovation that makes the event significant.\n",
      "\n",
      "\"Broader Trend\": This angle identifies a larger pattern or movement that the news event is a part of, and uses the event as an example or illustration of that trend.\n",
      "\n",
      "\"Case Study\": This angle focuses on a specific, detailed example to illustrate the capabilities and benefits of a product, technology, or company, rather than providing a general overview.\n",
      "\n",
      "\"Non-Sequitur\": This angle is unrelated to the original news event, instead focusing on a completely different topic.\n",
      "\n",
      "\"Human Impact\": This angle focuses on the practical application and real-world impact of a development on a specific individual, group, or organization, rather than just reporting on the development itself.\n",
      "\n",
      "\"Broader Context\": This angle places the news event within a larger external framework, revealing its connections to and implications for a wider situation or issue.\n",
      "\n",
      "\"Big Picture\": This angle zooms out and looks at the news event in a broader context, by viewing several entities at the same time. It aims to describe a larger phenomenon.\n",
      "\n",
      "\"Geopolitical Framing\": This angle views the news event through the lens of international relations and global politics, highlighting the broader implications and context of the event.\n",
      "\n",
      "\"Error\": This response indicates that the input is not a valid news article angle, but rather an error message or an unrelated text.\n",
      "\n",
      "\"Unrelated Tangent\": This angle abandons the original news event and instead explores a completely unrelated topic, often using the original event as a mere starting point or inspiration.\n",
      "\n",
      "\"Broader Implications\": This angle explores the news event as a specific instance of a larger issue or problem, using it to shed light on a more general phenomenon.\n",
      "\n",
      "\"Insider Perspective\": This angle adds depth to the story by incorporating quotes and insights from key individuals directly involved in the news event, providing a more personal and nuanced understanding of the situation.\n",
      "\n",
      "\"Competitive Framing\": This angle views the news event in the context of a competitive landscape, analyzing the strategic implications of the event on the players involved.\n",
      "\n",
      "\"Deeper Context\": This angle provides a deeper understanding of the news event by adding additional information, quotes, and analysis to explain the implications and significance of the event.\n",
      "\n",
      "\"Competitive Context\": This angle frames the news event in the context of competition, highlighting how it relates to and responds to the actions of others in the same field.\n",
      "\n",
      "\"Speculative Extension\": This angle takes a piece of information and uses it as a starting point to explore a hypothetical or potential development, rather than focusing on the facts of the original story.\n",
      "\n",
      "\"Competitive Landscape\": This angle views the news event in the context of the competitive environment, highlighting how it affects the relationships and dynamics between key players in the industry.\n",
      "\n",
      "\"Symbolic Interpretation\": This angle views the news event as a symbol or representation of a larger idea, trend, or phenomenon, rather than just reporting on the event itself.\n",
      "\n",
      "\"Granular Analysis\": This angle provides a more detailed and in-depth examination of the news event, focusing on specific aspects such as financial implications, operational details, and potential consequences.\n",
      "\n",
      "\"Social Lens\": This angle views the news event through the perspective of a specific group or community, highlighting their concerns, values, and reactions.\n",
      "\n",
      "\"Behind the Official Line\": This angle looks beyond the official explanation or statement and provides an alternative interpretation or underlying reason for an event or decision.\n",
      "\n",
      "\"Local Perspective\": This angle incorporates the views and reactions of people directly affected by or closely related to the news event, adding a grassroots or community-level viewpoint to the story.\n",
      "\n",
      "\"Public Pulse\": This angle incorporates the reactions and opinions of the general public, adding a layer of social context to the story.\n",
      "\n",
      "\"Behind the Scenes\": This angle looks beyond the official explanation and provides an alternative interpretation of the event, suggesting that there may be more to the story than what is being publicly stated.\n",
      "\n",
      "\"Critical Perspective\": This angle presents a more skeptical view of the news event, highlighting potential problems, risks, or controversies that may not be immediately apparent.\n",
      "\n",
      "\"Non-sequitur\": This angle appears to be unrelated or only tangentially related to the original news event, instead focusing on a different but similar topic.\n",
      "\n",
      "\"Reaction Focus\": This angle emphasizes the reactions and responses to the news event, rather than the event itself, to provide a more nuanced understanding of the situation.\n",
      "\n",
      "\"Bait and Switch\": This angle uses a secondary or related story as a hook to draw attention to a different, often more newsworthy or attention-grabbing, story.\n",
      "\n",
      "\"Conflict Focus\": This angle emphasizes the conflict or controversy surrounding the news event, highlighting the opposing views and reactions of different parties involved.\n",
      "\n",
      "\"Intersection with Social Issue\": This angle explores the news event in the context of a broader social issue or controversy, highlighting the intersection of the event with a larger societal debate.\n",
      "\n",
      "\"Consequential Framing\": This angle frames a news event in the context of its broader consequences, highlighting the potential effects and repercussions of the event on various stakeholders.\n",
      "\n",
      "\"Reframing\": This angle changes the primary focus of the story from its original purpose to a different aspect, often one that is more sensational or attention-grabbing.\n",
      "\n",
      "\"Beyond the Surface\": This angle looks past the immediate event or announcement and explores the underlying motivations, implications, and potential consequences, providing a more nuanced understanding of the situation.\n",
      "\n",
      "\"Conflict Frame\": This angle frames the news event as a conflict or a battle between two or more opposing sides, highlighting the tensions and potential consequences of the dispute.\n",
      "\n",
      "\"Consequential Analysis\": This angle focuses on the potential consequences and ripple effects of a news event, rather than just reporting the event itself.\n",
      "\n",
      "\"Policy Over Politics\": This angle separates the policy implications of a news event from the political motivations or ideologies that may be driving the decisions, and critiques the influence of the latter on the former.\n",
      "\n",
      "\"Consequence Analysis\": This angle explores the potential consequences or repercussions of a decision or action, often highlighting potential backlash or negative outcomes.\n",
      "\n",
      "\"Counterpoint\": This angle presents an opposing view or a contrasting perspective to the original narrative, highlighting a controversy or a negative aspect that was not mentioned initially.\n",
      "\n",
      "\"Value Judgment\": This angle evaluates the news event in terms of its alignment with certain values or moral principles, and uses the facts to make a case for or against a particular ideology or worldview.\n",
      "\n",
      "\"Consumer Focus\": This angle shifts the attention from the news event itself to the practical implications and relevance of the event to the consumer or end-user, providing a more evaluative and informative piece.\n",
      "\n",
      "\"Peripheral Mention\": This angle uses the news event as a minor reference point to explore a larger, related topic, rather than focusing on the event itself.\n",
      "\n",
      "\"Personalization\": This angle focuses on the personal aspects and relationships between individuals involved in the news event, adding a narrative of conflict and personalities to the story.\n",
      "\n",
      "\"Defendant's Perspective\": This angle focuses on the response and actions of the party being accused or sued, rather than solely reporting on the accusations or charges.\n",
      "\n",
      "\"Market Contextualization\": This angle places the news event within the larger market environment, using it as one of several factors to understand broader market trends and developments.\n",
      "\n",
      "\"Demographic Drill-Down\": This angle focuses on a specific subgroup within a larger population, providing a more detailed analysis of their experiences, behaviors, or trends.\n",
      "\n",
      "\"Human Focus\": This angle zooms in on the personal experiences and stories of individuals affected by the news event, making the story more relatable and anecdotal.\n",
      "\n",
      "\"Market Spotlight\": This angle shines a light on a specific company or entity within a larger market or industry, highlighting its successes, strategies, and prospects.\n",
      "\n",
      "\"Unrelated Spinoff\": This angle takes a tangential connection to the original news event and uses it as a segue to report on a completely different and unrelated topic.\n",
      "\n",
      "\"Skeptical Lens\": This angle views the news event through a critical perspective, questioning the optimism or claims presented in the original story, and highlighting potential challenges, limitations, or doubts.\n",
      "\n",
      "\"Critical Examination\": This angle presents a more skeptical view of the news event, highlighting potential challenges, limitations, and doubts, rather than simply reporting on the facts or presenting a positive outlook.\n",
      "\n",
      "\"Broader Relevance\": This angle connects a specific event or story to a larger, more general issue or trend, making it more relevant to a wider audience.\n",
      "\n",
      "\"Backstory\": This angle provides a historical context to the news event, exploring the past events and experiences that have led up to the current situation.\n",
      "\n",
      "\"Comparative Context\": This angle provides a broader understanding of the news event by comparing it to similar efforts or events, often highlighting successes, failures, or competition.\n",
      "\n",
      "\"Personal Lens\": This angle uses a personal experience or anecdote to illustrate the impact or relevance of a news event or technology, making the story more relatable and human-centered.\n",
      "\n",
      "\"Expert Perspective\": This angle incorporates the opinion or analysis of a specialist or industry insider to provide a unique viewpoint on the news event.\n",
      "\n",
      "\"Unrelated Commentary\": This angle is characterized by a complete departure from the original story, instead using it as a starting point to discuss a completely different topic or issue.\n",
      "\n",
      "\"Comparative Analysis\": This angle examines the news event by comparing it to a similar entity or situation, in order to highlight differences, similarities, or contrasts.\n",
      "\n",
      "\"Brief Mention\": This angle presents the news event as a minor part of a larger news landscape, without providing in-depth analysis or context.\n",
      "\n",
      "\"Proxy Issue\": This angle uses a specific news event as a minor point to discuss a larger issue or theme, often unrelated to the original topic, and explores its relevance to a broader context or narrative.\n",
      "\n",
      "\"Local Focus\": This angle zooms in on the local impact of a news event, exploring how it affects a specific community or region, and often includes details and reactions that are relevant to that local context.\n",
      "\n",
      "\"None\": This angle does not provide any distinct perspective or approach to the news event, and instead lacks any meaningful content.\n"
     ]
    }
   ],
   "source": [
    "print(categories)"
   ]
  },
  {
   "cell_type": "code",
   "execution_count": 259,
   "id": "37a1d104-c7de-4a96-a0c3-a99cca648060",
   "metadata": {
    "scrolled": true
   },
   "outputs": [
    {
     "name": "stdout",
     "output_type": "stream",
     "text": [
      "After analyzing the keywords, I grouped them into the following clusters:\n",
      "\n",
      "```python\n",
      "clusters = [\n",
      "    {\n",
      "        \"cluster label\": \"Critical Examination\",\n",
      "        \"keywords\": [\"Skeptical Scrutiny\", \"Critical Scrutiny\", \"Critical Perspective\", \"Critical Examination\", \"Skeptical Lens\"],\n",
      "        \"explanation\": \"These angles subject a concept or claim to critical examination, questioning its validity or effectiveness, and often presenting an opposing view.\"\n",
      "    },\n",
      "    {\n",
      "        \"cluster label\": \"Behind the Scenes\",\n",
      "        \"keywords\": [\"Behind the Facade\", \"Behind the Official Line\", \"Behind the Scenes\"],\n",
      "        \"explanation\": \"These angles look beyond the surface-level information presented in the original press release and dig deeper to reveal potential hidden motives, conflicts of interest, or contradictions.\"\n",
      "    },\n",
      "    {\n",
      "        \"cluster label\": \"Technical Analysis\",\n",
      "        \"keywords\": [\"Technical Dive\", \"Granular Analysis\", \"Comparative Analysis\"],\n",
      "        \"explanation\": \"These angles focus on the technical details and capabilities of a product or technology, exploring its applications and potential impact.\"\n",
      "    },\n",
      "    {\n",
      "        \"cluster label\": \"Human-Centered\",\n",
      "        \"keywords\": [\"Human Interest\", \"Human Impact\", \"Human Focus\", \"Personal Lens\", \"Personalization\"],\n",
      "        \"explanation\": \"These angles focus on the personal experiences and stories of individuals affected by the news event, making the story more relatable and anecdotal.\"\n",
      "    },\n",
      "    {\n",
      "        \"cluster label\": \"Broader Context\",\n",
      "        \"keywords\": [\"Broader Trend\", \"Broader Context\", \"Broader Relevance\", \"Broader Implications\"],\n",
      "        \"explanation\": \"These angles place the news event within a larger external framework, revealing its connections to and implications for a wider situation or issue.\"\n",
      "    },\n",
      "    {\n",
      "        \"cluster label\": \"Competitive Analysis\",\n",
      "        \"keywords\": [\"Competitive Framing\", \"Competitive Context\", \"Competitive Landscape\", \"Market Contextualization\"],\n",
      "        \"explanation\": \"These angles view the news event in the context of a competitive landscape, analyzing the strategic implications of the event on the players involved.\"\n",
      "    },\n",
      "    {\n",
      "        \"cluster label\": \"Consequential Analysis\",\n",
      "        \"keywords\": [\"Consequential Framing\", \"Consequence Analysis\", \"Consequential Analysis\"],\n",
      "        \"explanation\": \"These angles focus on the potential consequences and ripple effects of a news event, rather than just reporting the event itself.\"\n",
      "    },\n",
      "    {\n",
      "        \"cluster label\": \"Social Perspective\",\n",
      "        \"keywords\": [\"Social Lens\", \"Local Perspective\", \"Local Focus\", \"Public Pulse\"],\n",
      "        \"explanation\": \"These angles view the news event through the perspective of a specific group or community, highlighting their concerns, values, and reactions.\"\n",
      "    },\n",
      "    {\n",
      "        \"cluster label\": \"Unrelated\",\n",
      "        \"keywords\": [\"Non Sequitur\", \"Unrelated\", \"Unrelated Tangent\", \"Unrelated Commentary\", \"Unrelated Spinoff\"],\n",
      "        \"explanation\": \"These angles are unrelated to the original news event, instead focusing on a completely different topic.\"\n",
      "    },\n",
      "    {\n",
      "        \"cluster label\": \"Expert Insight\",\n",
      "        \"keywords\": [\"Insider Perspective\", \"Expert Perspective\"],\n",
      "        \"explanation\": \"These angles incorporate the opinion or analysis of a specialist or industry insider to provide a unique viewpoint on the news event.\"\n",
      "    },\n",
      "    {\n",
      "        \"cluster label\": \"Comparative Analysis\",\n",
      "        \"keywords\": [\"Comparative Context\", \"Comparative Analysis\"],\n",
      "        \"explanation\": \"These angles examine the news event by comparing it to a similar entity or situation, in order to highlight differences, similarities, or contrasts.\"\n",
      "    },\n",
      "    {\n",
      "        \"cluster label\": \"Reframing\",\n",
      "        \"keywords\": [\"Reframing\", \"Bait and Switch\", \"Proxy Issue\"],\n",
      "        \"explanation\": \"These angles change the primary focus of the story from its original purpose to a different aspect, often one that is more sensational or attention-grabbing.\"\n",
      "    }\n",
      "]\n",
      "```\n",
      "\n",
      "Note that some keywords could fit into multiple clusters, but I've assigned each keyword to the cluster that seems to be the best fit.\n"
     ]
    }
   ],
   "source": [
    "print(r)"
   ]
  },
  {
   "cell_type": "code",
   "execution_count": 253,
   "id": "72d7b736-b35a-45a5-a46e-5f92822f49a3",
   "metadata": {},
   "outputs": [
    {
     "name": "stdout",
     "output_type": "stream",
     "text": [
      "After analyzing the provided list of keywords, I've grouped them into related clusters. Here are the clusters:\n",
      "\n",
      "**Cluster 1: Critical Examination**\n",
      "\n",
      "* \"Skeptical Scrutiny\"\n",
      "* \"Critical Scrutiny\"\n",
      "* \"Critical Perspective\"\n",
      "* \"Critical Examination\"\n",
      "* \"Skeptical Lens\"\n",
      "* \"Counterpoint\"\n",
      "\n",
      "These angles all involve a critical or skeptical approach to the news event, questioning its validity, effectiveness, or motivations.\n",
      "\n",
      "**Cluster 2: Deeper Context**\n",
      "\n",
      "* \"Behind the Facade\"\n",
      "* \"Beyond the Headline\"\n",
      "* \"Beyond the Surface\"\n",
      "* \"Deeper Context\"\n",
      "* \"Backstory\"\n",
      "* \"Comparative Context\"\n",
      "\n",
      "These angles all aim to provide a deeper understanding of the news event by looking beyond the surface level, exploring underlying motivations, historical context, or comparative analysis.\n",
      "\n",
      "**Cluster 3: Human-Centered**\n",
      "\n",
      "* \"Human Interest\"\n",
      "* \"Human Impact\"\n",
      "* \"Human Focus\"\n",
      "* \"Personal Lens\"\n",
      "* \"Personalization\"\n",
      "* \"Local Focus\"\n",
      "\n",
      "These angles all focus on the human aspect of the news event, exploring its impact on individuals, communities, or specific groups.\n",
      "\n",
      "**Cluster 4: Broader Implications**\n",
      "\n",
      "* \"Broader Trend\"\n",
      "* \"Broader Context\"\n",
      "* \"Broader Relevance\"\n",
      "* \"Consequential Framing\"\n",
      "* \"Consequential Analysis\"\n",
      "* \"Consequence Analysis\"\n",
      "\n",
      "These angles all examine the news event in the context of its broader implications, exploring its potential consequences, relevance, or impact on a larger scale.\n",
      "\n",
      "**Cluster 5: Technical Analysis**\n",
      "\n",
      "* \"Technical Dive\"\n",
      "* \"Granular Analysis\"\n",
      "* \"Comparative Analysis\"\n",
      "\n",
      "These angles all involve a detailed examination of the technical aspects of the news event, exploring its capabilities, applications, or implications.\n",
      "\n",
      "**Cluster 6: Market and Industry Analysis**\n",
      "\n",
      "* \"Market Contextualization\"\n",
      "* \"Market Spotlight\"\n",
      "* \"Competitive Framing\"\n",
      "* \"Competitive Context\"\n",
      "* \"Competitive Landscape\"\n",
      "\n",
      "These angles all analyze the news event in the context of the market or industry, exploring its implications for companies, competitors, or the broader market landscape.\n",
      "\n",
      "**Cluster 7: Unrelated or Tangential**\n",
      "\n",
      "* \"Non Sequitur\"\n",
      "* \"Unrelated\"\n",
      "* \"Unrelated Tangent\"\n",
      "* \"Unrelated Spinoff\"\n",
      "* \"Unrelated Commentary\"\n",
      "* \"Proxy Issue\"\n",
      "\n",
      "These angles all involve a departure from the original news event, exploring unrelated topics or using the event as a starting point for a tangential discussion.\n",
      "\n",
      "**Cluster 8: Expert Insights**\n",
      "\n",
      "* \"Insider Perspective\"\n",
      "* \"Expert Perspective\"\n",
      "\n",
      "These angles all incorporate the opinions or analysis of experts or industry insiders to provide a unique viewpoint on the news event.\n",
      "\n",
      "**Cluster 9: Framing and Reframing**\n",
      "\n",
      "* \"Geopolitical Framing\"\n",
      "* \"Consequential Framing\"\n",
      "* \"Conflict Frame\"\n",
      "* \"Reframing\"\n",
      "\n",
      "These angles all involve framing the news event in a particular way, using different perspectives or contexts to shape the narrative.\n",
      "\n",
      "**Cluster 10: Miscellaneous**\n",
      "\n",
      "* \"Bait and Switch\"\n",
      "* \"Brief Mention\"\n",
      "* \"None\"\n",
      "* \"Error\"\n",
      "\n",
      "These angles don't fit neatly into the other clusters, involving techniques like using a secondary story as a hook, providing a brief mention of the news event, or lacking meaningful content.\n"
     ]
    }
   ],
   "source": [
    "print(r)"
   ]
  },
  {
   "cell_type": "code",
   "execution_count": null,
   "id": "38d72274-3838-45d5-aedb-cc163fb42ad2",
   "metadata": {},
   "outputs": [],
   "source": []
  },
  {
   "cell_type": "code",
   "execution_count": null,
   "id": "06e7f4dc-d431-454a-98e2-281e8e8ace89",
   "metadata": {},
   "outputs": [],
   "source": []
  },
  {
   "cell_type": "code",
   "execution_count": null,
   "id": "3b189116-c329-4e7d-a1df-83b240829c01",
   "metadata": {},
   "outputs": [],
   "source": []
  },
  {
   "cell_type": "code",
   "execution_count": null,
   "id": "563abbac-53b3-4c3c-8583-aa549cd51bb4",
   "metadata": {},
   "outputs": [],
   "source": []
  },
  {
   "cell_type": "code",
   "execution_count": null,
   "id": "e68b6ee4-db8d-4952-ac49-a9049858b2be",
   "metadata": {},
   "outputs": [],
   "source": []
  },
  {
   "cell_type": "code",
   "execution_count": null,
   "id": "b76345ea-dec1-45a3-b11a-fee80232a52f",
   "metadata": {},
   "outputs": [],
   "source": []
  },
  {
   "cell_type": "code",
   "execution_count": null,
   "id": "8044391b-7ec2-46b3-8659-ca4b846f2c92",
   "metadata": {},
   "outputs": [],
   "source": []
  },
  {
   "cell_type": "markdown",
   "id": "6e33f100-a0b9-4684-aa87-822c4346f2b5",
   "metadata": {},
   "source": [
    "__steps:__\n",
    "* What is source-centrality?\n",
    "* Retrieval accuracy across source-centrality\n",
    "* Confirm LLMs source-centrality rankings.\n",
    "* Explore underlying similarities in source's narrative roles, how they relate to source centrality.\n",
    "\n",
    "__angle:__\n",
    "* Explore underlying similarities in angles, how different sources are preferred in different angles.\n",
    "* Explore our ability to "
   ]
  },
  {
   "cell_type": "markdown",
   "id": "5da8e240-3997-4959-86e9-9c5f12d738f6",
   "metadata": {},
   "source": [
    "# Look at it in relation to the sources"
   ]
  },
  {
   "cell_type": "code",
   "execution_count": null,
   "id": "00da3c3e-003f-4854-b811-eeef355906e9",
   "metadata": {
    "scrolled": true
   },
   "outputs": [],
   "source": [
    "info_items = pd.read_json('../source_summaries/v2_sources_summarized__info__950_1000.jsonl', lines=True)\n",
    "narr_items = pd.read_json('../source_summaries/v2_sources_summarized__narr__950_1000.jsonl', lines=True)"
   ]
  },
  {
   "cell_type": "code",
   "execution_count": 137,
   "id": "dff042ea-72b7-42c9-b6d3-7fc9ebd4ddeb",
   "metadata": {
    "scrolled": true
   },
   "outputs": [],
   "source": [
    "import ast, json\n",
    "mapper = {'1': 'Name', \"2\": \"Original Name\"}"
   ]
  },
  {
   "cell_type": "code",
   "execution_count": 138,
   "id": "c016770c-8d9c-4e05-a174-b8a6ac0b0ab4",
   "metadata": {},
   "outputs": [],
   "source": [
    "def robust_json(x):\n",
    "    try:\n",
    "        return json.loads(x)\n",
    "    except:\n",
    "        return None\n",
    "\n",
    "def robust_ast(x):\n",
    "    try:\n",
    "        return ast.literal_eval(x)\n",
    "    except:\n",
    "        return None"
   ]
  },
  {
   "cell_type": "code",
   "execution_count": 147,
   "id": "3465cb0d-f8d0-4485-b9b1-d0c2f23e6bb2",
   "metadata": {
    "scrolled": true
   },
   "outputs": [
    {
     "data": {
      "text/plain": [
       "0     [{'Name': 'Progressive Coalition', 'Original N...\n",
       "1                                                  None\n",
       "2                                                  None\n",
       "3                                                  None\n",
       "4     [{'1': 'Starbucks', '2': 'Starbucks', '3': 'St...\n",
       "5     [{'Name': 'Media Outlets', 'Original Name': 'm...\n",
       "6                                                  None\n",
       "7     [{'Name': 'U.S. News & World Report', 'Origina...\n",
       "8     [{'1': 'Dunkin' Donuts', '2': 'Dunkin' Donuts'...\n",
       "9     [{'Name': 'Stores', 'Original Name': 'Stores',...\n",
       "10                                                 None\n",
       "11    [{'Name': 'Morgan Leavy', 'Original Name': 'Mo...\n",
       "12                                                 None\n",
       "13    [{'Name': 'Starbucks', 'Original Name': 'Starb...\n",
       "14                                                 None\n",
       "15                                                 None\n",
       "16    [{'Name': 'Richard Thompson', 'Original Name':...\n",
       "17    [{'Name': 'Starbucks', 'Original Name': ['Star...\n",
       "18    [{'Name': 'Starbucks', 'Original Name': 'Starb...\n",
       "19    [{'Name': 'Joseph Neese', 'Original Name': 'Jo...\n",
       "20                                                 None\n",
       "21    [{'Name': 'Journalist', 'Original Name': 'jour...\n",
       "22    [{'Name': 'Journalist', 'Original Name': 'jour...\n",
       "23                                                 None\n",
       "24    [{'Name': 'Life People', 'Original Name': 'Lif...\n",
       "25    [{'Name': 'Rossann Williams', 'Original Name':...\n",
       "26    [{'Name': 'PSL', 'Original Name': 'PSL', 'Info...\n",
       "27                                                 None\n",
       "28    [{'Name': 'Netflix', 'Original Name': 'Netflix...\n",
       "29    [{'1': 'Starbucks', '2': 'Starbucks', '3': 'St...\n",
       "30    [{'Name': 'Starbucks', 'Original Name': 'Starb...\n",
       "31                                                 None\n",
       "32    [{'1': 'Verismo.com', '2': 'Verismo.com', '3':...\n",
       "33    [{'1': 'Company', '2': 'company', '3': 'The co...\n",
       "34    [{'Name': 'Starbucks', 'Original Name': 'Starb...\n",
       "35    [{'Name': 'Neha Cremin', 'Original Name': 'Neh...\n",
       "36    [{'1': 'Starbucks', '2': 'Starbucks', '3': 'In...\n",
       "37    [{'1': 'Journalist', '2': 'journalist', '3': '...\n",
       "38    [{'Name': 'King County', 'Original Name': ['Ki...\n",
       "39                                                 None\n",
       "40    [{'Name': 'USA Today', 'Original Name': 'USA T...\n",
       "41    [{'Name': 'Food Babe', 'Original Name': ['Food...\n",
       "42    [{'Name': 'Starbucks', 'Original Name': 'Starb...\n",
       "43                                                 None\n",
       "44    [{'Name': 'Starbucks', 'Original Name': 'Starb...\n",
       "45    [{'1': 'barista', '2': 'barista', '3': 'The ba...\n",
       "46    [{'Name': 'Yahoo Finance Live', 'Original Name...\n",
       "47    [{'Name': 'Unnamed Source', 'Original Name': '...\n",
       "48    [{'Name': 'Krispy Kreme', 'Original Name': 'Kr...\n",
       "49    [{'1': 'Passive Voice', '2': 'passive-voice', ...\n",
       "Name: response, dtype: object"
      ]
     },
     "execution_count": 147,
     "metadata": {},
     "output_type": "execute_result"
    }
   ],
   "source": [
    "info_items['response'].apply(lambda x: robust_json(x))"
   ]
  },
  {
   "cell_type": "code",
   "execution_count": 142,
   "id": "9cd5307b-8698-4591-9671-68554473abde",
   "metadata": {
    "scrolled": true
   },
   "outputs": [
    {
     "data": {
      "text/plain": [
       "0     [{'Name': 'Progressive Coalition', 'Original N...\n",
       "1     [{'1': 'Forbes', '2': 'zhurnaly Forbes', '3': ...\n",
       "2     [{'Name': 'Anthony Scaramucci', 'Original Name...\n",
       "3                                                  None\n",
       "4     [{'1': 'Starbucks', '2': 'Starbucks', '3': 'St...\n",
       "5     [{'Name': 'Media Outlets', 'Original Name': 'm...\n",
       "6     [{'Name': 'Starbucks', 'Original Name': 'Starb...\n",
       "7     [{'Name': 'U.S. News & World Report', 'Origina...\n",
       "8     [{'1': 'Dunkin' Donuts', '2': 'Dunkin' Donuts'...\n",
       "9     [{'Name': 'Stores', 'Original Name': 'Stores',...\n",
       "10    [{'Name': 'Jessica Gonzalez', 'Original Name':...\n",
       "11                                                 None\n",
       "12                                                 None\n",
       "13    [{'Name': 'Starbucks', 'Original Name': 'Starb...\n",
       "14                                                 None\n",
       "15    [{'1': 'Thiago Silva', '2': 'Thiago Silva', '3...\n",
       "16    [{'Name': 'Richard Thompson', 'Original Name':...\n",
       "17    [{'Name': 'Starbucks', 'Original Name': ['Star...\n",
       "18    [{'Name': 'Starbucks', 'Original Name': 'Starb...\n",
       "19    [{'Name': 'Joseph Neese', 'Original Name': 'Jo...\n",
       "20    [{'Name': 'Starbucks', 'Original Name': ['Star...\n",
       "21    [{'Name': 'Journalist', 'Original Name': 'jour...\n",
       "22    [{'Name': 'Journalist', 'Original Name': 'jour...\n",
       "23    [{'Name': 'Release', 'Original Name': 'release...\n",
       "24    [{'Name': 'Life People', 'Original Name': 'Lif...\n",
       "25    [{'Name': 'Rossann Williams', 'Original Name':...\n",
       "26                                                 None\n",
       "27    [{'Name': 'Starbucks', 'Original Name': 'Starb...\n",
       "28    [{'Name': 'Netflix', 'Original Name': 'Netflix...\n",
       "29    [{'1': 'Starbucks', '2': 'Starbucks', '3': 'St...\n",
       "30    [{'Name': 'Starbucks', 'Original Name': 'Starb...\n",
       "31                                                 None\n",
       "32    [{'1': 'Verismo.com', '2': 'Verismo.com', '3':...\n",
       "33    [{'1': 'Company', '2': 'company', '3': 'The co...\n",
       "34    [{'Name': 'Starbucks', 'Original Name': 'Starb...\n",
       "35    [{'Name': 'Neha Cremin', 'Original Name': 'Neh...\n",
       "36                                                 None\n",
       "37    [{'1': 'Journalist', '2': 'journalist', '3': '...\n",
       "38    [{'Name': 'King County', 'Original Name': ['Ki...\n",
       "39                                                 None\n",
       "40    [{'Name': 'USA Today', 'Original Name': 'USA T...\n",
       "41                                                 None\n",
       "42    [{'Name': 'Starbucks', 'Original Name': 'Starb...\n",
       "43                                                 None\n",
       "44    [{'Name': 'Starbucks', 'Original Name': 'Starb...\n",
       "45                                                 None\n",
       "46    [{'Name': 'Yahoo Finance Live', 'Original Name...\n",
       "47    [{'Name': 'Unnamed Source', 'Original Name': '...\n",
       "48    [{'Name': 'Krispy Kreme', 'Original Name': 'Kr...\n",
       "49    [{'1': 'Passive Voice', '2': 'passive-voice', ...\n",
       "Name: response, dtype: object"
      ]
     },
     "execution_count": 142,
     "metadata": {},
     "output_type": "execute_result"
    }
   ],
   "source": [
    "info_items['response'].apply(lambda x: robust_ast(x))"
   ]
  },
  {
   "cell_type": "code",
   "execution_count": 146,
   "id": "d136f6a4-119d-43b5-a68a-a54f0398dbbc",
   "metadata": {},
   "outputs": [
    {
     "name": "stdout",
     "output_type": "stream",
     "text": [
      "[\n",
      "    {\"Name\": \"Morgan Leavy\", \"Original Name\": \"Morgan Leavy\", \"Information\": \"Morgan Leavy is a Starbucks employee who works at the Starbucks at 45th and Lamar, which recently became the first in Texas to unionize. Leavy stated that employees want better insurance and higher pay. Leavy mentioned that at a starting salary of $14 for baristas, Starbucks workers in Austin can't afford rent. Leavy believes that Starbucks workers are not paid enough for a job that's more skilled than people assume. Leavy suggested that customers who support the unionization effort can list their name as 'Union Strong' when they order a coffee.\"},\n",
      "    {\"Name\": \"Starbucks Spokesperson\", \"Original Name\": \"Starbucks spokesperson\", \"Information\": \"A Starbucks spokesperson defended the company's benefits and COVID policies, pointing to the recent announcement of increased wages and benefits for staff at non-unionized locations. The spokesperson stated that 'From the beginning, we've been clear in our belief that we are better together as partners, without a union between us, and that conviction has not changed.'\"},\n",
      "    {\"Name\": \"Starbucks\", \"Original Name\": \"Starbucks\", \"Information\": \"Starbucks has said that any claims of union busting are false.\"},\n",
      "    {\"Name\": \"Aaron Sojourner\", \"Original Name\": \"Aaron Sojourner\", \"Information\": \"Aaron Sojourner is an analyst at the W.E. Upjohn Institute for Employment Research. Sojourner stated that conditions for forming a union are more favorable than they have been in decades. Sojourner believes that workers are in the driver's seat in the labor market right now, citing job security as an incentive to seek better pay and conditions through bargaining power.\"},\n",
      "    {\"Name\": \"Axios Austin\", \"Original Name\": \"Axios Austin\", \"Information\": \"Axios Austin is a news organization that provides local stories and news. They offer a daily digest of important news in the reader's backyard and support local journalism through membership.\"},\n",
      "    {\"Name\": \"Unknown\", \"Original Name\": null, \"Information\": \"No information provided.\"}\n",
      "]\n"
     ]
    }
   ],
   "source": [
    "print(info_items['response'].loc[11])"
   ]
  },
  {
   "cell_type": "code",
   "execution_count": null,
   "id": "b97a2b82-5ae7-4761-b1fb-db713758c9f6",
   "metadata": {},
   "outputs": [],
   "source": []
  },
  {
   "cell_type": "code",
   "execution_count": null,
   "id": "7ff55274-2be3-46f4-a2af-b68d862287a8",
   "metadata": {},
   "outputs": [],
   "source": []
  },
  {
   "cell_type": "code",
   "execution_count": null,
   "id": "c3bfa12f-d1ee-41fe-8b48-a2104414de87",
   "metadata": {},
   "outputs": [],
   "source": []
  },
  {
   "cell_type": "code",
   "execution_count": 106,
   "id": "4f4062e5-ee07-4336-b83f-3ed58e97f108",
   "metadata": {},
   "outputs": [
    {
     "name": "stdout",
     "output_type": "stream",
     "text": [
      "0.6428571428571429 0.015306122448979591 -0.28867513459481287 -0.23529411764705882\n",
      "0.16666666666666666 0.010683760683760684 0.9214008855198341 0.7885714285714286\n",
      "0.5 0.011904761904761904 0.0 -0.2608695652173913\n"
     ]
    },
    {
     "data": {
      "image/png": "[encoded data removed]",
      "text/plain": [
       "<Figure size 640x480 with 1 Axes>"
      ]
     },
     "metadata": {},
     "output_type": "display_data"
    }
   ],
   "source": [
    "import numpy as np\n",
    "import numpy as np\n",
    "import matplotlib.pyplot as plt\n",
    "fig, ax = plt.subplots(1, 1)\n",
    "\n",
    "for a, b in [(9, 5), (2, 10), (10, 10)]:\n",
    "    mean, var, skew, kurt = beta.stats(a, b, moments='mvsk')\n",
    "    print(mean, var, skew, kurt)\n",
    "    n = 100\n",
    "    x = np.linspace(0, 1, n)\n",
    "    y = beta.pdf(x, a, b)\n",
    "    ax.plot(x, y, '-', lw=5, alpha=0.6, label='beta pdf')"
   ]
  },
  {
   "cell_type": "code",
   "execution_count": null,
   "id": "0ceea826-2998-4b9a-9fc9-113798ae9b32",
   "metadata": {},
   "outputs": [],
   "source": [
    "## input -> source type and persuasion level\n",
    "##          total num. segments of information\n",
    "## output -> num. information items to return"
   ]
  },
  {
   "cell_type": "code",
   "execution_count": null,
   "id": "3e4466e8-a390-43e7-8093-51cab79ba7ca",
   "metadata": {},
   "outputs": [],
   "source": []
  },
  {
   "cell_type": "code",
   "execution_count": null,
   "id": "ec21d611-3219-4bdc-a08b-85c711e48e34",
   "metadata": {},
   "outputs": [],
   "source": []
  },
  {
   "cell_type": "code",
   "execution_count": null,
   "id": "e31a4c28-6b30-4a97-91d8-7da7031a097b",
   "metadata": {},
   "outputs": [],
   "source": []
  },
  {
   "cell_type": "code",
   "execution_count": null,
   "id": "ef7392cb-0fa1-4fd5-a951-0ff4bd98cc6b",
   "metadata": {},
   "outputs": [],
   "source": []
  },
  {
   "cell_type": "code",
   "execution_count": 98,
   "id": "2174de1a-7c53-4fe5-8ce1-1cd69ae71ba3",
   "metadata": {},
   "outputs": [
    {
     "data": {
      "text/plain": [
       "array([0.02956205, 0.17709205, 0.39757191, 0.34351863, 0.05225535])"
      ]
     },
     "execution_count": 98,
     "metadata": {},
     "output_type": "execute_result"
    }
   ],
   "source": [
    "y / y.sum()"
   ]
  },
  {
   "cell_type": "code",
   "execution_count": 97,
   "id": "cedca0d3-f34d-4b9d-8a41-df64c85bc938",
   "metadata": {},
   "outputs": [
    {
     "data": {
      "text/plain": [
       "array([0.33910044, 0.47661662, 0.61413279, 0.75164897, 0.88916514])"
      ]
     },
     "execution_count": 97,
     "metadata": {},
     "output_type": "execute_result"
    }
   ],
   "source": [
    "x"
   ]
  },
  {
   "cell_type": "code",
   "execution_count": null,
   "id": "f77e336a-50cb-46ba-8933-e045edebbb18",
   "metadata": {},
   "outputs": [],
   "source": []
  },
  {
   "cell_type": "code",
   "execution_count": null,
   "id": "326c9ae1-de33-4653-9e68-96236d495a19",
   "metadata": {},
   "outputs": [],
   "source": []
  },
  {
   "cell_type": "code",
   "execution_count": null,
   "id": "953bb4b3-87e9-4a2e-968b-4e44f8955f07",
   "metadata": {},
   "outputs": [],
   "source": []
  },
  {
   "cell_type": "code",
   "execution_count": null,
   "id": "b97248dd-1770-43e8-8eee-5d42ed4a2cf5",
   "metadata": {},
   "outputs": [],
   "source": []
  },
  {
   "cell_type": "code",
   "execution_count": null,
   "id": "753ad0ec-03df-4e14-a950-153c80781a3b",
   "metadata": {},
   "outputs": [],
   "source": []
  },
  {
   "cell_type": "code",
   "execution_count": null,
   "id": "2180b342-64de-4317-9957-879c1c278087",
   "metadata": {},
   "outputs": [],
   "source": []
  },
  {
   "cell_type": "code",
   "execution_count": 77,
   "id": "6a3b46fb-85bb-4566-bf38-1e59687e639c",
   "metadata": {},
   "outputs": [],
   "source": [
    "from scipy.stats import beta"
   ]
  },
  {
   "cell_type": "code",
   "execution_count": null,
   "id": "46e0a083-6052-4268-8f24-818f44e1ec4f",
   "metadata": {},
   "outputs": [],
   "source": [
    "rv = beta(a, b)\n",
    "ax.plot(x, rv.pdf(x), 'k-', lw=2, label='frozen pdf')"
   ]
  }
 ],
 "metadata": {
  "kernelspec": {
   "display_name": "Python 3 (ipykernel)",
   "language": "python",
   "name": "python3"
  },
  "language_info": {
   "codemirror_mode": {
    "name": "ipython",
    "version": 3
   },
   "file_extension": ".py",
   "mimetype": "text/x-python",
   "name": "python",
   "nbconvert_exporter": "python",
   "pygments_lexer": "ipython3",
   "version": "3.12.2"
  }
 },
 "nbformat": 4,
 "nbformat_minor": 5
}

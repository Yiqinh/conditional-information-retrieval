{
 "cells": [
  {
   "cell_type": "code",
   "execution_count": 1,
   "metadata": {},
   "outputs": [],
   "source": [
    "import os\n",
    "import json\n",
    "import logging\n",
    "import argparse\n",
    "import torch\n"
   ]
  },
  {
   "cell_type": "code",
   "execution_count": 2,
   "metadata": {},
   "outputs": [],
   "source": [
    "here = \"/Users/yiqinhuang/NLP/conditional-information-retrieval/source_retriever\""
   ]
  },
  {
   "cell_type": "code",
   "execution_count": 3,
   "metadata": {},
   "outputs": [],
   "source": [
    "info_dir = os.path.join(os.path.dirname(here), \"source_summaries\", \"v2_info_parsed\")\n",
    "\n",
    "f = open(os.path.join(info_dir, \"v2_test_set.json\"))\n",
    "test_data = json.load(f)\n",
    "\n",
    "f = open(os.path.join(info_dir, \"v2_train_set.json\"))\n",
    "train_data = json.load(f)\n",
    "\n",
    "new_urls = set()\n",
    "\n",
    "for article in test_data:\n",
    "    new_urls.add(article['url'])\n",
    "\n",
    "for article in train_data:\n",
    "    new_urls.add(article['url'])"
   ]
  },
  {
   "cell_type": "code",
   "execution_count": 4,
   "metadata": {},
   "outputs": [],
   "source": [
    "narr_dir = os.path.join(os.path.dirname(here), \"source_summaries\", \"v2_narr_parsed\")\n",
    "\n",
    "f = open(os.path.join(narr_dir, \"v2_test_set_narr.json\"))\n",
    "test_narr_data = json.load(f)\n",
    "\n",
    "f = open(os.path.join(narr_dir, \"v2_train_set_narr.json\"))\n",
    "train_narr_data = json.load(f)\n",
    "\n",
    "narr_urls = set()\n",
    "\n",
    "for article in test_narr_data:\n",
    "    narr_urls.add(article['url'])\n",
    "\n",
    "for article in train_narr_data:\n",
    "    narr_urls.add(article['url'])"
   ]
  },
  {
   "cell_type": "code",
   "execution_count": 6,
   "metadata": {},
   "outputs": [
    {
     "name": "stdout",
     "output_type": "stream",
     "text": [
      "Processing file: article_query_sample.json\n"
     ]
    }
   ],
   "source": [
    "query_urls = set()\n",
    "url_to_query = {}\n",
    "\n",
    "directory = os.path.join(os.path.dirname(here), 'source_summaries', 'v2_queries')\n",
    "\n",
    "for filename in os.listdir(directory):\n",
    "    file_path = os.path.join(directory, filename)\n",
    "    if os.path.isfile(file_path) and \".DS_Store\" not in file_path:\n",
    "        # Process the file\n",
    "        print(f\"Processing file: {filename}\")\n",
    "        f = open(file_path)\n",
    "        data = json.load(f)\n",
    "        for article in data:\n",
    "            query_urls.add(article['url'])\n",
    "            url_to_query[article['url']] = article['query'].split('\\n\\n')[-1]"
   ]
  },
  {
   "cell_type": "code",
   "execution_count": 8,
   "metadata": {},
   "outputs": [
    {
     "name": "stdout",
     "output_type": "stream",
     "text": [
      "3\n"
     ]
    }
   ],
   "source": [
    "print(len(query_urls))"
   ]
  },
  {
   "cell_type": "code",
   "execution_count": 36,
   "metadata": {},
   "outputs": [
    {
     "name": "stdout",
     "output_type": "stream",
     "text": [
      "58098\n"
     ]
    }
   ],
   "source": [
    "print(len(new_urls))"
   ]
  },
  {
   "cell_type": "code",
   "execution_count": 37,
   "metadata": {},
   "outputs": [
    {
     "name": "stdout",
     "output_type": "stream",
     "text": [
      "57187\n"
     ]
    }
   ],
   "source": [
    "print(len(narr_urls))"
   ]
  },
  {
   "cell_type": "code",
   "execution_count": 9,
   "metadata": {},
   "outputs": [],
   "source": [
    "overlap = query_urls & new_urls & narr_urls"
   ]
  },
  {
   "cell_type": "code",
   "execution_count": 10,
   "metadata": {},
   "outputs": [
    {
     "name": "stdout",
     "output_type": "stream",
     "text": [
      "3\n"
     ]
    }
   ],
   "source": [
    "print(len(overlap))"
   ]
  },
  {
   "cell_type": "code",
   "execution_count": 40,
   "metadata": {},
   "outputs": [
    {
     "name": "stdout",
     "output_type": "stream",
     "text": [
      "56289\n"
     ]
    }
   ],
   "source": [
    "query_new = query_urls & new_urls\n",
    "print(len(query_new))"
   ]
  },
  {
   "cell_type": "code",
   "execution_count": 41,
   "metadata": {},
   "outputs": [
    {
     "name": "stdout",
     "output_type": "stream",
     "text": [
      "300000\n"
     ]
    }
   ],
   "source": [
    "print(len(url_to_query))\n"
   ]
  },
  {
   "cell_type": "code",
   "execution_count": 11,
   "metadata": {},
   "outputs": [],
   "source": [
    "from collections import defaultdict\n",
    "test_res = defaultdict(dict)\n",
    "\n",
    "for article in test_data:\n",
    "    if article['url'] in query_urls:\n",
    "        test_res[article['url']]['url'] = article['url']\n",
    "        test_res[article['url']]['sources'] = article['sources']\n",
    "        test_res[article['url']]['query'] = url_to_query[article['url']]\n",
    "\n",
    "train_res = defaultdict(dict)\n",
    "\n",
    "for article in train_data:\n",
    "    if article['url'] in query_urls:\n",
    "        train_res[article['url']]['url'] = article['url']\n",
    "        train_res[article['url']]['sources'] = article['sources']\n",
    "        train_res[article['url']]['query'] = url_to_query[article['url']]\n",
    "\n",
    "\n"
   ]
  },
  {
   "cell_type": "code",
   "execution_count": 17,
   "metadata": {},
   "outputs": [
    {
     "name": "stdout",
     "output_type": "stream",
     "text": [
      "3\n",
      "1\n",
      "4\n",
      "dict_keys(['www.bbc.co.uk/blogs/researchanddevelopment/2012/10/digital-hd-radio-camera-halfrf.shtml', 'www.prweb.com/releases/2015/02/prweb12528912.htm', 'www.usatoday.com/story/news/health/2015/08/06/cvs-drops-viagra/31227269/'])\n",
      "dict_keys(['www.usatoday.com/story/news/health/2015/08/06/cvs-drops-viagra/31227269/'])\n",
      "10\n"
     ]
    }
   ],
   "source": [
    "print(len(test_res))\n",
    "print(len(train_res))\n",
    "print(len(test_res) + len(train_res))\n",
    "print(test_res.keys())\n",
    "print(train_res.keys())\n",
    "a = set(k['url'] for k in test_data)\n",
    "b = set(k['url'] for k in train_data)\n",
    "c = a & b\n",
    "print(len(c))\n"
   ]
  },
  {
   "cell_type": "code",
   "execution_count": 18,
   "metadata": {},
   "outputs": [],
   "source": [
    "combined_test_v2 = [dict for url, dict in test_res.items()]\n",
    "combined_train_v2 = [dict for url, dict in train_res.items()]"
   ]
  },
  {
   "cell_type": "code",
   "execution_count": 19,
   "metadata": {},
   "outputs": [
    {
     "name": "stdout",
     "output_type": "stream",
     "text": [
      "3\n",
      "1\n"
     ]
    }
   ],
   "source": [
    "print(len(combined_test_v2))\n",
    "print(len(combined_train_v2))"
   ]
  },
  {
   "cell_type": "code",
   "execution_count": 62,
   "metadata": {},
   "outputs": [],
   "source": [
    "with open('../source_summaries/v2_info_parsed/combined_test_v2.json', 'w') as file:\n",
    "    json.dump(combined_test_v2, file, indent=4)\n",
    "\n",
    "with open('../source_summaries/v2_info_parsed/combined_train_v2.json', 'w') as file:\n",
    "    json.dump(combined_train_v2, file, indent=4)\n"
   ]
  },
  {
   "cell_type": "code",
   "execution_count": 15,
   "metadata": {},
   "outputs": [],
   "source": [
    "import json\n",
    "f = open(\"v2_search_res/v2_search_test_1000.json\")\n",
    "search = json.load(f)"
   ]
  },
  {
   "cell_type": "code",
   "execution_count": 17,
   "metadata": {},
   "outputs": [
    {
     "name": "stdout",
     "output_type": "stream",
     "text": [
      "GOAL markets.ft.com/data/investment-trust/tearsheet/directors?s=BRSC:LSE\n",
      "What is Netflix's strategy behind hiring Guillermo del Toro to direct a Pinocchio film, and what does it reveal about the company's goals for its original children's content?\n",
      "nl.mashable.com/entertainment/275/er-komt-mogelijk-een-nieuwe-spongebob-spinoff-naar-netflix#Netflix\n",
      "www.nytimes.com/2017/06/20/business/media/netflix-interactive-television-puss-in-boots.html#HBO\n",
      "www.nytimes.com/2017/06/20/business/media/netflix-interactive-television-puss-in-boots.html#Netflix Executives\n",
      "nl.mashable.com/entertainment/275/er-komt-mogelijk-een-nieuwe-spongebob-spinoff-naar-netflix#Delano Seliman\n",
      "www.inquisitr.com/2683379/guillermo-del-toros-horror-book-trollhunters-to-debut-on-netflix#DreamWorks\n",
      "www.eastbaytimes.com/2017/08/14/netflix-losing-disney-no-big-deal-says-piper-jaffray-analyst/#Journalist\n",
      "www.theguardian.com/games/2022/mar/29/pushing-buttons-our-readers-on-what-theyre-playing-right-now#Netflix\n",
      "www.businessinsider.es/netflix-lanza-top-10-evitar-pierdas-tiempo-elegir-587951#Unknown (la manera de ahorrarte)\n",
      "nl.mashable.com/entertainment/275/er-komt-mogelijk-een-nieuwe-spongebob-spinoff-naar-netflix#Journalist\n",
      "www.cincinnati.com/story/entertainment/2019/11/14/netflix-and-nickelodeon-team-up-new-shows-movies-disney/4188987002/#Melissa Cobb\n"
     ]
    }
   ],
   "source": [
    "print(\"GOAL\", search[1]['url'])\n",
    "print(search[1]['query'])\n",
    "for s in search[1]['dr_sources']:\n",
    "    print(s['id'])"
   ]
  },
  {
   "cell_type": "code",
   "execution_count": null,
   "metadata": {},
   "outputs": [],
   "source": []
  }
 ],
 "metadata": {
  "kernelspec": {
   "display_name": "nlp_env",
   "language": "python",
   "name": "python3"
  },
  "language_info": {
   "codemirror_mode": {
    "name": "ipython",
    "version": 3
   },
   "file_extension": ".py",
   "mimetype": "text/x-python",
   "name": "python",
   "nbconvert_exporter": "python",
   "pygments_lexer": "ipython3",
   "version": "3.11.9"
  }
 },
 "nbformat": 4,
 "nbformat_minor": 2
}

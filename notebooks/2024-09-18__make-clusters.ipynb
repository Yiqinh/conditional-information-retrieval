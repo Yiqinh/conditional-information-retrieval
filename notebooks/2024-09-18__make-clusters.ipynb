{
 "cells": [
  {
   "cell_type": "code",
   "execution_count": 1,
   "id": "b08f0417-12ff-464d-88ce-6213ed5bef92",
   "metadata": {},
   "outputs": [],
   "source": [
    "import pandas as pd \n",
    "import numpy as np \n",
    "import sys\n",
    "sys.path.insert(0, '../make_source_label_hierarchy/')\n",
    "import os\n",
    "os.environ['OPENAI_API_KEY']=open('/Users/spangher/.openai-isi-project-key.txt').read().strip()\n",
    "from utils_client import call_openai_completions"
   ]
  },
  {
   "cell_type": "code",
   "execution_count": 2,
   "id": "2e58956e-ca30-410a-b489-50f2ec87e687",
   "metadata": {},
   "outputs": [],
   "source": [
    "source_df = pd.read_csv('../make_source_label_hierarchy/similarity_training_data/full-source-df-with-clusters.csv')\n",
    "cluster_centers = np.load('../make_source_label_hierarchy/models/kmeans-embs-output.txt')"
   ]
  },
  {
   "cell_type": "code",
   "execution_count": 4,
   "id": "2354daa3-1763-45a1-800a-78d5d37f6cfd",
   "metadata": {},
   "outputs": [],
   "source": [
    "LEAF_NODE_PROMPT = \"\"\"\n",
    "You are a helpful assistant. I will give you a large set of labels I wrote down.\n",
    "\n",
    "Here are the labels:\n",
    "\n",
    "{labels}\n",
    "\n",
    "Please summarize them with a single, specific label for the entire group. Be descriptive so I can really understand.\n",
    "Please return just one label and one description. Make it in the same format as the input labels.\n",
    "\"\"\""
   ]
  },
  {
   "cell_type": "code",
   "execution_count": 109,
   "id": "6b6ee99c-2514-4f12-8e8d-47e3079c97d2",
   "metadata": {},
   "outputs": [
    {
     "data": {
      "text/plain": [
       "'\"Public Health Authority\": This collective label is assigned to sources that provide credible, expert information and guidance on public health topics, including but not limited to vaccine safety, effectiveness, clinical trials, pandemic response measures, and disease prevention. These sources are often official health organizations, government agencies, or reputable experts in the field of medicine and science, whose statements are widely recognized and trusted.'"
      ]
     },
     "execution_count": 109,
     "metadata": {},
     "output_type": "execute_result"
    }
   ],
   "source": [
    "labels = source_df.loc[lambda df: df['clusters'] == 9].sample(50)['Narrative Function']\n",
    "call_openai_completions(prompt=LEAF_NODE_PROMPT.format(labels='\\n'.join(labels)))"
   ]
  },
  {
   "cell_type": "code",
   "execution_count": 124,
   "id": "7d7c9520-13e7-433c-8bad-fb88ed31a0b7",
   "metadata": {},
   "outputs": [
    {
     "data": {
      "application/vnd.jupyter.widget-view+json": {
       "model_id": "c5c828a2aaf74459a1938a5d7b7e500d",
       "version_major": 2,
       "version_minor": 0
      },
      "text/plain": [
       "  0%|          | 0/1024 [00:00<?, ?it/s]"
      ]
     },
     "metadata": {},
     "output_type": "display_data"
    }
   ],
   "source": [
    "from tqdm.auto import tqdm\n",
    "groups = list(source_df.groupby('clusters')['Narrative Function'])\n",
    "child_node_summaries = {}\n",
    "for cluster_id, g in tqdm(groups):\n",
    "    g = g.dropna()\n",
    "    label_sample = g.sample(min(len(g), 50))\n",
    "    summary_label = call_openai_completions(prompt=LEAF_NODE_PROMPT.format(labels='\\n'.join(label_sample)))\n",
    "    child_node_summaries[cluster_id] = summary_label"
   ]
  },
  {
   "cell_type": "code",
   "execution_count": 169,
   "id": "328c3b8b-78e9-4ccc-9b53-6470ec940306",
   "metadata": {},
   "outputs": [],
   "source": [
    "pd.Series(child_node_summaries).to_csv('cache/child-node-summaries.txt', index=False)"
   ]
  },
  {
   "cell_type": "markdown",
   "id": "4e6d8832-52e5-4e30-ad5e-14b4ae5fe7a9",
   "metadata": {},
   "source": [
    "# Hierarchical KMeans"
   ]
  },
  {
   "cell_type": "code",
   "execution_count": 41,
   "id": "bd6da897-af6e-4458-8daf-3c385ddf46fe",
   "metadata": {},
   "outputs": [],
   "source": [
    "from sklearn.cluster import KMeans"
   ]
  },
  {
   "cell_type": "code",
   "execution_count": null,
   "id": "2f48d3d4-0d49-4a43-80d3-8a372d517bed",
   "metadata": {},
   "outputs": [],
   "source": [
    "import random\n",
    "from numpy.random import exponential\n",
    "from scipy.stats import expon\n",
    "\n",
    "source_df = pd.read_csv('../make_source_label_hierarchy/similarity_training_data/full-source-df-with-clusters.csv')\n",
    "cluster_centers = np.load('../make_source_label_hierarchy/models/kmeans-embs-output.txt')\n",
    "child_node_summaries = pd.read_csv('cache/child-node-summaries.txt')['0']"
   ]
  },
  {
   "cell_type": "code",
   "execution_count": 6,
   "id": "7588aeb9-bf23-4877-9eb4-7f34bd723520",
   "metadata": {},
   "outputs": [
    {
     "data": {
      "text/plain": [
       "[1, 2, 4, 5, 6, 7, 10, 13, 16, 46, 63, 118, 166, 818, 831]"
      ]
     },
     "execution_count": 6,
     "metadata": {},
     "output_type": "execute_result"
    }
   ],
   "source": [
    "def decreasing_probability_sampling(n_total, k):\n",
    "    output = []\n",
    "\n",
    "    for i in range(1, n_total):\n",
    "        prob = 1 / (i**k)\n",
    "        r = random.random()\n",
    "        \n",
    "        if r < prob:\n",
    "            output.append(i)\n",
    "    \n",
    "    return output\n",
    "\n",
    "bins = decreasing_probability_sampling(1024, .9)\n",
    "bins"
   ]
  },
  {
   "cell_type": "code",
   "execution_count": 148,
   "id": "14dd8500-5c60-4ced-86cb-4542c586879b",
   "metadata": {},
   "outputs": [],
   "source": [
    "INNER_NODE_PROMPT_KMEANS = \"\"\"\n",
    "You are a helpful assistant. I will give you a list of labels I wrote.\n",
    "\n",
    "Here are the labels:\n",
    "\n",
    "{labels}\n",
    "\n",
    "Please condense them into a single, specific label, focusing on their commonalities. \n",
    "Focus on the narrative role of the source, less on specific industries or topics they might cover. \n",
    "Try to avoid using the word \"narrative\" unless necessary.\n",
    "Please return just one 2-3 word label and one description. Make it in the same format as the input labels.\n",
    "\"\"\""
   ]
  },
  {
   "cell_type": "code",
   "execution_count": 234,
   "id": "24ab2b5b-71f7-4c87-ad31-4a265b2bbb8b",
   "metadata": {},
   "outputs": [],
   "source": [
    "clustering_rounds = {}\n",
    "intermediate_node_summaries = child_node_summaries\n",
    "cluster_centers = np.load('../make_source_label_hierarchy/models/kmeans-embs-output.txt')\n",
    "bins = [1, 3, 6, 15, 40]#, 150]"
   ]
  },
  {
   "cell_type": "code",
   "execution_count": 235,
   "id": "fea67723-ea39-47e4-ac79-3bc54a3c596f",
   "metadata": {},
   "outputs": [],
   "source": [
    "# inter_summ\n",
    "# cluster_centers.shape"
   ]
  },
  {
   "cell_type": "code",
   "execution_count": 236,
   "id": "0d8217ef-c9b3-4241-8372-4eb736d4f092",
   "metadata": {},
   "outputs": [],
   "source": [
    "from tqdm.auto import tqdm"
   ]
  },
  {
   "cell_type": "code",
   "execution_count": 237,
   "id": "27e1eadc-e125-4ae6-b800-4743fabb6081",
   "metadata": {},
   "outputs": [
    {
     "data": {
      "application/vnd.jupyter.widget-view+json": {
       "model_id": "fcd20e899f9742059d2582ee45f1d1ef",
       "version_major": 2,
       "version_minor": 0
      },
      "text/plain": [
       "  0%|          | 0/40 [00:00<?, ?it/s]"
      ]
     },
     "metadata": {},
     "output_type": "display_data"
    },
    {
     "data": {
      "application/vnd.jupyter.widget-view+json": {
       "model_id": "b8b8d5510dda415eb066d879c6ffb0da",
       "version_major": 2,
       "version_minor": 0
      },
      "text/plain": [
       "  0%|          | 0/15 [00:00<?, ?it/s]"
      ]
     },
     "metadata": {},
     "output_type": "display_data"
    },
    {
     "data": {
      "application/vnd.jupyter.widget-view+json": {
       "model_id": "e2df6b5da3184c2c9430437bf370c72d",
       "version_major": 2,
       "version_minor": 0
      },
      "text/plain": [
       "  0%|          | 0/6 [00:00<?, ?it/s]"
      ]
     },
     "metadata": {},
     "output_type": "display_data"
    },
    {
     "data": {
      "application/vnd.jupyter.widget-view+json": {
       "model_id": "569b49ac45c24a299c4072bc58cb2239",
       "version_major": 2,
       "version_minor": 0
      },
      "text/plain": [
       "  0%|          | 0/3 [00:00<?, ?it/s]"
      ]
     },
     "metadata": {},
     "output_type": "display_data"
    },
    {
     "data": {
      "application/vnd.jupyter.widget-view+json": {
       "model_id": "e78cca2fa66543ad9194ecc0e90cc9f9",
       "version_major": 2,
       "version_minor": 0
      },
      "text/plain": [
       "  0%|          | 0/1 [00:00<?, ?it/s]"
      ]
     },
     "metadata": {},
     "output_type": "display_data"
    }
   ],
   "source": [
    "sample_weights = source_df['clusters'].value_counts().sort_index()\n",
    "use_sample_weights = True\n",
    "for bin_idx in reversed(bins):\n",
    "    kmeans = KMeans(bin_idx)\n",
    "    if use_sample_weights:\n",
    "        labels = kmeans.fit_predict(cluster_centers, sample_weight=sample_weights)\n",
    "        sample_weights = (\n",
    "            sample_weights\n",
    "                 .to_frame('old_sample_weights').assign(parent_cluster=kmeans.labels_)\n",
    "                 .reset_index(drop=True)\n",
    "                 .groupby('parent_cluster')['old_sample_weights'].sum()\n",
    "        )\n",
    "    else:\n",
    "        labels = kmeans.fit_predict(cluster_centers)\n",
    "    \n",
    "    inter_summ = (\n",
    "        pd.Series(intermediate_node_summaries)\n",
    "            .to_frame('cluster_description')\n",
    "            .reset_index()\n",
    "            .rename(columns={'index': 'child_cluster'})\n",
    "    )\n",
    "    inter_summ['parent_cluster'] = kmeans.labels_\n",
    "    clustering_rounds[bin_idx] = inter_summ.copy()\n",
    "    groups = list(inter_summ.groupby('parent_cluster')['cluster_description'])\n",
    "    intermediate_node_summaries = {}\n",
    "    for cluster_id, g in tqdm(groups):\n",
    "        g = g.dropna()\n",
    "        label_sample = g.sample(min(len(g), 50))\n",
    "        summary_label = call_openai_completions(prompt=INNER_NODE_PROMPT_KMEANS.format(labels='\\n'.join(label_sample)))\n",
    "        intermediate_node_summaries[cluster_id] = summary_label\n",
    "\n",
    "    cluster_centers = kmeans.cluster_centers_\n",
    "\n",
    "inter_summ = pd.Series(intermediate_node_summaries).to_frame('cluster_description').reset_index().rename(columns={'index': 'child_cluster'})\n",
    "clustering_rounds[0] = inter_summ.copy()"
   ]
  },
  {
   "cell_type": "code",
   "execution_count": 238,
   "id": "e203dbe4-c1fc-49ba-810b-c714ffa110dc",
   "metadata": {},
   "outputs": [],
   "source": [
    "sorted_keys = sorted(clustering_rounds.keys(), key=lambda x: -x)\n",
    "\n",
    "## zero_out, for sanity\n",
    "for c in clustering_rounds.values():\n",
    "    c['parent_round'] = np.nan\n",
    "    c['current_round'] = np.nan\n",
    "    c['child_round'] = np.nan\n",
    "\n",
    "for child_round, parent_round in zip(sorted_keys[:-1], sorted_keys[1:]):\n",
    "    child_df = clustering_rounds[child_round]\n",
    "    child_df['parent_round'] = parent_round\n",
    "    child_df['current_round'] = child_round\n",
    "    # \n",
    "    parent_df = clustering_rounds[parent_round]\n",
    "    parent_df['child_round'] = child_round\n",
    "    parent_df['current_round'] = parent_round\n",
    "\n",
    "all_clusters = pd.concat(list(map(lambda i: clustering_rounds[i], sorted_keys)))\n",
    "all_clusters = all_clusters.rename(columns={\n",
    "    'child_cluster': 'node_idx',\n",
    "    'cluster_description': 'node_description',\n",
    "    'parent_cluster': 'parent_idx',\n",
    "    'parent_round': 'parent_tree_level',\n",
    "    'current_round': 'node_tree_level',\n",
    "    'child_round': 'child_tree_level'\n",
    "}) #.loc[lambda df: df['parent_round'].isnull()]"
   ]
  },
  {
   "cell_type": "code",
   "execution_count": 241,
   "id": "33d05c47-e2de-4c06-8d6e-785311b0b01b",
   "metadata": {},
   "outputs": [],
   "source": [
    "import utils_tree as ut\n",
    "from collections import defaultdict\n",
    "def build_parent_lists():\n",
    "    parent_lists = []\n",
    "    leaf_nodes = all_clusters.loc[lambda df: df['child_tree_level'].isnull()]\n",
    "    for node_id, row in tqdm(leaf_nodes.iterrows(), total=len(leaf_nodes)):\n",
    "        running_list = []\n",
    "        running_list.append(row['node_description'])\n",
    "        while True:\n",
    "            row = (all_clusters\n",
    "                       .loc[lambda df: df['node_tree_level'] == row['parent_tree_level']]\n",
    "                       .loc[row['parent_idx']]\n",
    "                  )\n",
    "            running_list.append(row['node_description'])\n",
    "            if pd.isnull(row['parent_tree_level']):\n",
    "                break\n",
    "        parent_lists.append(running_list)\n",
    "    return parent_lists\n",
    "\n",
    "def build_rooted_tree(text_processing_function=None):\n",
    "    tree = {}\n",
    "    # all_clusters.loc[lambda df: df['parent_tree_level'].isnull()].iloc[0]\n",
    "    old_parent_children = defaultdict(list)\n",
    "    curr_parent_children = defaultdict(list)\n",
    "    curr_nodes = all_clusters.loc[lambda df: df['child_tree_level'].isnull()]\n",
    "    while True:\n",
    "        for node_id, row in curr_nodes.iterrows():\n",
    "            p_idx = row['parent_idx'] if pd.notnull(row['parent_idx']) else 'root'\n",
    "            node_desc = row['node_description'] if text_processing_function is None else text_processing_function(row['node_description'])\n",
    "            curr_parent_children[p_idx].append({\n",
    "                \"node\": node_desc,\n",
    "                \"children\": old_parent_children.get(row['node_idx'])\n",
    "            })\n",
    "        old_parent_children = curr_parent_children\n",
    "        curr_parent_children = defaultdict(list)\n",
    "        if curr_nodes['parent_tree_level'].isnull().any():\n",
    "            break\n",
    "        curr_nodes = all_clusters.loc[lambda df: df['node_tree_level'] == row['parent_tree_level']]\n",
    "    return old_parent_children['root'][0]"
   ]
  },
  {
   "cell_type": "code",
   "execution_count": 242,
   "id": "84531a08-14f7-489b-a6ff-b03a4b0dc5be",
   "metadata": {},
   "outputs": [],
   "source": [
    "t = build_rooted_tree(text_processing_function=lambda x: x.split(':')[0].split('\\n\\n')[0])"
   ]
  },
  {
   "cell_type": "code",
   "execution_count": 243,
   "id": "f227c0b1-184b-4c4e-86d0-c402f56a979f",
   "metadata": {},
   "outputs": [],
   "source": [
    "import networkx as nx\n",
    "\n",
    "def build_networkx_graph(d, G=None, parent=None, depth=0):\n",
    "    if G is None:\n",
    "        G = nx.DiGraph()  # You can use nx.Graph() if the graph is undirected\n",
    "\n",
    "    node_label = f\"{d.get('node')}-{depth}\"\n",
    "    if node_label is None:\n",
    "        return G  # If there's no node, nothing to add\n",
    "\n",
    "    # Add the node with the 'description' attribute\n",
    "    G.add_node(node_label, description=node_label)\n",
    "\n",
    "    if parent is not None:\n",
    "        # Add an edge from the parent to this node\n",
    "        G.add_edge(parent, node_label)\n",
    "\n",
    "    children = d.get('children', [])\n",
    "    if children:\n",
    "        for child in children:\n",
    "            if child:  # Ensure child is not None\n",
    "                build_networkx_graph(child, G, parent=node_label, depth=depth+1)\n",
    "\n",
    "    return G"
   ]
  },
  {
   "cell_type": "code",
   "execution_count": 244,
   "id": "1fdec3fd-6228-49e0-b69b-44ca607b0f67",
   "metadata": {},
   "outputs": [],
   "source": [
    "G = build_networkx_graph(t)"
   ]
  },
  {
   "cell_type": "code",
   "execution_count": null,
   "id": "140ab696-1c8f-4d26-b265-5129a1429911",
   "metadata": {},
   "outputs": [],
   "source": [
    "from adjustText import adjust_text\n",
    "# Specify the desired depth\n",
    "desired_depth = 4  # Change this to your desired depth\n",
    "# Compute the shortest path lengths from the root node to all other nodes\n",
    "depths = nx.single_source_shortest_path_length(G, f\"{t['node']}-{0}\")\n",
    "nodes_within_depth = [node for node, depth in depths.items() if depth <= desired_depth]\n",
    "G_sub = G.subgraph(nodes_within_depth)"
   ]
  },
  {
   "cell_type": "code",
   "execution_count": null,
   "id": "db65b115-8b9d-4719-8f50-fdf97cec3f66",
   "metadata": {},
   "outputs": [],
   "source": [
    "import re \n",
    "\n",
    "plt.figure(figsize=(30, 15))\n",
    "\n",
    "# Compute the positions for the nodes using hierarchy_pos\n",
    "pos = nx.drawing.nx_agraph.graphviz_layout(G_sub, prog=\"dot\")\n",
    "\n",
    "nx.draw_networkx_edges(G_sub, pos, arrows=True, arrowstyle='-|>', arrowsize=12)\n",
    "nx.draw_networkx_nodes(G_sub, pos, node_size=200, node_color='lightblue', linewidths=0.25)\n",
    "\n",
    "# Prepare the texts for adjustment\n",
    "labels = nx.get_node_attributes(G_sub, 'description')\n",
    "texts = []\n",
    "for node, (x, y) in pos.items():\n",
    "    text = plt.text(x, y, re.split(r'-\\d', labels[node])[0].replace(' ', '\\n').replace('\"', ''), fontsize=10, fontweight='bold', ha='center', va='center')\n",
    "    texts.append(text)\n",
    "\n",
    "# Adjust the texts to minimize overlaps\n",
    "adjust_text(texts, arrowprops=dict(arrowstyle='-', color='red', ))\n",
    "\n",
    "# Draw the tree\n",
    "# nx.draw(G_sub, pos, with_labels=True, node_size=70, node_color=\"skyblue\", font_size=6)\n",
    "plt.axis('off')\n",
    "plt.show()"
   ]
  },
  {
   "cell_type": "code",
   "execution_count": 271,
   "id": "111bc6f1-b443-46e8-a73f-e027fddec032",
   "metadata": {},
   "outputs": [
    {
     "data": {
      "application/vnd.jupyter.widget-view+json": {
       "model_id": "b426b178c05a4f60957f53b5d1b2cab8",
       "version_major": 2,
       "version_minor": 0
      },
      "text/plain": [
       "  0%|          | 0/1024 [00:00<?, ?it/s]"
      ]
     },
     "metadata": {},
     "output_type": "display_data"
    }
   ],
   "source": [
    "l = build_parent_lists()"
   ]
  },
  {
   "cell_type": "code",
   "execution_count": 272,
   "id": "2fcb2fc3-72c4-4dfc-82b4-aa5907917664",
   "metadata": {},
   "outputs": [
    {
     "data": {
      "text/plain": [
       "['\"Insightful Informants\": These sources collectively offer crucial insights, context, and analysis, enriching the reader\\'s understanding and engagement through diverse perspectives and enhancing the depth and accuracy of information presented.',\n",
       " '\"Essential Source\": This label encapsulates individuals, companies, or entities that play a pivotal role in providing key information, expert insights, illustrative examples, and comprehensive analysis, crucial for enhancing reader understanding, ensuring accurate reporting, and guiding audience comprehension across various subjects.',\n",
       " '\"Comprehensive Insight\": These sources offer crucial information, context, and credible analysis across various subjects, which aid in enhancing readers\\' understanding and ensuring thorough and accurate reporting.',\n",
       " '\"Insightful Resource\": These sources collectively provide essential data, context, analysis, and credibility across diverse topics, enhancing depth and understanding in journalistic articles and ensuring comprehensive and accurate reporting.',\n",
       " '\"Confidential Insights\": This source provides exclusive and detailed information, analysis, and first-hand observations about internal processes, strategies, decisions, and insider perspectives across various organizations, revealing motivations, actions, and outcomes that are not typically available to the public.',\n",
       " '\"Insider Information\": These sources collectively provide exclusive, detailed insights and firsthand information across various sectors, including healthcare, pharmaceuticals, government policies, defense projects, corporate strategies, and pandemic responses.']"
      ]
     },
     "execution_count": 272,
     "metadata": {},
     "output_type": "execute_result"
    }
   ],
   "source": [
    "list(reversed(l[10]))"
   ]
  },
  {
   "cell_type": "code",
   "execution_count": 273,
   "id": "526cee83-8601-4b12-9541-6e4afdd399a8",
   "metadata": {},
   "outputs": [
    {
     "data": {
      "text/plain": [
       "['\"Disclaimer\": This source is used to provide legal disclaimers, trademark information, and notices on ownership and usage terms of trademarks and content associated with the article.',\n",
       " '\"Transparency and Compliance\": This collection of sources is used to provide essential disclaimers and disclosures that ensure transparency, clarify legal responsibilities, and inform users about data usage, affiliations, funding, content rights, and organizational policies, promoting ethical standards and compliance.',\n",
       " '\"Insightful Resource\": These sources collectively provide essential data, context, analysis, and credibility across diverse topics, enhancing depth and understanding in journalistic articles and ensuring comprehensive and accurate reporting.',\n",
       " '\"Comprehensive Insight\": These sources offer crucial information, context, and credible analysis across various subjects, which aid in enhancing readers\\' understanding and ensuring thorough and accurate reporting.',\n",
       " '\"Essential Source\": This label encapsulates individuals, companies, or entities that play a pivotal role in providing key information, expert insights, illustrative examples, and comprehensive analysis, crucial for enhancing reader understanding, ensuring accurate reporting, and guiding audience comprehension across various subjects.',\n",
       " '\"Insightful Informants\": These sources collectively offer crucial insights, context, and analysis, enriching the reader\\'s understanding and engagement through diverse perspectives and enhancing the depth and accuracy of information presented.']"
      ]
     },
     "execution_count": 273,
     "metadata": {},
     "output_type": "execute_result"
    }
   ],
   "source": [
    "l[1]"
   ]
  },
  {
   "cell_type": "markdown",
   "id": "7b61539c-282b-442e-b5f4-36f26cbacfab",
   "metadata": {},
   "source": [
    "# Associate clusters with Sources"
   ]
  },
  {
   "cell_type": "code",
   "execution_count": 274,
   "id": "9f083134-e84d-4fe3-b6b9-086bcfb5aa97",
   "metadata": {},
   "outputs": [
    {
     "data": {
      "text/plain": [
       "[40, 15, 6, 3, 1, 0]"
      ]
     },
     "execution_count": 274,
     "metadata": {},
     "output_type": "execute_result"
    }
   ],
   "source": [
    "bins=list(clustering_rounds.keys())\n",
    "bins"
   ]
  },
  {
   "cell_type": "code",
   "execution_count": 275,
   "id": "a19c91d4-7140-4bcc-bb68-ed2533198588",
   "metadata": {},
   "outputs": [],
   "source": [
    "for k in clustering_rounds:\n",
    "    clustering_rounds[k]\n",
    "    break"
   ]
  },
  {
   "cell_type": "code",
   "execution_count": 277,
   "id": "61b70031-d916-4d17-a0f6-a3857f70cb9e",
   "metadata": {},
   "outputs": [
    {
     "data": {
      "text/plain": [
       "[40, 15, 6, 3, 1, 0]"
      ]
     },
     "execution_count": 277,
     "metadata": {},
     "output_type": "execute_result"
    }
   ],
   "source": [
    "bins"
   ]
  },
  {
   "cell_type": "code",
   "execution_count": 278,
   "id": "d1b2c90b-a362-4328-997a-58970b3d81fa",
   "metadata": {},
   "outputs": [],
   "source": [
    "source_df_with_clusters = (\n",
    "    source_df\n",
    "         .loc[lambda df: df['Is_Error'] == False]\n",
    "         .drop(columns=['Is_Error', 'Unnamed: 0'])\n",
    "         .merge(clustering_rounds[bins[0]][['child_cluster', 'cluster_description', 'parent_cluster']], right_on='child_cluster', left_on='clusters')\n",
    "         .drop(columns=['child_cluster', 'clusters']).rename(columns={'cluster_description': 'cluster_descript_leaf_1'})\n",
    "         .merge(clustering_rounds[bins[1]][['child_cluster', 'cluster_description', 'parent_cluster']], right_on='child_cluster', left_on='parent_cluster')\n",
    "         .drop(columns=['child_cluster', 'parent_cluster_x']).rename(columns={'cluster_description': 'cluster_descript_leaf_2', 'parent_cluster_y': 'parent_cluster'})\n",
    "         .merge(clustering_rounds[bins[2]][['child_cluster', 'cluster_description', 'parent_cluster']], right_on='child_cluster', left_on='parent_cluster')\n",
    "         .drop(columns=['child_cluster', 'parent_cluster_x']).rename(columns={'cluster_description': 'cluster_descript_leaf_3', 'parent_cluster_y': 'parent_cluster'})\n",
    "         .merge(clustering_rounds[bins[3]][['child_cluster', 'cluster_description', 'parent_cluster']], right_on='child_cluster', left_on='parent_cluster')\n",
    "         .drop(columns=['child_cluster', 'parent_cluster_x']).rename(columns={'cluster_description': 'cluster_descript_leaf_4', 'parent_cluster_y': 'parent_cluster'}) \n",
    "         .merge(clustering_rounds[bins[4]][['child_cluster', 'cluster_description', 'parent_cluster']], right_on='child_cluster', left_on='parent_cluster')\n",
    "         .drop(columns=['child_cluster', 'parent_cluster_x']).rename(columns={'cluster_description': 'cluster_descript_leaf_5', 'parent_cluster_y': 'parent_cluster'}) \n",
    "         .drop(columns=['parent_cluster'])\n",
    ")"
   ]
  },
  {
   "cell_type": "code",
   "execution_count": 279,
   "id": "eed7e4e4-d3d7-45d8-968f-1eb73e258fca",
   "metadata": {},
   "outputs": [
    {
     "data": {
      "text/plain": [
       "cluster_descript_leaf_1\n",
       "\"Context\"                                       20917\n",
       "\"Main Actor\"                                    17606\n",
       "\"Counterpoint\"                                  17239\n",
       "\"Expert Opinion\"                                13660\n",
       "\"Context Provider\"                               9324\n",
       "                                                ...  \n",
       "\"National Day Promotion Participant\"               61\n",
       "\"Weather Forecasts and Reports\"                    59\n",
       "\"Interest Point Category\"                          59\n",
       "\"Veterans Day Offers and Holiday Promotions\"       54\n",
       "\"Problem Illustration\"                             54\n",
       "Name: count, Length: 607, dtype: int64"
      ]
     },
     "execution_count": 279,
     "metadata": {},
     "output_type": "execute_result"
    }
   ],
   "source": [
    "source_df_with_clusters['cluster_descript_leaf_1'].str.split(':').str.get(0).str.split('\\n\\n').str.get(0).value_counts()"
   ]
  },
  {
   "cell_type": "code",
   "execution_count": 280,
   "id": "b032ad1d-871d-4750-9109-b12ff4e9d352",
   "metadata": {
    "scrolled": true
   },
   "outputs": [
    {
     "data": {
      "text/plain": [
       "cluster_descript_leaf_2\n",
       "\"Contrasting Perspectives\"            31256\n",
       "\"Authoritative Source\"                21696\n",
       "\"Background Information\"              21633\n",
       "\"Central Figure\"                      20324\n",
       "\"Comprehensive Expert Insights\"       18821\n",
       "\"Central Source\"                      17139\n",
       "\"Comprehensive Insight\"               16957\n",
       "\"Illustrative Examples\"               15846\n",
       "\"Comprehensive Contextual Support\"    14821\n",
       "\"Expert Opinions & Analysis\"          14175\n",
       "\"Contextual Overview\"                 13225\n",
       "\"Informative Content\"                 12846\n",
       "\"Information Source\"                  11259\n",
       "\"Contextual Background Sources\"       11107\n",
       "\"Confidential Insights\"               10974\n",
       "\"Source Dynamics\"                     10400\n",
       "\"Comprehensive Data Source\"           10152\n",
       "\"Example Illustration\"                 9451\n",
       "\"Support and Validation\"               9404\n",
       "\"Corporate Information\"                9121\n",
       "\"Data and Statistics\"                  9014\n",
       "\"Evidence and Verification\"            8990\n",
       "\"Attribution and Context\"              8939\n",
       "\"Authorial Perspective\"                8196\n",
       "\"Personal Experience Insight\"          8115\n",
       "\"Critical Perspective\"                 7974\n",
       "\"Contextual Background\"                7701\n",
       "\"Information Provider\"                 7336\n",
       "\"Executive Insights\"                   6224\n",
       "\"Comprehensive Information Hub\"        5073\n",
       "\"Promotional Engagement\"               4967\n",
       "\"Action and Actor\"                     4849\n",
       "\"Authoritative Announcement\"           4791\n",
       "\"Comparative Insights\"                 4662\n",
       "\"Transparency and Compliance\"          4422\n",
       "\"Perspective and Context\"              4351\n",
       "\"Supplementary Context\"                4310\n",
       "\"Peripheral Content\"                   4022\n",
       "\"Risk and Safety Alerts\"               1760\n",
       "Name: count, dtype: int64"
      ]
     },
     "execution_count": 280,
     "metadata": {},
     "output_type": "execute_result"
    }
   ],
   "source": [
    "source_df_with_clusters['cluster_descript_leaf_2'].str.split(':').str.get(0).str.split('\\n\\n').str.get(0).str.strip().value_counts()"
   ]
  },
  {
   "cell_type": "code",
   "execution_count": 281,
   "id": "38a35b4d-63ad-4ac0-8f13-92b7ff7e722a",
   "metadata": {},
   "outputs": [
    {
     "data": {
      "text/plain": [
       "cluster_descript_leaf_3\n",
       "\"Insightful Resource\"              73033\n",
       "\"Analytical Depth\"                 54343\n",
       "\"Credibility and Engagement\"       41982\n",
       "\"Influential Source\"               34613\n",
       "\"Alternative Viewpoints\"           31256\n",
       "\"Contextual Insight\"               30377\n",
       "\"Contextual Information\"           21941\n",
       "\"Contextual Insights\"              21633\n",
       "\"Key Source\"                       20324\n",
       "\"Extensive Expert Analysis\"        18821\n",
       "\"Contextual Guidance\"              17135\n",
       "\"Practical Case Studies\"           15846\n",
       "\"Background Insight Providers\"     14821\n",
       "\"Background Enrichment Sources\"    11107\n",
       "\"Credibility Anchor\"                9071\n",
       "Name: count, dtype: int64"
      ]
     },
     "execution_count": 281,
     "metadata": {},
     "output_type": "execute_result"
    }
   ],
   "source": [
    "source_df_with_clusters['cluster_descript_leaf_3'].str.split(':').str.get(0).str.split('\\n\\n').str.get(0).str.strip().value_counts()"
   ]
  },
  {
   "cell_type": "code",
   "execution_count": 282,
   "id": "b22a641b-d036-497d-8056-8e01576f02b3",
   "metadata": {},
   "outputs": [
    {
     "data": {
      "text/plain": [
       "cluster_descript_leaf_4\n",
       "\"Insightful Authority\"               175965\n",
       "\"Comprehensive Insight\"               94974\n",
       "\"Comprehensive Context Providers\"     77938\n",
       "\"Critical Perspectives\"               31256\n",
       "\"Primary Contributor\"                 20324\n",
       "\"Illustrative Examples\"               15846\n",
       "Name: count, dtype: int64"
      ]
     },
     "execution_count": 282,
     "metadata": {},
     "output_type": "execute_result"
    }
   ],
   "source": [
    "source_df_with_clusters['cluster_descript_leaf_4'].str.split(':').str.get(0).str.split('\\n\\n').str.get(0).str.strip().value_counts()"
   ]
  },
  {
   "cell_type": "code",
   "execution_count": 283,
   "id": "edddd911-44ba-4fd1-a1ee-ca4e96a74381",
   "metadata": {},
   "outputs": [
    {
     "data": {
      "text/plain": [
       "cluster_descript_leaf_5\n",
       "\"Essential Source\"              307109\n",
       "\"Context Enrichers\"              77938\n",
       "\"Thought-Provoking Analysis\"     31256\n",
       "Name: count, dtype: int64"
      ]
     },
     "execution_count": 283,
     "metadata": {},
     "output_type": "execute_result"
    }
   ],
   "source": [
    "source_df_with_clusters['cluster_descript_leaf_5'].str.split(':').str.get(0).str.split('\\n\\n').str.get(0).str.strip().value_counts()"
   ]
  },
  {
   "cell_type": "code",
   "execution_count": 284,
   "id": "db340759-c037-422b-b4f0-3739cb365c61",
   "metadata": {},
   "outputs": [],
   "source": [
    "source_df_with_clusters.to_csv('cache/2024-09-19__source-df-with-all-clusters.csv')"
   ]
  },
  {
   "cell_type": "code",
   "execution_count": null,
   "id": "e7a59138-691d-4176-8ec9-178b9f631051",
   "metadata": {},
   "outputs": [],
   "source": []
  },
  {
   "cell_type": "code",
   "execution_count": null,
   "id": "c85ab2e8-06c6-473d-80d4-e81893b628e4",
   "metadata": {},
   "outputs": [],
   "source": []
  },
  {
   "cell_type": "code",
   "execution_count": null,
   "id": "bfc72a6b-5177-45ad-bc8a-8514177b503a",
   "metadata": {},
   "outputs": [],
   "source": []
  },
  {
   "cell_type": "code",
   "execution_count": null,
   "id": "78c9e552-6b7d-4763-bcb6-cc583670ed36",
   "metadata": {},
   "outputs": [],
   "source": []
  },
  {
   "cell_type": "code",
   "execution_count": null,
   "id": "1f94f603-9788-44ef-83b6-c5183a50104e",
   "metadata": {},
   "outputs": [],
   "source": []
  },
  {
   "cell_type": "code",
   "execution_count": null,
   "id": "d9322763-d97f-40c7-9973-e5c2fb012875",
   "metadata": {},
   "outputs": [],
   "source": []
  },
  {
   "cell_type": "code",
   "execution_count": null,
   "id": "915a0574-44cf-47f2-821a-f09fcf9c3271",
   "metadata": {},
   "outputs": [],
   "source": []
  },
  {
   "cell_type": "code",
   "execution_count": null,
   "id": "62813858-3680-492c-920e-55856891b43f",
   "metadata": {},
   "outputs": [],
   "source": []
  },
  {
   "cell_type": "code",
   "execution_count": null,
   "id": "ea0f14b2-c325-4d81-8fa2-cb5215efa1f3",
   "metadata": {},
   "outputs": [],
   "source": []
  },
  {
   "cell_type": "markdown",
   "id": "0277c502-6e0e-4bce-b371-b3bcba1f7dfc",
   "metadata": {},
   "source": [
    "# Agglomerative Hierarchical Clustering"
   ]
  },
  {
   "cell_type": "code",
   "execution_count": 325,
   "id": "d1ed02b9-0c5a-49af-9ba8-ddbd15cad689",
   "metadata": {},
   "outputs": [
    {
     "data": {
      "text/html": [
       "<style>#sk-container-id-3 {\n",
       "  /* Definition of color scheme common for light and dark mode */\n",
       "  --sklearn-color-text: black;\n",
       "  --sklearn-color-line: gray;\n",
       "  /* Definition of color scheme for unfitted estimators */\n",
       "  --sklearn-color-unfitted-level-0: #fff5e6;\n",
       "  --sklearn-color-unfitted-level-1: #f6e4d2;\n",
       "  --sklearn-color-unfitted-level-2: #ffe0b3;\n",
       "  --sklearn-color-unfitted-level-3: chocolate;\n",
       "  /* Definition of color scheme for fitted estimators */\n",
       "  --sklearn-color-fitted-level-0: #f0f8ff;\n",
       "  --sklearn-color-fitted-level-1: #d4ebff;\n",
       "  --sklearn-color-fitted-level-2: #b3dbfd;\n",
       "  --sklearn-color-fitted-level-3: cornflowerblue;\n",
       "\n",
       "  /* Specific color for light theme */\n",
       "  --sklearn-color-text-on-default-background: var(--sg-text-color, var(--theme-code-foreground, var(--jp-content-font-color1, black)));\n",
       "  --sklearn-color-background: var(--sg-background-color, var(--theme-background, var(--jp-layout-color0, white)));\n",
       "  --sklearn-color-border-box: var(--sg-text-color, var(--theme-code-foreground, var(--jp-content-font-color1, black)));\n",
       "  --sklearn-color-icon: #696969;\n",
       "\n",
       "  @media (prefers-color-scheme: dark) {\n",
       "    /* Redefinition of color scheme for dark theme */\n",
       "    --sklearn-color-text-on-default-background: var(--sg-text-color, var(--theme-code-foreground, var(--jp-content-font-color1, white)));\n",
       "    --sklearn-color-background: var(--sg-background-color, var(--theme-background, var(--jp-layout-color0, #111)));\n",
       "    --sklearn-color-border-box: var(--sg-text-color, var(--theme-code-foreground, var(--jp-content-font-color1, white)));\n",
       "    --sklearn-color-icon: #878787;\n",
       "  }\n",
       "}\n",
       "\n",
       "#sk-container-id-3 {\n",
       "  color: var(--sklearn-color-text);\n",
       "}\n",
       "\n",
       "#sk-container-id-3 pre {\n",
       "  padding: 0;\n",
       "}\n",
       "\n",
       "#sk-container-id-3 input.sk-hidden--visually {\n",
       "  border: 0;\n",
       "  clip: rect(1px 1px 1px 1px);\n",
       "  clip: rect(1px, 1px, 1px, 1px);\n",
       "  height: 1px;\n",
       "  margin: -1px;\n",
       "  overflow: hidden;\n",
       "  padding: 0;\n",
       "  position: absolute;\n",
       "  width: 1px;\n",
       "}\n",
       "\n",
       "#sk-container-id-3 div.sk-dashed-wrapped {\n",
       "  border: 1px dashed var(--sklearn-color-line);\n",
       "  margin: 0 0.4em 0.5em 0.4em;\n",
       "  box-sizing: border-box;\n",
       "  padding-bottom: 0.4em;\n",
       "  background-color: var(--sklearn-color-background);\n",
       "}\n",
       "\n",
       "#sk-container-id-3 div.sk-container {\n",
       "  /* jupyter's `normalize.less` sets `[hidden] { display: none; }`\n",
       "     but bootstrap.min.css set `[hidden] { display: none !important; }`\n",
       "     so we also need the `!important` here to be able to override the\n",
       "     default hidden behavior on the sphinx rendered scikit-learn.org.\n",
       "     See: https://github.com/scikit-learn/scikit-learn/issues/21755 */\n",
       "  display: inline-block !important;\n",
       "  position: relative;\n",
       "}\n",
       "\n",
       "#sk-container-id-3 div.sk-text-repr-fallback {\n",
       "  display: none;\n",
       "}\n",
       "\n",
       "div.sk-parallel-item,\n",
       "div.sk-serial,\n",
       "div.sk-item {\n",
       "  /* draw centered vertical line to link estimators */\n",
       "  background-image: linear-gradient(var(--sklearn-color-text-on-default-background), var(--sklearn-color-text-on-default-background));\n",
       "  background-size: 2px 100%;\n",
       "  background-repeat: no-repeat;\n",
       "  background-position: center center;\n",
       "}\n",
       "\n",
       "/* Parallel-specific style estimator block */\n",
       "\n",
       "#sk-container-id-3 div.sk-parallel-item::after {\n",
       "  content: \"\";\n",
       "  width: 100%;\n",
       "  border-bottom: 2px solid var(--sklearn-color-text-on-default-background);\n",
       "  flex-grow: 1;\n",
       "}\n",
       "\n",
       "#sk-container-id-3 div.sk-parallel {\n",
       "  display: flex;\n",
       "  align-items: stretch;\n",
       "  justify-content: center;\n",
       "  background-color: var(--sklearn-color-background);\n",
       "  position: relative;\n",
       "}\n",
       "\n",
       "#sk-container-id-3 div.sk-parallel-item {\n",
       "  display: flex;\n",
       "  flex-direction: column;\n",
       "}\n",
       "\n",
       "#sk-container-id-3 div.sk-parallel-item:first-child::after {\n",
       "  align-self: flex-end;\n",
       "  width: 50%;\n",
       "}\n",
       "\n",
       "#sk-container-id-3 div.sk-parallel-item:last-child::after {\n",
       "  align-self: flex-start;\n",
       "  width: 50%;\n",
       "}\n",
       "\n",
       "#sk-container-id-3 div.sk-parallel-item:only-child::after {\n",
       "  width: 0;\n",
       "}\n",
       "\n",
       "/* Serial-specific style estimator block */\n",
       "\n",
       "#sk-container-id-3 div.sk-serial {\n",
       "  display: flex;\n",
       "  flex-direction: column;\n",
       "  align-items: center;\n",
       "  background-color: var(--sklearn-color-background);\n",
       "  padding-right: 1em;\n",
       "  padding-left: 1em;\n",
       "}\n",
       "\n",
       "\n",
       "/* Toggleable style: style used for estimator/Pipeline/ColumnTransformer box that is\n",
       "clickable and can be expanded/collapsed.\n",
       "- Pipeline and ColumnTransformer use this feature and define the default style\n",
       "- Estimators will overwrite some part of the style using the `sk-estimator` class\n",
       "*/\n",
       "\n",
       "/* Pipeline and ColumnTransformer style (default) */\n",
       "\n",
       "#sk-container-id-3 div.sk-toggleable {\n",
       "  /* Default theme specific background. It is overwritten whether we have a\n",
       "  specific estimator or a Pipeline/ColumnTransformer */\n",
       "  background-color: var(--sklearn-color-background);\n",
       "}\n",
       "\n",
       "/* Toggleable label */\n",
       "#sk-container-id-3 label.sk-toggleable__label {\n",
       "  cursor: pointer;\n",
       "  display: block;\n",
       "  width: 100%;\n",
       "  margin-bottom: 0;\n",
       "  padding: 0.5em;\n",
       "  box-sizing: border-box;\n",
       "  text-align: center;\n",
       "}\n",
       "\n",
       "#sk-container-id-3 label.sk-toggleable__label-arrow:before {\n",
       "  /* Arrow on the left of the label */\n",
       "  content: \"▸\";\n",
       "  float: left;\n",
       "  margin-right: 0.25em;\n",
       "  color: var(--sklearn-color-icon);\n",
       "}\n",
       "\n",
       "#sk-container-id-3 label.sk-toggleable__label-arrow:hover:before {\n",
       "  color: var(--sklearn-color-text);\n",
       "}\n",
       "\n",
       "/* Toggleable content - dropdown */\n",
       "\n",
       "#sk-container-id-3 div.sk-toggleable__content {\n",
       "  max-height: 0;\n",
       "  max-width: 0;\n",
       "  overflow: hidden;\n",
       "  text-align: left;\n",
       "  /* unfitted */\n",
       "  background-color: var(--sklearn-color-unfitted-level-0);\n",
       "}\n",
       "\n",
       "#sk-container-id-3 div.sk-toggleable__content.fitted {\n",
       "  /* fitted */\n",
       "  background-color: var(--sklearn-color-fitted-level-0);\n",
       "}\n",
       "\n",
       "#sk-container-id-3 div.sk-toggleable__content pre {\n",
       "  margin: 0.2em;\n",
       "  border-radius: 0.25em;\n",
       "  color: var(--sklearn-color-text);\n",
       "  /* unfitted */\n",
       "  background-color: var(--sklearn-color-unfitted-level-0);\n",
       "}\n",
       "\n",
       "#sk-container-id-3 div.sk-toggleable__content.fitted pre {\n",
       "  /* unfitted */\n",
       "  background-color: var(--sklearn-color-fitted-level-0);\n",
       "}\n",
       "\n",
       "#sk-container-id-3 input.sk-toggleable__control:checked~div.sk-toggleable__content {\n",
       "  /* Expand drop-down */\n",
       "  max-height: 200px;\n",
       "  max-width: 100%;\n",
       "  overflow: auto;\n",
       "}\n",
       "\n",
       "#sk-container-id-3 input.sk-toggleable__control:checked~label.sk-toggleable__label-arrow:before {\n",
       "  content: \"▾\";\n",
       "}\n",
       "\n",
       "/* Pipeline/ColumnTransformer-specific style */\n",
       "\n",
       "#sk-container-id-3 div.sk-label input.sk-toggleable__control:checked~label.sk-toggleable__label {\n",
       "  color: var(--sklearn-color-text);\n",
       "  background-color: var(--sklearn-color-unfitted-level-2);\n",
       "}\n",
       "\n",
       "#sk-container-id-3 div.sk-label.fitted input.sk-toggleable__control:checked~label.sk-toggleable__label {\n",
       "  background-color: var(--sklearn-color-fitted-level-2);\n",
       "}\n",
       "\n",
       "/* Estimator-specific style */\n",
       "\n",
       "/* Colorize estimator box */\n",
       "#sk-container-id-3 div.sk-estimator input.sk-toggleable__control:checked~label.sk-toggleable__label {\n",
       "  /* unfitted */\n",
       "  background-color: var(--sklearn-color-unfitted-level-2);\n",
       "}\n",
       "\n",
       "#sk-container-id-3 div.sk-estimator.fitted input.sk-toggleable__control:checked~label.sk-toggleable__label {\n",
       "  /* fitted */\n",
       "  background-color: var(--sklearn-color-fitted-level-2);\n",
       "}\n",
       "\n",
       "#sk-container-id-3 div.sk-label label.sk-toggleable__label,\n",
       "#sk-container-id-3 div.sk-label label {\n",
       "  /* The background is the default theme color */\n",
       "  color: var(--sklearn-color-text-on-default-background);\n",
       "}\n",
       "\n",
       "/* On hover, darken the color of the background */\n",
       "#sk-container-id-3 div.sk-label:hover label.sk-toggleable__label {\n",
       "  color: var(--sklearn-color-text);\n",
       "  background-color: var(--sklearn-color-unfitted-level-2);\n",
       "}\n",
       "\n",
       "/* Label box, darken color on hover, fitted */\n",
       "#sk-container-id-3 div.sk-label.fitted:hover label.sk-toggleable__label.fitted {\n",
       "  color: var(--sklearn-color-text);\n",
       "  background-color: var(--sklearn-color-fitted-level-2);\n",
       "}\n",
       "\n",
       "/* Estimator label */\n",
       "\n",
       "#sk-container-id-3 div.sk-label label {\n",
       "  font-family: monospace;\n",
       "  font-weight: bold;\n",
       "  display: inline-block;\n",
       "  line-height: 1.2em;\n",
       "}\n",
       "\n",
       "#sk-container-id-3 div.sk-label-container {\n",
       "  text-align: center;\n",
       "}\n",
       "\n",
       "/* Estimator-specific */\n",
       "#sk-container-id-3 div.sk-estimator {\n",
       "  font-family: monospace;\n",
       "  border: 1px dotted var(--sklearn-color-border-box);\n",
       "  border-radius: 0.25em;\n",
       "  box-sizing: border-box;\n",
       "  margin-bottom: 0.5em;\n",
       "  /* unfitted */\n",
       "  background-color: var(--sklearn-color-unfitted-level-0);\n",
       "}\n",
       "\n",
       "#sk-container-id-3 div.sk-estimator.fitted {\n",
       "  /* fitted */\n",
       "  background-color: var(--sklearn-color-fitted-level-0);\n",
       "}\n",
       "\n",
       "/* on hover */\n",
       "#sk-container-id-3 div.sk-estimator:hover {\n",
       "  /* unfitted */\n",
       "  background-color: var(--sklearn-color-unfitted-level-2);\n",
       "}\n",
       "\n",
       "#sk-container-id-3 div.sk-estimator.fitted:hover {\n",
       "  /* fitted */\n",
       "  background-color: var(--sklearn-color-fitted-level-2);\n",
       "}\n",
       "\n",
       "/* Specification for estimator info (e.g. \"i\" and \"?\") */\n",
       "\n",
       "/* Common style for \"i\" and \"?\" */\n",
       "\n",
       ".sk-estimator-doc-link,\n",
       "a:link.sk-estimator-doc-link,\n",
       "a:visited.sk-estimator-doc-link {\n",
       "  float: right;\n",
       "  font-size: smaller;\n",
       "  line-height: 1em;\n",
       "  font-family: monospace;\n",
       "  background-color: var(--sklearn-color-background);\n",
       "  border-radius: 1em;\n",
       "  height: 1em;\n",
       "  width: 1em;\n",
       "  text-decoration: none !important;\n",
       "  margin-left: 1ex;\n",
       "  /* unfitted */\n",
       "  border: var(--sklearn-color-unfitted-level-1) 1pt solid;\n",
       "  color: var(--sklearn-color-unfitted-level-1);\n",
       "}\n",
       "\n",
       ".sk-estimator-doc-link.fitted,\n",
       "a:link.sk-estimator-doc-link.fitted,\n",
       "a:visited.sk-estimator-doc-link.fitted {\n",
       "  /* fitted */\n",
       "  border: var(--sklearn-color-fitted-level-1) 1pt solid;\n",
       "  color: var(--sklearn-color-fitted-level-1);\n",
       "}\n",
       "\n",
       "/* On hover */\n",
       "div.sk-estimator:hover .sk-estimator-doc-link:hover,\n",
       ".sk-estimator-doc-link:hover,\n",
       "div.sk-label-container:hover .sk-estimator-doc-link:hover,\n",
       ".sk-estimator-doc-link:hover {\n",
       "  /* unfitted */\n",
       "  background-color: var(--sklearn-color-unfitted-level-3);\n",
       "  color: var(--sklearn-color-background);\n",
       "  text-decoration: none;\n",
       "}\n",
       "\n",
       "div.sk-estimator.fitted:hover .sk-estimator-doc-link.fitted:hover,\n",
       ".sk-estimator-doc-link.fitted:hover,\n",
       "div.sk-label-container:hover .sk-estimator-doc-link.fitted:hover,\n",
       ".sk-estimator-doc-link.fitted:hover {\n",
       "  /* fitted */\n",
       "  background-color: var(--sklearn-color-fitted-level-3);\n",
       "  color: var(--sklearn-color-background);\n",
       "  text-decoration: none;\n",
       "}\n",
       "\n",
       "/* Span, style for the box shown on hovering the info icon */\n",
       ".sk-estimator-doc-link span {\n",
       "  display: none;\n",
       "  z-index: 9999;\n",
       "  position: relative;\n",
       "  font-weight: normal;\n",
       "  right: .2ex;\n",
       "  padding: .5ex;\n",
       "  margin: .5ex;\n",
       "  width: min-content;\n",
       "  min-width: 20ex;\n",
       "  max-width: 50ex;\n",
       "  color: var(--sklearn-color-text);\n",
       "  box-shadow: 2pt 2pt 4pt #999;\n",
       "  /* unfitted */\n",
       "  background: var(--sklearn-color-unfitted-level-0);\n",
       "  border: .5pt solid var(--sklearn-color-unfitted-level-3);\n",
       "}\n",
       "\n",
       ".sk-estimator-doc-link.fitted span {\n",
       "  /* fitted */\n",
       "  background: var(--sklearn-color-fitted-level-0);\n",
       "  border: var(--sklearn-color-fitted-level-3);\n",
       "}\n",
       "\n",
       ".sk-estimator-doc-link:hover span {\n",
       "  display: block;\n",
       "}\n",
       "\n",
       "/* \"?\"-specific style due to the `<a>` HTML tag */\n",
       "\n",
       "#sk-container-id-3 a.estimator_doc_link {\n",
       "  float: right;\n",
       "  font-size: 1rem;\n",
       "  line-height: 1em;\n",
       "  font-family: monospace;\n",
       "  background-color: var(--sklearn-color-background);\n",
       "  border-radius: 1rem;\n",
       "  height: 1rem;\n",
       "  width: 1rem;\n",
       "  text-decoration: none;\n",
       "  /* unfitted */\n",
       "  color: var(--sklearn-color-unfitted-level-1);\n",
       "  border: var(--sklearn-color-unfitted-level-1) 1pt solid;\n",
       "}\n",
       "\n",
       "#sk-container-id-3 a.estimator_doc_link.fitted {\n",
       "  /* fitted */\n",
       "  border: var(--sklearn-color-fitted-level-1) 1pt solid;\n",
       "  color: var(--sklearn-color-fitted-level-1);\n",
       "}\n",
       "\n",
       "/* On hover */\n",
       "#sk-container-id-3 a.estimator_doc_link:hover {\n",
       "  /* unfitted */\n",
       "  background-color: var(--sklearn-color-unfitted-level-3);\n",
       "  color: var(--sklearn-color-background);\n",
       "  text-decoration: none;\n",
       "}\n",
       "\n",
       "#sk-container-id-3 a.estimator_doc_link.fitted:hover {\n",
       "  /* fitted */\n",
       "  background-color: var(--sklearn-color-fitted-level-3);\n",
       "}\n",
       "</style><div id=\"sk-container-id-3\" class=\"sk-top-container\"><div class=\"sk-text-repr-fallback\"><pre>AgglomerativeClustering(distance_threshold=0, linkage=&#x27;single&#x27;, n_clusters=None)</pre><b>In a Jupyter environment, please rerun this cell to show the HTML representation or trust the notebook. <br />On GitHub, the HTML representation is unable to render, please try loading this page with nbviewer.org.</b></div><div class=\"sk-container\" hidden><div class=\"sk-item\"><div class=\"sk-estimator fitted sk-toggleable\"><input class=\"sk-toggleable__control sk-hidden--visually\" id=\"sk-estimator-id-3\" type=\"checkbox\" checked><label for=\"sk-estimator-id-3\" class=\"sk-toggleable__label fitted sk-toggleable__label-arrow fitted\">&nbsp;&nbsp;AgglomerativeClustering<a class=\"sk-estimator-doc-link fitted\" rel=\"noreferrer\" target=\"_blank\" href=\"https://scikit-learn.org/1.5/modules/generated/sklearn.cluster.AgglomerativeClustering.html\">?<span>Documentation for AgglomerativeClustering</span></a><span class=\"sk-estimator-doc-link fitted\">i<span>Fitted</span></span></label><div class=\"sk-toggleable__content fitted\"><pre>AgglomerativeClustering(distance_threshold=0, linkage=&#x27;single&#x27;, n_clusters=None)</pre></div> </div></div></div></div>"
      ],
      "text/plain": [
       "AgglomerativeClustering(distance_threshold=0, linkage='single', n_clusters=None)"
      ]
     },
     "execution_count": 325,
     "metadata": {},
     "output_type": "execute_result"
    }
   ],
   "source": [
    "import numpy as np\n",
    "from scipy.cluster.hierarchy import dendrogram\n",
    "from sklearn.cluster import AgglomerativeClustering\n",
    "\n",
    "# setting distance_threshold=0 ensures we compute the full tree.\n",
    "model = AgglomerativeClustering(distance_threshold=0, n_clusters=None, linkage='single')#, metric='cosine')\n",
    "model.fit(cluster_centers)"
   ]
  },
  {
   "cell_type": "code",
   "execution_count": 326,
   "id": "d68ed84e-1550-4ccd-afb2-3cc63d5624d1",
   "metadata": {},
   "outputs": [],
   "source": [
    "# children_array-like of shape (n_samples-1, 2)\n",
    "#     The children of each non-leaf node. \n",
    "#     Values less than n_samples correspond to leaves of the tree which are the original samples. \n",
    "#     A node i greater than or equal to n_samples is a non-leaf node and has children children_[i - n_samples]. \n",
    "#     Alternatively at the i-th iteration, children[i][0] and children[i][1] are merged to form node n_samples + i.\n",
    "\n",
    "# distances_array-like of shape (n_nodes-1,)\n",
    "#     Distances between nodes in the corresponding place in children_. \n",
    "#     Only computed if distance_threshold is used or compute_distances is set to True."
   ]
  },
  {
   "cell_type": "code",
   "execution_count": 327,
   "id": "18cab46a-c81d-44ea-88a2-4f0134ef62f1",
   "metadata": {},
   "outputs": [],
   "source": [
    "# Build counts and linkage_matrix\n",
    "counts = np.zeros(model.children_.shape[0])\n",
    "n_samples = len(model.labels_)\n",
    "for i, merge in enumerate(model.children_):\n",
    "    current_count = 0\n",
    "    for child_idx in merge:\n",
    "        if child_idx < n_samples:\n",
    "            current_count += 1  # leaf node\n",
    "        else:\n",
    "            current_count += counts[child_idx - n_samples]\n",
    "    counts[i] = current_count\n",
    "\n",
    "linkage_matrix = np.column_stack([model.children_, model.distances_, counts]).astype(float)\n",
    "\n",
    "# Initialize dictionaries\n",
    "node_samples = {}\n",
    "node_summaries = {}"
   ]
  },
  {
   "cell_type": "code",
   "execution_count": 328,
   "id": "cd2f5c98-9d72-4b4b-9fb9-8d2c9a43433a",
   "metadata": {},
   "outputs": [],
   "source": [
    "# Get node IDs and their corresponding heights (distances)\n",
    "node_ids = range(n_samples, linkage_matrix.shape[0] + n_samples)\n",
    "heights = linkage_matrix[:, 2]  # distances\n",
    "node_heights = list(zip(node_ids, heights))\n",
    "\n",
    "# Sort nodes by their heights (from lowest to highest)\n",
    "node_heights_sorted = sorted(node_heights, key=lambda x: x[1])"
   ]
  },
  {
   "cell_type": "code",
   "execution_count": 329,
   "id": "13e3f237-e159-4247-8183-ccba6c0bb2ca",
   "metadata": {},
   "outputs": [],
   "source": [
    "INNER_NODE_PROMPT = \"\"\"\n",
    "You are a helpful assistant. I will give you a two labels I wrote.\n",
    "\n",
    "Here are the labels:\n",
    "\n",
    "{labels}\n",
    "\n",
    "Please condense them into a single, specific label, focusing on their commonalities. \n",
    "Be as concise as possible! Avoid words like \"Extensive\", \"Comprehensive\", and \"Holistic\". \n",
    "Focus on the narrative role of the source, less on specific industries or topics they might cover.\n",
    "Please return just one 2-3 word label and one description. Make it in the same format as the input labels.\n",
    "\"\"\""
   ]
  },
  {
   "cell_type": "code",
   "execution_count": 330,
   "id": "7d6e38a0-b334-48a1-a2c0-821706e47ac3",
   "metadata": {},
   "outputs": [
    {
     "data": {
      "application/vnd.jupyter.widget-view+json": {
       "model_id": "5c608a29cbca40928a9d5f4e9be0663d",
       "version_major": 2,
       "version_minor": 0
      },
      "text/plain": [
       "  0%|          | 0/1023 [00:00<?, ?it/s]"
      ]
     },
     "metadata": {},
     "output_type": "display_data"
    }
   ],
   "source": [
    "# Loop over all non-leaf nodes from the lowest upwards\n",
    "for node_id, _ in tqdm(node_heights_sorted):\n",
    "    children = get_immediate_children(node_id)\n",
    "    labels = []\n",
    "    for child_id in children:\n",
    "        if child_id < n_samples:\n",
    "            label = child_node_summaries[child_id]\n",
    "        else:\n",
    "            label = node_summaries[child_id]\n",
    "        labels.append(label)\n",
    "    labels_str = '\\n'.join(labels)\n",
    "    prompt = INNER_NODE_PROMPT.format(labels=labels_str)\n",
    "    output = call_openai_completions(prompt=prompt)\n",
    "    node_summaries[node_id] = output"
   ]
  },
  {
   "cell_type": "code",
   "execution_count": 331,
   "id": "83ded8ba-9b2d-4e9d-bb97-6cf5a14e8419",
   "metadata": {},
   "outputs": [
    {
     "name": "stdout",
     "output_type": "stream",
     "text": [
      "- Node 2046: Label: \"Critical Analysis\"\n",
      "\n",
      "Description: Provides context and depth to enhance understanding.\n",
      "    - Node 2045: Label: \"Comparative Insights\"\n",
      "\n",
      "Description: Offers critical analysis and context to enhance the article's depth and understanding.\n",
      "        - Node 2044: Label: \"Informed Perspectives\"\n",
      "\n",
      "Description: Provides comparative insights and critical analysis to deepen the article's context and understanding.\n",
      "            - Node 2043: Label: \"Contextual Comparisons\"\n",
      "\n",
      "Description: Highlights diverse viewpoints and underlying factors to enrich understanding and context within the article.\n",
      "                - Node 1576: Label: \"Balanced Perspectives\"\n",
      "\n",
      "Description: Sources providing varied views to enhance understanding through balanced comparisons or contrasting points.\n",
      "                    - Node 1573: Label: \"Diverse Views\"\n",
      "\n",
      "Description: Sources providing varied perspectives to enhance understanding through balanced comparisons or contrasting points.\n",
      "                        - Node 1568: Label: \"Diverse Comparisons\"\n",
      "\n",
      "Description: Sources offering varied perspectives and detailed context to facilitate balanced understanding through comprehensive comparisons.\n",
      "                            - Node 1542: Label: \"Contrasting Perspectives\"\n",
      "\n",
      "Description: Sources providing diverse viewpoints and in-depth context, highlighting controversies for a balanced understanding.\n",
      "                                - Node 1518: Label: \"Diverse Viewpoints\"\n",
      "\n",
      "Description: Sources offering contrasting perspectives and in-depth context, highlighting controversies to provide a well-rounded understanding.\n",
      "                                    - Node 1484: Label: \"Alternative Perspectives\"\n",
      "\n",
      "Description: Sources offering multiple viewpoints and in-depth context to compare and contrast with main actors, highlighting controversies and providing a well-rounded understanding.\n"
     ]
    }
   ],
   "source": [
    "def print_tree(node_id, level=0, max_nodes=None, nodes_printed=[0]):\n",
    "    if max_nodes is not None and nodes_printed[0] >= max_nodes:\n",
    "        return\n",
    "    indent = '    ' * level\n",
    "    summary = node_summaries.get(node_id, \"No summary available\")\n",
    "    print(f\"{indent}- Node {node_id}: {summary}\")\n",
    "    nodes_printed[0] += 1\n",
    "    if node_id < n_samples:\n",
    "        # Leaf node; no further traversal\n",
    "        return\n",
    "    # Get immediate children\n",
    "    children = get_immediate_children(node_id)\n",
    "    for child_id in children:\n",
    "        if max_nodes is not None and nodes_printed[0] >= max_nodes:\n",
    "            return\n",
    "        print_tree(child_id, level + 1, max_nodes, nodes_printed)\n",
    "\n",
    "# Number of nodes to print\n",
    "k = 10  # You can set k to any integer value you prefer\n",
    "# Start from the root node (the last node formed in the clustering)\n",
    "root_node_id = 2 * n_samples - 2  # This is the ID of the root node\n",
    "\n",
    "# Call the function to print the tree\n",
    "print_tree(root_node_id, max_nodes=k)"
   ]
  },
  {
   "cell_type": "code",
   "execution_count": 335,
   "id": "ddbc3195-8be6-4655-9358-0ba0b506cf6f",
   "metadata": {},
   "outputs": [
    {
     "name": "stdout",
     "output_type": "stream",
     "text": [
      "-------------------------------------------\n",
      "Nodes and depth: 12\n",
      "-------------------------------------------\n",
      "\n",
      "Node 1464: Label: \"Comparative Analysis\"\n",
      "\n",
      "Description: Sources offering multiple perspectives to highlight controversies and provide balanced understanding through comparisons.\n",
      "\n",
      "Node 365: No summary available\n",
      "\n",
      "Node 76: No summary available\n",
      "\n",
      "Node 89: No summary available\n",
      "\n",
      "Node 2034: **Label: Guidance Sources**\n",
      "\n",
      "**Description: Narratives and data highlighting inspirations, ethical considerations, job markets, career opportunities, and expertise from recognized authorities.**\n",
      "\n",
      "Node 1628: \"Key Narrative Source\": This source provides pivotal details and updates that shape the storyline, representing essential entities and their actions or promotional offerings on social issues and special events.\n",
      "\n",
      "Node 1320: \"Context Source\": These sources provide background information and broader connections that enhance understanding and situate content within a broader framework.\n",
      "\n",
      "Node 1082: \"COVID-19 Insight Providers\": These sources offer essential background information, statistics, and updates, covering health, societal, economic impacts, government responses, vaccine development, and healthcare policies related to the COVID-19 pandemic.\n",
      "\n",
      "Node 1523: Label: \"Narrative Shaping\"\n",
      "\n",
      "Description: Investigates how policies, media, and real-world examples influence global narratives, combat misinformation, and address societal, cybersecurity, and privacy challenges.\n",
      "\n",
      "Node 15: No summary available\n",
      "\n"
     ]
    }
   ],
   "source": [
    "# Set the desired depth level to collect nodes\n",
    "k = 12  # Change this to your desired depth level\n",
    "\n",
    "# Identify the root node ID and collect all nodes at depth k\n",
    "root_node_id = 2 * n_samples - 2  # Root node ID for hierarchical clustering\n",
    "nodes_at_depth_k = collect_nodes_at_depth_k(root_node_id, target_level=k)\n",
    "\n",
    "# Now, print the summaries of all nodes at depth k\n",
    "print('-------------------------------------------')\n",
    "print(f'Nodes and depth: {k}')\n",
    "print('-------------------------------------------')\n",
    "print()\n",
    "for node_id in nodes_at_depth_k:\n",
    "    summary = node_summaries.get(node_id, \"No summary available\")\n",
    "    # print(f\"Node {node_id}: {summary[:200]}...\")\n",
    "    print(f\"Node {node_id}: {summary}\")\n",
    "    print()"
   ]
  },
  {
   "cell_type": "code",
   "execution_count": 306,
   "id": "2978ab2a-7cc0-4328-85be-7015f92ac340",
   "metadata": {},
   "outputs": [],
   "source": [
    "# Build the parent mapping\n",
    "parent_dict = build_parent_dict()"
   ]
  },
  {
   "cell_type": "code",
   "execution_count": 307,
   "id": "fcdb30fa-bff9-4815-ae99-6a1a68e025d4",
   "metadata": {},
   "outputs": [
    {
     "name": "stdout",
     "output_type": "stream",
     "text": [
      "-------------------------------------------\n",
      "Tracing from leaf node 100 to root:\n",
      "-------------------------------------------\n",
      "\n",
      "Node 100: \"Primary Source\": This source is used to provide primary information about the company's compensation packages, financial data, and business decisions.\n",
      "       |\n",
      "       v\n",
      "\n",
      "Node 1833: \"Initiatives and Innovations\": This collective group of labels thoroughly documents an array of proposals, strategic goals, innovative advancements, and development efforts spanning various sectors such as technology, healthcare, labor, economy, environment, and governance. It encompasses the introduction of new initiatives and strategic objectives, as well as highlighting forward-thinking and creative solutions, significant progress, new corporate appointments, product innovations, policy changes, and future plans across multiple industries.\n",
      "       |\n",
      "       v\n",
      "\n",
      "Node 1927: \"Innovations and Transitions Summary Label: This source covers topics related to the introduction of new ideas, strategic objectives, and significant advancements across various sectors, as well as facilitating transitions within the article by bridging different topics, sections, or ideas.\"\n",
      "       |\n",
      "       v\n",
      "\n",
      "Node 1957: \"Comprehensive Contextual and Transitional Reference Sources\": This all-encompassing label combines foundational knowledge, philosophical insights, and theoretical frameworks with summaries of innovations and strategic advancements. It provides deep understanding and diverse perspectives to enrich discussions, contextualize ideas, and connect different sections within an article. It serves as a bridge between various topics, facilitating transitions and offering depth across disciplines, from social media and economics to design and social issues, enhancing decisions, creative works, and campaigns.\n",
      "       |\n",
      "       v\n",
      "\n",
      "Node 1983: \"Holistic Insight and Trend Synthesis Sources\": This encompassing label integrates in-depth foundational knowledge, theoretical frameworks, and philosophical viewpoints with practical summaries of innovations and strategies across various fields. Additionally, it provides detailed market and media analyses, including personal reviews, opinions, speculative information, and demographic trends. This label bridges multiple disciplines and topics, offering comprehensive understanding, facilitating seamless transitions, and enriching decision-making processes, creative works, media reports, and market predictions. It maps out a broad and interconnected landscape from social media and economics to design and social issues, identifying key trends and future developments.\n",
      "       |\n",
      "       v\n",
      "\n",
      "Node 1990: \"Comprehensive Coverage of Key Personalities and Trends\": This label summarizes the articles' main subjects and essential components, focusing on notable individuals, their actions, roles, and perspectives across various fields such as politics, technology, entertainment, business, and social issues. It integrates in-depth knowledge, theoretical frameworks, market and media analyses, and demographic trends, offering a holistic view that aids decision-making, creative works, media reports, and market predictions.\n",
      "       |\n",
      "       v\n",
      "\n",
      "Node 1998: \"Comprehensive Analysis and Contextual Reporting\": This category integrates essential elements and in-depth coverage to deliver a thorough and multifaceted understanding of subjects. It combines foundational background information, influential personalities, theoretical frameworks, trend analyses, and key actions across diverse fields. This holistic approach supports the creation of immersive and informative reports that aid decision-making, creativity, media analysis, and market predictions, ensuring a rich and engaging experience for the audience.\n",
      "       |\n",
      "       v\n",
      "\n",
      "Node 2015: \"Detailed and Human-Centric Reporting\": This label encompasses sources that blend individual narratives, comprehensive analysis, and contextual reporting. These sources aim to humanize stories with personal experiences while providing in-depth, multifaceted coverage that includes background information, key figures, theoretical insights, and trend analyses. This combined approach ensures an engaging and thorough understanding of events and issues, enhancing both emotional connection and analytical depth.\n",
      "       |\n",
      "       v\n",
      "\n",
      "Node 2018: \"Comprehensive and In-Depth Event and Human Story Reporting\": This category synthesizes sources that provide thorough background information, detailed reports, and extensive data about significant events, combined with personal narratives and contextual analysis. It covers broad event-related topics including competitions, policies, festivals, and more, offering detailed insights on participants and logistics, while also blending human-centric reporting to enhance emotional connection and analytical depth through individual experiences, theoretical insights, and trend analyses, ensuring a complete and engaging understanding of events and stories.\n",
      "\n",
      "       |\n",
      "       v\n",
      "\n",
      "Node 2023: \"Holistic Contextual and Human-Centric Reporting Resources\": These sources provide extensive illustrative support including examples, legal precedents, real-world cases, and visual aids to deepen understanding and support arguments across various fields. They also combine in-depth event reporting with personal narratives and contextual analysis, offering detailed insights, emotional connections, and theoretical perspectives to ensure a comprehensive and engaging understanding of diverse topics.\n",
      "       |\n",
      "       v\n",
      "\n",
      "Node 2033: \"Comprehensive and Multidimensional Reporting and Validation Resources\": These sources and frameworks emphasize the integration of illustrative support, personal narratives, empirical evidence, expert insights, public sentiment, and contextual analysis. They provide a systematic approach to collecting, analyzing, and evaluating diverse information, enhancing understanding, credibility, and reliability across various fields through detailed insights and thorough evidence-based validation.\n",
      "       |\n",
      "       v\n",
      "\n",
      "Node 2037: \"Integrated Analytical Framework for Multi-Disciplinary Stakeholder Engagement and Evidence-Based Reporting\": This label encapsulates the systematic collection, analysis, and validation of diverse, authoritative data and expert insights. It emphasizes the roles of key actors and influential entities across global political, economic, social, and environmental sectors, offering strategic policy implementation and community engagement resources. By integrating empirical evidence, illustrative support, personal narratives, regulatory information, and public sentiment, this category aims to foster informed, participatory discussions on critical issues such as human rights, climate change, public health, cybersecurity, and systemic racism, thereby enhancing understanding, credibility, and impactful stakeholder collaboration.\n",
      "       |\n",
      "       v\n",
      "\n",
      "Node 2040: \"Holistic Corporate and Societal Reporting with Expert Insights and Stakeholder Engagement\": This category combines comprehensive, expert-led corporate journalism with multidisciplinary stakeholder analysis and evidence-based reporting. It features detailed investigative articles with strategic viewpoints from high-ranking officials, addressing a wide range of topics like finance, technology, health, and environmental issues. The focus is on providing nuanced understandings of corporate and societal dynamics, industry challenges, policy changes, and sector-specific examinations. It also integrates diverse, authoritative data, regulatory information, and personal narratives to foster informed public discussions and enhance stakeholder collaboration on critical issues such as human rights, climate change, public health, cybersecurity, and systemic racism. The goal is to equip stakeholders with trusted, well-rounded knowledge vital for informed decision-making and public awareness across multiple sectors.\n",
      "       |\n",
      "       v\n",
      "\n",
      "Node 2041: \"Comprehensive and Engaging Stakeholder Information and Analysis Platform\": This extensive platform merges in-depth, reliable data and expert analysis from multiple domains, such as economics, technology, health, and corporate dynamics, with rigorous stakeholder engagement and evidence-based insights. It provides a robust repository of investigative articles, strategic viewpoints, regulatory information, and personal narratives. Designed to foster informed discussions and decision-making, this platform addresses critical issues like climate change, cybersecurity, public health, and human rights, facilitating collaboration and enhancing public awareness across various sectors.\n",
      "       |\n",
      "       v\n",
      "\n",
      "Node 2042: \"Integrated Global Response Analysis and Stakeholder Engagement Platform\": This comprehensive label unites the examination of worldwide reactions to the COVID-19 pandemic in terms of sociopolitical, technological, and economic aspects, with a platform that offers reliable data and expert analysis across multiple domains. It includes detailed studies of political policies, corporate strategies, hybrid work models, emerging technologies, and sector-specific market trends. The label also encompasses insights into industry metrics, financial data, and broader competitive landscapes to support informed strategic decisions. Furthermore, it merges investigative articles, regulatory information, and personal stories designed to enhance stakeholder engagement and public awareness on critical global issues, fostering collaboration on topics like climate change, cybersecurity, public health, and human rights.\n",
      "       |\n",
      "       v\n",
      "\n",
      "Node 2043: \"Holistic Expert and Stakeholder Analysis for Global Challenges\": This unified source provides a comprehensive synthesis of expert insights, stakeholder engagement, and thorough analyses across a broad range of fields. It covers health, science, economics, and more, emphasizing the multifaceted global responses to issues like COVID-19, climate change, and cybersecurity. By integrating detailed data, regulatory insights, and personal narratives, it supports informed decision-making and fosters collaboration among professionals, policymakers, and the public, offering a deep, nuanced understanding of critical global challenges.\n",
      "       |\n",
      "       v\n",
      "\n",
      "Node 2044: \"Comprehensive Informational Synthesis\": This label represents a holistic approach to gathering and presenting information from key individuals, expert analyses, and stakeholder engagements across various fields. It integrates crucial insights, regulatory perspectives, and personal narratives to provide a deep, nuanced understanding of critical global challenges and support informed decision-making. This synthesis covers diverse topics such as health, science, economics, corporate activities, and socio-political matters, fostering collaboration among professionals, policymakers, and the public.\n",
      "       |\n",
      "       v\n",
      "\n",
      "Node 2045: \n",
      "\"Label: In-Depth Global, Economic, and Societal Analysis and Synthesis\"\n",
      "\"Description\": This label includes extensive background information and thorough analyses on global, economic, and societal dynamics, offering detailed insights into company actions, market trends, industry conditions, regulatory impacts, financial data, political stances, and broader societal issues. Topics covered range from DEI matters, labor trends, legal frameworks, legislative changes, sustainability, technology, climate change, and significant events such as the impact of COVID-19 on various industries. It provides enriched perspectives, historical context, and implications for insightful reporting. This resource also represents a comprehensive approach to integrating information from key individuals, expert analyses, and stakeholder engagements across different fields. It fosters a deep, nuanced understanding of critical global challenges, supporting informed decision-making by combining diverse insights, regulatory perspectives, and personal narratives.\n",
      "       |\n",
      "       v\n",
      "\n",
      "Node 2046: \"Label: Comprehensive Global Industry, Economic, and Societal Analysis\"\n",
      "\"Description\": This label encompasses detailed evaluations and strategic reviews across multiple sectors, providing rich insights on financial performance, market positioning, regulatory impacts, company actions, market trends, and broader societal issues. By incorporating expert opinions, historical context, and diverse perspectives, it covers global economic dynamics, DEI matters, labor trends, legal frameworks, legislative changes, sustainability, technology, climate change, and significant events such as the impact of COVID-19. This resource fosters a nuanced and informed understanding of critical global challenges through a thorough synthesis of perspectives from key individuals, expert analyses, and stakeholder engagements.\n",
      "       |\n",
      "       v\n",
      "\n"
     ]
    }
   ],
   "source": [
    "# Choose a leaf node ID to trace (must be less than n_samples)\n",
    "leaf_node_id = 100  # Replace this with the actual leaf node ID you want to trace\n",
    "\n",
    "# Trace the path from the leaf node to the root\n",
    "path = trace_leaf_to_root(leaf_node_id, parent_dict)\n",
    "\n",
    "# Optionally, print the summaries along the path\n",
    "print('-------------------------------------------')\n",
    "print(f\"Tracing from leaf node {leaf_node_id} to root:\")\n",
    "print('-------------------------------------------')\n",
    "print()\n",
    "\n",
    "for node_id in path:\n",
    "    if node_id < n_samples:\n",
    "        # Leaf node; get the original text from the DataFrame\n",
    "        summary = source_df.iloc[node_id]['Narrative Function']\n",
    "    else:\n",
    "        # Non-leaf node; get the summary from node_summaries\n",
    "        summary = node_summaries.get(node_id, \"No summary available\")\n",
    "    print(f\"Node {node_id}: {summary}\")\n",
    "    print('       |')\n",
    "    print('       v')\n",
    "    print()"
   ]
  },
  {
   "cell_type": "code",
   "execution_count": null,
   "id": "e5b3c8cb-4728-4a4d-8831-be22330e1659",
   "metadata": {},
   "outputs": [],
   "source": []
  },
  {
   "cell_type": "code",
   "execution_count": null,
   "id": "52c96731-41d3-4e55-a50d-17c85f49368f",
   "metadata": {},
   "outputs": [],
   "source": []
  },
  {
   "cell_type": "code",
   "execution_count": null,
   "id": "1baa568c-a412-4ecc-90c8-32244f8c555b",
   "metadata": {},
   "outputs": [],
   "source": []
  }
 ],
 "metadata": {
  "kernelspec": {
   "display_name": "Python 3 (ipykernel)",
   "language": "python",
   "name": "python3"
  },
  "language_info": {
   "codemirror_mode": {
    "name": "ipython",
    "version": 3
   },
   "file_extension": ".py",
   "mimetype": "text/x-python",
   "name": "python",
   "nbconvert_exporter": "python",
   "pygments_lexer": "ipython3",
   "version": "3.12.2"
  }
 },
 "nbformat": 4,
 "nbformat_minor": 5
}

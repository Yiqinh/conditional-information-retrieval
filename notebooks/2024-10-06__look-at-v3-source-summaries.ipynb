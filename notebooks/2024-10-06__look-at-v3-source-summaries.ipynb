{
 "cells": [
  {
   "cell_type": "code",
   "execution_count": 45,
   "id": "9f70b229-50ea-45ba-aadb-18f774729ccd",
   "metadata": {},
   "outputs": [],
   "source": [
    "import pandas as pd \n",
    "import glob\n",
    "import jsonlines\n",
    "import json\n",
    "import re\n",
    "import logging\n",
    "from tqdm.auto import tqdm"
   ]
  },
  {
   "cell_type": "code",
   "execution_count": 23,
   "id": "d46f944c-27bf-4b39-b541-93967a9ab534",
   "metadata": {},
   "outputs": [],
   "source": [
    "all_summary_files = glob.glob('../data/v3_sources/v3_source_summaries/*summaries*')\n",
    "all_centrality_files = glob.glob('../data/v3_sources/v3_source_summaries/*centrality*')\n",
    "all_discourse_files = glob.glob('../data/v3_sources/v3_source_summaries/*narrative-keyword*')"
   ]
  },
  {
   "cell_type": "code",
   "execution_count": 138,
   "id": "40e900db-e3c3-4934-8354-36ee127fa45b",
   "metadata": {},
   "outputs": [],
   "source": [
    "def robust_read_jsonlist(f):\n",
    "    all_lines = []\n",
    "    for line in open(f, encoding='utf-8'):\n",
    "        try:\n",
    "            all_lines.append(json.loads(line))\n",
    "        except:\n",
    "            print('error')\n",
    "    return pd.DataFrame(all_lines, columns=['url', 'response'])\n",
    "\n",
    "\n",
    "def robust_parse_narr_json_str(t):\n",
    "    t = t.replace(']','').replace('[','').replace('`', '').strip()\n",
    "    t2_chunks = re.split(r'\\},\\s+\\{', t)\n",
    "    \n",
    "    all_ds = []\n",
    "    for t2 in t2_chunks:\n",
    "        d = {}\n",
    "        t3_chunks = t2.replace('{', '').replace('}', '').strip().split('\\n')\n",
    "        for t3 in t3_chunks:\n",
    "            for k in keys:\n",
    "                if 'Name' in t3:\n",
    "                    d['Name'] = t3.replace('\"Name\":', '').strip().removeprefix('\"').removesuffix('\",')\n",
    "                if 'Narrative Function' in t3:\n",
    "                    d['Narrative Function'] = t3.replace('\"Narrative Function\":', '').strip()\n",
    "        all_ds.append(d)\n",
    "    return all_ds\n",
    "    \n",
    "\n",
    "def robust_extract_json_str(lm_string):\n",
    "    if not lm_string:\n",
    "        return None\n",
    "    # Use regular expressions to search for list brackets across multiple lines\n",
    "    match = re.search(r'\\[.*?\\]', lm_string, re.DOTALL)\n",
    "    if match:\n",
    "        lm_string = match.group(0)\n",
    "    try:\n",
    "        return json.loads(lm_string)\n",
    "    except:\n",
    "        try:\n",
    "            return ast.literal_eval(lm_string)\n",
    "        except:\n",
    "            pass\n",
    "    # logging.error(f\"Could not extract json string from: {lm_string}\")\n",
    "    return []"
   ]
  },
  {
   "cell_type": "code",
   "execution_count": 139,
   "id": "8742560c-d25e-4c26-bd77-60dbe3229c68",
   "metadata": {
    "scrolled": true
   },
   "outputs": [
    {
     "data": {
      "application/vnd.jupyter.widget-view+json": {
       "model_id": "8df5fe746eae4ddf86027f315ee441b1",
       "version_major": 2,
       "version_minor": 0
      },
      "text/plain": [
       "  0%|          | 0/489 [00:00<?, ?it/s]"
      ]
     },
     "metadata": {},
     "output_type": "display_data"
    },
    {
     "name": "stdout",
     "output_type": "stream",
     "text": [
      "error\n"
     ]
    },
    {
     "data": {
      "application/vnd.jupyter.widget-view+json": {
       "model_id": "b6a6c0a2fc9145aa9ffcb839c6c8c011",
       "version_major": 2,
       "version_minor": 0
      },
      "text/plain": [
       "  0%|          | 0/485 [00:00<?, ?it/s]"
      ]
     },
     "metadata": {},
     "output_type": "display_data"
    },
    {
     "data": {
      "application/vnd.jupyter.widget-view+json": {
       "model_id": "acdafee0342945b98670fcff041a2012",
       "version_major": 2,
       "version_minor": 0
      },
      "text/plain": [
       "  0%|          | 0/482 [00:00<?, ?it/s]"
      ]
     },
     "metadata": {},
     "output_type": "display_data"
    }
   ],
   "source": [
    "all_summs = []\n",
    "for f in tqdm(all_summary_files):\n",
    "    all_summ_df = (\n",
    "        robust_read_jsonlist(f)\n",
    "        .assign(source_summaries=lambda df: df['response'].apply(robust_extract_json_str))\n",
    "    )\n",
    "    all_summs.append(all_summ_df)\n",
    "\n",
    "all_discourse = []\n",
    "for f in tqdm(all_discourse_files):\n",
    "    all_disc_df = (\n",
    "        robust_read_jsonlist(f)\n",
    "        .assign(source_discourse=lambda df: df['response'].apply(robust_parse_narr_json_str))\n",
    "    )\n",
    "    all_discourse.append(all_disc_df)\n",
    "\n",
    "all_centrality = []\n",
    "for f in tqdm(all_centrality_files):\n",
    "    all_cent_df = (\n",
    "        robust_read_jsonlist(f)\n",
    "        .assign(source_cent=lambda df: df['response'].apply(robust_extract_json_str))\n",
    "    )\n",
    "    all_centrality.append(all_cent_df)"
   ]
  },
  {
   "cell_type": "code",
   "execution_count": 140,
   "id": "574d39e5-8760-4bcf-831c-1f3ce3b18bbe",
   "metadata": {},
   "outputs": [],
   "source": [
    "full_summ_df = pd.concat(all_summs)\n",
    "full_disc_df = pd.concat(all_discourse)\n",
    "full_cent_df = pd.concat(all_centrality)\n",
    "\n",
    "#.loc[lambda df: df['source_summaries'].str.len() == 0].shape"
   ]
  },
  {
   "cell_type": "code",
   "execution_count": 221,
   "id": "27c61ef2-86be-4acb-b86e-3fc1f5231241",
   "metadata": {
    "scrolled": true
   },
   "outputs": [],
   "source": [
    "source_summ_df = (\n",
    "    full_summ_df\n",
    "        .loc[lambda df: (df['source_summaries'].str.len() < 20) & (df['source_summaries'].str.len() > 1)]\n",
    "        .drop(columns='response')\n",
    "        .explode('source_summaries').reset_index(drop=True)\n",
    "            .pipe(lambda df: pd.concat([\n",
    "                df[['url']], pd.DataFrame(df['source_summaries'].tolist())\n",
    "            ], axis=1)\n",
    "         )\n",
    "        .drop_duplicates(['url', 'Name'])\n",
    ")\n",
    "\n",
    "source_disc_df = (\n",
    "    full_disc_df\n",
    "        .drop(columns='response')\n",
    "        .explode('source_discourse').reset_index(drop=True)\n",
    "            .pipe(lambda df: pd.concat([\n",
    "                df[['url']], pd.DataFrame(df['source_discourse'].tolist())\n",
    "            ], axis=1)\n",
    "         )\n",
    "        .drop_duplicates(['url', 'Name'])\n",
    ")\n",
    "\n",
    "source_cent_df = (\n",
    "    full_cent_df\n",
    "        .drop(columns='response')\n",
    "        .explode('source_cent')\n",
    "        .loc[lambda df: df['source_cent'].notnull()]\n",
    "        .loc[lambda df: df['source_cent'].apply(type) == dict]\n",
    "        .reset_index(drop=True)\n",
    "            .pipe(lambda df: pd.concat([\n",
    "                df[['url']], pd.DataFrame(df['source_cent'].tolist())\n",
    "            ], axis=1)\n",
    "         )\n",
    "        [['url', 'Name', 'Perspective', 'Centrality', 'Is_Error', 'Justification']]\n",
    "        .dropna()\n",
    "        .drop_duplicates(['url', 'Name'])\n",
    ")"
   ]
  },
  {
   "cell_type": "code",
   "execution_count": 222,
   "id": "86e1f8f0-19ac-4fc3-a6b6-d7fe364f3a9d",
   "metadata": {},
   "outputs": [
    {
     "data": {
      "text/plain": [
       "(560753, 5)"
      ]
     },
     "execution_count": 222,
     "metadata": {},
     "output_type": "execute_result"
    }
   ],
   "source": [
    "source_summ_df.shape"
   ]
  },
  {
   "cell_type": "code",
   "execution_count": 223,
   "id": "dcda27d7-1675-47b0-8b7a-10a01075dd1d",
   "metadata": {},
   "outputs": [
    {
     "data": {
      "text/plain": [
       "(758619, 3)"
      ]
     },
     "execution_count": 223,
     "metadata": {},
     "output_type": "execute_result"
    }
   ],
   "source": [
    "source_disc_df.shape"
   ]
  },
  {
   "cell_type": "code",
   "execution_count": 224,
   "id": "53baea24-adf1-4b12-98bc-0eade864d399",
   "metadata": {},
   "outputs": [
    {
     "data": {
      "text/plain": [
       "(557556, 6)"
      ]
     },
     "execution_count": 224,
     "metadata": {},
     "output_type": "execute_result"
    }
   ],
   "source": [
    "source_cent_df.shape"
   ]
  },
  {
   "cell_type": "code",
   "execution_count": 236,
   "id": "fc06f225-d3c1-436a-b653-54a72e3a7cfa",
   "metadata": {},
   "outputs": [],
   "source": [
    "full_source_df = (\n",
    "    source_summ_df\n",
    "        .merge(source_disc_df, on=['url', 'Name'])\n",
    "        .merge(source_cent_df, on=['url', 'Name'])\n",
    "        .loc[lambda df: df['Is_Error'] == 'No']\n",
    "        .drop(columns='Note')\n",
    ")"
   ]
  },
  {
   "cell_type": "code",
   "execution_count": 272,
   "id": "84e224f7-08ac-4555-b5e8-076411938c1a",
   "metadata": {},
   "outputs": [],
   "source": [
    "perp_col_order = [\n",
    "    'Authoritative',\n",
    "    'Supportive',\n",
    "    'Neutral',\n",
    "    'Against',\n",
    "    'Skeptical',\n",
    "    'Informative',  \n",
    "]\n",
    "cent_col_order = ['High', 'Medium', 'Low']"
   ]
  },
  {
   "cell_type": "code",
   "execution_count": 273,
   "id": "1b8868ee-afc8-4af2-a50c-29c768e6eaf7",
   "metadata": {},
   "outputs": [],
   "source": [
    "full_source_df['Perspective'] = (\n",
    "    full_source_df['Perspective']\n",
    "        .apply(lambda x: x if x in to_keep_perp else 'Informative')\n",
    ")"
   ]
  },
  {
   "cell_type": "code",
   "execution_count": 274,
   "id": "5f450e1a-5767-47c7-b8e1-a4262e1e2c54",
   "metadata": {},
   "outputs": [],
   "source": [
    "import seaborn as sns"
   ]
  },
  {
   "cell_type": "code",
   "execution_count": 276,
   "id": "1ea6286e-8750-4288-a93f-17653f645654",
   "metadata": {},
   "outputs": [
    {
     "data": {
      "text/plain": [
       "<Axes: xlabel='Perspective'>"
      ]
     },
     "execution_count": 276,
     "metadata": {},
     "output_type": "execute_result"
    },
    {
     "data": {
      "image/png": "[encoded data removed]",
      "text/plain": [
       "<Figure size 640x480 with 1 Axes>"
      ]
     },
     "metadata": {},
     "output_type": "display_data"
    }
   ],
   "source": [
    "(\n",
    "    full_source_df[['Perspective', 'Centrality']]\n",
    "        .value_counts()\n",
    "        .unstack().loc[perp_col_order, cent_col_order]\n",
    "        .pipe(lambda df: df.divide(df.sum(axis=1), axis=0))\n",
    "        .plot(kind='bar')\n",
    ")"
   ]
  },
  {
   "cell_type": "code",
   "execution_count": null,
   "id": "4fcdca2f-7e33-45fc-b26f-cc28cd65d24b",
   "metadata": {},
   "outputs": [],
   "source": []
  },
  {
   "cell_type": "code",
   "execution_count": null,
   "id": "cbee2989-fdda-4e84-ae92-faa48f780238",
   "metadata": {},
   "outputs": [],
   "source": []
  },
  {
   "cell_type": "code",
   "execution_count": null,
   "id": "be4eb837-cdc6-4721-916c-ce8c3ce010c7",
   "metadata": {},
   "outputs": [],
   "source": []
  },
  {
   "cell_type": "code",
   "execution_count": null,
   "id": "87bf4ba4-8179-458f-b67e-7f7ef98b8041",
   "metadata": {},
   "outputs": [],
   "source": []
  },
  {
   "cell_type": "code",
   "execution_count": null,
   "id": "a708fd5e-ea0f-4598-b10f-2d4eb057d63f",
   "metadata": {},
   "outputs": [],
   "source": []
  }
 ],
 "metadata": {
  "kernelspec": {
   "display_name": "Python 3 (ipykernel)",
   "language": "python",
   "name": "python3"
  },
  "language_info": {
   "codemirror_mode": {
    "name": "ipython",
    "version": 3
   },
   "file_extension": ".py",
   "mimetype": "text/x-python",
   "name": "python",
   "nbconvert_exporter": "python",
   "pygments_lexer": "ipython3",
   "version": "3.12.2"
  }
 },
 "nbformat": 4,
 "nbformat_minor": 5
}

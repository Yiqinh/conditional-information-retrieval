{
 "cells": [
  {
   "cell_type": "code",
   "execution_count": 1,
   "id": "4bbad0f4-3798-4874-b034-cceeba37d831",
   "metadata": {},
   "outputs": [
    {
     "name": "stderr",
     "output_type": "stream",
     "text": [
      "/Users/yiqinhuang/anaconda3/envs/nlp_env/lib/python3.11/site-packages/tqdm/auto.py:21: TqdmWarning: IProgress not found. Please update jupyter and ipywidgets. See https://ipywidgets.readthedocs.io/en/stable/user_install.html\n",
      "  from .autonotebook import tqdm as notebook_tqdm\n"
     ]
    }
   ],
   "source": [
    "from datasets import load_from_disk\n",
    "import pandas as pd \n"
   ]
  },
  {
   "cell_type": "code",
   "execution_count": null,
   "id": "9dfaf248-e679-46ff-b2a6-441622efb436",
   "metadata": {},
   "outputs": [],
   "source": [
    "! mkdir ../data \n",
    "! wget https://storage.googleapis.com/usc-data/all-coref-resolved.tar.gz\n",
    "! wget https://storage.googleapis.com/usc-data/full-source-scored-data.jsonl.gz\n",
    "! mv all-coref-resolved.tar.gz ../data\n",
    "! mv full-source-scored-data.jsonl.gz ../data\n",
    "! tar -xvzf ../data/all-coref-resolved.tar.gz"
   ]
  },
  {
   "cell_type": "code",
   "execution_count": 2,
   "id": "e510c3a4-e928-48d4-87ed-d4cbe65b447b",
   "metadata": {},
   "outputs": [],
   "source": [
    "import pandas as pd\n",
    "import numpy as np \n",
    "from tqdm.auto import tqdm\n",
    "data_dir = '../data'\n",
    "# data_dir = '../../../bloomberg-research/press-releases/data/s_p_500_backlinks'\n",
    "source_df = pd.read_json(f'{data_dir}/full-source-scored-data.jsonl.gz', lines=True, compression='gzip', nrows=100)"
   ]
  },
  {
   "cell_type": "code",
   "execution_count": 3,
   "id": "fc3e54b8-decc-4b5b-8fbb-3e4c68a17f65",
   "metadata": {},
   "outputs": [],
   "source": [
    "article_d = load_from_disk('../all-coref-resolved')"
   ]
  },
  {
   "cell_type": "code",
   "execution_count": 4,
   "id": "dd26d02b-0929-499a-a454-98448a1c47cb",
   "metadata": {},
   "outputs": [],
   "source": [
    "filtered_article_d = article_d.filter(lambda x: x['article_url'] in set(source_df['article_url']), num_proc=10)"
   ]
  },
  {
   "cell_type": "code",
   "execution_count": 14,
   "id": "bb4e1d9a",
   "metadata": {},
   "outputs": [
    {
     "name": "stdout",
     "output_type": "stream",
     "text": [
      "<class 'datasets.arrow_dataset.Dataset'>\n",
      "<class 'str'>\n",
      "0 www.bbc.co.uk/blogs/researchanddevelopment/2012/10/digital-hd-radio-camera-halfrf.shtml\n",
      "1 www.prweb.com/releases/2015/02/prweb12528912.htm\n",
      "2 www.usatoday.com/story/news/health/2015/08/06/cvs-drops-viagra/31227269/\n",
      "3 thehill.com/changing-america/well-being/mental-health/3632993-teens-confide-in-these-adults-more-than-parents-about-mental-health/\n",
      "4 www.alternet.org/author/danielle-ivory\n",
      "5 www.vox.com/recode/2022/9/8/23342682/why-cvs-is-spending-8-billion-to-bring-back-physician-house-calls\n",
      "6 www.washingtonpost.com/wp-dyn/content/article/2009/10/15/AR2009101503137.html\n",
      "7 projects.propublica.org/d4d-archive/payments/11307483\n",
      "8 www.cbsnews.com/news/walgreens-minimum-wage-15-dollars-hour-october/\n",
      "9 www.cnbc.com/2021/08/04/cvs-health-cvs-earnings-q2-2021.html\n",
      "10 www.nj.com/news/2021/01/shoprite-to-close-dozens-of-its-pharmacies-shift-customers-to-cvs.html\n",
      "11 patch.com/maryland/rockville/restaurant-inspections-exchange-deli-cheeburger-cheeburger-la-bohemia-bakery-selectos-latinos\n",
      "12 fortune.com/2020/07/28/stakeholder-capitalism-business-roundtable-coronavirus/\n",
      "13 patch.com/maryland/bethesda-chevychase/restaurant-inspections-chicken-run-mcdonalds-moby-dick-persimmon-bistro-sarku-japan\n",
      "14 www.npr.org/2017/08/28/546740254/corporations-pledge-millions-toward-relief-efforts-for-tropical-storm-harvey\n",
      "15 www.bbc.com/news/technology-18048078\n",
      "16 www.noozhawk.com/article/crews_cleaning_up_oil_pipeline_leak_in_orcutt\n",
      "17 www.forbes.com/sites/antonyleather/2018/05/30/how-to-build-a-499-mini-amd-ryzen-gaming-pc-with-wifi-and-ssd/\n",
      "18 www.aol.com/2013/05/28/tennessee-department-of-safety-homeland-security-b/\n",
      "19 smallbusiness.chron.com/drivers-graphics-card-56082.html\n",
      "20 heavy.com/news/covid-19-vaccine-cvs/\n",
      "21 www.forbes.com/sites/brucejapsen/2018/12/26/judges-order-wont-derail-future-cvs-aetna-insurance-products/\n",
      "22 www.thestreet.com/investing/stocks/here-s-why-these-2-oil-stocks-don-t-care-much-if-opec-is-cheating-13928901\n",
      "23 projects.propublica.org/d4d-archive/payments/11407637\n",
      "24 projects.propublica.org/d4d-archive/payments/11375816\n",
      "25 patch.com/maryland/bethesda-chevychase/restaurant-scores-mortons-sweetgreen-mon-ami-gabi-trader-joes\n",
      "26 www.news-leader.com/story/news/local/ozarks/2020/11/20/greene-county-property-tax-why-bills-late-software-problem-springfield/6323098002/\n",
      "27 patch.com/maryland/bethesda-chevychase/dunkin-donuts-louisiana-kitchen-noble-romans-tuscanos-restaurant-inspections\n",
      "28 news.bbc.co.uk/2/hi/business/7181748.stm\n",
      "29 patch.com/maryland/silverspring/silver-spring-restaurant-scores-ihop-parkway-eatery-kustom-pizza-subs-qdoba\n",
      "30 www.aol.com/2012/12/13/mississippi-department-of-wildlife-fisheries-parks/\n",
      "31 slate.com/business/2017/12/the-arguments-for-and-against-the-cvs-aetna-merger.html\n",
      "32 www.businessinsider.com/payscale-best-tech-companies-to-work-for-in-america-2016-4\n",
      "33 www.npr.org/2015/04/30/403257223/health-insurer-aetna-raises-wages-for-lowest-paid-workers-to-16-an-hour\n",
      "34 projects.propublica.org/d4d-archive/payments/11301987\n",
      "35 talkingpointsmemo.com/muckraker/help-tpm-dig-through-the-white-house-visitor-log-friday-doc-dump\n",
      "36 ktla.com/news/local-news/worried-about-the-tripledemic-theres-a-vaccine-for-that/\n",
      "37 projects.propublica.org/d4d-archive/payments/11393577\n",
      "38 patch.com/maryland/rockville/rockville-restaurant-inspections-blue-fin-cava-mezze-grill-penzeys-spice-red-0\n",
      "39 www.usatoday.com/story/tech/2018/01/04/use-computer-smartphone-new-broad-security-flaw-means-you-need-do-now/1004400001/\n",
      "40 www.wired.com/story/ces-2022-liveblog/\n",
      "41 www.propublica.org/article/pressure-mounts-on-insurance-companies-to-consider-their-role-in-opioid-epidemic\n",
      "42 projects.propublica.org/d4d-archive/payments/12837701\n",
      "43 www.bbc.co.uk/news/technology-11280200\n",
      "44 www.forbes.com/sites/brucejapsen/2019/07/24/cvs-health-launches-social-determinants-provider-network/\n",
      "45 slate.com/technology/2021/08/vaccine-covid-mandate-fda-approval-companies-airlines.html\n",
      "46 www.sanluisobispo.com/news/local/article109416142.html\n",
      "47 www.usatoday.com/story/tech/columnist/2022/01/06/ces-2022-pcs-laptop-entering-new-golden-age/9107204002/\n",
      "48 pasoroblesdailynews.com/county-organizations-to-get-50000-in-grants-from-phillips-66-for-covid-19-response/107763/\n",
      "49 www.independent.co.uk/news/health/zantac-cancer-ranitidine-sales-suspended-cvs-health-fears-a9126126.html\n",
      "50 www.sanluisobispo.com/news/politics-government/election/article70978672.html\n",
      "51 www.bbc.co.uk/news/technology-22751326\n",
      "52 www.sourcewatch.org/index.php?title=J._Stapleton_Roy\n",
      "53 www.businessinsider.com/cvs-health-chief-marketing-officer-degreve-on-future-of-pharmacy-2019-7\n",
      "54 www.businessinsider.com/morgan-stanley-on-big-debates-on-wall-street-in-2017-2017-1\n",
      "55 www.axios.com/local/des-moines/2022/02/02/des-moines-computer-software-issue-permit-delays\n",
      "56 www.noozhawk.com/article/santa_barbara_county_supervisors_opposes_oil_train_proposal\n",
      "57 projects.propublica.org/d4d-archive/payments/11159858\n",
      "58 www.cnn.com/2016/10/12/health/hylands-teething-tablets-discontinued-fda-warning/index.html\n",
      "59 projects.propublica.org/d4d-archive/payments/11134294\n",
      "60 www.cnbc.com/2018/05/21/where-the-ceos-of-the-top-10-fortune-500-companies-went-to-school.html\n",
      "61 www.nytimes.com/2010/10/15/technology/companies/15chip.html\n",
      "62 projects.propublica.org/d4d-archive/payments/12743850\n",
      "63 www.mic.com/articles/22315/2013-stock-picks-5-must-have-stocks-for-your-portfolio\n",
      "64 theconversation.com/appy-land-or-geekistan-the-open-questions-of-open-data-21021\n",
      "65 patch.com/maryland/silverspring/restaurant-inspections-el-esteron-kfc-mi-peru-zoes-kitchen-subway\n",
      "66 projects.propublica.org/d4d-archive/payments/12809272\n",
      "67 www.businessinsider.com/guides/tech/amd-vs-nvidia-graphics-cards\n",
      "68 www.forbes.com/sites/gracemarieturner/2016/04/21/health-savings-accounts-under-attack-in-obamacare-exchanges/\n",
      "69 patch.com/maryland/bethesda-chevychase/bethesda-restaurant-scores-giant-food-cava-mezze-grill-pi-pizzeria-j\n",
      "70 projects.propublica.org/d4d-archive/payments/11330676\n",
      "71 www.businessinsider.com/cvs-aetna-takeover-creates-an-amazon-buffer-2017-10\n",
      "72 projects.propublica.org/d4d-archive/payments/11196295\n",
      "73 www.forbes.com/sites/antonyleather/2017/06/28/how-to-build-a-999-amd-ryzen-liquid-cooled-overclocked-6-core-gaming-pc/\n",
      "74 www.businessinsider.com/cvs-closes-some-stores-looting-protests-2020-6\n",
      "75 edition.cnn.com/TECH/computing/9903/02/ftcintel.idg/index.html\n",
      "76 www.forbes.com/sites/sallypipes/2019/11/12/how-big-box-retailers-can-revitalize-rural-health-care/\n",
      "77 patch.com/maryland/rockville/rockville-restaurants-clydes-tower-oak-lodge-blue-fin-cava-mezze-grill-habit\n",
      "78 reviewed.usatoday.com/gaming/features/amd-vs-nvidia\n",
      "79 fortune.com/2019/05/28/amd-intel-ryzen/\n",
      "80 patch.com/maryland/silverspring/restaurant-inspections-caramelo-bakery-yummy-my-tummy-panera-bread-0\n",
      "81 www.cnn.com/TECH/computing/9810/12/futurechip.idg/index.html\n",
      "82 patch.com/maryland/rockville/starbucks-kfc-mcdonalds-asia-cafe-ingleside-restaurant-inspections-0\n",
      "83 patch.com/maryland/rockville/restaurant-scores-montgomery-county-detention-center-rockville-metro-center-deli-ollies-beer-and\n",
      "84 www.forbes.com/sites/brucejapsen/2020/08/05/cvs-health-profits-jump-as-patients-postpone-care-aetna-pays-for-in-pandemic/\n",
      "85 projects.propublica.org/d4d-archive/payments/11479434\n",
      "86 www.propublica.org/article/severe-complications-for-women-during-childbirth-are-skyrocketing-and-could-often-be-prevented\n",
      "87 www.forbes.com/sites/brucejapsen/2021/05/18/former-aetna-cfo-returns-to-top-finance-role-at-cvs-health/\n",
      "88 www.axios.com/2020/09/28/fortune-100-companies-donations-racism-inequality\n",
      "89 www.businessinsider.com/cvs-health-ceo-karen-lynch-priorities-strategies-for-pharmacy-giant-2021-2\n",
      "90 mashable.com/ad/article/tryfecta-best-buy-chromebook-laptop\n",
      "91 www.thenorthwestern.com/story/news/2022/07/28/eaa-airventure-lead-aviation-fuel-among-topics-oshkosh-fly/10111637002/\n",
      "92 patch.com/maryland/rockville/rockville-restaurants-tgifridays-great-wall-supermarket-mama-wok\n",
      "93 www.businessinsider.com/cvs-health-digital-strategy-technology-transform-how-people-access-healthcare-2021-12\n",
      "94 edition.cnn.com/2000/TECH/computing/02/10/amd.software.idg/index.html\n",
      "95 patch.com/maryland/bethesda-chevychase/restaurant-inspections-mortons-sweetgreen-mon-ami-gabi-trader-joes\n",
      "96 slate.com/technology/2018/03/pill-limits-are-not-a-smart-way-to-fight-the-opioid-crisis.html\n",
      "97 projects.propublica.org/d4d-archive/payments/11328202\n",
      "98 www.prweb.com/releases/2014/05/prweb11810474.htm\n",
      "99 www.aol.com/2012/12/19/oklahoma-launches-new-motorcycle-safety-website/\n"
     ]
    }
   ],
   "source": [
    "print(type(filtered_article_d))\n",
    "articles = filtered_article_d.to_pandas()\n",
    "print(type(articles.iloc[5]['article_text']))\n",
    "for i in range(len(filtered_article_d)):\n",
    "    one_article = filtered_article_d[i]\n",
    "    print(i, one_article['article_url'])\n"
   ]
  },
  {
   "cell_type": "code",
   "execution_count": 30,
   "id": "60e22d78-0699-4e0a-ab80-e2ff1562154e",
   "metadata": {
    "scrolled": true
   },
   "outputs": [],
   "source": [
    "disallowed_quote_types = set(['Other', 'Background/Narrative', 'No Quote'])\n",
    "\n",
    "sentences_with_quotes = (\n",
    "    filtered_article_d\n",
    "         .to_pandas()\n",
    "         .merge(source_df, on='article_url')\n",
    "         [['article_url', 'attributions', 'quote_type', 'sent_lists',]]\n",
    "         .explode(['attributions', 'quote_type', 'sent_lists'])\n",
    ")\n",
    "\n",
    "sentences_with_quotes = (sentences_with_quotes\n",
    "     .assign(attributions=lambda df: \n",
    "             df.apply(lambda x: x['attributions'] if x['quote_type'] not in disallowed_quote_types else np.nan, axis=1)\n",
    "    )\n",
    ")"
   ]
  },
  {
   "cell_type": "code",
   "execution_count": 31,
   "id": "0309f108-fc3d-42b3-9595-413acef767bf",
   "metadata": {},
   "outputs": [],
   "source": [
    "one_article = (\n",
    "    sentences_with_quotes\n",
    "         .loc[lambda df: df['article_url'] == df['article_url'].unique()[1]]\n",
    "        .reset_index(drop=True)\n",
    ")"
   ]
  },
  {
   "cell_type": "code",
   "execution_count": 26,
   "id": "2759b7c7-459e-4780-9047-bf1eaf02c511",
   "metadata": {},
   "outputs": [],
   "source": [
    "doc_str = one_article[['sent_lists', 'attributions']].to_csv(sep='\\t', index=False)\n",
    "json_str = one_article[['sent_lists', 'attributions']].to_json(lines=True, orient='records')"
   ]
  },
  {
   "cell_type": "markdown",
   "id": "3e7462f6-678e-4cab-89f6-dde039a4e314",
   "metadata": {},
   "source": [
    "I ran llama3 locally using a cool program called Ollama: https://ollama.com/. You can follow the link to install the program.\n",
    "\n",
    "This can be useful for trying things out before we work out compute access.\n",
    "\n",
    "Run this in your terminal:\n",
    "\n",
    "`ollama run llama3`\n",
    "\n",
    "Even llama3 8b is pretty powerful. Llama 70b is better, but that may not run on your local computer."
   ]
  },
  {
   "cell_type": "code",
   "execution_count": null,
   "id": "a5141b2f-3912-418c-800e-f7ed290a450a",
   "metadata": {},
   "outputs": [],
   "source": [
    "import requests\n",
    "import pyperclip"
   ]
  },
  {
   "cell_type": "code",
   "execution_count": null,
   "id": "4daa3d76-9fc8-4483-b542-c8844b2a33b9",
   "metadata": {},
   "outputs": [],
   "source": [
    "pyperclip.copy(doc_str)\n",
    "pyperclip.copy(json_str)"
   ]
  },
  {
   "cell_type": "code",
   "execution_count": null,
   "id": "53c3a43e-c0a0-4e25-a048-2459cf4dbd31",
   "metadata": {},
   "outputs": [],
   "source": [
    "r = requests.post(\n",
    "    'http://localhost:11434/api/generate', \n",
    "    json = {\n",
    "        \"model\": \"llama3\",\n",
    "        \"prompt\":f\"\"\"\n",
    "            Here is a news article, with each sentence annotated according to the source of it's information:\n",
    "            ```\n",
    "            {json_str}\n",
    "            ```\n",
    "\n",
    "            Please summarize each of our source annotations. Tell me in one paragraph per source: (1) who the source is (2) what informational content they provide to the article. \n",
    "            Only rely on the annotations I have provided, don't identify additional sources.\n",
    "        \"\"\",\n",
    "        \"stream\": False\n",
    "})"
   ]
  },
  {
   "cell_type": "code",
   "execution_count": null,
   "id": "badef086-20f0-4aa9-9769-7c852ff9b7ea",
   "metadata": {},
   "outputs": [],
   "source": [
    "print(r.json()['response'])"
   ]
  },
  {
   "cell_type": "code",
   "execution_count": 16,
   "id": "d4663f71-4708-435f-a1bf-3cdff4b994b7",
   "metadata": {},
   "outputs": [],
   "source": [
    "import json\n",
    "with open('../article_sum__0_100.json', 'r') as json_file:\n",
    "    # Load the JSON data into a dictionary\n",
    "    data = json.load(json_file)"
   ]
  },
  {
   "cell_type": "code",
   "execution_count": null,
   "id": "c8141d3c-db08-4205-9e22-48b08db25e07",
   "metadata": {},
   "outputs": [],
   "source": []
  },
  {
   "cell_type": "code",
   "execution_count": null,
   "id": "918831a4-f609-4f7d-a36e-8abab527cfef",
   "metadata": {},
   "outputs": [],
   "source": []
  },
  {
   "cell_type": "code",
   "execution_count": null,
   "id": "d42e1ddc-20cb-4b43-b573-231f813b9c5e",
   "metadata": {},
   "outputs": [],
   "source": []
  },
  {
   "cell_type": "code",
   "execution_count": null,
   "id": "d7f20973-c1a7-422c-924d-4855b9fe8d63",
   "metadata": {},
   "outputs": [],
   "source": []
  },
  {
   "cell_type": "code",
   "execution_count": null,
   "id": "0c2abe74-47ae-49ca-a08c-c792ba120863",
   "metadata": {},
   "outputs": [],
   "source": []
  },
  {
   "cell_type": "code",
   "execution_count": null,
   "id": "ab063171-471b-49a6-a61b-ec5d0e4ba98a",
   "metadata": {},
   "outputs": [],
   "source": []
  },
  {
   "cell_type": "code",
   "execution_count": null,
   "id": "47adba74-fe9f-4435-9047-8798fc97593c",
   "metadata": {},
   "outputs": [],
   "source": []
  }
 ],
 "metadata": {
  "kernelspec": {
   "display_name": "Python 3 (ipykernel)",
   "language": "python",
   "name": "python3"
  },
  "language_info": {
   "codemirror_mode": {
    "name": "ipython",
    "version": 3
   },
   "file_extension": ".py",
   "mimetype": "text/x-python",
   "name": "python",
   "nbconvert_exporter": "python",
   "pygments_lexer": "ipython3",
   "version": "3.11.9"
  }
 },
 "nbformat": 4,
 "nbformat_minor": 5
}

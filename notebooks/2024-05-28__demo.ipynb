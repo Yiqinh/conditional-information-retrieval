{
 "cells": [
  {
   "cell_type": "code",
   "execution_count": 295,
   "id": "71a4b586-3ae7-4a79-a95c-4d462a74399b",
   "metadata": {},
   "outputs": [],
   "source": [
    "from datasets import load_from_disk\n",
    "import pandas as pd\n",
    "import re\n",
    "import ast\n",
    "import pyperclip\n",
    "import pprint\n",
    "import os\n",
    "from together import Together\n",
    "from openai import OpenAI\n",
    "import pandas as pd \n",
    "import glob\n",
    "\n",
    "together_client = Together(api_key=open('/Users/spangher/.togetherai-usc-key.txt').read().strip())\n",
    "os.environ['OPENAI_API_KEY']=open('/Users/spangher/.openai-isi-project-key.txt').read().strip()\n",
    "openai_client = OpenAI()\n",
    "\n",
    "def query_together(prompt, client=together_client):\n",
    "    response = client.chat.completions.create(\n",
    "        model=\"meta-llama/Meta-Llama-3.1-70B-Instruct-Turbo\",\n",
    "        messages=[{\n",
    "                    \"role\": \"system\",\n",
    "                    \"content\": \"You are an experienced journalist.\"\n",
    "                },\n",
    "                {\n",
    "                    \"role\": \"user\",\n",
    "                    \"content\": prompt\n",
    "                }],\n",
    "        max_tokens=2048,\n",
    "        temperature=0.1,\n",
    "        top_p=0.7,\n",
    "        top_k=50,\n",
    "        repetition_penalty=1,\n",
    "        stop=[\"<|eot_id|>\",\"<|eom_id|>\"],\n",
    "    )\n",
    "    return response.choices[0].message.content"
   ]
  },
  {
   "cell_type": "code",
   "execution_count": 1,
   "id": "01J33GWQ0VT0NCXQK4DFY52K4T",
   "metadata": {},
   "outputs": [
    {
     "name": "stdout",
     "output_type": "stream",
     "text": [
      "mkdir: ../data: File exists\n",
      "--2024-10-06 22:52:23--  https://storage.googleapis.com/usc-data/all-coref-resolved.tar.gz\n",
      "Resolving storage.googleapis.com (storage.googleapis.com)... 142.250.189.27, 142.250.68.123, 142.250.68.91, ...\n",
      "Connecting to storage.googleapis.com (storage.googleapis.com)|142.250.189.27|:443... connected.\n",
      "HTTP request sent, awaiting response... 200 OK\n",
      "Length: 6256966794 (5.8G) [application/x-tar]\n",
      "Saving to: ‘all-coref-resolved.tar.gz’\n",
      "\n",
      "all-coref-resolved. 100%[===================>]   5.83G  22.8MB/s    in 5m 37s  \n",
      "\n",
      "2024-10-06 22:58:00 (17.7 MB/s) - ‘all-coref-resolved.tar.gz’ saved [6256966794/6256966794]\n",
      "\n",
      "--2024-10-06 22:58:00--  https://storage.googleapis.com/usc-data/full-source-scored-data.jsonl.gz\n",
      "Resolving storage.googleapis.com (storage.googleapis.com)... 142.250.72.187, 142.250.188.251, 172.217.14.91, ...\n",
      "Connecting to storage.googleapis.com (storage.googleapis.com)|142.250.72.187|:443... connected.\n",
      "HTTP request sent, awaiting response... 200 OK\n",
      "Length: 1355650086 (1.3G) [application/octet-stream]\n",
      "Saving to: ‘full-source-scored-data.jsonl.gz’\n",
      "\n",
      "full-source-scored- 100%[===================>]   1.26G  22.8MB/s    in 64s     \n",
      "\n",
      "2024-10-06 22:59:04 (20.3 MB/s) - ‘full-source-scored-data.jsonl.gz’ saved [1355650086/1355650086]\n",
      "\n",
      "x all-coref-resolved/\n",
      "x all-coref-resolved/data-00000-of-00041.arrow\n",
      "x all-coref-resolved/data-00001-of-00041.arrow\n",
      "x all-coref-resolved/data-00002-of-00041.arrow\n",
      "x all-coref-resolved/data-00003-of-00041.arrow\n",
      "x all-coref-resolved/data-00004-of-00041.arrow\n",
      "x all-coref-resolved/data-00005-of-00041.arrow\n",
      "x all-coref-resolved/data-00006-of-00041.arrow\n",
      "x all-coref-resolved/data-00007-of-00041.arrow\n",
      "x all-coref-resolved/data-00008-of-00041.arrow\n",
      "x all-coref-resolved/data-00009-of-00041.arrow\n",
      "x all-coref-resolved/data-00010-of-00041.arrow\n",
      "x all-coref-resolved/data-00011-of-00041.arrow\n",
      "x all-coref-resolved/data-00012-of-00041.arrow\n",
      "x all-coref-resolved/data-00013-of-00041.arrow\n",
      "x all-coref-resolved/data-00014-of-00041.arrow\n",
      "x all-coref-resolved/data-00015-of-00041.arrow\n",
      "x all-coref-resolved/data-00016-of-00041.arrow\n",
      "x all-coref-resolved/data-00017-of-00041.arrow\n",
      "x all-coref-resolved/data-00018-of-00041.arrow\n",
      "x all-coref-resolved/data-00019-of-00041.arrow\n",
      "x all-coref-resolved/data-00020-of-00041.arrow\n",
      "x all-coref-resolved/data-00021-of-00041.arrow\n",
      "x all-coref-resolved/data-00022-of-00041.arrow\n",
      "x all-coref-resolved/data-00023-of-00041.arrow\n",
      "x all-coref-resolved/data-00024-of-00041.arrow\n",
      "x all-coref-resolved/data-00025-of-00041.arrow\n",
      "x all-coref-resolved/data-00026-of-00041.arrow\n",
      "x all-coref-resolved/data-00027-of-00041.arrow\n",
      "x all-coref-resolved/data-00028-of-00041.arrow\n",
      "x all-coref-resolved/data-00029-of-00041.arrow\n",
      "x all-coref-resolved/data-00030-of-00041.arrow\n",
      "x all-coref-resolved/data-00031-of-00041.arrow\n",
      "x all-coref-resolved/data-00032-of-00041.arrow\n",
      "x all-coref-resolved/data-00033-of-00041.arrow\n",
      "x all-coref-resolved/data-00034-of-00041.arrow\n",
      "x all-coref-resolved/data-00035-of-00041.arrow\n",
      "x all-coref-resolved/data-00036-of-00041.arrow\n",
      "x all-coref-resolved/data-00037-of-00041.arrow\n",
      "x all-coref-resolved/data-00038-of-00041.arrow\n",
      "x all-coref-resolved/data-00039-of-00041.arrow\n",
      "x all-coref-resolved/data-00040-of-00041.arrow\n",
      "x all-coref-resolved/state.json\n",
      "x all-coref-resolved/dataset_info.json\n"
     ]
    }
   ],
   "source": [
    "! mkdir ../data\n",
    "! wget https://storage.googleapis.com/usc-data/all-coref-resolved.tar.gz\n",
    "! wget https://storage.googleapis.com/usc-data/full-source-scored-data.jsonl.gz\n",
    "! mv all-coref-resolved.tar.gz ../data\n",
    "! mv full-source-scored-data.jsonl.gz ../data\n",
    "! tar -xvzf ../data/all-coref-resolved.tar.gz"
   ]
  },
  {
   "cell_type": "code",
   "execution_count": 40,
   "id": "01J33GWQ0V3WMKHNPA6B2QPVD2",
   "metadata": {},
   "outputs": [],
   "source": [
    "import pandas as pd\n",
    "import numpy as np\n",
    "from tqdm.auto import tqdm\n",
    "import json\n",
    "data_dir = '../data'\n",
    "data_dir = '../../../bloomberg-research/press-releases/data/s_p_500_backlinks'"
   ]
  },
  {
   "cell_type": "code",
   "execution_count": 35,
   "id": "d353e450-1989-410e-b416-5d53fea3a8e3",
   "metadata": {},
   "outputs": [],
   "source": [
    "test_set_df = pd.DataFrame(json.load(open('../data/v2_queries/combined_test_prompt1_v2__with_oracle.json')))"
   ]
  },
  {
   "cell_type": "code",
   "execution_count": 42,
   "id": "0d7a8c0e-6c41-42c7-a710-6cc8f480831b",
   "metadata": {},
   "outputs": [],
   "source": [
    "batches = pd.read_json(f'{data_dir}/full-source-scored-data.jsonl', lines=True, chunksize=10_000)"
   ]
  },
  {
   "cell_type": "code",
   "execution_count": 50,
   "id": "1b488411-aadd-44fe-acc5-13aaa6295dea",
   "metadata": {},
   "outputs": [
    {
     "data": {
      "application/vnd.jupyter.widget-view+json": {
       "model_id": "ee552c71acde49b7adff27267d858466",
       "version_major": 2,
       "version_minor": 0
      },
      "text/plain": [
       "0it [00:00, ?it/s]"
      ]
     },
     "metadata": {},
     "output_type": "display_data"
    }
   ],
   "source": [
    "all_source_df_chunks = []\n",
    "for b in tqdm(batches):\n",
    "    b_filt = b.loc[lambda df: df['article_url'].isin(test_set_df['url'])]\n",
    "    all_source_df_chunks.append(b_filt)"
   ]
  },
  {
   "cell_type": "code",
   "execution_count": 51,
   "id": "d7f8713f-3cc5-4d9b-a34b-9ad9fa919130",
   "metadata": {
    "scrolled": true
   },
   "outputs": [],
   "source": [
    "source_df = pd.concat(all_source_df_chunks)"
   ]
  },
  {
   "cell_type": "code",
   "execution_count": 370,
   "id": "faefe6a7-6170-46d7-8755-6d8e648009e3",
   "metadata": {},
   "outputs": [
    {
     "data": {
      "text/plain": [
       "Dataset({\n",
       "    features: ['article_url', 'target_timestamp_key', 'target_timestamp', 'sort_criteria', 'wayback_url', 'wayback_timestamp', 'method', 'links', 'article_text', 'word_lists', 'sent_lists', 'best_class', 'coref_resolved_sents'],\n",
       "    num_rows: 496380\n",
       "})"
      ]
     },
     "execution_count": 370,
     "metadata": {},
     "output_type": "execute_result"
    }
   ],
   "source": [
    "article_d"
   ]
  },
  {
   "cell_type": "code",
   "execution_count": 52,
   "id": "0905a9cb-bf41-418d-a589-9b1c063a703e",
   "metadata": {},
   "outputs": [
    {
     "data": {
      "application/vnd.jupyter.widget-view+json": {
       "model_id": "6512aa9519164f68936a30ddba5a93b2",
       "version_major": 2,
       "version_minor": 0
      },
      "text/plain": [
       "Loading dataset from disk:   0%|          | 0/41 [00:00<?, ?it/s]"
      ]
     },
     "metadata": {},
     "output_type": "display_data"
    },
    {
     "data": {
      "application/vnd.jupyter.widget-view+json": {
       "model_id": "17b540401efe44a68666c9888a9c9688",
       "version_major": 2,
       "version_minor": 0
      },
      "text/plain": [
       "Filter (num_proc=10):   0%|          | 0/496380 [00:00<?, ? examples/s]"
      ]
     },
     "metadata": {},
     "output_type": "display_data"
    }
   ],
   "source": [
    "article_d = load_from_disk(data_dir + '/all-coref-resolved')\n",
    "filtered_article_d = article_d.filter(lambda x: x['article_url'] in set(source_df['article_url']), num_proc=10)"
   ]
  },
  {
   "cell_type": "code",
   "execution_count": 53,
   "id": "01J33GWQ0WWV74YVEEXKJECYHF",
   "metadata": {},
   "outputs": [
    {
     "name": "stdout",
     "output_type": "stream",
     "text": [
      "<class 'datasets.arrow_dataset.Dataset'>\n"
     ]
    }
   ],
   "source": [
    "#experimentation, please ignore\n",
    "print(type(filtered_article_d))\n",
    "articles = filtered_article_d.to_pandas()\n",
    "\n",
    "\n",
    "sentences_with_quotes = (\n",
    "    filtered_article_d\n",
    "         .to_pandas()\n",
    "         .merge(source_df, on='article_url'))"
   ]
  },
  {
   "cell_type": "code",
   "execution_count": 359,
   "id": "3ae24a06-21fa-40ca-b9a1-1c3acf4d0a71",
   "metadata": {},
   "outputs": [
    {
     "data": {
      "text/plain": [
       "(2770, 18)"
      ]
     },
     "execution_count": 359,
     "metadata": {},
     "output_type": "execute_result"
    }
   ],
   "source": [
    "sentences_with_quotes.shape"
   ]
  },
  {
   "cell_type": "code",
   "execution_count": 68,
   "id": "7aaaca57-47e5-473e-9c1c-b0178bbf45e8",
   "metadata": {},
   "outputs": [
    {
     "data": {
      "text/plain": [
       "Dataset({\n",
       "    features: ['article_url', 'target_timestamp_key', 'target_timestamp', 'sort_criteria', 'wayback_url', 'wayback_timestamp', 'method', 'links', 'article_text', 'word_lists', 'sent_lists', 'best_class', 'coref_resolved_sents'],\n",
       "    num_rows: 2770\n",
       "})"
      ]
     },
     "execution_count": 68,
     "metadata": {},
     "output_type": "execute_result"
    }
   ],
   "source": [
    "filtered_article_d"
   ]
  },
  {
   "cell_type": "code",
   "execution_count": 69,
   "id": "01J33GWQ0WAGZ8XPJGCWWB9NSP",
   "metadata": {
    "scrolled": true
   },
   "outputs": [],
   "source": [
    "disallowed_quote_types = set(['Other', 'Background/Narrative', 'No Quote'])\n",
    "\n",
    "sentences_with_quotes = (\n",
    "    filtered_article_d\n",
    "         .to_pandas()\n",
    "         .merge(source_df, on='article_url')\n",
    ")\n",
    "\n",
    "# sentences_with_quotes = (sentences_with_quotes\n",
    "#      .assign(attributions=lambda df:\n",
    "#              df.apply(lambda x: x['attributions'] if x['quote_type'] not in disallowed_quote_types else np.nan, axis=1)\n",
    "#     )\n",
    "# )"
   ]
  },
  {
   "cell_type": "code",
   "execution_count": 224,
   "id": "89d50f87-03f6-425f-8f3f-c03fad3cf09d",
   "metadata": {},
   "outputs": [],
   "source": [
    "def robust_extract_json_str(lm_string):\n",
    "    try:\n",
    "        return json.loads(lm_string)\n",
    "    except:\n",
    "        try:\n",
    "            return ast.literal_eval(lm_string)\n",
    "        except:\n",
    "            pass"
   ]
  },
  {
   "cell_type": "code",
   "execution_count": 322,
   "id": "01J33GWQ0WW9DVW7RZMK1KAED9",
   "metadata": {},
   "outputs": [],
   "source": [
    "one_url = sentences_with_quotes['article_url'].unique()[0]\n",
    "\n",
    "idx = 210\n",
    "one_url = test_set_df['url'].iloc[idx]\n",
    "\n",
    "one_article = (\n",
    "    sentences_with_quotes\n",
    "        .loc[lambda df: df['article_url'] == one_url]\n",
    "        .reset_index(drop=True)\n",
    ")"
   ]
  },
  {
   "cell_type": "code",
   "execution_count": 357,
   "id": "94e4f7c2-22c3-4ce9-a4c4-90ea99990f84",
   "metadata": {},
   "outputs": [
    {
     "data": {
      "text/html": [
       "<div>\n",
       "<style scoped>\n",
       "    .dataframe tbody tr th:only-of-type {\n",
       "        vertical-align: middle;\n",
       "    }\n",
       "\n",
       "    .dataframe tbody tr th {\n",
       "        vertical-align: top;\n",
       "    }\n",
       "\n",
       "    .dataframe thead th {\n",
       "        text-align: right;\n",
       "    }\n",
       "</style>\n",
       "<table border=\"1\" class=\"dataframe\">\n",
       "  <thead>\n",
       "    <tr style=\"text-align: right;\">\n",
       "      <th></th>\n",
       "      <th>article_url</th>\n",
       "      <th>article_text</th>\n",
       "    </tr>\n",
       "  </thead>\n",
       "  <tbody>\n",
       "    <tr>\n",
       "      <th>0</th>\n",
       "      <td>in.mashable.com/apps-and-software/55842/thread...</td>\n",
       "      <td>Skip to main content \\n Tech \\nThreads Needs ...</td>\n",
       "    </tr>\n",
       "  </tbody>\n",
       "</table>\n",
       "</div>"
      ],
      "text/plain": [
       "                                         article_url  \\\n",
       "0  in.mashable.com/apps-and-software/55842/thread...   \n",
       "\n",
       "                                        article_text  \n",
       "0   Skip to main content \\n Tech \\nThreads Needs ...  "
      ]
     },
     "execution_count": 357,
     "metadata": {},
     "output_type": "execute_result"
    }
   ],
   "source": [
    "one_article[['article_url', 'article_text']]"
   ]
  },
  {
   "cell_type": "code",
   "execution_count": 323,
   "id": "4cac30f9-ae6a-4676-9bef-0870f41f6df1",
   "metadata": {},
   "outputs": [],
   "source": [
    "our_previously_annotated_df = (one_article[['article_url', 'attributions', 'quote_type', 'sent_lists', ]]\n",
    "        .explode(['attributions', 'quote_type', 'sent_lists'])\n",
    ")"
   ]
  },
  {
   "cell_type": "code",
   "execution_count": 324,
   "id": "600e0bb2-df26-4cc2-aca7-10b3b06f8969",
   "metadata": {},
   "outputs": [],
   "source": [
    "CLEAN_ARTICLE_TEXT_PROMPT = \"\"\"\n",
    "You are a helpful editor assistant. I scraped this news article from the web and removed HTML tags, however, \n",
    "there is a lot of extraneous text from the HTML page that remains. Please only extract text related to the news article.\n",
    "Try not to miss any text. Copy over the text exactly. Here is the news article:\n",
    "\n",
    "```{article_text}```\n",
    "\n",
    "Return only the text.\n",
    "\"\"\""
   ]
  },
  {
   "cell_type": "code",
   "execution_count": 325,
   "id": "c8ee722f-9a33-4f72-81e6-79cf9a74b1d6",
   "metadata": {},
   "outputs": [],
   "source": [
    "prompt = CLEAN_ARTICLE_TEXT_PROMPT.format(article_text=one_article['article_text'][0])\n",
    "cleaned_article_text = query_together(prompt)"
   ]
  },
  {
   "cell_type": "code",
   "execution_count": 326,
   "id": "511567c9-262a-4457-a5f6-2d320d58f4fa",
   "metadata": {
    "scrolled": true
   },
   "outputs": [
    {
     "name": "stdout",
     "output_type": "stream",
     "text": [
      "Threads Needs User-Generated Alt Text ASAP\n",
      "\n",
      "Of all the missing features, this one is standing out.\n",
      "\n",
      "by Meera Navlakha \n",
      "July 6, 2023\n",
      "\n",
      "Threads, Meta's Twitter alternative, is here, carrying some Instagram features in tow but really lacking when it comes to others. One of these is alternative text (alt text), a crucial tool for accessibility that tech platforms have been integrating for a while. So far, Threads includes \"core accessibility features\" that Instagram already has -- it was built by the same team. This means screen-reader support and AI-generated image descriptions are enabled on the new app. But Threads doesn't allow users to add their own text to images, and AI doesn't always do the trick.\n",
      "\n",
      "Indiana University defines accessibility as \"the degree to which a product, device, service, environment, or facility is usable by as many people as possible\". In line with this, alt-text descriptions are meant to provide meaning and explanation to content, concisely explaining what each is offering. For people who are blind or have low vision, this is paramount to using social media. Roughly one in four adults in the United States live with some sort of disability, according to the CDC, and 4.8 percent of the population has a vision disability.\n",
      "\n",
      "When it comes to Instagram's automatic image descriptions -- which Threads currently has -- the descriptors weren't always accurate, which is why the app introduced a custom alt-text option as an improvement back in 2018. From Giphy recently providing alt text to Twitter's improved alt text tools, tons of platforms have included and built upon features that increase accessibility for users. Threads should do the same ASAP, allowing users to add alt-text that is actually user-generated.\n",
      "\n",
      "As Mashable's Chase DiBenedetto writes, the process of adding alt text \"has the potential to help the millions of Americans who use assistive technology to access the internet.\"\n"
     ]
    }
   ],
   "source": [
    "print(cleaned_article_text)"
   ]
  },
  {
   "cell_type": "code",
   "execution_count": 366,
   "id": "1e67af7d-6a90-4df6-90d2-7b2fca36e110",
   "metadata": {},
   "outputs": [],
   "source": [
    "SOURCE_EXTRACTION_PROMPT = \"\"\"\n",
    "You are a helpful news assistant. Here is a news article:\n",
    "\n",
    "```{news_article}```\n",
    "\n",
    "Please summarize each informational source providing information in the article. \n",
    "Include unnamed or passively expressed sources (e.g. \"witnesses\", \"price signals\") if there is information attributable to them.\n",
    "Include any facts that might have come from the source.\n",
    "Make sure each source you return refer to just one source. For example: if \"John and Jane\" both contribute the same information, generate two separate summaries, one for \"John\" and one for \"Jane\". \n",
    "Generate only ONE summary per source.\n",
    "\n",
    "For each source, provide the following information:\n",
    "    (1) Name: just the name of the source.\n",
    "    (2) Biography: A brief biography of the source mentioned in the article.\n",
    "    (3) Information: Restate the facts provided by the source. Be as SPECIFIC and be as VERBOSE as possible. \n",
    "        Contextualize ALL the information the source describes. State the full names of all people, places, events and ideas mentioned and\n",
    "        everything the source says with AS MUCH BACKGROUND INFORMATION from the article so I can fully understand the information\n",
    "        the source is giving. I will look at each source independently without looking at any others, so help me understand the context.\n",
    "\n",
    "Here are some examples:\n",
    "example 1:\n",
    "{{ \"Name\": \"Supermarkets around the country\",\n",
    "   \"Biography\": \"Retail stores that sell food and other household items\",\n",
    "   \"Information\": \"Supermarkets around the country alerted shoppers that prices are likely to continue going up due to the avian flu outbreak, with eggs now average $2.88 per dozen, up 52% since the first confirmed case of avian influenza in February.\"\n",
    "}}\n",
    "\n",
    "example 2:\n",
    "{{\n",
    "  \"Name\": \"The article's author (unnamed)\",\n",
    "  \"Biography\": \"The author of the article\",\n",
    "  \"Information\": \"The author stated that Wing, which is collaborating with FedEx and Walgreens on drone delivery, was the first to receive a limited Part 135 certificate. Wing is launching operations in Virginia this month, and the Standard certification allows UPS to send an unlimited number of drones to the skies, for their cargo load to exceed 55 pounds and for them to fly at night.\"\n",
    "}}\n",
    "\n",
    "example 3:\n",
    "{{\n",
    "   \"Name\": \"Delta's customers\",\n",
    "   \"Biography\": \"People who travel with Delta Air Lines\",\n",
    "   \"Information\": \"Delta's customers suggested that they preferred more space on flights amid the COVID-19 pandemic, and they continue to tell Delta that more space provides more peace of mind.\"\n",
    "}}\n",
    "\n",
    "example 4:\n",
    "{{\n",
    "   \"Name\": \"European Union countries\",\n",
    "   \"Biography\": \"Countries that are part of the European Union\",\n",
    "   \"Information\": \"European Union countries are working on adopting copyright rules that allow news companies and publishers to negotiate payments with large tech companies like Facebook, Microsoft and Google that use their content on their platforms.\"\n",
    "}}\n",
    "\n",
    "Output the summary in a list of python dictionaries as in the examples. Don't say anything else.\n",
    "\"\"\""
   ]
  },
  {
   "cell_type": "code",
   "execution_count": 367,
   "id": "b3b94d46-139c-42d6-833c-646177a37ae0",
   "metadata": {},
   "outputs": [],
   "source": [
    "prompt = SOURCE_EXTRACTION_PROMPT.format(news_article=cleaned_article_text)\n",
    "extracted_sources = query_together(prompt)"
   ]
  },
  {
   "cell_type": "code",
   "execution_count": 368,
   "id": "ecc499fd-2f6a-493e-8861-0895efacb57d",
   "metadata": {},
   "outputs": [],
   "source": [
    "import ast\n",
    "new_source_df = pd.DataFrame(robust_extract_json_str(extracted_sources))"
   ]
  },
  {
   "cell_type": "code",
   "execution_count": 365,
   "id": "32dc1d7b-02f2-4232-b33f-fd7ebca70745",
   "metadata": {},
   "outputs": [
    {
     "data": {
      "text/html": [
       "<div>\n",
       "<style scoped>\n",
       "    .dataframe tbody tr th:only-of-type {\n",
       "        vertical-align: middle;\n",
       "    }\n",
       "\n",
       "    .dataframe tbody tr th {\n",
       "        vertical-align: top;\n",
       "    }\n",
       "\n",
       "    .dataframe thead th {\n",
       "        text-align: right;\n",
       "    }\n",
       "</style>\n",
       "<table border=\"1\" class=\"dataframe\">\n",
       "  <thead>\n",
       "    <tr style=\"text-align: right;\">\n",
       "      <th></th>\n",
       "      <th>Name</th>\n",
       "      <th>Biography</th>\n",
       "      <th>Information</th>\n",
       "    </tr>\n",
       "  </thead>\n",
       "  <tbody>\n",
       "    <tr>\n",
       "      <th>0</th>\n",
       "      <td>Meera Navlakha</td>\n",
       "      <td>The author of the article</td>\n",
       "      <td>Meera Navlakha stated that Threads, Meta's Twi...</td>\n",
       "    </tr>\n",
       "    <tr>\n",
       "      <th>1</th>\n",
       "      <td>Indiana University</td>\n",
       "      <td>A university that defines accessibility</td>\n",
       "      <td>Indiana University defines accessibility as 't...</td>\n",
       "    </tr>\n",
       "    <tr>\n",
       "      <th>2</th>\n",
       "      <td>The CDC</td>\n",
       "      <td>The Centers for Disease Control and Prevention</td>\n",
       "      <td>The CDC reported that roughly one in four adul...</td>\n",
       "    </tr>\n",
       "    <tr>\n",
       "      <th>3</th>\n",
       "      <td>Chase DiBenedetto</td>\n",
       "      <td>A writer for Mashable</td>\n",
       "      <td>Chase DiBenedetto wrote that the process of ad...</td>\n",
       "    </tr>\n",
       "  </tbody>\n",
       "</table>\n",
       "</div>"
      ],
      "text/plain": [
       "                 Name                                       Biography  \\\n",
       "0      Meera Navlakha                       The author of the article   \n",
       "1  Indiana University         A university that defines accessibility   \n",
       "2             The CDC  The Centers for Disease Control and Prevention   \n",
       "3   Chase DiBenedetto                           A writer for Mashable   \n",
       "\n",
       "                                         Information  \n",
       "0  Meera Navlakha stated that Threads, Meta's Twi...  \n",
       "1  Indiana University defines accessibility as 't...  \n",
       "2  The CDC reported that roughly one in four adul...  \n",
       "3  Chase DiBenedetto wrote that the process of ad...  "
      ]
     },
     "execution_count": 365,
     "metadata": {},
     "output_type": "execute_result"
    }
   ],
   "source": [
    "new_source_df"
   ]
  },
  {
   "cell_type": "code",
   "execution_count": 332,
   "id": "d760730b-5460-4443-b737-73e6b036a879",
   "metadata": {
    "scrolled": true
   },
   "outputs": [],
   "source": [
    "old_source_df = pd.DataFrame(test_set_df.loc[idx]['sources'])[['Name', 'Information', 'Information', ]]"
   ]
  },
  {
   "cell_type": "code",
   "execution_count": 361,
   "id": "e814bb05-9352-4d76-8a1b-463990da6423",
   "metadata": {},
   "outputs": [
    {
     "name": "stdout",
     "output_type": "stream",
     "text": [
      "Threads Needs User-Generated Alt Text ASAP\n",
      "\n",
      "Of all the missing features, this one is standing out.\n",
      "\n",
      "by Meera Navlakha \n",
      "July 6, 2023\n",
      "\n",
      "Threads, Meta's Twitter alternative, is here, carrying some Instagram features in tow but really lacking when it comes to others. One of these is alternative text (alt text), a crucial tool for accessibility that tech platforms have been integrating for a while. So far, Threads includes \"core accessibility features\" that Instagram already has -- it was built by the same team. This means screen-reader support and AI-generated image descriptions are enabled on the new app. But Threads doesn't allow users to add their own text to images, and AI doesn't always do the trick.\n",
      "\n",
      "Indiana University defines accessibility as \"the degree to which a product, device, service, environment, or facility is usable by as many people as possible\". In line with this, alt-text descriptions are meant to provide meaning and explanation to content, concisely explaining what each is offering. For people who are blind or have low vision, this is paramount to using social media. Roughly one in four adults in the United States live with some sort of disability, according to the CDC, and 4.8 percent of the population has a vision disability.\n",
      "\n",
      "When it comes to Instagram's automatic image descriptions -- which Threads currently has -- the descriptors weren't always accurate, which is why the app introduced a custom alt-text option as an improvement back in 2018. From Giphy recently providing alt text to Twitter's improved alt text tools, tons of platforms have included and built upon features that increase accessibility for users. Threads should do the same ASAP, allowing users to add alt-text that is actually user-generated.\n",
      "\n",
      "As Mashable's Chase DiBenedetto writes, the process of adding alt text \"has the potential to help the millions of Americans who use assistive technology to access the internet.\"\n"
     ]
    }
   ],
   "source": [
    "print(cleaned_article_text)"
   ]
  },
  {
   "cell_type": "code",
   "execution_count": 335,
   "id": "c3df14fa-1af8-467b-a3ac-d0edca7fd971",
   "metadata": {},
   "outputs": [
    {
     "data": {
      "text/plain": [
       "[{'Name': 'Meera Navlakha',\n",
       "  'Biography': 'The author of the article',\n",
       "  'Information': \"Meera Navlakha stated that Threads, Meta's Twitter alternative, is lacking in alternative text (alt text), a crucial tool for accessibility that tech platforms have been integrating for a while, and that Threads doesn't allow users to add their own text to images, and AI doesn't always do the trick.\"},\n",
       " {'Name': 'Indiana University',\n",
       "  'Biography': 'A university that defines accessibility',\n",
       "  'Information': \"Indiana University defines accessibility as 'the degree to which a product, device, service, environment, or facility is usable by as many people as possible', and in line with this, alt-text descriptions are meant to provide meaning and explanation to content, concisely explaining what each is offering.\"},\n",
       " {'Name': 'The CDC',\n",
       "  'Biography': 'The Centers for Disease Control and Prevention',\n",
       "  'Information': 'The CDC reported that roughly one in four adults in the United States live with some sort of disability, and 4.8 percent of the population has a vision disability.'},\n",
       " {'Name': 'Chase DiBenedetto',\n",
       "  'Biography': 'A writer for Mashable',\n",
       "  'Information': \"Chase DiBenedetto wrote that the process of adding alt text 'has the potential to help the millions of Americans who use assistive technology to access the internet'.\"}]"
      ]
     },
     "execution_count": 335,
     "metadata": {},
     "output_type": "execute_result"
    }
   ],
   "source": [
    "# print(new_source_df.to_json(orient='records', lines=True))\n",
    "new_source_df.to_dict(orient='records')"
   ]
  },
  {
   "cell_type": "code",
   "execution_count": 350,
   "id": "98eb71ec-cde7-414a-8f35-a384a9c2da2f",
   "metadata": {},
   "outputs": [],
   "source": [
    "NARRATIVE_KEYWORD_PROMPT = \"\"\"\n",
    "You will receive a news article and a set of sources to examine in that article.\n",
    "\n",
    "For each source in the list, provide the following information, once per source:\n",
    "    (1) Name: Exactly copy the name of the source.\n",
    "    (2) Narrative Function: Give a generic keyword label to categorize the narrative role the source playes in the article. \n",
    "    Infer why the author used the source, and a generalizable statement about the role they play in the article.\n",
    "    Don't just summarize their identity. Return in the format: \"LABEL\": DESCRIPTION.\n",
    "\n",
    "Here are example outputs. Again, your main task here is to identify a generalizable label that can characterize the narrative role of each source and why the author used them. \n",
    "\n",
    "[Examples]\n",
    "Example 1:\n",
    "\n",
    "{{\n",
    "    \"Name\": \"Match Group\",\n",
    "    \"Narrative Function\": \"\\\"Counterpoint\\\": This source is used to compare to the main actor in the news article and provide grounding.\"\n",
    "}}\n",
    "\n",
    "Example 2:\n",
    "\n",
    "{{\n",
    "    \"Name\": \"Dubai Airshow\",\n",
    "    \"Narrative Function\": \"\\\"More Context\\\": This source is used to further expand the context offered and offer a visual setting.\"\n",
    "}}\n",
    "\n",
    "Example 3:\n",
    "{{\n",
    "\n",
    "    \"Name\": \"Ann Gough\",\n",
    "    \"Narrative Function\": \"\\\"Victim\\\": This source provides the voice of a user for the product, giving us a personal view of the harm caused by the event.\n",
    "}}\n",
    "\n",
    "[Instructions]\n",
    "\n",
    "Now it's your turn. Here is a news article:\n",
    "\n",
    "```{news_article}```\n",
    "\n",
    "Please examine the narrative role of each of the following sources: \n",
    "\n",
    "```[{target_sources}]```\n",
    "\n",
    "For each source, answer the questions above. Output the summary in a list of python dictionaries as in the examples. Don't say anything else.\n",
    "\"\"\""
   ]
  },
  {
   "cell_type": "code",
   "execution_count": 351,
   "id": "3b525d62-5935-41d3-b9db-1b13b697a8fb",
   "metadata": {},
   "outputs": [],
   "source": [
    "source_list = ', '.join(map(lambda x: '\"%s\"' % x , new_source_df['Name'].tolist()))"
   ]
  },
  {
   "cell_type": "code",
   "execution_count": 352,
   "id": "d0e4ad2e-e13c-4123-a78d-55a38b1d4a50",
   "metadata": {},
   "outputs": [],
   "source": [
    "prompt = NARRATIVE_KEYWORD_PROMPT.format(news_article=cleaned_article_text, target_sources=source_list)\n",
    "narr_function = query_together(prompt)"
   ]
  },
  {
   "cell_type": "code",
   "execution_count": 353,
   "id": "da5d6d18-fc7e-4235-bdfe-e477519ce9b8",
   "metadata": {},
   "outputs": [
    {
     "name": "stdout",
     "output_type": "stream",
     "text": [
      "[\n",
      "    {\n",
      "        \"Name\": \"Meera Navlakha\",\n",
      "        \"Narrative Function\": \"Authoritative Voice\": This source is used as the primary voice of the article, providing the main argument and perspective.\n",
      "    },\n",
      "    {\n",
      "        \"Name\": \"Indiana University\",\n",
      "        \"Narrative Function\": \"Definitional Authority\": This source is used to provide a credible definition of a key term, adding depth and context to the article.\n",
      "    },\n",
      "    {\n",
      "        \"Name\": \"The CDC\",\n",
      "        \"Narrative Function\": \"Statistical Evidence\": This source is used to provide data and statistics that support the article's argument, adding credibility and weight to the narrative.\n",
      "    },\n",
      "    {\n",
      "        \"Name\": \"Chase DiBenedetto\",\n",
      "        \"Narrative Function\": \"Expert Endorsement\": This source is used to provide additional expert opinion and validation of the article's argument, lending credibility to the author's perspective.\n",
      "    }\n",
      "]\n"
     ]
    }
   ],
   "source": [
    "print(narr_function)"
   ]
  },
  {
   "cell_type": "code",
   "execution_count": 354,
   "id": "9baa26ba-0bca-4c6b-8b94-bffb0614b693",
   "metadata": {},
   "outputs": [
    {
     "data": {
      "text/plain": [
       "'\"Meera Navlakha\", \"Indiana University\", \"The CDC\", \"Chase DiBenedetto\"'"
      ]
     },
     "execution_count": 354,
     "metadata": {},
     "output_type": "execute_result"
    }
   ],
   "source": [
    "source_list"
   ]
  },
  {
   "cell_type": "code",
   "execution_count": null,
   "id": "661961a3-d818-4f76-a612-b56f6a528cdb",
   "metadata": {},
   "outputs": [],
   "source": []
  },
  {
   "cell_type": "code",
   "execution_count": null,
   "id": "cdc743eb-d4a0-4cf9-aa0f-2cfca630d60e",
   "metadata": {},
   "outputs": [],
   "source": []
  },
  {
   "cell_type": "code",
   "execution_count": null,
   "id": "6aa97b1d-f06f-4159-8d82-3e99d823889d",
   "metadata": {},
   "outputs": [],
   "source": []
  },
  {
   "cell_type": "code",
   "execution_count": null,
   "id": "a56096d8-fcc4-4995-a33d-95a842541b34",
   "metadata": {},
   "outputs": [],
   "source": []
  },
  {
   "cell_type": "code",
   "execution_count": null,
   "id": "9a6eff31-ddf0-43d2-9523-5bb1fc2836a8",
   "metadata": {},
   "outputs": [],
   "source": []
  },
  {
   "cell_type": "code",
   "execution_count": null,
   "id": "adfad305-057d-4ef9-bab7-e7bbe5088c8e",
   "metadata": {},
   "outputs": [],
   "source": []
  },
  {
   "cell_type": "markdown",
   "id": "58fc5a5b-f3c7-462d-8707-d26a4b62dfd7",
   "metadata": {},
   "source": [
    "# Run Ollama"
   ]
  },
  {
   "cell_type": "markdown",
   "id": "3e7462f6-678e-4cab-89f6-dde039a4e314",
   "metadata": {},
   "source": [
    "I ran llama3 locally using a cool program called Ollama: https://ollama.com/. You can follow the link to install the program.\n",
    "\n",
    "This can be useful for trying things out before we work out compute access.\n",
    "\n",
    "Run this in your terminal:\n",
    "\n",
    "`ollama run llama3`\n",
    "\n",
    "Even llama3 8b is pretty powerful. Llama 70b is better, but that may not run on your local computer."
   ]
  },
  {
   "cell_type": "code",
   "execution_count": null,
   "id": "01J33GWQ0WG658FBP2X402S3AB",
   "metadata": {},
   "outputs": [],
   "source": [
    "import requests\n",
    "import pyperclip"
   ]
  },
  {
   "cell_type": "code",
   "execution_count": null,
   "id": "01J33GWQ0WTMR8MW42R85P0CXR",
   "metadata": {},
   "outputs": [],
   "source": [
    "pyperclip.copy(doc_str)\n",
    "pyperclip.copy(json_str)"
   ]
  },
  {
   "cell_type": "code",
   "execution_count": null,
   "id": "01J33GWQ0WTSSF14Y8B66WTHE7",
   "metadata": {},
   "outputs": [],
   "source": [
    "r = requests.post(\n",
    "    'http://localhost:11434/api/generate',\n",
    "    json = {\n",
    "        \"model\": \"llama3\",\n",
    "        \"prompt\":f\"\"\"\n",
    "            Here is a news article, with each sentence annotated according to the source of it's information:\n",
    "            ```\n",
    "            {json_str}\n",
    "            ```\n",
    "\n",
    "            Please summarize each of our source annotations. Tell me in one paragraph per source: (1) who the source is (2) what informational content they provide to the article.\n",
    "            Only rely on the annotations I have provided, don't identify additional sources.\n",
    "        \"\"\",\n",
    "        \"stream\": False\n",
    "})"
   ]
  },
  {
   "cell_type": "markdown",
   "id": "9cc7b05e-d61b-4b90-aa27-ff2abd412264",
   "metadata": {},
   "source": [
    "# Get articles covering the same press release"
   ]
  },
  {
   "cell_type": "code",
   "execution_count": 16,
   "id": "47adba74-fe9f-4435-9047-8798fc97593c",
   "metadata": {},
   "outputs": [],
   "source": [
    "a_to_pr_df = pd.read_csv('../../../bloomberg-research/press-releases/data/s_p_500_backlinks/article-to-pr-mapper.csv', index_col=0)"
   ]
  },
  {
   "cell_type": "code",
   "execution_count": 20,
   "id": "bad2d1c1-242f-4472-a024-320ed2106a72",
   "metadata": {},
   "outputs": [
    {
     "data": {
      "text/plain": [
       "count\n",
       "1      127076\n",
       "2       21442\n",
       "3        8404\n",
       "4        4573\n",
       "5        2934\n",
       "        ...  \n",
       "284         1\n",
       "282         1\n",
       "276         1\n",
       "275         1\n",
       "177         1\n",
       "Name: count, Length: 343, dtype: int64"
      ]
     },
     "execution_count": 20,
     "metadata": {},
     "output_type": "execute_result"
    }
   ],
   "source": [
    "a_to_pr_df['Target URL'].value_counts().value_counts()"
   ]
  },
  {
   "cell_type": "code",
   "execution_count": 73,
   "id": "66a31d43-1f55-42b5-8502-3fa493c29477",
   "metadata": {},
   "outputs": [],
   "source": [
    "candidate_df = (\n",
    "    a_to_pr_df\n",
    "        .loc[lambda df: df['URL'].isin(df['URL'].value_counts().loc[lambda s: s == 1].index)]    \n",
    "        .loc[lambda df: df['Target URL'].str.len() > 20]    \n",
    "        .loc[lambda df: df['Target URL'].isin(df['Target URL'].value_counts().loc[lambda s: (s > 2) & (s < 100)].index)]\n",
    "        # \n",
    "        # covered by multiple news outlets\n",
    "        # \n",
    "        # .loc[lambda df: df['Target URL'].isin(\n",
    "        #     df\n",
    "        #          [['Target URL', 'news_url_domain']]\n",
    "        #          .value_counts().unstack()\n",
    "        #          .fillna(0).pipe(lambda df: (df > 0).astype(int))\n",
    "        #          .sum(axis=1)\n",
    "        #          .loc[lambda s: s > 1]\n",
    "        #          .index\n",
    "        # )]       \n",
    ")"
   ]
  },
  {
   "cell_type": "code",
   "execution_count": 54,
   "id": "1f7043d2-edbd-4619-a6a9-fb704b568821",
   "metadata": {},
   "outputs": [
    {
     "data": {
      "text/plain": [
       "(826819, 6)"
      ]
     },
     "execution_count": 54,
     "metadata": {},
     "output_type": "execute_result"
    }
   ],
   "source": [
    "a_to_pr_df.shape"
   ]
  },
  {
   "cell_type": "code",
   "execution_count": 74,
   "id": "e8708553-c18f-4027-98ba-4fd293aa86e2",
   "metadata": {},
   "outputs": [
    {
     "data": {
      "text/plain": [
       "(107654, 6)"
      ]
     },
     "execution_count": 74,
     "metadata": {},
     "output_type": "execute_result"
    }
   ],
   "source": [
    "candidate_df.shape"
   ]
  },
  {
   "cell_type": "code",
   "execution_count": 55,
   "id": "4ce4b6b8-3983-40ea-ba72-7aea43e75c39",
   "metadata": {},
   "outputs": [
    {
     "data": {
      "text/plain": [
       "(120993, 6)"
      ]
     },
     "execution_count": 55,
     "metadata": {},
     "output_type": "execute_result"
    }
   ],
   "source": [
    "candidate_df.shape"
   ]
  },
  {
   "cell_type": "code",
   "execution_count": 100,
   "id": "3721b919-4b8a-4614-8454-7418342ca08c",
   "metadata": {},
   "outputs": [],
   "source": [
    "candidate_df.to_csv('cache/news_articles_covering_the_same_press_releases.csv')"
   ]
  },
  {
   "cell_type": "code",
   "execution_count": 101,
   "id": "bdfaef8e-9934-4f7f-9db4-c0b05f7bda4f",
   "metadata": {},
   "outputs": [],
   "source": [
    "! open ."
   ]
  },
  {
   "cell_type": "code",
   "execution_count": null,
   "id": "3c064f08-3c36-42f9-8aed-7ad5bac3165a",
   "metadata": {},
   "outputs": [],
   "source": [
    "import pandas as pd \n",
    "candidate_df = pd.read_csv('cache/news_articles_covering_the_same_press_releases.csv')\n",
    "pr_url_set = set(candidate_df['Target URL'].drop_duplicates().values)\n",
    "filtered_pr_d = article_d.filter(lambda x: x['article_url'] in pr_url_set, num_proc=10)"
   ]
  },
  {
   "cell_type": "code",
   "execution_count": 89,
   "id": "129f54ec-9555-4623-a350-73c15f0456ed",
   "metadata": {},
   "outputs": [
    {
     "data": {
      "text/plain": [
       "Dataset({\n",
       "    features: ['article_url', 'target_timestamp_key', 'target_timestamp', 'sort_criteria', 'wayback_url', 'wayback_timestamp', 'method', 'links', 'article_text', 'word_lists', 'sent_lists', 'best_class', 'coref_resolved_sents'],\n",
       "    num_rows: 9607\n",
       "})"
      ]
     },
     "execution_count": 89,
     "metadata": {},
     "output_type": "execute_result"
    }
   ],
   "source": [
    "filtered_pr_d"
   ]
  },
  {
   "cell_type": "code",
   "execution_count": 95,
   "id": "f53e11b5-0e80-4c29-9a42-42c8796b9c71",
   "metadata": {},
   "outputs": [],
   "source": [
    "filtered_pr_df = filtered_pr_d.to_pandas()"
   ]
  },
  {
   "cell_type": "code",
   "execution_count": null,
   "id": "bcb0f31f-14a8-4939-a76b-5fe692f5d40e",
   "metadata": {},
   "outputs": [],
   "source": []
  },
  {
   "cell_type": "code",
   "execution_count": null,
   "id": "5fff7e0a-8ac2-4717-8f79-2d98cc7a1cca",
   "metadata": {},
   "outputs": [],
   "source": []
  },
  {
   "cell_type": "code",
   "execution_count": null,
   "id": "45554eaf-1904-46ec-8600-f4eaa5c40fe0",
   "metadata": {},
   "outputs": [],
   "source": []
  },
  {
   "cell_type": "code",
   "execution_count": null,
   "id": "e479ca1f-dd91-43ef-9142-3ba9a52e9642",
   "metadata": {},
   "outputs": [],
   "source": []
  },
  {
   "cell_type": "code",
   "execution_count": null,
   "id": "66d67a06-e005-4571-bbf6-01d3e7eff1b5",
   "metadata": {},
   "outputs": [],
   "source": []
  },
  {
   "cell_type": "code",
   "execution_count": null,
   "id": "a19c19a7-3a88-41db-bf06-854c1194a304",
   "metadata": {},
   "outputs": [],
   "source": []
  },
  {
   "cell_type": "code",
   "execution_count": null,
   "id": "21d1dbd1-bb79-491d-99c1-f528938f9010",
   "metadata": {},
   "outputs": [],
   "source": []
  },
  {
   "cell_type": "code",
   "execution_count": null,
   "id": "eab55ebf-40d9-4369-8351-6bef77a7febf",
   "metadata": {},
   "outputs": [],
   "source": []
  },
  {
   "cell_type": "code",
   "execution_count": null,
   "id": "37527658-90e3-4382-b9a1-9af328fb78b7",
   "metadata": {},
   "outputs": [],
   "source": []
  },
  {
   "cell_type": "code",
   "execution_count": null,
   "id": "e77b1be6-ae1f-40b7-b8fb-c95315917eb0",
   "metadata": {},
   "outputs": [],
   "source": []
  },
  {
   "cell_type": "code",
   "execution_count": null,
   "id": "84f417b8-ebf3-42e3-bd03-ce9bf19dd90e",
   "metadata": {},
   "outputs": [],
   "source": []
  },
  {
   "cell_type": "code",
   "execution_count": null,
   "id": "fa5f5eab-2318-4f85-9b2e-7be4a9feb833",
   "metadata": {},
   "outputs": [],
   "source": []
  }
 ],
 "metadata": {
  "kernelspec": {
   "display_name": "Python 3 (ipykernel)",
   "language": "python",
   "name": "python3"
  },
  "language_info": {
   "codemirror_mode": {
    "name": "ipython",
    "version": 3
   },
   "file_extension": ".py",
   "mimetype": "text/x-python",
   "name": "python",
   "nbconvert_exporter": "python",
   "pygments_lexer": "ipython3",
   "version": "3.11.9"
  }
 },
 "nbformat": 4,
 "nbformat_minor": 5
}

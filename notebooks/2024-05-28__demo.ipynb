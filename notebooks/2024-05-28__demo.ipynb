{
 "cells": [
  {
   "cell_type": "code",
   "execution_count": null,
   "id": "01J33GWQ0VY6RSRYKRED5VVZKW",
   "metadata": {},
   "outputs": [],
   "source": [
    "from datasets import load_from_disk\n",
    "import pandas as pd\n"
   ]
  },
  {
   "cell_type": "code",
   "execution_count": null,
   "id": "01J33GWQ0VT0NCXQK4DFY52K4T",
   "metadata": {},
   "outputs": [],
   "source": [
    "! mkdir ../data\n",
    "! wget https://storage.googleapis.com/usc-data/all-coref-resolved.tar.gz\n",
    "! wget https://storage.googleapis.com/usc-data/full-source-scored-data.jsonl.gz\n",
    "! mv all-coref-resolved.tar.gz ../data\n",
    "! mv full-source-scored-data.jsonl.gz ../data\n",
    "! tar -xvzf ../data/all-coref-resolved.tar.gz"
   ]
  },
  {
   "cell_type": "code",
   "execution_count": null,
   "id": "01J33GWQ0V3WMKHNPA6B2QPVD2",
   "metadata": {},
   "outputs": [],
   "source": [
    "import pandas as pd\n",
    "import numpy as np\n",
    "from tqdm.auto import tqdm\n",
    "data_dir = '../data'\n",
    "# data_dir = '../../../bloomberg-research/press-releases/data/s_p_500_backlinks'\n",
    "source_df = pd.read_json(f'{data_dir}/full-source-scored-data.jsonl.gz', lines=True, compression='gzip', nrows=100)"
   ]
  },
  {
   "cell_type": "code",
   "execution_count": null,
   "id": "01J33GWQ0W5NR7NHXBKBFQJW4A",
   "metadata": {},
   "outputs": [],
   "source": [
    "article_d = load_from_disk('../all-coref-resolved')"
   ]
  },
  {
   "cell_type": "code",
   "execution_count": null,
   "id": "01J33GWQ0WC8XAA2J8YVMTJ83D",
   "metadata": {},
   "outputs": [],
   "source": [
    "filtered_article_d = article_d.filter(lambda x: x['article_url'] in set(source_df['article_url']), num_proc=10)"
   ]
  },
  {
   "cell_type": "code",
   "execution_count": null,
   "id": "01J33GWQ0WWV74YVEEXKJECYHF",
   "metadata": {},
   "outputs": [],
   "source": [
    "#experimentation, please ignore\n",
    "print(type(filtered_article_d))\n",
    "articles = filtered_article_d.to_pandas()\n",
    "\n",
    "\n",
    "sentences_with_quotes = (\n",
    "    filtered_article_d\n",
    "         .to_pandas()\n",
    "         .merge(source_df, on='article_url'))\n",
    "\n",
    "print(sentences_with_quotes.columns)\n",
    "for i in range(100):\n",
    "    print(sentences_with_quotes.iloc[i]['article_url'])\n"
   ]
  },
  {
   "cell_type": "code",
   "execution_count": null,
   "id": "01J33GWQ0WAGZ8XPJGCWWB9NSP",
   "metadata": {
    "scrolled": true
   },
   "outputs": [],
   "source": [
    "disallowed_quote_types = set(['Other', 'Background/Narrative', 'No Quote'])\n",
    "\n",
    "sentences_with_quotes = (\n",
    "    filtered_article_d\n",
    "         .to_pandas()\n",
    "         .merge(source_df, on='article_url')\n",
    "         [['article_url', 'attributions', 'quote_type', 'sent_lists',]]\n",
    "         .explode(['attributions', 'quote_type', 'sent_lists'])\n",
    ")\n",
    "\n",
    "sentences_with_quotes = (sentences_with_quotes\n",
    "     .assign(attributions=lambda df:\n",
    "             df.apply(lambda x: x['attributions'] if x['quote_type'] not in disallowed_quote_types else np.nan, axis=1)\n",
    "    )\n",
    ")"
   ]
  },
  {
   "cell_type": "code",
   "execution_count": null,
   "id": "01J33GWQ0WW9DVW7RZMK1KAED9",
   "metadata": {},
   "outputs": [],
   "source": [
    "one_article = (\n",
    "    sentences_with_quotes\n",
    "         .loc[lambda df: df['article_url'] == df['article_url'].unique()[1]]\n",
    "        .reset_index(drop=True)\n",
    ")"
   ]
  },
  {
   "cell_type": "code",
   "execution_count": null,
   "id": "01J33GWQ0WE0TCTYX434EHE084",
   "metadata": {},
   "outputs": [],
   "source": [
    "doc_str = one_article[['sent_lists', 'attributions']].to_csv(sep='\\t', index=False)\n",
    "json_str = one_article[['sent_lists', 'attributions']].to_json(lines=True, orient='records')"
   ]
  },
  {
   "cell_type": "markdown",
   "id": "3e7462f6-678e-4cab-89f6-dde039a4e314",
   "metadata": {},
   "source": [
    "I ran llama3 locally using a cool program called Ollama: https://ollama.com/. You can follow the link to install the program.\n",
    "\n",
    "This can be useful for trying things out before we work out compute access.\n",
    "\n",
    "Run this in your terminal:\n",
    "\n",
    "`ollama run llama3`\n",
    "\n",
    "Even llama3 8b is pretty powerful. Llama 70b is better, but that may not run on your local computer."
   ]
  },
  {
   "cell_type": "code",
   "execution_count": null,
   "id": "01J33GWQ0WG658FBP2X402S3AB",
   "metadata": {},
   "outputs": [],
   "source": [
    "import requests\n",
    "import pyperclip"
   ]
  },
  {
   "cell_type": "code",
   "execution_count": null,
   "id": "01J33GWQ0WTMR8MW42R85P0CXR",
   "metadata": {},
   "outputs": [],
   "source": [
    "pyperclip.copy(doc_str)\n",
    "pyperclip.copy(json_str)"
   ]
  },
  {
   "cell_type": "code",
   "execution_count": null,
   "id": "01J33GWQ0WTSSF14Y8B66WTHE7",
   "metadata": {},
   "outputs": [],
   "source": [
    "r = requests.post(\n",
    "    'http://localhost:11434/api/generate',\n",
    "    json = {\n",
    "        \"model\": \"llama3\",\n",
    "        \"prompt\":f\"\"\"\n",
    "            Here is a news article, with each sentence annotated according to the source of it's information:\n",
    "            ```\n",
    "            {json_str}\n",
    "            ```\n",
    "\n",
    "            Please summarize each of our source annotations. Tell me in one paragraph per source: (1) who the source is (2) what informational content they provide to the article.\n",
    "            Only rely on the annotations I have provided, don't identify additional sources.\n",
    "        \"\"\",\n",
    "        \"stream\": False\n",
    "})"
   ]
  },
  {
   "cell_type": "code",
   "execution_count": null,
   "id": "badef086-20f0-4aa9-9769-7c852ff9b7ea",
   "metadata": {},
   "outputs": [],
   "source": [
    "print(r.json()['response'])"
   ]
  },
  {
   "cell_type": "code",
   "execution_count": null,
   "id": "d4663f71-4708-435f-a1bf-3cdff4b994b7",
   "metadata": {},
   "outputs": [],
   "source": []
  },
  {
   "cell_type": "code",
   "execution_count": null,
   "id": "c8141d3c-db08-4205-9e22-48b08db25e07",
   "metadata": {},
   "outputs": [],
   "source": []
  },
  {
   "cell_type": "code",
   "execution_count": null,
   "id": "918831a4-f609-4f7d-a36e-8abab527cfef",
   "metadata": {},
   "outputs": [],
   "source": []
  },
  {
   "cell_type": "code",
   "execution_count": null,
   "id": "d42e1ddc-20cb-4b43-b573-231f813b9c5e",
   "metadata": {},
   "outputs": [],
   "source": []
  },
  {
   "cell_type": "code",
   "execution_count": null,
   "id": "d7f20973-c1a7-422c-924d-4855b9fe8d63",
   "metadata": {},
   "outputs": [],
   "source": []
  },
  {
   "cell_type": "code",
   "execution_count": null,
   "id": "0c2abe74-47ae-49ca-a08c-c792ba120863",
   "metadata": {},
   "outputs": [],
   "source": []
  },
  {
   "cell_type": "code",
   "execution_count": null,
   "id": "ab063171-471b-49a6-a61b-ec5d0e4ba98a",
   "metadata": {},
   "outputs": [],
   "source": []
  },
  {
   "cell_type": "code",
   "execution_count": null,
   "id": "47adba74-fe9f-4435-9047-8798fc97593c",
   "metadata": {},
   "outputs": [],
   "source": []
  }
 ],
 "metadata": {
  "kernelspec": {
   "display_name": "Python 3 (ipykernel)",
   "language": "python",
   "name": "python3"
  },
  "language_info": {
   "codemirror_mode": {
    "name": "ipython",
    "version": 3
   },
   "file_extension": ".py",
   "mimetype": "text/x-python",
   "name": "python",
   "nbconvert_exporter": "python",
   "pygments_lexer": "ipython3",
   "version": "3.12.3"
  }
 },
 "nbformat": 4,
 "nbformat_minor": 5
}

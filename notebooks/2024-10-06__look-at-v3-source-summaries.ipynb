{
 "cells": [
  {
   "cell_type": "code",
   "execution_count": 45,
   "id": "9f70b229-50ea-45ba-aadb-18f774729ccd",
   "metadata": {},
   "outputs": [],
   "source": [
    "import pandas as pd \n",
    "import glob\n",
    "import jsonlines\n",
    "import json\n",
    "import re\n",
    "import logging\n",
    "from tqdm.auto import tqdm"
   ]
  },
  {
   "cell_type": "markdown",
   "id": "90b80a2f-d0dd-4076-a242-990a9c4b4b45",
   "metadata": {},
   "source": [
    "### Read in Data"
   ]
  },
  {
   "cell_type": "code",
   "execution_count": 23,
   "id": "d46f944c-27bf-4b39-b541-93967a9ab534",
   "metadata": {},
   "outputs": [],
   "source": [
    "all_summary_files = glob.glob('../data/v3_sources/v3_source_summaries/*summaries*')\n",
    "all_centrality_files = glob.glob('../data/v3_sources/v3_source_summaries/*centrality*')\n",
    "all_discourse_files = glob.glob('../data/v3_sources/v3_source_summaries/*narrative-keyword*')"
   ]
  },
  {
   "cell_type": "code",
   "execution_count": 138,
   "id": "40e900db-e3c3-4934-8354-36ee127fa45b",
   "metadata": {},
   "outputs": [],
   "source": [
    "def robust_read_jsonlist(f):\n",
    "    all_lines = []\n",
    "    for line in open(f, encoding='utf-8'):\n",
    "        try:\n",
    "            all_lines.append(json.loads(line))\n",
    "        except:\n",
    "            print('error')\n",
    "    return pd.DataFrame(all_lines, columns=['url', 'response'])\n",
    "\n",
    "\n",
    "def robust_parse_narr_json_str(t):\n",
    "    t = t.replace(']','').replace('[','').replace('`', '').strip()\n",
    "    t2_chunks = re.split(r'\\},\\s+\\{', t)\n",
    "    \n",
    "    all_ds = []\n",
    "    for t2 in t2_chunks:\n",
    "        d = {}\n",
    "        t3_chunks = t2.replace('{', '').replace('}', '').strip().split('\\n')\n",
    "        for t3 in t3_chunks:\n",
    "            for k in keys:\n",
    "                if 'Name' in t3:\n",
    "                    d['Name'] = t3.replace('\"Name\":', '').strip().removeprefix('\"').removesuffix('\",')\n",
    "                if 'Narrative Function' in t3:\n",
    "                    d['Narrative Function'] = t3.replace('\"Narrative Function\":', '').strip()\n",
    "        all_ds.append(d)\n",
    "    return all_ds\n",
    "    \n",
    "\n",
    "def robust_extract_json_str(lm_string):\n",
    "    if not lm_string:\n",
    "        return None\n",
    "    # Use regular expressions to search for list brackets across multiple lines\n",
    "    match = re.search(r'\\[.*?\\]', lm_string, re.DOTALL)\n",
    "    if match:\n",
    "        lm_string = match.group(0)\n",
    "    try:\n",
    "        return json.loads(lm_string)\n",
    "    except:\n",
    "        try:\n",
    "            return ast.literal_eval(lm_string)\n",
    "        except:\n",
    "            pass\n",
    "    # logging.error(f\"Could not extract json string from: {lm_string}\")\n",
    "    return []"
   ]
  },
  {
   "cell_type": "code",
   "execution_count": 139,
   "id": "8742560c-d25e-4c26-bd77-60dbe3229c68",
   "metadata": {
    "scrolled": true
   },
   "outputs": [
    {
     "data": {
      "application/vnd.jupyter.widget-view+json": {
       "model_id": "8df5fe746eae4ddf86027f315ee441b1",
       "version_major": 2,
       "version_minor": 0
      },
      "text/plain": [
       "  0%|          | 0/489 [00:00<?, ?it/s]"
      ]
     },
     "metadata": {},
     "output_type": "display_data"
    },
    {
     "name": "stdout",
     "output_type": "stream",
     "text": [
      "error\n"
     ]
    },
    {
     "data": {
      "application/vnd.jupyter.widget-view+json": {
       "model_id": "b6a6c0a2fc9145aa9ffcb839c6c8c011",
       "version_major": 2,
       "version_minor": 0
      },
      "text/plain": [
       "  0%|          | 0/485 [00:00<?, ?it/s]"
      ]
     },
     "metadata": {},
     "output_type": "display_data"
    },
    {
     "data": {
      "application/vnd.jupyter.widget-view+json": {
       "model_id": "acdafee0342945b98670fcff041a2012",
       "version_major": 2,
       "version_minor": 0
      },
      "text/plain": [
       "  0%|          | 0/482 [00:00<?, ?it/s]"
      ]
     },
     "metadata": {},
     "output_type": "display_data"
    }
   ],
   "source": [
    "all_summs = []\n",
    "for f in tqdm(all_summary_files):\n",
    "    all_summ_df = (\n",
    "        robust_read_jsonlist(f)\n",
    "        .assign(source_summaries=lambda df: df['response'].apply(robust_extract_json_str))\n",
    "    )\n",
    "    all_summs.append(all_summ_df)\n",
    "\n",
    "all_discourse = []\n",
    "for f in tqdm(all_discourse_files):\n",
    "    all_disc_df = (\n",
    "        robust_read_jsonlist(f)\n",
    "        .assign(source_discourse=lambda df: df['response'].apply(robust_parse_narr_json_str))\n",
    "    )\n",
    "    all_discourse.append(all_disc_df)\n",
    "\n",
    "all_centrality = []\n",
    "for f in tqdm(all_centrality_files):\n",
    "    all_cent_df = (\n",
    "        robust_read_jsonlist(f)\n",
    "        .assign(source_cent=lambda df: df['response'].apply(robust_extract_json_str))\n",
    "    )\n",
    "    all_centrality.append(all_cent_df)"
   ]
  },
  {
   "cell_type": "code",
   "execution_count": 140,
   "id": "574d39e5-8760-4bcf-831c-1f3ce3b18bbe",
   "metadata": {},
   "outputs": [],
   "source": [
    "full_summ_df = pd.concat(all_summs)\n",
    "full_disc_df = pd.concat(all_discourse)\n",
    "full_cent_df = pd.concat(all_centrality)\n",
    "\n",
    "#.loc[lambda df: df['source_summaries'].str.len() == 0].shape"
   ]
  },
  {
   "cell_type": "code",
   "execution_count": 340,
   "id": "27c61ef2-86be-4acb-b86e-3fc1f5231241",
   "metadata": {
    "scrolled": true
   },
   "outputs": [],
   "source": [
    "source_summ_df = (\n",
    "    full_summ_df\n",
    "        .loc[lambda df: (df['source_summaries'].str.len() < 15) & (df['source_summaries'].str.len() > 3)]\n",
    "        .drop(columns='response')\n",
    "        .explode('source_summaries').reset_index(drop=True)\n",
    "            .pipe(lambda df: pd.concat([\n",
    "                df[['url']], pd.DataFrame(df['source_summaries'].tolist())\n",
    "            ], axis=1)\n",
    "         )\n",
    "        .drop_duplicates(['url', 'Name'])\n",
    ")\n",
    "\n",
    "source_disc_df = (\n",
    "    full_disc_df\n",
    "        .drop(columns='response')\n",
    "        .explode('source_discourse').reset_index(drop=True)\n",
    "            .pipe(lambda df: pd.concat([\n",
    "                df[['url']], pd.DataFrame(df['source_discourse'].tolist())\n",
    "            ], axis=1)\n",
    "         )\n",
    "        .drop_duplicates(['url', 'Name'])\n",
    ")\n",
    "\n",
    "source_cent_df = (\n",
    "    full_cent_df\n",
    "        .drop(columns='response')\n",
    "        .explode('source_cent')\n",
    "        .loc[lambda df: df['source_cent'].notnull()]\n",
    "        .loc[lambda df: df['source_cent'].apply(type) == dict]\n",
    "        .reset_index(drop=True)\n",
    "            .pipe(lambda df: pd.concat([\n",
    "                df[['url']], pd.DataFrame(df['source_cent'].tolist())\n",
    "            ], axis=1)\n",
    "         )\n",
    "        [['url', 'Name', 'Perspective', 'Centrality', 'Is_Error', 'Justification']]\n",
    "        .dropna()\n",
    "        .drop_duplicates(['url', 'Name'])\n",
    ")"
   ]
  },
  {
   "cell_type": "code",
   "execution_count": 341,
   "id": "86e1f8f0-19ac-4fc3-a6b6-d7fe364f3a9d",
   "metadata": {},
   "outputs": [
    {
     "data": {
      "text/plain": [
       "(455274, 4)"
      ]
     },
     "execution_count": 341,
     "metadata": {},
     "output_type": "execute_result"
    }
   ],
   "source": [
    "source_summ_df.shape"
   ]
  },
  {
   "cell_type": "code",
   "execution_count": 342,
   "id": "dcda27d7-1675-47b0-8b7a-10a01075dd1d",
   "metadata": {},
   "outputs": [
    {
     "data": {
      "text/plain": [
       "(758619, 3)"
      ]
     },
     "execution_count": 342,
     "metadata": {},
     "output_type": "execute_result"
    }
   ],
   "source": [
    "source_disc_df.shape"
   ]
  },
  {
   "cell_type": "code",
   "execution_count": 343,
   "id": "53baea24-adf1-4b12-98bc-0eade864d399",
   "metadata": {},
   "outputs": [
    {
     "data": {
      "text/plain": [
       "(557556, 6)"
      ]
     },
     "execution_count": 343,
     "metadata": {},
     "output_type": "execute_result"
    }
   ],
   "source": [
    "source_cent_df.shape"
   ]
  },
  {
   "cell_type": "code",
   "execution_count": 348,
   "id": "fc06f225-d3c1-436a-b653-54a72e3a7cfa",
   "metadata": {},
   "outputs": [],
   "source": [
    "full_source_df = (\n",
    "    source_summ_df\n",
    "        .merge(source_disc_df, on=['url', 'Name'])\n",
    "        .merge(source_cent_df, on=['url', 'Name'])\n",
    "        .loc[lambda df: df['Is_Error'] == 'No']\n",
    "        # .drop(columns='Note')\n",
    ")"
   ]
  },
  {
   "cell_type": "code",
   "execution_count": 372,
   "id": "1928cefb-05c5-4e7d-a33a-10f765e7c6f3",
   "metadata": {},
   "outputs": [
    {
     "data": {
      "text/plain": [
       "Information\n",
       "False    358799\n",
       "True      31688\n",
       "Name: count, dtype: int64"
      ]
     },
     "execution_count": 372,
     "metadata": {},
     "output_type": "execute_result"
    }
   ],
   "source": [
    "full_source_df.pipe(lambda df: df['Information'].str.len() < 100).value_counts()"
   ]
  },
  {
   "cell_type": "code",
   "execution_count": 349,
   "id": "84e224f7-08ac-4555-b5e8-076411938c1a",
   "metadata": {},
   "outputs": [],
   "source": [
    "perp_col_order = [\n",
    "    'Authoritative',\n",
    "    'Supportive',\n",
    "    'Neutral',\n",
    "    'Against',\n",
    "    'Skeptical',\n",
    "    'Informative',  \n",
    "]\n",
    "cent_col_order = ['High', 'Medium', 'Low']"
   ]
  },
  {
   "cell_type": "code",
   "execution_count": 350,
   "id": "1b8868ee-afc8-4af2-a50c-29c768e6eaf7",
   "metadata": {},
   "outputs": [],
   "source": [
    "full_source_df['Perspective'] = (\n",
    "    full_source_df['Perspective']\n",
    "        .apply(lambda x: x if x in to_keep_perp else 'Informative')\n",
    ")"
   ]
  },
  {
   "cell_type": "code",
   "execution_count": 351,
   "id": "5f450e1a-5767-47c7-b8e1-a4262e1e2c54",
   "metadata": {},
   "outputs": [],
   "source": [
    "import seaborn as sns"
   ]
  },
  {
   "cell_type": "code",
   "execution_count": 352,
   "id": "1ea6286e-8750-4288-a93f-17653f645654",
   "metadata": {},
   "outputs": [
    {
     "data": {
      "text/plain": [
       "<Axes: xlabel='Perspective'>"
      ]
     },
     "execution_count": 352,
     "metadata": {},
     "output_type": "execute_result"
    },
    {
     "data": {
      "image/png": "[encoded data removed]",
      "text/plain": [
       "<Figure size 640x480 with 1 Axes>"
      ]
     },
     "metadata": {},
     "output_type": "display_data"
    }
   ],
   "source": [
    "(\n",
    "    full_source_df[['Perspective', 'Centrality']]\n",
    "        .value_counts()\n",
    "        .unstack().loc[perp_col_order, cent_col_order]\n",
    "        .pipe(lambda df: df.divide(df.sum(axis=1), axis=0))\n",
    "        .plot(kind='bar')\n",
    ")"
   ]
  },
  {
   "cell_type": "code",
   "execution_count": 353,
   "id": "d76ce739-46e4-46f4-a89e-37c4e1de4f2a",
   "metadata": {},
   "outputs": [],
   "source": [
    "different_roles = full_source_df.groupby('Name')[['url', 'Perspective', 'Narrative Function']].aggregate(list)"
   ]
  },
  {
   "cell_type": "code",
   "execution_count": 354,
   "id": "2deec51f-806d-4623-ae2f-0d5ab793fcd1",
   "metadata": {},
   "outputs": [
    {
     "data": {
      "text/plain": [
       "(184927, 3)"
      ]
     },
     "execution_count": 354,
     "metadata": {},
     "output_type": "execute_result"
    }
   ],
   "source": [
    "different_roles.shape"
   ]
  },
  {
   "cell_type": "code",
   "execution_count": 307,
   "id": "6442e1bf-ea5a-4c87-9262-29d1a39a2251",
   "metadata": {},
   "outputs": [],
   "source": [
    "t = (different_roles\n",
    " .loc[lambda df: df['Perspective'].str.len().pipe(lambda s: (s > 2) & (s < 10))]\n",
    ")"
   ]
  },
  {
   "cell_type": "code",
   "execution_count": 320,
   "id": "4adb2b6d-0105-4586-8431-a3efe823d056",
   "metadata": {},
   "outputs": [
    {
     "data": {
      "text/plain": [
       "Perspective\n",
       "2    6882\n",
       "3    4186\n",
       "1    3529\n",
       "4     890\n",
       "5     147\n",
       "6       8\n",
       "Name: count, dtype: int64"
      ]
     },
     "execution_count": 320,
     "metadata": {},
     "output_type": "execute_result"
    }
   ],
   "source": [
    "t['Perspective'].apply(lambda x: list(set(x))).str.len().value_counts()"
   ]
  },
  {
   "cell_type": "code",
   "execution_count": 322,
   "id": "ff03b9f5-6136-42ce-a3b1-6dc6b12e5456",
   "metadata": {},
   "outputs": [
    {
     "data": {
      "text/plain": [
       "Name\n",
       "&pizza                             [\"Deal Provider\": This source is used to provi...\n",
       "1-800-FLOWERS.COM                  [\"Main Actor\": This source is the main actor i...\n",
       "1-800-Flowers.com                  [\"Example\": This source is used to provide a s...\n",
       "19 Republican attorneys general    [\"Counterpoint\": This source is used to provid...\n",
       "1Password                          [\"Solution\": This source is used as an example...\n",
       "                                                         ...                        \n",
       "myFICO.com                         [\"Authority\": This source is used to provide a...\n",
       "people familiar with the matter    [\"Insider\": \"This source is used to provide ex...\n",
       "poweroutage.us                     [\"Data Source\": This source is used to provide...\n",
       "ulta.com                           [\"Authority\": This source is used to provide i...\n",
       "Ángel González                     [\"Insight\": This source provides expert analys...\n",
       "Name: Narrative Function, Length: 15642, dtype: object"
      ]
     },
     "execution_count": 322,
     "metadata": {},
     "output_type": "execute_result"
    }
   ],
   "source": [
    "t['Narrative Function']"
   ]
  },
  {
   "cell_type": "code",
   "execution_count": 325,
   "id": "dad72412-6649-4889-bbd0-14571494bcb7",
   "metadata": {},
   "outputs": [
    {
     "name": "stdout",
     "output_type": "stream",
     "text": [
      "batch_label_paired_source_data.py\n",
      "instruct_emb_model.py\n",
      "run_emb_trained_model.sh\n",
      "run_training_for_sentence_similarity_model.sh\n",
      "train_sentence_similarity_model.py\n"
     ]
    }
   ],
   "source": [
    "ls ../make_source_label_hierarchy/embedding_modeling/"
   ]
  },
  {
   "cell_type": "code",
   "execution_count": 332,
   "id": "51a06c74-c6c9-4904-a05d-9b1b9f5e6ec1",
   "metadata": {},
   "outputs": [
    {
     "name": "stdout",
     "output_type": "stream",
     "text": [
      "mpnet-trained-model.tar.gz                    100%  370MB  18.4MB/s   00:20    \n"
     ]
    }
   ],
   "source": [
    "! scp end:/scratch1/spangher/conditional-information-retrieval/make_source_label_hierarchy/models/mpnet-BASE-all-nli-triplet-to-download/mpnet-trained-model.tar.gz ../make_source_label_hierarchy/embedding_modeling/"
   ]
  },
  {
   "cell_type": "code",
   "execution_count": 355,
   "id": "be4eb837-cdc6-4721-916c-ce8c3ce010c7",
   "metadata": {},
   "outputs": [],
   "source": [
    "full_source_df.to_csv('../data/v3_sources/v3_combined_sources.csv.gz')"
   ]
  },
  {
   "cell_type": "code",
   "execution_count": 356,
   "id": "87bf4ba4-8179-458f-b67e-7f7ef98b8041",
   "metadata": {},
   "outputs": [],
   "source": [
    "! open ."
   ]
  },
  {
   "cell_type": "markdown",
   "id": "ca0594a2-607b-42be-b48b-f669bf5fe191",
   "metadata": {},
   "source": [
    "# Label these sources using GPT4-mini"
   ]
  },
  {
   "cell_type": "markdown",
   "id": "a66e7204-e21a-458b-adf7-e84b180ec560",
   "metadata": {
    "jp-MarkdownHeadingCollapsed": true
   },
   "source": [
    "### Set up GPT4-mini"
   ]
  },
  {
   "cell_type": "code",
   "execution_count": 38,
   "id": "c296f93f-8f03-4540-ad33-0c969b19dafc",
   "metadata": {},
   "outputs": [],
   "source": [
    "PROMPT = PROMPT = \"\"\"\n",
    "I am trying to determine the role a source plays in this news article, based on the information it provides. \n",
    "\n",
    "Choose from these categories:\n",
    "\n",
    "\"Anecdotes, Examples and Illustration\"\n",
    "\"Main Actor\"\n",
    "\"Subject\"\n",
    "\"Background Information\"\n",
    "\"Broadening Perspective\"\n",
    "\"Analysis\"\n",
    "\"Counterpoint\"\n",
    "\"Expert\"\n",
    "\"Confirmation and Witness\"\n",
    "\"Data Resource\"\n",
    " \n",
    "Here are definitions for each category:\n",
    "\n",
    "* \"Anecdotes, Examples and Illustration\": are real-world stories of every-day people being affected by events in the story.\n",
    "* \"Main Actor\": are individuals or entities involved in decision-making that effects events in the story.\n",
    "* \"Subject\": are individuals or entities being affected/targeted by events in the story.\n",
    "* \"Background Information\": provide broader context to events, helping readers understand the main topic in the context of what is going on and grasp peripheral details.\n",
    "* \"Broadening Perspective\": induces the reader to think about the events of the news article in new or bigger picture.\n",
    "* \"Analysis\": These sources offer insights and forecasts, often explaining what things mean going forward.\n",
    "* \"Counterpoint\": These sources offer diverse perspectives or examples of differences, opposing opinions to provide a more balanced understanding.\n",
    "* \"Expert\": These sources provide essential facts, rules or interpretations to help us understanding the events.\n",
    "* \"Confirmation and Witness\": Someone whose role is primarily to confirm events that occurred in the news article. \n",
    "* \"Data Resource\": These sources provide statistics and other survey or scientific resources.\n",
    "\n",
    "Here are some examples of sources with their labels:\n",
    "\n",
    "ARTICLE TOPIC: \"Is Bumble's initial public offering worth the buzz, and can it compete with industry leader Match Group?\",\n",
    "NAME: \"Match Group\"\n",
    "BIO: \"Match Group is a $45 billion dating conglomerate.\"\n",
    "INFO: \"Match Group is valued at $46 billion, or roughly eight times Bumble's current valuation.\"\n",
    "MY NOTES: \"This source provides a look at another company in this industry that gets less buzz\"\n",
    "LABEL: \"Counterpoint\"\n",
    "\n",
    "ARTICLE TOPIC: \"Will the emerging space travel industry be accessible to the general public or remain a luxury only the super rich can afford?\",\n",
    "NAME: \"Ceridwen Dovey\",\n",
    "BIO: \"An analyst who trades in the area of space companies.\"\n",
    "INFO: \"Dovey says that the space barons are shrewdly tapping into our respect for astronauts and our idealism about what space represents.\"\n",
    "MY NOTES: \"This source peeks behind the curtain to dispel some illusions about how these companies are advertising themselves.\"\n",
    "LABEL: \"Analysis\"\n",
    "\n",
    "ARTICLE TOPIC: \"What is the Biden administration doing to restrict China's access to advanced artificial intelligence technology?\"\n",
    "NAME: \"Nvidia\",\n",
    "BIO: \"A leading chip developer in the U.S.\"\n",
    "INFO: \"Nvidia's shares closed down 1.8 percent on Wednesday after reports of the potential export crackdown of it's chips to China.\"\n",
    "MY NOTES: \"This source shares how they are being impacted by government's moves.\"\n",
    "LABEL: \"Subject\"\n",
    "\n",
    "Now it's your turn. Respond only with the keyword. Don't say anything else.\n",
    "\n",
    "ARTICLE TOPIC: {query}\n",
    "NAME: {source_name}\n",
    "BIO: {source_bio}\n",
    "INFO: {source_info}\n",
    "MY NOTES: {narrative_info}\n",
    "LABEL:\n",
    "\"\"\""
   ]
  },
  {
   "cell_type": "code",
   "execution_count": 33,
   "id": "2e347d02-cd7c-480d-b715-34d6a3f136f7",
   "metadata": {},
   "outputs": [],
   "source": [
    "# ! mv /Users/spangher/Downloads/v3_combined_ALL.json ../data/v3_sources/\n",
    "import json\n",
    "import pandas as pd \n",
    "queries = json.load(open('../data/v3_sources/v3_combined_ALL.json'))"
   ]
  },
  {
   "cell_type": "code",
   "execution_count": 34,
   "id": "199f19eb-bb9a-4a83-afa7-824ba0f0e6bb",
   "metadata": {},
   "outputs": [],
   "source": [
    "full_source_df = pd.read_csv('../data/v3_sources/v3_combined_sources.csv.gz', index_col=0)\n",
    "full_source_df = pd.DataFrame(queries).drop(columns='truth').merge(full_source_df)"
   ]
  },
  {
   "cell_type": "code",
   "execution_count": 35,
   "id": "53d7efb7-e56e-4734-97e1-6c73a1c1092e",
   "metadata": {},
   "outputs": [
    {
     "data": {
      "text/plain": [
       "Narrative Function\n",
       "False    386638\n",
       "True       1500\n",
       "Name: count, dtype: int64"
      ]
     },
     "execution_count": 35,
     "metadata": {},
     "output_type": "execute_result"
    }
   ],
   "source": [
    "full_source_df['Narrative Function'].isnull().value_counts()"
   ]
  },
  {
   "cell_type": "code",
   "execution_count": 36,
   "id": "518f5274-1893-4423-a17c-0ae557631c5d",
   "metadata": {},
   "outputs": [
    {
     "data": {
      "text/html": [
       "<div>\n",
       "<style scoped>\n",
       "    .dataframe tbody tr th:only-of-type {\n",
       "        vertical-align: middle;\n",
       "    }\n",
       "\n",
       "    .dataframe tbody tr th {\n",
       "        vertical-align: top;\n",
       "    }\n",
       "\n",
       "    .dataframe thead th {\n",
       "        text-align: right;\n",
       "    }\n",
       "</style>\n",
       "<table border=\"1\" class=\"dataframe\">\n",
       "  <thead>\n",
       "    <tr style=\"text-align: right;\">\n",
       "      <th></th>\n",
       "      <th>url</th>\n",
       "      <th>query</th>\n",
       "      <th>Name</th>\n",
       "      <th>Biography</th>\n",
       "      <th>Information</th>\n",
       "      <th>Narrative Function</th>\n",
       "      <th>Perspective</th>\n",
       "      <th>Centrality</th>\n",
       "      <th>Is_Error</th>\n",
       "      <th>Justification</th>\n",
       "    </tr>\n",
       "  </thead>\n",
       "  <tbody>\n",
       "    <tr>\n",
       "      <th>0</th>\n",
       "      <td>www.cnbc.com/2014/08/07/has-google-lost-contro...</td>\n",
       "      <td>Is Google's anti-spam algorithm, Penguin, havi...</td>\n",
       "      <td>Josh Bachynski</td>\n",
       "      <td>A consultant who works with companies on searc...</td>\n",
       "      <td>Josh Bachynski stated that not only does Googl...</td>\n",
       "      <td>\"Critic\": This source is used to provide a cri...</td>\n",
       "      <td>Skeptical</td>\n",
       "      <td>Medium</td>\n",
       "      <td>No</td>\n",
       "      <td>Bachynski is a consultant who works with compa...</td>\n",
       "    </tr>\n",
       "  </tbody>\n",
       "</table>\n",
       "</div>"
      ],
      "text/plain": [
       "                                                 url  \\\n",
       "0  www.cnbc.com/2014/08/07/has-google-lost-contro...   \n",
       "\n",
       "                                               query            Name  \\\n",
       "0  Is Google's anti-spam algorithm, Penguin, havi...  Josh Bachynski   \n",
       "\n",
       "                                           Biography  \\\n",
       "0  A consultant who works with companies on searc...   \n",
       "\n",
       "                                         Information  \\\n",
       "0  Josh Bachynski stated that not only does Googl...   \n",
       "\n",
       "                                  Narrative Function Perspective Centrality  \\\n",
       "0  \"Critic\": This source is used to provide a cri...   Skeptical     Medium   \n",
       "\n",
       "  Is_Error                                      Justification  \n",
       "0       No  Bachynski is a consultant who works with compa...  "
      ]
     },
     "execution_count": 36,
     "metadata": {},
     "output_type": "execute_result"
    }
   ],
   "source": [
    "full_source_df.head(1)#.shape#.head(1)"
   ]
  },
  {
   "cell_type": "code",
   "execution_count": 39,
   "id": "7f6c8c01-0d98-407c-9fec-6e51c3420830",
   "metadata": {},
   "outputs": [
    {
     "data": {
      "application/vnd.jupyter.widget-view+json": {
       "model_id": "4b9caa01f4614293b3cd5e182f3a9d84",
       "version_major": 2,
       "version_minor": 0
      },
      "text/plain": [
       "  0%|          | 0/388138 [00:00<?, ?it/s]"
      ]
     },
     "metadata": {},
     "output_type": "display_data"
    }
   ],
   "source": [
    "from tqdm.auto import tqdm\n",
    "tqdm.pandas()\n",
    "\n",
    "prompts = full_source_df.assign(\n",
    "    prompt=lambda df: df.progress_apply(lambda x: PROMPT.format(\n",
    "        query=x['query'],\n",
    "        source_name=x['Name'],\n",
    "        source_bio=x['Biography'],\n",
    "        source_info=x['Information'],\n",
    "        narrative_info=x['Narrative Function'].split(':')[-1] if pd.notnull(x['Narrative Function']) else ''\n",
    "    )\n",
    "    , axis=1 )\n",
    ")"
   ]
  },
  {
   "cell_type": "code",
   "execution_count": 158,
   "id": "27ff5c0e-6f24-4068-b8ed-c92a82556514",
   "metadata": {},
   "outputs": [],
   "source": [
    "prompts[['url', 'Name', 'query', 'prompt']].to_csv('cache/quick-discourse-prompts-to-run.csv.gz', compression='gzip')"
   ]
  },
  {
   "cell_type": "markdown",
   "id": "fcbb7619-ae50-4fba-9428-a6b7204ce263",
   "metadata": {
    "jp-MarkdownHeadingCollapsed": true
   },
   "source": [
    "### Upload to GPT"
   ]
  },
  {
   "cell_type": "code",
   "execution_count": 34,
   "id": "60e9f5a2-f841-4d58-845b-317c346c8e28",
   "metadata": {},
   "outputs": [],
   "source": [
    "batch_prompts = (\n",
    "    prompts\n",
    "        .drop_duplicates(['url', 'Name'])\n",
    "        .apply(\n",
    "            lambda x: {\n",
    "                \"custom_id\": x['url'] + '___' + x['Name'], \n",
    "                \"method\": \"POST\", \n",
    "                \"url\": \"/v1/chat/completions\", \n",
    "                \"body\": {\n",
    "                    \"model\": \"gpt-4o-mini\",\n",
    "                    \"messages\": [{\n",
    "                        \"role\": \"system\", \n",
    "                        \"content\": \"You are a helpful journalist's assistant.\"\n",
    "                    },{\n",
    "                        \"role\": \"user\", \"content\": x['prompt']\n",
    "                    }],\"max_tokens\": 20\n",
    "                }}\n",
    "        , axis=1)\n",
    ")"
   ]
  },
  {
   "cell_type": "code",
   "execution_count": 36,
   "id": "bc30edbc-88d5-4716-923c-91a71b1743e8",
   "metadata": {},
   "outputs": [
    {
     "data": {
      "application/vnd.jupyter.widget-view+json": {
       "model_id": "b65a76592343400ea6f3f50f1948f4dd",
       "version_major": 2,
       "version_minor": 0
      },
      "text/plain": [
       "  0%|          | 0/20 [00:00<?, ?it/s]"
      ]
     },
     "metadata": {},
     "output_type": "display_data"
    }
   ],
   "source": [
    "import jsonlines\n",
    "to_upload = []\n",
    "BATCH_SIZE = 20_000\n",
    "for i, s in enumerate(tqdm(range(0, len(batch_prompts), BATCH_SIZE))):\n",
    "    e = s + BATCH_SIZE\n",
    "    one_batch_df = batch_prompts.iloc[s:e]\n",
    "    too_long_ids = one_batch_df.str.get('custom_id').str.len().pipe(lambda s: s > 512)\n",
    "    fname = f'../data/label_discourse/input_data_v3/discourse-batch-{i}.jsonl'\n",
    "    with jsonlines.open(fname, 'w') as f:\n",
    "        f.write_all(one_batch_df.loc[lambda s: ~too_long_ids].tolist())\n",
    "        assert one_batch_df.loc[lambda s: ~too_long_ids].str.get('custom_id').str.len().pipe(lambda s: s > 512).any() == False\n",
    "    to_upload.append(fname)"
   ]
  },
  {
   "cell_type": "code",
   "execution_count": 40,
   "id": "9cc7cc70-a7a6-4189-ae27-b1b6b5aef2fc",
   "metadata": {},
   "outputs": [],
   "source": [
    "import glob, re\n",
    "from openai import OpenAI\n",
    "import os \n",
    "\n",
    "os.environ['OPENAI_API_KEY'] = open('/Users/spangher/.openai-isi-project-key.txt').read().strip()\n",
    "client = OpenAI()\n",
    "batch_files_on_disk = sorted(glob.glob('../data/label_discourse/input_data_v3/*'), key=lambda x: int(re.search(r'\\d+', x)[0]))"
   ]
  },
  {
   "cell_type": "code",
   "execution_count": 41,
   "id": "58832ad6-aaaa-414f-8711-4fe0daa2552d",
   "metadata": {},
   "outputs": [
    {
     "data": {
      "application/vnd.jupyter.widget-view+json": {
       "model_id": "a95511ad32ad4f84840e43fdce6e99dd",
       "version_major": 2,
       "version_minor": 0
      },
      "text/plain": [
       "  0%|          | 0/20 [00:00<?, ?it/s]"
      ]
     },
     "metadata": {},
     "output_type": "display_data"
    }
   ],
   "source": [
    "batch_file_ids = []\n",
    "for f in tqdm(batch_files_on_disk):\n",
    "# for f in tqdm(to_upload):\n",
    "    batch_input_file = client.files.create(file=open(f, \"rb\"), purpose=\"batch\")\n",
    "    batch_file_ids.append(batch_input_file)"
   ]
  },
  {
   "cell_type": "code",
   "execution_count": 43,
   "id": "b79d0cd0-0078-4291-9d8c-20572c42ed3e",
   "metadata": {},
   "outputs": [
    {
     "data": {
      "application/vnd.jupyter.widget-view+json": {
       "model_id": "109798f8395d4ac29af3691fe8999657",
       "version_major": 2,
       "version_minor": 0
      },
      "text/plain": [
       "  0%|          | 0/20 [00:00<?, ?it/s]"
      ]
     },
     "metadata": {},
     "output_type": "display_data"
    }
   ],
   "source": [
    "batch_jobs= []\n",
    "for b_file in tqdm(batch_file_ids):\n",
    "    batch_input_file_id = b_file.id\n",
    "    batch_job = client.batches.create(\n",
    "        input_file_id=batch_input_file_id,\n",
    "        endpoint=\"/v1/chat/completions\",\n",
    "        completion_window=\"24h\",\n",
    "        metadata={\n",
    "          \"description\": \"nightly eval job\"\n",
    "        }\n",
    "    )\n",
    "    batch_jobs.append(batch_job)"
   ]
  },
  {
   "cell_type": "code",
   "execution_count": 50,
   "id": "75c3fbce-8780-4ae7-a3ef-f0ab80662b0b",
   "metadata": {},
   "outputs": [],
   "source": [
    "batch_job_ids = list(map(lambda x: x.id, batch_jobs))\n",
    "batch_statuses = list(map(client.batches.retrieve, batch_job_ids))\n",
    "completed_batches = (\n",
    "    pd.DataFrame(list(map(lambda x: x.to_dict(), batch_statuses)))\n",
    "         .loc[lambda df: df['status'] == 'completed']\n",
    "         # ['output_file_id'].tolist()\n",
    ")"
   ]
  },
  {
   "cell_type": "code",
   "execution_count": 52,
   "id": "5be1ceb6-875b-46e8-b480-5fe02f41a427",
   "metadata": {},
   "outputs": [],
   "source": [
    "mkdir ../data/label_discourse/output_data_v3/"
   ]
  },
  {
   "cell_type": "code",
   "execution_count": 53,
   "id": "ed9f114e-2158-431a-ae93-b6a65bcbc0c0",
   "metadata": {},
   "outputs": [
    {
     "data": {
      "application/vnd.jupyter.widget-view+json": {
       "model_id": "2a9b311ede7a4cdb93f84dd275db6e65",
       "version_major": 2,
       "version_minor": 0
      },
      "text/plain": [
       "  0%|          | 0/20 [00:00<?, ?it/s]"
      ]
     },
     "metadata": {},
     "output_type": "display_data"
    }
   ],
   "source": [
    "completed_batches['input_file_name'] = completed_batches['input_file_id'].apply(client.files.retrieve).apply(lambda x: x.filename)\n",
    "for _, (input_file_name, output_id) in tqdm(\n",
    "    completed_batches[['input_file_name', 'output_file_id']].iterrows(), total=len(completed_batches)\n",
    "):\n",
    "    file_response = client.files.content(output_id)\n",
    "    name, ext = os.path.splitext(input_file_name)\n",
    "    with open(f'../data/label_discourse/output_data_v3/{name}__output{ext}', 'w') as f:\n",
    "        f.write(file_response.text)"
   ]
  },
  {
   "cell_type": "markdown",
   "id": "64b2b517-875e-4d26-826a-b4a3444c4619",
   "metadata": {
    "jp-MarkdownHeadingCollapsed": true
   },
   "source": [
    "### Examine OpenAI Output"
   ]
  },
  {
   "cell_type": "code",
   "execution_count": 20,
   "id": "4e048759-ac55-45e1-9e22-bfc1cf828bfa",
   "metadata": {},
   "outputs": [],
   "source": [
    "import glob, re\n",
    "import pandas as pd \n",
    "\n",
    "files = glob.glob('../data/v3_sources/label_discourse/output_data_v3/discourse-batch-*__output.jsonl')\n",
    "files = sorted(files, key=lambda x: int(re.search(r'batch-(\\d+)', x)[1]))"
   ]
  },
  {
   "cell_type": "code",
   "execution_count": 21,
   "id": "09133914-12c0-4afa-843c-9d9dee93f687",
   "metadata": {},
   "outputs": [],
   "source": [
    "import jsonlines\n",
    "import numpy as np \n",
    "\n",
    "all_output_items = []\n",
    "for f in files:#glob.glob('../data/label_discourse/output_data_v3/discourse-batch-*__output.jsonl'):\n",
    "    output_items = list(jsonlines.open(f))\n",
    "    all_output_items.extend(output_items)"
   ]
  },
  {
   "cell_type": "code",
   "execution_count": 22,
   "id": "e8609bf5-e13f-4676-8394-033617ffc060",
   "metadata": {},
   "outputs": [],
   "source": [
    "output_df = pd.DataFrame(all_output_items)\n",
    "output_df = (\n",
    "    output_df[['custom_id', 'response']]\n",
    "         .assign(label=lambda \n",
    "                 df: df['response']\n",
    "                         .str.get('body')\n",
    "                         .str.get('choices').str.get(0)\n",
    "                         .str.get('message').str.get('content') \n",
    "                         .str.replace('\"', '').str.replace('”', '').str.replace('“', '')\n",
    "                )\n",
    "         .drop(columns='response')\n",
    "         .assign(url=lambda df: df['custom_id'].str.split('___').str.get(0))\n",
    "         .assign(Name=lambda df: df['custom_id'].str.split('___').str.get(1))\n",
    "         .drop(columns='custom_id')\n",
    ")"
   ]
  },
  {
   "cell_type": "code",
   "execution_count": 24,
   "id": "f8fb1442-868b-48cf-90ea-80aa42725427",
   "metadata": {},
   "outputs": [],
   "source": [
    "to_keep = set([\n",
    "    \"Anecdotes, Examples and Illustration\",\n",
    "    \"Direct Participant\",\n",
    "    \"Background Information\",\n",
    "    \"Peripheral Context\",\n",
    "    \"Analysis\",\n",
    "    \"Counterpoint\",\n",
    "    \"Expert\",\n",
    "    \"Author Perspective\",\n",
    "    \"Broadening Perspective\",\n",
    "    \"Key Subject\",\n",
    "    \"Data Resource\",\n",
    "])"
   ]
  },
  {
   "cell_type": "code",
   "execution_count": 25,
   "id": "06dc471e-eca7-493a-b36b-f23c5266a5a4",
   "metadata": {},
   "outputs": [],
   "source": [
    "output_df['label'] = output_df['label'].apply(lambda x: x if x in to_keep else np.nan)\n",
    "# .value_counts()"
   ]
  },
  {
   "cell_type": "code",
   "execution_count": 26,
   "id": "27988e58-0bc1-464a-97cc-1b490255e837",
   "metadata": {},
   "outputs": [
    {
     "data": {
      "text/html": [
       "<div>\n",
       "<style scoped>\n",
       "    .dataframe tbody tr th:only-of-type {\n",
       "        vertical-align: middle;\n",
       "    }\n",
       "\n",
       "    .dataframe tbody tr th {\n",
       "        vertical-align: top;\n",
       "    }\n",
       "\n",
       "    .dataframe thead th {\n",
       "        text-align: right;\n",
       "    }\n",
       "</style>\n",
       "<table border=\"1\" class=\"dataframe\">\n",
       "  <thead>\n",
       "    <tr style=\"text-align: right;\">\n",
       "      <th></th>\n",
       "      <th>label</th>\n",
       "      <th>url</th>\n",
       "      <th>Name</th>\n",
       "    </tr>\n",
       "  </thead>\n",
       "  <tbody>\n",
       "    <tr>\n",
       "      <th>0</th>\n",
       "      <td>Counterpoint</td>\n",
       "      <td>www.cnbc.com/2014/08/07/has-google-lost-contro...</td>\n",
       "      <td>Josh Bachynski</td>\n",
       "    </tr>\n",
       "    <tr>\n",
       "      <th>1</th>\n",
       "      <td>Expert</td>\n",
       "      <td>www.cnbc.com/2014/08/07/has-google-lost-contro...</td>\n",
       "      <td>Matt Cutts</td>\n",
       "    </tr>\n",
       "    <tr>\n",
       "      <th>2</th>\n",
       "      <td>Anecdotes, Examples and Illustration</td>\n",
       "      <td>www.cnbc.com/2014/08/07/has-google-lost-contro...</td>\n",
       "      <td>Robert Buehler</td>\n",
       "    </tr>\n",
       "    <tr>\n",
       "      <th>3</th>\n",
       "      <td>Expert</td>\n",
       "      <td>www.cnbc.com/2014/08/07/has-google-lost-contro...</td>\n",
       "      <td>Jason Freidenfelds</td>\n",
       "    </tr>\n",
       "    <tr>\n",
       "      <th>4</th>\n",
       "      <td>Expert</td>\n",
       "      <td>www.cnbc.com/2014/08/07/has-google-lost-contro...</td>\n",
       "      <td>Eric Enge</td>\n",
       "    </tr>\n",
       "  </tbody>\n",
       "</table>\n",
       "</div>"
      ],
      "text/plain": [
       "                                  label  \\\n",
       "0                          Counterpoint   \n",
       "1                                Expert   \n",
       "2  Anecdotes, Examples and Illustration   \n",
       "3                                Expert   \n",
       "4                                Expert   \n",
       "\n",
       "                                                 url                Name  \n",
       "0  www.cnbc.com/2014/08/07/has-google-lost-contro...      Josh Bachynski  \n",
       "1  www.cnbc.com/2014/08/07/has-google-lost-contro...          Matt Cutts  \n",
       "2  www.cnbc.com/2014/08/07/has-google-lost-contro...      Robert Buehler  \n",
       "3  www.cnbc.com/2014/08/07/has-google-lost-contro...  Jason Freidenfelds  \n",
       "4  www.cnbc.com/2014/08/07/has-google-lost-contro...           Eric Enge  "
      ]
     },
     "execution_count": 26,
     "metadata": {},
     "output_type": "execute_result"
    }
   ],
   "source": [
    "output_df.head(5)"
   ]
  },
  {
   "cell_type": "markdown",
   "id": "bd85c69e-5626-4871-a204-18ae0f8e8678",
   "metadata": {},
   "source": [
    "### compare with Llama generated sources"
   ]
  },
  {
   "cell_type": "code",
   "execution_count": 217,
   "id": "d6b8a736-45be-47c7-8c94-22f238168b24",
   "metadata": {},
   "outputs": [],
   "source": [
    "llama_files = glob.glob('../data/v3_sources/label_discourse/output_data_v3_llama_v2/*')\n",
    "llama_files = sorted(llama_files, key=lambda x: int(re.search(r'discourse_labeled__(\\d+)', x)[1]))"
   ]
  },
  {
   "cell_type": "code",
   "execution_count": 222,
   "id": "79e882c0-cb93-490a-8dc9-462bcd3e0f26",
   "metadata": {},
   "outputs": [],
   "source": [
    "llama_output = pd.concat(list(map(lambda x: pd.read_json(x, lines=True), llama_files)))\n",
    "llama_output = (\n",
    "    llama_output\n",
    "        .assign(Name= lambda df: df['url'].str.split('__').str.get(1))\n",
    "        .assign(url=lambda df: df['url'].str.split('__').str.get(0))\n",
    "        .assign(llama_label=lambda df: df['response'].str.replace('\"', '').str.strip().str.split('\\n').str.get(0).str.strip())\n",
    "        .drop(columns='response')\n",
    ")"
   ]
  },
  {
   "cell_type": "code",
   "execution_count": 225,
   "id": "30adea46-acce-4dfa-9f5e-1ee9d223d644",
   "metadata": {},
   "outputs": [],
   "source": [
    "to_keep = set([\n",
    "    'Main Actor',\n",
    "    'Background Information',\n",
    "    'Counterpoint',\n",
    "    'Anecdotes, Examples and Illustration',\n",
    "    'Expert',\n",
    "    'Data Resource',\n",
    "    'Confirmation and Witness',\n",
    "    'Analysis',\n",
    "    'Broadening Perspective',\n",
    "    'Subject'\n",
    "])"
   ]
  },
  {
   "cell_type": "code",
   "execution_count": 227,
   "id": "e90e782b-b845-48f0-b372-e4a9ac025ca0",
   "metadata": {},
   "outputs": [],
   "source": [
    "llama_output['llama_label'] = llama_output['llama_label'].apply(lambda x: x if x in to_keep else np.nan) #.value_counts().index.tolist()"
   ]
  },
  {
   "cell_type": "code",
   "execution_count": 118,
   "id": "037f776d-2351-478d-9590-7c0239ba6bc5",
   "metadata": {},
   "outputs": [],
   "source": [
    "m_df = (\n",
    "    prompts\n",
    "        [['url', 'query', 'Name', 'Biography', 'Perspective', 'Centrality', 'Information', 'Narrative Function']]\n",
    "     .merge(output_df)\n",
    "     .merge(llama_output)\n",
    "     .rename(columns={\n",
    "        'label': 'gpt4_label',\n",
    "        'response': 'llama-3-label'\n",
    "      })\n",
    " # \n",
    ")"
   ]
  },
  {
   "cell_type": "code",
   "execution_count": 161,
   "id": "8d51adba-f139-4789-958d-43bf6346361a",
   "metadata": {},
   "outputs": [
    {
     "data": {
      "text/plain": [
       "0.5725251462621606"
      ]
     },
     "execution_count": 161,
     "metadata": {},
     "output_type": "execute_result"
    }
   ],
   "source": [
    "(m_df\n",
    " .assign(gpt4_label=lambda df: \n",
    "         df['gpt4_label']\n",
    "            .replace('Direct Participant', 'Main Actor')\n",
    "            .replace('Key Subject', 'Subject')\n",
    "        )\n",
    " .pipe(lambda df: df['gpt4_label'] == df['llama_label'])\n",
    " .mean()\n",
    " # .loc[lambda df: df['gpt4_label'] != df['llama_label']]\n",
    " # .sample(100)\n",
    " # .to_csv('cache/2024-10-08__discourse-llama-labels-to-annotate-3.csv')\n",
    ")"
   ]
  },
  {
   "cell_type": "markdown",
   "id": "a071132c-b5cc-4cc0-859c-03bc2a131dcb",
   "metadata": {
    "jp-MarkdownHeadingCollapsed": true
   },
   "source": [
    "#### Accuracy on areas of Disagreement between GPT4 and Llama"
   ]
  },
  {
   "cell_type": "code",
   "execution_count": 131,
   "id": "1b0be168-b65d-40fe-90c2-5120c2cb2c09",
   "metadata": {},
   "outputs": [
    {
     "name": "stderr",
     "output_type": "stream",
     "text": [
      "Downloading...\n",
      "From (original): https://drive.google.com/uc?id=1cIBNEDT2qV9EUElBnd1zqppS5aUB5wVK_1q-26sR-9s\n",
      "From (redirected): https://docs.google.com/spreadsheets/d/1cIBNEDT2qV9EUElBnd1zqppS5aUB5wVK_1q-26sR-9s/export?format=xlsx\n",
      "To: /Users/spangher/Projects/berkeley-research/conditional-information-retrieval/notebooks/cache/2024-10-08__discourse-llama-labels-to-annotate-2__hand_annotated.xlsx\n",
      "63.6kB [00:00, 1.57MB/s]\n"
     ]
    }
   ],
   "source": [
    "import gdown\n",
    "gdown.download(\n",
    "    url='https://docs.google.com/spreadsheets/d/1cIBNEDT2qV9EUElBnd1zqppS5aUB5wVK_1q-26sR-9s/edit?usp=sharing',\n",
    "    output='cache/2024-10-08__discourse-llama-labels-to-annotate-2__hand_annotated.xlsx',\n",
    "    fuzzy=True\n",
    ");"
   ]
  },
  {
   "cell_type": "code",
   "execution_count": 136,
   "id": "a7e3ea15-12ea-411c-9ccf-425193c8cd73",
   "metadata": {},
   "outputs": [],
   "source": [
    "hand_annotated = pd.read_excel('cache/2024-10-08__discourse-llama-labels-to-annotate-2__hand_annotated.xlsx', index_col=0).dropna()"
   ]
  },
  {
   "cell_type": "code",
   "execution_count": 139,
   "id": "1c098e53-8aa3-40f0-8b17-938220fc2e28",
   "metadata": {},
   "outputs": [
    {
     "data": {
      "text/plain": [
       "0.7906976744186046"
      ]
     },
     "execution_count": 139,
     "metadata": {},
     "output_type": "execute_result"
    }
   ],
   "source": [
    "(hand_annotated\n",
    " [['llama_label', 'Human Label']]\n",
    " .pipe(lambda df: df['llama_label'] == df['Human Label']).mean()\n",
    ")"
   ]
  },
  {
   "cell_type": "code",
   "execution_count": 142,
   "id": "b571ae79-9bae-4df2-9c05-22a9b6229fc3",
   "metadata": {},
   "outputs": [
    {
     "data": {
      "text/plain": [
       "0.11627906976744186"
      ]
     },
     "execution_count": 142,
     "metadata": {},
     "output_type": "execute_result"
    }
   ],
   "source": [
    "(hand_annotated\n",
    " # [['llama_label', 'Human Label']]\n",
    " .pipe(lambda df: df['gpt4_label'] == df['Human Label'])\n",
    " .mean()\n",
    ")"
   ]
  },
  {
   "cell_type": "markdown",
   "id": "ac20f89c-189e-4ae8-9f4a-dcac15f724db",
   "metadata": {
    "jp-MarkdownHeadingCollapsed": true
   },
   "source": [
    "#### Accuracy on randomly-sampled labeled"
   ]
  },
  {
   "cell_type": "code",
   "execution_count": 151,
   "id": "e2430e2b-9483-465b-8c98-3e96d87583ff",
   "metadata": {},
   "outputs": [
    {
     "name": "stderr",
     "output_type": "stream",
     "text": [
      "Downloading...\n",
      "From (original): https://drive.google.com/uc?id=1kOQv8VPtGMofsFBRt-QH92Ry9k82zj204FR607MqH0s\n",
      "From (redirected): https://docs.google.com/spreadsheets/d/1kOQv8VPtGMofsFBRt-QH92Ry9k82zj204FR607MqH0s/export?format=xlsx\n",
      "To: /Users/spangher/Projects/berkeley-research/conditional-information-retrieval/notebooks/cache/2024-10-08__discourse-llama-labels-to-annotate-3__annotated.xlsx\n",
      "67.9kB [00:00, 970kB/s]\n"
     ]
    },
    {
     "data": {
      "text/plain": [
       "'cache/2024-10-08__discourse-llama-labels-to-annotate-3__annotated.xlsx'"
      ]
     },
     "execution_count": 151,
     "metadata": {},
     "output_type": "execute_result"
    }
   ],
   "source": [
    "gdown.download(\n",
    "    'https://docs.google.com/spreadsheets/d/1kOQv8VPtGMofsFBRt-QH92Ry9k82zj204FR607MqH0s/edit?usp=sharing',\n",
    "    output='cache/2024-10-08__discourse-llama-labels-to-annotate-3__annotated.xlsx', \n",
    "    fuzzy=True\n",
    ")"
   ]
  },
  {
   "cell_type": "code",
   "execution_count": 154,
   "id": "b848a9bb-8d87-4f73-9136-268cc3b8c37c",
   "metadata": {},
   "outputs": [],
   "source": [
    "annotations = pd.read_excel('cache/2024-10-08__discourse-llama-labels-to-annotate-3__annotated.xlsx', index_col=0)"
   ]
  },
  {
   "cell_type": "code",
   "execution_count": 158,
   "id": "5941e743-3820-4ed0-b3f7-46b822efc1cc",
   "metadata": {},
   "outputs": [
    {
     "data": {
      "text/plain": [
       "0.8529411764705882"
      ]
     },
     "execution_count": 158,
     "metadata": {},
     "output_type": "execute_result"
    }
   ],
   "source": [
    "annotations.dropna().pipe(lambda df: df['llama_label'] == df['Human Label']).mean()"
   ]
  },
  {
   "cell_type": "code",
   "execution_count": 144,
   "id": "56947c3c-5e74-4a5c-9ce4-0c864b61afe5",
   "metadata": {},
   "outputs": [
    {
     "data": {
      "text/plain": [
       "0.64"
      ]
     },
     "execution_count": 144,
     "metadata": {},
     "output_type": "execute_result"
    }
   ],
   "source": [
    "# agreement between GPT4 and llama\n",
    "(m_df\n",
    " [['gpt4-mini-label', 'llama-3-label']]\n",
    " .pipe(lambda df: df['gpt4-mini-label'] == df['llama-3-label']).mean()\n",
    ")"
   ]
  },
  {
   "cell_type": "code",
   "execution_count": 152,
   "id": "3590773c-2d27-4886-9d04-9d323eb8988e",
   "metadata": {},
   "outputs": [
    {
     "data": {
      "text/plain": [
       "<Axes: xlabel='llama-3-label', ylabel='gpt4-mini-label'>"
      ]
     },
     "execution_count": 152,
     "metadata": {},
     "output_type": "execute_result"
    },
    {
     "data": {
      "image/png": "[encoded data removed]",
      "text/plain": [
       "<Figure size 640x480 with 2 Axes>"
      ]
     },
     "metadata": {},
     "output_type": "display_data"
    }
   ],
   "source": [
    "import seaborn as sns \n",
    "\n",
    "sns.heatmap(m_df[['gpt4-mini-label', 'llama-3-label']]\n",
    " .value_counts()\n",
    " .unstack()\n",
    " .fillna(0).pipe(lambda df: df.divide(df.sum(axis=1), axis=0))\n",
    ")"
   ]
  },
  {
   "cell_type": "code",
   "execution_count": 136,
   "id": "4eb8ef62-b644-405b-938a-4a9e18771953",
   "metadata": {},
   "outputs": [
    {
     "data": {
      "text/plain": [
       "{'url': 'www.nbcnews.com/business/business-news/more-states-consider-ban-credit-card-surcharges-flna1c8455523',\n",
       " 'query': 'What are the implications of the recent Visa and MasterCard settlement allowing merchants to impose credit card surcharges, and how will this change affect consumers and the retail industry?',\n",
       " 'Name': 'Vincent Prieto',\n",
       " 'Biography': 'New Jersey Assemblyman (D-Secaucus)',\n",
       " 'Perspective': 'Supportive',\n",
       " 'Centrality': 'Medium',\n",
       " 'Information': \"Vincent Prieto said he introduced a bill to ban surcharging because it would hit consumers in the pocketbook. 'The amount of the surcharge may seem miniscule on paper, but in the family budget 1.5 to 3 percent could add up to a shorter grocery list or less to spend on gas,' he said in a statement.\",\n",
       " 'Narrative Function': '\"Supporting Voice\": This source provides a supporting voice to the main narrative, offering a perspective that aligns with the author\\'s view.\"',\n",
       " 'gpt4-mini-label': 'Counterpoint',\n",
       " 'llama-3-label': 'Author Perspective'}"
      ]
     },
     "execution_count": 136,
     "metadata": {},
     "output_type": "execute_result"
    }
   ],
   "source": [
    "m_df.iloc[21].to_dict()"
   ]
  },
  {
   "cell_type": "code",
   "execution_count": 159,
   "id": "863bd19f-3212-4abe-9c97-f2ea528b5104",
   "metadata": {},
   "outputs": [],
   "source": [
    "import gdown"
   ]
  },
  {
   "cell_type": "code",
   "execution_count": 160,
   "id": "45486952-a026-4647-9dfd-e8fd9722586e",
   "metadata": {},
   "outputs": [
    {
     "name": "stderr",
     "output_type": "stream",
     "text": [
      "Downloading...\n",
      "From (original): https://drive.google.com/uc?id=1vNip3Yl8gNbmLLV7279sBKc3oDOY2OO9d_IO7x0p1fg\n",
      "From (redirected): https://docs.google.com/spreadsheets/d/1vNip3Yl8gNbmLLV7279sBKc3oDOY2OO9d_IO7x0p1fg/export?format=xlsx\n",
      "To: /Users/spangher/Projects/berkeley-research/conditional-information-retrieval/notebooks/cache/2024-10-08__annotated-llama-gpt-files.xlsx\n",
      "111kB [00:00, 1.05MB/s]\n"
     ]
    },
    {
     "data": {
      "text/plain": [
       "'cache/2024-10-08__annotated-llama-gpt-files.xlsx'"
      ]
     },
     "execution_count": 160,
     "metadata": {},
     "output_type": "execute_result"
    }
   ],
   "source": [
    "gdown.download(\n",
    "    url='https://docs.google.com/spreadsheets/d/1vNip3Yl8gNbmLLV7279sBKc3oDOY2OO9d_IO7x0p1fg/edit?usp=sharing',\n",
    "    fuzzy=True,\n",
    "    output='cache/2024-10-08__annotated-llama-gpt-files.xlsx'\n",
    ")"
   ]
  },
  {
   "cell_type": "code",
   "execution_count": 161,
   "id": "a9dfdfd0-05db-4657-809b-3b0165ba168c",
   "metadata": {},
   "outputs": [],
   "source": [
    "annotated_df = pd.read_excel('cache/2024-10-08__annotated-llama-gpt-files.xlsx')"
   ]
  },
  {
   "cell_type": "code",
   "execution_count": 167,
   "id": "647f9d95-594c-4aae-81fe-6ec9e4dc9493",
   "metadata": {},
   "outputs": [
    {
     "data": {
      "text/plain": [
       "0.6607142857142857"
      ]
     },
     "execution_count": 167,
     "metadata": {},
     "output_type": "execute_result"
    }
   ],
   "source": [
    "(annotated_df\n",
    " .loc[lambda df: df['label'].notnull()]\n",
    " # .pipe(lambda df: df['gpt4-mini-label'] == df['label']).mean()\n",
    " .pipe(lambda df: df['llama-3-label'] == df['label']).mean()\n",
    ")"
   ]
  },
  {
   "cell_type": "markdown",
   "id": "e322f4eb-561f-4d22-adbb-617317ba7914",
   "metadata": {
    "jp-MarkdownHeadingCollapsed": true
   },
   "source": [
    "### Finalize output for Yiqin and for the Oracle baseline"
   ]
  },
  {
   "cell_type": "code",
   "execution_count": 164,
   "id": "bd5aa455-2840-47c2-823e-e537f8d0d2d7",
   "metadata": {},
   "outputs": [],
   "source": [
    "combined_sources = json.load(open('../data/v3_sources/v3_combined_ALL.json'))"
   ]
  },
  {
   "cell_type": "code",
   "execution_count": 179,
   "id": "bbc6121b-2f7d-4148-99aa-eae28010e953",
   "metadata": {},
   "outputs": [],
   "source": [
    "combined_sources_df = (\n",
    "    pd.DataFrame(combined_sources)\n",
    "         .explode('truth').reset_index(drop=True)\n",
    "         .pipe(lambda df: pd.concat([\n",
    "             df[['query']], pd.DataFrame(df['truth'].tolist())\n",
    "         ], axis=1))\n",
    ")"
   ]
  },
  {
   "cell_type": "code",
   "execution_count": 228,
   "id": "d0b4d94e-5783-4cdb-a335-eae69c45e170",
   "metadata": {},
   "outputs": [],
   "source": [
    "combined_df_with_oracle_labels = combined_sources_df.merge(llama_output)"
   ]
  },
  {
   "cell_type": "code",
   "execution_count": 483,
   "id": "1cf26c68-a52c-4d82-affe-9420098944af",
   "metadata": {},
   "outputs": [],
   "source": [
    "combined_df_with_oracle_labels.to_csv('cache/sources-and-queries-with-all-discourse-information.csv.gz', compression='gzip')"
   ]
  },
  {
   "cell_type": "code",
   "execution_count": 486,
   "id": "5d4aa1c0-6256-46c0-8f84-42c7e524e3c7",
   "metadata": {},
   "outputs": [],
   "source": [
    "# combined_df_with_oracle_labels.head()"
   ]
  },
  {
   "cell_type": "code",
   "execution_count": 484,
   "id": "2371a7e1-683d-4f75-9bc6-5ae5eb13382b",
   "metadata": {},
   "outputs": [],
   "source": [
    "! open . "
   ]
  },
  {
   "cell_type": "code",
   "execution_count": 472,
   "id": "ae99ebe4-8795-4480-9723-ab3830320618",
   "metadata": {},
   "outputs": [
    {
     "name": "stderr",
     "output_type": "stream",
     "text": [
      "/var/folders/xh/qnyq7yzj0r328_7hnb7pgxth0000gp/T/ipykernel_15538/3528981469.py:7: DeprecationWarning: DataFrameGroupBy.apply operated on the grouping columns. This behavior is deprecated, and in a future version of pandas the grouping columns will be excluded from the operation. Either pass `include_groups=False` to exclude the groupings or explicitly select the grouping columns after groupby to silence this warning.\n",
      "  .apply(lambda df: df.drop(columns='query').to_dict(orient='records'))\n"
     ]
    }
   ],
   "source": [
    "training_output = (\n",
    "    combined_df_with_oracle_labels\n",
    "         # .head(10000)\n",
    "         # .assign(url_inner=lambda df: df['url'])\n",
    "         .groupby(['query', 'url'])\n",
    "         # .apply(lambda df: df.rename(columns={'url_inner': 'url'}).to_dict(orient='records'))\n",
    "         .apply(lambda df: df.drop(columns='query').to_dict(orient='records'))\n",
    "         .to_frame('truth')\n",
    ").reset_index().to_dict(orient='records')"
   ]
  },
  {
   "cell_type": "code",
   "execution_count": 474,
   "id": "eb97e971-8a3c-43f4-8f27-a84416a7c997",
   "metadata": {},
   "outputs": [],
   "source": [
    "with open('../data/v3_sources/v3_combined_ALL_with_oracle.json', 'w') as f:\n",
    "    json.dump(training_output, f)"
   ]
  },
  {
   "cell_type": "code",
   "execution_count": 232,
   "id": "ad62e5b1-c5c6-4335-863b-6e61bc9f40e4",
   "metadata": {},
   "outputs": [],
   "source": [
    "llama_output.to_csv('../data/v3_sources/oracle_labels.csv')"
   ]
  },
  {
   "cell_type": "code",
   "execution_count": 481,
   "id": "6322e5ef-5213-4e5c-b605-f515d583263e",
   "metadata": {},
   "outputs": [
    {
     "data": {
      "text/html": [
       "<div>\n",
       "<style scoped>\n",
       "    .dataframe tbody tr th:only-of-type {\n",
       "        vertical-align: middle;\n",
       "    }\n",
       "\n",
       "    .dataframe tbody tr th {\n",
       "        vertical-align: top;\n",
       "    }\n",
       "\n",
       "    .dataframe thead th {\n",
       "        text-align: right;\n",
       "    }\n",
       "</style>\n",
       "<table border=\"1\" class=\"dataframe\">\n",
       "  <thead>\n",
       "    <tr style=\"text-align: right;\">\n",
       "      <th></th>\n",
       "      <th>query</th>\n",
       "      <th>url</th>\n",
       "      <th>Name</th>\n",
       "      <th>Biography</th>\n",
       "      <th>Information</th>\n",
       "      <th>Narrative Function</th>\n",
       "      <th>Perspective</th>\n",
       "      <th>Centrality</th>\n",
       "      <th>Is_Error</th>\n",
       "      <th>Justification</th>\n",
       "      <th>Text_embed</th>\n",
       "      <th>llama_label</th>\n",
       "    </tr>\n",
       "  </thead>\n",
       "  <tbody>\n",
       "    <tr>\n",
       "      <th>0</th>\n",
       "      <td>Is Google's anti-spam algorithm, Penguin, havi...</td>\n",
       "      <td>www.cnbc.com/2014/08/07/has-google-lost-contro...</td>\n",
       "      <td>Josh Bachynski</td>\n",
       "      <td>A consultant who works with companies on searc...</td>\n",
       "      <td>Josh Bachynski stated that not only does Googl...</td>\n",
       "      <td>\"Critic\": This source is used to provide a cri...</td>\n",
       "      <td>Skeptical</td>\n",
       "      <td>Medium</td>\n",
       "      <td>No</td>\n",
       "      <td>Bachynski is a consultant who works with compa...</td>\n",
       "      <td>A consultant who works with companies on searc...</td>\n",
       "      <td>Counterpoint</td>\n",
       "    </tr>\n",
       "    <tr>\n",
       "      <th>1</th>\n",
       "      <td>Is Google's anti-spam algorithm, Penguin, havi...</td>\n",
       "      <td>www.cnbc.com/2014/08/07/has-google-lost-contro...</td>\n",
       "      <td>Matt Cutts</td>\n",
       "      <td>Head of Google's webspam team</td>\n",
       "      <td>Matt Cutts announced the last Penguin update i...</td>\n",
       "      <td>\"Authority\": This source is used to provide an...</td>\n",
       "      <td>Authoritative</td>\n",
       "      <td>Low</td>\n",
       "      <td>No</td>\n",
       "      <td>Cutts is the head of Google's webspam team, bu...</td>\n",
       "      <td>Head of Google's webspam team: Matt Cutts anno...</td>\n",
       "      <td>Expert</td>\n",
       "    </tr>\n",
       "    <tr>\n",
       "      <th>2</th>\n",
       "      <td>Is Google's anti-spam algorithm, Penguin, havi...</td>\n",
       "      <td>www.cnbc.com/2014/08/07/has-google-lost-contro...</td>\n",
       "      <td>Robert Buehler</td>\n",
       "      <td>The husband of the owner of Golden Services, a...</td>\n",
       "      <td>Robert Buehler said that his company's traffic...</td>\n",
       "      <td>\"Victim\": This source provides a personal acco...</td>\n",
       "      <td>Supportive</td>\n",
       "      <td>High</td>\n",
       "      <td>No</td>\n",
       "      <td>Buehler is the owner of Golden Services, a com...</td>\n",
       "      <td>The husband of the owner of Golden Services, a...</td>\n",
       "      <td>Anecdotes, Examples and Illustration</td>\n",
       "    </tr>\n",
       "    <tr>\n",
       "      <th>3</th>\n",
       "      <td>Is Google's anti-spam algorithm, Penguin, havi...</td>\n",
       "      <td>www.cnbc.com/2014/08/07/has-google-lost-contro...</td>\n",
       "      <td>Jason Freidenfelds</td>\n",
       "      <td>A Google spokesman</td>\n",
       "      <td>Jason Freidenfelds said that Google frequently...</td>\n",
       "      <td>\"Defender\": This source is used to provide a r...</td>\n",
       "      <td>Authoritative</td>\n",
       "      <td>Medium</td>\n",
       "      <td>No</td>\n",
       "      <td>Freidenfelds is a Google spokesman, providing ...</td>\n",
       "      <td>A Google spokesman: Jason Freidenfelds said th...</td>\n",
       "      <td>Expert</td>\n",
       "    </tr>\n",
       "    <tr>\n",
       "      <th>4</th>\n",
       "      <td>Is Google's anti-spam algorithm, Penguin, havi...</td>\n",
       "      <td>www.cnbc.com/2014/08/07/has-google-lost-contro...</td>\n",
       "      <td>Eric Enge</td>\n",
       "      <td>Head of SEO consultancy Stone Temple Consulting</td>\n",
       "      <td>Eric Enge said that he suspects that there rea...</td>\n",
       "      <td>\"Expert\": This source is used to provide exper...</td>\n",
       "      <td>Skeptical</td>\n",
       "      <td>Medium</td>\n",
       "      <td>No</td>\n",
       "      <td>Enge is an SEO consultant who has worked in th...</td>\n",
       "      <td>Head of SEO consultancy Stone Temple Consultin...</td>\n",
       "      <td>Analysis</td>\n",
       "    </tr>\n",
       "    <tr>\n",
       "      <th>...</th>\n",
       "      <td>...</td>\n",
       "      <td>...</td>\n",
       "      <td>...</td>\n",
       "      <td>...</td>\n",
       "      <td>...</td>\n",
       "      <td>...</td>\n",
       "      <td>...</td>\n",
       "      <td>...</td>\n",
       "      <td>...</td>\n",
       "      <td>...</td>\n",
       "      <td>...</td>\n",
       "      <td>...</td>\n",
       "    </tr>\n",
       "    <tr>\n",
       "      <th>380133</th>\n",
       "      <td>What led the tech industry to reject a volunta...</td>\n",
       "      <td>slate.com/technology/2015/06/facial-recognitio...</td>\n",
       "      <td>NetChoice</td>\n",
       "      <td>An industry association that represents tech c...</td>\n",
       "      <td>NetChoice opposed an opt-in privacy standard f...</td>\n",
       "      <td>\"Industry Representative\": This source is used...</td>\n",
       "      <td>Against</td>\n",
       "      <td>Medium</td>\n",
       "      <td>No</td>\n",
       "      <td>NetChoice is mentioned as an industry associat...</td>\n",
       "      <td>An industry association that represents tech c...</td>\n",
       "      <td>Main Actor</td>\n",
       "    </tr>\n",
       "    <tr>\n",
       "      <th>380134</th>\n",
       "      <td>What led the tech industry to reject a volunta...</td>\n",
       "      <td>slate.com/technology/2015/06/facial-recognitio...</td>\n",
       "      <td>Eric Schmidt</td>\n",
       "      <td>Executive Chairman of Google</td>\n",
       "      <td>Eric Schmidt once said that facial recognition...</td>\n",
       "      <td>\"Authority Figure\": This source is used to pro...</td>\n",
       "      <td>Supportive</td>\n",
       "      <td>Low</td>\n",
       "      <td>No</td>\n",
       "      <td>Eric Schmidt is mentioned as saying that facia...</td>\n",
       "      <td>Executive Chairman of Google: Eric Schmidt onc...</td>\n",
       "      <td>Expert</td>\n",
       "    </tr>\n",
       "    <tr>\n",
       "      <th>380135</th>\n",
       "      <td>What led the tech industry to reject a volunta...</td>\n",
       "      <td>slate.com/technology/2015/06/facial-recognitio...</td>\n",
       "      <td>Jay Rockefeller</td>\n",
       "      <td>A former US Senator who proposed a bill to rei...</td>\n",
       "      <td>Jay Rockefeller proposed a bill to rein in dat...</td>\n",
       "      <td>\"Legislative Example\": This source is used to ...</td>\n",
       "      <td>Supportive</td>\n",
       "      <td>Low</td>\n",
       "      <td>No</td>\n",
       "      <td>Jay Rockefeller is mentioned as sponsoring a b...</td>\n",
       "      <td>A former US Senator who proposed a bill to rei...</td>\n",
       "      <td>Anecdotes, Examples and Illustration</td>\n",
       "    </tr>\n",
       "    <tr>\n",
       "      <th>380136</th>\n",
       "      <td>What led the tech industry to reject a volunta...</td>\n",
       "      <td>slate.com/technology/2015/06/facial-recognitio...</td>\n",
       "      <td>Congress</td>\n",
       "      <td>The legislative branch of the US government</td>\n",
       "      <td>Congress passed the USA Freedom Act in 2015, w...</td>\n",
       "      <td>\"Regulatory Body\": This source is used to repr...</td>\n",
       "      <td>Neutral</td>\n",
       "      <td>High</td>\n",
       "      <td>No</td>\n",
       "      <td>Congress is mentioned as passing the USA Freed...</td>\n",
       "      <td>The legislative branch of the US government: C...</td>\n",
       "      <td>Main Actor</td>\n",
       "    </tr>\n",
       "    <tr>\n",
       "      <th>380137</th>\n",
       "      <td>What led the tech industry to reject a volunta...</td>\n",
       "      <td>slate.com/technology/2015/06/facial-recognitio...</td>\n",
       "      <td>State governments</td>\n",
       "      <td>The governments of individual US states</td>\n",
       "      <td>State governments, such as California, have be...</td>\n",
       "      <td>\"Alternative Solution\": This source is used to...</td>\n",
       "      <td>Supportive</td>\n",
       "      <td>Medium</td>\n",
       "      <td>No</td>\n",
       "      <td>State governments are mentioned as taking the ...</td>\n",
       "      <td>The governments of individual US states: State...</td>\n",
       "      <td>Broadening Perspective</td>\n",
       "    </tr>\n",
       "  </tbody>\n",
       "</table>\n",
       "<p>380138 rows × 12 columns</p>\n",
       "</div>"
      ],
      "text/plain": [
       "                                                    query  \\\n",
       "0       Is Google's anti-spam algorithm, Penguin, havi...   \n",
       "1       Is Google's anti-spam algorithm, Penguin, havi...   \n",
       "2       Is Google's anti-spam algorithm, Penguin, havi...   \n",
       "3       Is Google's anti-spam algorithm, Penguin, havi...   \n",
       "4       Is Google's anti-spam algorithm, Penguin, havi...   \n",
       "...                                                   ...   \n",
       "380133  What led the tech industry to reject a volunta...   \n",
       "380134  What led the tech industry to reject a volunta...   \n",
       "380135  What led the tech industry to reject a volunta...   \n",
       "380136  What led the tech industry to reject a volunta...   \n",
       "380137  What led the tech industry to reject a volunta...   \n",
       "\n",
       "                                                      url                Name  \\\n",
       "0       www.cnbc.com/2014/08/07/has-google-lost-contro...      Josh Bachynski   \n",
       "1       www.cnbc.com/2014/08/07/has-google-lost-contro...          Matt Cutts   \n",
       "2       www.cnbc.com/2014/08/07/has-google-lost-contro...      Robert Buehler   \n",
       "3       www.cnbc.com/2014/08/07/has-google-lost-contro...  Jason Freidenfelds   \n",
       "4       www.cnbc.com/2014/08/07/has-google-lost-contro...           Eric Enge   \n",
       "...                                                   ...                 ...   \n",
       "380133  slate.com/technology/2015/06/facial-recognitio...           NetChoice   \n",
       "380134  slate.com/technology/2015/06/facial-recognitio...        Eric Schmidt   \n",
       "380135  slate.com/technology/2015/06/facial-recognitio...     Jay Rockefeller   \n",
       "380136  slate.com/technology/2015/06/facial-recognitio...            Congress   \n",
       "380137  slate.com/technology/2015/06/facial-recognitio...   State governments   \n",
       "\n",
       "                                                Biography  \\\n",
       "0       A consultant who works with companies on searc...   \n",
       "1                           Head of Google's webspam team   \n",
       "2       The husband of the owner of Golden Services, a...   \n",
       "3                                      A Google spokesman   \n",
       "4         Head of SEO consultancy Stone Temple Consulting   \n",
       "...                                                   ...   \n",
       "380133  An industry association that represents tech c...   \n",
       "380134                       Executive Chairman of Google   \n",
       "380135  A former US Senator who proposed a bill to rei...   \n",
       "380136        The legislative branch of the US government   \n",
       "380137            The governments of individual US states   \n",
       "\n",
       "                                              Information  \\\n",
       "0       Josh Bachynski stated that not only does Googl...   \n",
       "1       Matt Cutts announced the last Penguin update i...   \n",
       "2       Robert Buehler said that his company's traffic...   \n",
       "3       Jason Freidenfelds said that Google frequently...   \n",
       "4       Eric Enge said that he suspects that there rea...   \n",
       "...                                                   ...   \n",
       "380133  NetChoice opposed an opt-in privacy standard f...   \n",
       "380134  Eric Schmidt once said that facial recognition...   \n",
       "380135  Jay Rockefeller proposed a bill to rein in dat...   \n",
       "380136  Congress passed the USA Freedom Act in 2015, w...   \n",
       "380137  State governments, such as California, have be...   \n",
       "\n",
       "                                       Narrative Function    Perspective  \\\n",
       "0       \"Critic\": This source is used to provide a cri...      Skeptical   \n",
       "1       \"Authority\": This source is used to provide an...  Authoritative   \n",
       "2       \"Victim\": This source provides a personal acco...     Supportive   \n",
       "3       \"Defender\": This source is used to provide a r...  Authoritative   \n",
       "4       \"Expert\": This source is used to provide exper...      Skeptical   \n",
       "...                                                   ...            ...   \n",
       "380133  \"Industry Representative\": This source is used...        Against   \n",
       "380134  \"Authority Figure\": This source is used to pro...     Supportive   \n",
       "380135  \"Legislative Example\": This source is used to ...     Supportive   \n",
       "380136  \"Regulatory Body\": This source is used to repr...        Neutral   \n",
       "380137  \"Alternative Solution\": This source is used to...     Supportive   \n",
       "\n",
       "       Centrality Is_Error                                      Justification  \\\n",
       "0          Medium       No  Bachynski is a consultant who works with compa...   \n",
       "1             Low       No  Cutts is the head of Google's webspam team, bu...   \n",
       "2            High       No  Buehler is the owner of Golden Services, a com...   \n",
       "3          Medium       No  Freidenfelds is a Google spokesman, providing ...   \n",
       "4          Medium       No  Enge is an SEO consultant who has worked in th...   \n",
       "...           ...      ...                                                ...   \n",
       "380133     Medium       No  NetChoice is mentioned as an industry associat...   \n",
       "380134        Low       No  Eric Schmidt is mentioned as saying that facia...   \n",
       "380135        Low       No  Jay Rockefeller is mentioned as sponsoring a b...   \n",
       "380136       High       No  Congress is mentioned as passing the USA Freed...   \n",
       "380137     Medium       No  State governments are mentioned as taking the ...   \n",
       "\n",
       "                                               Text_embed  \\\n",
       "0       A consultant who works with companies on searc...   \n",
       "1       Head of Google's webspam team: Matt Cutts anno...   \n",
       "2       The husband of the owner of Golden Services, a...   \n",
       "3       A Google spokesman: Jason Freidenfelds said th...   \n",
       "4       Head of SEO consultancy Stone Temple Consultin...   \n",
       "...                                                   ...   \n",
       "380133  An industry association that represents tech c...   \n",
       "380134  Executive Chairman of Google: Eric Schmidt onc...   \n",
       "380135  A former US Senator who proposed a bill to rei...   \n",
       "380136  The legislative branch of the US government: C...   \n",
       "380137  The governments of individual US states: State...   \n",
       "\n",
       "                                 llama_label  \n",
       "0                               Counterpoint  \n",
       "1                                     Expert  \n",
       "2       Anecdotes, Examples and Illustration  \n",
       "3                                     Expert  \n",
       "4                                   Analysis  \n",
       "...                                      ...  \n",
       "380133                            Main Actor  \n",
       "380134                                Expert  \n",
       "380135  Anecdotes, Examples and Illustration  \n",
       "380136                            Main Actor  \n",
       "380137                Broadening Perspective  \n",
       "\n",
       "[380138 rows x 12 columns]"
      ]
     },
     "execution_count": 481,
     "metadata": {},
     "output_type": "execute_result"
    }
   ],
   "source": [
    "combined_df_with_oracle_labels"
   ]
  },
  {
   "cell_type": "code",
   "execution_count": 251,
   "id": "3749b0ee-e3b7-4ca3-aa01-2f622b2adf51",
   "metadata": {},
   "outputs": [
    {
     "data": {
      "text/plain": [
       "['Main Actor',\n",
       " 'Analysis',\n",
       " 'Background Information',\n",
       " 'Subject',\n",
       " 'Expert',\n",
       " 'Data Resource',\n",
       " 'Confirmation and Witness',\n",
       " 'Anecdotes, Examples and Illustration',\n",
       " 'Counterpoint',\n",
       " 'Broadening Perspective']"
      ]
     },
     "execution_count": 251,
     "metadata": {},
     "output_type": "execute_result"
    }
   ],
   "source": [
    "(combined_df_with_oracle_labels\n",
    " .value_counts(['llama_label', 'Centrality'])\n",
    " .unstack()[['High', 'Medium', 'Low']]\n",
    " .pipe(lambda df: df.divide(df.sum(axis=1), axis=0))\n",
    " .sort_values('High', ascending=False)\n",
    " .round(2).index.tolist()\n",
    ")"
   ]
  },
  {
   "cell_type": "markdown",
   "id": "ea4b0761-880c-462a-8e11-0e59d41b4c87",
   "metadata": {},
   "source": [
    "# Analyze Predictability of Scores"
   ]
  },
  {
   "cell_type": "code",
   "execution_count": 511,
   "id": "fd3366ce-2b8d-43db-9ac2-bbfc4022db2b",
   "metadata": {},
   "outputs": [],
   "source": [
    "from sklearn.cluster import HDBSCAN, KMeans"
   ]
  },
  {
   "cell_type": "markdown",
   "id": "5870f85c-7949-4a8c-9510-b1839010ae20",
   "metadata": {},
   "source": [
    "### Dataset setup"
   ]
  },
  {
   "cell_type": "code",
   "execution_count": 306,
   "id": "f022c853-c289-4b3f-95e4-0f8daf00c595",
   "metadata": {},
   "outputs": [],
   "source": [
    "label_distributions = (\n",
    "    llama_output[['url', 'llama_label']]\n",
    "         .value_counts().unstack()\n",
    "         .fillna(0)\n",
    "         .pipe(lambda df: df.divide(df.sum(axis=1),axis=0))\n",
    ")"
   ]
  },
  {
   "cell_type": "code",
   "execution_count": 316,
   "id": "8420881f-2688-4018-a161-3b08facbea39",
   "metadata": {},
   "outputs": [],
   "source": [
    "query_label_dists = label_distributions.merge(\n",
    "    prompts[['url', 'query']].drop_duplicates(), \n",
    "    left_index=True, \n",
    "    right_on='url'\n",
    ")"
   ]
  },
  {
   "cell_type": "code",
   "execution_count": 319,
   "id": "88793440-385d-4995-af6c-26e67729eb17",
   "metadata": {},
   "outputs": [
    {
     "name": "stderr",
     "output_type": "stream",
     "text": [
      "/Users/spangher/miniconda3/lib/python3.12/site-packages/transformers/tokenization_utils_base.py:1617: FutureWarning: `clean_up_tokenization_spaces` was not set. It will be set to `True` by default. This behavior will be deprecated in transformers v4.45, and will be then set to `False` by default. For more details check this issue: https://github.com/huggingface/transformers/issues/31884\n",
      "  warnings.warn(\n"
     ]
    },
    {
     "name": "stdout",
     "output_type": "stream",
     "text": [
      "(3, 384)\n"
     ]
    }
   ],
   "source": [
    "from sentence_transformers import SentenceTransformer\n",
    "\n",
    "# 1. Load a pretrained Sentence Transformer model\n",
    "model = SentenceTransformer(\"all-MiniLM-L6-v2\")"
   ]
  },
  {
   "cell_type": "code",
   "execution_count": 324,
   "id": "ac6f9417-796f-43f2-a838-25e136825bc4",
   "metadata": {},
   "outputs": [],
   "source": [
    "from sklearn.metrics.pairwise import cosine_similarity"
   ]
  },
  {
   "cell_type": "code",
   "execution_count": 371,
   "id": "1466c88b-bc65-4003-b905-0d3e179931eb",
   "metadata": {},
   "outputs": [
    {
     "data": {
      "application/vnd.jupyter.widget-view+json": {
       "model_id": "5bcc56b28ad24f778f9f9aba4ad41591",
       "version_major": 2,
       "version_minor": 0
      },
      "text/plain": [
       "  0%|          | 0/10 [00:00<?, ?it/s]"
      ]
     },
     "metadata": {},
     "output_type": "display_data"
    }
   ],
   "source": [
    "col_dist = [\n",
    "    'Analysis',\n",
    "    'Anecdotes, Examples and Illustration',\n",
    "    'Background Information',\n",
    "    'Broadening Perspective',\n",
    "    'Confirmation and Witness',\n",
    "    'Counterpoint',\n",
    "    'Data Resource',\n",
    "    'Expert',\n",
    "    'Main Actor',\n",
    "    'Subject'\n",
    "]\n",
    "\n",
    "bootstraps = []\n",
    "for _ in tqdm(range(10)):\n",
    "    sample_queries_labels = query_label_dists.sample(5_000)\n",
    "    query_embeddings = model.encode(sample_queries_labels['query'].tolist())\n",
    "    query_cos_sim = cosine_similarity(query_embeddings)\n",
    "    label_dist_sim = cosine_similarity(sample_queries_labels[col_dist])\n",
    "\n",
    "    label_dist_unstack = pd.DataFrame(label_dist_sim).unstack()\n",
    "    query_dist_unstack = pd.DataFrame(query_cos_sim).unstack()\n",
    "    concat_dists = pd.concat([\n",
    "        label_dist_unstack.to_frame('label_sim'),\n",
    "        query_dist_unstack.to_frame('query_sim')\n",
    "    ], axis=1).reset_index()\n",
    "    concat_dists = concat_dists.loc[lambda df: df['level_0'] != df['level_1']].drop(columns=['level_0', 'level_1'])\n",
    "    \n",
    "    c = concat_dists.corr()\n",
    "    bootstraps.append(c)"
   ]
  },
  {
   "cell_type": "code",
   "execution_count": 376,
   "id": "05655af1-2e4e-41fc-bf0e-b13342380675",
   "metadata": {},
   "outputs": [
    {
     "data": {
      "text/plain": [
       "0.10855434445261684"
      ]
     },
     "execution_count": 376,
     "metadata": {},
     "output_type": "execute_result"
    }
   ],
   "source": [
    "np.mean(list(map(lambda x: x.iloc[0].iloc[1], bootstraps)))"
   ]
  },
  {
   "cell_type": "code",
   "execution_count": 378,
   "id": "83b62f78-a8de-4e98-9f70-80b65e266332",
   "metadata": {},
   "outputs": [],
   "source": [
    "query_label_dists.to_csv('cache/cluster-prediction-data__label-dists.csv.gz', compression='gzip')"
   ]
  },
  {
   "cell_type": "markdown",
   "id": "de549736-2096-46bb-aba9-98db4ffd1a56",
   "metadata": {},
   "source": [
    "### Try clustering with HDBSCAN"
   ]
  },
  {
   "cell_type": "code",
   "execution_count": 542,
   "id": "d19f8368-cc26-455c-8324-5cb4ae2797fc",
   "metadata": {},
   "outputs": [],
   "source": [
    "from sklearn.cluster import HDBSCAN"
   ]
  },
  {
   "cell_type": "code",
   "execution_count": 548,
   "id": "1780eeea-335d-42b2-90ee-f9efa5917dfb",
   "metadata": {},
   "outputs": [],
   "source": [
    "# scan = HDBSCAN()\n",
    "# learned_clusters = scan.fit_predict(label_distributions, )"
   ]
  },
  {
   "cell_type": "code",
   "execution_count": null,
   "id": "3c7a308a-c318-4bf1-9533-a15b02b66c32",
   "metadata": {},
   "outputs": [],
   "source": [
    "# pd.Series(learned_clusters).value_counts()\n",
    "def kl_divergence(p, q):\n",
    "    return entropy(p, q)\n",
    "\n",
    "N = len(label_distributions)\n",
    "data = label_distributions.values\n",
    "distance_matrix = np.zeros((N, N))\n",
    "for i in range(N):\n",
    "    for j in range(i+1, N):\n",
    "        distance = kl_divergence(data[i], data[j])\n",
    "        distance_matrix[i, j] = distance_matrix[j, i] = distance\n",
    "\n",
    "# Step 2: Hierarchical clustering\n",
    "clustering = AgglomerativeClustering(\n",
    "    affinity='precomputed',\n",
    "    linkage='average',\n",
    "    distance_threshold=0,\n",
    "    n_clusters=None\n",
    ")\n",
    "clustering.fit(distance_matrix)"
   ]
  },
  {
   "cell_type": "code",
   "execution_count": null,
   "id": "6d2d00a8-6907-4c46-ba36-d998c45088ae",
   "metadata": {},
   "outputs": [],
   "source": [
    "labels = clustering.labels_\n",
    "score = silhouette_score(distance_matrix, labels, metric='precomputed')\n",
    "print(f'Silhouette Score: {score}')"
   ]
  },
  {
   "cell_type": "markdown",
   "id": "943592cc-5f56-48fd-8795-d50c401dae94",
   "metadata": {
    "jp-MarkdownHeadingCollapsed": true
   },
   "source": [
    "### Try Clustering with Dirichlet Mixtures"
   ]
  },
  {
   "cell_type": "code",
   "execution_count": 13,
   "id": "2ddef5e7-c67d-4548-b80c-40dc69b10886",
   "metadata": {},
   "outputs": [],
   "source": [
    "import numpy as np\n",
    "import torch\n",
    "import pyro\n",
    "import pyro.distributions as dist\n",
    "from pyro.infer import SVI, Trace_ELBO\n",
    "from pyro.optim import Adam\n",
    "import pyro.distributions.constraints as constraints\n",
    "\n",
    "# Set random seed for reproducibility\n",
    "pyro.set_rng_seed(0)\n",
    "\n",
    "# Generate synthetic data for demonstration purposes\n",
    "def generate_dirichlet_data(N, alpha):\n",
    "    return np.random.dirichlet(alpha, N)\n",
    "\n",
    "# Define the Pyro model\n",
    "def model(data):\n",
    "    with pyro.plate('components', K):\n",
    "        # Corrected: Use .to_event(1) to specify that last dimension is event dimension\n",
    "        alpha_k = pyro.sample('alpha_k', dist.Gamma(torch.tensor(2.0), torch.tensor(1.0)).expand([D]).to_event(1))\n",
    "    \n",
    "    # Prior for mixture weights (cluster probabilities)\n",
    "    pi = pyro.sample('pi', dist.Dirichlet(torch.ones(K)))\n",
    "    \n",
    "    with pyro.plate('data', len(data)):\n",
    "        # Categorical distribution for cluster assignments\n",
    "        z = pyro.sample('z', dist.Categorical(pi))\n",
    "        \n",
    "        # Select the alpha parameters corresponding to the assigned cluster\n",
    "        alpha_z = alpha_k[z]\n",
    "        \n",
    "        # Likelihood: data follows a Dirichlet distribution with parameters alpha_z\n",
    "        pyro.sample('obs', dist.Dirichlet(alpha_z), obs=data)\n",
    "\n",
    "# Define the guide (variational distribution)\n",
    "def guide(data):\n",
    "    # Variational parameters for alpha_k\n",
    "    alpha_k_q = pyro.param('alpha_k_q', torch.rand(K, D) + 1.0, constraint=constraints.positive)\n",
    "    \n",
    "    # Variational parameters for pi\n",
    "    pi_q = pyro.param('pi_q', torch.ones(K), constraint=constraints.simplex)\n",
    "    \n",
    "    with pyro.plate('components', K):\n",
    "        # Corrected: Use .to_event(1) to match the event dimensions in the model\n",
    "        pyro.sample('alpha_k', dist.Gamma(alpha_k_q, torch.tensor(1.0)).to_event(1))\n",
    "    \n",
    "    # Variational distribution for pi\n",
    "    pyro.sample('pi', dist.Dirichlet(pi_q))\n",
    "    \n",
    "    # Variational distribution for z\n",
    "    with pyro.plate('data', len(data)):\n",
    "        q_z_probs = pyro.param('q_z_probs', torch.ones(len(data), K) / K, constraint=constraints.simplex)\n",
    "        pyro.sample('z', dist.Categorical(q_z_probs))\n",
    "\n",
    "# Optimizer\n",
    "optimizer = Adam({'lr': 0.01})\n",
    "\n",
    "# Loss function (Evidence Lower Bound)\n",
    "elbo = Trace_ELBO()\n",
    "\n",
    "# Stochastic Variational Inference (SVI) object\n",
    "svi = SVI(model, guide, optimizer, loss=elbo)"
   ]
  },
  {
   "cell_type": "code",
   "execution_count": null,
   "id": "5e827d25-f9b5-4f68-babf-90bb1a78e9c2",
   "metadata": {},
   "outputs": [],
   "source": [
    "# Create sample data from two Dirichlet distributions\n",
    "N = 500  # Total number of data points\n",
    "alpha1 = np.array([5, 1, 1])  # Parameters for the first Dirichlet distribution\n",
    "alpha2 = np.array([1, 5, 1])  # Parameters for the second Dirichlet distribution\n",
    "\n",
    "# Generate data\n",
    "X1 = generate_dirichlet_data(N // 2, alpha1)\n",
    "X2 = generate_dirichlet_data(N // 2, alpha2)\n",
    "X = np.vstack((X1, X2))  # Combine the data\n",
    "np.random.shuffle(X)  # Shuffle the data\n",
    "\n",
    "# Convert data to PyTorch tensor\n",
    "X = torch.tensor(X, dtype=torch.float)\n",
    "\n",
    "# Number of clusters\n",
    "K = 10\n",
    "\n",
    "# Dimensionality of the Dirichlet distribution\n",
    "D = X.shape[1]\n",
    "\n",
    "# Training loop\n",
    "num_iterations = 5000\n",
    "for step in range(num_iterations):\n",
    "    loss = svi.step(X)\n",
    "    if step % 500 == 0:\n",
    "        print(f\"Step {step} - ELBO Loss: {loss:.4f}\")\n",
    "\n",
    "# Retrieve learned parameters\n",
    "alpha_k_map = pyro.param('alpha_k_q').detach().numpy()\n",
    "pi_map = pyro.param('pi_q').detach().numpy()\n",
    "q_z_probs = pyro.param('q_z_probs').detach().numpy()\n",
    "\n",
    "# Normalize pi_map to sum to 1\n",
    "pi_map /= np.sum(pi_map)\n",
    "\n",
    "# Display the estimated parameters\n",
    "print(\"\\nEstimated mixture weights (pi):\", pi_map)\n",
    "print(\"Estimated Dirichlet parameters (alpha_k):\\n\", alpha_k_map)\n",
    "\n",
    "# Assign clusters based on the highest posterior probability\n",
    "cluster_assignments = np.argmax(q_z_probs, axis=1)"
   ]
  },
  {
   "cell_type": "code",
   "execution_count": null,
   "id": "b25a6f5a-77a5-4ad1-a458-c9ceaa161af3",
   "metadata": {},
   "outputs": [],
   "source": []
  },
  {
   "cell_type": "code",
   "execution_count": null,
   "id": "aab958b1-65b5-40c7-8241-40323263db79",
   "metadata": {},
   "outputs": [],
   "source": []
  },
  {
   "cell_type": "code",
   "execution_count": null,
   "id": "5bdf0193-62e1-46f2-99f2-d6518e250329",
   "metadata": {},
   "outputs": [],
   "source": []
  },
  {
   "cell_type": "code",
   "execution_count": null,
   "id": "176f4915-5436-465a-8ade-4b72d935f5c0",
   "metadata": {},
   "outputs": [],
   "source": []
  },
  {
   "cell_type": "code",
   "execution_count": null,
   "id": "de4ea338-91a3-407b-a84e-0d1dde06a7e9",
   "metadata": {},
   "outputs": [],
   "source": []
  },
  {
   "cell_type": "markdown",
   "id": "2dbe04bd-99de-4053-8bef-0ebeadd18946",
   "metadata": {},
   "source": [
    "### Cluster with KMeans"
   ]
  },
  {
   "cell_type": "code",
   "execution_count": 1,
   "id": "33a4f8c6-c789-49c7-aac4-1d48cb9324ac",
   "metadata": {},
   "outputs": [],
   "source": [
    "import pandas as pd \n",
    "import json\n",
    "orig_train_df = pd.DataFrame(json.load(open('../data/v3_sources/v3_combined_TRAIN.json')))\n",
    "orig_test_df = pd.DataFrame(json.load(open('../data/v3_sources/v3_combined_TEST.json')))\n",
    "train_test_mapper = pd.concat([\n",
    "    orig_train_df[['url']].assign(split='train'),\n",
    "    orig_test_df[['url']].assign(split='test')\n",
    "])"
   ]
  },
  {
   "cell_type": "code",
   "execution_count": 539,
   "id": "53715623-15bb-472a-99e3-dae406a7d0e7",
   "metadata": {},
   "outputs": [],
   "source": [
    "clustering = KMeans(n_clusters=5)\n",
    "clusters = clustering.fit_predict(label_distributions, )"
   ]
  },
  {
   "cell_type": "code",
   "execution_count": 540,
   "id": "8090e564-ab37-43b2-99b6-207f279bea07",
   "metadata": {},
   "outputs": [
    {
     "data": {
      "text/html": [
       "<div>\n",
       "<style scoped>\n",
       "    .dataframe tbody tr th:only-of-type {\n",
       "        vertical-align: middle;\n",
       "    }\n",
       "\n",
       "    .dataframe tbody tr th {\n",
       "        vertical-align: top;\n",
       "    }\n",
       "\n",
       "    .dataframe thead th {\n",
       "        text-align: right;\n",
       "    }\n",
       "</style>\n",
       "<table border=\"1\" class=\"dataframe\">\n",
       "  <thead>\n",
       "    <tr style=\"text-align: right;\">\n",
       "      <th></th>\n",
       "      <th>Analysis</th>\n",
       "      <th>Anecdotes, Examples and Illustration</th>\n",
       "      <th>Background Information</th>\n",
       "      <th>Broadening Perspective</th>\n",
       "      <th>Confirmation and Witness</th>\n",
       "      <th>Counterpoint</th>\n",
       "      <th>Data Resource</th>\n",
       "      <th>Expert</th>\n",
       "      <th>Main Actor</th>\n",
       "      <th>Subject</th>\n",
       "    </tr>\n",
       "  </thead>\n",
       "  <tbody>\n",
       "    <tr>\n",
       "      <th>0</th>\n",
       "      <td>6%</td>\n",
       "      <td>3%</td>\n",
       "      <td>19%</td>\n",
       "      <td>1%</td>\n",
       "      <td>6%</td>\n",
       "      <td>7%</td>\n",
       "      <td>4%</td>\n",
       "      <td>4%</td>\n",
       "      <td>48%</td>\n",
       "      <td>1%</td>\n",
       "    </tr>\n",
       "    <tr>\n",
       "      <th>1</th>\n",
       "      <td>8%</td>\n",
       "      <td>5%</td>\n",
       "      <td>30%</td>\n",
       "      <td>2%</td>\n",
       "      <td>5%</td>\n",
       "      <td>22%</td>\n",
       "      <td>5%</td>\n",
       "      <td>6%</td>\n",
       "      <td>16%</td>\n",
       "      <td>1%</td>\n",
       "    </tr>\n",
       "    <tr>\n",
       "      <th>3</th>\n",
       "      <td>6%</td>\n",
       "      <td>43%</td>\n",
       "      <td>12%</td>\n",
       "      <td>2%</td>\n",
       "      <td>4%</td>\n",
       "      <td>7%</td>\n",
       "      <td>7%</td>\n",
       "      <td>9%</td>\n",
       "      <td>10%</td>\n",
       "      <td>1%</td>\n",
       "    </tr>\n",
       "  </tbody>\n",
       "</table>\n",
       "</div>"
      ],
      "text/plain": [
       "  Analysis Anecdotes, Examples and Illustration Background Information  \\\n",
       "0       6%                                   3%                    19%   \n",
       "1       8%                                   5%                    30%   \n",
       "3       6%                                  43%                    12%   \n",
       "\n",
       "  Broadening Perspective Confirmation and Witness Counterpoint Data Resource  \\\n",
       "0                     1%                       6%           7%            4%   \n",
       "1                     2%                       5%          22%            5%   \n",
       "3                     2%                       4%           7%            7%   \n",
       "\n",
       "  Expert Main Actor Subject  \n",
       "0     4%        48%      1%  \n",
       "1     6%        16%      1%  \n",
       "3     9%        10%      1%  "
      ]
     },
     "execution_count": 540,
     "metadata": {},
     "output_type": "execute_result"
    }
   ],
   "source": [
    "(pd.DataFrame(\n",
    "    clustering.cluster_centers_, \n",
    "    columns=label_distributions.columns.tolist(),\n",
    " )\n",
    " .round(2)\n",
    " .pipe(lambda df: (df * 100).astype(int).astype(str) + '%')\n",
    " .loc[[0, 1, 3]]\n",
    ")"
   ]
  },
  {
   "cell_type": "code",
   "execution_count": 541,
   "id": "5372d830-2008-44e1-b366-fddc752f9308",
   "metadata": {},
   "outputs": [
    {
     "data": {
      "text/plain": [
       "Text(0, 0.5, 'Proportion of Each Label')"
      ]
     },
     "execution_count": 541,
     "metadata": {},
     "output_type": "execute_result"
    },
    {
     "data": {
      "image/png": "[encoded data removed]",
      "text/plain": [
       "<Figure size 1200x400 with 1 Axes>"
      ]
     },
     "metadata": {},
     "output_type": "display_data"
    }
   ],
   "source": [
    "import matplotlib.pyplot as plt\n",
    "pd.DataFrame(\n",
    "    clustering.cluster_centers_, \n",
    "    columns=label_distributions.columns\n",
    ").plot(kind='bar', figsize=(12,4), title='cluster centers')\n",
    "\n",
    "plt.legend(bbox_to_anchor=(1,1))\n",
    "plt.xlabel('Cluster center')\n",
    "plt.ylabel('Proportion of Each Label')"
   ]
  },
  {
   "cell_type": "code",
   "execution_count": null,
   "id": "b9de33cc-411a-4e0d-89b9-793912b86aca",
   "metadata": {},
   "outputs": [],
   "source": [
    "# q: XXX \n",
    "# -> Predict: This belongs to cluster 3\n",
    "#     -> ~60% of it's sources are anecdotes\n",
    "#     -> what next?\n",
    "# During interleaving:\n",
    "#      prompt: Articles like this tend to use \"Anecdotes\" followed by \"Author perspective\"\n",
    "#      prompt: Articles like this tend to use .6 \"Anecodes\", .2 \"Author perspective\"....\n",
    "#               Generate the list of discourse roles you want to use \n",
    "#                  ->"
   ]
  },
  {
   "cell_type": "code",
   "execution_count": 40,
   "id": "9121a43b-d072-4b04-abc0-489cf746b499",
   "metadata": {},
   "outputs": [],
   "source": [
    "t2 = (\n",
    "    label_distributions\n",
    "         .merge(prompts[['url', 'query']].drop_duplicates(), \n",
    "                right_on='url', \n",
    "                left_index=True\n",
    "               ).drop_duplicates(['url', 'query'])\n",
    ")"
   ]
  },
  {
   "cell_type": "code",
   "execution_count": 60,
   "id": "88d32d63-bc1d-4553-9809-b1f3707437fe",
   "metadata": {},
   "outputs": [
    {
     "data": {
      "text/plain": [
       "\"What is the scope of celebrity involvement in the Flint water crisis relief efforts, particularly in the wake of Beyoncé's recent Super Bowl performance and tour announcement?\""
      ]
     },
     "execution_count": 60,
     "metadata": {},
     "output_type": "execute_result"
    }
   ],
   "source": [
    "q = t2.loc[lambda df: df['clusters'] == 3]['query'].iloc[10]\n",
    "q"
   ]
  },
  {
   "cell_type": "code",
   "execution_count": 61,
   "id": "96dd7643-249b-4feb-80bc-111a9cc569cb",
   "metadata": {},
   "outputs": [
    {
     "data": {
      "text/html": [
       "<div>\n",
       "<style scoped>\n",
       "    .dataframe tbody tr th:only-of-type {\n",
       "        vertical-align: middle;\n",
       "    }\n",
       "\n",
       "    .dataframe tbody tr th {\n",
       "        vertical-align: top;\n",
       "    }\n",
       "\n",
       "    .dataframe thead th {\n",
       "        text-align: right;\n",
       "    }\n",
       "</style>\n",
       "<table border=\"1\" class=\"dataframe\">\n",
       "  <thead>\n",
       "    <tr style=\"text-align: right;\">\n",
       "      <th></th>\n",
       "      <th>label</th>\n",
       "      <th>url</th>\n",
       "      <th>Name</th>\n",
       "      <th>query</th>\n",
       "      <th>Biography</th>\n",
       "    </tr>\n",
       "  </thead>\n",
       "  <tbody>\n",
       "    <tr>\n",
       "      <th>52688</th>\n",
       "      <td>Author Perspective</td>\n",
       "      <td>admin.alternet.org/environment/michigan-beyonc...</td>\n",
       "      <td>Lorraine Chow</td>\n",
       "      <td>What is the scope of celebrity involvement in ...</td>\n",
       "      <td>A freelance writer and reporter based in South...</td>\n",
       "    </tr>\n",
       "    <tr>\n",
       "      <th>52689</th>\n",
       "      <td>Background Information</td>\n",
       "      <td>admin.alternet.org/environment/michigan-beyonc...</td>\n",
       "      <td>Live Nation</td>\n",
       "      <td>What is the scope of celebrity involvement in ...</td>\n",
       "      <td>Beyonce's tour promoter</td>\n",
       "    </tr>\n",
       "    <tr>\n",
       "      <th>52690</th>\n",
       "      <td>Background Information</td>\n",
       "      <td>admin.alternet.org/environment/michigan-beyonc...</td>\n",
       "      <td>MLive.com</td>\n",
       "      <td>What is the scope of celebrity involvement in ...</td>\n",
       "      <td>A news website</td>\n",
       "    </tr>\n",
       "    <tr>\n",
       "      <th>52691</th>\n",
       "      <td>Anecdotes, Examples and Illustration</td>\n",
       "      <td>admin.alternet.org/environment/michigan-beyonc...</td>\n",
       "      <td>Big Sean</td>\n",
       "      <td>What is the scope of celebrity involvement in ...</td>\n",
       "      <td>A rapper and Detroit native</td>\n",
       "    </tr>\n",
       "    <tr>\n",
       "      <th>52692</th>\n",
       "      <td>Anecdotes, Examples and Illustration</td>\n",
       "      <td>admin.alternet.org/environment/michigan-beyonc...</td>\n",
       "      <td>Mark Wahlberg and Sean 'Diddy' Combs</td>\n",
       "      <td>What is the scope of celebrity involvement in ...</td>\n",
       "      <td>An actor and a hip-hop entertainer</td>\n",
       "    </tr>\n",
       "    <tr>\n",
       "      <th>52693</th>\n",
       "      <td>Anecdotes, Examples and Illustration</td>\n",
       "      <td>admin.alternet.org/environment/michigan-beyonc...</td>\n",
       "      <td>Cher</td>\n",
       "      <td>What is the scope of celebrity involvement in ...</td>\n",
       "      <td>A singer</td>\n",
       "    </tr>\n",
       "  </tbody>\n",
       "</table>\n",
       "</div>"
      ],
      "text/plain": [
       "                                      label  \\\n",
       "52688                    Author Perspective   \n",
       "52689                Background Information   \n",
       "52690                Background Information   \n",
       "52691  Anecdotes, Examples and Illustration   \n",
       "52692  Anecdotes, Examples and Illustration   \n",
       "52693  Anecdotes, Examples and Illustration   \n",
       "\n",
       "                                                     url  \\\n",
       "52688  admin.alternet.org/environment/michigan-beyonc...   \n",
       "52689  admin.alternet.org/environment/michigan-beyonc...   \n",
       "52690  admin.alternet.org/environment/michigan-beyonc...   \n",
       "52691  admin.alternet.org/environment/michigan-beyonc...   \n",
       "52692  admin.alternet.org/environment/michigan-beyonc...   \n",
       "52693  admin.alternet.org/environment/michigan-beyonc...   \n",
       "\n",
       "                                       Name  \\\n",
       "52688                         Lorraine Chow   \n",
       "52689                           Live Nation   \n",
       "52690                             MLive.com   \n",
       "52691                              Big Sean   \n",
       "52692  Mark Wahlberg and Sean 'Diddy' Combs   \n",
       "52693                                  Cher   \n",
       "\n",
       "                                                   query  \\\n",
       "52688  What is the scope of celebrity involvement in ...   \n",
       "52689  What is the scope of celebrity involvement in ...   \n",
       "52690  What is the scope of celebrity involvement in ...   \n",
       "52691  What is the scope of celebrity involvement in ...   \n",
       "52692  What is the scope of celebrity involvement in ...   \n",
       "52693  What is the scope of celebrity involvement in ...   \n",
       "\n",
       "                                               Biography  \n",
       "52688  A freelance writer and reporter based in South...  \n",
       "52689                            Beyonce's tour promoter  \n",
       "52690                                     A news website  \n",
       "52691                        A rapper and Detroit native  \n",
       "52692                 An actor and a hip-hop entertainer  \n",
       "52693                                           A singer  "
      ]
     },
     "execution_count": 61,
     "metadata": {},
     "output_type": "execute_result"
    }
   ],
   "source": [
    "output_with_queries.loc[lambda df: df['query'] == q]"
   ]
  },
  {
   "cell_type": "markdown",
   "id": "debfa6d3-2244-47ee-9aa1-2a2fcfbd3d1f",
   "metadata": {},
   "source": [
    "### train cluster prediction"
   ]
  },
  {
   "cell_type": "code",
   "execution_count": 564,
   "id": "f1ad93e4-b7e1-4c95-8d10-d5b0421bf784",
   "metadata": {},
   "outputs": [],
   "source": [
    "query_label_dists = (\n",
    "    query_label_dists\n",
    "         # .drop(columns='Unnamed: 0')\n",
    "         .merge(train_test_mapper)\n",
    ")"
   ]
  },
  {
   "cell_type": "code",
   "execution_count": 529,
   "id": "a8d98ffd-a843-407d-a2ab-62fc742dffe5",
   "metadata": {},
   "outputs": [],
   "source": [
    "query_label_dists.to_csv('cache/cluster-prediction-data__label-dists.csv.gz', compression='gzip')"
   ]
  },
  {
   "cell_type": "markdown",
   "id": "d3f7eaa3-b571-4aad-a4d1-e481dcd196aa",
   "metadata": {},
   "source": [
    "#### train and evaluate"
   ]
  },
  {
   "cell_type": "code",
   "execution_count": null,
   "id": "8325e602-469a-4fb3-9b2b-5003f15d08ac",
   "metadata": {},
   "outputs": [],
   "source": [
    "from sklearn.model_selection import train_test_split\n",
    "from sklearn.cluster import KMeans\n",
    "import pandas as pd \n",
    "import numpy as np \n",
    "from datasets import Dataset, DatasetDict\n",
    "import evaluate\n",
    "from transformers import AutoModelForSequenceClassification\n",
    "from transformers import DataCollatorWithPadding\n",
    "from transformers import AutoTokenizer, TrainingArguments, Trainer\n",
    "import os\n",
    "os.environ['TOKENIZERS_PARALLELISM'] = 'false'\n",
    "os.environ['WANDB_DISABLED'] = 'true'\n",
    "\n",
    "col_dist = [\n",
    "    'Analysis',\n",
    "    'Anecdotes, Examples and Illustration',\n",
    "    'Background Information',\n",
    "    'Broadening Perspective',\n",
    "    'Confirmation and Witness',\n",
    "    'Counterpoint',\n",
    "    'Data Resource',\n",
    "    'Expert',\n",
    "    'Main Actor',\n",
    "    'Subject'\n",
    "]\n",
    "\n",
    "PREDICT_NUM_SOURCES = True\n",
    "PREDICT_CLUSTER_DISTRIBUTION = False\n",
    "\n",
    "try:\n",
    "    query_label_dists = pd.read_csv('cache/cluster-prediction-data__label-dists.csv.gz')\n",
    "except:\n",
    "    query_label_dists = pd.read_csv('cluster-prediction-data__label-dists.csv.gz')\n",
    "\n",
    "if 'Unnamed: 0' in query_label_dists.columns:\n",
    "    query_label_dists = query_label_dists.drop(columns='Unnamed: 0')\n",
    "\n",
    "accuracy = evaluate.load(\"accuracy\")\n",
    "f1 = evaluate.load(\"f1\")\n",
    "\n",
    "model_name = \"distilbert/distilbert-base-uncased\"\n",
    "# model_name = \"t5-base\"\n",
    "# model_name = \"albert-xxlarge-v2\"\n",
    "for n_clusters in [8]: # range(4, 5):\n",
    "    if PREDICT_CLUSTER_DISTRIBUTION:\n",
    "        print(f'CLUSTERING WITH {n_clusters}')\n",
    "        clustering = KMeans(n_clusters=n_clusters)\n",
    "        clusters = clustering.fit_predict(query_label_dists[col_dist])\n",
    "        cluster_prediction_data = query_label_dists[['url', 'query', 'split']].assign(label=clusters)\n",
    "        train_df = cluster_prediction_data.loc[lambda df: df['split'] == 'train']\n",
    "        test_df = cluster_prediction_data.loc[lambda df: df['split'] == 'test']\n",
    "        distinct_labels = sorted(train_df['label'].unique())\n",
    "        n_labels = len(distinct_labels)\n",
    "    else:\n",
    "        train_df = orig_train_df.copy()\n",
    "        train_df['label'] = train_df['truth'].str.len()\n",
    "        test_df = orig_test_df.copy()\n",
    "        test_df['label'] = test_df['truth'].str.len()\n",
    "        n_labels = 1\n",
    "\n",
    "    tokenizer = AutoTokenizer.from_pretrained(model_name)\n",
    "    data_collator = DataCollatorWithPadding(tokenizer=tokenizer)\n",
    "    model = AutoModelForSequenceClassification.from_pretrained(\n",
    "        model_name, \n",
    "        num_labels=n_labels,\n",
    "        # id2label=int2label_mapper, label2id=label2int_mapper\n",
    "    )\n",
    "    # model.config.problem_type = \"regression\"\n",
    "    \n",
    "    def preprocess_function(examples):\n",
    "        output_dict = tokenizer(examples[\"query\"], truncation=True)\n",
    "        return output_dict\n",
    "    \n",
    "    def compute_metrics(eval_pred):\n",
    "        predictions, labels = eval_pred\n",
    "        predictions = np.argmax(predictions, axis=1)\n",
    "        return f1.compute(predictions=predictions, references=labels, average='macro')\n",
    "    \n",
    "    ds = DatasetDict()\n",
    "    ds['train'] = Dataset.from_pandas(train_df.dropna())#.sample(50_000))\n",
    "    ds['test'] =  Dataset.from_pandas(test_df.dropna())#.sample(10_000))\n",
    "    tokenized_ds = ds.map(preprocess_function, batched=True, num_proc=10)\n",
    "    training_args = TrainingArguments(\n",
    "        output_dir=\"cache/cluster-label-model\" if PREDICT_CLUSTER_DISTRIBUTION else 'cache/regression-label-model',\n",
    "        learning_rate=2e-5,\n",
    "        per_device_train_batch_size=16,\n",
    "        per_device_eval_batch_size=16,\n",
    "        num_train_epochs=2,\n",
    "        weight_decay=0.01,\n",
    "        eval_strategy=\"epoch\",\n",
    "        save_strategy=\"epoch\",\n",
    "        load_best_model_at_end=True,\n",
    "    )\n",
    "    \n",
    "    trainer = Trainer(\n",
    "        model=model,\n",
    "        args=training_args,\n",
    "        train_dataset=tokenized_ds[\"train\"],\n",
    "        eval_dataset=tokenized_ds[\"test\"],\n",
    "        tokenizer=tokenizer,\n",
    "        data_collator=data_collator,\n",
    "        compute_metrics=compute_metrics,\n",
    "    )\n",
    "    \n",
    "    trainer.train()"
   ]
  },
  {
   "cell_type": "markdown",
   "id": "70acdb52-f032-4f2c-bec1-080bd7c89c04",
   "metadata": {},
   "source": [
    "hyperparameter sweep:\n",
    "2: 0.74\n",
    "3: 0.57\n",
    "4: 0.49\n",
    "5: 0.43\n",
    "6: 0.38\n",
    "7: 0.36\n",
    "8: 0.35\n",
    "9: 0.29"
   ]
  },
  {
   "cell_type": "markdown",
   "id": "bb7a1fef-7c71-4e94-af66-c915dd2abf94",
   "metadata": {},
   "source": [
    "### Try Label Length Prediction"
   ]
  },
  {
   "cell_type": "code",
   "execution_count": 18,
   "id": "9ea1d0d4-694a-4a9a-8b0f-2663e64bb1e7",
   "metadata": {},
   "outputs": [],
   "source": [
    "from sklearn.linear_model import PoissonRegressor, LinearRegression\n",
    "from sentence_transformers import SentenceTransformer"
   ]
  },
  {
   "cell_type": "code",
   "execution_count": 12,
   "id": "9ea576e4-512a-4af4-9576-49eb2b7f2d61",
   "metadata": {},
   "outputs": [],
   "source": [
    "emb_model = SentenceTransformer(\"all-MiniLM-L6-v2\")"
   ]
  },
  {
   "cell_type": "code",
   "execution_count": 13,
   "id": "abedd216-4c7c-44d9-807b-a9b2e6861b7e",
   "metadata": {},
   "outputs": [],
   "source": [
    "y_train = orig_train_df['truth'].str.len()\n",
    "y_test = orig_test_df['truth'].str.len()\n",
    "X_train = orig_train_df['query']\n",
    "X_test = orig_test_df['query']"
   ]
  },
  {
   "cell_type": "code",
   "execution_count": 19,
   "id": "2d7febcd-8aa3-4bb3-97cd-11f6095d2b79",
   "metadata": {},
   "outputs": [],
   "source": [
    "reg = PoissonRegressor()\n",
    "reg = LinearRegression()"
   ]
  },
  {
   "cell_type": "code",
   "execution_count": 14,
   "id": "85b7c605-a1e6-4e01-969d-95105282ac34",
   "metadata": {},
   "outputs": [
    {
     "data": {
      "application/vnd.jupyter.widget-view+json": {
       "model_id": "6961424d1c8f4b9e82e98d4be5bce68a",
       "version_major": 2,
       "version_minor": 0
      },
      "text/plain": [
       "Batches:   0%|          | 0/1285 [00:00<?, ?it/s]"
      ]
     },
     "metadata": {},
     "output_type": "display_data"
    },
    {
     "data": {
      "application/vnd.jupyter.widget-view+json": {
       "model_id": "4bba5c687d9b450788320d69bc88b49e",
       "version_major": 2,
       "version_minor": 0
      },
      "text/plain": [
       "Batches:   0%|          | 0/322 [00:00<?, ?it/s]"
      ]
     },
     "metadata": {},
     "output_type": "display_data"
    }
   ],
   "source": [
    "embeddings_train = model.encode(X_train.tolist(), show_progress_bar=True)\n",
    "embeddings_test = model.encode(X_test.tolist(), show_progress_bar=True)"
   ]
  },
  {
   "cell_type": "code",
   "execution_count": 20,
   "id": "782c4f0c-4e98-4ca3-a7f1-9d44f0c6f758",
   "metadata": {},
   "outputs": [
    {
     "data": {
      "text/html": [
       "<style>#sk-container-id-2 {\n",
       "  /* Definition of color scheme common for light and dark mode */\n",
       "  --sklearn-color-text: black;\n",
       "  --sklearn-color-line: gray;\n",
       "  /* Definition of color scheme for unfitted estimators */\n",
       "  --sklearn-color-unfitted-level-0: #fff5e6;\n",
       "  --sklearn-color-unfitted-level-1: #f6e4d2;\n",
       "  --sklearn-color-unfitted-level-2: #ffe0b3;\n",
       "  --sklearn-color-unfitted-level-3: chocolate;\n",
       "  /* Definition of color scheme for fitted estimators */\n",
       "  --sklearn-color-fitted-level-0: #f0f8ff;\n",
       "  --sklearn-color-fitted-level-1: #d4ebff;\n",
       "  --sklearn-color-fitted-level-2: #b3dbfd;\n",
       "  --sklearn-color-fitted-level-3: cornflowerblue;\n",
       "\n",
       "  /* Specific color for light theme */\n",
       "  --sklearn-color-text-on-default-background: var(--sg-text-color, var(--theme-code-foreground, var(--jp-content-font-color1, black)));\n",
       "  --sklearn-color-background: var(--sg-background-color, var(--theme-background, var(--jp-layout-color0, white)));\n",
       "  --sklearn-color-border-box: var(--sg-text-color, var(--theme-code-foreground, var(--jp-content-font-color1, black)));\n",
       "  --sklearn-color-icon: #696969;\n",
       "\n",
       "  @media (prefers-color-scheme: dark) {\n",
       "    /* Redefinition of color scheme for dark theme */\n",
       "    --sklearn-color-text-on-default-background: var(--sg-text-color, var(--theme-code-foreground, var(--jp-content-font-color1, white)));\n",
       "    --sklearn-color-background: var(--sg-background-color, var(--theme-background, var(--jp-layout-color0, #111)));\n",
       "    --sklearn-color-border-box: var(--sg-text-color, var(--theme-code-foreground, var(--jp-content-font-color1, white)));\n",
       "    --sklearn-color-icon: #878787;\n",
       "  }\n",
       "}\n",
       "\n",
       "#sk-container-id-2 {\n",
       "  color: var(--sklearn-color-text);\n",
       "}\n",
       "\n",
       "#sk-container-id-2 pre {\n",
       "  padding: 0;\n",
       "}\n",
       "\n",
       "#sk-container-id-2 input.sk-hidden--visually {\n",
       "  border: 0;\n",
       "  clip: rect(1px 1px 1px 1px);\n",
       "  clip: rect(1px, 1px, 1px, 1px);\n",
       "  height: 1px;\n",
       "  margin: -1px;\n",
       "  overflow: hidden;\n",
       "  padding: 0;\n",
       "  position: absolute;\n",
       "  width: 1px;\n",
       "}\n",
       "\n",
       "#sk-container-id-2 div.sk-dashed-wrapped {\n",
       "  border: 1px dashed var(--sklearn-color-line);\n",
       "  margin: 0 0.4em 0.5em 0.4em;\n",
       "  box-sizing: border-box;\n",
       "  padding-bottom: 0.4em;\n",
       "  background-color: var(--sklearn-color-background);\n",
       "}\n",
       "\n",
       "#sk-container-id-2 div.sk-container {\n",
       "  /* jupyter's `normalize.less` sets `[hidden] { display: none; }`\n",
       "     but bootstrap.min.css set `[hidden] { display: none !important; }`\n",
       "     so we also need the `!important` here to be able to override the\n",
       "     default hidden behavior on the sphinx rendered scikit-learn.org.\n",
       "     See: https://github.com/scikit-learn/scikit-learn/issues/21755 */\n",
       "  display: inline-block !important;\n",
       "  position: relative;\n",
       "}\n",
       "\n",
       "#sk-container-id-2 div.sk-text-repr-fallback {\n",
       "  display: none;\n",
       "}\n",
       "\n",
       "div.sk-parallel-item,\n",
       "div.sk-serial,\n",
       "div.sk-item {\n",
       "  /* draw centered vertical line to link estimators */\n",
       "  background-image: linear-gradient(var(--sklearn-color-text-on-default-background), var(--sklearn-color-text-on-default-background));\n",
       "  background-size: 2px 100%;\n",
       "  background-repeat: no-repeat;\n",
       "  background-position: center center;\n",
       "}\n",
       "\n",
       "/* Parallel-specific style estimator block */\n",
       "\n",
       "#sk-container-id-2 div.sk-parallel-item::after {\n",
       "  content: \"\";\n",
       "  width: 100%;\n",
       "  border-bottom: 2px solid var(--sklearn-color-text-on-default-background);\n",
       "  flex-grow: 1;\n",
       "}\n",
       "\n",
       "#sk-container-id-2 div.sk-parallel {\n",
       "  display: flex;\n",
       "  align-items: stretch;\n",
       "  justify-content: center;\n",
       "  background-color: var(--sklearn-color-background);\n",
       "  position: relative;\n",
       "}\n",
       "\n",
       "#sk-container-id-2 div.sk-parallel-item {\n",
       "  display: flex;\n",
       "  flex-direction: column;\n",
       "}\n",
       "\n",
       "#sk-container-id-2 div.sk-parallel-item:first-child::after {\n",
       "  align-self: flex-end;\n",
       "  width: 50%;\n",
       "}\n",
       "\n",
       "#sk-container-id-2 div.sk-parallel-item:last-child::after {\n",
       "  align-self: flex-start;\n",
       "  width: 50%;\n",
       "}\n",
       "\n",
       "#sk-container-id-2 div.sk-parallel-item:only-child::after {\n",
       "  width: 0;\n",
       "}\n",
       "\n",
       "/* Serial-specific style estimator block */\n",
       "\n",
       "#sk-container-id-2 div.sk-serial {\n",
       "  display: flex;\n",
       "  flex-direction: column;\n",
       "  align-items: center;\n",
       "  background-color: var(--sklearn-color-background);\n",
       "  padding-right: 1em;\n",
       "  padding-left: 1em;\n",
       "}\n",
       "\n",
       "\n",
       "/* Toggleable style: style used for estimator/Pipeline/ColumnTransformer box that is\n",
       "clickable and can be expanded/collapsed.\n",
       "- Pipeline and ColumnTransformer use this feature and define the default style\n",
       "- Estimators will overwrite some part of the style using the `sk-estimator` class\n",
       "*/\n",
       "\n",
       "/* Pipeline and ColumnTransformer style (default) */\n",
       "\n",
       "#sk-container-id-2 div.sk-toggleable {\n",
       "  /* Default theme specific background. It is overwritten whether we have a\n",
       "  specific estimator or a Pipeline/ColumnTransformer */\n",
       "  background-color: var(--sklearn-color-background);\n",
       "}\n",
       "\n",
       "/* Toggleable label */\n",
       "#sk-container-id-2 label.sk-toggleable__label {\n",
       "  cursor: pointer;\n",
       "  display: block;\n",
       "  width: 100%;\n",
       "  margin-bottom: 0;\n",
       "  padding: 0.5em;\n",
       "  box-sizing: border-box;\n",
       "  text-align: center;\n",
       "}\n",
       "\n",
       "#sk-container-id-2 label.sk-toggleable__label-arrow:before {\n",
       "  /* Arrow on the left of the label */\n",
       "  content: \"▸\";\n",
       "  float: left;\n",
       "  margin-right: 0.25em;\n",
       "  color: var(--sklearn-color-icon);\n",
       "}\n",
       "\n",
       "#sk-container-id-2 label.sk-toggleable__label-arrow:hover:before {\n",
       "  color: var(--sklearn-color-text);\n",
       "}\n",
       "\n",
       "/* Toggleable content - dropdown */\n",
       "\n",
       "#sk-container-id-2 div.sk-toggleable__content {\n",
       "  max-height: 0;\n",
       "  max-width: 0;\n",
       "  overflow: hidden;\n",
       "  text-align: left;\n",
       "  /* unfitted */\n",
       "  background-color: var(--sklearn-color-unfitted-level-0);\n",
       "}\n",
       "\n",
       "#sk-container-id-2 div.sk-toggleable__content.fitted {\n",
       "  /* fitted */\n",
       "  background-color: var(--sklearn-color-fitted-level-0);\n",
       "}\n",
       "\n",
       "#sk-container-id-2 div.sk-toggleable__content pre {\n",
       "  margin: 0.2em;\n",
       "  border-radius: 0.25em;\n",
       "  color: var(--sklearn-color-text);\n",
       "  /* unfitted */\n",
       "  background-color: var(--sklearn-color-unfitted-level-0);\n",
       "}\n",
       "\n",
       "#sk-container-id-2 div.sk-toggleable__content.fitted pre {\n",
       "  /* unfitted */\n",
       "  background-color: var(--sklearn-color-fitted-level-0);\n",
       "}\n",
       "\n",
       "#sk-container-id-2 input.sk-toggleable__control:checked~div.sk-toggleable__content {\n",
       "  /* Expand drop-down */\n",
       "  max-height: 200px;\n",
       "  max-width: 100%;\n",
       "  overflow: auto;\n",
       "}\n",
       "\n",
       "#sk-container-id-2 input.sk-toggleable__control:checked~label.sk-toggleable__label-arrow:before {\n",
       "  content: \"▾\";\n",
       "}\n",
       "\n",
       "/* Pipeline/ColumnTransformer-specific style */\n",
       "\n",
       "#sk-container-id-2 div.sk-label input.sk-toggleable__control:checked~label.sk-toggleable__label {\n",
       "  color: var(--sklearn-color-text);\n",
       "  background-color: var(--sklearn-color-unfitted-level-2);\n",
       "}\n",
       "\n",
       "#sk-container-id-2 div.sk-label.fitted input.sk-toggleable__control:checked~label.sk-toggleable__label {\n",
       "  background-color: var(--sklearn-color-fitted-level-2);\n",
       "}\n",
       "\n",
       "/* Estimator-specific style */\n",
       "\n",
       "/* Colorize estimator box */\n",
       "#sk-container-id-2 div.sk-estimator input.sk-toggleable__control:checked~label.sk-toggleable__label {\n",
       "  /* unfitted */\n",
       "  background-color: var(--sklearn-color-unfitted-level-2);\n",
       "}\n",
       "\n",
       "#sk-container-id-2 div.sk-estimator.fitted input.sk-toggleable__control:checked~label.sk-toggleable__label {\n",
       "  /* fitted */\n",
       "  background-color: var(--sklearn-color-fitted-level-2);\n",
       "}\n",
       "\n",
       "#sk-container-id-2 div.sk-label label.sk-toggleable__label,\n",
       "#sk-container-id-2 div.sk-label label {\n",
       "  /* The background is the default theme color */\n",
       "  color: var(--sklearn-color-text-on-default-background);\n",
       "}\n",
       "\n",
       "/* On hover, darken the color of the background */\n",
       "#sk-container-id-2 div.sk-label:hover label.sk-toggleable__label {\n",
       "  color: var(--sklearn-color-text);\n",
       "  background-color: var(--sklearn-color-unfitted-level-2);\n",
       "}\n",
       "\n",
       "/* Label box, darken color on hover, fitted */\n",
       "#sk-container-id-2 div.sk-label.fitted:hover label.sk-toggleable__label.fitted {\n",
       "  color: var(--sklearn-color-text);\n",
       "  background-color: var(--sklearn-color-fitted-level-2);\n",
       "}\n",
       "\n",
       "/* Estimator label */\n",
       "\n",
       "#sk-container-id-2 div.sk-label label {\n",
       "  font-family: monospace;\n",
       "  font-weight: bold;\n",
       "  display: inline-block;\n",
       "  line-height: 1.2em;\n",
       "}\n",
       "\n",
       "#sk-container-id-2 div.sk-label-container {\n",
       "  text-align: center;\n",
       "}\n",
       "\n",
       "/* Estimator-specific */\n",
       "#sk-container-id-2 div.sk-estimator {\n",
       "  font-family: monospace;\n",
       "  border: 1px dotted var(--sklearn-color-border-box);\n",
       "  border-radius: 0.25em;\n",
       "  box-sizing: border-box;\n",
       "  margin-bottom: 0.5em;\n",
       "  /* unfitted */\n",
       "  background-color: var(--sklearn-color-unfitted-level-0);\n",
       "}\n",
       "\n",
       "#sk-container-id-2 div.sk-estimator.fitted {\n",
       "  /* fitted */\n",
       "  background-color: var(--sklearn-color-fitted-level-0);\n",
       "}\n",
       "\n",
       "/* on hover */\n",
       "#sk-container-id-2 div.sk-estimator:hover {\n",
       "  /* unfitted */\n",
       "  background-color: var(--sklearn-color-unfitted-level-2);\n",
       "}\n",
       "\n",
       "#sk-container-id-2 div.sk-estimator.fitted:hover {\n",
       "  /* fitted */\n",
       "  background-color: var(--sklearn-color-fitted-level-2);\n",
       "}\n",
       "\n",
       "/* Specification for estimator info (e.g. \"i\" and \"?\") */\n",
       "\n",
       "/* Common style for \"i\" and \"?\" */\n",
       "\n",
       ".sk-estimator-doc-link,\n",
       "a:link.sk-estimator-doc-link,\n",
       "a:visited.sk-estimator-doc-link {\n",
       "  float: right;\n",
       "  font-size: smaller;\n",
       "  line-height: 1em;\n",
       "  font-family: monospace;\n",
       "  background-color: var(--sklearn-color-background);\n",
       "  border-radius: 1em;\n",
       "  height: 1em;\n",
       "  width: 1em;\n",
       "  text-decoration: none !important;\n",
       "  margin-left: 1ex;\n",
       "  /* unfitted */\n",
       "  border: var(--sklearn-color-unfitted-level-1) 1pt solid;\n",
       "  color: var(--sklearn-color-unfitted-level-1);\n",
       "}\n",
       "\n",
       ".sk-estimator-doc-link.fitted,\n",
       "a:link.sk-estimator-doc-link.fitted,\n",
       "a:visited.sk-estimator-doc-link.fitted {\n",
       "  /* fitted */\n",
       "  border: var(--sklearn-color-fitted-level-1) 1pt solid;\n",
       "  color: var(--sklearn-color-fitted-level-1);\n",
       "}\n",
       "\n",
       "/* On hover */\n",
       "div.sk-estimator:hover .sk-estimator-doc-link:hover,\n",
       ".sk-estimator-doc-link:hover,\n",
       "div.sk-label-container:hover .sk-estimator-doc-link:hover,\n",
       ".sk-estimator-doc-link:hover {\n",
       "  /* unfitted */\n",
       "  background-color: var(--sklearn-color-unfitted-level-3);\n",
       "  color: var(--sklearn-color-background);\n",
       "  text-decoration: none;\n",
       "}\n",
       "\n",
       "div.sk-estimator.fitted:hover .sk-estimator-doc-link.fitted:hover,\n",
       ".sk-estimator-doc-link.fitted:hover,\n",
       "div.sk-label-container:hover .sk-estimator-doc-link.fitted:hover,\n",
       ".sk-estimator-doc-link.fitted:hover {\n",
       "  /* fitted */\n",
       "  background-color: var(--sklearn-color-fitted-level-3);\n",
       "  color: var(--sklearn-color-background);\n",
       "  text-decoration: none;\n",
       "}\n",
       "\n",
       "/* Span, style for the box shown on hovering the info icon */\n",
       ".sk-estimator-doc-link span {\n",
       "  display: none;\n",
       "  z-index: 9999;\n",
       "  position: relative;\n",
       "  font-weight: normal;\n",
       "  right: .2ex;\n",
       "  padding: .5ex;\n",
       "  margin: .5ex;\n",
       "  width: min-content;\n",
       "  min-width: 20ex;\n",
       "  max-width: 50ex;\n",
       "  color: var(--sklearn-color-text);\n",
       "  box-shadow: 2pt 2pt 4pt #999;\n",
       "  /* unfitted */\n",
       "  background: var(--sklearn-color-unfitted-level-0);\n",
       "  border: .5pt solid var(--sklearn-color-unfitted-level-3);\n",
       "}\n",
       "\n",
       ".sk-estimator-doc-link.fitted span {\n",
       "  /* fitted */\n",
       "  background: var(--sklearn-color-fitted-level-0);\n",
       "  border: var(--sklearn-color-fitted-level-3);\n",
       "}\n",
       "\n",
       ".sk-estimator-doc-link:hover span {\n",
       "  display: block;\n",
       "}\n",
       "\n",
       "/* \"?\"-specific style due to the `<a>` HTML tag */\n",
       "\n",
       "#sk-container-id-2 a.estimator_doc_link {\n",
       "  float: right;\n",
       "  font-size: 1rem;\n",
       "  line-height: 1em;\n",
       "  font-family: monospace;\n",
       "  background-color: var(--sklearn-color-background);\n",
       "  border-radius: 1rem;\n",
       "  height: 1rem;\n",
       "  width: 1rem;\n",
       "  text-decoration: none;\n",
       "  /* unfitted */\n",
       "  color: var(--sklearn-color-unfitted-level-1);\n",
       "  border: var(--sklearn-color-unfitted-level-1) 1pt solid;\n",
       "}\n",
       "\n",
       "#sk-container-id-2 a.estimator_doc_link.fitted {\n",
       "  /* fitted */\n",
       "  border: var(--sklearn-color-fitted-level-1) 1pt solid;\n",
       "  color: var(--sklearn-color-fitted-level-1);\n",
       "}\n",
       "\n",
       "/* On hover */\n",
       "#sk-container-id-2 a.estimator_doc_link:hover {\n",
       "  /* unfitted */\n",
       "  background-color: var(--sklearn-color-unfitted-level-3);\n",
       "  color: var(--sklearn-color-background);\n",
       "  text-decoration: none;\n",
       "}\n",
       "\n",
       "#sk-container-id-2 a.estimator_doc_link.fitted:hover {\n",
       "  /* fitted */\n",
       "  background-color: var(--sklearn-color-fitted-level-3);\n",
       "}\n",
       "</style><div id=\"sk-container-id-2\" class=\"sk-top-container\"><div class=\"sk-text-repr-fallback\"><pre>LinearRegression()</pre><b>In a Jupyter environment, please rerun this cell to show the HTML representation or trust the notebook. <br />On GitHub, the HTML representation is unable to render, please try loading this page with nbviewer.org.</b></div><div class=\"sk-container\" hidden><div class=\"sk-item\"><div class=\"sk-estimator fitted sk-toggleable\"><input class=\"sk-toggleable__control sk-hidden--visually\" id=\"sk-estimator-id-2\" type=\"checkbox\" checked><label for=\"sk-estimator-id-2\" class=\"sk-toggleable__label fitted sk-toggleable__label-arrow fitted\">&nbsp;&nbsp;LinearRegression<a class=\"sk-estimator-doc-link fitted\" rel=\"noreferrer\" target=\"_blank\" href=\"https://scikit-learn.org/1.5/modules/generated/sklearn.linear_model.LinearRegression.html\">?<span>Documentation for LinearRegression</span></a><span class=\"sk-estimator-doc-link fitted\">i<span>Fitted</span></span></label><div class=\"sk-toggleable__content fitted\"><pre>LinearRegression()</pre></div> </div></div></div></div>"
      ],
      "text/plain": [
       "LinearRegression()"
      ]
     },
     "execution_count": 20,
     "metadata": {},
     "output_type": "execute_result"
    }
   ],
   "source": [
    "reg.fit(embeddings_train, y_train)"
   ]
  },
  {
   "cell_type": "code",
   "execution_count": 22,
   "id": "9352cfc3-a33b-4edf-8fcc-e935e08ed329",
   "metadata": {},
   "outputs": [],
   "source": [
    "y_pred = reg.predict(embeddings_test)"
   ]
  },
  {
   "cell_type": "code",
   "execution_count": 27,
   "id": "135a5f07-6d77-4113-97f3-4469baad4f39",
   "metadata": {},
   "outputs": [
    {
     "data": {
      "text/html": [
       "<div>\n",
       "<style scoped>\n",
       "    .dataframe tbody tr th:only-of-type {\n",
       "        vertical-align: middle;\n",
       "    }\n",
       "\n",
       "    .dataframe tbody tr th {\n",
       "        vertical-align: top;\n",
       "    }\n",
       "\n",
       "    .dataframe thead th {\n",
       "        text-align: right;\n",
       "    }\n",
       "</style>\n",
       "<table border=\"1\" class=\"dataframe\">\n",
       "  <thead>\n",
       "    <tr style=\"text-align: right;\">\n",
       "      <th></th>\n",
       "      <th>y_pred</th>\n",
       "      <th>y_test</th>\n",
       "    </tr>\n",
       "  </thead>\n",
       "  <tbody>\n",
       "    <tr>\n",
       "      <th>y_pred</th>\n",
       "      <td>1.000000</td>\n",
       "      <td>0.298946</td>\n",
       "    </tr>\n",
       "    <tr>\n",
       "      <th>y_test</th>\n",
       "      <td>0.298946</td>\n",
       "      <td>1.000000</td>\n",
       "    </tr>\n",
       "  </tbody>\n",
       "</table>\n",
       "</div>"
      ],
      "text/plain": [
       "          y_pred    y_test\n",
       "y_pred  1.000000  0.298946\n",
       "y_test  0.298946  1.000000"
      ]
     },
     "execution_count": 27,
     "metadata": {},
     "output_type": "execute_result"
    }
   ],
   "source": [
    "pd.concat([\n",
    "    pd.Series(y_pred).to_frame('y_pred'),\n",
    "    y_test.to_frame('y_test')\n",
    "], axis=1).corr()"
   ]
  },
  {
   "cell_type": "code",
   "execution_count": 181,
   "id": "9fc03d46-5f5c-41ed-8c1a-8c88ede07397",
   "metadata": {},
   "outputs": [
    {
     "name": "stdout",
     "output_type": "stream",
     "text": [
      "Epoch [1/20], Loss: -3.3875\n",
      "Epoch [2/20], Loss: -7.2131\n",
      "Epoch [3/20], Loss: -7.3549\n",
      "Epoch [4/20], Loss: -7.4129\n",
      "Epoch [5/20], Loss: -7.4424\n",
      "Epoch [6/20], Loss: -7.4602\n",
      "Epoch [7/20], Loss: -7.4724\n",
      "Epoch [8/20], Loss: -7.4808\n",
      "Epoch [9/20], Loss: -7.4873\n",
      "Epoch [10/20], Loss: -7.4927\n",
      "Epoch [11/20], Loss: -7.4968\n",
      "Epoch [12/20], Loss: -7.5006\n",
      "Epoch [13/20], Loss: -7.5037\n",
      "Epoch [14/20], Loss: -7.5072\n",
      "Epoch [15/20], Loss: -7.5096\n",
      "Epoch [16/20], Loss: -7.5121\n",
      "Epoch [17/20], Loss: -7.5148\n",
      "Epoch [18/20], Loss: -7.5170\n",
      "Epoch [19/20], Loss: -7.5190\n",
      "Epoch [20/20], Loss: -7.5211\n",
      "\n",
      "Evaluating the model...\n",
      "Evaluation - MSE: 10.9453\n",
      "Evaluation - POISSON_DEVIANCE: -7.4434\n"
     ]
    },
    {
     "data": {
      "text/plain": [
       "-7.443393172178751"
      ]
     },
     "execution_count": 181,
     "metadata": {},
     "output_type": "execute_result"
    }
   ],
   "source": [
    "import torch\n",
    "import torch.nn as nn\n",
    "import torch.optim as optim\n",
    "import torch.nn.functional as F\n",
    "from torch.utils.data import DataLoader, TensorDataset\n",
    "\n",
    "class MLP_PoissonRegression(nn.Module):\n",
    "    def __init__(self, input_dim, hidden_dim, output_dim=1):\n",
    "        super(MLP_PoissonRegression, self).__init__()\n",
    "        self.fc1 = nn.Linear(input_dim, hidden_dim)\n",
    "        self.fc2 = nn.Linear(hidden_dim, hidden_dim)\n",
    "        self.fc3 = nn.Linear(hidden_dim, hidden_dim)\n",
    "        self.fc4 = nn.Linear(hidden_dim, output_dim)\n",
    "\n",
    "    def forward(self, x):\n",
    "        x = F.relu(self.fc1(x))\n",
    "        x = F.relu(self.fc2(x))\n",
    "        # Exponential activation to ensure non-negative output\n",
    "        x = F.relu(self.fc3(x))\n",
    "        output = torch.exp(self.fc4(x))\n",
    "        return output\n",
    "\n",
    "def generate_data(num_samples, input_dim):\n",
    "    \"\"\"Generates synthetic Poisson regression data.\"\"\"\n",
    "    X = torch.randn(num_samples, input_dim)\n",
    "    true_weights = torch.randn(input_dim, 1)  # Random weights for targets\n",
    "    rates = torch.exp(X @ true_weights)  # True rate parameter (λ)\n",
    "    y = torch.poisson(rates)  # Generate Poisson-distributed target values\n",
    "    return X, y\n",
    "\n",
    "def train_model(model, train_loader, optimizer, loss_fn, epochs):\n",
    "    \"\"\"Trains the model and prints the average loss for each epoch.\"\"\"\n",
    "    model.train()  # Set the model to training mode\n",
    "    for epoch in range(epochs):\n",
    "        total_loss = 0.0\n",
    "        for X_batch, y_batch in train_loader:\n",
    "            optimizer.zero_grad()  # Reset gradients\n",
    "            y_pred = model(X_batch)  # Forward pass\n",
    "            loss = loss_fn(y_pred, y_batch)  # Calculate loss\n",
    "            loss.backward()  # Backpropagation\n",
    "            optimizer.step()  # Update weights\n",
    "\n",
    "            total_loss += loss.item() * X_batch.size(0)  # Accumulate loss\n",
    "\n",
    "        avg_loss = total_loss / len(train_loader.dataset)\n",
    "        print(f\"Epoch [{epoch + 1}/{epochs}], Loss: {avg_loss:.4f}\")\n",
    "\n",
    "def evaluate_model(model, data_loader, metric=\"mse\"):\n",
    "    \"\"\"Evaluates the model using the chosen metric: 'mse' or 'poisson_deviance'.\"\"\"\n",
    "    model.eval()  # Set the model to evaluation mode\n",
    "    total_metric = 0.0\n",
    "\n",
    "    with torch.no_grad():  # No gradient calculation during evaluation\n",
    "        for X_batch, y_batch in data_loader:\n",
    "            y_pred = model(X_batch)  # Forward pass\n",
    "            if metric == \"mse\":\n",
    "                metric_value = torch.mean((y_pred - y_batch) ** 2).item()\n",
    "            elif metric == \"poisson_deviance\":\n",
    "                # Poisson deviance calculation\n",
    "                metric_value = torch.mean(\n",
    "                    y_pred - y_batch * torch.log(y_pred + 1e-8)\n",
    "                ).item()\n",
    "            total_metric += metric_value * X_batch.size(0)\n",
    "\n",
    "    avg_metric = total_metric / len(data_loader.dataset)\n",
    "    print(f\"Evaluation - {metric.upper()}: {avg_metric:.4f}\")\n",
    "    return avg_metric\n",
    "\n",
    "# Hyperparameters\n",
    "input_dim = 384\n",
    "hidden_dim = 120\n",
    "batch_size = 32\n",
    "epochs = 20\n",
    "learning_rate = 2e-5\n",
    "\n",
    "train_X_tens = torch.tensor(embeddings_train)\n",
    "train_y_tens = torch.tensor(y_train.to_frame().values)\n",
    "\n",
    "val_X_tens = torch.tensor(embeddings_test)\n",
    "val_y_tens = torch.tensor(y_test.to_frame().values)\n",
    "\n",
    "# Create DataLoaders for training and validation\n",
    "train_dataset = TensorDataset(train_X_tens, train_y_tens)\n",
    "val_dataset = TensorDataset(val_X_tens, val_y_tens)\n",
    "train_loader = DataLoader(train_dataset, batch_size=batch_size, shuffle=True)\n",
    "val_loader = DataLoader(val_dataset, batch_size=batch_size, shuffle=False)\n",
    "\n",
    "# Initialize model, optimizer, and loss function\n",
    "model = MLP_PoissonRegression(input_dim, hidden_dim)\n",
    "optimizer = optim.Adam(model.parameters(), lr=learning_rate)\n",
    "loss_fn = nn.PoissonNLLLoss(log_input=False)\n",
    "\n",
    "# Train the model\n",
    "train_model(model, train_loader, optimizer, loss_fn, epochs)\n",
    "\n",
    "# Evaluate the model using both MSE and Poisson Deviance metrics\n",
    "print(\"\\nEvaluating the model...\")\n",
    "evaluate_model(model, val_loader, metric=\"mse\")\n",
    "evaluate_model(model, val_loader, metric=\"poisson_deviance\")"
   ]
  },
  {
   "cell_type": "code",
   "execution_count": 182,
   "id": "e88878d6-6919-46c5-b6f7-09223ad7b5ef",
   "metadata": {},
   "outputs": [],
   "source": [
    "y_pred = model(val_X_tens)"
   ]
  },
  {
   "cell_type": "code",
   "execution_count": null,
   "id": "60119a5f-76bb-4662-b494-9bdee9a399df",
   "metadata": {},
   "outputs": [],
   "source": [
    "# y_pred\n",
    "# torch.poisson(y_pred)"
   ]
  },
  {
   "cell_type": "code",
   "execution_count": 196,
   "id": "78145843-25c7-4740-9e84-253d046de42a",
   "metadata": {},
   "outputs": [],
   "source": [
    "test_df = (\n",
    "    pd\n",
    "     # .DataFrame(torch.poisson(y_pred).detach().numpy(), columns=['y_pred'])\n",
    "     .DataFrame(y_pred.detach().numpy(), columns=['y_pred'])\n",
    "     .assign(y_test=y_test)\n",
    ")"
   ]
  },
  {
   "cell_type": "code",
   "execution_count": 199,
   "id": "d3213d70-0e7f-44de-b1a6-d300f7349b7d",
   "metadata": {},
   "outputs": [],
   "source": [
    "import matplotlib.pyplot as plt "
   ]
  },
  {
   "cell_type": "code",
   "execution_count": null,
   "id": "e07e95fc-3894-4988-a0cf-b937b4e6de56",
   "metadata": {},
   "outputs": [],
   "source": [
    "test_df['y_test'].min()\n",
    "test_df['y_test'].max()\n",
    "\n",
    "test_df['y_pred'].min()\n",
    "test_df['y_pred'].max() \n"
   ]
  },
  {
   "cell_type": "code",
   "execution_count": 219,
   "id": "81e8d15d-1ba3-44f0-8d6e-0142cb82a75c",
   "metadata": {},
   "outputs": [],
   "source": [
    "def scale_predictions_min_max(y_pred, y_obs):\n",
    "    \"\"\"Min-Max scaling of predictions to match observed data range.\"\"\"\n",
    "    y_pred_min, y_pred_max = y_pred.min(), y_pred.max()\n",
    "    y_obs_min, y_obs_max = y_obs.min(), y_obs.max()\n",
    "    \n",
    "    # Apply Min-Max scaling\n",
    "    y_pred_scaled = (y_pred - y_pred_min) / (y_pred_max - y_pred_min)\n",
    "    y_pred_scaled = y_pred_scaled * (y_obs_max - y_obs_min) + y_obs_min\n",
    "    return y_pred_scaled"
   ]
  },
  {
   "cell_type": "code",
   "execution_count": 229,
   "id": "cd7d9bc8-6e16-4a8a-ae26-16db1b139681",
   "metadata": {},
   "outputs": [],
   "source": [
    "(orig_test_df\n",
    " .assign(y_pred=scale_predictions_min_max(test_df['y_pred'], test_df['y_test']).astype(int))\n",
    " .to_json('../data/results/poisson_regression.jsonl', lines=True, orient='records')\n",
    ")"
   ]
  },
  {
   "cell_type": "code",
   "execution_count": 231,
   "id": "88ce5cfe-1886-4bda-adb6-67219103ad2c",
   "metadata": {},
   "outputs": [],
   "source": [
    "! open ../data/results/"
   ]
  },
  {
   "cell_type": "code",
   "execution_count": 224,
   "id": "d8bdfd33-4181-4889-965d-d2aff6070083",
   "metadata": {},
   "outputs": [
    {
     "data": {
      "text/html": [
       "<div>\n",
       "<style scoped>\n",
       "    .dataframe tbody tr th:only-of-type {\n",
       "        vertical-align: middle;\n",
       "    }\n",
       "\n",
       "    .dataframe tbody tr th {\n",
       "        vertical-align: top;\n",
       "    }\n",
       "\n",
       "    .dataframe thead th {\n",
       "        text-align: right;\n",
       "    }\n",
       "</style>\n",
       "<table border=\"1\" class=\"dataframe\">\n",
       "  <thead>\n",
       "    <tr style=\"text-align: right;\">\n",
       "      <th></th>\n",
       "      <th>y_pred</th>\n",
       "      <th>y_test</th>\n",
       "    </tr>\n",
       "  </thead>\n",
       "  <tbody>\n",
       "    <tr>\n",
       "      <th>y_pred</th>\n",
       "      <td>1.000000</td>\n",
       "      <td>0.316986</td>\n",
       "    </tr>\n",
       "    <tr>\n",
       "      <th>y_test</th>\n",
       "      <td>0.316986</td>\n",
       "      <td>1.000000</td>\n",
       "    </tr>\n",
       "  </tbody>\n",
       "</table>\n",
       "</div>"
      ],
      "text/plain": [
       "          y_pred    y_test\n",
       "y_pred  1.000000  0.316986\n",
       "y_test  0.316986  1.000000"
      ]
     },
     "execution_count": 224,
     "metadata": {},
     "output_type": "execute_result"
    }
   ],
   "source": [
    "test_df.assign(y_pred=scale_predictions_min_max(test_df['y_pred'], test_df['y_test']).astype(int)).corr(method='spearman')"
   ]
  },
  {
   "cell_type": "code",
   "execution_count": 225,
   "id": "d6445b0d-9c26-492c-8a33-874d22f0d880",
   "metadata": {},
   "outputs": [
    {
     "data": {
      "text/plain": [
       "Text(0, 0.5, 'Predicted # Examples')"
      ]
     },
     "execution_count": 225,
     "metadata": {},
     "output_type": "execute_result"
    },
    {
     "data": {
      "image/png": "[encoded data removed]",
      "text/plain": [
       "<Figure size 640x480 with 1 Axes>"
      ]
     },
     "metadata": {},
     "output_type": "display_data"
    }
   ],
   "source": [
    "plt.scatter(test_df['y_test'], scale_predictions_min_max(test_df['y_pred'], test_df['y_test']).astype(int))\n",
    "plt.xlabel('Ground Truth # Examples')\n",
    "plt.ylabel('Predicted # Examples')"
   ]
  },
  {
   "cell_type": "markdown",
   "id": "9da5a686-1b5c-4c8d-8b7d-83c3facd38e7",
   "metadata": {
    "jp-MarkdownHeadingCollapsed": true
   },
   "source": [
    "#### Bert Regression Model"
   ]
  },
  {
   "cell_type": "code",
   "execution_count": 116,
   "id": "a460e342-ec56-4e19-bb39-8b5f137b1b48",
   "metadata": {},
   "outputs": [],
   "source": [
    "from tqdm.auto import tqdm\n",
    "import torch\n",
    "import torch.nn as nn\n",
    "import torch.optim as optim\n",
    "from transformers import BertModel, BertTokenizer\n",
    "from torch.utils.data import DataLoader, TensorDataset\n",
    "\n",
    "class BertPoissonRegression(nn.Module):\n",
    "    def __init__(self, bert_model_name=\"bert-base-uncased\", hidden_dim=128):\n",
    "        super(BertPoissonRegression, self).__init__()\n",
    "        self.bert = BertModel.from_pretrained(bert_model_name)\n",
    "        self.dropout = nn.Dropout(0.3)  # Regularization\n",
    "        self.fc1 = nn.Linear(self.bert.config.hidden_size, hidden_dim)\n",
    "        self.fc2 = nn.Linear(hidden_dim, 1)\n",
    "\n",
    "    def forward(self, input_ids, attention_mask):\n",
    "        # Extract embeddings from BERT\n",
    "        outputs = self.bert(input_ids=input_ids, attention_mask=attention_mask)\n",
    "        pooled_output = outputs.pooler_output  # [CLS] token embedding\n",
    "\n",
    "        # Pass through a small MLP for regression\n",
    "        x = self.dropout(pooled_output)\n",
    "        x = torch.relu(self.fc1(x))\n",
    "        x = self.fc2(x)\n",
    "\n",
    "        # Apply exponential to ensure non-negative Poisson rate output\n",
    "        return torch.exp(x)\n",
    "\n",
    "def train_model(model, train_loader, optimizer, loss_fn, epochs):\n",
    "    \"\"\"Trains the model and prints the average loss for each epoch.\"\"\"\n",
    "    model.train()\n",
    "    for epoch in tqdm(range(epochs)):\n",
    "        total_loss = 0.0\n",
    "        for batch in tqdm(train_loader):\n",
    "            input_ids, attention_mask, y_batch = batch\n",
    "            optimizer.zero_grad()\n",
    "\n",
    "            # Forward pass\n",
    "            y_pred = model(input_ids, attention_mask)\n",
    "\n",
    "            # Compute loss\n",
    "            loss = loss_fn(y_pred, y_batch)\n",
    "            loss.backward()\n",
    "            optimizer.step()\n",
    "\n",
    "            total_loss += loss.item() * input_ids.size(0)\n",
    "\n",
    "        avg_loss = total_loss / len(train_loader.dataset)\n",
    "        print(f\"Epoch [{epoch + 1}/{epochs}], Loss: {avg_loss:.4f}\")\n",
    "\n",
    "def evaluate_model(model, data_loader, metric=\"mse\"):\n",
    "    \"\"\"Evaluates the model using MSE or Poisson Deviance.\"\"\"\n",
    "    model.eval()\n",
    "    total_metric = 0.0\n",
    "\n",
    "    with torch.no_grad():\n",
    "        for batch in data_loader:\n",
    "            input_ids, attention_mask, y_batch = batch\n",
    "            y_pred = model(input_ids, attention_mask)\n",
    "\n",
    "            if metric == \"mse\":\n",
    "                metric_value = torch.mean((y_pred - y_batch) ** 2).item()\n",
    "            elif metric == \"poisson_deviance\":\n",
    "                metric_value = torch.mean(y_pred - y_batch * torch.log(y_pred + 1e-8)).item()\n",
    "\n",
    "            total_metric += metric_value * input_ids.size(0)\n",
    "\n",
    "    avg_metric = total_metric / len(data_loader.dataset)\n",
    "    print(f\"Evaluation - {metric.upper()}: {avg_metric:.4f}\")\n",
    "    return avg_metric"
   ]
  },
  {
   "cell_type": "code",
   "execution_count": null,
   "id": "62418867-9507-48f8-a1d6-0e61e6f8d5a1",
   "metadata": {},
   "outputs": [],
   "source": [
    "def process_text_data(texts, y, tokenizer, seq_length=512):\n",
    "    \"\"\"Generates dummy text data and Poisson targets.\"\"\"\n",
    "    encodings = tokenizer(texts, padding=True, truncation=True, max_length=seq_length, return_tensors=\"pt\")\n",
    "\n",
    "    # Random weights for generating Poisson targets\n",
    "    # true_weights = torch.randn(encodings[\"input_ids\"].size(1), 1)\n",
    "    # rates = torch.exp(encodings[\"input_ids\"].float() @ true_weights)  # Rate parameter λ\n",
    "    # y = torch.poisson(rates)  # Poisson-distributed targets\n",
    "    y = torch.tensor(y)\n",
    "    return encodings, y"
   ]
  },
  {
   "cell_type": "code",
   "execution_count": 118,
   "id": "ba93834a-4505-4d29-8be7-b9c0538a8de2",
   "metadata": {},
   "outputs": [],
   "source": [
    "import pandas as pd \n",
    "import json\n",
    "train_df = pd.DataFrame(json.load(open('../data/v3_sources/v3_combined_TRAIN.json')))\n",
    "train_df['label'] = train_df['truth'].str.len()\n",
    "test_df = pd.DataFrame(json.load(open('../data/v3_sources/v3_combined_TEST.json')))\n",
    "test_df['label'] = test_df['truth'].str.len()"
   ]
  },
  {
   "cell_type": "code",
   "execution_count": null,
   "id": "adf144e8-9d8c-4d30-9267-9cbfde5eabe7",
   "metadata": {},
   "outputs": [],
   "source": [
    "tokenizer = BertTokenizer.from_pretrained(\"bert-base-uncased\")\n",
    "train_encodings, train_y = process_text_data(train_df['query'].tolist(), train_df['label'].tolist(), tokenizer=tokenizer)\n",
    "test_encodings, test_y = process_text_data(test_df['query'].tolist(), test_df['label'].tolist(), tokenizer=tokenizer)\n",
    "\n",
    "# Hyperparameters\n",
    "batch_size = 8\n",
    "epochs = 3\n",
    "learning_rate = 2e-5\n",
    "\n",
    "# Initialize tokenizer and model\n",
    "model = BertPoissonRegression()\n",
    "\n",
    "# Create DataLoaders\n",
    "train_dataset = TensorDataset(train_encodings[\"input_ids\"], train_encodings[\"attention_mask\"], train_y)\n",
    "val_dataset = TensorDataset(val_encodings[\"input_ids\"], val_encodings[\"attention_mask\"], val_y)\n",
    "train_loader = DataLoader(train_dataset, batch_size=batch_size, shuffle=True)\n",
    "val_loader = DataLoader(val_dataset, batch_size=batch_size)\n",
    "\n",
    "# Optimizer and Loss Function\n",
    "optimizer = optim.AdamW(model.parameters(), lr=learning_rate)\n",
    "loss_fn = nn.PoissonNLLLoss(log_input=False)\n",
    "\n",
    "# Train the model\n",
    "print(\"Training the model...\")\n",
    "train_model(model, train_loader, optimizer, loss_fn, epochs)\n",
    "\n",
    "# Evaluate the model\n",
    "print(\"\\nEvaluating the model...\")\n",
    "evaluate_model(model, val_loader, metric=\"mse\")\n",
    "evaluate_model(model, val_loader, metric=\"poisson_deviance\")"
   ]
  },
  {
   "cell_type": "code",
   "execution_count": null,
   "id": "72905d80-e215-4d40-bbb8-21d338c2b4c9",
   "metadata": {},
   "outputs": [],
   "source": []
  },
  {
   "cell_type": "code",
   "execution_count": null,
   "id": "514021f6-e521-4042-a614-91a9d91bacbe",
   "metadata": {},
   "outputs": [],
   "source": []
  },
  {
   "cell_type": "code",
   "execution_count": null,
   "id": "65d73f37-af5b-46bf-9b91-e3f39fe61881",
   "metadata": {},
   "outputs": [],
   "source": []
  },
  {
   "cell_type": "code",
   "execution_count": null,
   "id": "53f97d57-a4db-4a69-837e-ffed9c14e6b0",
   "metadata": {},
   "outputs": [],
   "source": []
  },
  {
   "cell_type": "code",
   "execution_count": null,
   "id": "699f6175-7af5-498f-98b3-7643c929a655",
   "metadata": {},
   "outputs": [],
   "source": []
  },
  {
   "cell_type": "code",
   "execution_count": null,
   "id": "a560df15-3da9-4b8d-a8af-d394b2205f37",
   "metadata": {},
   "outputs": [],
   "source": []
  },
  {
   "cell_type": "code",
   "execution_count": null,
   "id": "989fcc35-565d-4f08-a706-d34a22ffb3cf",
   "metadata": {},
   "outputs": [],
   "source": []
  },
  {
   "cell_type": "code",
   "execution_count": null,
   "id": "bdddc4be-c700-45dc-bbe0-e148eecbf374",
   "metadata": {},
   "outputs": [],
   "source": []
  },
  {
   "cell_type": "code",
   "execution_count": null,
   "id": "21c795ab-edf5-43a6-b9bc-2d1eace39e48",
   "metadata": {},
   "outputs": [],
   "source": []
  },
  {
   "cell_type": "markdown",
   "id": "c098823a-2e92-488c-a9ec-e7c79e83cb6c",
   "metadata": {},
   "source": [
    "### Evaluate Clusters"
   ]
  },
  {
   "cell_type": "code",
   "execution_count": 551,
   "id": "113e510e-141b-413d-b7d2-45fb9e3f55cf",
   "metadata": {},
   "outputs": [],
   "source": [
    "import pickle"
   ]
  },
  {
   "cell_type": "code",
   "execution_count": 603,
   "id": "e8b09fb3-fdbe-4c30-892e-d8a0785e4ee9",
   "metadata": {},
   "outputs": [],
   "source": [
    "with open('../data/v3_clusters/pred_results.pkl', 'rb') as f:\n",
    "    prediction_results = pickle.load(f)\n",
    "    \n",
    "with open('../data/v3_clusters/clusterer.pkl', 'rb') as f:\n",
    "    clusterer = pickle.load(f)"
   ]
  },
  {
   "cell_type": "code",
   "execution_count": 614,
   "id": "672a74c6-6945-4206-91e2-bb161b386ef7",
   "metadata": {},
   "outputs": [],
   "source": [
    "import warnings\n",
    "import pandas as pd\n",
    "pd.options.mode.chained_assignment = None "
   ]
  },
  {
   "cell_type": "code",
   "execution_count": 615,
   "id": "f0412eb7-dd0a-4c1b-823f-3cf1010c9d87",
   "metadata": {},
   "outputs": [],
   "source": [
    "to_label_test_df = query_label_dists.loc[lambda df: df['split'] == 'test']\n",
    "to_label_test_df[['cluster_pred_1', 'cluster_pred_2', 'cluster_pred_3']] = np.argsort(-prediction_results.predictions)[:, :3]\n",
    "\n",
    "true_clusters = pd.Series(clusterer.predict(to_label_test_df[col_dist]))\n",
    "to_label_test_df = (\n",
    "    to_label_test_df\n",
    "         .drop(columns=col_dist)\n",
    "         .assign(true_cluster=true_clusters.values)\n",
    ")"
   ]
  },
  {
   "cell_type": "code",
   "execution_count": 622,
   "id": "1be483e0-1ac8-4d77-87fb-1a0a778bc0f9",
   "metadata": {},
   "outputs": [
    {
     "data": {
      "text/plain": [
       "0.7082238442822384"
      ]
     },
     "execution_count": 622,
     "metadata": {},
     "output_type": "execute_result"
    }
   ],
   "source": [
    "(\n",
    "    to_label_test_df\n",
    "         .pipe(\n",
    "             lambda df: \n",
    "               (df['true_cluster'] == df['cluster_pred_1']) | \n",
    "               (df['true_cluster'] == df['cluster_pred_2']) | \n",
    "               (df['true_cluster'] == df['cluster_pred_3'])\n",
    "              )\n",
    "         .mean()\n",
    ")"
   ]
  },
  {
   "cell_type": "code",
   "execution_count": 638,
   "id": "fa8a933d-35df-4c01-b482-b7e078eab2ab",
   "metadata": {},
   "outputs": [],
   "source": [
    "to_label_test_df.to_csv('../data/v3_clusters/data_cluster_assignment.csv')"
   ]
  },
  {
   "cell_type": "code",
   "execution_count": 669,
   "id": "9a04fda7-7b7c-4327-b0b3-6fe41225b7c9",
   "metadata": {},
   "outputs": [
    {
     "data": {
      "text/html": [
       "<div>\n",
       "<style scoped>\n",
       "    .dataframe tbody tr th:only-of-type {\n",
       "        vertical-align: middle;\n",
       "    }\n",
       "\n",
       "    .dataframe tbody tr th {\n",
       "        vertical-align: top;\n",
       "    }\n",
       "\n",
       "    .dataframe thead th {\n",
       "        text-align: right;\n",
       "    }\n",
       "</style>\n",
       "<table border=\"1\" class=\"dataframe\">\n",
       "  <thead>\n",
       "    <tr style=\"text-align: right;\">\n",
       "      <th></th>\n",
       "      <th>url</th>\n",
       "      <th>query</th>\n",
       "      <th>split</th>\n",
       "      <th>cluster_pred_1</th>\n",
       "      <th>cluster_pred_2</th>\n",
       "      <th>cluster_pred_3</th>\n",
       "      <th>true_cluster</th>\n",
       "    </tr>\n",
       "  </thead>\n",
       "  <tbody>\n",
       "    <tr>\n",
       "      <th>1</th>\n",
       "      <td>947freshfm.cbslocal.com/2013/04/29/vampire-wee...</td>\n",
       "      <td>What's behind the unexpected collaboration bet...</td>\n",
       "      <td>test</td>\n",
       "      <td>3</td>\n",
       "      <td>1</td>\n",
       "      <td>5</td>\n",
       "      <td>3</td>\n",
       "    </tr>\n",
       "    <tr>\n",
       "      <th>2</th>\n",
       "      <td>947thewave.cbslocal.com/2015/05/04/celebrate-c...</td>\n",
       "      <td>What kind of deals and freebies can consumers ...</td>\n",
       "      <td>test</td>\n",
       "      <td>0</td>\n",
       "      <td>6</td>\n",
       "      <td>3</td>\n",
       "      <td>0</td>\n",
       "    </tr>\n",
       "  </tbody>\n",
       "</table>\n",
       "</div>"
      ],
      "text/plain": [
       "                                                 url  \\\n",
       "1  947freshfm.cbslocal.com/2013/04/29/vampire-wee...   \n",
       "2  947thewave.cbslocal.com/2015/05/04/celebrate-c...   \n",
       "\n",
       "                                               query split  cluster_pred_1  \\\n",
       "1  What's behind the unexpected collaboration bet...  test               3   \n",
       "2  What kind of deals and freebies can consumers ...  test               0   \n",
       "\n",
       "   cluster_pred_2  cluster_pred_3  true_cluster  \n",
       "1               1               5             3  \n",
       "2               6               3             0  "
      ]
     },
     "execution_count": 669,
     "metadata": {},
     "output_type": "execute_result"
    }
   ],
   "source": [
    "to_label_test_df.head(2)"
   ]
  },
  {
   "cell_type": "code",
   "execution_count": 670,
   "id": "4b1729e9-ec15-4f40-b6dd-67971b867dc1",
   "metadata": {},
   "outputs": [],
   "source": [
    "for i in range(1, 4):\n",
    "    to_label_test_df[['url', f'cluster_pred_{i}']]"
   ]
  },
  {
   "cell_type": "code",
   "execution_count": 691,
   "id": "3e53a0df-bcb0-4226-b422-886a504a4bd4",
   "metadata": {},
   "outputs": [],
   "source": [
    "from scipy.stats import entropy"
   ]
  },
  {
   "cell_type": "code",
   "execution_count": 732,
   "id": "c394eb1e-0d47-4a96-820a-efe139a38e59",
   "metadata": {
    "scrolled": true
   },
   "outputs": [],
   "source": [
    "pred_cols = list(map(lambda x: f'{x}__cluster_pred', col_dist))\n",
    "true_cols = list(map(lambda x: f'{x}__gold_dist', col_dist))\n",
    "kl_div_1 = (\n",
    "    to_label_test_df\n",
    "        [['url', f'cluster_pred_1']]\n",
    "         .merge(cluster_centers, left_on='cluster_pred_1', right_index=True)\n",
    "         .rename(columns={k: v for k, v in zip(col_dist, pred_cols)})\n",
    "         .merge(label_distributions, right_index=True, left_on='url')\n",
    "         .rename(columns={k: v for k, v in zip(col_dist, true_cols)})\n",
    "         .apply(lambda x: entropy(x[true_cols].astype(float), x[pred_cols].astype(float)), axis=1)\n",
    ")"
   ]
  },
  {
   "cell_type": "code",
   "execution_count": 762,
   "id": "04f114a3-deab-4b96-96ca-8997932fa676",
   "metadata": {},
   "outputs": [],
   "source": [
    "t = (\n",
    "    to_label_test_df\n",
    "        [['url', f'cluster_pred_1']]\n",
    "         .merge(cluster_centers, left_on='cluster_pred_1', right_index=True)\n",
    "         .rename(columns={k: v for k, v in zip(col_dist, pred_cols)})\n",
    "         .merge(label_distributions, right_index=True, left_on='url')\n",
    "         .rename(columns={k: v for k, v in zip(col_dist, true_cols)})\n",
    ".iloc[3]\n",
    ")"
   ]
  },
  {
   "cell_type": "code",
   "execution_count": 763,
   "id": "19ab036a-6c7d-402e-8037-fde8ad2e507b",
   "metadata": {},
   "outputs": [
    {
     "data": {
      "text/plain": [
       "(array([0, 1, 2, 3, 4, 5, 6, 7, 8, 9]),\n",
       " [Text(0, 0, 'Analysis'),\n",
       "  Text(1, 0, 'Anecdotes, Examples and Illustration'),\n",
       "  Text(2, 0, 'Background Information'),\n",
       "  Text(3, 0, 'Broadening Perspective'),\n",
       "  Text(4, 0, 'Confirmation and Witness'),\n",
       "  Text(5, 0, 'Counterpoint'),\n",
       "  Text(6, 0, 'Data Resource'),\n",
       "  Text(7, 0, 'Expert'),\n",
       "  Text(8, 0, 'Main Actor'),\n",
       "  Text(9, 0, 'Subject')])"
      ]
     },
     "execution_count": 763,
     "metadata": {},
     "output_type": "execute_result"
    },
    {
     "data": {
      "image/png": "[encoded data removed]",
      "text/plain": [
       "<Figure size 640x480 with 1 Axes>"
      ]
     },
     "metadata": {},
     "output_type": "display_data"
    }
   ],
   "source": [
    "pd.concat([\n",
    "    t[true_cols].to_frame('true_cols').rename(index={k:v for k,v in zip(true_cols, col_dist)}),\n",
    "    t[pred_cols].to_frame('pred_cols').rename(index={k:v for k,v in zip(pred_cols, col_dist)}),    \n",
    "], axis=1).plot(kind='bar')\n",
    "plt.xticks(rotation=25, horizontalalignment='right')"
   ]
  },
  {
   "cell_type": "code",
   "execution_count": 728,
   "id": "9251bf6b-3602-4497-91a8-0ccc82396ad6",
   "metadata": {},
   "outputs": [],
   "source": [
    "kl_div_2 = (((    to_label_test_df\n",
    "       .set_index('url')\n",
    "        [['cluster_pred_1']]\n",
    "         .merge(cluster_centers, left_on='cluster_pred_1', right_index=True,how='left')\n",
    ")[col_dist] \n",
    " + (\n",
    "    to_label_test_df\n",
    "     .set_index('url')\n",
    "        [['cluster_pred_2']]\n",
    "         .merge(cluster_centers, left_on='cluster_pred_2', right_index=True, how='left')\n",
    ")[col_dist])\n",
    " .pipe(lambda df: df / 2)\n",
    "  .rename(columns={k: v for k, v in zip(col_dist, pred_cols)})\n",
    "  .merge(label_distributions, right_index=True, left_index=True)\n",
    "  .rename(columns={k: v for k, v in zip(col_dist, true_cols)})\n",
    "  .apply(lambda x: entropy(x[true_cols].astype(float), x[pred_cols].astype(float)), axis=1)\n",
    ")"
   ]
  },
  {
   "cell_type": "code",
   "execution_count": 729,
   "id": "7d691ae9-00e8-4912-bd54-53722b5751c4",
   "metadata": {},
   "outputs": [],
   "source": [
    "kl_div_3 = (((\n",
    "    to_label_test_df\n",
    "       .set_index('url')\n",
    "        [['cluster_pred_1']]\n",
    "         .merge(cluster_centers, left_on='cluster_pred_1', right_index=True,how='left')\n",
    "    )[col_dist] \n",
    "     + (\n",
    "    to_label_test_df\n",
    "     .set_index('url')\n",
    "        [['cluster_pred_2']]\n",
    "         .merge(cluster_centers, left_on='cluster_pred_2', right_index=True, how='left')\n",
    "    )[col_dist]\n",
    "     + (\n",
    "    to_label_test_df\n",
    "     .set_index('url')\n",
    "        [['cluster_pred_3']]\n",
    "         .merge(cluster_centers, left_on='cluster_pred_3', right_index=True, how='left')\n",
    "    )[col_dist]             \n",
    ")\n",
    "  .pipe(lambda df: df / 3)\n",
    "  .rename(columns={k: v for k, v in zip(col_dist, pred_cols)})\n",
    "  .merge(label_distributions, right_index=True, left_index=True)\n",
    "  .rename(columns={k: v for k, v in zip(col_dist, true_cols)})\n",
    "  .apply(lambda x: entropy(x[true_cols].astype(float), x[pred_cols].astype(float)), axis=1)\n",
    ")"
   ]
  },
  {
   "cell_type": "code",
   "execution_count": 742,
   "id": "af7804ae-8f0b-4c3c-9cad-09b5060a4de9",
   "metadata": {},
   "outputs": [
    {
     "data": {
      "text/plain": [
       "<Axes: xlabel='kl_div', ylabel='level_0'>"
      ]
     },
     "execution_count": 742,
     "metadata": {},
     "output_type": "execute_result"
    },
    {
     "data": {
      "image/png": "[encoded data removed]",
      "text/plain": [
       "<Figure size 640x480 with 1 Axes>"
      ]
     },
     "metadata": {},
     "output_type": "display_data"
    }
   ],
   "source": [
    "import seaborn as sns\n",
    "(pd.concat([\n",
    "    kl_div_1.to_frame('kl_div_top_one_cluster').reset_index(drop=True),\n",
    "    kl_div_2.to_frame('kl_div_top_two_clusters').reset_index(drop=True),\n",
    "    kl_div_3.to_frame('kl_div_top_three_clusters').reset_index(drop=True),\n",
    "], axis=1)\n",
    " .unstack()\n",
    " .to_frame('kl_div')\n",
    " .reset_index()\n",
    " .pipe(lambda df: sns.boxplot(data=df, x='kl_div', y='level_0', hue='level_0', showfliers=False))\n",
    ")"
   ]
  },
  {
   "cell_type": "code",
   "execution_count": null,
   "id": "ef37185a-b8dd-4491-bc26-9dba30d2a8d4",
   "metadata": {},
   "outputs": [],
   "source": []
  },
  {
   "cell_type": "code",
   "execution_count": null,
   "id": "99bfa300-a33c-4a05-9452-1c356c1712a8",
   "metadata": {},
   "outputs": [],
   "source": []
  },
  {
   "cell_type": "code",
   "execution_count": null,
   "id": "89720592-d5c4-40a3-a633-1577f1b91ad9",
   "metadata": {},
   "outputs": [],
   "source": []
  },
  {
   "cell_type": "code",
   "execution_count": null,
   "id": "16516ba2-ec09-469f-9602-a1ee22fe4dcc",
   "metadata": {},
   "outputs": [],
   "source": []
  },
  {
   "cell_type": "code",
   "execution_count": null,
   "id": "262353ae-8926-42f9-aef1-59225d1fa784",
   "metadata": {},
   "outputs": [],
   "source": []
  },
  {
   "cell_type": "code",
   "execution_count": null,
   "id": "ba46c351-c92d-411f-8f19-1af86bbd5e85",
   "metadata": {},
   "outputs": [],
   "source": []
  },
  {
   "cell_type": "code",
   "execution_count": null,
   "id": "763ad6b6-ee9b-4ff7-9ed2-13a52ade40ba",
   "metadata": {},
   "outputs": [],
   "source": []
  },
  {
   "cell_type": "code",
   "execution_count": null,
   "id": "8ea8618e-9376-4499-80a8-9b9c54c47693",
   "metadata": {},
   "outputs": [],
   "source": []
  },
  {
   "cell_type": "code",
   "execution_count": 667,
   "id": "c50628b0-b022-4309-8595-48b049760dee",
   "metadata": {},
   "outputs": [],
   "source": [
    "cluster_centers = (\n",
    "    pd.DataFrame(\n",
    "        clusterer.cluster_centers_, columns=col_dist)\n",
    "     .pipe(lambda df: df.divide(df.sum(axis=1), axis=0)))\n",
    "(cluster_centers\n",
    " .reset_index().rename(columns={'index':'cluster'})\n",
    ").to_csv('../data/v3_clusters/cluster_centers.csv')"
   ]
  },
  {
   "cell_type": "code",
   "execution_count": 630,
   "id": "0f1263f2-c5c3-41ac-825b-f0a19e265086",
   "metadata": {},
   "outputs": [
    {
     "data": {
      "text/plain": [
       "Text(0, 0.5, 'Proportion of Each Label')"
      ]
     },
     "execution_count": 630,
     "metadata": {},
     "output_type": "execute_result"
    },
    {
     "data": {
      "image/png": "[encoded data removed]",
      "text/plain": [
       "<Figure size 1200x400 with 1 Axes>"
      ]
     },
     "metadata": {},
     "output_type": "display_data"
    }
   ],
   "source": [
    "(pd.DataFrame(\n",
    "    clusterer.cluster_centers_, columns=col_dist)\n",
    " .pipe(lambda df: df.divide(df.sum(axis=1), axis=0))\n",
    ").plot(kind='bar', figsize=(12,4), title='cluster centers')\n",
    "\n",
    "plt.legend(bbox_to_anchor=(1,1))\n",
    "plt.xlabel('Cluster center')\n",
    "plt.ylabel('Proportion of Each Label')"
   ]
  },
  {
   "cell_type": "code",
   "execution_count": 663,
   "id": "48039121-9938-4636-bb22-d0f7ce9447b6",
   "metadata": {},
   "outputs": [
    {
     "data": {
      "text/plain": [
       "{0: 'Anecdotes, Examples and Illustration: 44%, Background Information: 12%, Expert: 9%, Main Actor: 9%, Data Resource: 7%, Counterpoint: 6%, Analysis: 4%, Confirmation and Witness: 3%, Broadening Perspective: 1%, Subject: 0%',\n",
       " 1: 'Main Actor: 51%, Background Information: 16%, Confirmation and Witness: 6%, Counterpoint: 6%, Analysis: 4%, Data Resource: 4%, Expert: 4%, Anecdotes, Examples and Illustration: 3%, Broadening Perspective: 1%, Subject: 0%',\n",
       " 2: 'Expert: 44%, Background Information: 14%, Data Resource: 12%, Main Actor: 8%, Anecdotes, Examples and Illustration: 5%, Analysis: 4%, Counterpoint: 4%, Confirmation and Witness: 3%, Broadening Perspective: 1%, Subject: 0%',\n",
       " 3: 'Background Information: 47%, Main Actor: 20%, Confirmation and Witness: 6%, Counterpoint: 5%, Data Resource: 5%, Expert: 5%, Anecdotes, Examples and Illustration: 4%, Analysis: 3%, Broadening Perspective: 1%, Subject: 0%',\n",
       " 4: 'Counterpoint: 35%, Main Actor: 18%, Background Information: 15%, Confirmation and Witness: 6%, Analysis: 5%, Anecdotes, Examples and Illustration: 5%, Expert: 5%, Data Resource: 4%, Broadening Perspective: 1%, Subject: 0%',\n",
       " 5: 'Confirmation and Witness: 42%, Background Information: 17%, Main Actor: 16%, Anecdotes, Examples and Illustration: 4%, Counterpoint: 4%, Expert: 4%, Analysis: 3%, Data Resource: 3%, Broadening Perspective: 0%, Subject: 0%',\n",
       " 6: 'Data Resource: 47%, Background Information: 13%, Expert: 9%, Analysis: 7%, Main Actor: 7%, Anecdotes, Examples and Illustration: 4%, Counterpoint: 4%, Confirmation and Witness: 2%, Broadening Perspective: 0%, Subject: 0%',\n",
       " 7: 'Analysis: 33%, Background Information: 13%, Main Actor: 13%, Data Resource: 11%, Counterpoint: 8%, Expert: 7%, Anecdotes, Examples and Illustration: 5%, Confirmation and Witness: 4%, Broadening Perspective: 1%, Subject: 0%'}"
      ]
     },
     "execution_count": 663,
     "metadata": {},
     "output_type": "execute_result"
    }
   ],
   "source": [
    "(pd.DataFrame(\n",
    "    clusterer.cluster_centers_, columns=col_dist)\n",
    " .pipe(lambda df: df.divide(df.sum(axis=1), axis=0))\n",
    " .pipe(lambda df: df * 100).astype(int)\n",
    " # .map(lambda x: f'{x}%')\n",
    " .apply(lambda s: ', '.join(list(map(lambda x: f'{x[0]}: {x[1]}%', s.sort_values(ascending=False).items()))), axis=1)\n",
    " .to_dict()\n",
    " # .iloc[0]\n",
    " # .pipe(lambda s: ', '.join(list(map(lambda x: f'{x[0]}: {x[1]}', s.sort_values(ascending=False).items()))))\n",
    " # .apply(lambda x: , axis=1)\n",
    " # .apply(lambda x:)\n",
    " # .reset_index().rename(columns={'index':'cluster'})\n",
    ")"
   ]
  },
  {
   "cell_type": "code",
   "execution_count": null,
   "id": "2cad1697-5a00-4092-973e-7318a1807c62",
   "metadata": {},
   "outputs": [],
   "source": []
  },
  {
   "cell_type": "code",
   "execution_count": null,
   "id": "3a0131eb-bb02-4ce9-90ae-6c6eeb6b6d5d",
   "metadata": {},
   "outputs": [],
   "source": []
  },
  {
   "cell_type": "code",
   "execution_count": null,
   "id": "77fc5646-d88e-48ec-a609-71a658456917",
   "metadata": {},
   "outputs": [],
   "source": []
  },
  {
   "cell_type": "code",
   "execution_count": null,
   "id": "32ff4afc-f0d7-4e20-92fe-d1dc74445f44",
   "metadata": {},
   "outputs": [],
   "source": []
  },
  {
   "cell_type": "markdown",
   "id": "91f2f179-992d-42a3-9673-f22d310d4d56",
   "metadata": {},
   "source": [
    "### How many Sources have different roles?"
   ]
  },
  {
   "cell_type": "code",
   "execution_count": 487,
   "id": "293b6bce-5e3b-4d75-8482-c1a7c0a07049",
   "metadata": {},
   "outputs": [],
   "source": [
    "output_with_queries = (\n",
    "    llama_output\n",
    "        .merge(prompts[['url', 'query', 'Name', 'Biography']], on=['url', 'Name'])\n",
    "        .drop_duplicates()\n",
    ")"
   ]
  },
  {
   "cell_type": "code",
   "execution_count": 421,
   "id": "a5d96578-7e74-4b44-9602-cde9d4c27e94",
   "metadata": {
    "scrolled": true
   },
   "outputs": [],
   "source": [
    "url = label_distributions.assign(clusters=clusters).loc[lambda df: df['clusters'] == 1].index[25]"
   ]
  },
  {
   "cell_type": "code",
   "execution_count": 422,
   "id": "865afd85-e3fa-4e45-a279-01744eee5199",
   "metadata": {},
   "outputs": [
    {
     "data": {
      "text/plain": [
       "\"Who will pay for the massive reconstruction of Ukraine's infrastructure, and how will the estimated $138 billion to $750 billion in costs be covered?\""
      ]
     },
     "execution_count": 422,
     "metadata": {},
     "output_type": "execute_result"
    }
   ],
   "source": [
    "output_with_queries.loc[lambda df: df['url'] == url]['query'].iloc[0]"
   ]
  },
  {
   "cell_type": "markdown",
   "id": "6c6e7273-9e55-4fa7-9f78-6dfd9d9cb9b5",
   "metadata": {},
   "source": [
    "### How many different roles do sources have if they're reused?"
   ]
  },
  {
   "cell_type": "code",
   "execution_count": 443,
   "id": "69d01a37-2afb-4453-95e6-74d403e4a799",
   "metadata": {},
   "outputs": [],
   "source": [
    "role_by_source = llama_output.groupby('Name')['llama_label'].aggregate(list)"
   ]
  },
  {
   "cell_type": "code",
   "execution_count": 468,
   "id": "24c25ea6-689b-4027-9424-7ebdb0cdaf03",
   "metadata": {},
   "outputs": [],
   "source": [
    "from scipy.stats import entropy\n",
    "\n",
    "# Function to calculate Gini Impurity for each datapoint\n",
    "def label_variations(labels):\n",
    "    label_counts = pd.Series(labels).value_counts()\n",
    "    total = len(labels)\n",
    "    # modified gini impurity\n",
    "    impurity = 1 - sum((count / total) ** 2 for count in label_counts)\n",
    "    # label inconsistency (1 - most_common_label / total_appearnaces)\n",
    "    inconsistency = 1 - (label_counts.max() / total)\n",
    "    # inconsistency = (label_counts.max() / total)\n",
    "    # label entropy\n",
    "    probabilities = label_counts / total\n",
    "    e = entropy(probabilities, base=2)\n",
    "    # label diversity \n",
    "    num_unique_labels = label_counts.shape[0]\n",
    "    diversity = num_unique_labels / total\n",
    "    return {'impurity': impurity, 'inconsistency': inconsistency, 'entropy': e, 'label_diversity': diversity}\n"
   ]
  },
  {
   "cell_type": "code",
   "execution_count": 469,
   "id": "3101b540-0df0-49eb-836d-c68b6ac9ed0a",
   "metadata": {},
   "outputs": [],
   "source": [
    "label_stats = (\n",
    "    role_by_source\n",
    "         .loc[lambda s: s.str.len().pipe(lambda s: (s > 2) & (s < 10))]\n",
    "         # .loc[lambda s: s.str.len().pipe(lambda s: (s > 2))]# & (s<20))]\n",
    "         .to_frame('roles')\n",
    "         .assign(num_usages=lambda df: df['roles'].str.len())\n",
    "         .assign(num_distinct_usages=lambda df: df['roles'].apply(set).str.len())\n",
    "         .assign(stats=lambda df: df['roles'].apply(label_variations))\n",
    "    \n",
    ")"
   ]
  },
  {
   "cell_type": "code",
   "execution_count": 470,
   "id": "5fe53b42-0b2b-4984-90d9-6e5e539b7ab1",
   "metadata": {},
   "outputs": [
    {
     "data": {
      "text/plain": [
       "impurity           0.410921\n",
       "inconsistency      0.336263\n",
       "entropy            0.958961\n",
       "label_diversity    0.552601\n",
       "dtype: float64"
      ]
     },
     "execution_count": 470,
     "metadata": {},
     "output_type": "execute_result"
    }
   ],
   "source": [
    "label_stats['stats'].pipe(lambda s: pd.DataFrame(s.tolist())).mean()"
   ]
  },
  {
   "cell_type": "code",
   "execution_count": null,
   "id": "7e759f1f-ea2b-465e-91c3-93354cbf04cd",
   "metadata": {},
   "outputs": [],
   "source": []
  },
  {
   "cell_type": "code",
   "execution_count": null,
   "id": "ed864c2a-127e-4582-b45a-64ebd4fb8619",
   "metadata": {},
   "outputs": [],
   "source": []
  },
  {
   "cell_type": "code",
   "execution_count": null,
   "id": "6fbec994-904d-45f4-966b-68f7b2c4a9fc",
   "metadata": {},
   "outputs": [],
   "source": []
  },
  {
   "cell_type": "code",
   "execution_count": null,
   "id": "49bcddf9-91b4-43af-bf9d-4a30d4f6319b",
   "metadata": {},
   "outputs": [],
   "source": []
  },
  {
   "cell_type": "code",
   "execution_count": null,
   "id": "2a9f120c-31b4-4c68-80df-dd40d6d945d2",
   "metadata": {},
   "outputs": [],
   "source": []
  },
  {
   "cell_type": "code",
   "execution_count": null,
   "id": "5db6d5c8-d5c3-4969-97b9-9a74ff1f3f64",
   "metadata": {},
   "outputs": [],
   "source": []
  },
  {
   "cell_type": "code",
   "execution_count": null,
   "id": "a246a979-8352-4854-8de2-9a59f05ed374",
   "metadata": {},
   "outputs": [],
   "source": []
  },
  {
   "cell_type": "code",
   "execution_count": null,
   "id": "ecde8f17-3cdf-430c-829e-de4728843641",
   "metadata": {},
   "outputs": [],
   "source": []
  },
  {
   "cell_type": "code",
   "execution_count": null,
   "id": "1cb482c1-0225-4037-8f32-f7b583171433",
   "metadata": {},
   "outputs": [],
   "source": []
  },
  {
   "cell_type": "markdown",
   "id": "4ef3ca64-efe4-45d7-b2e6-51e1717ec740",
   "metadata": {
    "jp-MarkdownHeadingCollapsed": true
   },
   "source": [
    "# Run TopicGPT on these Sources!"
   ]
  },
  {
   "cell_type": "markdown",
   "id": "f8ab6591-49a4-444b-8b71-61c479035be8",
   "metadata": {},
   "source": [
    "#### Imports"
   ]
  },
  {
   "cell_type": "code",
   "execution_count": 422,
   "id": "d200c937-6e43-4cd3-8c00-e32c5e0ed6e5",
   "metadata": {},
   "outputs": [],
   "source": [
    "import pandas as pd \n",
    "import numpy as np \n",
    "import sys\n",
    "sys.path.insert(0, '../make_source_label_hierarchy/')\n",
    "import os\n",
    "os.environ['OPENAI_API_KEY']=open('/Users/spangher/.openai-isi-project-key.txt').read().strip()\n",
    "from utils_client import call_openai_completions\n",
    "from tqdm.auto import tqdm\n",
    "from sklearn.cluster import KMeans\n",
    "import numpy as np \n",
    "import random\n",
    "\n",
    "def decreasing_probability_sampling(n_total, k):\n",
    "    output = []\n",
    "    for i in range(1, n_total):\n",
    "        prob = 1 / (i**k)\n",
    "        r = random.random()\n",
    "        if r < prob:\n",
    "            output.append(i)\n",
    "    return output"
   ]
  },
  {
   "cell_type": "markdown",
   "id": "5781a559-ddb0-4237-99f1-80752b0d63b4",
   "metadata": {},
   "source": [
    "### Do the initial setup"
   ]
  },
  {
   "cell_type": "code",
   "execution_count": 453,
   "id": "32bd56e7-494f-4abb-a5ab-e5d09d8e8d28",
   "metadata": {},
   "outputs": [],
   "source": [
    "source_df_with_clusters = pd.read_csv('../data/v3_sources/v3_source_with_clusters.csv.gz', index_col=0)\n",
    "cluster_centers = np.load('../data/v3_sources/v3_embeddings__from_trained_model.npz')['arr_0']\n",
    "cluster_df = pd.DataFrame(cluster_centers).assign(cluster_center=source_df_with_clusters['clusters'].values)"
   ]
  },
  {
   "cell_type": "code",
   "execution_count": 420,
   "id": "edabda6b-d45b-4a15-81fd-053d5ae941a8",
   "metadata": {},
   "outputs": [],
   "source": [
    "cluster_df = (\n",
    "    cluster_df\n",
    "         .groupby('cluster_center')\n",
    "         .mean()\n",
    ")"
   ]
  },
  {
   "cell_type": "code",
   "execution_count": 410,
   "id": "1cce4282-82c2-4728-9081-7ce616c5194d",
   "metadata": {},
   "outputs": [],
   "source": [
    "LEAF_NODE_PROMPT = \"\"\"\n",
    "You are a helpful assistant. I will give you a large set of labels I wrote down.\n",
    "\n",
    "Here are the labels:\n",
    "\n",
    "{labels}\n",
    "\n",
    "Please summarize them with a single, specific label for the entire group. Be descriptive so I can really understand.\n",
    "Please return just one label and one description. Make it in the same format as the input labels.\n",
    "\"\"\""
   ]
  },
  {
   "cell_type": "code",
   "execution_count": 413,
   "id": "b24ce524-dc1e-41da-adc4-cd31f723cfbb",
   "metadata": {},
   "outputs": [
    {
     "data": {
      "application/vnd.jupyter.widget-view+json": {
       "model_id": "d2ff6e46d588419e982ffa5a22ed5c72",
       "version_major": 2,
       "version_minor": 0
      },
      "text/plain": [
       "  0%|          | 0/1024 [00:00<?, ?it/s]"
      ]
     },
     "metadata": {},
     "output_type": "display_data"
    }
   ],
   "source": [
    "groups = list(source_df_with_clusters.groupby('clusters')['Narrative Function'])\n",
    "child_node_summaries = {}\n",
    "for cluster_id, g in tqdm(groups):\n",
    "    g = g.dropna()\n",
    "    label_sample = g.sample(min(len(g), 50))\n",
    "    summary_label = call_openai_completions(prompt=LEAF_NODE_PROMPT.format(labels='\\n'.join(label_sample)))\n",
    "    child_node_summaries[cluster_id] = summary_label"
   ]
  },
  {
   "cell_type": "code",
   "execution_count": 418,
   "id": "f86a32d7-234a-426c-afc6-28cde0c49270",
   "metadata": {},
   "outputs": [],
   "source": [
    "pd.Series(child_node_summaries).to_csv('cache/v3_child-node-summaries.txt', index=False)"
   ]
  },
  {
   "cell_type": "markdown",
   "id": "651c2aec-378e-4b73-84f6-a22b2cb77b83",
   "metadata": {},
   "source": [
    "### Run Hierarchical KMeans"
   ]
  },
  {
   "cell_type": "code",
   "execution_count": 436,
   "id": "7de0a1f6-840d-48e6-89aa-8ef42f842e8b",
   "metadata": {},
   "outputs": [],
   "source": [
    "from tqdm.auto import tqdm"
   ]
  },
  {
   "cell_type": "code",
   "execution_count": 434,
   "id": "64aa138e-7a47-4cdc-8a1b-3f352176693e",
   "metadata": {},
   "outputs": [],
   "source": [
    "bins = decreasing_probability_sampling(1024, .9)\n",
    "bins = [1, 2, 4, 6, 10, 35, 84]"
   ]
  },
  {
   "cell_type": "code",
   "execution_count": 429,
   "id": "1a815cb4-8818-4e1e-9e7c-51218b046991",
   "metadata": {},
   "outputs": [],
   "source": [
    "INNER_NODE_PROMPT_KMEANS = \"\"\"\n",
    "You are a helpful assistant. I will give you a list of labels I wrote.\n",
    "\n",
    "Here are the labels:\n",
    "\n",
    "{labels}\n",
    "\n",
    "Please condense them into a single, specific label, focusing on their commonalities. \n",
    "Focus on the narrative role of the source, less on specific industries or topics they might cover. \n",
    "Try to avoid using the word \"narrative\" unless necessary.\n",
    "Please return just one 2-3 word label and one description. Make it in the same format as the input labels.\n",
    "\"\"\""
   ]
  },
  {
   "cell_type": "code",
   "execution_count": 433,
   "id": "51dfc1eb-767a-4b52-ad3c-d90c1d1dbd70",
   "metadata": {},
   "outputs": [],
   "source": [
    "cluster_centers = cluster_df.values"
   ]
  },
  {
   "cell_type": "code",
   "execution_count": 435,
   "id": "3261168a-7f40-42ae-bcc7-fbac01ab7099",
   "metadata": {},
   "outputs": [],
   "source": [
    "clustering_rounds = {}\n",
    "intermediate_node_summaries = child_node_summaries\n",
    "# cluster_centers = np.load('../make_source_label_hierarchy/models/kmeans-embs-output.txt')\n",
    "# bins = [1, 3, 6, 15, 40]#, 150]"
   ]
  },
  {
   "cell_type": "code",
   "execution_count": 438,
   "id": "d9d44da9-1d7f-4d94-ae87-49864d15804f",
   "metadata": {},
   "outputs": [
    {
     "data": {
      "application/vnd.jupyter.widget-view+json": {
       "model_id": "85747d828257411b985449872bb291df",
       "version_major": 2,
       "version_minor": 0
      },
      "text/plain": [
       "  0%|          | 0/84 [00:00<?, ?it/s]"
      ]
     },
     "metadata": {},
     "output_type": "display_data"
    },
    {
     "data": {
      "application/vnd.jupyter.widget-view+json": {
       "model_id": "a98013929e204e7cb92597d9cc3f8690",
       "version_major": 2,
       "version_minor": 0
      },
      "text/plain": [
       "  0%|          | 0/35 [00:00<?, ?it/s]"
      ]
     },
     "metadata": {},
     "output_type": "display_data"
    },
    {
     "data": {
      "application/vnd.jupyter.widget-view+json": {
       "model_id": "f860f214133b4ba6baaec73cbf7a8b1f",
       "version_major": 2,
       "version_minor": 0
      },
      "text/plain": [
       "  0%|          | 0/10 [00:00<?, ?it/s]"
      ]
     },
     "metadata": {},
     "output_type": "display_data"
    },
    {
     "data": {
      "application/vnd.jupyter.widget-view+json": {
       "model_id": "867f374e47204aa89c6413704cf6319c",
       "version_major": 2,
       "version_minor": 0
      },
      "text/plain": [
       "  0%|          | 0/6 [00:00<?, ?it/s]"
      ]
     },
     "metadata": {},
     "output_type": "display_data"
    },
    {
     "data": {
      "application/vnd.jupyter.widget-view+json": {
       "model_id": "bafcbc2aa992422ea2f9769d48f0558b",
       "version_major": 2,
       "version_minor": 0
      },
      "text/plain": [
       "  0%|          | 0/4 [00:00<?, ?it/s]"
      ]
     },
     "metadata": {},
     "output_type": "display_data"
    },
    {
     "data": {
      "application/vnd.jupyter.widget-view+json": {
       "model_id": "d04e6820908d4576b3df8e3bd92b7a2c",
       "version_major": 2,
       "version_minor": 0
      },
      "text/plain": [
       "  0%|          | 0/2 [00:00<?, ?it/s]"
      ]
     },
     "metadata": {},
     "output_type": "display_data"
    },
    {
     "data": {
      "application/vnd.jupyter.widget-view+json": {
       "model_id": "3937373b94234238beeb293e44cee85a",
       "version_major": 2,
       "version_minor": 0
      },
      "text/plain": [
       "  0%|          | 0/1 [00:00<?, ?it/s]"
      ]
     },
     "metadata": {},
     "output_type": "display_data"
    }
   ],
   "source": [
    "sample_weights = source_df_with_clusters['clusters'].value_counts().sort_index()\n",
    "use_sample_weights = True\n",
    "for bin_idx in reversed(bins):\n",
    "    kmeans = KMeans(bin_idx)\n",
    "    if use_sample_weights:\n",
    "        labels = kmeans.fit_predict(cluster_centers, sample_weight=sample_weights)\n",
    "        sample_weights = (\n",
    "            sample_weights\n",
    "                 .to_frame('old_sample_weights').assign(parent_cluster=kmeans.labels_)\n",
    "                 .reset_index(drop=True)\n",
    "                 .groupby('parent_cluster')['old_sample_weights'].sum()\n",
    "        )\n",
    "    else:\n",
    "        labels = kmeans.fit_predict(cluster_centers)\n",
    "    \n",
    "    inter_summ = (\n",
    "        pd.Series(intermediate_node_summaries)\n",
    "            .to_frame('cluster_description')\n",
    "            .reset_index()\n",
    "            .rename(columns={'index': 'child_cluster'})\n",
    "    )\n",
    "    inter_summ['parent_cluster'] = kmeans.labels_\n",
    "    clustering_rounds[bin_idx] = inter_summ.copy()\n",
    "    groups = list(inter_summ.groupby('parent_cluster')['cluster_description'])\n",
    "    intermediate_node_summaries = {}\n",
    "    for cluster_id, g in tqdm(groups):\n",
    "        g = g.dropna()\n",
    "        label_sample = g.sample(min(len(g), 50))\n",
    "        summary_label = call_openai_completions(prompt=INNER_NODE_PROMPT_KMEANS.format(labels='\\n'.join(label_sample)))\n",
    "        intermediate_node_summaries[cluster_id] = summary_label\n",
    "\n",
    "    cluster_centers = kmeans.cluster_centers_\n",
    "\n",
    "inter_summ = pd.Series(intermediate_node_summaries).to_frame('cluster_description').reset_index().rename(columns={'index': 'child_cluster'})\n",
    "clustering_rounds[0] = inter_summ.copy()"
   ]
  },
  {
   "cell_type": "markdown",
   "id": "a06eeab6-ed69-4c9c-90a1-bed4e5748cd2",
   "metadata": {},
   "source": [
    "### Group and interpret the tree"
   ]
  },
  {
   "cell_type": "code",
   "execution_count": 439,
   "id": "b7297c8e-cd59-45e8-a670-4be8fb446a33",
   "metadata": {},
   "outputs": [],
   "source": [
    "sorted_keys = sorted(clustering_rounds.keys(), key=lambda x: -x)\n",
    "\n",
    "## zero_out, for sanity\n",
    "for c in clustering_rounds.values():\n",
    "    c['parent_round'] = np.nan\n",
    "    c['current_round'] = np.nan\n",
    "    c['child_round'] = np.nan\n",
    "\n",
    "for child_round, parent_round in zip(sorted_keys[:-1], sorted_keys[1:]):\n",
    "    child_df = clustering_rounds[child_round]\n",
    "    child_df['parent_round'] = parent_round\n",
    "    child_df['current_round'] = child_round\n",
    "    # \n",
    "    parent_df = clustering_rounds[parent_round]\n",
    "    parent_df['child_round'] = child_round\n",
    "    parent_df['current_round'] = parent_round\n",
    "\n",
    "all_clusters = pd.concat(list(map(lambda i: clustering_rounds[i], sorted_keys)))\n",
    "all_clusters = all_clusters.rename(columns={\n",
    "    'child_cluster': 'node_idx',\n",
    "    'cluster_description': 'node_description',\n",
    "    'parent_cluster': 'parent_idx',\n",
    "    'parent_round': 'parent_tree_level',\n",
    "    'current_round': 'node_tree_level',\n",
    "    'child_round': 'child_tree_level'\n",
    "}) #.loc[lambda df: df['parent_round'].isnull()]"
   ]
  },
  {
   "cell_type": "code",
   "execution_count": 440,
   "id": "bd0c8681-e4ce-4c15-9950-917e7f28422e",
   "metadata": {},
   "outputs": [],
   "source": [
    "import utils_tree as ut\n",
    "from collections import defaultdict\n",
    "def build_parent_lists():\n",
    "    parent_lists = []\n",
    "    leaf_nodes = all_clusters.loc[lambda df: df['child_tree_level'].isnull()]\n",
    "    for node_id, row in tqdm(leaf_nodes.iterrows(), total=len(leaf_nodes)):\n",
    "        running_list = []\n",
    "        running_list.append(row['node_description'])\n",
    "        while True:\n",
    "            row = (all_clusters\n",
    "                       .loc[lambda df: df['node_tree_level'] == row['parent_tree_level']]\n",
    "                       .loc[row['parent_idx']]\n",
    "                  )\n",
    "            running_list.append(row['node_description'])\n",
    "            if pd.isnull(row['parent_tree_level']):\n",
    "                break\n",
    "        parent_lists.append(running_list)\n",
    "    return parent_lists\n",
    "\n",
    "def build_rooted_tree(text_processing_function=None):\n",
    "    tree = {}\n",
    "    # all_clusters.loc[lambda df: df['parent_tree_level'].isnull()].iloc[0]\n",
    "    old_parent_children = defaultdict(list)\n",
    "    curr_parent_children = defaultdict(list)\n",
    "    curr_nodes = all_clusters.loc[lambda df: df['child_tree_level'].isnull()]\n",
    "    while True:\n",
    "        for node_id, row in curr_nodes.iterrows():\n",
    "            p_idx = row['parent_idx'] if pd.notnull(row['parent_idx']) else 'root'\n",
    "            node_desc = row['node_description'] if text_processing_function is None else text_processing_function(row['node_description'])\n",
    "            curr_parent_children[p_idx].append({\n",
    "                \"node\": node_desc,\n",
    "                \"children\": old_parent_children.get(row['node_idx'])\n",
    "            })\n",
    "        old_parent_children = curr_parent_children\n",
    "        curr_parent_children = defaultdict(list)\n",
    "        if curr_nodes['parent_tree_level'].isnull().any():\n",
    "            break\n",
    "        curr_nodes = all_clusters.loc[lambda df: df['node_tree_level'] == row['parent_tree_level']]\n",
    "    return old_parent_children['root'][0]"
   ]
  },
  {
   "cell_type": "code",
   "execution_count": 441,
   "id": "b1433dab-62a6-4589-aa1a-c5ff377a803b",
   "metadata": {},
   "outputs": [],
   "source": [
    "t = build_rooted_tree(text_processing_function=lambda x: x.split(':')[0].split('\\n\\n')[0])"
   ]
  },
  {
   "cell_type": "code",
   "execution_count": 442,
   "id": "1f1b367d-8334-48d6-a711-2272e20af905",
   "metadata": {},
   "outputs": [],
   "source": [
    "import networkx as nx\n",
    "\n",
    "def build_networkx_graph(d, G=None, parent=None, depth=0):\n",
    "    if G is None:\n",
    "        G = nx.DiGraph()  # You can use nx.Graph() if the graph is undirected\n",
    "\n",
    "    node_label = f\"{d.get('node')}-{depth}\"\n",
    "    if node_label is None:\n",
    "        return G  # If there's no node, nothing to add\n",
    "\n",
    "    # Add the node with the 'description' attribute\n",
    "    G.add_node(node_label, description=node_label)\n",
    "\n",
    "    if parent is not None:\n",
    "        # Add an edge from the parent to this node\n",
    "        G.add_edge(parent, node_label)\n",
    "\n",
    "    children = d.get('children', [])\n",
    "    if children:\n",
    "        for child in children:\n",
    "            if child:  # Ensure child is not None\n",
    "                build_networkx_graph(child, G, parent=node_label, depth=depth+1)\n",
    "\n",
    "    return G"
   ]
  },
  {
   "cell_type": "code",
   "execution_count": 443,
   "id": "2dc40b38-cf46-4d36-8136-fcaf5a62585b",
   "metadata": {},
   "outputs": [],
   "source": [
    "G = build_networkx_graph(t)"
   ]
  },
  {
   "cell_type": "code",
   "execution_count": 447,
   "id": "3e8740a9-adf1-4e5c-8f1d-7ad9d34ba4d7",
   "metadata": {},
   "outputs": [],
   "source": [
    "from adjustText import adjust_text\n",
    "# Specify the desired depth\n",
    "desired_depth = 5  # Change this to your desired depth\n",
    "# Compute the shortest path lengths from the root node to all other nodes\n",
    "depths = nx.single_source_shortest_path_length(G, f\"{t['node']}-{0}\")\n",
    "nodes_within_depth = [node for node, depth in depths.items() if depth <= desired_depth]\n",
    "G_sub = G.subgraph(nodes_within_depth)"
   ]
  },
  {
   "cell_type": "markdown",
   "id": "f41d625d-17db-4209-9313-8e4377c0d50d",
   "metadata": {},
   "source": [
    "### The tree"
   ]
  },
  {
   "cell_type": "code",
   "execution_count": 448,
   "id": "013dd693-9114-41a4-9f86-e1926b86ef27",
   "metadata": {},
   "outputs": [
    {
     "data": {
      "image/png": "[encoded data removed]",
      "text/plain": [
       "<Figure size 3000x1500 with 1 Axes>"
      ]
     },
     "metadata": {},
     "output_type": "display_data"
    }
   ],
   "source": [
    "import re \n",
    "import matplotlib.pyplot as plt\n",
    "\n",
    "plt.figure(figsize=(30, 15))\n",
    "\n",
    "# Compute the positions for the nodes using hierarchy_pos\n",
    "pos = nx.drawing.nx_agraph.graphviz_layout(G_sub, prog=\"dot\")\n",
    "\n",
    "nx.draw_networkx_edges(G_sub, pos, arrows=True, arrowstyle='-|>', arrowsize=12)\n",
    "nx.draw_networkx_nodes(G_sub, pos, node_size=200, node_color='lightblue', linewidths=0.25)\n",
    "\n",
    "# Prepare the texts for adjustment\n",
    "labels = nx.get_node_attributes(G_sub, 'description')\n",
    "texts = []\n",
    "for node, (x, y) in pos.items():\n",
    "    text = plt.text(x, y, re.split(r'-\\d', labels[node])[0].replace(' ', '\\n').replace('\"', ''), fontsize=10, fontweight='bold', ha='center', va='center')\n",
    "    texts.append(text)\n",
    "\n",
    "# Adjust the texts to minimize overlaps\n",
    "adjust_text(texts, arrowprops=dict(arrowstyle='-', color='red', ))\n",
    "\n",
    "# Draw the tree\n",
    "# nx.draw(G_sub, pos, with_labels=True, node_size=70, node_color=\"skyblue\", font_size=6)\n",
    "plt.axis('off')\n",
    "plt.show()"
   ]
  },
  {
   "cell_type": "code",
   "execution_count": 461,
   "id": "15c4d153-36df-4104-bed3-cfa0bfdd048e",
   "metadata": {},
   "outputs": [
    {
     "data": {
      "text/plain": [
       "[(0, 84), (1, 35), (2, 10), (3, 6), (4, 4), (5, 2), (6, 1), (7, 0)]"
      ]
     },
     "execution_count": 461,
     "metadata": {},
     "output_type": "execute_result"
    }
   ],
   "source": [
    "list(enumerate(bins))"
   ]
  },
  {
   "cell_type": "code",
   "execution_count": 472,
   "id": "2eecadb0-b846-4c02-b961-116144aac441",
   "metadata": {},
   "outputs": [],
   "source": [
    "bins=list(clustering_rounds.keys())\n",
    "# for i, b in enumerate(bins):\n",
    "source_df_with_clusters_t = (\n",
    "    source_df_with_clusters\n",
    "         .drop(columns=['Is_Error', 'Unnamed: 0'])\n",
    "         .merge(clustering_rounds[bins[0]][['child_cluster', 'cluster_description', 'parent_cluster']], right_on='child_cluster', left_on='clusters')\n",
    "         .drop(columns=['child_cluster', 'clusters']).rename(columns={'cluster_description': 'cluster_descript_leaf_1'})\n",
    ")\n",
    "for i in range(1, 7):\n",
    "    source_df_with_clusters_t = (\n",
    "        source_df_with_clusters_t\n",
    "         .merge(clustering_rounds[bins[i]][['child_cluster', 'cluster_description', 'parent_cluster']], right_on='child_cluster', left_on='parent_cluster')\n",
    "         .drop(columns=['child_cluster', 'parent_cluster_x']).rename(columns={'cluster_description': f'cluster_descript_leaf_{i+1}', 'parent_cluster_y': 'parent_cluster'})\n",
    "    )"
   ]
  },
  {
   "cell_type": "code",
   "execution_count": 473,
   "id": "ee32d9a0-0785-4240-8d70-31c5141d2898",
   "metadata": {},
   "outputs": [],
   "source": [
    "source_df_with_clusters_t = (\n",
    "    source_df_with_clusters_t\n",
    "    .merge(clustering_rounds[bins[-2]][['child_cluster', 'cluster_description', 'parent_cluster']], right_on='child_cluster', left_on='parent_cluster')\n",
    "         .drop(columns=['child_cluster', 'parent_cluster_x']).rename(columns={'cluster_description': 'cluster_descript_leaf_8', 'parent_cluster_y': 'parent_cluster'}) \n",
    "         .drop(columns=['parent_cluster'])\n",
    ")"
   ]
  },
  {
   "cell_type": "code",
   "execution_count": 478,
   "id": "61086b4c-ae4a-4ad5-88ff-9e2788fa4755",
   "metadata": {},
   "outputs": [],
   "source": [
    "source_df_with_clusters_t[['cluster_descript_leaf_4', 'cluster_descript_leaf_5', 'cluster_descript_leaf_6']] = source_df_with_clusters_t[['cluster_descript_leaf_4', 'cluster_descript_leaf_5', 'cluster_descript_leaf_6']].apply(lambda s: s.str.split(':').str.get(0))"
   ]
  },
  {
   "cell_type": "code",
   "execution_count": 480,
   "id": "c1aa73cf-4175-430b-ad60-c4bdf32913bc",
   "metadata": {},
   "outputs": [
    {
     "data": {
      "text/plain": [
       "cluster_descript_leaf_4\n",
       "\"Enriching Perspectives\"          124309\n",
       "\"Contextual Enrichment\"            72720\n",
       "\"Enriching Contextual Insight\"     62944\n",
       "\"Authoritative Insight Source\"     58423\n",
       "\"Authoritative Insights\"           45365\n",
       "\"Comprehensive Insight Source\"     32297\n",
       "\"Contextual Storyteller\"           21854\n",
       "\"Story Central Figure\"             20784\n",
       "\"Diverse Viewpoints\"               12742\n",
       "\"Key Subject\"                       8852\n",
       "Name: count, dtype: int64"
      ]
     },
     "execution_count": 480,
     "metadata": {},
     "output_type": "execute_result"
    }
   ],
   "source": [
    "source_df_with_clusters_t['cluster_descript_leaf_4'].value_counts()"
   ]
  },
  {
   "cell_type": "code",
   "execution_count": 486,
   "id": "952ddc0b-8f76-4781-a9ef-9fc71dcff713",
   "metadata": {},
   "outputs": [
    {
     "data": {
      "text/plain": [
       "'\"Critic\": This source is used to provide a critical perspective on Google\\'s practices and highlight the negative impact of the algorithm on small businesses.'"
      ]
     },
     "execution_count": 486,
     "metadata": {},
     "output_type": "execute_result"
    }
   ],
   "source": [
    "source_df_with_clusters_t['Narrative Function'].iloc[0]#.loc[lambda df: df['cluster_descript_leaf_4'] == '\"Key Subject\"']"
   ]
  },
  {
   "cell_type": "code",
   "execution_count": null,
   "id": "df89010b-722a-4473-b69a-8649c245823b",
   "metadata": {},
   "outputs": [],
   "source": []
  },
  {
   "cell_type": "code",
   "execution_count": null,
   "id": "2013d0a2-5f37-48e0-b8c1-8c7dafd4725f",
   "metadata": {},
   "outputs": [],
   "source": []
  },
  {
   "cell_type": "code",
   "execution_count": null,
   "id": "2269fa22-50b3-45fb-89df-6cac3427a561",
   "metadata": {},
   "outputs": [],
   "source": []
  },
  {
   "cell_type": "code",
   "execution_count": null,
   "id": "73e4ce4c-cf16-4874-abbc-d7c1b9fd6808",
   "metadata": {},
   "outputs": [],
   "source": []
  },
  {
   "cell_type": "code",
   "execution_count": null,
   "id": "ad36cfe0-bc4a-4384-b1cf-d0d1f01d2e38",
   "metadata": {},
   "outputs": [],
   "source": []
  },
  {
   "cell_type": "code",
   "execution_count": null,
   "id": "079015a1-0465-4ca1-828d-a7524c023869",
   "metadata": {},
   "outputs": [],
   "source": []
  },
  {
   "cell_type": "code",
   "execution_count": null,
   "id": "214f6611-fb13-4973-81ff-9da41bc1c966",
   "metadata": {},
   "outputs": [],
   "source": []
  },
  {
   "cell_type": "code",
   "execution_count": null,
   "id": "7915ede2-e754-49aa-9d53-a9c6df347f7a",
   "metadata": {},
   "outputs": [],
   "source": []
  },
  {
   "cell_type": "code",
   "execution_count": null,
   "id": "11b5c705-fb9e-481c-817f-38dd0658ab9e",
   "metadata": {},
   "outputs": [],
   "source": []
  },
  {
   "cell_type": "code",
   "execution_count": null,
   "id": "99aec2af-796e-483b-a60e-e430ee2c1203",
   "metadata": {},
   "outputs": [],
   "source": []
  },
  {
   "cell_type": "code",
   "execution_count": null,
   "id": "62a917b0-1eb2-43f2-a917-b046d362cc82",
   "metadata": {},
   "outputs": [],
   "source": []
  },
  {
   "cell_type": "code",
   "execution_count": null,
   "id": "3f145235-4dc3-4d8f-b2ee-d24d16fc4806",
   "metadata": {},
   "outputs": [],
   "source": []
  }
 ],
 "metadata": {
  "kernelspec": {
   "display_name": "Python 3 (ipykernel)",
   "language": "python",
   "name": "python3"
  },
  "language_info": {
   "codemirror_mode": {
    "name": "ipython",
    "version": 3
   },
   "file_extension": ".py",
   "mimetype": "text/x-python",
   "name": "python",
   "nbconvert_exporter": "python",
   "pygments_lexer": "ipython3",
   "version": "3.12.2"
  }
 },
 "nbformat": 4,
 "nbformat_minor": 5
}

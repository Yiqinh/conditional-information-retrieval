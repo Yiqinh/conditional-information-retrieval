{
 "cells": [
  {
   "cell_type": "code",
   "execution_count": 1,
   "id": "2a744c97-5c07-4bcf-ac6e-86767ca02491",
   "metadata": {},
   "outputs": [],
   "source": [
    "mv /Users/spangher/Downloads/K_100_iter_0_SFR_V3_10000_10280.json ../data/results/"
   ]
  },
  {
   "cell_type": "code",
   "execution_count": null,
   "id": "44edb62f-015d-4620-8ec7-127c00399b89",
   "metadata": {},
   "outputs": [],
   "source": [
    "import warnings\n",
    "warnings.filterwarnings(\"ignore\", category=DeprecationWarning)\n",
    "from tqdm.auto import tqdm\n",
    "import numpy as np \n",
    "import json\n",
    "import pandas as pd \n",
    "y_pred_df = (\n",
    "    pd.DataFrame(json.load(open('../data/results/K_100_iter_0_SFR_V3_10000_10280.json')))\n",
    ")"
   ]
  },
  {
   "cell_type": "code",
   "execution_count": 67,
   "id": "c0657b81-9242-4815-a0de-0721b8cbe2bc",
   "metadata": {},
   "outputs": [],
   "source": [
    "disc_ordering = [\n",
    "    'Analysis',\n",
    "    'Anecdotes, Examples and Illustration',\n",
    "    'Background Information',\n",
    "    'Broadening Perspective',\n",
    "    'Confirmation and Witness',\n",
    "    'Counterpoint',\n",
    "    'Data Resource',\n",
    "    'Expert',\n",
    "    'Main Actor',\n",
    "    'Subject'\n",
    "]"
   ]
  },
  {
   "cell_type": "code",
   "execution_count": 204,
   "id": "7fb2cf1c-d7df-4f49-8935-873898ba312e",
   "metadata": {},
   "outputs": [],
   "source": [
    "source_oracle_label_df = pd.read_csv('../data/v3_sources/oracle_labels.csv', index_col=0)\n",
    "gold_truth_df = pd.DataFrame(json.load(open('../data/v3_sources/v3_combined_ALL_with_oracle.json')))\n",
    "source_ground_truth_df = pd.DataFrame(gold_truth_df.explode('truth')['truth'].tolist())\n",
    "y_pred_df_merged = y_pred_df.merge(gold_truth_df[['url', 'truth']])"
   ]
  },
  {
   "cell_type": "code",
   "execution_count": 256,
   "id": "226a79dd-1653-4cd4-9510-38cc13bee9b0",
   "metadata": {},
   "outputs": [],
   "source": [
    "cluster_center_df = pd.read_csv('../data/v3_clusters/cluster_centers.csv', index_col=0)"
   ]
  },
  {
   "cell_type": "code",
   "execution_count": 258,
   "id": "6bdd0b1a-f7e3-4986-b1c7-420854992140",
   "metadata": {},
   "outputs": [],
   "source": [
    "cluster_assignment_df = pd.read_csv('../data/v3_clusters/data_cluster_assignment.csv', index_col=0)"
   ]
  },
  {
   "cell_type": "code",
   "execution_count": 268,
   "id": "fbfdbf9b-d4a7-40ae-8344-fee17e9e2052",
   "metadata": {},
   "outputs": [],
   "source": [
    "cluster_distributions_df = (\n",
    "    (cluster_assignment_df.merge(cluster_center_df, right_index=True, left_on='cluster_pred_1').set_index('url')[disc_ordering] + \n",
    "     cluster_assignment_df.merge(cluster_center_df, right_index=True, left_on='cluster_pred_2').set_index('url')[disc_ordering] + \n",
    "     cluster_assignment_df.merge(cluster_center_df, right_index=True, left_on='cluster_pred_3').set_index('url')[disc_ordering]\n",
    "    ).pipe(lambda df: df.divide(df.sum(axis=1), axis=0))\n",
    ")"
   ]
  },
  {
   "cell_type": "code",
   "execution_count": null,
   "id": "ff93a31f-8e12-441f-8b6b-0064d4aba68b",
   "metadata": {},
   "outputs": [],
   "source": [
    "def calculate_prec_recall(df):\n",
    "    "
   ]
  },
  {
   "cell_type": "code",
   "execution_count": 269,
   "id": "69598491-014b-4770-bb04-928def9df7da",
   "metadata": {},
   "outputs": [
    {
     "data": {
      "text/plain": [
       "url              www.wsj.com/articles/tech-firms-say-china-tari...\n",
       "initial_story    How will the Trump administration's proposed t...\n",
       "queries          [How will the Trump administration's proposed ...\n",
       "dr_sources       [{'id': 'www.businessinsider.com/broadcom-ca-m...\n",
       "truth            [{'url': 'www.wsj.com/articles/tech-firms-say-...\n",
       "pred_num                                                        12\n",
       "Name: 278, dtype: object"
      ]
     },
     "execution_count": 269,
     "metadata": {},
     "output_type": "execute_result"
    }
   ],
   "source": [
    "row"
   ]
  },
  {
   "cell_type": "code",
   "execution_count": 272,
   "id": "3a1a441d-2767-46e6-8b8c-ce5e8615107b",
   "metadata": {
    "scrolled": true
   },
   "outputs": [
    {
     "data": {
      "application/vnd.jupyter.widget-view+json": {
       "model_id": "5ad8e896025346138f76a33182bcb896",
       "version_major": 2,
       "version_minor": 0
      },
      "text/plain": [
       "  0%|          | 0/279 [00:00<?, ?it/s]"
      ]
     },
     "metadata": {},
     "output_type": "display_data"
    },
    {
     "data": {
      "application/vnd.jupyter.widget-view+json": {
       "model_id": "6b12d631b783438588e1e7ae687fceb1",
       "version_major": 2,
       "version_minor": 0
      },
      "text/plain": [
       "  0%|          | 0/279 [00:00<?, ?it/s]"
      ]
     },
     "metadata": {},
     "output_type": "display_data"
    },
    {
     "name": "stderr",
     "output_type": "stream",
     "text": [
      "/var/folders/xh/qnyq7yzj0r328_7hnb7pgxth0000gp/T/ipykernel_56027/790759152.py:63: RuntimeWarning: invalid value encountered in scalar divide\n",
      "  'precision': df['num_correct'].sum() / df['y_pred'].sum(),\n",
      "/var/folders/xh/qnyq7yzj0r328_7hnb7pgxth0000gp/T/ipykernel_56027/790759152.py:63: RuntimeWarning: invalid value encountered in scalar divide\n",
      "  'precision': df['num_correct'].sum() / df['y_pred'].sum(),\n",
      "/var/folders/xh/qnyq7yzj0r328_7hnb7pgxth0000gp/T/ipykernel_56027/790759152.py:63: RuntimeWarning: invalid value encountered in scalar divide\n",
      "  'precision': df['num_correct'].sum() / df['y_pred'].sum(),\n",
      "/var/folders/xh/qnyq7yzj0r328_7hnb7pgxth0000gp/T/ipykernel_56027/790759152.py:63: RuntimeWarning: invalid value encountered in scalar divide\n",
      "  'precision': df['num_correct'].sum() / df['y_pred'].sum(),\n",
      "/var/folders/xh/qnyq7yzj0r328_7hnb7pgxth0000gp/T/ipykernel_56027/790759152.py:63: RuntimeWarning: invalid value encountered in scalar divide\n",
      "  'precision': df['num_correct'].sum() / df['y_pred'].sum(),\n",
      "/var/folders/xh/qnyq7yzj0r328_7hnb7pgxth0000gp/T/ipykernel_56027/790759152.py:63: RuntimeWarning: invalid value encountered in scalar divide\n",
      "  'precision': df['num_correct'].sum() / df['y_pred'].sum(),\n",
      "/var/folders/xh/qnyq7yzj0r328_7hnb7pgxth0000gp/T/ipykernel_56027/790759152.py:63: RuntimeWarning: invalid value encountered in scalar divide\n",
      "  'precision': df['num_correct'].sum() / df['y_pred'].sum(),\n",
      "/var/folders/xh/qnyq7yzj0r328_7hnb7pgxth0000gp/T/ipykernel_56027/790759152.py:63: RuntimeWarning: invalid value encountered in scalar divide\n",
      "  'precision': df['num_correct'].sum() / df['y_pred'].sum(),\n",
      "/var/folders/xh/qnyq7yzj0r328_7hnb7pgxth0000gp/T/ipykernel_56027/790759152.py:63: RuntimeWarning: invalid value encountered in scalar divide\n",
      "  'precision': df['num_correct'].sum() / df['y_pred'].sum(),\n",
      "/var/folders/xh/qnyq7yzj0r328_7hnb7pgxth0000gp/T/ipykernel_56027/790759152.py:63: RuntimeWarning: invalid value encountered in scalar divide\n",
      "  'precision': df['num_correct'].sum() / df['y_pred'].sum(),\n",
      "/var/folders/xh/qnyq7yzj0r328_7hnb7pgxth0000gp/T/ipykernel_56027/790759152.py:63: RuntimeWarning: invalid value encountered in scalar divide\n",
      "  'precision': df['num_correct'].sum() / df['y_pred'].sum(),\n",
      "/var/folders/xh/qnyq7yzj0r328_7hnb7pgxth0000gp/T/ipykernel_56027/790759152.py:63: RuntimeWarning: invalid value encountered in scalar divide\n",
      "  'precision': df['num_correct'].sum() / df['y_pred'].sum(),\n",
      "/var/folders/xh/qnyq7yzj0r328_7hnb7pgxth0000gp/T/ipykernel_56027/790759152.py:63: RuntimeWarning: invalid value encountered in scalar divide\n",
      "  'precision': df['num_correct'].sum() / df['y_pred'].sum(),\n",
      "/var/folders/xh/qnyq7yzj0r328_7hnb7pgxth0000gp/T/ipykernel_56027/790759152.py:63: RuntimeWarning: invalid value encountered in scalar divide\n",
      "  'precision': df['num_correct'].sum() / df['y_pred'].sum(),\n",
      "/var/folders/xh/qnyq7yzj0r328_7hnb7pgxth0000gp/T/ipykernel_56027/790759152.py:63: RuntimeWarning: invalid value encountered in scalar divide\n",
      "  'precision': df['num_correct'].sum() / df['y_pred'].sum(),\n",
      "/var/folders/xh/qnyq7yzj0r328_7hnb7pgxth0000gp/T/ipykernel_56027/790759152.py:63: RuntimeWarning: invalid value encountered in scalar divide\n",
      "  'precision': df['num_correct'].sum() / df['y_pred'].sum(),\n",
      "/var/folders/xh/qnyq7yzj0r328_7hnb7pgxth0000gp/T/ipykernel_56027/790759152.py:63: RuntimeWarning: invalid value encountered in scalar divide\n",
      "  'precision': df['num_correct'].sum() / df['y_pred'].sum(),\n",
      "/var/folders/xh/qnyq7yzj0r328_7hnb7pgxth0000gp/T/ipykernel_56027/790759152.py:63: RuntimeWarning: invalid value encountered in scalar divide\n",
      "  'precision': df['num_correct'].sum() / df['y_pred'].sum(),\n"
     ]
    },
    {
     "data": {
      "application/vnd.jupyter.widget-view+json": {
       "model_id": "c4acd028916441f8a400466a59e1d46c",
       "version_major": 2,
       "version_minor": 0
      },
      "text/plain": [
       "  0%|          | 0/279 [00:00<?, ?it/s]"
      ]
     },
     "metadata": {},
     "output_type": "display_data"
    },
    {
     "name": "stderr",
     "output_type": "stream",
     "text": [
      "/var/folders/xh/qnyq7yzj0r328_7hnb7pgxth0000gp/T/ipykernel_56027/790759152.py:113: RuntimeWarning: invalid value encountered in scalar divide\n",
      "  'precision': df['num_correct'].sum() / df['y_pred'].sum(),\n",
      "/var/folders/xh/qnyq7yzj0r328_7hnb7pgxth0000gp/T/ipykernel_56027/790759152.py:113: RuntimeWarning: invalid value encountered in scalar divide\n",
      "  'precision': df['num_correct'].sum() / df['y_pred'].sum(),\n",
      "/var/folders/xh/qnyq7yzj0r328_7hnb7pgxth0000gp/T/ipykernel_56027/790759152.py:113: RuntimeWarning: invalid value encountered in scalar divide\n",
      "  'precision': df['num_correct'].sum() / df['y_pred'].sum(),\n"
     ]
    },
    {
     "data": {
      "application/vnd.jupyter.widget-view+json": {
       "model_id": "103903b2e10643419731d224e1efebc6",
       "version_major": 2,
       "version_minor": 0
      },
      "text/plain": [
       "  0%|          | 0/279 [00:00<?, ?it/s]"
      ]
     },
     "metadata": {},
     "output_type": "display_data"
    },
    {
     "data": {
      "application/vnd.jupyter.widget-view+json": {
       "model_id": "8b9d368bc6ba4de78d63d22370036775",
       "version_major": 2,
       "version_minor": 0
      },
      "text/plain": [
       "  0%|          | 0/279 [00:00<?, ?it/s]"
      ]
     },
     "metadata": {},
     "output_type": "display_data"
    },
    {
     "data": {
      "application/vnd.jupyter.widget-view+json": {
       "model_id": "df0f3191fdd7405b85f230e64478de44",
       "version_major": 2,
       "version_minor": 0
      },
      "text/plain": [
       "  0%|          | 0/279 [00:00<?, ?it/s]"
      ]
     },
     "metadata": {},
     "output_type": "display_data"
    },
    {
     "data": {
      "application/vnd.jupyter.widget-view+json": {
       "model_id": "a579b487306b4dc184557c0cb0e8d359",
       "version_major": 2,
       "version_minor": 0
      },
      "text/plain": [
       "  0%|          | 0/279 [00:00<?, ?it/s]"
      ]
     },
     "metadata": {},
     "output_type": "display_data"
    },
    {
     "data": {
      "application/vnd.jupyter.widget-view+json": {
       "model_id": "66a820254fa740e7881e604bd5849d1d",
       "version_major": 2,
       "version_minor": 0
      },
      "text/plain": [
       "  0%|          | 0/279 [00:00<?, ?it/s]"
      ]
     },
     "metadata": {},
     "output_type": "display_data"
    },
    {
     "data": {
      "application/vnd.jupyter.widget-view+json": {
       "model_id": "4f51028582444730898b951e125853f5",
       "version_major": 2,
       "version_minor": 0
      },
      "text/plain": [
       "  0%|          | 0/279 [00:00<?, ?it/s]"
      ]
     },
     "metadata": {},
     "output_type": "display_data"
    },
    {
     "data": {
      "application/vnd.jupyter.widget-view+json": {
       "model_id": "dba2d04a56c34220ab7a4e7a7d39191f",
       "version_major": 2,
       "version_minor": 0
      },
      "text/plain": [
       "  0%|          | 0/279 [00:00<?, ?it/s]"
      ]
     },
     "metadata": {},
     "output_type": "display_data"
    },
    {
     "data": {
      "application/vnd.jupyter.widget-view+json": {
       "model_id": "62c3c686d95048c08e827ebdd022a539",
       "version_major": 2,
       "version_minor": 0
      },
      "text/plain": [
       "  0%|          | 0/279 [00:00<?, ?it/s]"
      ]
     },
     "metadata": {},
     "output_type": "display_data"
    },
    {
     "data": {
      "application/vnd.jupyter.widget-view+json": {
       "model_id": "f18103b9e4b6402a8406364ffa9cc206",
       "version_major": 2,
       "version_minor": 0
      },
      "text/plain": [
       "  0%|          | 0/279 [00:00<?, ?it/s]"
      ]
     },
     "metadata": {},
     "output_type": "display_data"
    },
    {
     "data": {
      "application/vnd.jupyter.widget-view+json": {
       "model_id": "377c4f0a43764b49b61e33383299d249",
       "version_major": 2,
       "version_minor": 0
      },
      "text/plain": [
       "  0%|          | 0/279 [00:00<?, ?it/s]"
      ]
     },
     "metadata": {},
     "output_type": "display_data"
    },
    {
     "data": {
      "application/vnd.jupyter.widget-view+json": {
       "model_id": "1c80106253eb4ce89e58b596e3b4fd7a",
       "version_major": 2,
       "version_minor": 0
      },
      "text/plain": [
       "  0%|          | 0/279 [00:00<?, ?it/s]"
      ]
     },
     "metadata": {},
     "output_type": "display_data"
    },
    {
     "data": {
      "application/vnd.jupyter.widget-view+json": {
       "model_id": "a9902a5aaaa4425b8cd5b9cb90207f13",
       "version_major": 2,
       "version_minor": 0
      },
      "text/plain": [
       "  0%|          | 0/279 [00:00<?, ?it/s]"
      ]
     },
     "metadata": {},
     "output_type": "display_data"
    },
    {
     "data": {
      "application/vnd.jupyter.widget-view+json": {
       "model_id": "bae95e924be3477ea74f15a13bcbca18",
       "version_major": 2,
       "version_minor": 0
      },
      "text/plain": [
       "  0%|          | 0/279 [00:00<?, ?it/s]"
      ]
     },
     "metadata": {},
     "output_type": "display_data"
    },
    {
     "data": {
      "application/vnd.jupyter.widget-view+json": {
       "model_id": "016101818ee84d18b829d4b8ff5bd24f",
       "version_major": 2,
       "version_minor": 0
      },
      "text/plain": [
       "  0%|          | 0/279 [00:00<?, ?it/s]"
      ]
     },
     "metadata": {},
     "output_type": "display_data"
    },
    {
     "data": {
      "application/vnd.jupyter.widget-view+json": {
       "model_id": "d6901d42fee44b5c83a98911bcdd7f43",
       "version_major": 2,
       "version_minor": 0
      },
      "text/plain": [
       "  0%|          | 0/279 [00:00<?, ?it/s]"
      ]
     },
     "metadata": {},
     "output_type": "display_data"
    },
    {
     "data": {
      "application/vnd.jupyter.widget-view+json": {
       "model_id": "68c10196ad0145b8ae941a2a4027d4e5",
       "version_major": 2,
       "version_minor": 0
      },
      "text/plain": [
       "  0%|          | 0/279 [00:00<?, ?it/s]"
      ]
     },
     "metadata": {},
     "output_type": "display_data"
    },
    {
     "data": {
      "application/vnd.jupyter.widget-view+json": {
       "model_id": "bb72147da8e24f9ea7e943308195c6cd",
       "version_major": 2,
       "version_minor": 0
      },
      "text/plain": [
       "  0%|          | 0/279 [00:00<?, ?it/s]"
      ]
     },
     "metadata": {},
     "output_type": "display_data"
    },
    {
     "data": {
      "application/vnd.jupyter.widget-view+json": {
       "model_id": "5019cced9d3541209c8cba4ca6e92f39",
       "version_major": 2,
       "version_minor": 0
      },
      "text/plain": [
       "  0%|          | 0/279 [00:00<?, ?it/s]"
      ]
     },
     "metadata": {},
     "output_type": "display_data"
    },
    {
     "data": {
      "application/vnd.jupyter.widget-view+json": {
       "model_id": "ced22a93c5cc4e4c93906237e4468b59",
       "version_major": 2,
       "version_minor": 0
      },
      "text/plain": [
       "  0%|          | 0/279 [00:00<?, ?it/s]"
      ]
     },
     "metadata": {},
     "output_type": "display_data"
    },
    {
     "data": {
      "application/vnd.jupyter.widget-view+json": {
       "model_id": "38bac4fcd18a43e3a712ff9344519d0d",
       "version_major": 2,
       "version_minor": 0
      },
      "text/plain": [
       "  0%|          | 0/279 [00:00<?, ?it/s]"
      ]
     },
     "metadata": {},
     "output_type": "display_data"
    },
    {
     "data": {
      "application/vnd.jupyter.widget-view+json": {
       "model_id": "f28a10a23f4b40ba85e40ffb474d603f",
       "version_major": 2,
       "version_minor": 0
      },
      "text/plain": [
       "  0%|          | 0/279 [00:00<?, ?it/s]"
      ]
     },
     "metadata": {},
     "output_type": "display_data"
    },
    {
     "data": {
      "application/vnd.jupyter.widget-view+json": {
       "model_id": "1c057ab9bb5246c2a30911ff96354287",
       "version_major": 2,
       "version_minor": 0
      },
      "text/plain": [
       "  0%|          | 0/279 [00:00<?, ?it/s]"
      ]
     },
     "metadata": {},
     "output_type": "display_data"
    },
    {
     "data": {
      "application/vnd.jupyter.widget-view+json": {
       "model_id": "7da60a8fb9aa48e2b8fa071eaa9f825e",
       "version_major": 2,
       "version_minor": 0
      },
      "text/plain": [
       "  0%|          | 0/279 [00:00<?, ?it/s]"
      ]
     },
     "metadata": {},
     "output_type": "display_data"
    },
    {
     "data": {
      "application/vnd.jupyter.widget-view+json": {
       "model_id": "8abf254af7f94d2692d0e6682837ed67",
       "version_major": 2,
       "version_minor": 0
      },
      "text/plain": [
       "  0%|          | 0/279 [00:00<?, ?it/s]"
      ]
     },
     "metadata": {},
     "output_type": "display_data"
    },
    {
     "data": {
      "application/vnd.jupyter.widget-view+json": {
       "model_id": "d345f04be8874b438e1cbb65b2fe7da4",
       "version_major": 2,
       "version_minor": 0
      },
      "text/plain": [
       "  0%|          | 0/279 [00:00<?, ?it/s]"
      ]
     },
     "metadata": {},
     "output_type": "display_data"
    },
    {
     "data": {
      "application/vnd.jupyter.widget-view+json": {
       "model_id": "ac1cec153bd04009b6e9968ebf7ce71f",
       "version_major": 2,
       "version_minor": 0
      },
      "text/plain": [
       "  0%|          | 0/279 [00:00<?, ?it/s]"
      ]
     },
     "metadata": {},
     "output_type": "display_data"
    },
    {
     "data": {
      "application/vnd.jupyter.widget-view+json": {
       "model_id": "8cd88dffa5dc4523955d9811e3a47048",
       "version_major": 2,
       "version_minor": 0
      },
      "text/plain": [
       "  0%|          | 0/279 [00:00<?, ?it/s]"
      ]
     },
     "metadata": {},
     "output_type": "display_data"
    },
    {
     "data": {
      "application/vnd.jupyter.widget-view+json": {
       "model_id": "2a0dd1de244d494d8bee2f76a4ce3954",
       "version_major": 2,
       "version_minor": 0
      },
      "text/plain": [
       "  0%|          | 0/279 [00:00<?, ?it/s]"
      ]
     },
     "metadata": {},
     "output_type": "display_data"
    },
    {
     "data": {
      "application/vnd.jupyter.widget-view+json": {
       "model_id": "07e2104eb57241eca9051ce49a3e2c3a",
       "version_major": 2,
       "version_minor": 0
      },
      "text/plain": [
       "  0%|          | 0/279 [00:00<?, ?it/s]"
      ]
     },
     "metadata": {},
     "output_type": "display_data"
    },
    {
     "data": {
      "application/vnd.jupyter.widget-view+json": {
       "model_id": "074cc04feb67438eaf08de4be2df9526",
       "version_major": 2,
       "version_minor": 0
      },
      "text/plain": [
       "  0%|          | 0/279 [00:00<?, ?it/s]"
      ]
     },
     "metadata": {},
     "output_type": "display_data"
    },
    {
     "data": {
      "application/vnd.jupyter.widget-view+json": {
       "model_id": "20756445eda646b59db298a28d69d448",
       "version_major": 2,
       "version_minor": 0
      },
      "text/plain": [
       "  0%|          | 0/279 [00:00<?, ?it/s]"
      ]
     },
     "metadata": {},
     "output_type": "display_data"
    },
    {
     "data": {
      "application/vnd.jupyter.widget-view+json": {
       "model_id": "9de9b9a7ccce4d0aba9e161aecd5be3b",
       "version_major": 2,
       "version_minor": 0
      },
      "text/plain": [
       "  0%|          | 0/279 [00:00<?, ?it/s]"
      ]
     },
     "metadata": {},
     "output_type": "display_data"
    },
    {
     "data": {
      "application/vnd.jupyter.widget-view+json": {
       "model_id": "d4bacb6db9a8413b8ed51b9ef66cdb4f",
       "version_major": 2,
       "version_minor": 0
      },
      "text/plain": [
       "  0%|          | 0/279 [00:00<?, ?it/s]"
      ]
     },
     "metadata": {},
     "output_type": "display_data"
    }
   ],
   "source": [
    "ks = [1, 4, 5, 6, 7, 8, 10, 12, 15, 20, 30, 40]\n",
    "\n",
    "all_mean_prec_recall = []\n",
    "for k in ks:\n",
    "    ## vanilla\n",
    "    all_prec_recall = []\n",
    "    for _, row in tqdm(y_pred_df_merged.iterrows(), total=len(y_pred_df_merged)):\n",
    "        y_pred_row = pd.DataFrame(row['dr_sources'])\n",
    "        y_true_with_discourse = pd.DataFrame(row['truth'])\n",
    "        prec_recall = (\n",
    "            y_pred_row \n",
    "             .merge(source_ground_truth_df, left_on='text', right_on='Text_embed')\n",
    "             .sort_values('score', ascending=False).iloc[:k]\n",
    "             [['url', 'Name']]\n",
    "             .assign(y_pred=1)\n",
    "             .merge(y_true_with_discourse[['url', 'Name']].assign(y_true=1), how='outer')\n",
    "             .assign(num_correct=lambda df: (df['y_pred'] + df['y_true']) > 1)\n",
    "             .pipe(lambda df: {\n",
    "                 'precision': df['num_correct'].sum() / df['y_pred'].sum(),\n",
    "                 'recall': df['num_correct'].sum() / df['y_true'].sum(),\n",
    "             })\n",
    "        )\n",
    "        all_prec_recall.append(prec_recall)\n",
    "        \n",
    "    mean_prec_rec = (\n",
    "        pd.DataFrame(all_prec_recall)\n",
    "        .assign(f1_score=lambda df:  2 * (df['precision'] * df['recall']) / (df['precision'] + df['recall']))\n",
    "        .fillna(0)\n",
    "        .mean()\n",
    "        .to_dict()\n",
    "    )\n",
    "    mean_prec_rec['k'] = k\n",
    "    mean_prec_rec['trial'] = 'vanilla rank'\n",
    "    all_mean_prec_recall.append(mean_prec_rec)\n",
    "\n",
    "\n",
    "    ## cluster distribution\n",
    "    all_prec_recall = []\n",
    "    for _, row in tqdm(y_pred_df_merged.iterrows(), total=len(y_pred_df_merged)):\n",
    "        y_pred_row = pd.DataFrame(row['dr_sources'])\n",
    "        y_pred_with_discourse = y_pred_row.merge(source_ground_truth_df, left_on='text', right_on='Text_embed')\n",
    "        y_true_with_discourse = pd.DataFrame(row['truth'])\n",
    "    \n",
    "        true_discourse_dist = cluster_distributions_df.loc[row['url']]\n",
    "        discourse_cats_to_sample = (\n",
    "            pd.DataFrame(np.random.multinomial(k, true_discourse_dist), index=disc_ordering, columns=['top_per_discourse'])\n",
    "        )\n",
    "        \n",
    "        y_pred_at_k = (\n",
    "            y_pred_with_discourse\n",
    "                 .merge(discourse_cats_to_sample, left_on='llama_label', right_index=True)\n",
    "                 .groupby('llama_label')\n",
    "                 .apply(lambda df: df.sort_values('score', ascending=False).iloc[:df['top_per_discourse'].iloc[0]])\n",
    "        )\n",
    "        \n",
    "        prec_recall = (\n",
    "            y_pred_at_k[['url', 'Name']]\n",
    "                 .assign(y_pred=1)\n",
    "                 .merge(y_true_with_discourse[['url', 'Name']].assign(y_true=1), on=['url', 'Name'], how='outer')\n",
    "                 .fillna(0)\n",
    "                 .assign(num_correct=lambda df: (df['y_pred'] + df['y_true']) > 1)\n",
    "                 .pipe(lambda df: {\n",
    "                     'precision': df['num_correct'].sum() / df['y_pred'].sum(),\n",
    "                     'recall': df['num_correct'].sum() / df['y_true'].sum(),\n",
    "                 })\n",
    "        )\n",
    "\n",
    "        all_prec_recall.append(prec_recall)\n",
    "        \n",
    "    mean_prec_rec = (\n",
    "        pd.DataFrame(all_prec_recall)\n",
    "        .assign(f1_score=lambda df:  2 * (df['precision'] * df['recall']) / (df['precision'] + df['recall']))\n",
    "        .fillna(0)\n",
    "        .mean()\n",
    "        .to_dict()\n",
    "    )\n",
    "    mean_prec_rec['k'] = k\n",
    "    mean_prec_rec['trial'] = 'clustered rank'\n",
    "    all_mean_prec_recall.append(mean_prec_rec)\n",
    "\n",
    "    ## with oracle\n",
    "    all_prec_recall = []\n",
    "    for _, row in tqdm(y_pred_df_merged.iterrows(), total=len(y_pred_df_merged)):\n",
    "        y_pred_row = pd.DataFrame(row['dr_sources'])\n",
    "        y_pred_with_discourse = y_pred_row.merge(source_ground_truth_df, left_on='text', right_on='Text_embed')\n",
    "        y_true_with_discourse = pd.DataFrame(row['truth'])\n",
    "    \n",
    "        true_discourse_dist = (\n",
    "            y_true_with_discourse['llama_label']\n",
    "                 .value_counts()\n",
    "                 .reindex(disc_ordering)\n",
    "                 .fillna(0)\n",
    "                 .pipe(lambda s: s/s.sum())\n",
    "        )\n",
    "        discourse_cats_to_sample = (\n",
    "            pd.DataFrame(np.random.multinomial(k, true_discourse_dist), index=disc_ordering, columns=['top_per_discourse'])\n",
    "        )\n",
    "        \n",
    "        y_pred_at_k = (\n",
    "            y_pred_with_discourse\n",
    "                 .merge(discourse_cats_to_sample, left_on='llama_label', right_index=True)\n",
    "                 .groupby('llama_label')\n",
    "                 .apply(lambda df: df.sort_values('score', ascending=False).iloc[:df['top_per_discourse'].iloc[0]])\n",
    "        )\n",
    "        \n",
    "        prec_recall = (\n",
    "            y_pred_at_k[['url', 'Name']]\n",
    "                 .assign(y_pred=1)\n",
    "                 .merge(y_true_with_discourse[['url', 'Name']].assign(y_true=1), on=['url', 'Name'], how='outer')\n",
    "                 .fillna(0)\n",
    "                 .assign(num_correct=lambda df: (df['y_pred'] + df['y_true']) > 1)\n",
    "                 .pipe(lambda df: {\n",
    "                     'precision': df['num_correct'].sum() / df['y_pred'].sum(),\n",
    "                     'recall': df['num_correct'].sum() / df['y_true'].sum(),\n",
    "                 })\n",
    "        )\n",
    "\n",
    "        all_prec_recall.append(prec_recall)\n",
    "        \n",
    "    mean_prec_rec = (\n",
    "        pd.DataFrame(all_prec_recall)\n",
    "        .assign(f1_score=lambda df:  2 * (df['precision'] * df['recall']) / (df['precision'] + df['recall']))\n",
    "        .fillna(0)\n",
    "        .mean()\n",
    "        .to_dict()\n",
    "    )\n",
    "    mean_prec_rec['k'] = k\n",
    "    mean_prec_rec['trial'] = 'oracle rank'\n",
    "    all_mean_prec_recall.append(mean_prec_rec)"
   ]
  },
  {
   "cell_type": "code",
   "execution_count": 273,
   "id": "eb068cab-4626-483e-9b20-0e833e6b0dc2",
   "metadata": {},
   "outputs": [
    {
     "data": {
      "text/plain": [
       "<Axes: xlabel='k', ylabel='f1_score'>"
      ]
     },
     "execution_count": 273,
     "metadata": {},
     "output_type": "execute_result"
    },
    {
     "data": {
      "image/png": "[encoded data removed]",
      "text/plain": [
       "<Figure size 640x480 with 1 Axes>"
      ]
     },
     "metadata": {},
     "output_type": "display_data"
    }
   ],
   "source": [
    "import seaborn as sns \n",
    "sns.lineplot(\n",
    "    data =pd.DataFrame(all_mean_prec_recall).reset_index(),\n",
    "    x='k',\n",
    "    y='f1_score',\n",
    "    hue='trial'\n",
    ")"
   ]
  },
  {
   "cell_type": "code",
   "execution_count": null,
   "id": "1093850e-3b0c-4c9e-8ce6-7891f9cc0a81",
   "metadata": {},
   "outputs": [],
   "source": []
  },
  {
   "cell_type": "code",
   "execution_count": null,
   "id": "bce36ddd-d072-4e23-8a8c-ceac41f9ef0b",
   "metadata": {},
   "outputs": [],
   "source": []
  },
  {
   "cell_type": "code",
   "execution_count": null,
   "id": "4dfdfce1-dc92-47f4-bd06-a914e0503938",
   "metadata": {},
   "outputs": [],
   "source": []
  },
  {
   "cell_type": "markdown",
   "id": "b70d1be7-b454-49b7-b60e-29d535173c86",
   "metadata": {},
   "source": [
    "# Use Poisson Random Variable"
   ]
  },
  {
   "cell_type": "code",
   "execution_count": 208,
   "id": "e445b10f-f29b-42b2-a702-41f0022fa102",
   "metadata": {},
   "outputs": [],
   "source": [
    "predicted_number = pd.read_json('../data/results/poisson_regression.jsonl', lines=True)"
   ]
  },
  {
   "cell_type": "code",
   "execution_count": 214,
   "id": "29fdc13c-aca0-47ef-b45d-9012267958df",
   "metadata": {},
   "outputs": [],
   "source": [
    "y_pred_df_merged_with_num = y_pred_df_merged.merge(predicted_number[['url', 'y_pred']].rename(columns={'y_pred': 'pred_num'}))"
   ]
  },
  {
   "cell_type": "code",
   "execution_count": 218,
   "id": "de3bcc22-d6b9-4d3e-86a5-0f63c2926053",
   "metadata": {},
   "outputs": [
    {
     "data": {
      "application/vnd.jupyter.widget-view+json": {
       "model_id": "129f72796c8e4225b55331c523633f98",
       "version_major": 2,
       "version_minor": 0
      },
      "text/plain": [
       "  0%|          | 0/279 [00:00<?, ?it/s]"
      ]
     },
     "metadata": {},
     "output_type": "display_data"
    },
    {
     "data": {
      "application/vnd.jupyter.widget-view+json": {
       "model_id": "80294418fbb3434395b25cefebf2d268",
       "version_major": 2,
       "version_minor": 0
      },
      "text/plain": [
       "  0%|          | 0/279 [00:00<?, ?it/s]"
      ]
     },
     "metadata": {},
     "output_type": "display_data"
    }
   ],
   "source": [
    "# vanilla\n",
    "pred_k__mean_prec_recall = []\n",
    "all_prec_recall = []\n",
    "for _, row in tqdm(y_pred_df_merged_with_num.iterrows(), total=len(y_pred_df_merged_with_num)):\n",
    "    k = row['pred_num']\n",
    "    y_pred_row = pd.DataFrame(row['dr_sources'])\n",
    "    y_true_with_discourse = pd.DataFrame(row['truth'])\n",
    "    prec_recall = (\n",
    "        y_pred_row \n",
    "         .merge(source_ground_truth_df, left_on='text', right_on='Text_embed')\n",
    "         .sort_values('score', ascending=False).iloc[:k]\n",
    "         [['url', 'Name']]\n",
    "         .assign(y_pred=1)\n",
    "         .merge(y_true_with_discourse[['url', 'Name']].assign(y_true=1), how='outer')\n",
    "         .assign(num_correct=lambda df: (df['y_pred'] + df['y_true']) > 1)\n",
    "         .pipe(lambda df: {\n",
    "             'precision': df['num_correct'].sum() / df['y_pred'].sum(),\n",
    "             'recall': df['num_correct'].sum() / df['y_true'].sum(),\n",
    "         })\n",
    "    )\n",
    "    all_prec_recall.append(prec_recall)\n",
    "    \n",
    "mean_prec_rec = (\n",
    "    pd.DataFrame(all_prec_recall)\n",
    "    .assign(f1_score=lambda df:  2 * (df['precision'] * df['recall']) / (df['precision'] + df['recall']))\n",
    "    .fillna(0)\n",
    "    .mean()\n",
    "    .to_dict()\n",
    ")\n",
    "mean_prec_rec['k'] = 'pred'\n",
    "mean_prec_rec['trial'] = 'vanilla rank'\n",
    "pred_k__mean_prec_recall.append(mean_prec_rec)\n",
    "\n",
    "## with oracle\n",
    "all_prec_recall = []\n",
    "for _, row in tqdm(y_pred_df_merged_with_num.iterrows(), total=len(y_pred_df_merged_with_num)):\n",
    "    k = row['pred_num']\n",
    "    y_pred_row = pd.DataFrame(row['dr_sources'])\n",
    "    y_pred_with_discourse = y_pred_row.merge(source_ground_truth_df, left_on='text', right_on='Text_embed')\n",
    "    y_true_with_discourse = pd.DataFrame(row['truth'])\n",
    "\n",
    "    true_discourse_dist = (\n",
    "        y_true_with_discourse['llama_label']\n",
    "             .value_counts()\n",
    "             .reindex(disc_ordering)\n",
    "             .fillna(0)\n",
    "             .pipe(lambda s: s/s.sum())\n",
    "    )\n",
    "    discourse_cats_to_sample = (\n",
    "        pd.DataFrame(np.random.multinomial(k, true_discourse_dist), index=disc_ordering, columns=['top_per_discourse'])\n",
    "    )\n",
    "    \n",
    "    y_pred_at_k = (\n",
    "        y_pred_with_discourse\n",
    "             .merge(discourse_cats_to_sample, left_on='llama_label', right_index=True)\n",
    "             .groupby('llama_label')\n",
    "             .apply(lambda df: df.sort_values('score', ascending=False).iloc[:df['top_per_discourse'].iloc[0]])\n",
    "    )\n",
    "    \n",
    "    prec_recall = (\n",
    "        y_pred_at_k[['url', 'Name']]\n",
    "             .assign(y_pred=1)\n",
    "             .merge(y_true_with_discourse[['url', 'Name']].assign(y_true=1), on=['url', 'Name'], how='outer')\n",
    "             .fillna(0)\n",
    "             .assign(num_correct=lambda df: (df['y_pred'] + df['y_true']) > 1)\n",
    "             .pipe(lambda df: {\n",
    "                 'precision': df['num_correct'].sum() / df['y_pred'].sum(),\n",
    "                 'recall': df['num_correct'].sum() / df['y_true'].sum(),\n",
    "             })\n",
    "    )\n",
    "\n",
    "    all_prec_recall.append(prec_recall)\n",
    "    \n",
    "mean_prec_rec = (\n",
    "    pd.DataFrame(all_prec_recall)\n",
    "    .assign(f1_score=lambda df:  2 * (df['precision'] * df['recall']) / (df['precision'] + df['recall']))\n",
    "    .fillna(0)\n",
    "    .mean()\n",
    "    .to_dict()\n",
    ")\n",
    "mean_prec_rec['k'] = 'pred'\n",
    "mean_prec_rec['trial'] = 'oracle rank'\n",
    "pred_k__mean_prec_recall.append(mean_prec_rec)"
   ]
  },
  {
   "cell_type": "code",
   "execution_count": 223,
   "id": "49812912-11a5-4129-9f7e-101144ad5c48",
   "metadata": {},
   "outputs": [
    {
     "data": {
      "text/html": [
       "<div>\n",
       "<style scoped>\n",
       "    .dataframe tbody tr th:only-of-type {\n",
       "        vertical-align: middle;\n",
       "    }\n",
       "\n",
       "    .dataframe tbody tr th {\n",
       "        vertical-align: top;\n",
       "    }\n",
       "\n",
       "    .dataframe thead th {\n",
       "        text-align: right;\n",
       "    }\n",
       "</style>\n",
       "<table border=\"1\" class=\"dataframe\">\n",
       "  <thead>\n",
       "    <tr style=\"text-align: right;\">\n",
       "      <th></th>\n",
       "      <th>precision</th>\n",
       "      <th>recall</th>\n",
       "      <th>f1_score</th>\n",
       "      <th>k</th>\n",
       "      <th>trial</th>\n",
       "    </tr>\n",
       "  </thead>\n",
       "  <tbody>\n",
       "    <tr>\n",
       "      <th>0</th>\n",
       "      <td>0.246512</td>\n",
       "      <td>0.445974</td>\n",
       "      <td>0.300844</td>\n",
       "      <td>pred</td>\n",
       "      <td>vanilla rank</td>\n",
       "    </tr>\n",
       "    <tr>\n",
       "      <th>1</th>\n",
       "      <td>0.263850</td>\n",
       "      <td>0.474635</td>\n",
       "      <td>0.322231</td>\n",
       "      <td>pred</td>\n",
       "      <td>oracle rank</td>\n",
       "    </tr>\n",
       "  </tbody>\n",
       "</table>\n",
       "</div>"
      ],
      "text/plain": [
       "   precision    recall  f1_score     k         trial\n",
       "0   0.246512  0.445974  0.300844  pred  vanilla rank\n",
       "1   0.263850  0.474635  0.322231  pred   oracle rank"
      ]
     },
     "execution_count": 223,
     "metadata": {},
     "output_type": "execute_result"
    }
   ],
   "source": [
    "pd.DataFrame(pred_k__mean_prec_recall)"
   ]
  },
  {
   "cell_type": "code",
   "execution_count": null,
   "id": "557a05b2-dcc6-4a66-b18c-11690cd8b241",
   "metadata": {},
   "outputs": [],
   "source": []
  },
  {
   "cell_type": "markdown",
   "id": "0ea30d01-4751-40d3-b230-29066465f799",
   "metadata": {},
   "source": [
    "# Try Ground-Truth Rank"
   ]
  },
  {
   "cell_type": "code",
   "execution_count": 245,
   "id": "95d0f4e3-f2ca-46d8-9d02-8916ab4a5274",
   "metadata": {
    "scrolled": true
   },
   "outputs": [
    {
     "data": {
      "application/vnd.jupyter.widget-view+json": {
       "model_id": "07384d0648a8462da1902ad3af14493c",
       "version_major": 2,
       "version_minor": 0
      },
      "text/plain": [
       "  0%|          | 0/279 [00:00<?, ?it/s]"
      ]
     },
     "metadata": {},
     "output_type": "display_data"
    },
    {
     "data": {
      "application/vnd.jupyter.widget-view+json": {
       "model_id": "7c5080b12ffd4b3495313c45ed47ef9c",
       "version_major": 2,
       "version_minor": 0
      },
      "text/plain": [
       "  0%|          | 0/279 [00:00<?, ?it/s]"
      ]
     },
     "metadata": {},
     "output_type": "display_data"
    }
   ],
   "source": [
    "# vanilla\n",
    "pred_k__mean_prec_recall = []\n",
    "all_prec_recall = []\n",
    "for _, row in tqdm(y_pred_df_merged_with_num.iterrows(), total=len(y_pred_df_merged_with_num)):\n",
    "    k = len(row['truth'])\n",
    "    y_pred_row = pd.DataFrame(row['dr_sources'])\n",
    "    y_true_with_discourse = pd.DataFrame(row['truth'])\n",
    "    prec_recall = (\n",
    "        y_pred_row \n",
    "         .merge(source_ground_truth_df, left_on='text', right_on='Text_embed')\n",
    "         .sort_values('score', ascending=False).iloc[:k]\n",
    "         [['url', 'Name']]\n",
    "         .assign(y_pred=1)\n",
    "         .merge(y_true_with_discourse[['url', 'Name']].assign(y_true=1), how='outer')\n",
    "         .assign(num_correct=lambda df: (df['y_pred'] + df['y_true']) > 1)\n",
    "         .pipe(lambda df: {\n",
    "             'precision': df['num_correct'].sum() / df['y_pred'].sum(),\n",
    "             'recall': df['num_correct'].sum() / df['y_true'].sum(),\n",
    "         })\n",
    "    )\n",
    "    all_prec_recall.append(prec_recall)\n",
    "    \n",
    "mean_prec_rec = (\n",
    "    pd.DataFrame(all_prec_recall)\n",
    "    .assign(f1_score=lambda df:  2 * (df['precision'] * df['recall']) / (df['precision'] + df['recall']))\n",
    "    .fillna(0)\n",
    "    .mean()\n",
    "    .to_dict()\n",
    ")\n",
    "mean_prec_rec['k'] = 'ground_truth'\n",
    "mean_prec_rec['trial'] = 'vanilla rank'\n",
    "pred_k__mean_prec_recall.append(mean_prec_rec)\n",
    "\n",
    "## with oracle\n",
    "all_prec_recall = []\n",
    "for _, row in tqdm(y_pred_df_merged_with_num.iterrows(), total=len(y_pred_df_merged_with_num)):\n",
    "    k = len(row['truth'])\n",
    "    y_pred_row = pd.DataFrame(row['dr_sources'])\n",
    "    y_pred_with_discourse = y_pred_row.merge(source_ground_truth_df, left_on='text', right_on='Text_embed')\n",
    "    y_true_with_discourse = pd.DataFrame(row['truth'])\n",
    "\n",
    "    discourse_cats_to_sample = (\n",
    "        y_true_with_discourse['llama_label']\n",
    "             .value_counts()\n",
    "             # .reindex(disc_ordering)\n",
    "             # .fillna(0)\n",
    "             .to_frame('top_per_discourse')\n",
    "             # .pipe(lambda s: s/s.sum())\n",
    "    )\n",
    "    # discourse_cats_to_sample = (\n",
    "        # pd.DataFrame(np.random.multinomial(k, true_discourse_dist), index=disc_ordering, columns=['top_per_discourse'])\n",
    "    # )\n",
    "    \n",
    "    y_pred_at_k = (\n",
    "        y_pred_with_discourse\n",
    "             .merge(discourse_cats_to_sample, left_on='llama_label', right_index=True)\n",
    "             .groupby('llama_label')\n",
    "             .apply(lambda df: df.sort_values('score', ascending=False).iloc[:df['top_per_discourse'].iloc[0]])\n",
    "    )\n",
    "    \n",
    "    prec_recall = (\n",
    "        y_pred_at_k[['url', 'Name']]\n",
    "             .assign(y_pred=1)\n",
    "             .merge(y_true_with_discourse[['url', 'Name']].assign(y_true=1), on=['url', 'Name'], how='outer')\n",
    "             .fillna(0)\n",
    "             .assign(num_correct=lambda df: (df['y_pred'] + df['y_true']) > 1)\n",
    "             .pipe(lambda df: {\n",
    "                 'precision': df['num_correct'].sum() / df['y_pred'].sum(),\n",
    "                 'recall': df['num_correct'].sum() / df['y_true'].sum(),\n",
    "             })\n",
    "    )\n",
    "\n",
    "    all_prec_recall.append(prec_recall)\n",
    "    \n",
    "mean_prec_rec = (\n",
    "    pd.DataFrame(all_prec_recall)\n",
    "    .assign(f1_score=lambda df:  2 * (df['precision'] * df['recall']) / (df['precision'] + df['recall']))\n",
    "    .fillna(0)\n",
    "    .mean()\n",
    "    .to_dict()\n",
    ")\n",
    "mean_prec_rec['k'] = 'ground_truth'\n",
    "mean_prec_rec['trial'] = 'oracle rank'\n",
    "pred_k__mean_prec_recall.append(mean_prec_rec)"
   ]
  },
  {
   "cell_type": "code",
   "execution_count": 246,
   "id": "68ada5ce-2e6d-46c3-9b9f-b2d0d3a87287",
   "metadata": {},
   "outputs": [
    {
     "data": {
      "text/html": [
       "<div>\n",
       "<style scoped>\n",
       "    .dataframe tbody tr th:only-of-type {\n",
       "        vertical-align: middle;\n",
       "    }\n",
       "\n",
       "    .dataframe tbody tr th {\n",
       "        vertical-align: top;\n",
       "    }\n",
       "\n",
       "    .dataframe thead th {\n",
       "        text-align: right;\n",
       "    }\n",
       "</style>\n",
       "<table border=\"1\" class=\"dataframe\">\n",
       "  <thead>\n",
       "    <tr style=\"text-align: right;\">\n",
       "      <th></th>\n",
       "      <th>precision</th>\n",
       "      <th>recall</th>\n",
       "      <th>f1_score</th>\n",
       "      <th>k</th>\n",
       "      <th>trial</th>\n",
       "    </tr>\n",
       "  </thead>\n",
       "  <tbody>\n",
       "    <tr>\n",
       "      <th>0</th>\n",
       "      <td>0.366292</td>\n",
       "      <td>0.366292</td>\n",
       "      <td>0.366292</td>\n",
       "      <td>ground_truth</td>\n",
       "      <td>vanilla rank</td>\n",
       "    </tr>\n",
       "    <tr>\n",
       "      <th>1</th>\n",
       "      <td>0.431328</td>\n",
       "      <td>0.429184</td>\n",
       "      <td>0.430147</td>\n",
       "      <td>ground_truth</td>\n",
       "      <td>oracle rank</td>\n",
       "    </tr>\n",
       "  </tbody>\n",
       "</table>\n",
       "</div>"
      ],
      "text/plain": [
       "   precision    recall  f1_score             k         trial\n",
       "0   0.366292  0.366292  0.366292  ground_truth  vanilla rank\n",
       "1   0.431328  0.429184  0.430147  ground_truth   oracle rank"
      ]
     },
     "execution_count": 246,
     "metadata": {},
     "output_type": "execute_result"
    }
   ],
   "source": [
    "pd.DataFrame(pred_k__mean_prec_recall)"
   ]
  },
  {
   "cell_type": "code",
   "execution_count": null,
   "id": "74399e04-ab81-42eb-b339-1578cf870963",
   "metadata": {},
   "outputs": [],
   "source": []
  },
  {
   "cell_type": "code",
   "execution_count": null,
   "id": "0ad2f72c-6fd9-427c-912a-4c058e22a547",
   "metadata": {},
   "outputs": [],
   "source": []
  },
  {
   "cell_type": "code",
   "execution_count": null,
   "id": "480a1bf7-e11e-4ecc-91bb-35cd5ccdd763",
   "metadata": {},
   "outputs": [],
   "source": []
  },
  {
   "cell_type": "code",
   "execution_count": null,
   "id": "fa219093-0e40-4f46-a4c3-a924b46d95be",
   "metadata": {},
   "outputs": [],
   "source": []
  },
  {
   "cell_type": "code",
   "execution_count": null,
   "id": "34faac47-d3a1-4132-82d2-07011cdee3b5",
   "metadata": {},
   "outputs": [],
   "source": []
  },
  {
   "cell_type": "code",
   "execution_count": null,
   "id": "0dc2b64f-e31a-4748-b118-09aef63c7d95",
   "metadata": {},
   "outputs": [],
   "source": []
  },
  {
   "cell_type": "code",
   "execution_count": null,
   "id": "f2e6fab5-9a40-4f64-9621-2066ab062c86",
   "metadata": {},
   "outputs": [],
   "source": []
  },
  {
   "cell_type": "code",
   "execution_count": null,
   "id": "a7cdf5e3-bb4a-43ea-aea1-dcd77c75c9c4",
   "metadata": {},
   "outputs": [],
   "source": []
  },
  {
   "cell_type": "code",
   "execution_count": null,
   "id": "27c1e1eb-c175-4279-9306-6598fe3e56d2",
   "metadata": {},
   "outputs": [],
   "source": []
  }
 ],
 "metadata": {
  "kernelspec": {
   "display_name": "Python 3 (ipykernel)",
   "language": "python",
   "name": "python3"
  },
  "language_info": {
   "codemirror_mode": {
    "name": "ipython",
    "version": 3
   },
   "file_extension": ".py",
   "mimetype": "text/x-python",
   "name": "python",
   "nbconvert_exporter": "python",
   "pygments_lexer": "ipython3",
   "version": "3.12.2"
  }
 },
 "nbformat": 4,
 "nbformat_minor": 5
}

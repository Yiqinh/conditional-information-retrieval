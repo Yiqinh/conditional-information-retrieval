{
 "cells": [
  {
   "cell_type": "code",
   "execution_count": 20,
   "metadata": {},
   "outputs": [],
   "source": [
    "import os\n",
    "import json\n",
    "import logging\n",
    "import argparse\n",
    "import torch\n"
   ]
  },
  {
   "cell_type": "code",
   "execution_count": 21,
   "metadata": {},
   "outputs": [
    {
     "name": "stdout",
     "output_type": "stream",
     "text": [
      "/Users/yiqinhuang/NLP/conditional-information-retrieval/source_retriever\n"
     ]
    }
   ],
   "source": [
    "!pwd"
   ]
  },
  {
   "cell_type": "code",
   "execution_count": 22,
   "metadata": {},
   "outputs": [],
   "source": [
    "here = \"/Users/yiqinhuang/NLP/conditional-information-retrieval/source_retriever\""
   ]
  },
  {
   "cell_type": "code",
   "execution_count": 41,
   "metadata": {},
   "outputs": [],
   "source": [
    "info_dir = os.path.join(os.path.dirname(here), \"source_summaries\", \"v2_info_parsed\")\n",
    "\n",
    "f = open(os.path.join(info_dir, \"v2_test_set.json\"))\n",
    "test_data = json.load(f)\n",
    "\n",
    "test_sources = []\n",
    "\n",
    "for article in test_data:\n",
    "    for source in article['sources']:\n",
    "        try:\n",
    "            if type(source['Information']) == str and type(source['Name']) == str:\n",
    "                formatted_source = {\"id\": article['url'] + \"#\" + source['Name'], \"text\": source['Information']}\n",
    "                test_sources.append(formatted_source)\n",
    "        except:\n",
    "            continue\n",
    "\n",
    "f = open(os.path.join(info_dir, \"v2_train_set.json\"))\n",
    "train_data = json.load(f)\n",
    "\n",
    "train_sources = []\n",
    "\n",
    "for article in train_data:\n",
    "    for source in article['sources']:\n",
    "        try:\n",
    "            if type(source['Information']) == str and type(source['Name']) == str:\n",
    "                formatted_source = {\"id\": article['url'] + \"#\" + source['Name'], \"text\": source['Information']}\n",
    "                train_sources.append(formatted_source)\n",
    "        except:\n",
    "            continue"
   ]
  },
  {
   "cell_type": "code",
   "execution_count": 42,
   "metadata": {},
   "outputs": [],
   "source": [
    "for source in train_sources:\n",
    "    if type(source['text']) != str:\n",
    "        print(source)\n",
    "        print(type(source['text']))"
   ]
  },
  {
   "cell_type": "code",
   "execution_count": 43,
   "metadata": {},
   "outputs": [],
   "source": [
    "for source in test_sources:\n",
    "    if type(source['id']) != str:\n",
    "        print(type(source['id']))"
   ]
  },
  {
   "cell_type": "code",
   "execution_count": 44,
   "metadata": {},
   "outputs": [
    {
     "name": "stdout",
     "output_type": "stream",
     "text": [
      "98103\n"
     ]
    }
   ],
   "source": [
    "print(len(test_sources))"
   ]
  },
  {
   "cell_type": "code",
   "execution_count": 45,
   "metadata": {},
   "outputs": [
    {
     "name": "stdout",
     "output_type": "stream",
     "text": [
      "391120\n"
     ]
    }
   ],
   "source": [
    "print(len(train_sources))"
   ]
  },
  {
   "cell_type": "code",
   "execution_count": null,
   "metadata": {},
   "outputs": [],
   "source": []
  }
 ],
 "metadata": {
  "language_info": {
   "name": "python"
  }
 },
 "nbformat": 4,
 "nbformat_minor": 2
}

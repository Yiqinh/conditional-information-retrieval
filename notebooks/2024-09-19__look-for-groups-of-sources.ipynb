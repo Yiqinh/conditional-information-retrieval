{
 "cells": [
  {
   "cell_type": "code",
   "execution_count": 1,
   "id": "40fc837f-80b8-4f21-a5e3-ab187d3fa295",
   "metadata": {},
   "outputs": [],
   "source": [
    "import pandas as pd \n",
    "import json"
   ]
  },
  {
   "cell_type": "code",
   "execution_count": 2,
   "id": "c3e71c9e-6acb-4c6c-a5fa-b9d849e5e65b",
   "metadata": {},
   "outputs": [],
   "source": [
    "train_queries = json.load(open('../data/v2_queries/query_train_prompt1_v2.json'))\n",
    "test_queries = json.load(open('../data/v2_queries/query_test_prompt1_v2.json'))\n",
    "train_query_df = pd.DataFrame(train_queries)\n",
    "train_query_df['split'] = 'train'\n",
    "test_query_df = pd.DataFrame(test_queries)\n",
    "test_query_df['split'] = 'test'\n",
    "full_query_df = pd.concat([train_query_df, test_query_df])"
   ]
  },
  {
   "cell_type": "code",
   "execution_count": 3,
   "id": "ef42afbb-274d-4a33-8944-b42c8e703762",
   "metadata": {},
   "outputs": [],
   "source": [
    "test_narr = json.load(open('../data/v2_narr_parsed/v2_test_set_narr.json'))\n",
    "train_narr = json.load(open('../data/v2_narr_parsed/v2_train_set_narr.json'))"
   ]
  },
  {
   "cell_type": "code",
   "execution_count": 4,
   "id": "1896e8cd-1d1f-45d1-8815-fe5c72021ba7",
   "metadata": {},
   "outputs": [],
   "source": [
    "narr_df = pd.concat([\n",
    "    pd.DataFrame(train_narr),\n",
    "    pd.DataFrame(test_narr)\n",
    "])\n",
    "source_narr_df = narr_df.explode('sources').dropna().reset_index(drop=True)\n",
    "source_narr_df = pd.concat([\n",
    "    source_narr_df[['url']],\n",
    "    source_narr_df['sources'].pipe(lambda s: pd.DataFrame(s.tolist()))\n",
    "], axis=1)"
   ]
  },
  {
   "cell_type": "code",
   "execution_count": 5,
   "id": "81d5ffc3-c6e2-4770-8297-2e63f1d9e9b8",
   "metadata": {},
   "outputs": [
    {
     "data": {
      "text/plain": [
       "{'url': 'www.fox61.com/article/news/nation-world/steps-to-limit-info-facebook-collects-about-you-and-shares-to-advertisers/507-07ea653e-e06c-4da3-935f-84a315fa1f68',\n",
       " 'Name': 'Jonathan S. Weissman',\n",
       " 'Original name': ['Jonathan S. Weissman'],\n",
       " 'Narrative function': \"Provides expert opinion on the risks of Facebook's data collection practices.\",\n",
       " 'Perspective': 'Skeptical',\n",
       " 'Centrality': 'Medium',\n",
       " 'Justification': \"Weissman's expert opinion provides a critical perspective on Facebook's data collection practices, highlighting the risks to users' privacy. His perspective is skeptical because he expresses concerns about the potential harm of Facebook's practices.\"}"
      ]
     },
     "execution_count": 5,
     "metadata": {},
     "output_type": "execute_result"
    }
   ],
   "source": [
    "source_narr_df.iloc[0].to_dict()"
   ]
  },
  {
   "cell_type": "code",
   "execution_count": null,
   "id": "47600b9e-87da-44d0-91b4-581afe6f15b2",
   "metadata": {},
   "outputs": [],
   "source": [
    "source_df_with_clusters = pd.read_csv('cache/2024-09-19__source-df-with-all-clusters.csv', index_col=0)"
   ]
  },
  {
   "cell_type": "code",
   "execution_count": null,
   "id": "b61af297-a9af-40e2-b607-b4d08f628ec2",
   "metadata": {},
   "outputs": [],
   "source": []
  },
  {
   "cell_type": "code",
   "execution_count": null,
   "id": "7575be96-b918-4287-a0b5-b9e6e609b47f",
   "metadata": {},
   "outputs": [],
   "source": []
  },
  {
   "cell_type": "code",
   "execution_count": null,
   "id": "2a3d164a-e76b-4386-b157-4f3b554c7680",
   "metadata": {},
   "outputs": [],
   "source": []
  },
  {
   "cell_type": "code",
   "execution_count": null,
   "id": "68538c06-7c2f-4ab8-b0fe-ec1aff2a3e12",
   "metadata": {},
   "outputs": [],
   "source": []
  },
  {
   "cell_type": "code",
   "execution_count": null,
   "id": "ff68e9ee-f5c1-4b94-9a76-e3fc96a555a8",
   "metadata": {},
   "outputs": [],
   "source": []
  },
  {
   "cell_type": "markdown",
   "id": "8384aa21-513a-441b-b369-4ac48cfa8391",
   "metadata": {},
   "source": [
    "# Old Work"
   ]
  },
  {
   "cell_type": "code",
   "execution_count": 9,
   "id": "67534867-4706-4d93-9821-728a7142d96a",
   "metadata": {},
   "outputs": [
    {
     "data": {
      "text/plain": [
       "{'url': 'www.theatlantic.com/sponsored/qualcomm-2016/the-space-within/768/',\n",
       " 'Name': 'Researchers',\n",
       " 'Original Name': 'researchers',\n",
       " 'Narrative Function': '\"Authority\": This source is used to provide information about the Framingham Heart Study and its findings.',\n",
       " 'cluster_descript_leaf_1': '\"Expert Endorsement\": These sources are used to provide authoritative and credible information, data, and guidance on various aspects of the COVID-19 pandemic, including vaccines, testing, public health guidelines, and pandemic control measures.',\n",
       " 'cluster_descript_leaf_2': '\"Authoritative Source\": These sources provide credible, expert-backed information and validations that lend legitimacy and reliability across various topics, enhancing the trust and accuracy of the articles they support.',\n",
       " 'cluster_descript_leaf_3': '\"Credibility Anchor\": These sources provide verified, expert-backed information that enhances the trustworthiness and reliability of the content they support.',\n",
       " 'cluster_descript_leaf_4': '\"Insightful Authority\": This label represents sources that provide comprehensive expertise, credible insights, and influential perspectives, enhancing the depth, reliability, and engagement of the content while guiding audience understanding across various topics.',\n",
       " 'cluster_descript_leaf_5': '\"Essential Source\": This label encapsulates individuals, companies, or entities that play a pivotal role in providing key information, expert insights, illustrative examples, and comprehensive analysis, crucial for enhancing reader understanding, ensuring accurate reporting, and guiding audience comprehension across various subjects.'}"
      ]
     },
     "execution_count": 9,
     "metadata": {},
     "output_type": "execute_result"
    }
   ],
   "source": [
    "(\n",
    "    source_df_with_clusters\n",
    "         .loc[lambda df: df['cluster_descript_leaf_1'] == df['cluster_descript_leaf_1'].unique()[1]]\n",
    "         .drop_duplicates('Narrative Function').iloc[0].to_dict()\n",
    ")"
   ]
  },
  {
   "cell_type": "code",
   "execution_count": 7,
   "id": "eb369877-7ba9-4df2-8ead-308055e69fe4",
   "metadata": {
    "scrolled": true
   },
   "outputs": [
    {
     "data": {
      "text/plain": [
       "cluster_descript_leaf_4\n",
       "\"Core Narrative Sources\": These sources provide key insights, credibility, context, and diverse perspectives crucial for developing, substantiating, and advancing the main narrative of the article.                                                                                           148915\n",
       "\"Extensive Context\"\\n\\n\"These sources provide in-depth background, integral details, and thorough narrative foundations that enhance the understanding of various topics and events, ensuring comprehensive insight.\"                                                                            70762\n",
       "\"Insightful Narratives\": These sources offer detailed, informative, and contextual explanations with comprehensive data and innovative solutions, enhancing reader understanding and decision-making across various subjects.                                                                    55396\n",
       "\"Nuanced Discourse\": These sources offer comparative analysis, opposing viewpoints, and critical perspectives to enhance understanding, challenge main narratives, and provide a nuanced discourse on the topics discussed.                                                                      31256\n",
       "\"Narrative Anchor\": This source is the key figure or entity in the news article whose actions, decisions, and statements are crucial in shaping and driving the story's focus and progression.                                                                                                   20324\n",
       "\"Authoritative Insights\": Authored by professionals across various fields, this source provides authoritative insights, analyses, and advice, enhancing articles with credibility, depth, and comprehensive understanding.                                                                       18821\n",
       "\"Illustrative Narratives\": These sources provide detailed instances and case studies to support points, clarify concepts, and demonstrate responses and impacts, enhancing understanding and inspiration.                                                                                        15846\n",
       "\"Narrative Enhancers\": These sources utilize vivid comparisons, comprehensive analyses, and illustrative examples to effectively explain, engage, and deepen understanding, making broader narratives more relatable and comprehensible.                                                         14458\n",
       "\"Background Context\": These sources provide narrative context, personal insights, opinions, analysis, essential background details, credibility, and affiliations, enhancing comprehensive understanding and transparency in articles.                                                           13348\n",
       "\"Detailed Narratives\": These sources include comprehensive insights, firsthand experiences, and personal accounts, providing a well-rounded perspective, credible illustrations, and context on involved parties and incidents to support arguments and highlight impacts.                        9901\n",
       "\"Expert Validation\": These sources provide reliable, expert, and official information, lending legitimacy, credibility, and validation to the narratives and arguments presented in the articles.                                                                                                 9071\n",
       "\"Leadership Perspectives\": This label captures detailed, firsthand accounts and quotes from high-ranking executives and key insiders, providing an in-depth understanding of organizational goals, strategies, and motivations.                                                                   6224\n",
       "\"Inclusive Call-to-Action\": This source encourages active involvement and participation from the audience, urging them to take proactive steps, contribute feedback, and engage with community-driven efforts, thereby fostering a sense of collective responsibility and deeper connection.      1133\n",
       "\"Illustrated Narratives\": This collection of sources uses visuals like photographs, images, and illustrations to enhance the storytelling, enriching and supporting the information presented through immersive depiction.                                                                         766\n",
       "Audience Engagement\\n\\n                                                                                                                                                                                                                                                                             82\n",
       "Name: count, dtype: int64"
      ]
     },
     "execution_count": 7,
     "metadata": {},
     "output_type": "execute_result"
    }
   ],
   "source": [
    "source_df_with_clusters['cluster_descript_leaf_4'].value_counts()#$.head(2)"
   ]
  },
  {
   "cell_type": "code",
   "execution_count": 124,
   "id": "f5bf0a6e-e218-4be4-80db-dc4f4b5fc8e7",
   "metadata": {},
   "outputs": [],
   "source": [
    "# source_narr_df[['url', 'Name', 'Perspective', 'Centrality']].merge(source_df_with_clusters, on=['url', 'Name'])"
   ]
  },
  {
   "cell_type": "code",
   "execution_count": 9,
   "id": "4baed85a-425d-4a8a-b3e9-8747fb6b98e5",
   "metadata": {},
   "outputs": [],
   "source": [
    "source_df_with_clusters_and_queries = source_df_with_clusters.merge(full_query_df)"
   ]
  },
  {
   "cell_type": "code",
   "execution_count": 15,
   "id": "41e86254-632c-44de-b709-17fa6db732b1",
   "metadata": {},
   "outputs": [
    {
     "data": {
      "text/plain": [
       "url                        blog.cleveland.com/metro/2011/01/light_snow_ca...\n",
       "Name                                                                  Police\n",
       "Original Name                                                 Police, police\n",
       "Narrative Function                                            Primary Source\n",
       "cluster_descript_leaf_1                                       Primary Source\n",
       "cluster_descript_leaf_2                                       Primary Source\n",
       "cluster_descript_leaf_3                             Primary Narrative Source\n",
       "cluster_descript_leaf_4                               Core Narrative Sources\n",
       "cluster_descript_leaf_5                                  Credible Narratives\n",
       "query                      What is the impact of a light snowfall on traf...\n",
       "split                                                                   test\n",
       "Name: 0, dtype: object"
      ]
     },
     "execution_count": 15,
     "metadata": {},
     "output_type": "execute_result"
    }
   ],
   "source": [
    "source_df_with_clusters_and_queries.iloc[0]"
   ]
  },
  {
   "cell_type": "code",
   "execution_count": 10,
   "id": "59d52b0a-f58b-481b-a40d-7d20ff442d88",
   "metadata": {},
   "outputs": [],
   "source": [
    "to_process = ['Narrative Function', 'cluster_descript_leaf_1', 'cluster_descript_leaf_2', 'cluster_descript_leaf_3', 'cluster_descript_leaf_4', 'cluster_descript_leaf_5']\n",
    "source_df_with_clusters_and_queries[to_process] = (\n",
    "    source_df_with_clusters_and_queries\n",
    "     [to_process]\n",
    "     .apply(lambda s: s.str.split(':').str.get(0).str.split('\\n\\n').str.get(0).str.strip().str.replace('\"', ''))\n",
    ")"
   ]
  },
  {
   "cell_type": "code",
   "execution_count": 11,
   "id": "4c8c90e2-e3ee-4e20-a3b2-d367cd505d81",
   "metadata": {},
   "outputs": [],
   "source": [
    "broad_clusters_categories = (\n",
    "    source_df_with_clusters_and_queries\n",
    "         .groupby('url')['cluster_descript_leaf_5']\n",
    "         .value_counts()\n",
    "         .unstack()\n",
    ")"
   ]
  },
  {
   "cell_type": "code",
   "execution_count": null,
   "id": "d8273898-1bab-436e-98d4-c26046e96294",
   "metadata": {},
   "outputs": [],
   "source": [
    "## classification problem:\n",
    "\n",
    "## input: initial query — initial summary of the story \n",
    "## predict: multilabel output of the different source-categories\n",
    "\n",
    "\n",
    "## process —\n",
    "##    start with your query\n",
    "##    planner tells you what KINDS of sources you need\n",
    "##    execute query 1\n",
    "##       you determine that you filled \"Central Figure\" category of source\n",
    "##       your planner tells you you still need an \"Enriched Narratives\" category of source\n",
    "##    this helps you formulate/execute a better followup/interleaving query\n",
    "## -> can we make an HMM or Graph neural network to predict this?\n",
    "\n",
    "## directly sample from the distribution of discourse labels?\n",
    "##    slightly more advanced - use kmeans clustering to cluster 5-6 clusters of different story types and then try to assign \n",
    "##    stories to each cluster"
   ]
  },
  {
   "cell_type": "code",
   "execution_count": null,
   "id": "f87d82ff-43d2-4a5c-b7c7-8fb4751534a7",
   "metadata": {},
   "outputs": [],
   "source": []
  },
  {
   "cell_type": "code",
   "execution_count": 192,
   "id": "3f8b7b26-b64c-490f-ac54-69cca37fe02c",
   "metadata": {},
   "outputs": [
    {
     "data": {
      "text/plain": [
       "{'url': 'www.vice.com/en/article/jg8743/facebook-spending-dollar50m-rese-to-not-ruin-metaverse-like-it-ruined-the-real-world',\n",
       " 'query': 'Can a company like Facebook, with a history of contributing to real-world problems, be trusted to responsibly develop a virtual world like the metaverse?',\n",
       " 'split': 'train'}"
      ]
     },
     "execution_count": 192,
     "metadata": {},
     "output_type": "execute_result"
    }
   ],
   "source": [
    "train_query_df.iloc[0].to_dict()"
   ]
  },
  {
   "cell_type": "code",
   "execution_count": 190,
   "id": "63765a86-ffcb-4f2e-a0cf-0dc6cdc7d4fe",
   "metadata": {},
   "outputs": [
    {
     "data": {
      "text/html": [
       "<div>\n",
       "<style scoped>\n",
       "    .dataframe tbody tr th:only-of-type {\n",
       "        vertical-align: middle;\n",
       "    }\n",
       "\n",
       "    .dataframe tbody tr th {\n",
       "        vertical-align: top;\n",
       "    }\n",
       "\n",
       "    .dataframe thead th {\n",
       "        text-align: right;\n",
       "    }\n",
       "</style>\n",
       "<table border=\"1\" class=\"dataframe\">\n",
       "  <thead>\n",
       "    <tr style=\"text-align: right;\">\n",
       "      <th>cluster_descript_leaf_5</th>\n",
       "      <th>Central Figure</th>\n",
       "      <th>Contextual Narratives</th>\n",
       "      <th>Credible Narratives</th>\n",
       "      <th>Critical Analysis</th>\n",
       "      <th>Enriched Narratives</th>\n",
       "      <th>User Interaction</th>\n",
       "    </tr>\n",
       "    <tr>\n",
       "      <th>url</th>\n",
       "      <th></th>\n",
       "      <th></th>\n",
       "      <th></th>\n",
       "      <th></th>\n",
       "      <th></th>\n",
       "      <th></th>\n",
       "    </tr>\n",
       "  </thead>\n",
       "  <tbody>\n",
       "    <tr>\n",
       "      <th>www.fox23.com/news/trending/teacher-appreciation-week-2021-deals-freebies-educators/SOQPCHBO3JAC3MXNVHGY3IFYHM/</th>\n",
       "      <td>NaN</td>\n",
       "      <td>NaN</td>\n",
       "      <td>2.0</td>\n",
       "      <td>NaN</td>\n",
       "      <td>24.0</td>\n",
       "      <td>NaN</td>\n",
       "    </tr>\n",
       "    <tr>\n",
       "      <th>www.chron.com/life/pets/article/New-website-guesses-what-dog-breed-you-are-6842859.php</th>\n",
       "      <td>NaN</td>\n",
       "      <td>NaN</td>\n",
       "      <td>NaN</td>\n",
       "      <td>NaN</td>\n",
       "      <td>24.0</td>\n",
       "      <td>NaN</td>\n",
       "    </tr>\n",
       "    <tr>\n",
       "      <th>www.usatoday.com/story/travel/flights/todayinthesky/2017/09/11/irma-snarling-flights-five-major-airline-hubs-all-once/653483001/</th>\n",
       "      <td>NaN</td>\n",
       "      <td>NaN</td>\n",
       "      <td>1.0</td>\n",
       "      <td>NaN</td>\n",
       "      <td>22.0</td>\n",
       "      <td>NaN</td>\n",
       "    </tr>\n",
       "    <tr>\n",
       "      <th>www.theguardian.com/technology/2014/feb/12/10-things-to-know-about-lifelogging</th>\n",
       "      <td>NaN</td>\n",
       "      <td>NaN</td>\n",
       "      <td>2.0</td>\n",
       "      <td>NaN</td>\n",
       "      <td>21.0</td>\n",
       "      <td>NaN</td>\n",
       "    </tr>\n",
       "    <tr>\n",
       "      <th>www.cbsnews.com/miami/news/a-guide-to-veterans-day-2020-deals-and-freebies/</th>\n",
       "      <td>NaN</td>\n",
       "      <td>NaN</td>\n",
       "      <td>1.0</td>\n",
       "      <td>NaN</td>\n",
       "      <td>21.0</td>\n",
       "      <td>NaN</td>\n",
       "    </tr>\n",
       "    <tr>\n",
       "      <th>...</th>\n",
       "      <td>...</td>\n",
       "      <td>...</td>\n",
       "      <td>...</td>\n",
       "      <td>...</td>\n",
       "      <td>...</td>\n",
       "      <td>...</td>\n",
       "    </tr>\n",
       "    <tr>\n",
       "      <th>wwwrm1.ansa.it/pressrelease/canale_salute_benessere/index.shtml</th>\n",
       "      <td>NaN</td>\n",
       "      <td>NaN</td>\n",
       "      <td>1.0</td>\n",
       "      <td>NaN</td>\n",
       "      <td>NaN</td>\n",
       "      <td>NaN</td>\n",
       "    </tr>\n",
       "    <tr>\n",
       "      <th>y108.cbslocal.com/2014/07/23/luke-bryan-to-honor-u-s-troops-with-free-tickets-to-chicago-concert/</th>\n",
       "      <td>1.0</td>\n",
       "      <td>NaN</td>\n",
       "      <td>1.0</td>\n",
       "      <td>NaN</td>\n",
       "      <td>NaN</td>\n",
       "      <td>NaN</td>\n",
       "    </tr>\n",
       "    <tr>\n",
       "      <th>youpix.virgula.uol.com.br/app/os-114-aplicativos-mais-uteis-pra-voce-baixar-agora/</th>\n",
       "      <td>1.0</td>\n",
       "      <td>1.0</td>\n",
       "      <td>11.0</td>\n",
       "      <td>1.0</td>\n",
       "      <td>NaN</td>\n",
       "      <td>NaN</td>\n",
       "    </tr>\n",
       "    <tr>\n",
       "      <th>yourvoicematters.news.blog/</th>\n",
       "      <td>NaN</td>\n",
       "      <td>NaN</td>\n",
       "      <td>10.0</td>\n",
       "      <td>NaN</td>\n",
       "      <td>NaN</td>\n",
       "      <td>NaN</td>\n",
       "    </tr>\n",
       "    <tr>\n",
       "      <th>yourvoicematters.news.blog/2019/06/07/the-cost-of-silence/</th>\n",
       "      <td>NaN</td>\n",
       "      <td>NaN</td>\n",
       "      <td>4.0</td>\n",
       "      <td>1.0</td>\n",
       "      <td>NaN</td>\n",
       "      <td>NaN</td>\n",
       "    </tr>\n",
       "  </tbody>\n",
       "</table>\n",
       "<p>46296 rows × 6 columns</p>\n",
       "</div>"
      ],
      "text/plain": [
       "cluster_descript_leaf_5                             Central Figure  \\\n",
       "url                                                                  \n",
       "www.fox23.com/news/trending/teacher-appreciatio...             NaN   \n",
       "www.chron.com/life/pets/article/New-website-gue...             NaN   \n",
       "www.usatoday.com/story/travel/flights/todayinth...             NaN   \n",
       "www.theguardian.com/technology/2014/feb/12/10-t...             NaN   \n",
       "www.cbsnews.com/miami/news/a-guide-to-veterans-...             NaN   \n",
       "...                                                            ...   \n",
       "wwwrm1.ansa.it/pressrelease/canale_salute_benes...             NaN   \n",
       "y108.cbslocal.com/2014/07/23/luke-bryan-to-hono...             1.0   \n",
       "youpix.virgula.uol.com.br/app/os-114-aplicativo...             1.0   \n",
       "yourvoicematters.news.blog/                                    NaN   \n",
       "yourvoicematters.news.blog/2019/06/07/the-cost-...             NaN   \n",
       "\n",
       "cluster_descript_leaf_5                             Contextual Narratives  \\\n",
       "url                                                                         \n",
       "www.fox23.com/news/trending/teacher-appreciatio...                    NaN   \n",
       "www.chron.com/life/pets/article/New-website-gue...                    NaN   \n",
       "www.usatoday.com/story/travel/flights/todayinth...                    NaN   \n",
       "www.theguardian.com/technology/2014/feb/12/10-t...                    NaN   \n",
       "www.cbsnews.com/miami/news/a-guide-to-veterans-...                    NaN   \n",
       "...                                                                   ...   \n",
       "wwwrm1.ansa.it/pressrelease/canale_salute_benes...                    NaN   \n",
       "y108.cbslocal.com/2014/07/23/luke-bryan-to-hono...                    NaN   \n",
       "youpix.virgula.uol.com.br/app/os-114-aplicativo...                    1.0   \n",
       "yourvoicematters.news.blog/                                           NaN   \n",
       "yourvoicematters.news.blog/2019/06/07/the-cost-...                    NaN   \n",
       "\n",
       "cluster_descript_leaf_5                             Credible Narratives  \\\n",
       "url                                                                       \n",
       "www.fox23.com/news/trending/teacher-appreciatio...                  2.0   \n",
       "www.chron.com/life/pets/article/New-website-gue...                  NaN   \n",
       "www.usatoday.com/story/travel/flights/todayinth...                  1.0   \n",
       "www.theguardian.com/technology/2014/feb/12/10-t...                  2.0   \n",
       "www.cbsnews.com/miami/news/a-guide-to-veterans-...                  1.0   \n",
       "...                                                                 ...   \n",
       "wwwrm1.ansa.it/pressrelease/canale_salute_benes...                  1.0   \n",
       "y108.cbslocal.com/2014/07/23/luke-bryan-to-hono...                  1.0   \n",
       "youpix.virgula.uol.com.br/app/os-114-aplicativo...                 11.0   \n",
       "yourvoicematters.news.blog/                                        10.0   \n",
       "yourvoicematters.news.blog/2019/06/07/the-cost-...                  4.0   \n",
       "\n",
       "cluster_descript_leaf_5                             Critical Analysis  \\\n",
       "url                                                                     \n",
       "www.fox23.com/news/trending/teacher-appreciatio...                NaN   \n",
       "www.chron.com/life/pets/article/New-website-gue...                NaN   \n",
       "www.usatoday.com/story/travel/flights/todayinth...                NaN   \n",
       "www.theguardian.com/technology/2014/feb/12/10-t...                NaN   \n",
       "www.cbsnews.com/miami/news/a-guide-to-veterans-...                NaN   \n",
       "...                                                               ...   \n",
       "wwwrm1.ansa.it/pressrelease/canale_salute_benes...                NaN   \n",
       "y108.cbslocal.com/2014/07/23/luke-bryan-to-hono...                NaN   \n",
       "youpix.virgula.uol.com.br/app/os-114-aplicativo...                1.0   \n",
       "yourvoicematters.news.blog/                                       NaN   \n",
       "yourvoicematters.news.blog/2019/06/07/the-cost-...                1.0   \n",
       "\n",
       "cluster_descript_leaf_5                             Enriched Narratives  \\\n",
       "url                                                                       \n",
       "www.fox23.com/news/trending/teacher-appreciatio...                 24.0   \n",
       "www.chron.com/life/pets/article/New-website-gue...                 24.0   \n",
       "www.usatoday.com/story/travel/flights/todayinth...                 22.0   \n",
       "www.theguardian.com/technology/2014/feb/12/10-t...                 21.0   \n",
       "www.cbsnews.com/miami/news/a-guide-to-veterans-...                 21.0   \n",
       "...                                                                 ...   \n",
       "wwwrm1.ansa.it/pressrelease/canale_salute_benes...                  NaN   \n",
       "y108.cbslocal.com/2014/07/23/luke-bryan-to-hono...                  NaN   \n",
       "youpix.virgula.uol.com.br/app/os-114-aplicativo...                  NaN   \n",
       "yourvoicematters.news.blog/                                         NaN   \n",
       "yourvoicematters.news.blog/2019/06/07/the-cost-...                  NaN   \n",
       "\n",
       "cluster_descript_leaf_5                             User Interaction  \n",
       "url                                                                   \n",
       "www.fox23.com/news/trending/teacher-appreciatio...               NaN  \n",
       "www.chron.com/life/pets/article/New-website-gue...               NaN  \n",
       "www.usatoday.com/story/travel/flights/todayinth...               NaN  \n",
       "www.theguardian.com/technology/2014/feb/12/10-t...               NaN  \n",
       "www.cbsnews.com/miami/news/a-guide-to-veterans-...               NaN  \n",
       "...                                                              ...  \n",
       "wwwrm1.ansa.it/pressrelease/canale_salute_benes...               NaN  \n",
       "y108.cbslocal.com/2014/07/23/luke-bryan-to-hono...               NaN  \n",
       "youpix.virgula.uol.com.br/app/os-114-aplicativo...               NaN  \n",
       "yourvoicematters.news.blog/                                      NaN  \n",
       "yourvoicematters.news.blog/2019/06/07/the-cost-...               NaN  \n",
       "\n",
       "[46296 rows x 6 columns]"
      ]
     },
     "execution_count": 190,
     "metadata": {},
     "output_type": "execute_result"
    }
   ],
   "source": [
    "broad_clusters_categories.sort_values('Enriched Narratives', ascending=False)"
   ]
  },
  {
   "cell_type": "code",
   "execution_count": 175,
   "id": "a30565c8-5784-4ea2-b263-2eb9c71f541c",
   "metadata": {},
   "outputs": [],
   "source": [
    "training_data = (\n",
    "    broad_clusters_categories\n",
    "        .fillna(0)\n",
    "        .pipe(lambda df: (df > 0).astype(float))\n",
    "        .merge(full_query_df, right_on='url', left_index=True, how='left')\n",
    ")\n",
    "#.pipe(lambda df: df.divide(df.sum(axis=1), axis=0))#.sort_values('Contextual Narratives', ascending=False))"
   ]
  },
  {
   "cell_type": "markdown",
   "id": "1f17b38c-6359-4999-b1fc-6a5e7ed98d70",
   "metadata": {},
   "source": [
    "# Train BERT Classifier"
   ]
  },
  {
   "cell_type": "code",
   "execution_count": 182,
   "id": "bf59c7fb-963a-4e1c-99c6-abb569d9e87b",
   "metadata": {},
   "outputs": [],
   "source": [
    "training_data.to_csv('../narrative_function/bert_training_data.csv')"
   ]
  },
  {
   "cell_type": "code",
   "execution_count": null,
   "id": "a2fad51c-6441-4034-b315-cee61acfcee6",
   "metadata": {},
   "outputs": [],
   "source": []
  },
  {
   "cell_type": "code",
   "execution_count": null,
   "id": "86b0e506-e93e-47c1-b736-0c815198c092",
   "metadata": {},
   "outputs": [],
   "source": []
  },
  {
   "cell_type": "code",
   "execution_count": null,
   "id": "928ac541-6b32-489c-8f85-198d75c53d92",
   "metadata": {},
   "outputs": [],
   "source": []
  },
  {
   "cell_type": "code",
   "execution_count": null,
   "id": "a0b4c606-e067-4416-b79d-a1ca6264d926",
   "metadata": {},
   "outputs": [],
   "source": []
  },
  {
   "cell_type": "code",
   "execution_count": null,
   "id": "0d1a6c18-7c93-458e-bf6c-1c478e8bd95c",
   "metadata": {},
   "outputs": [],
   "source": []
  }
 ],
 "metadata": {
  "kernelspec": {
   "display_name": "Python 3 (ipykernel)",
   "language": "python",
   "name": "python3"
  },
  "language_info": {
   "codemirror_mode": {
    "name": "ipython",
    "version": 3
   },
   "file_extension": ".py",
   "mimetype": "text/x-python",
   "name": "python",
   "nbconvert_exporter": "python",
   "pygments_lexer": "ipython3",
   "version": "3.12.2"
  }
 },
 "nbformat": 4,
 "nbformat_minor": 5
}
